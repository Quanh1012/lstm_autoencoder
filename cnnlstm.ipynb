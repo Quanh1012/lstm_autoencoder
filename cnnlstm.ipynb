{
 "cells": [
  {
   "cell_type": "code",
   "execution_count": 1,
   "id": "75b547f8",
   "metadata": {},
   "outputs": [
    {
     "name": "stderr",
     "output_type": "stream",
     "text": [
      "\u001b[34m\u001b[1mwandb\u001b[0m: Currently logged in as: \u001b[33mmaiquanh\u001b[0m. Use \u001b[1m`wandb login --relogin`\u001b[0m to force relogin\n"
     ]
    },
    {
     "data": {
      "text/plain": [
       "True"
      ]
     },
     "execution_count": 1,
     "metadata": {},
     "output_type": "execute_result"
    }
   ],
   "source": [
    "import wandb\n",
    "wandb.login()"
   ]
  },
  {
   "cell_type": "code",
   "execution_count": 2,
   "id": "0bac34f0",
   "metadata": {},
   "outputs": [],
   "source": [
    "import numpy as np\n",
    "import pandas as pd\n",
    "import torch.nn as nn\n",
    "\n",
    "import pickle\n",
    "import torch\n",
    "import time\n",
    "import copy\n",
    "import sys\n",
    "import time\n",
    "import os\n",
    "from torch import optim\n",
    "from torch.utils.data import Dataset\n",
    "from torch.utils.data.dataloader import DataLoader"
   ]
  },
  {
   "cell_type": "code",
   "execution_count": 3,
   "id": "29ce5467",
   "metadata": {},
   "outputs": [],
   "source": [
    "import yaml\n",
    "config_wbd = {}\n",
    "with open('sweep.yml', 'r') as f:\n",
    "    config_wdb = yaml.safe_load(f)"
   ]
  },
  {
   "cell_type": "code",
   "execution_count": 4,
   "id": "9fd8da52",
   "metadata": {},
   "outputs": [
    {
     "data": {
      "text/plain": [
       "{'method': 'bayes',\n",
       " 'metric': {'goal': 'maximize', 'name': 'val_acc'},\n",
       " 'parameters': {'batch_size': {'value': 128},\n",
       "  'd_hidden': {'value': 3},\n",
       "  'kernel_size_1': {'distribution': 'int_uniform', 'min': 50, 'max': 100},\n",
       "  'kernel_size_2': {'distribution': 'int_uniform', 'min': 3, 'max': 11},\n",
       "  'maxpool_1': {'distribution': 'int_uniform', 'min': 3, 'max': 8},\n",
       "  'maxpool_2': {'distribution': 'int_uniform', 'min': 3, 'max': 8},\n",
       "  'stride_1': {'distribution': 'int_uniform', 'min': 3, 'max': 9},\n",
       "  'stride_2': {'distribution': 'int_uniform', 'min': 3, 'max': 9},\n",
       "  'num_epoch': {'distribution': 'int_uniform', 'min': 80, 'max': 100},\n",
       "  'num_filters': {'distribution': 'int_uniform', 'min': 16, 'max': 64},\n",
       "  'num_layers': {'distribution': 'int_uniform', 'min': 2, 'max': 4},\n",
       "  'lr': {'distribution': 'log_uniform_values', 'min': 0.0001, 'max': 0.005},\n",
       "  'weight_decay': {'distribution': 'log_uniform_values',\n",
       "   'min': 0.0001,\n",
       "   'max': 0.0003},\n",
       "  'dropout': {'distribution': 'uniform', 'min': 0.1, 'max': 0.2},\n",
       "  'data_dir': {'value': '/home/quanhhh/Documents/model/pickle/'},\n",
       "  'result_dir': {'value': '/home/quanhhh/Documents/model/result_wandb/'}}}"
      ]
     },
     "execution_count": 4,
     "metadata": {},
     "output_type": "execute_result"
    }
   ],
   "source": [
    "config_wdb"
   ]
  },
  {
   "cell_type": "code",
   "execution_count": 5,
   "id": "11d0db0a",
   "metadata": {},
   "outputs": [],
   "source": [
    "#dataloader\n",
    "# import numpy as np\n",
    "# import pickle\n",
    "# from torch.utils.data import Dataset\n",
    "\n",
    "class CustomDataset(Dataset):\n",
    "    def __init__(self, config, path, mode='train'):\n",
    "        super().__init__()\n",
    "        self.config = config\n",
    "        self.mode = mode\n",
    "        self.path = path\n",
    "        self.load_dataset()\n",
    "    \n",
    "    def __len__(self):\n",
    "        return self.data_.shape[0]\n",
    "    \n",
    "    def __getitem__(self, index):\n",
    "        if self.mode == 'test':\n",
    "            return self.data_[index]\n",
    "        else:\n",
    "            return {'input':self.data_[index], \n",
    "                    'labels': self.labels[index]}\n",
    "    \n",
    "    def load_dataset(self):\n",
    "        data = {}\n",
    "        path_ = self.config['data_dir'] + self.path\n",
    "        if self.mode != 'test':\n",
    "            with np.load(path_, 'rb') as f:\n",
    "                data['train'] = f['data']\n",
    "                data['labels'] = f['labels']\n",
    "            \n",
    "            self.data_ = data['train'].transpose(0,2,1)\n",
    "            self.labels = data['labels']\n",
    "        else:\n",
    "            \n",
    "            with np.load(path_, 'rb') as f:\n",
    "                data = f['data']\n",
    "            \n",
    "            self.data_ = data.tranpose(0,2,1)\n",
    "    def get_lenght(self):\n",
    "        return self.lenght\n",
    "            "
   ]
  },
  {
   "cell_type": "markdown",
   "id": "ceece34c",
   "metadata": {},
   "source": [
    "# Model"
   ]
  },
  {
   "cell_type": "code",
   "execution_count": 6,
   "id": "1ad4ea48",
   "metadata": {},
   "outputs": [],
   "source": [
    "#model\n",
    "# import torch.nn as nn\n",
    "class Conv_lstm(nn.Module):\n",
    "    def __init__(self, l_data, num_filters, kernel_size, strides, maxpooling, d_hidden, num_layers, dropout=0.1):\n",
    "        super().__init__()\n",
    "        self.l_data = l_data\n",
    "        self.num_filters = num_filters\n",
    "        self.kernel_size = kernel_size\n",
    "        self.strides = strides\n",
    "        self.d_hidden = d_hidden\n",
    "        self.num_layers = num_layers\n",
    "        self.dropout = dropout\n",
    "\n",
    "        self.conv1 = nn.Conv1d(1, self.num_filters, self.kernel_size[0],self.strides[0])\n",
    "        nn.init.xavier_uniform_(self.conv1.weight)\n",
    "        nn.init.zeros_(self.conv1.bias)\n",
    "        \n",
    "        d_model1 = int((self.l_data - self.kernel_size[0])/self.strides[0] + 1)\n",
    "        d_model2 = int((d_model1 - maxpooling[0])/maxpooling[0] + 1)\n",
    "        \n",
    "        self.conv2 = nn.Conv1d(self.num_filters, self.num_filters, self.kernel_size[1], self.strides[1])\n",
    "        nn.init.xavier_uniform_(self.conv2.weight)\n",
    "        nn.init.zeros_(self.conv2.bias)\n",
    "        \n",
    "        d_model3 = int((d_model2 - self.kernel_size[1])/self.strides[1] + 1)\n",
    "        \n",
    "        self.f_activation1 = nn.ReLU()\n",
    "        self.f_activation2 = nn.ReLU()\n",
    "        \n",
    "        self.batchNorm1 = nn.BatchNorm1d(num_features=self.num_filters) # momentum=0.99\n",
    "        self.batchNorm2 = nn.BatchNorm1d(num_features=self.num_filters)\n",
    "        \n",
    "        self.maxpooling1 = nn.MaxPool1d(maxpooling[0])\n",
    "        self.maxpooling2 = nn.MaxPool1d(maxpooling[1])\n",
    "        \n",
    "        d_model4 = int((d_model3 - maxpooling[1])/maxpooling[1] + 1)\n",
    "        \n",
    "        self.lstm = nn.LSTM(d_model4, self.d_hidden, self.num_layers, batch_first=True, dropout=self.dropout)\n",
    "        self.softmax = nn.Softmax(dim=1)\n",
    "    \n",
    "    def forward(self, x):\n",
    "        \n",
    "        #layer1\n",
    "        self.conv1_out = self.conv1(x)\n",
    "        self.conv1relu_out = self.f_activation1(self.conv1_out)\n",
    "        \n",
    "        #layer2\n",
    "        self.maxpooling1_out = self.maxpooling1(self.conv1relu_out)\n",
    "        self.batchNorm1_out = self.batchNorm1(self.maxpooling1_out )\n",
    "        \n",
    "        self.conv2_out = self.conv2(self.maxpooling1_out)\n",
    "        self.conv2relu_out = self.f_activation2(self.conv2_out)\n",
    "        \n",
    "        #layer3\n",
    "        self.maxpooling2_out = self.maxpooling2(self.conv2relu_out)\n",
    "        self.batchNorm2_out = self.batchNorm2(self.maxpooling2_out)\n",
    "        \n",
    "        #layer4\n",
    "        h_c = self.init_hidden(len(self.batchNorm2_out))\n",
    "        self.out, (_, _) = self.lstm(self.batchNorm2_out, h_c)\n",
    "        return self.softmax(self.out[:, -1, :])\n",
    "            \n",
    "    def init_hidden(self, batch_size):\n",
    "        weight = next(self.lstm.parameters()).data\n",
    "        \n",
    "        hidden = weight.new(self.num_layers, batch_size, self.d_hidden).zero_()        \n",
    "        cell = weight.new(self.num_layers, batch_size, self.d_hidden).zero_()\n",
    "        \n",
    "        return (hidden, cell)\n",
    "    def get_output_per_layer(self):\n",
    "        return {\n",
    "                'conv1_relu': self.conv1relu_out,\n",
    "                'batchNorm1': self.batchNorm1_out,\n",
    "                'maxpooling1': self.maxpooling1_out,\n",
    "                'conv2_relu': self.conv2relu_out,\n",
    "                'batchNorm2': self.batchNorm2_out,\n",
    "                'maxpooling2': self.maxpooling2_out,\n",
    "                'lstm': self.out\n",
    "            }\n",
    "        "
   ]
  },
  {
   "cell_type": "markdown",
   "id": "99a06853",
   "metadata": {},
   "source": [
    "# Train"
   ]
  },
  {
   "cell_type": "code",
   "execution_count": 7,
   "id": "36910b17",
   "metadata": {},
   "outputs": [],
   "source": [
    "# import pandas as pd\n",
    "# import numpy as np\n",
    "# import torch\n",
    "# import torch.nn as nn\n",
    "# from torch import optim\n",
    "# import time\n",
    "# import copy\n",
    "\n",
    "class ClassificationTrainer():\n",
    "    def __init__(self, model, train_data, val_data, val_set, device, config):\n",
    "        self.model = model\n",
    "    \n",
    "        self.train_data = train_data\n",
    "        self.val_data = val_data\n",
    "        self.val_set = val_set\n",
    "        self.device = device\n",
    "        self.config = config\n",
    "        self.max_acc = 95.67\n",
    "        self.max_val = 0\n",
    "        self.train_loss_list = list()\n",
    "        self.test_loss_list = list()\n",
    "        self.train_acc_list = list()\n",
    "        self.test_acc_list = list()\n",
    "        self.val_acc_list = list()\n",
    "        self.best_epoch = 0\n",
    "        self.best_model = None\n",
    "        self.path = self.config['result_dir'] + \"buzz2_model_{}num_layers_{}filters_({},{})kernel_size_({},{})stride_({},{})maxpool_{}lr_{}epoch_{}batch_size.pt\".format(\n",
    "            self.config['num_layers'],\n",
    "            self.config['num_filters'],\n",
    "            self.config[\"kernel_size_1\"],\n",
    "            self.config[\"kernel_size_2\"],\n",
    "            self.config[\"stride_1\"],\n",
    "            self.config[\"stride_2\"],\n",
    "            self.config[\"maxpool_1\"],\n",
    "            self.config[\"maxpool_2\"],\n",
    "            self.config['lr'],\n",
    "            self.config['num_epoch'],\n",
    "            self.config['batch_size']\n",
    "        )\n",
    "    \n",
    "    def train_epoch(self, criterion, opt, epoch):\n",
    "        train_loss = 0.0\n",
    "        train_acc = 0.0\n",
    "        self.model.train()\n",
    "        lenght = 0\n",
    "#         print('Training epoch: ', epoch)\n",
    "        for i, data in enumerate(self.train_data):\n",
    "            input = data['input'].float().to(self.device)            \n",
    "            target = data['labels'].float().to(self.device)\n",
    "            out = self.model(input)\n",
    "            lenght += len(input)\n",
    "            opt.zero_grad()\n",
    "            loss = criterion(out, target)\n",
    "            loss.backward()\n",
    "            opt.step()\n",
    "            train_loss += loss.item()\n",
    "            \n",
    "        \n",
    "        self.model.eval()\n",
    "        with torch.no_grad():\n",
    "            for i, data in enumerate(self.train_data):\n",
    "                input = data['input'].float().to(self.device)            \n",
    "                target = data['labels'].float().to(self.device)\n",
    "                \n",
    "                out = self.model(input)\n",
    "                \n",
    "                classes = torch.argmax(out, axis=1)\n",
    "                target_ = torch.argmax(target, axis=1)\n",
    "            \n",
    "                train_acc += torch.sum(classes == target_)\n",
    "        self.train_loss = train_loss/lenght\n",
    "        self.train_acc = train_acc.item()*100/lenght\n",
    "        self.train_loss_list.append(self.train_loss)\n",
    "        self.train_acc_list.append(self.train_acc)\n",
    "        \n",
    "        \n",
    "#         print('\\nEpoch: {}\\t| Train_loss: {:.6f}\\t|Train accuracy: {:.6f}'.format(epoch, self.train_loss, train_acc))\n",
    "        if self.val_data is None:\n",
    "            if train_loss < self.min_loss:\n",
    "                self.min_loss = train_loss\n",
    "                self.best_epoch = epoch\n",
    "        else:\n",
    "            self.validate_epoch(criterion, opt, epoch)\n",
    "        \n",
    "    def validate_epoch(self, criterion, opt, epoch):\n",
    "        test_loss = 0.0\n",
    "        test_acc = 0.\n",
    "        val_acc = 0.0\n",
    "        lenght = 0\n",
    "        self.model.eval()\n",
    "        with torch.no_grad():\n",
    "            for i, data in enumerate(self.val_data):\n",
    "                input = data['input'].float().to(self.device)\n",
    "                target = data['labels'].float().to(self.device)\n",
    "                \n",
    "                out = self.model(input)\n",
    "                \n",
    "                lenght += len(input)\n",
    "                classes = torch.argmax(out, axis=1)\n",
    "                target_ = torch.argmax(target, axis=1)\n",
    "                test_acc += torch.sum(classes == target_)\n",
    "                loss = criterion(out, target)\n",
    "                test_loss += loss.item()\n",
    "            \n",
    "            for i, data in enumerate(self.val_set):\n",
    "                input = data['input'].float().to(self.device)\n",
    "                target = data['labels'].float().to(self.device)\n",
    "                \n",
    "                out = self.model(input)\n",
    "                classes = torch.argmax(out, axis=1)\n",
    "                target_ = torch.argmax(target, axis=1)\n",
    "                \n",
    "                val_acc += torch.sum(classes == target_)\n",
    "            \n",
    "        val_acc = val_acc*100/3000    \n",
    "        self.val_acc_list.append(val_acc)\n",
    "        test_loss = test_loss/lenght\n",
    "        test_acc = test_acc.item()*100/lenght\n",
    "        self.test_loss_list.append(test_loss)\n",
    "        self.test_acc_list.append(test_acc)\n",
    "        print('\\rEpoch: {}\\t| Train_loss: {:.6f}\\t|Train accuracy: {:.6f}\\t| Test_loss: {:.6f}\\t|Test accuracy: {:.6f}\\t|Val accuracy: {:.6f} '.format(epoch, self.train_loss, self.train_acc, test_loss, test_acc, val_acc), end=\"\\r\") \n",
    "        if epoch == self.config['num_epoch']:\n",
    "            self.config['val_acc'] = val_acc\n",
    "        wandb.log({'train_loss': self.train_loss, 'test_loss': test_loss})\n",
    "        if val_acc > self.max_val: #and test_acc > self.max_acc:\n",
    "            self.max_val = val_acc\n",
    "            self.best_epoch = epoch\n",
    "        # if test_acc > 95.67:\n",
    "            self.best_model_path = self.config['result_dir'] + \"buzz2_model_{}num_layers_{}filters_({},{})kernel_size_({},{})stride_({},{})maxpool_{}lr_{}epoch_{}batch_size.pt\".format(\n",
    "                self.config['num_layers'],\n",
    "                self.config['num_filters'],\n",
    "                self.config[\"kernel_size_1\"],\n",
    "                self.config[\"kernel_size_2\"],\n",
    "                self.config[\"stride_1\"],\n",
    "                self.config[\"stride_2\"],\n",
    "                self.config[\"maxpool_1\"],\n",
    "                self.config[\"maxpool_2\"],\n",
    "                self.config['lr'],\n",
    "                epoch,\n",
    "                self.config['batch_size']\n",
    "            )\n",
    "            self.best_model = copy.deepcopy(self.model)\n",
    "    def train(self):\n",
    "        \n",
    "        self.model.to(self.device)  \n",
    "        \n",
    "        start = time.perf_counter()\n",
    "        model_opt = optim.Adam(self.model.parameters(), self.config['lr'], weight_decay = self.config['weight_decay'])\n",
    "        criterion = nn.CrossEntropyLoss()\n",
    "        print(\"-----START TRAINING CLASSIFICATION-----\")\n",
    "        for epoch in range(1, self.config['num_epoch'] + 1):\n",
    "            self.train_epoch(criterion, model_opt, epoch)  \n",
    "        self.config['train_time'] = (time.perf_counter() - start)/60\n",
    "        print(\"\\n\")\n",
    "        print(\"----COMPLETED TRAINING CLASSIFICATION-----\")\n",
    "        self.config[\"best_epoch\"] = self.best_epoch\n",
    "        print('val_acc', self.config['val_acc'])\n",
    "        self.config['val_acc'] = self.max_val\n",
    "        wandb.config.val_acc = self.max_val\n",
    "        torch.save(self.model.state_dict(), self.path)\n",
    "        if self.best_model is not None:\n",
    "            torch.save(self.best_model.state_dict(), self.best_model_path)\n",
    "        self.config['best_model_path'] = self.best_model_path\n",
    "        self.config['train_loss'] = self.train_loss_list\n",
    "        self.config['train_acc'] = self.train_acc_list\n",
    "        self.config['test_loss'] = self.test_loss_list\n",
    "        self.config['test_accuracy'] = self.test_acc_list\n",
    "        self.config['model_path'] = self.path \n",
    "#         self.config['val_acc'] = self.val_acc_list[-1]\n",
    "        # self.save_loss()\n",
    "\n",
    "    def get_updated_config(self):\n",
    "        return self.config\n",
    "    \n",
    "    def load_model(self, path = None):\n",
    "#         if path is None:\n",
    "#             path = self.config['result_dir'] + \"model.pt\"\n",
    "        self.model.load_state_dict(torch.load(path))\n",
    "        self.model.eval()        \n",
    "      "
   ]
  },
  {
   "cell_type": "markdown",
   "id": "a1b8dcd2",
   "metadata": {},
   "source": [
    "# Train.py"
   ]
  },
  {
   "cell_type": "code",
   "execution_count": 10,
   "id": "40727418",
   "metadata": {},
   "outputs": [],
   "source": [
    "import torch\n",
    "import sys\n",
    "import time\n",
    "import numpy as np\n",
    "import pandas as pd\n",
    "\n",
    "from torch.utils.data.dataloader import DataLoader\n",
    "\n",
    "\n",
    "device = torch.device(\"cuda:0\" if torch.cuda.is_available() else \"cpu\") \n",
    "\n",
    "def trainwandb():\n",
    "    with wandb.init(config=config_wbd):\n",
    "        config = wandb.config\n",
    "        # train_set = CustomDataset(config, 'buzz1_train_data.npz')\n",
    "\n",
    "        # data_dataloader = DataLoader(train_set, \n",
    "        #                               batch_size = 128,\n",
    "        #                               shuffle = True)\n",
    "        # train_dataloader = []\n",
    "        # val_dataloader = []\n",
    "        # for i, batch in enumerate(data_dataloader):\n",
    "        #     if i < len(data_dataloader)*0.7:\n",
    "        #         train_dataloader.append(batch)\n",
    "        #     else:\n",
    "        #         val_dataloader.append(batch)\n",
    "\n",
    "        #buzz2\n",
    "        train_set = CustomDataset(config, 'buzz2_train_data.npz')\n",
    "        train_dataloader = DataLoader(train_set, \n",
    "                                    batch_size = 128,\n",
    "                                    shuffle = True)\n",
    "        val_set = CustomDataset(config, 'buzz2_test_training_data.npz')\n",
    "        val_dataloader = DataLoader(val_set,\n",
    "                                    batch_size = 256,\n",
    "                                    shuffle = True)\n",
    "        ###\n",
    "        val_set = CustomDataset(config, 'buzz2_val_data.npz')\n",
    "        val_set_ = DataLoader(val_set,\n",
    "                                    batch_size = 128,\n",
    "                                    shuffle = True)\n",
    "        torch.manual_seed(10)\n",
    "        classification_model = Conv_lstm(l_data=20000, \n",
    "                                    num_filters=config['num_filters'], \n",
    "                                    kernel_size=(config['kernel_size_1'], config['kernel_size_2']), \n",
    "                                    strides=(config['stride_1'], config['stride_2']), \n",
    "                                    maxpooling=(config['maxpool_1'], config['maxpool_2']), \n",
    "                                    d_hidden=config['d_hidden'], \n",
    "                                    num_layers= config['num_layers'],\n",
    "                                    dropout=config['dropout'])\n",
    "        classification_model.float()\n",
    "        classification_trainer = ClassificationTrainer(model=classification_model,\n",
    "                                                    train_data=train_dataloader,\n",
    "                                                    val_data=val_dataloader,\n",
    "                                                    val_set=val_set_,\n",
    "                                                    device=device,\n",
    "                                                    config=config)\n",
    "        classification_trainer.train()\n",
    "        config = classification_trainer.get_updated_config()\n",
    "        val_acc = config['val_acc']\n",
    "        wandb.log({'val_acc': val_acc})\n",
    "        \n",
    "        if val_acc >= 95.67:\n",
    "            wandb.alert(\n",
    "                title=\"MaiAnh found new high accuracy ID 8p4zr03y\", \n",
    "                text=f\"Accuracy {val_acc} \"\n",
    "            )\n",
    "#         filename = \"{}num_layers_({},{})kernel_size_{}n_filters_({},{})stride_({},{})maxpool_{}lr_{}batch_size\".format(\n",
    "#             config[\"num_layers\"],\n",
    "#             config[\"kernel_size_1\"],\n",
    "#             config[\"kernel_size_2\"],\n",
    "#             config[\"num_filters\"],\n",
    "#             config[\"stride_1\"],\n",
    "#             config[\"stride_2\"],\n",
    "#             config[\"maxpool_1\"],\n",
    "#             config[\"maxpool_2\"],\n",
    "#             config['lr'],\n",
    "#             config['batch_size']\n",
    "#         ).replace(\".\", \"_\")\n",
    "#         PATH = os.path.join(\"configs_wandb/\", \"{}.yml\".format(filename))\n",
    "#         with open(PATH, 'w') as outfile:\n",
    "#             yaml.dump(config, outfile, default_flow_style=False)\n",
    "        print('ok')"
   ]
  },
  {
   "cell_type": "code",
   "execution_count": 9,
   "id": "d81cb50c",
   "metadata": {},
   "outputs": [
    {
     "name": "stdout",
     "output_type": "stream",
     "text": [
      "Create sweep with ID: 8p4zr03y\n",
      "Sweep URL: https://wandb.ai/maiquanh/quanh/sweeps/8p4zr03y\n"
     ]
    }
   ],
   "source": [
    "sweep_id = wandb.sweep(sweep=config_wdb, project='quanh')"
   ]
  },
  {
   "cell_type": "code",
   "execution_count": null,
   "id": "c13ad92f",
   "metadata": {
    "scrolled": true
   },
   "outputs": [
    {
     "name": "stderr",
     "output_type": "stream",
     "text": [
      "\u001b[34m\u001b[1mwandb\u001b[0m: Agent Starting Run: mtg6rr9o with config:\n",
      "\u001b[34m\u001b[1mwandb\u001b[0m: \tbatch_size: 128\n",
      "\u001b[34m\u001b[1mwandb\u001b[0m: \td_hidden: 3\n",
      "\u001b[34m\u001b[1mwandb\u001b[0m: \tdata_dir: /home/quanhhh/Documents/model/pickle/\n",
      "\u001b[34m\u001b[1mwandb\u001b[0m: \tdropout: 0.1402483049603457\n",
      "\u001b[34m\u001b[1mwandb\u001b[0m: \tkernel_size_1: 67\n",
      "\u001b[34m\u001b[1mwandb\u001b[0m: \tkernel_size_2: 8\n",
      "\u001b[34m\u001b[1mwandb\u001b[0m: \tlr: 0.0015215192975715753\n",
      "\u001b[34m\u001b[1mwandb\u001b[0m: \tmaxpool_1: 5\n",
      "\u001b[34m\u001b[1mwandb\u001b[0m: \tmaxpool_2: 7\n",
      "\u001b[34m\u001b[1mwandb\u001b[0m: \tnum_epoch: 95\n",
      "\u001b[34m\u001b[1mwandb\u001b[0m: \tnum_filters: 25\n",
      "\u001b[34m\u001b[1mwandb\u001b[0m: \tnum_layers: 3\n",
      "\u001b[34m\u001b[1mwandb\u001b[0m: \tresult_dir: /home/quanhhh/Documents/model/result_wandb/\n",
      "\u001b[34m\u001b[1mwandb\u001b[0m: \tstride_1: 3\n",
      "\u001b[34m\u001b[1mwandb\u001b[0m: \tstride_2: 8\n",
      "\u001b[34m\u001b[1mwandb\u001b[0m: \tweight_decay: 0.00010513843648940776\n"
     ]
    },
    {
     "data": {
      "text/html": [
       "Tracking run with wandb version 0.13.4"
      ],
      "text/plain": [
       "<IPython.core.display.HTML object>"
      ]
     },
     "metadata": {},
     "output_type": "display_data"
    },
    {
     "data": {
      "text/html": [
       "Run data is saved locally in <code>/home/quanhhh/Documents/model/wandb/run-20221019_084249-mtg6rr9o</code>"
      ],
      "text/plain": [
       "<IPython.core.display.HTML object>"
      ]
     },
     "metadata": {},
     "output_type": "display_data"
    },
    {
     "data": {
      "text/html": [
       "Syncing run <strong><a href=\"https://wandb.ai/maiquanh/quanh/runs/mtg6rr9o\" target=\"_blank\">still-sweep-1</a></strong> to <a href=\"https://wandb.ai/maiquanh/quanh\" target=\"_blank\">Weights & Biases</a> (<a href=\"https://wandb.me/run\" target=\"_blank\">docs</a>)<br/>Sweep page:  <a href=\"https://wandb.ai/maiquanh/quanh/sweeps/8p4zr03y\" target=\"_blank\">https://wandb.ai/maiquanh/quanh/sweeps/8p4zr03y</a>"
      ],
      "text/plain": [
       "<IPython.core.display.HTML object>"
      ]
     },
     "metadata": {},
     "output_type": "display_data"
    },
    {
     "name": "stdout",
     "output_type": "stream",
     "text": [
      "-----START TRAINING CLASSIFICATION-----\n",
      "Epoch: 95\t| Train_loss: 0.005599\t|Train accuracy: 99.485624\t| Test_loss: 0.003128\t|Test accuracy: 95.797599\t|Val accuracy: 91.000000 \n",
      "\n",
      "----COMPLETED TRAINING CLASSIFICATION-----\n",
      "val_acc 91.0\n",
      "ok\n"
     ]
    },
    {
     "data": {
      "text/html": [
       "Waiting for W&B process to finish... <strong style=\"color:green\">(success).</strong>"
      ],
      "text/plain": [
       "<IPython.core.display.HTML object>"
      ]
     },
     "metadata": {},
     "output_type": "display_data"
    },
    {
     "data": {
      "text/html": [
       "<style>\n",
       "    table.wandb td:nth-child(1) { padding: 0 10px; text-align: left ; width: auto;} td:nth-child(2) {text-align: left ; width: 100%}\n",
       "    .wandb-row { display: flex; flex-direction: row; flex-wrap: wrap; justify-content: flex-start; width: 100% }\n",
       "    .wandb-col { display: flex; flex-direction: column; flex-basis: 100%; flex: 1; padding: 10px; }\n",
       "    </style>\n",
       "<div class=\"wandb-row\"><div class=\"wandb-col\"><h3>Run history:</h3><br/><table class=\"wandb\"><tr><td>test_loss</td><td>█▇▅▄▄▃▂▄▃▃▂▃▃▂▁▁▃▂▃▃▃▃▂▃▂▁▁▂▂▃▂▁▁▁▁▁▁▁▁▁</td></tr><tr><td>train_loss</td><td>█▆▄▂▂▂▁▁▁▂▁▁▁▁▁▁▂▁▁▁▁▁▁▁▁▁▁▁▁▁▁▁▁▁▁▁▁▁▁▁</td></tr><tr><td>val_acc</td><td>▁</td></tr></table><br/></div><div class=\"wandb-col\"><h3>Run summary:</h3><br/><table class=\"wandb\"><tr><td>test_loss</td><td>0.00313</td></tr><tr><td>train_loss</td><td>0.0056</td></tr><tr><td>val_acc</td><td>93.3</td></tr></table><br/></div></div>"
      ],
      "text/plain": [
       "<IPython.core.display.HTML object>"
      ]
     },
     "metadata": {},
     "output_type": "display_data"
    },
    {
     "data": {
      "text/html": [
       "Synced <strong style=\"color:#cdcd00\">still-sweep-1</strong>: <a href=\"https://wandb.ai/maiquanh/quanh/runs/mtg6rr9o\" target=\"_blank\">https://wandb.ai/maiquanh/quanh/runs/mtg6rr9o</a><br/>Synced 6 W&B file(s), 0 media file(s), 0 artifact file(s) and 0 other file(s)"
      ],
      "text/plain": [
       "<IPython.core.display.HTML object>"
      ]
     },
     "metadata": {},
     "output_type": "display_data"
    },
    {
     "data": {
      "text/html": [
       "Find logs at: <code>./wandb/run-20221019_084249-mtg6rr9o/logs</code>"
      ],
      "text/plain": [
       "<IPython.core.display.HTML object>"
      ]
     },
     "metadata": {},
     "output_type": "display_data"
    },
    {
     "name": "stderr",
     "output_type": "stream",
     "text": [
      "\u001b[34m\u001b[1mwandb\u001b[0m: Agent Starting Run: e73psecd with config:\n",
      "\u001b[34m\u001b[1mwandb\u001b[0m: \tbatch_size: 128\n",
      "\u001b[34m\u001b[1mwandb\u001b[0m: \td_hidden: 3\n",
      "\u001b[34m\u001b[1mwandb\u001b[0m: \tdata_dir: /home/quanhhh/Documents/model/pickle/\n",
      "\u001b[34m\u001b[1mwandb\u001b[0m: \tdropout: 0.1833942380174814\n",
      "\u001b[34m\u001b[1mwandb\u001b[0m: \tkernel_size_1: 68\n",
      "\u001b[34m\u001b[1mwandb\u001b[0m: \tkernel_size_2: 6\n",
      "\u001b[34m\u001b[1mwandb\u001b[0m: \tlr: 0.0018991473049144764\n",
      "\u001b[34m\u001b[1mwandb\u001b[0m: \tmaxpool_1: 6\n",
      "\u001b[34m\u001b[1mwandb\u001b[0m: \tmaxpool_2: 4\n",
      "\u001b[34m\u001b[1mwandb\u001b[0m: \tnum_epoch: 97\n",
      "\u001b[34m\u001b[1mwandb\u001b[0m: \tnum_filters: 31\n",
      "\u001b[34m\u001b[1mwandb\u001b[0m: \tnum_layers: 2\n",
      "\u001b[34m\u001b[1mwandb\u001b[0m: \tresult_dir: /home/quanhhh/Documents/model/result_wandb/\n",
      "\u001b[34m\u001b[1mwandb\u001b[0m: \tstride_1: 5\n",
      "\u001b[34m\u001b[1mwandb\u001b[0m: \tstride_2: 6\n",
      "\u001b[34m\u001b[1mwandb\u001b[0m: \tweight_decay: 0.00013201483033910028\n"
     ]
    },
    {
     "data": {
      "text/html": [
       "Tracking run with wandb version 0.13.4"
      ],
      "text/plain": [
       "<IPython.core.display.HTML object>"
      ]
     },
     "metadata": {},
     "output_type": "display_data"
    },
    {
     "data": {
      "text/html": [
       "Run data is saved locally in <code>/home/quanhhh/Documents/model/wandb/run-20221019_084843-e73psecd</code>"
      ],
      "text/plain": [
       "<IPython.core.display.HTML object>"
      ]
     },
     "metadata": {},
     "output_type": "display_data"
    },
    {
     "data": {
      "text/html": [
       "Syncing run <strong><a href=\"https://wandb.ai/maiquanh/quanh/runs/e73psecd\" target=\"_blank\">splendid-sweep-2</a></strong> to <a href=\"https://wandb.ai/maiquanh/quanh\" target=\"_blank\">Weights & Biases</a> (<a href=\"https://wandb.me/run\" target=\"_blank\">docs</a>)<br/>Sweep page:  <a href=\"https://wandb.ai/maiquanh/quanh/sweeps/8p4zr03y\" target=\"_blank\">https://wandb.ai/maiquanh/quanh/sweeps/8p4zr03y</a>"
      ],
      "text/plain": [
       "<IPython.core.display.HTML object>"
      ]
     },
     "metadata": {},
     "output_type": "display_data"
    },
    {
     "name": "stdout",
     "output_type": "stream",
     "text": [
      "-----START TRAINING CLASSIFICATION-----\n",
      "Epoch: 97\t| Train_loss: 0.005661\t|Train accuracy: 97.942495\t| Test_loss: 0.003477\t|Test accuracy: 82.246998\t|Val accuracy: 73.233330 \n",
      "\n",
      "----COMPLETED TRAINING CLASSIFICATION-----\n",
      "val_acc 73.23332977294922\n",
      "ok\n"
     ]
    },
    {
     "data": {
      "text/html": [
       "Waiting for W&B process to finish... <strong style=\"color:green\">(success).</strong>"
      ],
      "text/plain": [
       "<IPython.core.display.HTML object>"
      ]
     },
     "metadata": {},
     "output_type": "display_data"
    },
    {
     "data": {
      "text/html": [
       "<style>\n",
       "    table.wandb td:nth-child(1) { padding: 0 10px; text-align: left ; width: auto;} td:nth-child(2) {text-align: left ; width: 100%}\n",
       "    .wandb-row { display: flex; flex-direction: row; flex-wrap: wrap; justify-content: flex-start; width: 100% }\n",
       "    .wandb-col { display: flex; flex-direction: column; flex-basis: 100%; flex: 1; padding: 10px; }\n",
       "    </style>\n",
       "<div class=\"wandb-row\"><div class=\"wandb-col\"><h3>Run history:</h3><br/><table class=\"wandb\"><tr><td>test_loss</td><td>█▆▄▄▃▄▃▃▃▃▃▄▃▃▃▁▃▃▃▃▃▃▁▃▃▃▁▃▃▃▁▂▃▁▁▃▃▃▃▃</td></tr><tr><td>train_loss</td><td>█▆▃▂▁▁▁▁▁▁▁▁▁▁▁▁▁▁▁▁▁▁▁▁▁▁▁▁▁▁▁▁▁▁▁▁▁▁▁▁</td></tr><tr><td>val_acc</td><td>▁</td></tr></table><br/></div><div class=\"wandb-col\"><h3>Run summary:</h3><br/><table class=\"wandb\"><tr><td>test_loss</td><td>0.00348</td></tr><tr><td>train_loss</td><td>0.00566</td></tr><tr><td>val_acc</td><td>90.93333</td></tr></table><br/></div></div>"
      ],
      "text/plain": [
       "<IPython.core.display.HTML object>"
      ]
     },
     "metadata": {},
     "output_type": "display_data"
    },
    {
     "data": {
      "text/html": [
       "Synced <strong style=\"color:#cdcd00\">splendid-sweep-2</strong>: <a href=\"https://wandb.ai/maiquanh/quanh/runs/e73psecd\" target=\"_blank\">https://wandb.ai/maiquanh/quanh/runs/e73psecd</a><br/>Synced 6 W&B file(s), 0 media file(s), 0 artifact file(s) and 0 other file(s)"
      ],
      "text/plain": [
       "<IPython.core.display.HTML object>"
      ]
     },
     "metadata": {},
     "output_type": "display_data"
    },
    {
     "data": {
      "text/html": [
       "Find logs at: <code>./wandb/run-20221019_084843-e73psecd/logs</code>"
      ],
      "text/plain": [
       "<IPython.core.display.HTML object>"
      ]
     },
     "metadata": {},
     "output_type": "display_data"
    },
    {
     "name": "stderr",
     "output_type": "stream",
     "text": [
      "\u001b[34m\u001b[1mwandb\u001b[0m: Agent Starting Run: 3y6j6pjl with config:\n",
      "\u001b[34m\u001b[1mwandb\u001b[0m: \tbatch_size: 128\n",
      "\u001b[34m\u001b[1mwandb\u001b[0m: \td_hidden: 3\n",
      "\u001b[34m\u001b[1mwandb\u001b[0m: \tdata_dir: /home/quanhhh/Documents/model/pickle/\n",
      "\u001b[34m\u001b[1mwandb\u001b[0m: \tdropout: 0.11206190490527553\n",
      "\u001b[34m\u001b[1mwandb\u001b[0m: \tkernel_size_1: 61\n",
      "\u001b[34m\u001b[1mwandb\u001b[0m: \tkernel_size_2: 8\n",
      "\u001b[34m\u001b[1mwandb\u001b[0m: \tlr: 0.0002232755636443545\n",
      "\u001b[34m\u001b[1mwandb\u001b[0m: \tmaxpool_1: 7\n",
      "\u001b[34m\u001b[1mwandb\u001b[0m: \tmaxpool_2: 7\n",
      "\u001b[34m\u001b[1mwandb\u001b[0m: \tnum_epoch: 84\n",
      "\u001b[34m\u001b[1mwandb\u001b[0m: \tnum_filters: 37\n",
      "\u001b[34m\u001b[1mwandb\u001b[0m: \tnum_layers: 4\n",
      "\u001b[34m\u001b[1mwandb\u001b[0m: \tresult_dir: /home/quanhhh/Documents/model/result_wandb/\n",
      "\u001b[34m\u001b[1mwandb\u001b[0m: \tstride_1: 7\n",
      "\u001b[34m\u001b[1mwandb\u001b[0m: \tstride_2: 8\n",
      "\u001b[34m\u001b[1mwandb\u001b[0m: \tweight_decay: 0.00027318600551619744\n"
     ]
    },
    {
     "data": {
      "text/html": [
       "Tracking run with wandb version 0.13.4"
      ],
      "text/plain": [
       "<IPython.core.display.HTML object>"
      ]
     },
     "metadata": {},
     "output_type": "display_data"
    },
    {
     "data": {
      "text/html": [
       "Run data is saved locally in <code>/home/quanhhh/Documents/model/wandb/run-20221019_085245-3y6j6pjl</code>"
      ],
      "text/plain": [
       "<IPython.core.display.HTML object>"
      ]
     },
     "metadata": {},
     "output_type": "display_data"
    },
    {
     "data": {
      "text/html": [
       "Syncing run <strong><a href=\"https://wandb.ai/maiquanh/quanh/runs/3y6j6pjl\" target=\"_blank\">dauntless-sweep-3</a></strong> to <a href=\"https://wandb.ai/maiquanh/quanh\" target=\"_blank\">Weights & Biases</a> (<a href=\"https://wandb.me/run\" target=\"_blank\">docs</a>)<br/>Sweep page:  <a href=\"https://wandb.ai/maiquanh/quanh/sweeps/8p4zr03y\" target=\"_blank\">https://wandb.ai/maiquanh/quanh/sweeps/8p4zr03y</a>"
      ],
      "text/plain": [
       "<IPython.core.display.HTML object>"
      ]
     },
     "metadata": {},
     "output_type": "display_data"
    },
    {
     "name": "stdout",
     "output_type": "stream",
     "text": [
      "-----START TRAINING CLASSIFICATION-----\n",
      "Epoch: 84\t| Train_loss: 0.005634\t|Train accuracy: 98.786600\t| Test_loss: 0.003181\t|Test accuracy: 94.554031\t|Val accuracy: 79.099998 \n",
      "\n",
      "----COMPLETED TRAINING CLASSIFICATION-----\n",
      "val_acc 79.0999984741211\n",
      "ok\n"
     ]
    },
    {
     "data": {
      "text/html": [
       "Waiting for W&B process to finish... <strong style=\"color:green\">(success).</strong>"
      ],
      "text/plain": [
       "<IPython.core.display.HTML object>"
      ]
     },
     "metadata": {},
     "output_type": "display_data"
    },
    {
     "data": {
      "text/html": [
       "<style>\n",
       "    table.wandb td:nth-child(1) { padding: 0 10px; text-align: left ; width: auto;} td:nth-child(2) {text-align: left ; width: 100%}\n",
       "    .wandb-row { display: flex; flex-direction: row; flex-wrap: wrap; justify-content: flex-start; width: 100% }\n",
       "    .wandb-col { display: flex; flex-direction: column; flex-basis: 100%; flex: 1; padding: 10px; }\n",
       "    </style>\n",
       "<div class=\"wandb-row\"><div class=\"wandb-col\"><h3>Run history:</h3><br/><table class=\"wandb\"><tr><td>test_loss</td><td>█████▇▇▆▅▅▄▄▄▃▄▃▃▃▃▃▂▂▂▂▂▂▃▂▂▁▁▂▁▁▁▁▁▁▂▁</td></tr><tr><td>train_loss</td><td>█████▇▇▆▅▄▄▄▃▃▃▃▃▃▂▂▂▂▂▂▂▂▂▁▁▁▁▁▁▁▁▁▁▁▁▁</td></tr><tr><td>val_acc</td><td>▁</td></tr></table><br/></div><div class=\"wandb-col\"><h3>Run summary:</h3><br/><table class=\"wandb\"><tr><td>test_loss</td><td>0.00318</td></tr><tr><td>train_loss</td><td>0.00563</td></tr><tr><td>val_acc</td><td>85.2</td></tr></table><br/></div></div>"
      ],
      "text/plain": [
       "<IPython.core.display.HTML object>"
      ]
     },
     "metadata": {},
     "output_type": "display_data"
    },
    {
     "data": {
      "text/html": [
       "Synced <strong style=\"color:#cdcd00\">dauntless-sweep-3</strong>: <a href=\"https://wandb.ai/maiquanh/quanh/runs/3y6j6pjl\" target=\"_blank\">https://wandb.ai/maiquanh/quanh/runs/3y6j6pjl</a><br/>Synced 6 W&B file(s), 0 media file(s), 0 artifact file(s) and 0 other file(s)"
      ],
      "text/plain": [
       "<IPython.core.display.HTML object>"
      ]
     },
     "metadata": {},
     "output_type": "display_data"
    },
    {
     "data": {
      "text/html": [
       "Find logs at: <code>./wandb/run-20221019_085245-3y6j6pjl/logs</code>"
      ],
      "text/plain": [
       "<IPython.core.display.HTML object>"
      ]
     },
     "metadata": {},
     "output_type": "display_data"
    },
    {
     "name": "stderr",
     "output_type": "stream",
     "text": [
      "\u001b[34m\u001b[1mwandb\u001b[0m: Agent Starting Run: 8iiniii1 with config:\n",
      "\u001b[34m\u001b[1mwandb\u001b[0m: \tbatch_size: 128\n",
      "\u001b[34m\u001b[1mwandb\u001b[0m: \td_hidden: 3\n",
      "\u001b[34m\u001b[1mwandb\u001b[0m: \tdata_dir: /home/quanhhh/Documents/model/pickle/\n",
      "\u001b[34m\u001b[1mwandb\u001b[0m: \tdropout: 0.13004295989807765\n",
      "\u001b[34m\u001b[1mwandb\u001b[0m: \tkernel_size_1: 57\n",
      "\u001b[34m\u001b[1mwandb\u001b[0m: \tkernel_size_2: 5\n",
      "\u001b[34m\u001b[1mwandb\u001b[0m: \tlr: 0.0007696186625546448\n",
      "\u001b[34m\u001b[1mwandb\u001b[0m: \tmaxpool_1: 4\n",
      "\u001b[34m\u001b[1mwandb\u001b[0m: \tmaxpool_2: 6\n",
      "\u001b[34m\u001b[1mwandb\u001b[0m: \tnum_epoch: 93\n",
      "\u001b[34m\u001b[1mwandb\u001b[0m: \tnum_filters: 30\n",
      "\u001b[34m\u001b[1mwandb\u001b[0m: \tnum_layers: 4\n",
      "\u001b[34m\u001b[1mwandb\u001b[0m: \tresult_dir: /home/quanhhh/Documents/model/result_wandb/\n",
      "\u001b[34m\u001b[1mwandb\u001b[0m: \tstride_1: 4\n",
      "\u001b[34m\u001b[1mwandb\u001b[0m: \tstride_2: 9\n",
      "\u001b[34m\u001b[1mwandb\u001b[0m: \tweight_decay: 0.00011877454722767764\n"
     ]
    },
    {
     "data": {
      "text/html": [
       "Tracking run with wandb version 0.13.4"
      ],
      "text/plain": [
       "<IPython.core.display.HTML object>"
      ]
     },
     "metadata": {},
     "output_type": "display_data"
    },
    {
     "data": {
      "text/html": [
       "Run data is saved locally in <code>/home/quanhhh/Documents/model/wandb/run-20221019_085523-8iiniii1</code>"
      ],
      "text/plain": [
       "<IPython.core.display.HTML object>"
      ]
     },
     "metadata": {},
     "output_type": "display_data"
    },
    {
     "data": {
      "text/html": [
       "Syncing run <strong><a href=\"https://wandb.ai/maiquanh/quanh/runs/8iiniii1\" target=\"_blank\">unique-sweep-4</a></strong> to <a href=\"https://wandb.ai/maiquanh/quanh\" target=\"_blank\">Weights & Biases</a> (<a href=\"https://wandb.me/run\" target=\"_blank\">docs</a>)<br/>Sweep page:  <a href=\"https://wandb.ai/maiquanh/quanh/sweeps/8p4zr03y\" target=\"_blank\">https://wandb.ai/maiquanh/quanh/sweeps/8p4zr03y</a>"
      ],
      "text/plain": [
       "<IPython.core.display.HTML object>"
      ]
     },
     "metadata": {},
     "output_type": "display_data"
    },
    {
     "name": "stdout",
     "output_type": "stream",
     "text": [
      "-----START TRAINING CLASSIFICATION-----\n",
      "Epoch: 93\t| Train_loss: 0.005586\t|Train accuracy: 98.338169\t| Test_loss: 0.003153\t|Test accuracy: 94.982847\t|Val accuracy: 91.666664 \n",
      "\n",
      "----COMPLETED TRAINING CLASSIFICATION-----\n",
      "val_acc 91.66666412353516\n",
      "ok\n"
     ]
    },
    {
     "data": {
      "text/html": [
       "Waiting for W&B process to finish... <strong style=\"color:green\">(success).</strong>"
      ],
      "text/plain": [
       "<IPython.core.display.HTML object>"
      ]
     },
     "metadata": {},
     "output_type": "display_data"
    },
    {
     "data": {
      "text/html": [
       "<style>\n",
       "    table.wandb td:nth-child(1) { padding: 0 10px; text-align: left ; width: auto;} td:nth-child(2) {text-align: left ; width: 100%}\n",
       "    .wandb-row { display: flex; flex-direction: row; flex-wrap: wrap; justify-content: flex-start; width: 100% }\n",
       "    .wandb-col { display: flex; flex-direction: column; flex-basis: 100%; flex: 1; padding: 10px; }\n",
       "    </style>\n",
       "<div class=\"wandb-row\"><div class=\"wandb-col\"><h3>Run history:</h3><br/><table class=\"wandb\"><tr><td>test_loss</td><td>█▇▅▄▄▃▃▃▃▂▃▂▁▂▂▆▃▂▃▁▂▂▂▁▁▂▁▁▁▁▁▂▁▁▁▁▁▁▁▁</td></tr><tr><td>train_loss</td><td>█▇▅▃▃▂▂▂▂▁▁▁▁▁▁▁▁▁▁▁▁▁▁▁▁▁▁▁▁▁▁▁▁▁▁▁▁▁▁▁</td></tr><tr><td>val_acc</td><td>▁</td></tr></table><br/></div><div class=\"wandb-col\"><h3>Run summary:</h3><br/><table class=\"wandb\"><tr><td>test_loss</td><td>0.00315</td></tr><tr><td>train_loss</td><td>0.00559</td></tr><tr><td>val_acc</td><td>95.03333</td></tr></table><br/></div></div>"
      ],
      "text/plain": [
       "<IPython.core.display.HTML object>"
      ]
     },
     "metadata": {},
     "output_type": "display_data"
    },
    {
     "data": {
      "text/html": [
       "Synced <strong style=\"color:#cdcd00\">unique-sweep-4</strong>: <a href=\"https://wandb.ai/maiquanh/quanh/runs/8iiniii1\" target=\"_blank\">https://wandb.ai/maiquanh/quanh/runs/8iiniii1</a><br/>Synced 6 W&B file(s), 0 media file(s), 0 artifact file(s) and 0 other file(s)"
      ],
      "text/plain": [
       "<IPython.core.display.HTML object>"
      ]
     },
     "metadata": {},
     "output_type": "display_data"
    },
    {
     "data": {
      "text/html": [
       "Find logs at: <code>./wandb/run-20221019_085523-8iiniii1/logs</code>"
      ],
      "text/plain": [
       "<IPython.core.display.HTML object>"
      ]
     },
     "metadata": {},
     "output_type": "display_data"
    },
    {
     "name": "stderr",
     "output_type": "stream",
     "text": [
      "\u001b[34m\u001b[1mwandb\u001b[0m: Agent Starting Run: 80z2rpk3 with config:\n",
      "\u001b[34m\u001b[1mwandb\u001b[0m: \tbatch_size: 128\n",
      "\u001b[34m\u001b[1mwandb\u001b[0m: \td_hidden: 3\n",
      "\u001b[34m\u001b[1mwandb\u001b[0m: \tdata_dir: /home/quanhhh/Documents/model/pickle/\n",
      "\u001b[34m\u001b[1mwandb\u001b[0m: \tdropout: 0.16207007927480507\n",
      "\u001b[34m\u001b[1mwandb\u001b[0m: \tkernel_size_1: 59\n",
      "\u001b[34m\u001b[1mwandb\u001b[0m: \tkernel_size_2: 9\n",
      "\u001b[34m\u001b[1mwandb\u001b[0m: \tlr: 0.0012002104915503546\n",
      "\u001b[34m\u001b[1mwandb\u001b[0m: \tmaxpool_1: 4\n",
      "\u001b[34m\u001b[1mwandb\u001b[0m: \tmaxpool_2: 7\n",
      "\u001b[34m\u001b[1mwandb\u001b[0m: \tnum_epoch: 99\n",
      "\u001b[34m\u001b[1mwandb\u001b[0m: \tnum_filters: 34\n",
      "\u001b[34m\u001b[1mwandb\u001b[0m: \tnum_layers: 4\n",
      "\u001b[34m\u001b[1mwandb\u001b[0m: \tresult_dir: /home/quanhhh/Documents/model/result_wandb/\n",
      "\u001b[34m\u001b[1mwandb\u001b[0m: \tstride_1: 5\n",
      "\u001b[34m\u001b[1mwandb\u001b[0m: \tstride_2: 9\n",
      "\u001b[34m\u001b[1mwandb\u001b[0m: \tweight_decay: 0.0001008434620924858\n"
     ]
    },
    {
     "data": {
      "text/html": [
       "Tracking run with wandb version 0.13.4"
      ],
      "text/plain": [
       "<IPython.core.display.HTML object>"
      ]
     },
     "metadata": {},
     "output_type": "display_data"
    },
    {
     "data": {
      "text/html": [
       "Run data is saved locally in <code>/home/quanhhh/Documents/model/wandb/run-20221019_085842-80z2rpk3</code>"
      ],
      "text/plain": [
       "<IPython.core.display.HTML object>"
      ]
     },
     "metadata": {},
     "output_type": "display_data"
    },
    {
     "data": {
      "text/html": [
       "Syncing run <strong><a href=\"https://wandb.ai/maiquanh/quanh/runs/80z2rpk3\" target=\"_blank\">winter-sweep-5</a></strong> to <a href=\"https://wandb.ai/maiquanh/quanh\" target=\"_blank\">Weights & Biases</a> (<a href=\"https://wandb.me/run\" target=\"_blank\">docs</a>)<br/>Sweep page:  <a href=\"https://wandb.ai/maiquanh/quanh/sweeps/8p4zr03y\" target=\"_blank\">https://wandb.ai/maiquanh/quanh/sweeps/8p4zr03y</a>"
      ],
      "text/plain": [
       "<IPython.core.display.HTML object>"
      ]
     },
     "metadata": {},
     "output_type": "display_data"
    },
    {
     "name": "stdout",
     "output_type": "stream",
     "text": [
      "-----START TRAINING CLASSIFICATION-----\n",
      "Epoch: 99\t| Train_loss: 0.005598\t|Train accuracy: 99.564759\t| Test_loss: 0.003098\t|Test accuracy: 96.655232\t|Val accuracy: 90.199997 \n",
      "\n",
      "----COMPLETED TRAINING CLASSIFICATION-----\n",
      "val_acc 90.19999694824219\n",
      "ok\n"
     ]
    },
    {
     "data": {
      "text/html": [
       "Waiting for W&B process to finish... <strong style=\"color:green\">(success).</strong>"
      ],
      "text/plain": [
       "<IPython.core.display.HTML object>"
      ]
     },
     "metadata": {},
     "output_type": "display_data"
    },
    {
     "data": {
      "text/html": [
       "<style>\n",
       "    table.wandb td:nth-child(1) { padding: 0 10px; text-align: left ; width: auto;} td:nth-child(2) {text-align: left ; width: 100%}\n",
       "    .wandb-row { display: flex; flex-direction: row; flex-wrap: wrap; justify-content: flex-start; width: 100% }\n",
       "    .wandb-col { display: flex; flex-direction: column; flex-basis: 100%; flex: 1; padding: 10px; }\n",
       "    </style>\n",
       "<div class=\"wandb-row\"><div class=\"wandb-col\"><h3>Run history:</h3><br/><table class=\"wandb\"><tr><td>test_loss</td><td>█▆▆▅▃▃▃▃▃▄▂▃▃▂▂▁▁▂▁▂▁▂▂▄▂▃▁▁▁▂▁▂▁▁▁▁▂▂▂▁</td></tr><tr><td>train_loss</td><td>█▆▅▃▂▂▂▂▂▂▁▁▁▁▁▁▁▁▁▁▁▁▁▁▁▁▁▁▁▁▁▁▁▁▁▁▁▁▁▁</td></tr><tr><td>val_acc</td><td>▁</td></tr></table><br/></div><div class=\"wandb-col\"><h3>Run summary:</h3><br/><table class=\"wandb\"><tr><td>test_loss</td><td>0.0031</td></tr><tr><td>train_loss</td><td>0.0056</td></tr><tr><td>val_acc</td><td>91.9</td></tr></table><br/></div></div>"
      ],
      "text/plain": [
       "<IPython.core.display.HTML object>"
      ]
     },
     "metadata": {},
     "output_type": "display_data"
    },
    {
     "data": {
      "text/html": [
       "Synced <strong style=\"color:#cdcd00\">winter-sweep-5</strong>: <a href=\"https://wandb.ai/maiquanh/quanh/runs/80z2rpk3\" target=\"_blank\">https://wandb.ai/maiquanh/quanh/runs/80z2rpk3</a><br/>Synced 6 W&B file(s), 0 media file(s), 0 artifact file(s) and 0 other file(s)"
      ],
      "text/plain": [
       "<IPython.core.display.HTML object>"
      ]
     },
     "metadata": {},
     "output_type": "display_data"
    },
    {
     "data": {
      "text/html": [
       "Find logs at: <code>./wandb/run-20221019_085842-80z2rpk3/logs</code>"
      ],
      "text/plain": [
       "<IPython.core.display.HTML object>"
      ]
     },
     "metadata": {},
     "output_type": "display_data"
    },
    {
     "name": "stderr",
     "output_type": "stream",
     "text": [
      "\u001b[34m\u001b[1mwandb\u001b[0m: Agent Starting Run: 8r1lk8z6 with config:\n",
      "\u001b[34m\u001b[1mwandb\u001b[0m: \tbatch_size: 128\n",
      "\u001b[34m\u001b[1mwandb\u001b[0m: \td_hidden: 3\n",
      "\u001b[34m\u001b[1mwandb\u001b[0m: \tdata_dir: /home/quanhhh/Documents/model/pickle/\n",
      "\u001b[34m\u001b[1mwandb\u001b[0m: \tdropout: 0.1262497830057658\n",
      "\u001b[34m\u001b[1mwandb\u001b[0m: \tkernel_size_1: 68\n",
      "\u001b[34m\u001b[1mwandb\u001b[0m: \tkernel_size_2: 5\n",
      "\u001b[34m\u001b[1mwandb\u001b[0m: \tlr: 0.0018266161774036188\n",
      "\u001b[34m\u001b[1mwandb\u001b[0m: \tmaxpool_1: 5\n",
      "\u001b[34m\u001b[1mwandb\u001b[0m: \tmaxpool_2: 7\n",
      "\u001b[34m\u001b[1mwandb\u001b[0m: \tnum_epoch: 95\n",
      "\u001b[34m\u001b[1mwandb\u001b[0m: \tnum_filters: 16\n",
      "\u001b[34m\u001b[1mwandb\u001b[0m: \tnum_layers: 3\n",
      "\u001b[34m\u001b[1mwandb\u001b[0m: \tresult_dir: /home/quanhhh/Documents/model/result_wandb/\n",
      "\u001b[34m\u001b[1mwandb\u001b[0m: \tstride_1: 4\n",
      "\u001b[34m\u001b[1mwandb\u001b[0m: \tstride_2: 8\n",
      "\u001b[34m\u001b[1mwandb\u001b[0m: \tweight_decay: 0.00011567757942837518\n"
     ]
    },
    {
     "data": {
      "text/html": [
       "Tracking run with wandb version 0.13.4"
      ],
      "text/plain": [
       "<IPython.core.display.HTML object>"
      ]
     },
     "metadata": {},
     "output_type": "display_data"
    },
    {
     "data": {
      "text/html": [
       "Run data is saved locally in <code>/home/quanhhh/Documents/model/wandb/run-20221019_090212-8r1lk8z6</code>"
      ],
      "text/plain": [
       "<IPython.core.display.HTML object>"
      ]
     },
     "metadata": {},
     "output_type": "display_data"
    },
    {
     "data": {
      "text/html": [
       "Syncing run <strong><a href=\"https://wandb.ai/maiquanh/quanh/runs/8r1lk8z6\" target=\"_blank\">breezy-sweep-6</a></strong> to <a href=\"https://wandb.ai/maiquanh/quanh\" target=\"_blank\">Weights & Biases</a> (<a href=\"https://wandb.me/run\" target=\"_blank\">docs</a>)<br/>Sweep page:  <a href=\"https://wandb.ai/maiquanh/quanh/sweeps/8p4zr03y\" target=\"_blank\">https://wandb.ai/maiquanh/quanh/sweeps/8p4zr03y</a>"
      ],
      "text/plain": [
       "<IPython.core.display.HTML object>"
      ]
     },
     "metadata": {},
     "output_type": "display_data"
    },
    {
     "name": "stdout",
     "output_type": "stream",
     "text": [
      "-----START TRAINING CLASSIFICATION-----\n",
      "Epoch: 95\t| Train_loss: 0.005593\t|Train accuracy: 99.538380\t| Test_loss: 0.003153\t|Test accuracy: 94.897084\t|Val accuracy: 86.366669 \n",
      "\n",
      "----COMPLETED TRAINING CLASSIFICATION-----\n",
      "val_acc 86.36666870117188\n",
      "ok\n"
     ]
    },
    {
     "data": {
      "text/html": [
       "Waiting for W&B process to finish... <strong style=\"color:green\">(success).</strong>"
      ],
      "text/plain": [
       "<IPython.core.display.HTML object>"
      ]
     },
     "metadata": {},
     "output_type": "display_data"
    },
    {
     "data": {
      "text/html": [
       "<style>\n",
       "    table.wandb td:nth-child(1) { padding: 0 10px; text-align: left ; width: auto;} td:nth-child(2) {text-align: left ; width: 100%}\n",
       "    .wandb-row { display: flex; flex-direction: row; flex-wrap: wrap; justify-content: flex-start; width: 100% }\n",
       "    .wandb-col { display: flex; flex-direction: column; flex-basis: 100%; flex: 1; padding: 10px; }\n",
       "    </style>\n",
       "<div class=\"wandb-row\"><div class=\"wandb-col\"><h3>Run history:</h3><br/><table class=\"wandb\"><tr><td>test_loss</td><td>█▄▃▂▃▃▁▁▁▁▁▂▂▁▁▁▁▁▁▁▁▁▁▁▁▂▁▁▁▁▁▁▁▁▂▁▁▁▁▁</td></tr><tr><td>train_loss</td><td>█▃▂▂▁▁▁▁▁▁▁▁▁▁▁▁▁▁▁▁▁▁▁▁▁▁▁▁▁▁▁▁▁▁▁▁▁▁▁▁</td></tr><tr><td>val_acc</td><td>▁</td></tr></table><br/></div><div class=\"wandb-col\"><h3>Run summary:</h3><br/><table class=\"wandb\"><tr><td>test_loss</td><td>0.00315</td></tr><tr><td>train_loss</td><td>0.00559</td></tr><tr><td>val_acc</td><td>93.26666</td></tr></table><br/></div></div>"
      ],
      "text/plain": [
       "<IPython.core.display.HTML object>"
      ]
     },
     "metadata": {},
     "output_type": "display_data"
    },
    {
     "data": {
      "text/html": [
       "Synced <strong style=\"color:#cdcd00\">breezy-sweep-6</strong>: <a href=\"https://wandb.ai/maiquanh/quanh/runs/8r1lk8z6\" target=\"_blank\">https://wandb.ai/maiquanh/quanh/runs/8r1lk8z6</a><br/>Synced 6 W&B file(s), 0 media file(s), 0 artifact file(s) and 0 other file(s)"
      ],
      "text/plain": [
       "<IPython.core.display.HTML object>"
      ]
     },
     "metadata": {},
     "output_type": "display_data"
    },
    {
     "data": {
      "text/html": [
       "Find logs at: <code>./wandb/run-20221019_090212-8r1lk8z6/logs</code>"
      ],
      "text/plain": [
       "<IPython.core.display.HTML object>"
      ]
     },
     "metadata": {},
     "output_type": "display_data"
    },
    {
     "name": "stderr",
     "output_type": "stream",
     "text": [
      "\u001b[34m\u001b[1mwandb\u001b[0m: Agent Starting Run: lvw94vnj with config:\n",
      "\u001b[34m\u001b[1mwandb\u001b[0m: \tbatch_size: 128\n",
      "\u001b[34m\u001b[1mwandb\u001b[0m: \td_hidden: 3\n",
      "\u001b[34m\u001b[1mwandb\u001b[0m: \tdata_dir: /home/quanhhh/Documents/model/pickle/\n",
      "\u001b[34m\u001b[1mwandb\u001b[0m: \tdropout: 0.16554361625503256\n",
      "\u001b[34m\u001b[1mwandb\u001b[0m: \tkernel_size_1: 74\n",
      "\u001b[34m\u001b[1mwandb\u001b[0m: \tkernel_size_2: 4\n",
      "\u001b[34m\u001b[1mwandb\u001b[0m: \tlr: 0.00026697132065162625\n",
      "\u001b[34m\u001b[1mwandb\u001b[0m: \tmaxpool_1: 3\n",
      "\u001b[34m\u001b[1mwandb\u001b[0m: \tmaxpool_2: 8\n",
      "\u001b[34m\u001b[1mwandb\u001b[0m: \tnum_epoch: 96\n",
      "\u001b[34m\u001b[1mwandb\u001b[0m: \tnum_filters: 17\n",
      "\u001b[34m\u001b[1mwandb\u001b[0m: \tnum_layers: 4\n",
      "\u001b[34m\u001b[1mwandb\u001b[0m: \tresult_dir: /home/quanhhh/Documents/model/result_wandb/\n",
      "\u001b[34m\u001b[1mwandb\u001b[0m: \tstride_1: 3\n",
      "\u001b[34m\u001b[1mwandb\u001b[0m: \tstride_2: 8\n",
      "\u001b[34m\u001b[1mwandb\u001b[0m: \tweight_decay: 0.00014849118861070718\n"
     ]
    },
    {
     "data": {
      "text/html": [
       "Tracking run with wandb version 0.13.4"
      ],
      "text/plain": [
       "<IPython.core.display.HTML object>"
      ]
     },
     "metadata": {},
     "output_type": "display_data"
    },
    {
     "data": {
      "text/html": [
       "Run data is saved locally in <code>/home/quanhhh/Documents/model/wandb/run-20221019_090609-lvw94vnj</code>"
      ],
      "text/plain": [
       "<IPython.core.display.HTML object>"
      ]
     },
     "metadata": {},
     "output_type": "display_data"
    },
    {
     "data": {
      "text/html": [
       "Syncing run <strong><a href=\"https://wandb.ai/maiquanh/quanh/runs/lvw94vnj\" target=\"_blank\">amber-sweep-7</a></strong> to <a href=\"https://wandb.ai/maiquanh/quanh\" target=\"_blank\">Weights & Biases</a> (<a href=\"https://wandb.me/run\" target=\"_blank\">docs</a>)<br/>Sweep page:  <a href=\"https://wandb.ai/maiquanh/quanh/sweeps/8p4zr03y\" target=\"_blank\">https://wandb.ai/maiquanh/quanh/sweeps/8p4zr03y</a>"
      ],
      "text/plain": [
       "<IPython.core.display.HTML object>"
      ]
     },
     "metadata": {},
     "output_type": "display_data"
    },
    {
     "name": "stdout",
     "output_type": "stream",
     "text": [
      "-----START TRAINING CLASSIFICATION-----\n",
      "Epoch: 96\t| Train_loss: 0.005685\t|Train accuracy: 98.324980\t| Test_loss: 0.003201\t|Test accuracy: 94.296741\t|Val accuracy: 78.933334 \n",
      "\n",
      "----COMPLETED TRAINING CLASSIFICATION-----\n",
      "val_acc 78.93333435058594\n",
      "ok\n"
     ]
    },
    {
     "data": {
      "text/html": [
       "Waiting for W&B process to finish... <strong style=\"color:green\">(success).</strong>"
      ],
      "text/plain": [
       "<IPython.core.display.HTML object>"
      ]
     },
     "metadata": {},
     "output_type": "display_data"
    },
    {
     "data": {
      "text/html": [
       "<style>\n",
       "    table.wandb td:nth-child(1) { padding: 0 10px; text-align: left ; width: auto;} td:nth-child(2) {text-align: left ; width: 100%}\n",
       "    .wandb-row { display: flex; flex-direction: row; flex-wrap: wrap; justify-content: flex-start; width: 100% }\n",
       "    .wandb-col { display: flex; flex-direction: column; flex-basis: 100%; flex: 1; padding: 10px; }\n",
       "    </style>\n",
       "<div class=\"wandb-row\"><div class=\"wandb-col\"><h3>Run history:</h3><br/><table class=\"wandb\"><tr><td>test_loss</td><td>██▇▆▆▆▆▆▅▆▆▅▅▅▅▄▄▄▄▄▄▃▃▂▂▂▁▃▁▁▁▁▁▁▂▂▂▂▃▁</td></tr><tr><td>train_loss</td><td>███▆▅▅▅▅▅▅▄▄▄▄▄▄▃▃▃▂▂▂▂▂▁▁▁▁▁▁▁▁▁▁▁▁▁▁▁▁</td></tr><tr><td>val_acc</td><td>▁</td></tr></table><br/></div><div class=\"wandb-col\"><h3>Run summary:</h3><br/><table class=\"wandb\"><tr><td>test_loss</td><td>0.0032</td></tr><tr><td>train_loss</td><td>0.00569</td></tr><tr><td>val_acc</td><td>93.26666</td></tr></table><br/></div></div>"
      ],
      "text/plain": [
       "<IPython.core.display.HTML object>"
      ]
     },
     "metadata": {},
     "output_type": "display_data"
    },
    {
     "data": {
      "text/html": [
       "Synced <strong style=\"color:#cdcd00\">amber-sweep-7</strong>: <a href=\"https://wandb.ai/maiquanh/quanh/runs/lvw94vnj\" target=\"_blank\">https://wandb.ai/maiquanh/quanh/runs/lvw94vnj</a><br/>Synced 6 W&B file(s), 0 media file(s), 0 artifact file(s) and 0 other file(s)"
      ],
      "text/plain": [
       "<IPython.core.display.HTML object>"
      ]
     },
     "metadata": {},
     "output_type": "display_data"
    },
    {
     "data": {
      "text/html": [
       "Find logs at: <code>./wandb/run-20221019_090609-lvw94vnj/logs</code>"
      ],
      "text/plain": [
       "<IPython.core.display.HTML object>"
      ]
     },
     "metadata": {},
     "output_type": "display_data"
    },
    {
     "name": "stderr",
     "output_type": "stream",
     "text": [
      "\u001b[34m\u001b[1mwandb\u001b[0m: Agent Starting Run: 5a5e8fim with config:\n",
      "\u001b[34m\u001b[1mwandb\u001b[0m: \tbatch_size: 128\n",
      "\u001b[34m\u001b[1mwandb\u001b[0m: \td_hidden: 3\n",
      "\u001b[34m\u001b[1mwandb\u001b[0m: \tdata_dir: /home/quanhhh/Documents/model/pickle/\n",
      "\u001b[34m\u001b[1mwandb\u001b[0m: \tdropout: 0.12382891989797262\n",
      "\u001b[34m\u001b[1mwandb\u001b[0m: \tkernel_size_1: 57\n",
      "\u001b[34m\u001b[1mwandb\u001b[0m: \tkernel_size_2: 3\n",
      "\u001b[34m\u001b[1mwandb\u001b[0m: \tlr: 0.00030081782233373435\n",
      "\u001b[34m\u001b[1mwandb\u001b[0m: \tmaxpool_1: 5\n",
      "\u001b[34m\u001b[1mwandb\u001b[0m: \tmaxpool_2: 7\n",
      "\u001b[34m\u001b[1mwandb\u001b[0m: \tnum_epoch: 95\n",
      "\u001b[34m\u001b[1mwandb\u001b[0m: \tnum_filters: 42\n",
      "\u001b[34m\u001b[1mwandb\u001b[0m: \tnum_layers: 4\n",
      "\u001b[34m\u001b[1mwandb\u001b[0m: \tresult_dir: /home/quanhhh/Documents/model/result_wandb/\n",
      "\u001b[34m\u001b[1mwandb\u001b[0m: \tstride_1: 5\n",
      "\u001b[34m\u001b[1mwandb\u001b[0m: \tstride_2: 7\n",
      "\u001b[34m\u001b[1mwandb\u001b[0m: \tweight_decay: 0.0001052671821541284\n"
     ]
    },
    {
     "data": {
      "text/html": [
       "Tracking run with wandb version 0.13.4"
      ],
      "text/plain": [
       "<IPython.core.display.HTML object>"
      ]
     },
     "metadata": {},
     "output_type": "display_data"
    },
    {
     "data": {
      "text/html": [
       "Run data is saved locally in <code>/home/quanhhh/Documents/model/wandb/run-20221019_090928-5a5e8fim</code>"
      ],
      "text/plain": [
       "<IPython.core.display.HTML object>"
      ]
     },
     "metadata": {},
     "output_type": "display_data"
    },
    {
     "data": {
      "text/html": [
       "Syncing run <strong><a href=\"https://wandb.ai/maiquanh/quanh/runs/5a5e8fim\" target=\"_blank\">sleek-sweep-8</a></strong> to <a href=\"https://wandb.ai/maiquanh/quanh\" target=\"_blank\">Weights & Biases</a> (<a href=\"https://wandb.me/run\" target=\"_blank\">docs</a>)<br/>Sweep page:  <a href=\"https://wandb.ai/maiquanh/quanh/sweeps/8p4zr03y\" target=\"_blank\">https://wandb.ai/maiquanh/quanh/sweeps/8p4zr03y</a>"
      ],
      "text/plain": [
       "<IPython.core.display.HTML object>"
      ]
     },
     "metadata": {},
     "output_type": "display_data"
    },
    {
     "name": "stdout",
     "output_type": "stream",
     "text": [
      "-----START TRAINING CLASSIFICATION-----\n",
      "Epoch: 95\t| Train_loss: 0.005591\t|Train accuracy: 97.863361\t| Test_loss: 0.003180\t|Test accuracy: 93.867925\t|Val accuracy: 89.666664 \n",
      "\n",
      "----COMPLETED TRAINING CLASSIFICATION-----\n",
      "val_acc 89.66666412353516\n",
      "ok\n"
     ]
    },
    {
     "data": {
      "text/html": [
       "Waiting for W&B process to finish... <strong style=\"color:green\">(success).</strong>"
      ],
      "text/plain": [
       "<IPython.core.display.HTML object>"
      ]
     },
     "metadata": {},
     "output_type": "display_data"
    },
    {
     "data": {
      "text/html": [
       "<style>\n",
       "    table.wandb td:nth-child(1) { padding: 0 10px; text-align: left ; width: auto;} td:nth-child(2) {text-align: left ; width: 100%}\n",
       "    .wandb-row { display: flex; flex-direction: row; flex-wrap: wrap; justify-content: flex-start; width: 100% }\n",
       "    .wandb-col { display: flex; flex-direction: column; flex-basis: 100%; flex: 1; padding: 10px; }\n",
       "    </style>\n",
       "<div class=\"wandb-row\"><div class=\"wandb-col\"><h3>Run history:</h3><br/><table class=\"wandb\"><tr><td>test_loss</td><td>███▇▆▅▅▄▄▃▃▃▂▂▂▂▂▃▂▂▁▁▂▁▁▁▁▁▁▁▁▂▂▁▁▁▁▁▁▁</td></tr><tr><td>train_loss</td><td>███▇▆▄▄▃▃▂▂▂▂▂▂▁▁▁▁▁▁▁▁▁▁▁▁▁▁▁▁▁▁▁▁▁▁▁▁▁</td></tr><tr><td>val_acc</td><td>▁</td></tr></table><br/></div><div class=\"wandb-col\"><h3>Run summary:</h3><br/><table class=\"wandb\"><tr><td>test_loss</td><td>0.00318</td></tr><tr><td>train_loss</td><td>0.00559</td></tr><tr><td>val_acc</td><td>94.16666</td></tr></table><br/></div></div>"
      ],
      "text/plain": [
       "<IPython.core.display.HTML object>"
      ]
     },
     "metadata": {},
     "output_type": "display_data"
    },
    {
     "data": {
      "text/html": [
       "Synced <strong style=\"color:#cdcd00\">sleek-sweep-8</strong>: <a href=\"https://wandb.ai/maiquanh/quanh/runs/5a5e8fim\" target=\"_blank\">https://wandb.ai/maiquanh/quanh/runs/5a5e8fim</a><br/>Synced 6 W&B file(s), 0 media file(s), 0 artifact file(s) and 0 other file(s)"
      ],
      "text/plain": [
       "<IPython.core.display.HTML object>"
      ]
     },
     "metadata": {},
     "output_type": "display_data"
    },
    {
     "data": {
      "text/html": [
       "Find logs at: <code>./wandb/run-20221019_090928-5a5e8fim/logs</code>"
      ],
      "text/plain": [
       "<IPython.core.display.HTML object>"
      ]
     },
     "metadata": {},
     "output_type": "display_data"
    },
    {
     "name": "stderr",
     "output_type": "stream",
     "text": [
      "\u001b[34m\u001b[1mwandb\u001b[0m: Agent Starting Run: ap6vwgtt with config:\n",
      "\u001b[34m\u001b[1mwandb\u001b[0m: \tbatch_size: 128\n",
      "\u001b[34m\u001b[1mwandb\u001b[0m: \td_hidden: 3\n",
      "\u001b[34m\u001b[1mwandb\u001b[0m: \tdata_dir: /home/quanhhh/Documents/model/pickle/\n",
      "\u001b[34m\u001b[1mwandb\u001b[0m: \tdropout: 0.1254504861333835\n",
      "\u001b[34m\u001b[1mwandb\u001b[0m: \tkernel_size_1: 68\n",
      "\u001b[34m\u001b[1mwandb\u001b[0m: \tkernel_size_2: 3\n",
      "\u001b[34m\u001b[1mwandb\u001b[0m: \tlr: 0.0035352863050707515\n",
      "\u001b[34m\u001b[1mwandb\u001b[0m: \tmaxpool_1: 3\n",
      "\u001b[34m\u001b[1mwandb\u001b[0m: \tmaxpool_2: 6\n",
      "\u001b[34m\u001b[1mwandb\u001b[0m: \tnum_epoch: 82\n",
      "\u001b[34m\u001b[1mwandb\u001b[0m: \tnum_filters: 28\n",
      "\u001b[34m\u001b[1mwandb\u001b[0m: \tnum_layers: 3\n",
      "\u001b[34m\u001b[1mwandb\u001b[0m: \tresult_dir: /home/quanhhh/Documents/model/result_wandb/\n",
      "\u001b[34m\u001b[1mwandb\u001b[0m: \tstride_1: 3\n",
      "\u001b[34m\u001b[1mwandb\u001b[0m: \tstride_2: 7\n",
      "\u001b[34m\u001b[1mwandb\u001b[0m: \tweight_decay: 0.0001248942392809856\n"
     ]
    },
    {
     "data": {
      "text/html": [
       "Tracking run with wandb version 0.13.4"
      ],
      "text/plain": [
       "<IPython.core.display.HTML object>"
      ]
     },
     "metadata": {},
     "output_type": "display_data"
    },
    {
     "data": {
      "text/html": [
       "Run data is saved locally in <code>/home/quanhhh/Documents/model/wandb/run-20221019_091303-ap6vwgtt</code>"
      ],
      "text/plain": [
       "<IPython.core.display.HTML object>"
      ]
     },
     "metadata": {},
     "output_type": "display_data"
    },
    {
     "data": {
      "text/html": [
       "Syncing run <strong><a href=\"https://wandb.ai/maiquanh/quanh/runs/ap6vwgtt\" target=\"_blank\">fast-sweep-9</a></strong> to <a href=\"https://wandb.ai/maiquanh/quanh\" target=\"_blank\">Weights & Biases</a> (<a href=\"https://wandb.me/run\" target=\"_blank\">docs</a>)<br/>Sweep page:  <a href=\"https://wandb.ai/maiquanh/quanh/sweeps/8p4zr03y\" target=\"_blank\">https://wandb.ai/maiquanh/quanh/sweeps/8p4zr03y</a>"
      ],
      "text/plain": [
       "<IPython.core.display.HTML object>"
      ]
     },
     "metadata": {},
     "output_type": "display_data"
    },
    {
     "name": "stdout",
     "output_type": "stream",
     "text": [
      "-----START TRAINING CLASSIFICATION-----\n",
      "Epoch: 82\t| Train_loss: 0.005639\t|Train accuracy: 96.518069\t| Test_loss: 0.003187\t|Test accuracy: 94.296741\t|Val accuracy: 81.400002 \n",
      "\n",
      "----COMPLETED TRAINING CLASSIFICATION-----\n",
      "val_acc 81.4000015258789\n",
      "ok\n"
     ]
    },
    {
     "data": {
      "text/html": [
       "Waiting for W&B process to finish... <strong style=\"color:green\">(success).</strong>"
      ],
      "text/plain": [
       "<IPython.core.display.HTML object>"
      ]
     },
     "metadata": {},
     "output_type": "display_data"
    },
    {
     "data": {
      "text/html": [
       "<style>\n",
       "    table.wandb td:nth-child(1) { padding: 0 10px; text-align: left ; width: auto;} td:nth-child(2) {text-align: left ; width: 100%}\n",
       "    .wandb-row { display: flex; flex-direction: row; flex-wrap: wrap; justify-content: flex-start; width: 100% }\n",
       "    .wandb-col { display: flex; flex-direction: column; flex-basis: 100%; flex: 1; padding: 10px; }\n",
       "    </style>\n",
       "<div class=\"wandb-row\"><div class=\"wandb-col\"><h3>Run history:</h3><br/><table class=\"wandb\"><tr><td>test_loss</td><td>█▆▂▂▃▂▃▃▃▂▃▃▃▃▃▃▃▃▃▂▂▂▃▁▃▃▆▁▂▁▁▁▂▃▂▁▃▂▃▁</td></tr><tr><td>train_loss</td><td>█▄▂▂▁▁▁▁▁▁▁▁▁▁▁▁▁▁▁▁▁▁▁▁▁▁▁▁▁▁▁▁▁▁▁▁▁▁▁▁</td></tr><tr><td>val_acc</td><td>▁</td></tr></table><br/></div><div class=\"wandb-col\"><h3>Run summary:</h3><br/><table class=\"wandb\"><tr><td>test_loss</td><td>0.00319</td></tr><tr><td>train_loss</td><td>0.00564</td></tr><tr><td>val_acc</td><td>90.73333</td></tr></table><br/></div></div>"
      ],
      "text/plain": [
       "<IPython.core.display.HTML object>"
      ]
     },
     "metadata": {},
     "output_type": "display_data"
    },
    {
     "data": {
      "text/html": [
       "Synced <strong style=\"color:#cdcd00\">fast-sweep-9</strong>: <a href=\"https://wandb.ai/maiquanh/quanh/runs/ap6vwgtt\" target=\"_blank\">https://wandb.ai/maiquanh/quanh/runs/ap6vwgtt</a><br/>Synced 6 W&B file(s), 0 media file(s), 0 artifact file(s) and 0 other file(s)"
      ],
      "text/plain": [
       "<IPython.core.display.HTML object>"
      ]
     },
     "metadata": {},
     "output_type": "display_data"
    },
    {
     "data": {
      "text/html": [
       "Find logs at: <code>./wandb/run-20221019_091303-ap6vwgtt/logs</code>"
      ],
      "text/plain": [
       "<IPython.core.display.HTML object>"
      ]
     },
     "metadata": {},
     "output_type": "display_data"
    },
    {
     "name": "stderr",
     "output_type": "stream",
     "text": [
      "\u001b[34m\u001b[1mwandb\u001b[0m: Agent Starting Run: nwu3z2dj with config:\n",
      "\u001b[34m\u001b[1mwandb\u001b[0m: \tbatch_size: 128\n",
      "\u001b[34m\u001b[1mwandb\u001b[0m: \td_hidden: 3\n",
      "\u001b[34m\u001b[1mwandb\u001b[0m: \tdata_dir: /home/quanhhh/Documents/model/pickle/\n",
      "\u001b[34m\u001b[1mwandb\u001b[0m: \tdropout: 0.12041694532536336\n",
      "\u001b[34m\u001b[1mwandb\u001b[0m: \tkernel_size_1: 97\n",
      "\u001b[34m\u001b[1mwandb\u001b[0m: \tkernel_size_2: 6\n",
      "\u001b[34m\u001b[1mwandb\u001b[0m: \tlr: 0.0001470405419530124\n",
      "\u001b[34m\u001b[1mwandb\u001b[0m: \tmaxpool_1: 4\n",
      "\u001b[34m\u001b[1mwandb\u001b[0m: \tmaxpool_2: 5\n",
      "\u001b[34m\u001b[1mwandb\u001b[0m: \tnum_epoch: 98\n",
      "\u001b[34m\u001b[1mwandb\u001b[0m: \tnum_filters: 29\n",
      "\u001b[34m\u001b[1mwandb\u001b[0m: \tnum_layers: 4\n",
      "\u001b[34m\u001b[1mwandb\u001b[0m: \tresult_dir: /home/quanhhh/Documents/model/result_wandb/\n",
      "\u001b[34m\u001b[1mwandb\u001b[0m: \tstride_1: 3\n",
      "\u001b[34m\u001b[1mwandb\u001b[0m: \tstride_2: 9\n",
      "\u001b[34m\u001b[1mwandb\u001b[0m: \tweight_decay: 0.00011551091842094448\n"
     ]
    },
    {
     "data": {
      "text/html": [
       "Tracking run with wandb version 0.13.4"
      ],
      "text/plain": [
       "<IPython.core.display.HTML object>"
      ]
     },
     "metadata": {},
     "output_type": "display_data"
    },
    {
     "data": {
      "text/html": [
       "Run data is saved locally in <code>/home/quanhhh/Documents/model/wandb/run-20221019_091820-nwu3z2dj</code>"
      ],
      "text/plain": [
       "<IPython.core.display.HTML object>"
      ]
     },
     "metadata": {},
     "output_type": "display_data"
    },
    {
     "data": {
      "text/html": [
       "Syncing run <strong><a href=\"https://wandb.ai/maiquanh/quanh/runs/nwu3z2dj\" target=\"_blank\">feasible-sweep-10</a></strong> to <a href=\"https://wandb.ai/maiquanh/quanh\" target=\"_blank\">Weights & Biases</a> (<a href=\"https://wandb.me/run\" target=\"_blank\">docs</a>)<br/>Sweep page:  <a href=\"https://wandb.ai/maiquanh/quanh/sweeps/8p4zr03y\" target=\"_blank\">https://wandb.ai/maiquanh/quanh/sweeps/8p4zr03y</a>"
      ],
      "text/plain": [
       "<IPython.core.display.HTML object>"
      ]
     },
     "metadata": {},
     "output_type": "display_data"
    },
    {
     "name": "stdout",
     "output_type": "stream",
     "text": [
      "-----START TRAINING CLASSIFICATION-----\n",
      "Epoch: 98\t| Train_loss: 0.005725\t|Train accuracy: 99.380111\t| Test_loss: 0.003298\t|Test accuracy: 91.552316\t|Val accuracy: 88.400002 \n",
      "\n",
      "----COMPLETED TRAINING CLASSIFICATION-----\n",
      "val_acc 88.4000015258789\n",
      "ok\n"
     ]
    },
    {
     "data": {
      "text/html": [
       "Waiting for W&B process to finish... <strong style=\"color:green\">(success).</strong>"
      ],
      "text/plain": [
       "<IPython.core.display.HTML object>"
      ]
     },
     "metadata": {},
     "output_type": "display_data"
    },
    {
     "data": {
      "text/html": [
       "<style>\n",
       "    table.wandb td:nth-child(1) { padding: 0 10px; text-align: left ; width: auto;} td:nth-child(2) {text-align: left ; width: 100%}\n",
       "    .wandb-row { display: flex; flex-direction: row; flex-wrap: wrap; justify-content: flex-start; width: 100% }\n",
       "    .wandb-col { display: flex; flex-direction: column; flex-basis: 100%; flex: 1; padding: 10px; }\n",
       "    </style>\n",
       "<div class=\"wandb-row\"><div class=\"wandb-col\"><h3>Run history:</h3><br/><table class=\"wandb\"><tr><td>test_loss</td><td>█████▇▆▅▅▄▄▃▃▄▃▃▂▄▃▃▂▂▂▁▂▂▂▁▁▂▁▂▂▁▁▁▁▁▂▁</td></tr><tr><td>train_loss</td><td>█████▇▆▄▄▄▃▃▃▃▂▂▂▃▂▂▂▂▂▂▁▁▁▁▁▁▁▁▁▁▁▁▁▁▁▁</td></tr><tr><td>val_acc</td><td>▁</td></tr></table><br/></div><div class=\"wandb-col\"><h3>Run summary:</h3><br/><table class=\"wandb\"><tr><td>test_loss</td><td>0.0033</td></tr><tr><td>train_loss</td><td>0.00572</td></tr><tr><td>val_acc</td><td>90.56667</td></tr></table><br/></div></div>"
      ],
      "text/plain": [
       "<IPython.core.display.HTML object>"
      ]
     },
     "metadata": {},
     "output_type": "display_data"
    },
    {
     "data": {
      "text/html": [
       "Synced <strong style=\"color:#cdcd00\">feasible-sweep-10</strong>: <a href=\"https://wandb.ai/maiquanh/quanh/runs/nwu3z2dj\" target=\"_blank\">https://wandb.ai/maiquanh/quanh/runs/nwu3z2dj</a><br/>Synced 6 W&B file(s), 0 media file(s), 0 artifact file(s) and 0 other file(s)"
      ],
      "text/plain": [
       "<IPython.core.display.HTML object>"
      ]
     },
     "metadata": {},
     "output_type": "display_data"
    },
    {
     "data": {
      "text/html": [
       "Find logs at: <code>./wandb/run-20221019_091820-nwu3z2dj/logs</code>"
      ],
      "text/plain": [
       "<IPython.core.display.HTML object>"
      ]
     },
     "metadata": {},
     "output_type": "display_data"
    },
    {
     "name": "stderr",
     "output_type": "stream",
     "text": [
      "\u001b[34m\u001b[1mwandb\u001b[0m: Sweep Agent: Waiting for job.\n",
      "\u001b[34m\u001b[1mwandb\u001b[0m: Job received.\n",
      "\u001b[34m\u001b[1mwandb\u001b[0m: Agent Starting Run: cyq7xu04 with config:\n",
      "\u001b[34m\u001b[1mwandb\u001b[0m: \tbatch_size: 128\n",
      "\u001b[34m\u001b[1mwandb\u001b[0m: \td_hidden: 3\n",
      "\u001b[34m\u001b[1mwandb\u001b[0m: \tdata_dir: /home/quanhhh/Documents/model/pickle/\n",
      "\u001b[34m\u001b[1mwandb\u001b[0m: \tdropout: 0.13118628739216964\n",
      "\u001b[34m\u001b[1mwandb\u001b[0m: \tkernel_size_1: 58\n",
      "\u001b[34m\u001b[1mwandb\u001b[0m: \tkernel_size_2: 5\n",
      "\u001b[34m\u001b[1mwandb\u001b[0m: \tlr: 0.0003308177055984546\n",
      "\u001b[34m\u001b[1mwandb\u001b[0m: \tmaxpool_1: 4\n",
      "\u001b[34m\u001b[1mwandb\u001b[0m: \tmaxpool_2: 8\n",
      "\u001b[34m\u001b[1mwandb\u001b[0m: \tnum_epoch: 93\n",
      "\u001b[34m\u001b[1mwandb\u001b[0m: \tnum_filters: 24\n",
      "\u001b[34m\u001b[1mwandb\u001b[0m: \tnum_layers: 4\n",
      "\u001b[34m\u001b[1mwandb\u001b[0m: \tresult_dir: /home/quanhhh/Documents/model/result_wandb/\n",
      "\u001b[34m\u001b[1mwandb\u001b[0m: \tstride_1: 3\n",
      "\u001b[34m\u001b[1mwandb\u001b[0m: \tstride_2: 8\n",
      "\u001b[34m\u001b[1mwandb\u001b[0m: \tweight_decay: 0.00017867215824571444\n"
     ]
    },
    {
     "data": {
      "text/html": [
       "Tracking run with wandb version 0.13.4"
      ],
      "text/plain": [
       "<IPython.core.display.HTML object>"
      ]
     },
     "metadata": {},
     "output_type": "display_data"
    },
    {
     "data": {
      "text/html": [
       "Run data is saved locally in <code>/home/quanhhh/Documents/model/wandb/run-20221019_092249-cyq7xu04</code>"
      ],
      "text/plain": [
       "<IPython.core.display.HTML object>"
      ]
     },
     "metadata": {},
     "output_type": "display_data"
    },
    {
     "data": {
      "text/html": [
       "Syncing run <strong><a href=\"https://wandb.ai/maiquanh/quanh/runs/cyq7xu04\" target=\"_blank\">young-sweep-11</a></strong> to <a href=\"https://wandb.ai/maiquanh/quanh\" target=\"_blank\">Weights & Biases</a> (<a href=\"https://wandb.me/run\" target=\"_blank\">docs</a>)<br/>Sweep page:  <a href=\"https://wandb.ai/maiquanh/quanh/sweeps/8p4zr03y\" target=\"_blank\">https://wandb.ai/maiquanh/quanh/sweeps/8p4zr03y</a>"
      ],
      "text/plain": [
       "<IPython.core.display.HTML object>"
      ]
     },
     "metadata": {},
     "output_type": "display_data"
    },
    {
     "name": "stdout",
     "output_type": "stream",
     "text": [
      "-----START TRAINING CLASSIFICATION-----\n",
      "Epoch: 93\t| Train_loss: 0.005827\t|Train accuracy: 98.905302\t| Test_loss: 0.003253\t|Test accuracy: 97.255575\t|Val accuracy: 73.666664 \n",
      "\n",
      "----COMPLETED TRAINING CLASSIFICATION-----\n",
      "val_acc 73.66666412353516\n",
      "ok\n"
     ]
    },
    {
     "data": {
      "text/html": [
       "Waiting for W&B process to finish... <strong style=\"color:green\">(success).</strong>"
      ],
      "text/plain": [
       "<IPython.core.display.HTML object>"
      ]
     },
     "metadata": {},
     "output_type": "display_data"
    },
    {
     "data": {
      "text/html": [
       "<style>\n",
       "    table.wandb td:nth-child(1) { padding: 0 10px; text-align: left ; width: auto;} td:nth-child(2) {text-align: left ; width: 100%}\n",
       "    .wandb-row { display: flex; flex-direction: row; flex-wrap: wrap; justify-content: flex-start; width: 100% }\n",
       "    .wandb-col { display: flex; flex-direction: column; flex-basis: 100%; flex: 1; padding: 10px; }\n",
       "    </style>\n",
       "<div class=\"wandb-row\"><div class=\"wandb-col\"><h3>Run history:</h3><br/><table class=\"wandb\"><tr><td>test_loss</td><td>███▇▆▆▆▆▅▃▃▂▃▂▂▂▂▃▁▂▂▂▂▁▂▂▁▁▂▁▁▁▁▁▁▁▁▂▁▁</td></tr><tr><td>train_loss</td><td>███▅▅▅▅▄▄▃▂▂▂▂▁▁▁▁▁▁▁▁▁▁▁▁▁▁▁▁▁▁▁▁▁▁▁▁▁▁</td></tr><tr><td>val_acc</td><td>▁</td></tr></table><br/></div><div class=\"wandb-col\"><h3>Run summary:</h3><br/><table class=\"wandb\"><tr><td>test_loss</td><td>0.00325</td></tr><tr><td>train_loss</td><td>0.00583</td></tr><tr><td>val_acc</td><td>94.73333</td></tr></table><br/></div></div>"
      ],
      "text/plain": [
       "<IPython.core.display.HTML object>"
      ]
     },
     "metadata": {},
     "output_type": "display_data"
    },
    {
     "data": {
      "text/html": [
       "Synced <strong style=\"color:#cdcd00\">young-sweep-11</strong>: <a href=\"https://wandb.ai/maiquanh/quanh/runs/cyq7xu04\" target=\"_blank\">https://wandb.ai/maiquanh/quanh/runs/cyq7xu04</a><br/>Synced 6 W&B file(s), 0 media file(s), 0 artifact file(s) and 0 other file(s)"
      ],
      "text/plain": [
       "<IPython.core.display.HTML object>"
      ]
     },
     "metadata": {},
     "output_type": "display_data"
    },
    {
     "data": {
      "text/html": [
       "Find logs at: <code>./wandb/run-20221019_092249-cyq7xu04/logs</code>"
      ],
      "text/plain": [
       "<IPython.core.display.HTML object>"
      ]
     },
     "metadata": {},
     "output_type": "display_data"
    },
    {
     "name": "stderr",
     "output_type": "stream",
     "text": [
      "\u001b[34m\u001b[1mwandb\u001b[0m: Agent Starting Run: 7oz5n9ds with config:\n",
      "\u001b[34m\u001b[1mwandb\u001b[0m: \tbatch_size: 128\n",
      "\u001b[34m\u001b[1mwandb\u001b[0m: \td_hidden: 3\n",
      "\u001b[34m\u001b[1mwandb\u001b[0m: \tdata_dir: /home/quanhhh/Documents/model/pickle/\n",
      "\u001b[34m\u001b[1mwandb\u001b[0m: \tdropout: 0.11393541885716783\n",
      "\u001b[34m\u001b[1mwandb\u001b[0m: \tkernel_size_1: 54\n",
      "\u001b[34m\u001b[1mwandb\u001b[0m: \tkernel_size_2: 3\n",
      "\u001b[34m\u001b[1mwandb\u001b[0m: \tlr: 0.0004440696709749525\n",
      "\u001b[34m\u001b[1mwandb\u001b[0m: \tmaxpool_1: 5\n",
      "\u001b[34m\u001b[1mwandb\u001b[0m: \tmaxpool_2: 7\n",
      "\u001b[34m\u001b[1mwandb\u001b[0m: \tnum_epoch: 99\n",
      "\u001b[34m\u001b[1mwandb\u001b[0m: \tnum_filters: 31\n",
      "\u001b[34m\u001b[1mwandb\u001b[0m: \tnum_layers: 3\n",
      "\u001b[34m\u001b[1mwandb\u001b[0m: \tresult_dir: /home/quanhhh/Documents/model/result_wandb/\n",
      "\u001b[34m\u001b[1mwandb\u001b[0m: \tstride_1: 3\n",
      "\u001b[34m\u001b[1mwandb\u001b[0m: \tstride_2: 8\n",
      "\u001b[34m\u001b[1mwandb\u001b[0m: \tweight_decay: 0.00012526341024294454\n"
     ]
    },
    {
     "data": {
      "text/html": [
       "Tracking run with wandb version 0.13.4"
      ],
      "text/plain": [
       "<IPython.core.display.HTML object>"
      ]
     },
     "metadata": {},
     "output_type": "display_data"
    },
    {
     "data": {
      "text/html": [
       "Run data is saved locally in <code>/home/quanhhh/Documents/model/wandb/run-20221019_092615-7oz5n9ds</code>"
      ],
      "text/plain": [
       "<IPython.core.display.HTML object>"
      ]
     },
     "metadata": {},
     "output_type": "display_data"
    },
    {
     "data": {
      "text/html": [
       "Syncing run <strong><a href=\"https://wandb.ai/maiquanh/quanh/runs/7oz5n9ds\" target=\"_blank\">deep-sweep-12</a></strong> to <a href=\"https://wandb.ai/maiquanh/quanh\" target=\"_blank\">Weights & Biases</a> (<a href=\"https://wandb.me/run\" target=\"_blank\">docs</a>)<br/>Sweep page:  <a href=\"https://wandb.ai/maiquanh/quanh/sweeps/8p4zr03y\" target=\"_blank\">https://wandb.ai/maiquanh/quanh/sweeps/8p4zr03y</a>"
      ],
      "text/plain": [
       "<IPython.core.display.HTML object>"
      ]
     },
     "metadata": {},
     "output_type": "display_data"
    },
    {
     "name": "stdout",
     "output_type": "stream",
     "text": [
      "-----START TRAINING CLASSIFICATION-----\n",
      "Epoch: 99\t| Train_loss: 0.006086\t|Train accuracy: 95.502506\t| Test_loss: 0.003603\t|Test accuracy: 83.147513\t|Val accuracy: 67.333336 \n",
      "\n",
      "----COMPLETED TRAINING CLASSIFICATION-----\n",
      "val_acc 67.33333587646484\n",
      "ok\n"
     ]
    },
    {
     "data": {
      "text/html": [
       "Waiting for W&B process to finish... <strong style=\"color:green\">(success).</strong>"
      ],
      "text/plain": [
       "<IPython.core.display.HTML object>"
      ]
     },
     "metadata": {},
     "output_type": "display_data"
    },
    {
     "data": {
      "text/html": [
       "<style>\n",
       "    table.wandb td:nth-child(1) { padding: 0 10px; text-align: left ; width: auto;} td:nth-child(2) {text-align: left ; width: 100%}\n",
       "    .wandb-row { display: flex; flex-direction: row; flex-wrap: wrap; justify-content: flex-start; width: 100% }\n",
       "    .wandb-col { display: flex; flex-direction: column; flex-basis: 100%; flex: 1; padding: 10px; }\n",
       "    </style>\n",
       "<div class=\"wandb-row\"><div class=\"wandb-col\"><h3>Run history:</h3><br/><table class=\"wandb\"><tr><td>test_loss</td><td>██▆▅▄▄▄▄▃▃▃▃▃▃▃▃▂▄▃▂▂▂▂▂▂▁▁▁▁▂▂▂▂▂▂▂▂▂▂▂</td></tr><tr><td>train_loss</td><td>█▇▆▅▃▃▃▃▃▂▂▂▂▂▂▂▂▂▂▂▂▁▁▁▁▁▁▁▁▁▁▁▁▁▁▁▁▁▁▁</td></tr><tr><td>val_acc</td><td>▁</td></tr></table><br/></div><div class=\"wandb-col\"><h3>Run summary:</h3><br/><table class=\"wandb\"><tr><td>test_loss</td><td>0.0036</td></tr><tr><td>train_loss</td><td>0.00609</td></tr><tr><td>val_acc</td><td>79.1</td></tr></table><br/></div></div>"
      ],
      "text/plain": [
       "<IPython.core.display.HTML object>"
      ]
     },
     "metadata": {},
     "output_type": "display_data"
    },
    {
     "data": {
      "text/html": [
       "Synced <strong style=\"color:#cdcd00\">deep-sweep-12</strong>: <a href=\"https://wandb.ai/maiquanh/quanh/runs/7oz5n9ds\" target=\"_blank\">https://wandb.ai/maiquanh/quanh/runs/7oz5n9ds</a><br/>Synced 6 W&B file(s), 0 media file(s), 0 artifact file(s) and 0 other file(s)"
      ],
      "text/plain": [
       "<IPython.core.display.HTML object>"
      ]
     },
     "metadata": {},
     "output_type": "display_data"
    },
    {
     "data": {
      "text/html": [
       "Find logs at: <code>./wandb/run-20221019_092615-7oz5n9ds/logs</code>"
      ],
      "text/plain": [
       "<IPython.core.display.HTML object>"
      ]
     },
     "metadata": {},
     "output_type": "display_data"
    },
    {
     "name": "stderr",
     "output_type": "stream",
     "text": [
      "\u001b[34m\u001b[1mwandb\u001b[0m: Sweep Agent: Waiting for job.\n",
      "\u001b[34m\u001b[1mwandb\u001b[0m: Job received.\n",
      "\u001b[34m\u001b[1mwandb\u001b[0m: Agent Starting Run: ua15neva with config:\n",
      "\u001b[34m\u001b[1mwandb\u001b[0m: \tbatch_size: 128\n",
      "\u001b[34m\u001b[1mwandb\u001b[0m: \td_hidden: 3\n",
      "\u001b[34m\u001b[1mwandb\u001b[0m: \tdata_dir: /home/quanhhh/Documents/model/pickle/\n",
      "\u001b[34m\u001b[1mwandb\u001b[0m: \tdropout: 0.1508132213610995\n",
      "\u001b[34m\u001b[1mwandb\u001b[0m: \tkernel_size_1: 51\n",
      "\u001b[34m\u001b[1mwandb\u001b[0m: \tkernel_size_2: 3\n",
      "\u001b[34m\u001b[1mwandb\u001b[0m: \tlr: 0.00011763761124633377\n",
      "\u001b[34m\u001b[1mwandb\u001b[0m: \tmaxpool_1: 5\n",
      "\u001b[34m\u001b[1mwandb\u001b[0m: \tmaxpool_2: 8\n",
      "\u001b[34m\u001b[1mwandb\u001b[0m: \tnum_epoch: 92\n",
      "\u001b[34m\u001b[1mwandb\u001b[0m: \tnum_filters: 31\n",
      "\u001b[34m\u001b[1mwandb\u001b[0m: \tnum_layers: 4\n",
      "\u001b[34m\u001b[1mwandb\u001b[0m: \tresult_dir: /home/quanhhh/Documents/model/result_wandb/\n",
      "\u001b[34m\u001b[1mwandb\u001b[0m: \tstride_1: 6\n",
      "\u001b[34m\u001b[1mwandb\u001b[0m: \tstride_2: 8\n",
      "\u001b[34m\u001b[1mwandb\u001b[0m: \tweight_decay: 0.00010624183187139629\n"
     ]
    },
    {
     "data": {
      "text/html": [
       "Tracking run with wandb version 0.13.4"
      ],
      "text/plain": [
       "<IPython.core.display.HTML object>"
      ]
     },
     "metadata": {},
     "output_type": "display_data"
    },
    {
     "data": {
      "text/html": [
       "Run data is saved locally in <code>/home/quanhhh/Documents/model/wandb/run-20221019_093020-ua15neva</code>"
      ],
      "text/plain": [
       "<IPython.core.display.HTML object>"
      ]
     },
     "metadata": {},
     "output_type": "display_data"
    },
    {
     "data": {
      "text/html": [
       "Syncing run <strong><a href=\"https://wandb.ai/maiquanh/quanh/runs/ua15neva\" target=\"_blank\">swift-sweep-13</a></strong> to <a href=\"https://wandb.ai/maiquanh/quanh\" target=\"_blank\">Weights & Biases</a> (<a href=\"https://wandb.me/run\" target=\"_blank\">docs</a>)<br/>Sweep page:  <a href=\"https://wandb.ai/maiquanh/quanh/sweeps/8p4zr03y\" target=\"_blank\">https://wandb.ai/maiquanh/quanh/sweeps/8p4zr03y</a>"
      ],
      "text/plain": [
       "<IPython.core.display.HTML object>"
      ]
     },
     "metadata": {},
     "output_type": "display_data"
    },
    {
     "name": "stdout",
     "output_type": "stream",
     "text": [
      "-----START TRAINING CLASSIFICATION-----\n",
      "Epoch: 92\t| Train_loss: 0.006260\t|Train accuracy: 98.193089\t| Test_loss: 0.003648\t|Test accuracy: 87.864494\t|Val accuracy: 73.400002 \n",
      "\n",
      "----COMPLETED TRAINING CLASSIFICATION-----\n",
      "val_acc 73.4000015258789\n",
      "ok\n"
     ]
    },
    {
     "data": {
      "text/html": [
       "Waiting for W&B process to finish... <strong style=\"color:green\">(success).</strong>"
      ],
      "text/plain": [
       "<IPython.core.display.HTML object>"
      ]
     },
     "metadata": {},
     "output_type": "display_data"
    },
    {
     "data": {
      "text/html": [
       "<style>\n",
       "    table.wandb td:nth-child(1) { padding: 0 10px; text-align: left ; width: auto;} td:nth-child(2) {text-align: left ; width: 100%}\n",
       "    .wandb-row { display: flex; flex-direction: row; flex-wrap: wrap; justify-content: flex-start; width: 100% }\n",
       "    .wandb-col { display: flex; flex-direction: column; flex-basis: 100%; flex: 1; padding: 10px; }\n",
       "    </style>\n",
       "<div class=\"wandb-row\"><div class=\"wandb-col\"><h3>Run history:</h3><br/><table class=\"wandb\"><tr><td>test_loss</td><td>██████▇▇▇▆▆▆▅▅▅▄▄▄▄▄▄▄▄▄▃▃▃▂▂▂▂▂▂▁▂▂▁▁▁▂</td></tr><tr><td>train_loss</td><td>██████▇▇▆▆▆▆▅▅▅▅▅▅▄▄▄▄▄▄▃▃▃▂▂▂▂▂▂▂▁▁▁▁▁▁</td></tr><tr><td>val_acc</td><td>▁</td></tr></table><br/></div><div class=\"wandb-col\"><h3>Run summary:</h3><br/><table class=\"wandb\"><tr><td>test_loss</td><td>0.00365</td></tr><tr><td>train_loss</td><td>0.00626</td></tr><tr><td>val_acc</td><td>83.23333</td></tr></table><br/></div></div>"
      ],
      "text/plain": [
       "<IPython.core.display.HTML object>"
      ]
     },
     "metadata": {},
     "output_type": "display_data"
    },
    {
     "data": {
      "text/html": [
       "Synced <strong style=\"color:#cdcd00\">swift-sweep-13</strong>: <a href=\"https://wandb.ai/maiquanh/quanh/runs/ua15neva\" target=\"_blank\">https://wandb.ai/maiquanh/quanh/runs/ua15neva</a><br/>Synced 6 W&B file(s), 0 media file(s), 0 artifact file(s) and 0 other file(s)"
      ],
      "text/plain": [
       "<IPython.core.display.HTML object>"
      ]
     },
     "metadata": {},
     "output_type": "display_data"
    },
    {
     "data": {
      "text/html": [
       "Find logs at: <code>./wandb/run-20221019_093020-ua15neva/logs</code>"
      ],
      "text/plain": [
       "<IPython.core.display.HTML object>"
      ]
     },
     "metadata": {},
     "output_type": "display_data"
    },
    {
     "name": "stderr",
     "output_type": "stream",
     "text": [
      "\u001b[34m\u001b[1mwandb\u001b[0m: Sweep Agent: Waiting for job.\n",
      "\u001b[34m\u001b[1mwandb\u001b[0m: Job received.\n",
      "\u001b[34m\u001b[1mwandb\u001b[0m: Agent Starting Run: mzn14o5p with config:\n",
      "\u001b[34m\u001b[1mwandb\u001b[0m: \tbatch_size: 128\n",
      "\u001b[34m\u001b[1mwandb\u001b[0m: \td_hidden: 3\n",
      "\u001b[34m\u001b[1mwandb\u001b[0m: \tdata_dir: /home/quanhhh/Documents/model/pickle/\n",
      "\u001b[34m\u001b[1mwandb\u001b[0m: \tdropout: 0.13205187015401318\n",
      "\u001b[34m\u001b[1mwandb\u001b[0m: \tkernel_size_1: 69\n",
      "\u001b[34m\u001b[1mwandb\u001b[0m: \tkernel_size_2: 10\n",
      "\u001b[34m\u001b[1mwandb\u001b[0m: \tlr: 0.000808668437417234\n",
      "\u001b[34m\u001b[1mwandb\u001b[0m: \tmaxpool_1: 5\n",
      "\u001b[34m\u001b[1mwandb\u001b[0m: \tmaxpool_2: 8\n",
      "\u001b[34m\u001b[1mwandb\u001b[0m: \tnum_epoch: 90\n",
      "\u001b[34m\u001b[1mwandb\u001b[0m: \tnum_filters: 33\n",
      "\u001b[34m\u001b[1mwandb\u001b[0m: \tnum_layers: 4\n",
      "\u001b[34m\u001b[1mwandb\u001b[0m: \tresult_dir: /home/quanhhh/Documents/model/result_wandb/\n",
      "\u001b[34m\u001b[1mwandb\u001b[0m: \tstride_1: 5\n",
      "\u001b[34m\u001b[1mwandb\u001b[0m: \tstride_2: 9\n",
      "\u001b[34m\u001b[1mwandb\u001b[0m: \tweight_decay: 0.00012406135114439773\n"
     ]
    },
    {
     "data": {
      "text/html": [
       "Tracking run with wandb version 0.13.4"
      ],
      "text/plain": [
       "<IPython.core.display.HTML object>"
      ]
     },
     "metadata": {},
     "output_type": "display_data"
    },
    {
     "data": {
      "text/html": [
       "Run data is saved locally in <code>/home/quanhhh/Documents/model/wandb/run-20221019_093317-mzn14o5p</code>"
      ],
      "text/plain": [
       "<IPython.core.display.HTML object>"
      ]
     },
     "metadata": {},
     "output_type": "display_data"
    },
    {
     "data": {
      "text/html": [
       "Syncing run <strong><a href=\"https://wandb.ai/maiquanh/quanh/runs/mzn14o5p\" target=\"_blank\">devoted-sweep-14</a></strong> to <a href=\"https://wandb.ai/maiquanh/quanh\" target=\"_blank\">Weights & Biases</a> (<a href=\"https://wandb.me/run\" target=\"_blank\">docs</a>)<br/>Sweep page:  <a href=\"https://wandb.ai/maiquanh/quanh/sweeps/8p4zr03y\" target=\"_blank\">https://wandb.ai/maiquanh/quanh/sweeps/8p4zr03y</a>"
      ],
      "text/plain": [
       "<IPython.core.display.HTML object>"
      ]
     },
     "metadata": {},
     "output_type": "display_data"
    },
    {
     "name": "stdout",
     "output_type": "stream",
     "text": [
      "-----START TRAINING CLASSIFICATION-----\n",
      "Epoch: 90\t| Train_loss: 0.005635\t|Train accuracy: 99.089950\t| Test_loss: 0.003199\t|Test accuracy: 93.138937\t|Val accuracy: 77.533333 \n",
      "\n",
      "----COMPLETED TRAINING CLASSIFICATION-----\n",
      "val_acc 77.53333282470703\n",
      "ok\n"
     ]
    },
    {
     "data": {
      "text/html": [
       "Waiting for W&B process to finish... <strong style=\"color:green\">(success).</strong>"
      ],
      "text/plain": [
       "<IPython.core.display.HTML object>"
      ]
     },
     "metadata": {},
     "output_type": "display_data"
    },
    {
     "data": {
      "text/html": [
       "<style>\n",
       "    table.wandb td:nth-child(1) { padding: 0 10px; text-align: left ; width: auto;} td:nth-child(2) {text-align: left ; width: 100%}\n",
       "    .wandb-row { display: flex; flex-direction: row; flex-wrap: wrap; justify-content: flex-start; width: 100% }\n",
       "    .wandb-col { display: flex; flex-direction: column; flex-basis: 100%; flex: 1; padding: 10px; }\n",
       "    </style>\n",
       "<div class=\"wandb-row\"><div class=\"wandb-col\"><h3>Run history:</h3><br/><table class=\"wandb\"><tr><td>test_loss</td><td>█▇▇▆▅▄▄▃▄▃▃▃▄▃▂▃▂▃▂▂▃▃▁▃▃▃▂▁▁▁▂▂▁▁▁▁▁▁▁▁</td></tr><tr><td>train_loss</td><td>█▇▆▅▄▃▃▂▂▂▂▁▁▁▁▁▁▁▁▁▁▁▁▁▁▁▁▁▁▁▁▁▁▁▁▁▁▁▁▁</td></tr><tr><td>val_acc</td><td>▁</td></tr></table><br/></div><div class=\"wandb-col\"><h3>Run summary:</h3><br/><table class=\"wandb\"><tr><td>test_loss</td><td>0.0032</td></tr><tr><td>train_loss</td><td>0.00564</td></tr><tr><td>val_acc</td><td>90.46667</td></tr></table><br/></div></div>"
      ],
      "text/plain": [
       "<IPython.core.display.HTML object>"
      ]
     },
     "metadata": {},
     "output_type": "display_data"
    },
    {
     "data": {
      "text/html": [
       "Synced <strong style=\"color:#cdcd00\">devoted-sweep-14</strong>: <a href=\"https://wandb.ai/maiquanh/quanh/runs/mzn14o5p\" target=\"_blank\">https://wandb.ai/maiquanh/quanh/runs/mzn14o5p</a><br/>Synced 6 W&B file(s), 0 media file(s), 0 artifact file(s) and 0 other file(s)"
      ],
      "text/plain": [
       "<IPython.core.display.HTML object>"
      ]
     },
     "metadata": {},
     "output_type": "display_data"
    },
    {
     "data": {
      "text/html": [
       "Find logs at: <code>./wandb/run-20221019_093317-mzn14o5p/logs</code>"
      ],
      "text/plain": [
       "<IPython.core.display.HTML object>"
      ]
     },
     "metadata": {},
     "output_type": "display_data"
    },
    {
     "name": "stderr",
     "output_type": "stream",
     "text": [
      "\u001b[34m\u001b[1mwandb\u001b[0m: Agent Starting Run: ools2vrq with config:\n",
      "\u001b[34m\u001b[1mwandb\u001b[0m: \tbatch_size: 128\n",
      "\u001b[34m\u001b[1mwandb\u001b[0m: \td_hidden: 3\n",
      "\u001b[34m\u001b[1mwandb\u001b[0m: \tdata_dir: /home/quanhhh/Documents/model/pickle/\n",
      "\u001b[34m\u001b[1mwandb\u001b[0m: \tdropout: 0.14253175755627295\n",
      "\u001b[34m\u001b[1mwandb\u001b[0m: \tkernel_size_1: 58\n",
      "\u001b[34m\u001b[1mwandb\u001b[0m: \tkernel_size_2: 10\n",
      "\u001b[34m\u001b[1mwandb\u001b[0m: \tlr: 0.0023962273140287543\n",
      "\u001b[34m\u001b[1mwandb\u001b[0m: \tmaxpool_1: 8\n",
      "\u001b[34m\u001b[1mwandb\u001b[0m: \tmaxpool_2: 7\n",
      "\u001b[34m\u001b[1mwandb\u001b[0m: \tnum_epoch: 99\n",
      "\u001b[34m\u001b[1mwandb\u001b[0m: \tnum_filters: 25\n",
      "\u001b[34m\u001b[1mwandb\u001b[0m: \tnum_layers: 3\n",
      "\u001b[34m\u001b[1mwandb\u001b[0m: \tresult_dir: /home/quanhhh/Documents/model/result_wandb/\n",
      "\u001b[34m\u001b[1mwandb\u001b[0m: \tstride_1: 3\n",
      "\u001b[34m\u001b[1mwandb\u001b[0m: \tstride_2: 7\n",
      "\u001b[34m\u001b[1mwandb\u001b[0m: \tweight_decay: 0.0001388451637279536\n"
     ]
    },
    {
     "data": {
      "text/html": [
       "Tracking run with wandb version 0.13.4"
      ],
      "text/plain": [
       "<IPython.core.display.HTML object>"
      ]
     },
     "metadata": {},
     "output_type": "display_data"
    },
    {
     "data": {
      "text/html": [
       "Run data is saved locally in <code>/home/quanhhh/Documents/model/wandb/run-20221019_093653-ools2vrq</code>"
      ],
      "text/plain": [
       "<IPython.core.display.HTML object>"
      ]
     },
     "metadata": {},
     "output_type": "display_data"
    },
    {
     "data": {
      "text/html": [
       "Syncing run <strong><a href=\"https://wandb.ai/maiquanh/quanh/runs/ools2vrq\" target=\"_blank\">blooming-sweep-15</a></strong> to <a href=\"https://wandb.ai/maiquanh/quanh\" target=\"_blank\">Weights & Biases</a> (<a href=\"https://wandb.me/run\" target=\"_blank\">docs</a>)<br/>Sweep page:  <a href=\"https://wandb.ai/maiquanh/quanh/sweeps/8p4zr03y\" target=\"_blank\">https://wandb.ai/maiquanh/quanh/sweeps/8p4zr03y</a>"
      ],
      "text/plain": [
       "<IPython.core.display.HTML object>"
      ]
     },
     "metadata": {},
     "output_type": "display_data"
    },
    {
     "name": "stdout",
     "output_type": "stream",
     "text": [
      "-----START TRAINING CLASSIFICATION-----\n",
      "Epoch: 99\t| Train_loss: 0.005900\t|Train accuracy: 97.533632\t| Test_loss: 0.003608\t|Test accuracy: 83.061750\t|Val accuracy: 70.266663 \n",
      "\n",
      "----COMPLETED TRAINING CLASSIFICATION-----\n",
      "val_acc 70.26666259765625\n",
      "ok\n"
     ]
    },
    {
     "data": {
      "text/html": [
       "Waiting for W&B process to finish... <strong style=\"color:green\">(success).</strong>"
      ],
      "text/plain": [
       "<IPython.core.display.HTML object>"
      ]
     },
     "metadata": {},
     "output_type": "display_data"
    },
    {
     "data": {
      "text/html": [
       "<style>\n",
       "    table.wandb td:nth-child(1) { padding: 0 10px; text-align: left ; width: auto;} td:nth-child(2) {text-align: left ; width: 100%}\n",
       "    .wandb-row { display: flex; flex-direction: row; flex-wrap: wrap; justify-content: flex-start; width: 100% }\n",
       "    .wandb-col { display: flex; flex-direction: column; flex-basis: 100%; flex: 1; padding: 10px; }\n",
       "    </style>\n",
       "<div class=\"wandb-row\"><div class=\"wandb-col\"><h3>Run history:</h3><br/><table class=\"wandb\"><tr><td>test_loss</td><td>█▄▃▃▂▂▃▃▃▂▂▂▂▂▃▃▂▂▃▂▂▂▃▃▁▂▃▂▁▃▁▂▁▃▁▂▂▃▂▂</td></tr><tr><td>train_loss</td><td>█▃▂▁▁▁▁▁▁▁▁▁▁▁▁▁▁▁▁▁▁▁▁▁▁▁▁▁▁▁▁▁▁▁▁▁▁▁▁▁</td></tr><tr><td>val_acc</td><td>▁</td></tr></table><br/></div><div class=\"wandb-col\"><h3>Run summary:</h3><br/><table class=\"wandb\"><tr><td>test_loss</td><td>0.00361</td></tr><tr><td>train_loss</td><td>0.0059</td></tr><tr><td>val_acc</td><td>87.13333</td></tr></table><br/></div></div>"
      ],
      "text/plain": [
       "<IPython.core.display.HTML object>"
      ]
     },
     "metadata": {},
     "output_type": "display_data"
    },
    {
     "data": {
      "text/html": [
       "Synced <strong style=\"color:#cdcd00\">blooming-sweep-15</strong>: <a href=\"https://wandb.ai/maiquanh/quanh/runs/ools2vrq\" target=\"_blank\">https://wandb.ai/maiquanh/quanh/runs/ools2vrq</a><br/>Synced 6 W&B file(s), 0 media file(s), 0 artifact file(s) and 0 other file(s)"
      ],
      "text/plain": [
       "<IPython.core.display.HTML object>"
      ]
     },
     "metadata": {},
     "output_type": "display_data"
    },
    {
     "data": {
      "text/html": [
       "Find logs at: <code>./wandb/run-20221019_093653-ools2vrq/logs</code>"
      ],
      "text/plain": [
       "<IPython.core.display.HTML object>"
      ]
     },
     "metadata": {},
     "output_type": "display_data"
    },
    {
     "name": "stderr",
     "output_type": "stream",
     "text": [
      "\u001b[34m\u001b[1mwandb\u001b[0m: Agent Starting Run: j2fm1r66 with config:\n",
      "\u001b[34m\u001b[1mwandb\u001b[0m: \tbatch_size: 128\n",
      "\u001b[34m\u001b[1mwandb\u001b[0m: \td_hidden: 3\n",
      "\u001b[34m\u001b[1mwandb\u001b[0m: \tdata_dir: /home/quanhhh/Documents/model/pickle/\n",
      "\u001b[34m\u001b[1mwandb\u001b[0m: \tdropout: 0.1258542806306665\n",
      "\u001b[34m\u001b[1mwandb\u001b[0m: \tkernel_size_1: 54\n",
      "\u001b[34m\u001b[1mwandb\u001b[0m: \tkernel_size_2: 5\n",
      "\u001b[34m\u001b[1mwandb\u001b[0m: \tlr: 0.0005591898299485078\n",
      "\u001b[34m\u001b[1mwandb\u001b[0m: \tmaxpool_1: 5\n",
      "\u001b[34m\u001b[1mwandb\u001b[0m: \tmaxpool_2: 7\n",
      "\u001b[34m\u001b[1mwandb\u001b[0m: \tnum_epoch: 94\n",
      "\u001b[34m\u001b[1mwandb\u001b[0m: \tnum_filters: 18\n",
      "\u001b[34m\u001b[1mwandb\u001b[0m: \tnum_layers: 4\n",
      "\u001b[34m\u001b[1mwandb\u001b[0m: \tresult_dir: /home/quanhhh/Documents/model/result_wandb/\n",
      "\u001b[34m\u001b[1mwandb\u001b[0m: \tstride_1: 5\n",
      "\u001b[34m\u001b[1mwandb\u001b[0m: \tstride_2: 8\n",
      "\u001b[34m\u001b[1mwandb\u001b[0m: \tweight_decay: 0.0002213936760806548\n"
     ]
    },
    {
     "data": {
      "text/html": [
       "Tracking run with wandb version 0.13.4"
      ],
      "text/plain": [
       "<IPython.core.display.HTML object>"
      ]
     },
     "metadata": {},
     "output_type": "display_data"
    },
    {
     "data": {
      "text/html": [
       "Run data is saved locally in <code>/home/quanhhh/Documents/model/wandb/run-20221019_094024-j2fm1r66</code>"
      ],
      "text/plain": [
       "<IPython.core.display.HTML object>"
      ]
     },
     "metadata": {},
     "output_type": "display_data"
    },
    {
     "data": {
      "text/html": [
       "Syncing run <strong><a href=\"https://wandb.ai/maiquanh/quanh/runs/j2fm1r66\" target=\"_blank\">glorious-sweep-16</a></strong> to <a href=\"https://wandb.ai/maiquanh/quanh\" target=\"_blank\">Weights & Biases</a> (<a href=\"https://wandb.me/run\" target=\"_blank\">docs</a>)<br/>Sweep page:  <a href=\"https://wandb.ai/maiquanh/quanh/sweeps/8p4zr03y\" target=\"_blank\">https://wandb.ai/maiquanh/quanh/sweeps/8p4zr03y</a>"
      ],
      "text/plain": [
       "<IPython.core.display.HTML object>"
      ]
     },
     "metadata": {},
     "output_type": "display_data"
    },
    {
     "name": "stdout",
     "output_type": "stream",
     "text": [
      "-----START TRAINING CLASSIFICATION-----\n",
      "Epoch: 94\t| Train_loss: 0.005949\t|Train accuracy: 97.256661\t| Test_loss: 0.003635\t|Test accuracy: 83.404803\t|Val accuracy: 58.966667 \n",
      "\n",
      "----COMPLETED TRAINING CLASSIFICATION-----\n",
      "val_acc 58.96666717529297\n",
      "ok\n"
     ]
    },
    {
     "data": {
      "text/html": [
       "Waiting for W&B process to finish... <strong style=\"color:green\">(success).</strong>"
      ],
      "text/plain": [
       "<IPython.core.display.HTML object>"
      ]
     },
     "metadata": {},
     "output_type": "display_data"
    },
    {
     "data": {
      "text/html": [
       "<style>\n",
       "    table.wandb td:nth-child(1) { padding: 0 10px; text-align: left ; width: auto;} td:nth-child(2) {text-align: left ; width: 100%}\n",
       "    .wandb-row { display: flex; flex-direction: row; flex-wrap: wrap; justify-content: flex-start; width: 100% }\n",
       "    .wandb-col { display: flex; flex-direction: column; flex-basis: 100%; flex: 1; padding: 10px; }\n",
       "    </style>\n",
       "<div class=\"wandb-row\"><div class=\"wandb-col\"><h3>Run history:</h3><br/><table class=\"wandb\"><tr><td>test_loss</td><td>██▇▆▆▅▄▄▃▃▂▁▃▃▂▃▃▃▂▃▃▂▂▁▂▁▂▂▃▃▂▃▁▂▁▁▂▁▃▃</td></tr><tr><td>train_loss</td><td>██▇▅▅▅▅▃▂▂▂▁▁▁▁▁▁▁▁▁▁▁▁▁▁▁▁▁▁▁▁▁▁▁▁▁▁▁▁▁</td></tr><tr><td>val_acc</td><td>▁</td></tr></table><br/></div><div class=\"wandb-col\"><h3>Run summary:</h3><br/><table class=\"wandb\"><tr><td>test_loss</td><td>0.00363</td></tr><tr><td>train_loss</td><td>0.00595</td></tr><tr><td>val_acc</td><td>68.53333</td></tr></table><br/></div></div>"
      ],
      "text/plain": [
       "<IPython.core.display.HTML object>"
      ]
     },
     "metadata": {},
     "output_type": "display_data"
    },
    {
     "data": {
      "text/html": [
       "Synced <strong style=\"color:#cdcd00\">glorious-sweep-16</strong>: <a href=\"https://wandb.ai/maiquanh/quanh/runs/j2fm1r66\" target=\"_blank\">https://wandb.ai/maiquanh/quanh/runs/j2fm1r66</a><br/>Synced 6 W&B file(s), 0 media file(s), 0 artifact file(s) and 0 other file(s)"
      ],
      "text/plain": [
       "<IPython.core.display.HTML object>"
      ]
     },
     "metadata": {},
     "output_type": "display_data"
    },
    {
     "data": {
      "text/html": [
       "Find logs at: <code>./wandb/run-20221019_094024-j2fm1r66/logs</code>"
      ],
      "text/plain": [
       "<IPython.core.display.HTML object>"
      ]
     },
     "metadata": {},
     "output_type": "display_data"
    },
    {
     "name": "stderr",
     "output_type": "stream",
     "text": [
      "\u001b[34m\u001b[1mwandb\u001b[0m: Agent Starting Run: 2c1hz33l with config:\n",
      "\u001b[34m\u001b[1mwandb\u001b[0m: \tbatch_size: 128\n",
      "\u001b[34m\u001b[1mwandb\u001b[0m: \td_hidden: 3\n",
      "\u001b[34m\u001b[1mwandb\u001b[0m: \tdata_dir: /home/quanhhh/Documents/model/pickle/\n",
      "\u001b[34m\u001b[1mwandb\u001b[0m: \tdropout: 0.11827459961399292\n",
      "\u001b[34m\u001b[1mwandb\u001b[0m: \tkernel_size_1: 55\n",
      "\u001b[34m\u001b[1mwandb\u001b[0m: \tkernel_size_2: 7\n",
      "\u001b[34m\u001b[1mwandb\u001b[0m: \tlr: 0.0024199738693955557\n",
      "\u001b[34m\u001b[1mwandb\u001b[0m: \tmaxpool_1: 4\n",
      "\u001b[34m\u001b[1mwandb\u001b[0m: \tmaxpool_2: 8\n",
      "\u001b[34m\u001b[1mwandb\u001b[0m: \tnum_epoch: 89\n",
      "\u001b[34m\u001b[1mwandb\u001b[0m: \tnum_filters: 51\n",
      "\u001b[34m\u001b[1mwandb\u001b[0m: \tnum_layers: 2\n",
      "\u001b[34m\u001b[1mwandb\u001b[0m: \tresult_dir: /home/quanhhh/Documents/model/result_wandb/\n",
      "\u001b[34m\u001b[1mwandb\u001b[0m: \tstride_1: 3\n",
      "\u001b[34m\u001b[1mwandb\u001b[0m: \tstride_2: 9\n",
      "\u001b[34m\u001b[1mwandb\u001b[0m: \tweight_decay: 0.0001159714058510558\n"
     ]
    },
    {
     "data": {
      "text/html": [
       "Tracking run with wandb version 0.13.4"
      ],
      "text/plain": [
       "<IPython.core.display.HTML object>"
      ]
     },
     "metadata": {},
     "output_type": "display_data"
    },
    {
     "data": {
      "text/html": [
       "Run data is saved locally in <code>/home/quanhhh/Documents/model/wandb/run-20221019_094250-2c1hz33l</code>"
      ],
      "text/plain": [
       "<IPython.core.display.HTML object>"
      ]
     },
     "metadata": {},
     "output_type": "display_data"
    },
    {
     "data": {
      "text/html": [
       "Syncing run <strong><a href=\"https://wandb.ai/maiquanh/quanh/runs/2c1hz33l\" target=\"_blank\">smooth-sweep-17</a></strong> to <a href=\"https://wandb.ai/maiquanh/quanh\" target=\"_blank\">Weights & Biases</a> (<a href=\"https://wandb.me/run\" target=\"_blank\">docs</a>)<br/>Sweep page:  <a href=\"https://wandb.ai/maiquanh/quanh/sweeps/8p4zr03y\" target=\"_blank\">https://wandb.ai/maiquanh/quanh/sweeps/8p4zr03y</a>"
      ],
      "text/plain": [
       "<IPython.core.display.HTML object>"
      ]
     },
     "metadata": {},
     "output_type": "display_data"
    },
    {
     "name": "stdout",
     "output_type": "stream",
     "text": [
      "-----START TRAINING CLASSIFICATION-----\n",
      "Epoch: 89\t| Train_loss: 0.005603\t|Train accuracy: 98.298602\t| Test_loss: 0.003476\t|Test accuracy: 83.061750\t|Val accuracy: 91.366669 \n",
      "\n",
      "----COMPLETED TRAINING CLASSIFICATION-----\n",
      "val_acc 91.36666870117188\n",
      "ok\n"
     ]
    },
    {
     "data": {
      "text/html": [
       "Waiting for W&B process to finish... <strong style=\"color:green\">(success).</strong>"
      ],
      "text/plain": [
       "<IPython.core.display.HTML object>"
      ]
     },
     "metadata": {},
     "output_type": "display_data"
    },
    {
     "data": {
      "text/html": [
       "<style>\n",
       "    table.wandb td:nth-child(1) { padding: 0 10px; text-align: left ; width: auto;} td:nth-child(2) {text-align: left ; width: 100%}\n",
       "    .wandb-row { display: flex; flex-direction: row; flex-wrap: wrap; justify-content: flex-start; width: 100% }\n",
       "    .wandb-col { display: flex; flex-direction: column; flex-basis: 100%; flex: 1; padding: 10px; }\n",
       "    </style>\n",
       "<div class=\"wandb-row\"><div class=\"wandb-col\"><h3>Run history:</h3><br/><table class=\"wandb\"><tr><td>test_loss</td><td>█▅▄▄▄▃▄▃▃▃▃▃▃▃▃▂▂▇▃▃▂▄▂▁▃▃▁▃▂▂▁▃▁▃▃▃▂▁▃▃</td></tr><tr><td>train_loss</td><td>█▄▃▃▂▂▂▁▁▁▁▁▁▁▁▁▁▁▁▁▁▁▁▁▁▁▁▁▁▁▁▁▁▁▁▁▁▁▁▁</td></tr><tr><td>val_acc</td><td>▁</td></tr></table><br/></div><div class=\"wandb-col\"><h3>Run summary:</h3><br/><table class=\"wandb\"><tr><td>test_loss</td><td>0.00348</td></tr><tr><td>train_loss</td><td>0.0056</td></tr><tr><td>val_acc</td><td>95.2</td></tr></table><br/></div></div>"
      ],
      "text/plain": [
       "<IPython.core.display.HTML object>"
      ]
     },
     "metadata": {},
     "output_type": "display_data"
    },
    {
     "data": {
      "text/html": [
       "Synced <strong style=\"color:#cdcd00\">smooth-sweep-17</strong>: <a href=\"https://wandb.ai/maiquanh/quanh/runs/2c1hz33l\" target=\"_blank\">https://wandb.ai/maiquanh/quanh/runs/2c1hz33l</a><br/>Synced 6 W&B file(s), 0 media file(s), 0 artifact file(s) and 0 other file(s)"
      ],
      "text/plain": [
       "<IPython.core.display.HTML object>"
      ]
     },
     "metadata": {},
     "output_type": "display_data"
    },
    {
     "data": {
      "text/html": [
       "Find logs at: <code>./wandb/run-20221019_094250-2c1hz33l/logs</code>"
      ],
      "text/plain": [
       "<IPython.core.display.HTML object>"
      ]
     },
     "metadata": {},
     "output_type": "display_data"
    },
    {
     "name": "stderr",
     "output_type": "stream",
     "text": [
      "\u001b[34m\u001b[1mwandb\u001b[0m: Agent Starting Run: xo3a9ees with config:\n",
      "\u001b[34m\u001b[1mwandb\u001b[0m: \tbatch_size: 128\n",
      "\u001b[34m\u001b[1mwandb\u001b[0m: \td_hidden: 3\n",
      "\u001b[34m\u001b[1mwandb\u001b[0m: \tdata_dir: /home/quanhhh/Documents/model/pickle/\n",
      "\u001b[34m\u001b[1mwandb\u001b[0m: \tdropout: 0.14031722105701666\n",
      "\u001b[34m\u001b[1mwandb\u001b[0m: \tkernel_size_1: 52\n",
      "\u001b[34m\u001b[1mwandb\u001b[0m: \tkernel_size_2: 6\n",
      "\u001b[34m\u001b[1mwandb\u001b[0m: \tlr: 0.0007903826927101481\n",
      "\u001b[34m\u001b[1mwandb\u001b[0m: \tmaxpool_1: 5\n",
      "\u001b[34m\u001b[1mwandb\u001b[0m: \tmaxpool_2: 8\n",
      "\u001b[34m\u001b[1mwandb\u001b[0m: \tnum_epoch: 94\n",
      "\u001b[34m\u001b[1mwandb\u001b[0m: \tnum_filters: 37\n",
      "\u001b[34m\u001b[1mwandb\u001b[0m: \tnum_layers: 4\n",
      "\u001b[34m\u001b[1mwandb\u001b[0m: \tresult_dir: /home/quanhhh/Documents/model/result_wandb/\n",
      "\u001b[34m\u001b[1mwandb\u001b[0m: \tstride_1: 5\n",
      "\u001b[34m\u001b[1mwandb\u001b[0m: \tstride_2: 5\n",
      "\u001b[34m\u001b[1mwandb\u001b[0m: \tweight_decay: 0.0001408660363656901\n"
     ]
    },
    {
     "data": {
      "text/html": [
       "Tracking run with wandb version 0.13.4"
      ],
      "text/plain": [
       "<IPython.core.display.HTML object>"
      ]
     },
     "metadata": {},
     "output_type": "display_data"
    },
    {
     "data": {
      "text/html": [
       "Run data is saved locally in <code>/home/quanhhh/Documents/model/wandb/run-20221019_094823-xo3a9ees</code>"
      ],
      "text/plain": [
       "<IPython.core.display.HTML object>"
      ]
     },
     "metadata": {},
     "output_type": "display_data"
    },
    {
     "data": {
      "text/html": [
       "Syncing run <strong><a href=\"https://wandb.ai/maiquanh/quanh/runs/xo3a9ees\" target=\"_blank\">classic-sweep-18</a></strong> to <a href=\"https://wandb.ai/maiquanh/quanh\" target=\"_blank\">Weights & Biases</a> (<a href=\"https://wandb.me/run\" target=\"_blank\">docs</a>)<br/>Sweep page:  <a href=\"https://wandb.ai/maiquanh/quanh/sweeps/8p4zr03y\" target=\"_blank\">https://wandb.ai/maiquanh/quanh/sweeps/8p4zr03y</a>"
      ],
      "text/plain": [
       "<IPython.core.display.HTML object>"
      ]
     },
     "metadata": {},
     "output_type": "display_data"
    },
    {
     "name": "stdout",
     "output_type": "stream",
     "text": [
      "-----START TRAINING CLASSIFICATION-----\n",
      "Epoch: 94\t| Train_loss: 0.005874\t|Train accuracy: 98.390926\t| Test_loss: 0.003382\t|Test accuracy: 91.766724\t|Val accuracy: 79.799995 \n",
      "\n",
      "----COMPLETED TRAINING CLASSIFICATION-----\n",
      "val_acc 79.79999542236328\n",
      "ok\n"
     ]
    },
    {
     "data": {
      "text/html": [
       "Waiting for W&B process to finish... <strong style=\"color:green\">(success).</strong>"
      ],
      "text/plain": [
       "<IPython.core.display.HTML object>"
      ]
     },
     "metadata": {},
     "output_type": "display_data"
    },
    {
     "data": {
      "text/html": [
       "<style>\n",
       "    table.wandb td:nth-child(1) { padding: 0 10px; text-align: left ; width: auto;} td:nth-child(2) {text-align: left ; width: 100%}\n",
       "    .wandb-row { display: flex; flex-direction: row; flex-wrap: wrap; justify-content: flex-start; width: 100% }\n",
       "    .wandb-col { display: flex; flex-direction: column; flex-basis: 100%; flex: 1; padding: 10px; }\n",
       "    </style>\n",
       "<div class=\"wandb-row\"><div class=\"wandb-col\"><h3>Run history:</h3><br/><table class=\"wandb\"><tr><td>test_loss</td><td>█▇▇▅▄▃▂▂▂▃▂▂▃▂▂▁▁▂▂▁▁▂▂▁▁▂▂▂▁▁▁▂▁▁▁▂▁▁▃▂</td></tr><tr><td>train_loss</td><td>█▇▆▄▃▂▂▂▁▁▁▁▁▁▁▁▁▁▁▁▁▁▁▁▁▁▁▁▁▁▁▁▁▁▁▁▁▁▁▁</td></tr><tr><td>val_acc</td><td>▁</td></tr></table><br/></div><div class=\"wandb-col\"><h3>Run summary:</h3><br/><table class=\"wandb\"><tr><td>test_loss</td><td>0.00338</td></tr><tr><td>train_loss</td><td>0.00587</td></tr><tr><td>val_acc</td><td>93.26666</td></tr></table><br/></div></div>"
      ],
      "text/plain": [
       "<IPython.core.display.HTML object>"
      ]
     },
     "metadata": {},
     "output_type": "display_data"
    },
    {
     "data": {
      "text/html": [
       "Synced <strong style=\"color:#cdcd00\">classic-sweep-18</strong>: <a href=\"https://wandb.ai/maiquanh/quanh/runs/xo3a9ees\" target=\"_blank\">https://wandb.ai/maiquanh/quanh/runs/xo3a9ees</a><br/>Synced 6 W&B file(s), 0 media file(s), 0 artifact file(s) and 0 other file(s)"
      ],
      "text/plain": [
       "<IPython.core.display.HTML object>"
      ]
     },
     "metadata": {},
     "output_type": "display_data"
    },
    {
     "data": {
      "text/html": [
       "Find logs at: <code>./wandb/run-20221019_094823-xo3a9ees/logs</code>"
      ],
      "text/plain": [
       "<IPython.core.display.HTML object>"
      ]
     },
     "metadata": {},
     "output_type": "display_data"
    },
    {
     "name": "stderr",
     "output_type": "stream",
     "text": [
      "\u001b[34m\u001b[1mwandb\u001b[0m: Agent Starting Run: f3aw9eac with config:\n",
      "\u001b[34m\u001b[1mwandb\u001b[0m: \tbatch_size: 128\n",
      "\u001b[34m\u001b[1mwandb\u001b[0m: \td_hidden: 3\n",
      "\u001b[34m\u001b[1mwandb\u001b[0m: \tdata_dir: /home/quanhhh/Documents/model/pickle/\n",
      "\u001b[34m\u001b[1mwandb\u001b[0m: \tdropout: 0.12936487958352982\n",
      "\u001b[34m\u001b[1mwandb\u001b[0m: \tkernel_size_1: 60\n",
      "\u001b[34m\u001b[1mwandb\u001b[0m: \tkernel_size_2: 11\n",
      "\u001b[34m\u001b[1mwandb\u001b[0m: \tlr: 0.004844935815690323\n",
      "\u001b[34m\u001b[1mwandb\u001b[0m: \tmaxpool_1: 8\n",
      "\u001b[34m\u001b[1mwandb\u001b[0m: \tmaxpool_2: 5\n",
      "\u001b[34m\u001b[1mwandb\u001b[0m: \tnum_epoch: 92\n",
      "\u001b[34m\u001b[1mwandb\u001b[0m: \tnum_filters: 18\n",
      "\u001b[34m\u001b[1mwandb\u001b[0m: \tnum_layers: 3\n",
      "\u001b[34m\u001b[1mwandb\u001b[0m: \tresult_dir: /home/quanhhh/Documents/model/result_wandb/\n",
      "\u001b[34m\u001b[1mwandb\u001b[0m: \tstride_1: 9\n",
      "\u001b[34m\u001b[1mwandb\u001b[0m: \tstride_2: 3\n",
      "\u001b[34m\u001b[1mwandb\u001b[0m: \tweight_decay: 0.00021046956341305695\n"
     ]
    },
    {
     "data": {
      "text/html": [
       "Tracking run with wandb version 0.13.4"
      ],
      "text/plain": [
       "<IPython.core.display.HTML object>"
      ]
     },
     "metadata": {},
     "output_type": "display_data"
    },
    {
     "data": {
      "text/html": [
       "Run data is saved locally in <code>/home/quanhhh/Documents/model/wandb/run-20221019_095153-f3aw9eac</code>"
      ],
      "text/plain": [
       "<IPython.core.display.HTML object>"
      ]
     },
     "metadata": {},
     "output_type": "display_data"
    },
    {
     "data": {
      "text/html": [
       "Syncing run <strong><a href=\"https://wandb.ai/maiquanh/quanh/runs/f3aw9eac\" target=\"_blank\">earthy-sweep-19</a></strong> to <a href=\"https://wandb.ai/maiquanh/quanh\" target=\"_blank\">Weights & Biases</a> (<a href=\"https://wandb.me/run\" target=\"_blank\">docs</a>)<br/>Sweep page:  <a href=\"https://wandb.ai/maiquanh/quanh/sweeps/8p4zr03y\" target=\"_blank\">https://wandb.ai/maiquanh/quanh/sweeps/8p4zr03y</a>"
      ],
      "text/plain": [
       "<IPython.core.display.HTML object>"
      ]
     },
     "metadata": {},
     "output_type": "display_data"
    },
    {
     "name": "stdout",
     "output_type": "stream",
     "text": [
      "-----START TRAINING CLASSIFICATION-----\n",
      "Epoch: 92\t| Train_loss: 0.005761\t|Train accuracy: 95.462939\t| Test_loss: 0.003633\t|Test accuracy: 78.987993\t|Val accuracy: 76.933334 \n",
      "\n",
      "----COMPLETED TRAINING CLASSIFICATION-----\n",
      "val_acc 76.93333435058594\n",
      "ok\n"
     ]
    },
    {
     "data": {
      "text/html": [
       "Waiting for W&B process to finish... <strong style=\"color:green\">(success).</strong>"
      ],
      "text/plain": [
       "<IPython.core.display.HTML object>"
      ]
     },
     "metadata": {},
     "output_type": "display_data"
    },
    {
     "data": {
      "text/html": [
       "<style>\n",
       "    table.wandb td:nth-child(1) { padding: 0 10px; text-align: left ; width: auto;} td:nth-child(2) {text-align: left ; width: 100%}\n",
       "    .wandb-row { display: flex; flex-direction: row; flex-wrap: wrap; justify-content: flex-start; width: 100% }\n",
       "    .wandb-col { display: flex; flex-direction: column; flex-basis: 100%; flex: 1; padding: 10px; }\n",
       "    </style>\n",
       "<div class=\"wandb-row\"><div class=\"wandb-col\"><h3>Run history:</h3><br/><table class=\"wandb\"><tr><td>test_loss</td><td>█▄▄▃▃▃▃▃▄▅▂▃▆▃▂▂▂▂▂▂▂▁▂▃▂▂▃▃▂▂▂▂▃▃▂▅▂▃▂▃</td></tr><tr><td>train_loss</td><td>█▃▂▁▁▁▁▁▁▁▁▁▁▁▁▁▁▁▁▁▁▁▁▁▁▁▁▁▁▁▁▁▁▁▁▁▁▁▁▁</td></tr><tr><td>val_acc</td><td>▁</td></tr></table><br/></div><div class=\"wandb-col\"><h3>Run summary:</h3><br/><table class=\"wandb\"><tr><td>test_loss</td><td>0.00363</td></tr><tr><td>train_loss</td><td>0.00576</td></tr><tr><td>val_acc</td><td>84.06667</td></tr></table><br/></div></div>"
      ],
      "text/plain": [
       "<IPython.core.display.HTML object>"
      ]
     },
     "metadata": {},
     "output_type": "display_data"
    },
    {
     "data": {
      "text/html": [
       "Synced <strong style=\"color:#cdcd00\">earthy-sweep-19</strong>: <a href=\"https://wandb.ai/maiquanh/quanh/runs/f3aw9eac\" target=\"_blank\">https://wandb.ai/maiquanh/quanh/runs/f3aw9eac</a><br/>Synced 6 W&B file(s), 0 media file(s), 0 artifact file(s) and 0 other file(s)"
      ],
      "text/plain": [
       "<IPython.core.display.HTML object>"
      ]
     },
     "metadata": {},
     "output_type": "display_data"
    },
    {
     "data": {
      "text/html": [
       "Find logs at: <code>./wandb/run-20221019_095153-f3aw9eac/logs</code>"
      ],
      "text/plain": [
       "<IPython.core.display.HTML object>"
      ]
     },
     "metadata": {},
     "output_type": "display_data"
    },
    {
     "name": "stderr",
     "output_type": "stream",
     "text": [
      "\u001b[34m\u001b[1mwandb\u001b[0m: Sweep Agent: Waiting for job.\n",
      "\u001b[34m\u001b[1mwandb\u001b[0m: Job received.\n",
      "\u001b[34m\u001b[1mwandb\u001b[0m: Agent Starting Run: 3120931i with config:\n",
      "\u001b[34m\u001b[1mwandb\u001b[0m: \tbatch_size: 128\n",
      "\u001b[34m\u001b[1mwandb\u001b[0m: \td_hidden: 3\n",
      "\u001b[34m\u001b[1mwandb\u001b[0m: \tdata_dir: /home/quanhhh/Documents/model/pickle/\n",
      "\u001b[34m\u001b[1mwandb\u001b[0m: \tdropout: 0.11603814050538802\n",
      "\u001b[34m\u001b[1mwandb\u001b[0m: \tkernel_size_1: 96\n",
      "\u001b[34m\u001b[1mwandb\u001b[0m: \tkernel_size_2: 6\n",
      "\u001b[34m\u001b[1mwandb\u001b[0m: \tlr: 0.0010627868375442744\n",
      "\u001b[34m\u001b[1mwandb\u001b[0m: \tmaxpool_1: 4\n",
      "\u001b[34m\u001b[1mwandb\u001b[0m: \tmaxpool_2: 3\n",
      "\u001b[34m\u001b[1mwandb\u001b[0m: \tnum_epoch: 96\n",
      "\u001b[34m\u001b[1mwandb\u001b[0m: \tnum_filters: 64\n",
      "\u001b[34m\u001b[1mwandb\u001b[0m: \tnum_layers: 4\n",
      "\u001b[34m\u001b[1mwandb\u001b[0m: \tresult_dir: /home/quanhhh/Documents/model/result_wandb/\n",
      "\u001b[34m\u001b[1mwandb\u001b[0m: \tstride_1: 9\n",
      "\u001b[34m\u001b[1mwandb\u001b[0m: \tstride_2: 8\n",
      "\u001b[34m\u001b[1mwandb\u001b[0m: \tweight_decay: 0.0002838437429631891\n"
     ]
    },
    {
     "data": {
      "text/html": [
       "Tracking run with wandb version 0.13.4"
      ],
      "text/plain": [
       "<IPython.core.display.HTML object>"
      ]
     },
     "metadata": {},
     "output_type": "display_data"
    },
    {
     "data": {
      "text/html": [
       "Run data is saved locally in <code>/home/quanhhh/Documents/model/wandb/run-20221019_095408-3120931i</code>"
      ],
      "text/plain": [
       "<IPython.core.display.HTML object>"
      ]
     },
     "metadata": {},
     "output_type": "display_data"
    },
    {
     "data": {
      "text/html": [
       "Syncing run <strong><a href=\"https://wandb.ai/maiquanh/quanh/runs/3120931i\" target=\"_blank\">kind-sweep-20</a></strong> to <a href=\"https://wandb.ai/maiquanh/quanh\" target=\"_blank\">Weights & Biases</a> (<a href=\"https://wandb.me/run\" target=\"_blank\">docs</a>)<br/>Sweep page:  <a href=\"https://wandb.ai/maiquanh/quanh/sweeps/8p4zr03y\" target=\"_blank\">https://wandb.ai/maiquanh/quanh/sweeps/8p4zr03y</a>"
      ],
      "text/plain": [
       "<IPython.core.display.HTML object>"
      ]
     },
     "metadata": {},
     "output_type": "display_data"
    },
    {
     "name": "stdout",
     "output_type": "stream",
     "text": [
      "-----START TRAINING CLASSIFICATION-----\n",
      "Epoch: 96\t| Train_loss: 0.005929\t|Train accuracy: 98.918491\t| Test_loss: 0.003323\t|Test accuracy: 91.466552\t|Val accuracy: 75.166664 \n",
      "\n",
      "----COMPLETED TRAINING CLASSIFICATION-----\n",
      "val_acc 75.16666412353516\n",
      "ok\n"
     ]
    },
    {
     "data": {
      "text/html": [
       "Waiting for W&B process to finish... <strong style=\"color:green\">(success).</strong>"
      ],
      "text/plain": [
       "<IPython.core.display.HTML object>"
      ]
     },
     "metadata": {},
     "output_type": "display_data"
    },
    {
     "data": {
      "text/html": [
       "<style>\n",
       "    table.wandb td:nth-child(1) { padding: 0 10px; text-align: left ; width: auto;} td:nth-child(2) {text-align: left ; width: 100%}\n",
       "    .wandb-row { display: flex; flex-direction: row; flex-wrap: wrap; justify-content: flex-start; width: 100% }\n",
       "    .wandb-col { display: flex; flex-direction: column; flex-basis: 100%; flex: 1; padding: 10px; }\n",
       "    </style>\n",
       "<div class=\"wandb-row\"><div class=\"wandb-col\"><h3>Run history:</h3><br/><table class=\"wandb\"><tr><td>test_loss</td><td>█▆▅▃▄▃▃▃▃▁▃▃▂▄▂▂▂▁▃▂▁▁▁▁▃▁▁▂▂▁▁▁▂▁▁▃▂▁▁▁</td></tr><tr><td>train_loss</td><td>█▆▄▃▂▂▂▂▂▁▁▁▁▁▁▁▁▁▁▁▁▁▁▁▁▁▁▁▁▁▁▁▁▁▁▁▁▁▁▁</td></tr><tr><td>val_acc</td><td>▁</td></tr></table><br/></div><div class=\"wandb-col\"><h3>Run summary:</h3><br/><table class=\"wandb\"><tr><td>test_loss</td><td>0.00332</td></tr><tr><td>train_loss</td><td>0.00593</td></tr><tr><td>val_acc</td><td>89.73333</td></tr></table><br/></div></div>"
      ],
      "text/plain": [
       "<IPython.core.display.HTML object>"
      ]
     },
     "metadata": {},
     "output_type": "display_data"
    },
    {
     "data": {
      "text/html": [
       "Synced <strong style=\"color:#cdcd00\">kind-sweep-20</strong>: <a href=\"https://wandb.ai/maiquanh/quanh/runs/3120931i\" target=\"_blank\">https://wandb.ai/maiquanh/quanh/runs/3120931i</a><br/>Synced 6 W&B file(s), 0 media file(s), 0 artifact file(s) and 0 other file(s)"
      ],
      "text/plain": [
       "<IPython.core.display.HTML object>"
      ]
     },
     "metadata": {},
     "output_type": "display_data"
    },
    {
     "data": {
      "text/html": [
       "Find logs at: <code>./wandb/run-20221019_095408-3120931i/logs</code>"
      ],
      "text/plain": [
       "<IPython.core.display.HTML object>"
      ]
     },
     "metadata": {},
     "output_type": "display_data"
    },
    {
     "name": "stderr",
     "output_type": "stream",
     "text": [
      "\u001b[34m\u001b[1mwandb\u001b[0m: Sweep Agent: Waiting for job.\n",
      "\u001b[34m\u001b[1mwandb\u001b[0m: Job received.\n",
      "\u001b[34m\u001b[1mwandb\u001b[0m: Agent Starting Run: 7igo1vrl with config:\n",
      "\u001b[34m\u001b[1mwandb\u001b[0m: \tbatch_size: 128\n",
      "\u001b[34m\u001b[1mwandb\u001b[0m: \td_hidden: 3\n",
      "\u001b[34m\u001b[1mwandb\u001b[0m: \tdata_dir: /home/quanhhh/Documents/model/pickle/\n",
      "\u001b[34m\u001b[1mwandb\u001b[0m: \tdropout: 0.16716515834945606\n",
      "\u001b[34m\u001b[1mwandb\u001b[0m: \tkernel_size_1: 62\n",
      "\u001b[34m\u001b[1mwandb\u001b[0m: \tkernel_size_2: 7\n",
      "\u001b[34m\u001b[1mwandb\u001b[0m: \tlr: 0.0001587395323812609\n",
      "\u001b[34m\u001b[1mwandb\u001b[0m: \tmaxpool_1: 3\n",
      "\u001b[34m\u001b[1mwandb\u001b[0m: \tmaxpool_2: 3\n",
      "\u001b[34m\u001b[1mwandb\u001b[0m: \tnum_epoch: 82\n",
      "\u001b[34m\u001b[1mwandb\u001b[0m: \tnum_filters: 24\n",
      "\u001b[34m\u001b[1mwandb\u001b[0m: \tnum_layers: 3\n",
      "\u001b[34m\u001b[1mwandb\u001b[0m: \tresult_dir: /home/quanhhh/Documents/model/result_wandb/\n",
      "\u001b[34m\u001b[1mwandb\u001b[0m: \tstride_1: 6\n",
      "\u001b[34m\u001b[1mwandb\u001b[0m: \tstride_2: 9\n",
      "\u001b[34m\u001b[1mwandb\u001b[0m: \tweight_decay: 0.00014750819380896586\n"
     ]
    },
    {
     "data": {
      "text/html": [
       "Tracking run with wandb version 0.13.4"
      ],
      "text/plain": [
       "<IPython.core.display.HTML object>"
      ]
     },
     "metadata": {},
     "output_type": "display_data"
    },
    {
     "data": {
      "text/html": [
       "Run data is saved locally in <code>/home/quanhhh/Documents/model/wandb/run-20221019_095759-7igo1vrl</code>"
      ],
      "text/plain": [
       "<IPython.core.display.HTML object>"
      ]
     },
     "metadata": {},
     "output_type": "display_data"
    },
    {
     "data": {
      "text/html": [
       "Syncing run <strong><a href=\"https://wandb.ai/maiquanh/quanh/runs/7igo1vrl\" target=\"_blank\">lyric-sweep-21</a></strong> to <a href=\"https://wandb.ai/maiquanh/quanh\" target=\"_blank\">Weights & Biases</a> (<a href=\"https://wandb.me/run\" target=\"_blank\">docs</a>)<br/>Sweep page:  <a href=\"https://wandb.ai/maiquanh/quanh/sweeps/8p4zr03y\" target=\"_blank\">https://wandb.ai/maiquanh/quanh/sweeps/8p4zr03y</a>"
      ],
      "text/plain": [
       "<IPython.core.display.HTML object>"
      ]
     },
     "metadata": {},
     "output_type": "display_data"
    },
    {
     "name": "stdout",
     "output_type": "stream",
     "text": [
      "-----START TRAINING CLASSIFICATION-----\n",
      "Epoch: 82\t| Train_loss: 0.005750\t|Train accuracy: 99.089950\t| Test_loss: 0.003276\t|Test accuracy: 93.267581\t|Val accuracy: 89.166664 \n",
      "\n",
      "----COMPLETED TRAINING CLASSIFICATION-----\n",
      "val_acc 89.16666412353516\n",
      "ok\n"
     ]
    },
    {
     "data": {
      "text/html": [
       "Waiting for W&B process to finish... <strong style=\"color:green\">(success).</strong>"
      ],
      "text/plain": [
       "<IPython.core.display.HTML object>"
      ]
     },
     "metadata": {},
     "output_type": "display_data"
    },
    {
     "data": {
      "text/html": [
       "<style>\n",
       "    table.wandb td:nth-child(1) { padding: 0 10px; text-align: left ; width: auto;} td:nth-child(2) {text-align: left ; width: 100%}\n",
       "    .wandb-row { display: flex; flex-direction: row; flex-wrap: wrap; justify-content: flex-start; width: 100% }\n",
       "    .wandb-col { display: flex; flex-direction: column; flex-basis: 100%; flex: 1; padding: 10px; }\n",
       "    </style>\n",
       "<div class=\"wandb-row\"><div class=\"wandb-col\"><h3>Run history:</h3><br/><table class=\"wandb\"><tr><td>test_loss</td><td>████▇▇▇▆▆▆▆▅▅▅▄▄▄▄▃▃▂▃▂▂▂▂▂▂▂▂▂▁▁▁▂▁▂▁▁▁</td></tr><tr><td>train_loss</td><td>███▇▇▆▆▆▅▅▅▅▄▄▄▄▃▃▃▃▂▂▂▂▂▂▂▂▁▁▁▁▁▁▁▁▁▁▁▁</td></tr><tr><td>val_acc</td><td>▁</td></tr></table><br/></div><div class=\"wandb-col\"><h3>Run summary:</h3><br/><table class=\"wandb\"><tr><td>test_loss</td><td>0.00328</td></tr><tr><td>train_loss</td><td>0.00575</td></tr><tr><td>val_acc</td><td>91.7</td></tr></table><br/></div></div>"
      ],
      "text/plain": [
       "<IPython.core.display.HTML object>"
      ]
     },
     "metadata": {},
     "output_type": "display_data"
    },
    {
     "data": {
      "text/html": [
       "Synced <strong style=\"color:#cdcd00\">lyric-sweep-21</strong>: <a href=\"https://wandb.ai/maiquanh/quanh/runs/7igo1vrl\" target=\"_blank\">https://wandb.ai/maiquanh/quanh/runs/7igo1vrl</a><br/>Synced 6 W&B file(s), 0 media file(s), 0 artifact file(s) and 0 other file(s)"
      ],
      "text/plain": [
       "<IPython.core.display.HTML object>"
      ]
     },
     "metadata": {},
     "output_type": "display_data"
    },
    {
     "data": {
      "text/html": [
       "Find logs at: <code>./wandb/run-20221019_095759-7igo1vrl/logs</code>"
      ],
      "text/plain": [
       "<IPython.core.display.HTML object>"
      ]
     },
     "metadata": {},
     "output_type": "display_data"
    },
    {
     "name": "stderr",
     "output_type": "stream",
     "text": [
      "\u001b[34m\u001b[1mwandb\u001b[0m: Agent Starting Run: puxieeax with config:\n",
      "\u001b[34m\u001b[1mwandb\u001b[0m: \tbatch_size: 128\n",
      "\u001b[34m\u001b[1mwandb\u001b[0m: \td_hidden: 3\n",
      "\u001b[34m\u001b[1mwandb\u001b[0m: \tdata_dir: /home/quanhhh/Documents/model/pickle/\n",
      "\u001b[34m\u001b[1mwandb\u001b[0m: \tdropout: 0.16782716178981813\n",
      "\u001b[34m\u001b[1mwandb\u001b[0m: \tkernel_size_1: 60\n",
      "\u001b[34m\u001b[1mwandb\u001b[0m: \tkernel_size_2: 11\n",
      "\u001b[34m\u001b[1mwandb\u001b[0m: \tlr: 0.000296464272597583\n",
      "\u001b[34m\u001b[1mwandb\u001b[0m: \tmaxpool_1: 5\n",
      "\u001b[34m\u001b[1mwandb\u001b[0m: \tmaxpool_2: 8\n",
      "\u001b[34m\u001b[1mwandb\u001b[0m: \tnum_epoch: 91\n",
      "\u001b[34m\u001b[1mwandb\u001b[0m: \tnum_filters: 31\n",
      "\u001b[34m\u001b[1mwandb\u001b[0m: \tnum_layers: 4\n",
      "\u001b[34m\u001b[1mwandb\u001b[0m: \tresult_dir: /home/quanhhh/Documents/model/result_wandb/\n",
      "\u001b[34m\u001b[1mwandb\u001b[0m: \tstride_1: 5\n",
      "\u001b[34m\u001b[1mwandb\u001b[0m: \tstride_2: 3\n",
      "\u001b[34m\u001b[1mwandb\u001b[0m: \tweight_decay: 0.0001719838402127094\n"
     ]
    },
    {
     "data": {
      "text/html": [
       "Tracking run with wandb version 0.13.4"
      ],
      "text/plain": [
       "<IPython.core.display.HTML object>"
      ]
     },
     "metadata": {},
     "output_type": "display_data"
    },
    {
     "data": {
      "text/html": [
       "Run data is saved locally in <code>/home/quanhhh/Documents/model/wandb/run-20221019_100020-puxieeax</code>"
      ],
      "text/plain": [
       "<IPython.core.display.HTML object>"
      ]
     },
     "metadata": {},
     "output_type": "display_data"
    },
    {
     "data": {
      "text/html": [
       "Syncing run <strong><a href=\"https://wandb.ai/maiquanh/quanh/runs/puxieeax\" target=\"_blank\">balmy-sweep-22</a></strong> to <a href=\"https://wandb.ai/maiquanh/quanh\" target=\"_blank\">Weights & Biases</a> (<a href=\"https://wandb.me/run\" target=\"_blank\">docs</a>)<br/>Sweep page:  <a href=\"https://wandb.ai/maiquanh/quanh/sweeps/8p4zr03y\" target=\"_blank\">https://wandb.ai/maiquanh/quanh/sweeps/8p4zr03y</a>"
      ],
      "text/plain": [
       "<IPython.core.display.HTML object>"
      ]
     },
     "metadata": {},
     "output_type": "display_data"
    },
    {
     "name": "stdout",
     "output_type": "stream",
     "text": [
      "-----START TRAINING CLASSIFICATION-----\n",
      "Epoch: 91\t| Train_loss: 0.006005\t|Train accuracy: 95.133210\t| Test_loss: 0.003782\t|Test accuracy: 77.830189\t|Val accuracy: 81.099998 \n",
      "\n",
      "----COMPLETED TRAINING CLASSIFICATION-----\n",
      "val_acc 81.0999984741211\n",
      "ok\n"
     ]
    },
    {
     "data": {
      "text/html": [
       "Waiting for W&B process to finish... <strong style=\"color:green\">(success).</strong>"
      ],
      "text/plain": [
       "<IPython.core.display.HTML object>"
      ]
     },
     "metadata": {},
     "output_type": "display_data"
    },
    {
     "data": {
      "text/html": [
       "<style>\n",
       "    table.wandb td:nth-child(1) { padding: 0 10px; text-align: left ; width: auto;} td:nth-child(2) {text-align: left ; width: 100%}\n",
       "    .wandb-row { display: flex; flex-direction: row; flex-wrap: wrap; justify-content: flex-start; width: 100% }\n",
       "    .wandb-col { display: flex; flex-direction: column; flex-basis: 100%; flex: 1; padding: 10px; }\n",
       "    </style>\n",
       "<div class=\"wandb-row\"><div class=\"wandb-col\"><h3>Run history:</h3><br/><table class=\"wandb\"><tr><td>test_loss</td><td>████▇▆▆▆▆▆▅▄▄▃▄▂▄▃▂▂▂▂▂▂▂▂▂▂▂▂▁▁▁▁▁▁▃▂▁▁</td></tr><tr><td>train_loss</td><td>███▇▆▅▅▅▄▄▄▃▃▂▂▂▂▂▂▂▂▂▂▂▂▁▁▁▁▁▁▁▁▁▁▁▁▁▁▁</td></tr><tr><td>val_acc</td><td>▁</td></tr></table><br/></div><div class=\"wandb-col\"><h3>Run summary:</h3><br/><table class=\"wandb\"><tr><td>test_loss</td><td>0.00378</td></tr><tr><td>train_loss</td><td>0.006</td></tr><tr><td>val_acc</td><td>94.6</td></tr></table><br/></div></div>"
      ],
      "text/plain": [
       "<IPython.core.display.HTML object>"
      ]
     },
     "metadata": {},
     "output_type": "display_data"
    },
    {
     "data": {
      "text/html": [
       "Synced <strong style=\"color:#cdcd00\">balmy-sweep-22</strong>: <a href=\"https://wandb.ai/maiquanh/quanh/runs/puxieeax\" target=\"_blank\">https://wandb.ai/maiquanh/quanh/runs/puxieeax</a><br/>Synced 6 W&B file(s), 0 media file(s), 0 artifact file(s) and 0 other file(s)"
      ],
      "text/plain": [
       "<IPython.core.display.HTML object>"
      ]
     },
     "metadata": {},
     "output_type": "display_data"
    },
    {
     "data": {
      "text/html": [
       "Find logs at: <code>./wandb/run-20221019_100020-puxieeax/logs</code>"
      ],
      "text/plain": [
       "<IPython.core.display.HTML object>"
      ]
     },
     "metadata": {},
     "output_type": "display_data"
    },
    {
     "name": "stderr",
     "output_type": "stream",
     "text": [
      "\u001b[34m\u001b[1mwandb\u001b[0m: Sweep Agent: Waiting for job.\n",
      "\u001b[34m\u001b[1mwandb\u001b[0m: Job received.\n",
      "\u001b[34m\u001b[1mwandb\u001b[0m: Agent Starting Run: dd4eeo3j with config:\n",
      "\u001b[34m\u001b[1mwandb\u001b[0m: \tbatch_size: 128\n",
      "\u001b[34m\u001b[1mwandb\u001b[0m: \td_hidden: 3\n",
      "\u001b[34m\u001b[1mwandb\u001b[0m: \tdata_dir: /home/quanhhh/Documents/model/pickle/\n",
      "\u001b[34m\u001b[1mwandb\u001b[0m: \tdropout: 0.10291186767421616\n",
      "\u001b[34m\u001b[1mwandb\u001b[0m: \tkernel_size_1: 80\n",
      "\u001b[34m\u001b[1mwandb\u001b[0m: \tkernel_size_2: 8\n",
      "\u001b[34m\u001b[1mwandb\u001b[0m: \tlr: 0.003365243619979951\n",
      "\u001b[34m\u001b[1mwandb\u001b[0m: \tmaxpool_1: 7\n",
      "\u001b[34m\u001b[1mwandb\u001b[0m: \tmaxpool_2: 4\n",
      "\u001b[34m\u001b[1mwandb\u001b[0m: \tnum_epoch: 96\n",
      "\u001b[34m\u001b[1mwandb\u001b[0m: \tnum_filters: 38\n",
      "\u001b[34m\u001b[1mwandb\u001b[0m: \tnum_layers: 3\n",
      "\u001b[34m\u001b[1mwandb\u001b[0m: \tresult_dir: /home/quanhhh/Documents/model/result_wandb/\n",
      "\u001b[34m\u001b[1mwandb\u001b[0m: \tstride_1: 4\n",
      "\u001b[34m\u001b[1mwandb\u001b[0m: \tstride_2: 3\n",
      "\u001b[34m\u001b[1mwandb\u001b[0m: \tweight_decay: 0.0001137811557438378\n"
     ]
    },
    {
     "data": {
      "text/html": [
       "Tracking run with wandb version 0.13.4"
      ],
      "text/plain": [
       "<IPython.core.display.HTML object>"
      ]
     },
     "metadata": {},
     "output_type": "display_data"
    },
    {
     "data": {
      "text/html": [
       "Run data is saved locally in <code>/home/quanhhh/Documents/model/wandb/run-20221019_100333-dd4eeo3j</code>"
      ],
      "text/plain": [
       "<IPython.core.display.HTML object>"
      ]
     },
     "metadata": {},
     "output_type": "display_data"
    },
    {
     "data": {
      "text/html": [
       "Syncing run <strong><a href=\"https://wandb.ai/maiquanh/quanh/runs/dd4eeo3j\" target=\"_blank\">vivid-sweep-23</a></strong> to <a href=\"https://wandb.ai/maiquanh/quanh\" target=\"_blank\">Weights & Biases</a> (<a href=\"https://wandb.me/run\" target=\"_blank\">docs</a>)<br/>Sweep page:  <a href=\"https://wandb.ai/maiquanh/quanh/sweeps/8p4zr03y\" target=\"_blank\">https://wandb.ai/maiquanh/quanh/sweeps/8p4zr03y</a>"
      ],
      "text/plain": [
       "<IPython.core.display.HTML object>"
      ]
     },
     "metadata": {},
     "output_type": "display_data"
    },
    {
     "name": "stdout",
     "output_type": "stream",
     "text": [
      "-----START TRAINING CLASSIFICATION-----\n",
      "Epoch: 96\t| Train_loss: 0.005678\t|Train accuracy: 97.771037\t| Test_loss: 0.003508\t|Test accuracy: 82.075472\t|Val accuracy: 77.166664 \n",
      "\n",
      "----COMPLETED TRAINING CLASSIFICATION-----\n",
      "val_acc 77.16666412353516\n",
      "ok\n"
     ]
    },
    {
     "data": {
      "text/html": [
       "Waiting for W&B process to finish... <strong style=\"color:green\">(success).</strong>"
      ],
      "text/plain": [
       "<IPython.core.display.HTML object>"
      ]
     },
     "metadata": {},
     "output_type": "display_data"
    },
    {
     "data": {
      "text/html": [
       "<style>\n",
       "    table.wandb td:nth-child(1) { padding: 0 10px; text-align: left ; width: auto;} td:nth-child(2) {text-align: left ; width: 100%}\n",
       "    .wandb-row { display: flex; flex-direction: row; flex-wrap: wrap; justify-content: flex-start; width: 100% }\n",
       "    .wandb-col { display: flex; flex-direction: column; flex-basis: 100%; flex: 1; padding: 10px; }\n",
       "    </style>\n",
       "<div class=\"wandb-row\"><div class=\"wandb-col\"><h3>Run history:</h3><br/><table class=\"wandb\"><tr><td>test_loss</td><td>█▄█▃▄▅▄▃▃▄▄▃▃▃▄▄▃▃▅▃▃▃▃▃▃▃▁▂▄▄▃▃▃▅▃▄▄▅▄▃</td></tr><tr><td>train_loss</td><td>█▃▂▂▂▂▂▁▁▁▁▁▁▁▁▁▁▁▁▁▁▁▁▁▁▁▁▁▁▁▁▁▁▁▁▁▁▁▁▁</td></tr><tr><td>val_acc</td><td>▁</td></tr></table><br/></div><div class=\"wandb-col\"><h3>Run summary:</h3><br/><table class=\"wandb\"><tr><td>test_loss</td><td>0.00351</td></tr><tr><td>train_loss</td><td>0.00568</td></tr><tr><td>val_acc</td><td>90.03333</td></tr></table><br/></div></div>"
      ],
      "text/plain": [
       "<IPython.core.display.HTML object>"
      ]
     },
     "metadata": {},
     "output_type": "display_data"
    },
    {
     "data": {
      "text/html": [
       "Synced <strong style=\"color:#cdcd00\">vivid-sweep-23</strong>: <a href=\"https://wandb.ai/maiquanh/quanh/runs/dd4eeo3j\" target=\"_blank\">https://wandb.ai/maiquanh/quanh/runs/dd4eeo3j</a><br/>Synced 6 W&B file(s), 0 media file(s), 0 artifact file(s) and 0 other file(s)"
      ],
      "text/plain": [
       "<IPython.core.display.HTML object>"
      ]
     },
     "metadata": {},
     "output_type": "display_data"
    },
    {
     "data": {
      "text/html": [
       "Find logs at: <code>./wandb/run-20221019_100333-dd4eeo3j/logs</code>"
      ],
      "text/plain": [
       "<IPython.core.display.HTML object>"
      ]
     },
     "metadata": {},
     "output_type": "display_data"
    },
    {
     "name": "stderr",
     "output_type": "stream",
     "text": [
      "\u001b[34m\u001b[1mwandb\u001b[0m: Sweep Agent: Waiting for job.\n",
      "\u001b[34m\u001b[1mwandb\u001b[0m: Job received.\n",
      "\u001b[34m\u001b[1mwandb\u001b[0m: Agent Starting Run: e6q6y640 with config:\n",
      "\u001b[34m\u001b[1mwandb\u001b[0m: \tbatch_size: 128\n",
      "\u001b[34m\u001b[1mwandb\u001b[0m: \td_hidden: 3\n",
      "\u001b[34m\u001b[1mwandb\u001b[0m: \tdata_dir: /home/quanhhh/Documents/model/pickle/\n",
      "\u001b[34m\u001b[1mwandb\u001b[0m: \tdropout: 0.11916228368975522\n",
      "\u001b[34m\u001b[1mwandb\u001b[0m: \tkernel_size_1: 90\n",
      "\u001b[34m\u001b[1mwandb\u001b[0m: \tkernel_size_2: 4\n",
      "\u001b[34m\u001b[1mwandb\u001b[0m: \tlr: 0.0002076899204272516\n",
      "\u001b[34m\u001b[1mwandb\u001b[0m: \tmaxpool_1: 7\n",
      "\u001b[34m\u001b[1mwandb\u001b[0m: \tmaxpool_2: 8\n",
      "\u001b[34m\u001b[1mwandb\u001b[0m: \tnum_epoch: 86\n",
      "\u001b[34m\u001b[1mwandb\u001b[0m: \tnum_filters: 46\n",
      "\u001b[34m\u001b[1mwandb\u001b[0m: \tnum_layers: 4\n",
      "\u001b[34m\u001b[1mwandb\u001b[0m: \tresult_dir: /home/quanhhh/Documents/model/result_wandb/\n",
      "\u001b[34m\u001b[1mwandb\u001b[0m: \tstride_1: 4\n",
      "\u001b[34m\u001b[1mwandb\u001b[0m: \tstride_2: 3\n",
      "\u001b[34m\u001b[1mwandb\u001b[0m: \tweight_decay: 0.0001367559931198944\n"
     ]
    },
    {
     "data": {
      "text/html": [
       "Tracking run with wandb version 0.13.4"
      ],
      "text/plain": [
       "<IPython.core.display.HTML object>"
      ]
     },
     "metadata": {},
     "output_type": "display_data"
    },
    {
     "data": {
      "text/html": [
       "Run data is saved locally in <code>/home/quanhhh/Documents/model/wandb/run-20221019_100818-e6q6y640</code>"
      ],
      "text/plain": [
       "<IPython.core.display.HTML object>"
      ]
     },
     "metadata": {},
     "output_type": "display_data"
    },
    {
     "data": {
      "text/html": [
       "Syncing run <strong><a href=\"https://wandb.ai/maiquanh/quanh/runs/e6q6y640\" target=\"_blank\">olive-sweep-24</a></strong> to <a href=\"https://wandb.ai/maiquanh/quanh\" target=\"_blank\">Weights & Biases</a> (<a href=\"https://wandb.me/run\" target=\"_blank\">docs</a>)<br/>Sweep page:  <a href=\"https://wandb.ai/maiquanh/quanh/sweeps/8p4zr03y\" target=\"_blank\">https://wandb.ai/maiquanh/quanh/sweeps/8p4zr03y</a>"
      ],
      "text/plain": [
       "<IPython.core.display.HTML object>"
      ]
     },
     "metadata": {},
     "output_type": "display_data"
    },
    {
     "name": "stdout",
     "output_type": "stream",
     "text": [
      "-----START TRAINING CLASSIFICATION-----\n",
      "Epoch: 86\t| Train_loss: 0.006167\t|Train accuracy: 98.575574\t| Test_loss: 0.003308\t|Test accuracy: 93.524871\t|Val accuracy: 72.866669 \n",
      "\n",
      "----COMPLETED TRAINING CLASSIFICATION-----\n",
      "val_acc 72.86666870117188\n",
      "ok\n"
     ]
    },
    {
     "data": {
      "text/html": [
       "Waiting for W&B process to finish... <strong style=\"color:green\">(success).</strong>"
      ],
      "text/plain": [
       "<IPython.core.display.HTML object>"
      ]
     },
     "metadata": {},
     "output_type": "display_data"
    },
    {
     "data": {
      "text/html": [
       "<style>\n",
       "    table.wandb td:nth-child(1) { padding: 0 10px; text-align: left ; width: auto;} td:nth-child(2) {text-align: left ; width: 100%}\n",
       "    .wandb-row { display: flex; flex-direction: row; flex-wrap: wrap; justify-content: flex-start; width: 100% }\n",
       "    .wandb-col { display: flex; flex-direction: column; flex-basis: 100%; flex: 1; padding: 10px; }\n",
       "    </style>\n",
       "<div class=\"wandb-row\"><div class=\"wandb-col\"><h3>Run history:</h3><br/><table class=\"wandb\"><tr><td>test_loss</td><td>███▇▆▅▅▄▅▄▄▃▂▂▂▂▂▃▂▁▃▂▂▂▁▁▁▂▂▂▃▂▂▂▁▁▁▁▁▁</td></tr><tr><td>train_loss</td><td>███▇▆▅▅▄▄▃▃▃▂▂▂▂▂▂▁▁▁▁▁▁▁▁▁▁▁▁▂▂▂▁▁▁▁▁▁▁</td></tr><tr><td>val_acc</td><td>▁</td></tr></table><br/></div><div class=\"wandb-col\"><h3>Run summary:</h3><br/><table class=\"wandb\"><tr><td>test_loss</td><td>0.00331</td></tr><tr><td>train_loss</td><td>0.00617</td></tr><tr><td>val_acc</td><td>94.4</td></tr></table><br/></div></div>"
      ],
      "text/plain": [
       "<IPython.core.display.HTML object>"
      ]
     },
     "metadata": {},
     "output_type": "display_data"
    },
    {
     "data": {
      "text/html": [
       "Synced <strong style=\"color:#cdcd00\">olive-sweep-24</strong>: <a href=\"https://wandb.ai/maiquanh/quanh/runs/e6q6y640\" target=\"_blank\">https://wandb.ai/maiquanh/quanh/runs/e6q6y640</a><br/>Synced 6 W&B file(s), 0 media file(s), 0 artifact file(s) and 0 other file(s)"
      ],
      "text/plain": [
       "<IPython.core.display.HTML object>"
      ]
     },
     "metadata": {},
     "output_type": "display_data"
    },
    {
     "data": {
      "text/html": [
       "Find logs at: <code>./wandb/run-20221019_100818-e6q6y640/logs</code>"
      ],
      "text/plain": [
       "<IPython.core.display.HTML object>"
      ]
     },
     "metadata": {},
     "output_type": "display_data"
    },
    {
     "name": "stderr",
     "output_type": "stream",
     "text": [
      "\u001b[34m\u001b[1mwandb\u001b[0m: Agent Starting Run: h9dr23pr with config:\n",
      "\u001b[34m\u001b[1mwandb\u001b[0m: \tbatch_size: 128\n",
      "\u001b[34m\u001b[1mwandb\u001b[0m: \td_hidden: 3\n",
      "\u001b[34m\u001b[1mwandb\u001b[0m: \tdata_dir: /home/quanhhh/Documents/model/pickle/\n",
      "\u001b[34m\u001b[1mwandb\u001b[0m: \tdropout: 0.13266374573043554\n",
      "\u001b[34m\u001b[1mwandb\u001b[0m: \tkernel_size_1: 68\n",
      "\u001b[34m\u001b[1mwandb\u001b[0m: \tkernel_size_2: 5\n",
      "\u001b[34m\u001b[1mwandb\u001b[0m: \tlr: 0.0002696222124001693\n",
      "\u001b[34m\u001b[1mwandb\u001b[0m: \tmaxpool_1: 7\n",
      "\u001b[34m\u001b[1mwandb\u001b[0m: \tmaxpool_2: 3\n",
      "\u001b[34m\u001b[1mwandb\u001b[0m: \tnum_epoch: 82\n",
      "\u001b[34m\u001b[1mwandb\u001b[0m: \tnum_filters: 41\n",
      "\u001b[34m\u001b[1mwandb\u001b[0m: \tnum_layers: 4\n",
      "\u001b[34m\u001b[1mwandb\u001b[0m: \tresult_dir: /home/quanhhh/Documents/model/result_wandb/\n",
      "\u001b[34m\u001b[1mwandb\u001b[0m: \tstride_1: 3\n",
      "\u001b[34m\u001b[1mwandb\u001b[0m: \tstride_2: 6\n",
      "\u001b[34m\u001b[1mwandb\u001b[0m: \tweight_decay: 0.00021939573381669312\n"
     ]
    },
    {
     "data": {
      "text/html": [
       "Tracking run with wandb version 0.13.4"
      ],
      "text/plain": [
       "<IPython.core.display.HTML object>"
      ]
     },
     "metadata": {},
     "output_type": "display_data"
    },
    {
     "data": {
      "text/html": [
       "Run data is saved locally in <code>/home/quanhhh/Documents/model/wandb/run-20221019_101249-h9dr23pr</code>"
      ],
      "text/plain": [
       "<IPython.core.display.HTML object>"
      ]
     },
     "metadata": {},
     "output_type": "display_data"
    },
    {
     "data": {
      "text/html": [
       "Syncing run <strong><a href=\"https://wandb.ai/maiquanh/quanh/runs/h9dr23pr\" target=\"_blank\">brisk-sweep-25</a></strong> to <a href=\"https://wandb.ai/maiquanh/quanh\" target=\"_blank\">Weights & Biases</a> (<a href=\"https://wandb.me/run\" target=\"_blank\">docs</a>)<br/>Sweep page:  <a href=\"https://wandb.ai/maiquanh/quanh/sweeps/8p4zr03y\" target=\"_blank\">https://wandb.ai/maiquanh/quanh/sweeps/8p4zr03y</a>"
      ],
      "text/plain": [
       "<IPython.core.display.HTML object>"
      ]
     },
     "metadata": {},
     "output_type": "display_data"
    },
    {
     "name": "stdout",
     "output_type": "stream",
     "text": [
      "-----START TRAINING CLASSIFICATION-----\n",
      "Epoch: 82\t| Train_loss: 0.005657\t|Train accuracy: 99.103139\t| Test_loss: 0.003073\t|Test accuracy: 98.241852\t|Val accuracy: 93.066666 \n",
      "\n",
      "----COMPLETED TRAINING CLASSIFICATION-----\n",
      "val_acc 93.06666564941406\n",
      "ok\n"
     ]
    },
    {
     "data": {
      "text/html": [
       "Waiting for W&B process to finish... <strong style=\"color:green\">(success).</strong>"
      ],
      "text/plain": [
       "<IPython.core.display.HTML object>"
      ]
     },
     "metadata": {},
     "output_type": "display_data"
    },
    {
     "data": {
      "text/html": [
       "<style>\n",
       "    table.wandb td:nth-child(1) { padding: 0 10px; text-align: left ; width: auto;} td:nth-child(2) {text-align: left ; width: 100%}\n",
       "    .wandb-row { display: flex; flex-direction: row; flex-wrap: wrap; justify-content: flex-start; width: 100% }\n",
       "    .wandb-col { display: flex; flex-direction: column; flex-basis: 100%; flex: 1; padding: 10px; }\n",
       "    </style>\n",
       "<div class=\"wandb-row\"><div class=\"wandb-col\"><h3>Run history:</h3><br/><table class=\"wandb\"><tr><td>test_loss</td><td>███▇▇▇▇▆▆▅▅▅▄▄▃▃▄▂▄▃▂▂▂▂▃▃▂▂▄▂▃▁▃▁▁▂▁▁▁▁</td></tr><tr><td>train_loss</td><td>███▇▇▆▆▅▅▄▄▄▃▃▃▂▂▂▂▂▁▁▁▁▁▁▁▁▁▁▁▁▁▁▁▁▁▁▁▁</td></tr><tr><td>val_acc</td><td>▁</td></tr></table><br/></div><div class=\"wandb-col\"><h3>Run summary:</h3><br/><table class=\"wandb\"><tr><td>test_loss</td><td>0.00307</td></tr><tr><td>train_loss</td><td>0.00566</td></tr><tr><td>val_acc</td><td>93.1</td></tr></table><br/></div></div>"
      ],
      "text/plain": [
       "<IPython.core.display.HTML object>"
      ]
     },
     "metadata": {},
     "output_type": "display_data"
    },
    {
     "data": {
      "text/html": [
       "Synced <strong style=\"color:#cdcd00\">brisk-sweep-25</strong>: <a href=\"https://wandb.ai/maiquanh/quanh/runs/h9dr23pr\" target=\"_blank\">https://wandb.ai/maiquanh/quanh/runs/h9dr23pr</a><br/>Synced 6 W&B file(s), 0 media file(s), 0 artifact file(s) and 0 other file(s)"
      ],
      "text/plain": [
       "<IPython.core.display.HTML object>"
      ]
     },
     "metadata": {},
     "output_type": "display_data"
    },
    {
     "data": {
      "text/html": [
       "Find logs at: <code>./wandb/run-20221019_101249-h9dr23pr/logs</code>"
      ],
      "text/plain": [
       "<IPython.core.display.HTML object>"
      ]
     },
     "metadata": {},
     "output_type": "display_data"
    },
    {
     "name": "stderr",
     "output_type": "stream",
     "text": [
      "\u001b[34m\u001b[1mwandb\u001b[0m: Sweep Agent: Waiting for job.\n",
      "\u001b[34m\u001b[1mwandb\u001b[0m: Job received.\n",
      "\u001b[34m\u001b[1mwandb\u001b[0m: Agent Starting Run: zqcqaq8r with config:\n",
      "\u001b[34m\u001b[1mwandb\u001b[0m: \tbatch_size: 128\n",
      "\u001b[34m\u001b[1mwandb\u001b[0m: \td_hidden: 3\n",
      "\u001b[34m\u001b[1mwandb\u001b[0m: \tdata_dir: /home/quanhhh/Documents/model/pickle/\n",
      "\u001b[34m\u001b[1mwandb\u001b[0m: \tdropout: 0.168992188733454\n",
      "\u001b[34m\u001b[1mwandb\u001b[0m: \tkernel_size_1: 72\n",
      "\u001b[34m\u001b[1mwandb\u001b[0m: \tkernel_size_2: 9\n",
      "\u001b[34m\u001b[1mwandb\u001b[0m: \tlr: 0.0006388528043296929\n",
      "\u001b[34m\u001b[1mwandb\u001b[0m: \tmaxpool_1: 7\n",
      "\u001b[34m\u001b[1mwandb\u001b[0m: \tmaxpool_2: 4\n",
      "\u001b[34m\u001b[1mwandb\u001b[0m: \tnum_epoch: 88\n",
      "\u001b[34m\u001b[1mwandb\u001b[0m: \tnum_filters: 21\n",
      "\u001b[34m\u001b[1mwandb\u001b[0m: \tnum_layers: 4\n",
      "\u001b[34m\u001b[1mwandb\u001b[0m: \tresult_dir: /home/quanhhh/Documents/model/result_wandb/\n",
      "\u001b[34m\u001b[1mwandb\u001b[0m: \tstride_1: 6\n",
      "\u001b[34m\u001b[1mwandb\u001b[0m: \tstride_2: 4\n",
      "\u001b[34m\u001b[1mwandb\u001b[0m: \tweight_decay: 0.0001211541811258709\n"
     ]
    },
    {
     "data": {
      "text/html": [
       "Tracking run with wandb version 0.13.4"
      ],
      "text/plain": [
       "<IPython.core.display.HTML object>"
      ]
     },
     "metadata": {},
     "output_type": "display_data"
    },
    {
     "data": {
      "text/html": [
       "Run data is saved locally in <code>/home/quanhhh/Documents/model/wandb/run-20221019_101902-zqcqaq8r</code>"
      ],
      "text/plain": [
       "<IPython.core.display.HTML object>"
      ]
     },
     "metadata": {},
     "output_type": "display_data"
    },
    {
     "data": {
      "text/html": [
       "Syncing run <strong><a href=\"https://wandb.ai/maiquanh/quanh/runs/zqcqaq8r\" target=\"_blank\">snowy-sweep-26</a></strong> to <a href=\"https://wandb.ai/maiquanh/quanh\" target=\"_blank\">Weights & Biases</a> (<a href=\"https://wandb.me/run\" target=\"_blank\">docs</a>)<br/>Sweep page:  <a href=\"https://wandb.ai/maiquanh/quanh/sweeps/8p4zr03y\" target=\"_blank\">https://wandb.ai/maiquanh/quanh/sweeps/8p4zr03y</a>"
      ],
      "text/plain": [
       "<IPython.core.display.HTML object>"
      ]
     },
     "metadata": {},
     "output_type": "display_data"
    },
    {
     "name": "stdout",
     "output_type": "stream",
     "text": [
      "-----START TRAINING CLASSIFICATION-----\n",
      "Epoch: 88\t| Train_loss: 0.005633\t|Train accuracy: 99.195463\t| Test_loss: 0.003197\t|Test accuracy: 93.481990\t|Val accuracy: 91.000000 \n",
      "\n",
      "----COMPLETED TRAINING CLASSIFICATION-----\n",
      "val_acc 91.0\n",
      "ok\n"
     ]
    },
    {
     "data": {
      "text/html": [
       "Waiting for W&B process to finish... <strong style=\"color:green\">(success).</strong>"
      ],
      "text/plain": [
       "<IPython.core.display.HTML object>"
      ]
     },
     "metadata": {},
     "output_type": "display_data"
    },
    {
     "data": {
      "text/html": [
       "<style>\n",
       "    table.wandb td:nth-child(1) { padding: 0 10px; text-align: left ; width: auto;} td:nth-child(2) {text-align: left ; width: 100%}\n",
       "    .wandb-row { display: flex; flex-direction: row; flex-wrap: wrap; justify-content: flex-start; width: 100% }\n",
       "    .wandb-col { display: flex; flex-direction: column; flex-basis: 100%; flex: 1; padding: 10px; }\n",
       "    </style>\n",
       "<div class=\"wandb-row\"><div class=\"wandb-col\"><h3>Run history:</h3><br/><table class=\"wandb\"><tr><td>test_loss</td><td>█▇▆▆▆▆▅▄▄▄▂▄▃▃▃▂▁▃▁▁▂▁▁▁▁▂▁▁▁▃▁▁▁▂▁▂▂▃▁▁</td></tr><tr><td>train_loss</td><td>█▇▆▅▅▅▄▃▃▂▂▂▁▁▁▁▁▁▁▁▁▁▁▁▁▁▁▁▁▁▁▁▁▁▁▁▁▁▁▁</td></tr><tr><td>val_acc</td><td>▁</td></tr></table><br/></div><div class=\"wandb-col\"><h3>Run summary:</h3><br/><table class=\"wandb\"><tr><td>test_loss</td><td>0.0032</td></tr><tr><td>train_loss</td><td>0.00563</td></tr><tr><td>val_acc</td><td>94.06667</td></tr></table><br/></div></div>"
      ],
      "text/plain": [
       "<IPython.core.display.HTML object>"
      ]
     },
     "metadata": {},
     "output_type": "display_data"
    },
    {
     "data": {
      "text/html": [
       "Synced <strong style=\"color:#cdcd00\">snowy-sweep-26</strong>: <a href=\"https://wandb.ai/maiquanh/quanh/runs/zqcqaq8r\" target=\"_blank\">https://wandb.ai/maiquanh/quanh/runs/zqcqaq8r</a><br/>Synced 6 W&B file(s), 0 media file(s), 0 artifact file(s) and 0 other file(s)"
      ],
      "text/plain": [
       "<IPython.core.display.HTML object>"
      ]
     },
     "metadata": {},
     "output_type": "display_data"
    },
    {
     "data": {
      "text/html": [
       "Find logs at: <code>./wandb/run-20221019_101902-zqcqaq8r/logs</code>"
      ],
      "text/plain": [
       "<IPython.core.display.HTML object>"
      ]
     },
     "metadata": {},
     "output_type": "display_data"
    },
    {
     "name": "stderr",
     "output_type": "stream",
     "text": [
      "\u001b[34m\u001b[1mwandb\u001b[0m: Agent Starting Run: keech6pf with config:\n",
      "\u001b[34m\u001b[1mwandb\u001b[0m: \tbatch_size: 128\n",
      "\u001b[34m\u001b[1mwandb\u001b[0m: \td_hidden: 3\n",
      "\u001b[34m\u001b[1mwandb\u001b[0m: \tdata_dir: /home/quanhhh/Documents/model/pickle/\n",
      "\u001b[34m\u001b[1mwandb\u001b[0m: \tdropout: 0.13110717924433182\n",
      "\u001b[34m\u001b[1mwandb\u001b[0m: \tkernel_size_1: 65\n",
      "\u001b[34m\u001b[1mwandb\u001b[0m: \tkernel_size_2: 5\n",
      "\u001b[34m\u001b[1mwandb\u001b[0m: \tlr: 0.0035100208142839566\n",
      "\u001b[34m\u001b[1mwandb\u001b[0m: \tmaxpool_1: 6\n",
      "\u001b[34m\u001b[1mwandb\u001b[0m: \tmaxpool_2: 4\n",
      "\u001b[34m\u001b[1mwandb\u001b[0m: \tnum_epoch: 85\n",
      "\u001b[34m\u001b[1mwandb\u001b[0m: \tnum_filters: 22\n",
      "\u001b[34m\u001b[1mwandb\u001b[0m: \tnum_layers: 3\n",
      "\u001b[34m\u001b[1mwandb\u001b[0m: \tresult_dir: /home/quanhhh/Documents/model/result_wandb/\n",
      "\u001b[34m\u001b[1mwandb\u001b[0m: \tstride_1: 9\n",
      "\u001b[34m\u001b[1mwandb\u001b[0m: \tstride_2: 9\n",
      "\u001b[34m\u001b[1mwandb\u001b[0m: \tweight_decay: 0.00015883261248416977\n"
     ]
    },
    {
     "data": {
      "text/html": [
       "Tracking run with wandb version 0.13.4"
      ],
      "text/plain": [
       "<IPython.core.display.HTML object>"
      ]
     },
     "metadata": {},
     "output_type": "display_data"
    },
    {
     "data": {
      "text/html": [
       "Run data is saved locally in <code>/home/quanhhh/Documents/model/wandb/run-20221019_102123-keech6pf</code>"
      ],
      "text/plain": [
       "<IPython.core.display.HTML object>"
      ]
     },
     "metadata": {},
     "output_type": "display_data"
    },
    {
     "data": {
      "text/html": [
       "Syncing run <strong><a href=\"https://wandb.ai/maiquanh/quanh/runs/keech6pf\" target=\"_blank\">ancient-sweep-27</a></strong> to <a href=\"https://wandb.ai/maiquanh/quanh\" target=\"_blank\">Weights & Biases</a> (<a href=\"https://wandb.me/run\" target=\"_blank\">docs</a>)<br/>Sweep page:  <a href=\"https://wandb.ai/maiquanh/quanh/sweeps/8p4zr03y\" target=\"_blank\">https://wandb.ai/maiquanh/quanh/sweeps/8p4zr03y</a>"
      ],
      "text/plain": [
       "<IPython.core.display.HTML object>"
      ]
     },
     "metadata": {},
     "output_type": "display_data"
    },
    {
     "name": "stdout",
     "output_type": "stream",
     "text": [
      "-----START TRAINING CLASSIFICATION-----\n",
      "Epoch: 85\t| Train_loss: 0.005733\t|Train accuracy: 93.181219\t| Test_loss: 0.003233\t|Test accuracy: 91.895369\t|Val accuracy: 69.733330 \n",
      "\n",
      "----COMPLETED TRAINING CLASSIFICATION-----\n",
      "val_acc 69.73332977294922\n",
      "ok\n"
     ]
    },
    {
     "data": {
      "text/html": [
       "Waiting for W&B process to finish... <strong style=\"color:green\">(success).</strong>"
      ],
      "text/plain": [
       "<IPython.core.display.HTML object>"
      ]
     },
     "metadata": {},
     "output_type": "display_data"
    },
    {
     "data": {
      "text/html": [
       "<style>\n",
       "    table.wandb td:nth-child(1) { padding: 0 10px; text-align: left ; width: auto;} td:nth-child(2) {text-align: left ; width: 100%}\n",
       "    .wandb-row { display: flex; flex-direction: row; flex-wrap: wrap; justify-content: flex-start; width: 100% }\n",
       "    .wandb-col { display: flex; flex-direction: column; flex-basis: 100%; flex: 1; padding: 10px; }\n",
       "    </style>\n",
       "<div class=\"wandb-row\"><div class=\"wandb-col\"><h3>Run history:</h3><br/><table class=\"wandb\"><tr><td>test_loss</td><td>█▅▇▆▃▃▃▄▄▃▃▂▂▂▄▃▃▁▃▆▂▂▅▁▃▃▃▄▃▂▁▂▃▃▄▃▃▃▂▁</td></tr><tr><td>train_loss</td><td>█▅▂▂▁▁▁▁▂▁▁▁▁▁▁▁▁▁▁▁▁▁▁▁▁▁▁▁▁▁▁▁▁▁▁▁▁▁▁▁</td></tr><tr><td>val_acc</td><td>▁</td></tr></table><br/></div><div class=\"wandb-col\"><h3>Run summary:</h3><br/><table class=\"wandb\"><tr><td>test_loss</td><td>0.00323</td></tr><tr><td>train_loss</td><td>0.00573</td></tr><tr><td>val_acc</td><td>90.7</td></tr></table><br/></div></div>"
      ],
      "text/plain": [
       "<IPython.core.display.HTML object>"
      ]
     },
     "metadata": {},
     "output_type": "display_data"
    },
    {
     "data": {
      "text/html": [
       "Synced <strong style=\"color:#cdcd00\">ancient-sweep-27</strong>: <a href=\"https://wandb.ai/maiquanh/quanh/runs/keech6pf\" target=\"_blank\">https://wandb.ai/maiquanh/quanh/runs/keech6pf</a><br/>Synced 6 W&B file(s), 0 media file(s), 0 artifact file(s) and 0 other file(s)"
      ],
      "text/plain": [
       "<IPython.core.display.HTML object>"
      ]
     },
     "metadata": {},
     "output_type": "display_data"
    },
    {
     "data": {
      "text/html": [
       "Find logs at: <code>./wandb/run-20221019_102123-keech6pf/logs</code>"
      ],
      "text/plain": [
       "<IPython.core.display.HTML object>"
      ]
     },
     "metadata": {},
     "output_type": "display_data"
    },
    {
     "name": "stderr",
     "output_type": "stream",
     "text": [
      "\u001b[34m\u001b[1mwandb\u001b[0m: Agent Starting Run: t4cbwwqx with config:\n",
      "\u001b[34m\u001b[1mwandb\u001b[0m: \tbatch_size: 128\n",
      "\u001b[34m\u001b[1mwandb\u001b[0m: \td_hidden: 3\n",
      "\u001b[34m\u001b[1mwandb\u001b[0m: \tdata_dir: /home/quanhhh/Documents/model/pickle/\n",
      "\u001b[34m\u001b[1mwandb\u001b[0m: \tdropout: 0.18297074207912195\n",
      "\u001b[34m\u001b[1mwandb\u001b[0m: \tkernel_size_1: 82\n",
      "\u001b[34m\u001b[1mwandb\u001b[0m: \tkernel_size_2: 7\n",
      "\u001b[34m\u001b[1mwandb\u001b[0m: \tlr: 0.00010877035997794368\n",
      "\u001b[34m\u001b[1mwandb\u001b[0m: \tmaxpool_1: 7\n",
      "\u001b[34m\u001b[1mwandb\u001b[0m: \tmaxpool_2: 5\n",
      "\u001b[34m\u001b[1mwandb\u001b[0m: \tnum_epoch: 99\n",
      "\u001b[34m\u001b[1mwandb\u001b[0m: \tnum_filters: 60\n",
      "\u001b[34m\u001b[1mwandb\u001b[0m: \tnum_layers: 3\n",
      "\u001b[34m\u001b[1mwandb\u001b[0m: \tresult_dir: /home/quanhhh/Documents/model/result_wandb/\n",
      "\u001b[34m\u001b[1mwandb\u001b[0m: \tstride_1: 7\n",
      "\u001b[34m\u001b[1mwandb\u001b[0m: \tstride_2: 7\n",
      "\u001b[34m\u001b[1mwandb\u001b[0m: \tweight_decay: 0.00023159038172411613\n"
     ]
    },
    {
     "data": {
      "text/html": [
       "Tracking run with wandb version 0.13.4"
      ],
      "text/plain": [
       "<IPython.core.display.HTML object>"
      ]
     },
     "metadata": {},
     "output_type": "display_data"
    },
    {
     "data": {
      "text/html": [
       "Run data is saved locally in <code>/home/quanhhh/Documents/model/wandb/run-20221019_102344-t4cbwwqx</code>"
      ],
      "text/plain": [
       "<IPython.core.display.HTML object>"
      ]
     },
     "metadata": {},
     "output_type": "display_data"
    },
    {
     "data": {
      "text/html": [
       "Syncing run <strong><a href=\"https://wandb.ai/maiquanh/quanh/runs/t4cbwwqx\" target=\"_blank\">exalted-sweep-28</a></strong> to <a href=\"https://wandb.ai/maiquanh/quanh\" target=\"_blank\">Weights & Biases</a> (<a href=\"https://wandb.me/run\" target=\"_blank\">docs</a>)<br/>Sweep page:  <a href=\"https://wandb.ai/maiquanh/quanh/sweeps/8p4zr03y\" target=\"_blank\">https://wandb.ai/maiquanh/quanh/sweeps/8p4zr03y</a>"
      ],
      "text/plain": [
       "<IPython.core.display.HTML object>"
      ]
     },
     "metadata": {},
     "output_type": "display_data"
    },
    {
     "name": "stdout",
     "output_type": "stream",
     "text": [
      "-----START TRAINING CLASSIFICATION-----\n",
      "Epoch: 99\t| Train_loss: 0.005861\t|Train accuracy: 98.483250\t| Test_loss: 0.003417\t|Test accuracy: 90.265866\t|Val accuracy: 88.966667 \n",
      "\n",
      "----COMPLETED TRAINING CLASSIFICATION-----\n",
      "val_acc 88.96666717529297\n",
      "ok\n"
     ]
    },
    {
     "data": {
      "text/html": [
       "Waiting for W&B process to finish... <strong style=\"color:green\">(success).</strong>"
      ],
      "text/plain": [
       "<IPython.core.display.HTML object>"
      ]
     },
     "metadata": {},
     "output_type": "display_data"
    },
    {
     "data": {
      "text/html": [
       "<style>\n",
       "    table.wandb td:nth-child(1) { padding: 0 10px; text-align: left ; width: auto;} td:nth-child(2) {text-align: left ; width: 100%}\n",
       "    .wandb-row { display: flex; flex-direction: row; flex-wrap: wrap; justify-content: flex-start; width: 100% }\n",
       "    .wandb-col { display: flex; flex-direction: column; flex-basis: 100%; flex: 1; padding: 10px; }\n",
       "    </style>\n",
       "<div class=\"wandb-row\"><div class=\"wandb-col\"><h3>Run history:</h3><br/><table class=\"wandb\"><tr><td>test_loss</td><td>███████▇▇▆▆▆▅▅▅▄▄▄▄▃▃▃▂▂▂▂▂▃▂▂▂▂▁▂▂▂▁▂▁▂</td></tr><tr><td>train_loss</td><td>█████▇▇▇▆▆▅▅▅▅▄▄▄▃▃▃▃▂▂▂▂▂▂▂▂▁▁▁▁▁▁▁▁▁▁▁</td></tr><tr><td>val_acc</td><td>▁</td></tr></table><br/></div><div class=\"wandb-col\"><h3>Run summary:</h3><br/><table class=\"wandb\"><tr><td>test_loss</td><td>0.00342</td></tr><tr><td>train_loss</td><td>0.00586</td></tr><tr><td>val_acc</td><td>89.83334</td></tr></table><br/></div></div>"
      ],
      "text/plain": [
       "<IPython.core.display.HTML object>"
      ]
     },
     "metadata": {},
     "output_type": "display_data"
    },
    {
     "data": {
      "text/html": [
       "Synced <strong style=\"color:#cdcd00\">exalted-sweep-28</strong>: <a href=\"https://wandb.ai/maiquanh/quanh/runs/t4cbwwqx\" target=\"_blank\">https://wandb.ai/maiquanh/quanh/runs/t4cbwwqx</a><br/>Synced 6 W&B file(s), 0 media file(s), 0 artifact file(s) and 0 other file(s)"
      ],
      "text/plain": [
       "<IPython.core.display.HTML object>"
      ]
     },
     "metadata": {},
     "output_type": "display_data"
    },
    {
     "data": {
      "text/html": [
       "Find logs at: <code>./wandb/run-20221019_102344-t4cbwwqx/logs</code>"
      ],
      "text/plain": [
       "<IPython.core.display.HTML object>"
      ]
     },
     "metadata": {},
     "output_type": "display_data"
    },
    {
     "name": "stderr",
     "output_type": "stream",
     "text": [
      "\u001b[34m\u001b[1mwandb\u001b[0m: Sweep Agent: Waiting for job.\n",
      "\u001b[34m\u001b[1mwandb\u001b[0m: Job received.\n",
      "\u001b[34m\u001b[1mwandb\u001b[0m: Agent Starting Run: 8s2jnxi7 with config:\n",
      "\u001b[34m\u001b[1mwandb\u001b[0m: \tbatch_size: 128\n",
      "\u001b[34m\u001b[1mwandb\u001b[0m: \td_hidden: 3\n",
      "\u001b[34m\u001b[1mwandb\u001b[0m: \tdata_dir: /home/quanhhh/Documents/model/pickle/\n",
      "\u001b[34m\u001b[1mwandb\u001b[0m: \tdropout: 0.16975776339245507\n",
      "\u001b[34m\u001b[1mwandb\u001b[0m: \tkernel_size_1: 78\n",
      "\u001b[34m\u001b[1mwandb\u001b[0m: \tkernel_size_2: 6\n",
      "\u001b[34m\u001b[1mwandb\u001b[0m: \tlr: 0.0012614704788633875\n",
      "\u001b[34m\u001b[1mwandb\u001b[0m: \tmaxpool_1: 7\n",
      "\u001b[34m\u001b[1mwandb\u001b[0m: \tmaxpool_2: 4\n",
      "\u001b[34m\u001b[1mwandb\u001b[0m: \tnum_epoch: 94\n",
      "\u001b[34m\u001b[1mwandb\u001b[0m: \tnum_filters: 50\n",
      "\u001b[34m\u001b[1mwandb\u001b[0m: \tnum_layers: 4\n",
      "\u001b[34m\u001b[1mwandb\u001b[0m: \tresult_dir: /home/quanhhh/Documents/model/result_wandb/\n",
      "\u001b[34m\u001b[1mwandb\u001b[0m: \tstride_1: 8\n",
      "\u001b[34m\u001b[1mwandb\u001b[0m: \tstride_2: 8\n",
      "\u001b[34m\u001b[1mwandb\u001b[0m: \tweight_decay: 0.0002181990795104736\n"
     ]
    },
    {
     "data": {
      "text/html": [
       "Tracking run with wandb version 0.13.4"
      ],
      "text/plain": [
       "<IPython.core.display.HTML object>"
      ]
     },
     "metadata": {},
     "output_type": "display_data"
    },
    {
     "data": {
      "text/html": [
       "Run data is saved locally in <code>/home/quanhhh/Documents/model/wandb/run-20221019_102750-8s2jnxi7</code>"
      ],
      "text/plain": [
       "<IPython.core.display.HTML object>"
      ]
     },
     "metadata": {},
     "output_type": "display_data"
    },
    {
     "data": {
      "text/html": [
       "Syncing run <strong><a href=\"https://wandb.ai/maiquanh/quanh/runs/8s2jnxi7\" target=\"_blank\">valiant-sweep-29</a></strong> to <a href=\"https://wandb.ai/maiquanh/quanh\" target=\"_blank\">Weights & Biases</a> (<a href=\"https://wandb.me/run\" target=\"_blank\">docs</a>)<br/>Sweep page:  <a href=\"https://wandb.ai/maiquanh/quanh/sweeps/8p4zr03y\" target=\"_blank\">https://wandb.ai/maiquanh/quanh/sweeps/8p4zr03y</a>"
      ],
      "text/plain": [
       "<IPython.core.display.HTML object>"
      ]
     },
     "metadata": {},
     "output_type": "display_data"
    },
    {
     "name": "stdout",
     "output_type": "stream",
     "text": [
      "-----START TRAINING CLASSIFICATION-----\n",
      "Epoch: 94\t| Train_loss: 0.005679\t|Train accuracy: 98.641519\t| Test_loss: 0.003122\t|Test accuracy: 95.540309\t|Val accuracy: 80.133331 \n",
      "\n",
      "----COMPLETED TRAINING CLASSIFICATION-----\n",
      "val_acc 80.13333129882812\n",
      "ok\n"
     ]
    },
    {
     "data": {
      "text/html": [
       "Waiting for W&B process to finish... <strong style=\"color:green\">(success).</strong>"
      ],
      "text/plain": [
       "<IPython.core.display.HTML object>"
      ]
     },
     "metadata": {},
     "output_type": "display_data"
    },
    {
     "data": {
      "text/html": [
       "<style>\n",
       "    table.wandb td:nth-child(1) { padding: 0 10px; text-align: left ; width: auto;} td:nth-child(2) {text-align: left ; width: 100%}\n",
       "    .wandb-row { display: flex; flex-direction: row; flex-wrap: wrap; justify-content: flex-start; width: 100% }\n",
       "    .wandb-col { display: flex; flex-direction: column; flex-basis: 100%; flex: 1; padding: 10px; }\n",
       "    </style>\n",
       "<div class=\"wandb-row\"><div class=\"wandb-col\"><h3>Run history:</h3><br/><table class=\"wandb\"><tr><td>test_loss</td><td>█▇▆▃▄▃▃▃▃▃▃▃▃▄▃▃▃▃▁▃▃▃▃▁▃▂▂▁▂▃▃▂▂▃▃▃▂▂▁▁</td></tr><tr><td>train_loss</td><td>█▇▆▃▂▂▁▁▁▁▁▁▁▁▁▁▁▁▁▁▁▁▁▁▁▁▁▁▁▁▁▁▁▁▁▁▁▁▁▁</td></tr><tr><td>val_acc</td><td>▁</td></tr></table><br/></div><div class=\"wandb-col\"><h3>Run summary:</h3><br/><table class=\"wandb\"><tr><td>test_loss</td><td>0.00312</td></tr><tr><td>train_loss</td><td>0.00568</td></tr><tr><td>val_acc</td><td>85.13333</td></tr></table><br/></div></div>"
      ],
      "text/plain": [
       "<IPython.core.display.HTML object>"
      ]
     },
     "metadata": {},
     "output_type": "display_data"
    },
    {
     "data": {
      "text/html": [
       "Synced <strong style=\"color:#cdcd00\">valiant-sweep-29</strong>: <a href=\"https://wandb.ai/maiquanh/quanh/runs/8s2jnxi7\" target=\"_blank\">https://wandb.ai/maiquanh/quanh/runs/8s2jnxi7</a><br/>Synced 6 W&B file(s), 0 media file(s), 0 artifact file(s) and 0 other file(s)"
      ],
      "text/plain": [
       "<IPython.core.display.HTML object>"
      ]
     },
     "metadata": {},
     "output_type": "display_data"
    },
    {
     "data": {
      "text/html": [
       "Find logs at: <code>./wandb/run-20221019_102750-8s2jnxi7/logs</code>"
      ],
      "text/plain": [
       "<IPython.core.display.HTML object>"
      ]
     },
     "metadata": {},
     "output_type": "display_data"
    },
    {
     "name": "stderr",
     "output_type": "stream",
     "text": [
      "\u001b[34m\u001b[1mwandb\u001b[0m: Agent Starting Run: ur97navb with config:\n",
      "\u001b[34m\u001b[1mwandb\u001b[0m: \tbatch_size: 128\n",
      "\u001b[34m\u001b[1mwandb\u001b[0m: \td_hidden: 3\n",
      "\u001b[34m\u001b[1mwandb\u001b[0m: \tdata_dir: /home/quanhhh/Documents/model/pickle/\n",
      "\u001b[34m\u001b[1mwandb\u001b[0m: \tdropout: 0.1647206674851564\n",
      "\u001b[34m\u001b[1mwandb\u001b[0m: \tkernel_size_1: 54\n",
      "\u001b[34m\u001b[1mwandb\u001b[0m: \tkernel_size_2: 4\n",
      "\u001b[34m\u001b[1mwandb\u001b[0m: \tlr: 0.002149959806652689\n",
      "\u001b[34m\u001b[1mwandb\u001b[0m: \tmaxpool_1: 4\n",
      "\u001b[34m\u001b[1mwandb\u001b[0m: \tmaxpool_2: 8\n",
      "\u001b[34m\u001b[1mwandb\u001b[0m: \tnum_epoch: 91\n",
      "\u001b[34m\u001b[1mwandb\u001b[0m: \tnum_filters: 32\n",
      "\u001b[34m\u001b[1mwandb\u001b[0m: \tnum_layers: 3\n",
      "\u001b[34m\u001b[1mwandb\u001b[0m: \tresult_dir: /home/quanhhh/Documents/model/result_wandb/\n",
      "\u001b[34m\u001b[1mwandb\u001b[0m: \tstride_1: 9\n",
      "\u001b[34m\u001b[1mwandb\u001b[0m: \tstride_2: 6\n",
      "\u001b[34m\u001b[1mwandb\u001b[0m: \tweight_decay: 0.0001325030697742832\n"
     ]
    },
    {
     "data": {
      "text/html": [
       "Tracking run with wandb version 0.13.4"
      ],
      "text/plain": [
       "<IPython.core.display.HTML object>"
      ]
     },
     "metadata": {},
     "output_type": "display_data"
    },
    {
     "data": {
      "text/html": [
       "Run data is saved locally in <code>/home/quanhhh/Documents/model/wandb/run-20221019_103055-ur97navb</code>"
      ],
      "text/plain": [
       "<IPython.core.display.HTML object>"
      ]
     },
     "metadata": {},
     "output_type": "display_data"
    },
    {
     "data": {
      "text/html": [
       "Syncing run <strong><a href=\"https://wandb.ai/maiquanh/quanh/runs/ur97navb\" target=\"_blank\">sunny-sweep-30</a></strong> to <a href=\"https://wandb.ai/maiquanh/quanh\" target=\"_blank\">Weights & Biases</a> (<a href=\"https://wandb.me/run\" target=\"_blank\">docs</a>)<br/>Sweep page:  <a href=\"https://wandb.ai/maiquanh/quanh/sweeps/8p4zr03y\" target=\"_blank\">https://wandb.ai/maiquanh/quanh/sweeps/8p4zr03y</a>"
      ],
      "text/plain": [
       "<IPython.core.display.HTML object>"
      ]
     },
     "metadata": {},
     "output_type": "display_data"
    },
    {
     "name": "stdout",
     "output_type": "stream",
     "text": [
      "-----START TRAINING CLASSIFICATION-----\n",
      "Epoch: 91\t| Train_loss: 0.005625\t|Train accuracy: 98.812978\t| Test_loss: 0.003174\t|Test accuracy: 93.739280\t|Val accuracy: 85.000000 \n",
      "\n",
      "----COMPLETED TRAINING CLASSIFICATION-----\n",
      "val_acc 85.0\n",
      "ok\n"
     ]
    },
    {
     "data": {
      "text/html": [
       "Waiting for W&B process to finish... <strong style=\"color:green\">(success).</strong>"
      ],
      "text/plain": [
       "<IPython.core.display.HTML object>"
      ]
     },
     "metadata": {},
     "output_type": "display_data"
    },
    {
     "data": {
      "text/html": [
       "<style>\n",
       "    table.wandb td:nth-child(1) { padding: 0 10px; text-align: left ; width: auto;} td:nth-child(2) {text-align: left ; width: 100%}\n",
       "    .wandb-row { display: flex; flex-direction: row; flex-wrap: wrap; justify-content: flex-start; width: 100% }\n",
       "    .wandb-col { display: flex; flex-direction: column; flex-basis: 100%; flex: 1; padding: 10px; }\n",
       "    </style>\n",
       "<div class=\"wandb-row\"><div class=\"wandb-col\"><h3>Run history:</h3><br/><table class=\"wandb\"><tr><td>test_loss</td><td>█▆▄▃▃▂▃▃▂▃▂▃▃▃▄▃▃▃▂▁▂▁▁▂▃▁▁▂▁▃▂▂▁▁▁▃▁▁▂▁</td></tr><tr><td>train_loss</td><td>█▆▃▂▂▁▁▁▁▁▁▁▁▁▁▁▁▁▁▁▁▁▁▁▁▁▁▁▁▁▁▁▁▁▁▁▁▁▁▁</td></tr><tr><td>val_acc</td><td>▁</td></tr></table><br/></div><div class=\"wandb-col\"><h3>Run summary:</h3><br/><table class=\"wandb\"><tr><td>test_loss</td><td>0.00317</td></tr><tr><td>train_loss</td><td>0.00563</td></tr><tr><td>val_acc</td><td>93.16666</td></tr></table><br/></div></div>"
      ],
      "text/plain": [
       "<IPython.core.display.HTML object>"
      ]
     },
     "metadata": {},
     "output_type": "display_data"
    },
    {
     "data": {
      "text/html": [
       "Synced <strong style=\"color:#cdcd00\">sunny-sweep-30</strong>: <a href=\"https://wandb.ai/maiquanh/quanh/runs/ur97navb\" target=\"_blank\">https://wandb.ai/maiquanh/quanh/runs/ur97navb</a><br/>Synced 6 W&B file(s), 0 media file(s), 0 artifact file(s) and 0 other file(s)"
      ],
      "text/plain": [
       "<IPython.core.display.HTML object>"
      ]
     },
     "metadata": {},
     "output_type": "display_data"
    },
    {
     "data": {
      "text/html": [
       "Find logs at: <code>./wandb/run-20221019_103055-ur97navb/logs</code>"
      ],
      "text/plain": [
       "<IPython.core.display.HTML object>"
      ]
     },
     "metadata": {},
     "output_type": "display_data"
    },
    {
     "name": "stderr",
     "output_type": "stream",
     "text": [
      "\u001b[34m\u001b[1mwandb\u001b[0m: Sweep Agent: Waiting for job.\n",
      "\u001b[34m\u001b[1mwandb\u001b[0m: Job received.\n",
      "\u001b[34m\u001b[1mwandb\u001b[0m: Agent Starting Run: 9htoqz3q with config:\n",
      "\u001b[34m\u001b[1mwandb\u001b[0m: \tbatch_size: 128\n",
      "\u001b[34m\u001b[1mwandb\u001b[0m: \td_hidden: 3\n",
      "\u001b[34m\u001b[1mwandb\u001b[0m: \tdata_dir: /home/quanhhh/Documents/model/pickle/\n",
      "\u001b[34m\u001b[1mwandb\u001b[0m: \tdropout: 0.16449005604410222\n",
      "\u001b[34m\u001b[1mwandb\u001b[0m: \tkernel_size_1: 100\n",
      "\u001b[34m\u001b[1mwandb\u001b[0m: \tkernel_size_2: 3\n",
      "\u001b[34m\u001b[1mwandb\u001b[0m: \tlr: 0.0003626543089211395\n",
      "\u001b[34m\u001b[1mwandb\u001b[0m: \tmaxpool_1: 5\n",
      "\u001b[34m\u001b[1mwandb\u001b[0m: \tmaxpool_2: 5\n",
      "\u001b[34m\u001b[1mwandb\u001b[0m: \tnum_epoch: 83\n",
      "\u001b[34m\u001b[1mwandb\u001b[0m: \tnum_filters: 58\n",
      "\u001b[34m\u001b[1mwandb\u001b[0m: \tnum_layers: 2\n",
      "\u001b[34m\u001b[1mwandb\u001b[0m: \tresult_dir: /home/quanhhh/Documents/model/result_wandb/\n",
      "\u001b[34m\u001b[1mwandb\u001b[0m: \tstride_1: 8\n",
      "\u001b[34m\u001b[1mwandb\u001b[0m: \tstride_2: 6\n",
      "\u001b[34m\u001b[1mwandb\u001b[0m: \tweight_decay: 0.00011401010268234764\n"
     ]
    },
    {
     "data": {
      "text/html": [
       "Tracking run with wandb version 0.13.4"
      ],
      "text/plain": [
       "<IPython.core.display.HTML object>"
      ]
     },
     "metadata": {},
     "output_type": "display_data"
    },
    {
     "data": {
      "text/html": [
       "Run data is saved locally in <code>/home/quanhhh/Documents/model/wandb/run-20221019_103325-9htoqz3q</code>"
      ],
      "text/plain": [
       "<IPython.core.display.HTML object>"
      ]
     },
     "metadata": {},
     "output_type": "display_data"
    },
    {
     "data": {
      "text/html": [
       "Syncing run <strong><a href=\"https://wandb.ai/maiquanh/quanh/runs/9htoqz3q\" target=\"_blank\">sweet-sweep-31</a></strong> to <a href=\"https://wandb.ai/maiquanh/quanh\" target=\"_blank\">Weights & Biases</a> (<a href=\"https://wandb.me/run\" target=\"_blank\">docs</a>)<br/>Sweep page:  <a href=\"https://wandb.ai/maiquanh/quanh/sweeps/8p4zr03y\" target=\"_blank\">https://wandb.ai/maiquanh/quanh/sweeps/8p4zr03y</a>"
      ],
      "text/plain": [
       "<IPython.core.display.HTML object>"
      ]
     },
     "metadata": {},
     "output_type": "display_data"
    },
    {
     "name": "stdout",
     "output_type": "stream",
     "text": [
      "-----START TRAINING CLASSIFICATION-----\n",
      "Epoch: 83\t| Train_loss: 0.005740\t|Train accuracy: 98.549195\t| Test_loss: 0.003218\t|Test accuracy: 94.596913\t|Val accuracy: 91.799995 \n",
      "\n",
      "----COMPLETED TRAINING CLASSIFICATION-----\n",
      "val_acc 91.79999542236328\n",
      "ok\n"
     ]
    },
    {
     "data": {
      "text/html": [
       "Waiting for W&B process to finish... <strong style=\"color:green\">(success).</strong>"
      ],
      "text/plain": [
       "<IPython.core.display.HTML object>"
      ]
     },
     "metadata": {},
     "output_type": "display_data"
    },
    {
     "data": {
      "text/html": [
       "<style>\n",
       "    table.wandb td:nth-child(1) { padding: 0 10px; text-align: left ; width: auto;} td:nth-child(2) {text-align: left ; width: 100%}\n",
       "    .wandb-row { display: flex; flex-direction: row; flex-wrap: wrap; justify-content: flex-start; width: 100% }\n",
       "    .wandb-col { display: flex; flex-direction: column; flex-basis: 100%; flex: 1; padding: 10px; }\n",
       "    </style>\n",
       "<div class=\"wandb-row\"><div class=\"wandb-col\"><h3>Run history:</h3><br/><table class=\"wandb\"><tr><td>test_loss</td><td>█▇▇▆▅▄▄▃▃▃▃▃▃▂▂▂▂▂▁▃▂▂▂▂▅▃▃▂▂▂▁▂▁▁▂▁▁▁▁▁</td></tr><tr><td>train_loss</td><td>█▇▇▆▅▄▄▃▃▃▂▂▂▂▂▂▁▁▁▂▁▁▁▁▁▂▂▁▁▁▁▁▁▁▁▁▁▁▁▁</td></tr><tr><td>val_acc</td><td>▁</td></tr></table><br/></div><div class=\"wandb-col\"><h3>Run summary:</h3><br/><table class=\"wandb\"><tr><td>test_loss</td><td>0.00322</td></tr><tr><td>train_loss</td><td>0.00574</td></tr><tr><td>val_acc</td><td>92.63333</td></tr></table><br/></div></div>"
      ],
      "text/plain": [
       "<IPython.core.display.HTML object>"
      ]
     },
     "metadata": {},
     "output_type": "display_data"
    },
    {
     "data": {
      "text/html": [
       "Synced <strong style=\"color:#cdcd00\">sweet-sweep-31</strong>: <a href=\"https://wandb.ai/maiquanh/quanh/runs/9htoqz3q\" target=\"_blank\">https://wandb.ai/maiquanh/quanh/runs/9htoqz3q</a><br/>Synced 6 W&B file(s), 0 media file(s), 0 artifact file(s) and 0 other file(s)"
      ],
      "text/plain": [
       "<IPython.core.display.HTML object>"
      ]
     },
     "metadata": {},
     "output_type": "display_data"
    },
    {
     "data": {
      "text/html": [
       "Find logs at: <code>./wandb/run-20221019_103325-9htoqz3q/logs</code>"
      ],
      "text/plain": [
       "<IPython.core.display.HTML object>"
      ]
     },
     "metadata": {},
     "output_type": "display_data"
    },
    {
     "name": "stderr",
     "output_type": "stream",
     "text": [
      "\u001b[34m\u001b[1mwandb\u001b[0m: Agent Starting Run: amafsn8w with config:\n",
      "\u001b[34m\u001b[1mwandb\u001b[0m: \tbatch_size: 128\n",
      "\u001b[34m\u001b[1mwandb\u001b[0m: \td_hidden: 3\n",
      "\u001b[34m\u001b[1mwandb\u001b[0m: \tdata_dir: /home/quanhhh/Documents/model/pickle/\n",
      "\u001b[34m\u001b[1mwandb\u001b[0m: \tdropout: 0.10958328555333384\n",
      "\u001b[34m\u001b[1mwandb\u001b[0m: \tkernel_size_1: 100\n",
      "\u001b[34m\u001b[1mwandb\u001b[0m: \tkernel_size_2: 5\n",
      "\u001b[34m\u001b[1mwandb\u001b[0m: \tlr: 0.0015807167098412576\n",
      "\u001b[34m\u001b[1mwandb\u001b[0m: \tmaxpool_1: 5\n",
      "\u001b[34m\u001b[1mwandb\u001b[0m: \tmaxpool_2: 4\n",
      "\u001b[34m\u001b[1mwandb\u001b[0m: \tnum_epoch: 83\n",
      "\u001b[34m\u001b[1mwandb\u001b[0m: \tnum_filters: 35\n",
      "\u001b[34m\u001b[1mwandb\u001b[0m: \tnum_layers: 2\n",
      "\u001b[34m\u001b[1mwandb\u001b[0m: \tresult_dir: /home/quanhhh/Documents/model/result_wandb/\n",
      "\u001b[34m\u001b[1mwandb\u001b[0m: \tstride_1: 9\n",
      "\u001b[34m\u001b[1mwandb\u001b[0m: \tstride_2: 9\n",
      "\u001b[34m\u001b[1mwandb\u001b[0m: \tweight_decay: 0.00021093142261501655\n"
     ]
    },
    {
     "data": {
      "text/html": [
       "Tracking run with wandb version 0.13.4"
      ],
      "text/plain": [
       "<IPython.core.display.HTML object>"
      ]
     },
     "metadata": {},
     "output_type": "display_data"
    },
    {
     "data": {
      "text/html": [
       "Run data is saved locally in <code>/home/quanhhh/Documents/model/wandb/run-20221019_103625-amafsn8w</code>"
      ],
      "text/plain": [
       "<IPython.core.display.HTML object>"
      ]
     },
     "metadata": {},
     "output_type": "display_data"
    },
    {
     "data": {
      "text/html": [
       "Syncing run <strong><a href=\"https://wandb.ai/maiquanh/quanh/runs/amafsn8w\" target=\"_blank\">lucky-sweep-32</a></strong> to <a href=\"https://wandb.ai/maiquanh/quanh\" target=\"_blank\">Weights & Biases</a> (<a href=\"https://wandb.me/run\" target=\"_blank\">docs</a>)<br/>Sweep page:  <a href=\"https://wandb.ai/maiquanh/quanh/sweeps/8p4zr03y\" target=\"_blank\">https://wandb.ai/maiquanh/quanh/sweeps/8p4zr03y</a>"
      ],
      "text/plain": [
       "<IPython.core.display.HTML object>"
      ]
     },
     "metadata": {},
     "output_type": "display_data"
    },
    {
     "name": "stdout",
     "output_type": "stream",
     "text": [
      "-----START TRAINING CLASSIFICATION-----\n",
      "Epoch: 83\t| Train_loss: 0.005880\t|Train accuracy: 95.159588\t| Test_loss: 0.003452\t|Test accuracy: 84.176672\t|Val accuracy: 64.066666 \n",
      "\n",
      "----COMPLETED TRAINING CLASSIFICATION-----\n",
      "val_acc 64.06666564941406\n",
      "ok\n"
     ]
    },
    {
     "data": {
      "text/html": [
       "Waiting for W&B process to finish... <strong style=\"color:green\">(success).</strong>"
      ],
      "text/plain": [
       "<IPython.core.display.HTML object>"
      ]
     },
     "metadata": {},
     "output_type": "display_data"
    },
    {
     "data": {
      "text/html": [
       "<style>\n",
       "    table.wandb td:nth-child(1) { padding: 0 10px; text-align: left ; width: auto;} td:nth-child(2) {text-align: left ; width: 100%}\n",
       "    .wandb-row { display: flex; flex-direction: row; flex-wrap: wrap; justify-content: flex-start; width: 100% }\n",
       "    .wandb-col { display: flex; flex-direction: column; flex-basis: 100%; flex: 1; padding: 10px; }\n",
       "    </style>\n",
       "<div class=\"wandb-row\"><div class=\"wandb-col\"><h3>Run history:</h3><br/><table class=\"wandb\"><tr><td>test_loss</td><td>█▆▄▄▅▃▃▃▂▂▂▂▂▂▃▂▂▂▂▂▂▃▂▂▂▄▂▂▁▁▁▁▁▂▂▂▃▁▃▁</td></tr><tr><td>train_loss</td><td>█▄▃▂▃▂▂▁▁▁▁▁▁▁▁▁▁▁▁▂▁▁▁▁▁▁▁▁▁▁▁▁▁▁▁▁▁▁▁▂</td></tr><tr><td>val_acc</td><td>▁</td></tr></table><br/></div><div class=\"wandb-col\"><h3>Run summary:</h3><br/><table class=\"wandb\"><tr><td>test_loss</td><td>0.00345</td></tr><tr><td>train_loss</td><td>0.00588</td></tr><tr><td>val_acc</td><td>76.3</td></tr></table><br/></div></div>"
      ],
      "text/plain": [
       "<IPython.core.display.HTML object>"
      ]
     },
     "metadata": {},
     "output_type": "display_data"
    },
    {
     "data": {
      "text/html": [
       "Synced <strong style=\"color:#cdcd00\">lucky-sweep-32</strong>: <a href=\"https://wandb.ai/maiquanh/quanh/runs/amafsn8w\" target=\"_blank\">https://wandb.ai/maiquanh/quanh/runs/amafsn8w</a><br/>Synced 6 W&B file(s), 0 media file(s), 0 artifact file(s) and 0 other file(s)"
      ],
      "text/plain": [
       "<IPython.core.display.HTML object>"
      ]
     },
     "metadata": {},
     "output_type": "display_data"
    },
    {
     "data": {
      "text/html": [
       "Find logs at: <code>./wandb/run-20221019_103625-amafsn8w/logs</code>"
      ],
      "text/plain": [
       "<IPython.core.display.HTML object>"
      ]
     },
     "metadata": {},
     "output_type": "display_data"
    },
    {
     "name": "stderr",
     "output_type": "stream",
     "text": [
      "\u001b[34m\u001b[1mwandb\u001b[0m: Sweep Agent: Waiting for job.\n",
      "\u001b[34m\u001b[1mwandb\u001b[0m: Job received.\n",
      "\u001b[34m\u001b[1mwandb\u001b[0m: Agent Starting Run: d1n6ynhk with config:\n",
      "\u001b[34m\u001b[1mwandb\u001b[0m: \tbatch_size: 128\n",
      "\u001b[34m\u001b[1mwandb\u001b[0m: \td_hidden: 3\n",
      "\u001b[34m\u001b[1mwandb\u001b[0m: \tdata_dir: /home/quanhhh/Documents/model/pickle/\n",
      "\u001b[34m\u001b[1mwandb\u001b[0m: \tdropout: 0.1934980889295962\n",
      "\u001b[34m\u001b[1mwandb\u001b[0m: \tkernel_size_1: 76\n",
      "\u001b[34m\u001b[1mwandb\u001b[0m: \tkernel_size_2: 9\n",
      "\u001b[34m\u001b[1mwandb\u001b[0m: \tlr: 0.00025844522727438507\n",
      "\u001b[34m\u001b[1mwandb\u001b[0m: \tmaxpool_1: 4\n",
      "\u001b[34m\u001b[1mwandb\u001b[0m: \tmaxpool_2: 4\n",
      "\u001b[34m\u001b[1mwandb\u001b[0m: \tnum_epoch: 81\n",
      "\u001b[34m\u001b[1mwandb\u001b[0m: \tnum_filters: 40\n",
      "\u001b[34m\u001b[1mwandb\u001b[0m: \tnum_layers: 3\n",
      "\u001b[34m\u001b[1mwandb\u001b[0m: \tresult_dir: /home/quanhhh/Documents/model/result_wandb/\n",
      "\u001b[34m\u001b[1mwandb\u001b[0m: \tstride_1: 7\n",
      "\u001b[34m\u001b[1mwandb\u001b[0m: \tstride_2: 9\n",
      "\u001b[34m\u001b[1mwandb\u001b[0m: \tweight_decay: 0.00021379621715815223\n"
     ]
    },
    {
     "data": {
      "text/html": [
       "Tracking run with wandb version 0.13.4"
      ],
      "text/plain": [
       "<IPython.core.display.HTML object>"
      ]
     },
     "metadata": {},
     "output_type": "display_data"
    },
    {
     "data": {
      "text/html": [
       "Run data is saved locally in <code>/home/quanhhh/Documents/model/wandb/run-20221019_103856-d1n6ynhk</code>"
      ],
      "text/plain": [
       "<IPython.core.display.HTML object>"
      ]
     },
     "metadata": {},
     "output_type": "display_data"
    },
    {
     "data": {
      "text/html": [
       "Syncing run <strong><a href=\"https://wandb.ai/maiquanh/quanh/runs/d1n6ynhk\" target=\"_blank\">colorful-sweep-33</a></strong> to <a href=\"https://wandb.ai/maiquanh/quanh\" target=\"_blank\">Weights & Biases</a> (<a href=\"https://wandb.me/run\" target=\"_blank\">docs</a>)<br/>Sweep page:  <a href=\"https://wandb.ai/maiquanh/quanh/sweeps/8p4zr03y\" target=\"_blank\">https://wandb.ai/maiquanh/quanh/sweeps/8p4zr03y</a>"
      ],
      "text/plain": [
       "<IPython.core.display.HTML object>"
      ]
     },
     "metadata": {},
     "output_type": "display_data"
    },
    {
     "name": "stdout",
     "output_type": "stream",
     "text": [
      "-----START TRAINING CLASSIFICATION-----\n",
      "Epoch: 81\t| Train_loss: 0.005703\t|Train accuracy: 98.483250\t| Test_loss: 0.003396\t|Test accuracy: 86.277873\t|Val accuracy: 86.500000 \n",
      "\n",
      "----COMPLETED TRAINING CLASSIFICATION-----\n",
      "val_acc 86.5\n",
      "ok\n"
     ]
    },
    {
     "data": {
      "text/html": [
       "Waiting for W&B process to finish... <strong style=\"color:green\">(success).</strong>"
      ],
      "text/plain": [
       "<IPython.core.display.HTML object>"
      ]
     },
     "metadata": {},
     "output_type": "display_data"
    },
    {
     "data": {
      "text/html": [
       "<style>\n",
       "    table.wandb td:nth-child(1) { padding: 0 10px; text-align: left ; width: auto;} td:nth-child(2) {text-align: left ; width: 100%}\n",
       "    .wandb-row { display: flex; flex-direction: row; flex-wrap: wrap; justify-content: flex-start; width: 100% }\n",
       "    .wandb-col { display: flex; flex-direction: column; flex-basis: 100%; flex: 1; padding: 10px; }\n",
       "    </style>\n",
       "<div class=\"wandb-row\"><div class=\"wandb-col\"><h3>Run history:</h3><br/><table class=\"wandb\"><tr><td>test_loss</td><td>██▇▆▅▄▄▂▃▂▃▃▃▂▁▃▃▃▂▂▂▂▁▁▂▂▂▂▁▂▂▂▁▂▂▂▂▂▂▁</td></tr><tr><td>train_loss</td><td>██▇▇▆▅▄▃▃▃▂▂▂▂▂▂▂▂▂▂▂▂▂▂▂▂▁▁▁▁▁▁▁▁▁▁▁▁▁▁</td></tr><tr><td>val_acc</td><td>▁</td></tr></table><br/></div><div class=\"wandb-col\"><h3>Run summary:</h3><br/><table class=\"wandb\"><tr><td>test_loss</td><td>0.0034</td></tr><tr><td>train_loss</td><td>0.0057</td></tr><tr><td>val_acc</td><td>92.1</td></tr></table><br/></div></div>"
      ],
      "text/plain": [
       "<IPython.core.display.HTML object>"
      ]
     },
     "metadata": {},
     "output_type": "display_data"
    },
    {
     "data": {
      "text/html": [
       "Synced <strong style=\"color:#cdcd00\">colorful-sweep-33</strong>: <a href=\"https://wandb.ai/maiquanh/quanh/runs/d1n6ynhk\" target=\"_blank\">https://wandb.ai/maiquanh/quanh/runs/d1n6ynhk</a><br/>Synced 6 W&B file(s), 0 media file(s), 0 artifact file(s) and 0 other file(s)"
      ],
      "text/plain": [
       "<IPython.core.display.HTML object>"
      ]
     },
     "metadata": {},
     "output_type": "display_data"
    },
    {
     "data": {
      "text/html": [
       "Find logs at: <code>./wandb/run-20221019_103856-d1n6ynhk/logs</code>"
      ],
      "text/plain": [
       "<IPython.core.display.HTML object>"
      ]
     },
     "metadata": {},
     "output_type": "display_data"
    },
    {
     "name": "stderr",
     "output_type": "stream",
     "text": [
      "\u001b[34m\u001b[1mwandb\u001b[0m: Sweep Agent: Waiting for job.\n",
      "\u001b[34m\u001b[1mwandb\u001b[0m: Job received.\n",
      "\u001b[34m\u001b[1mwandb\u001b[0m: Agent Starting Run: paf9a0zb with config:\n",
      "\u001b[34m\u001b[1mwandb\u001b[0m: \tbatch_size: 128\n",
      "\u001b[34m\u001b[1mwandb\u001b[0m: \td_hidden: 3\n",
      "\u001b[34m\u001b[1mwandb\u001b[0m: \tdata_dir: /home/quanhhh/Documents/model/pickle/\n",
      "\u001b[34m\u001b[1mwandb\u001b[0m: \tdropout: 0.16118133497970677\n",
      "\u001b[34m\u001b[1mwandb\u001b[0m: \tkernel_size_1: 51\n",
      "\u001b[34m\u001b[1mwandb\u001b[0m: \tkernel_size_2: 9\n",
      "\u001b[34m\u001b[1mwandb\u001b[0m: \tlr: 0.00030201923445251225\n",
      "\u001b[34m\u001b[1mwandb\u001b[0m: \tmaxpool_1: 6\n",
      "\u001b[34m\u001b[1mwandb\u001b[0m: \tmaxpool_2: 5\n",
      "\u001b[34m\u001b[1mwandb\u001b[0m: \tnum_epoch: 90\n",
      "\u001b[34m\u001b[1mwandb\u001b[0m: \tnum_filters: 23\n",
      "\u001b[34m\u001b[1mwandb\u001b[0m: \tnum_layers: 4\n",
      "\u001b[34m\u001b[1mwandb\u001b[0m: \tresult_dir: /home/quanhhh/Documents/model/result_wandb/\n",
      "\u001b[34m\u001b[1mwandb\u001b[0m: \tstride_1: 6\n",
      "\u001b[34m\u001b[1mwandb\u001b[0m: \tstride_2: 4\n",
      "\u001b[34m\u001b[1mwandb\u001b[0m: \tweight_decay: 0.00012272990960898\n"
     ]
    },
    {
     "data": {
      "text/html": [
       "Tracking run with wandb version 0.13.4"
      ],
      "text/plain": [
       "<IPython.core.display.HTML object>"
      ]
     },
     "metadata": {},
     "output_type": "display_data"
    },
    {
     "data": {
      "text/html": [
       "Run data is saved locally in <code>/home/quanhhh/Documents/model/wandb/run-20221019_104149-paf9a0zb</code>"
      ],
      "text/plain": [
       "<IPython.core.display.HTML object>"
      ]
     },
     "metadata": {},
     "output_type": "display_data"
    },
    {
     "data": {
      "text/html": [
       "Syncing run <strong><a href=\"https://wandb.ai/maiquanh/quanh/runs/paf9a0zb\" target=\"_blank\">solar-sweep-34</a></strong> to <a href=\"https://wandb.ai/maiquanh/quanh\" target=\"_blank\">Weights & Biases</a> (<a href=\"https://wandb.me/run\" target=\"_blank\">docs</a>)<br/>Sweep page:  <a href=\"https://wandb.ai/maiquanh/quanh/sweeps/8p4zr03y\" target=\"_blank\">https://wandb.ai/maiquanh/quanh/sweeps/8p4zr03y</a>"
      ],
      "text/plain": [
       "<IPython.core.display.HTML object>"
      ]
     },
     "metadata": {},
     "output_type": "display_data"
    },
    {
     "name": "stdout",
     "output_type": "stream",
     "text": [
      "-----START TRAINING CLASSIFICATION-----\n",
      "Epoch: 90\t| Train_loss: 0.005643\t|Train accuracy: 99.129517\t| Test_loss: 0.003218\t|Test accuracy: 94.210978\t|Val accuracy: 88.699997 \n",
      "\n",
      "----COMPLETED TRAINING CLASSIFICATION-----\n",
      "val_acc 88.69999694824219\n",
      "ok\n"
     ]
    },
    {
     "data": {
      "text/html": [
       "Waiting for W&B process to finish... <strong style=\"color:green\">(success).</strong>"
      ],
      "text/plain": [
       "<IPython.core.display.HTML object>"
      ]
     },
     "metadata": {},
     "output_type": "display_data"
    },
    {
     "data": {
      "text/html": [
       "<style>\n",
       "    table.wandb td:nth-child(1) { padding: 0 10px; text-align: left ; width: auto;} td:nth-child(2) {text-align: left ; width: 100%}\n",
       "    .wandb-row { display: flex; flex-direction: row; flex-wrap: wrap; justify-content: flex-start; width: 100% }\n",
       "    .wandb-col { display: flex; flex-direction: column; flex-basis: 100%; flex: 1; padding: 10px; }\n",
       "    </style>\n",
       "<div class=\"wandb-row\"><div class=\"wandb-col\"><h3>Run history:</h3><br/><table class=\"wandb\"><tr><td>test_loss</td><td>███▇▆▅▅▅▄▄▃▃▄▄▃▃▂▃▃▂▃▂▂▂▂▂▂▂▂▁▂▁▁▁▁▁▁▂▁▁</td></tr><tr><td>train_loss</td><td>███▇▆▅▅▄▄▃▃▃▃▃▃▂▂▂▂▂▂▂▂▂▂▂▁▁▁▁▁▁▁▁▁▁▁▁▁▁</td></tr><tr><td>val_acc</td><td>▁</td></tr></table><br/></div><div class=\"wandb-col\"><h3>Run summary:</h3><br/><table class=\"wandb\"><tr><td>test_loss</td><td>0.00322</td></tr><tr><td>train_loss</td><td>0.00564</td></tr><tr><td>val_acc</td><td>92.2</td></tr></table><br/></div></div>"
      ],
      "text/plain": [
       "<IPython.core.display.HTML object>"
      ]
     },
     "metadata": {},
     "output_type": "display_data"
    },
    {
     "data": {
      "text/html": [
       "Synced <strong style=\"color:#cdcd00\">solar-sweep-34</strong>: <a href=\"https://wandb.ai/maiquanh/quanh/runs/paf9a0zb\" target=\"_blank\">https://wandb.ai/maiquanh/quanh/runs/paf9a0zb</a><br/>Synced 6 W&B file(s), 0 media file(s), 0 artifact file(s) and 0 other file(s)"
      ],
      "text/plain": [
       "<IPython.core.display.HTML object>"
      ]
     },
     "metadata": {},
     "output_type": "display_data"
    },
    {
     "data": {
      "text/html": [
       "Find logs at: <code>./wandb/run-20221019_104149-paf9a0zb/logs</code>"
      ],
      "text/plain": [
       "<IPython.core.display.HTML object>"
      ]
     },
     "metadata": {},
     "output_type": "display_data"
    },
    {
     "name": "stderr",
     "output_type": "stream",
     "text": [
      "\u001b[34m\u001b[1mwandb\u001b[0m: Agent Starting Run: aqv8cefa with config:\n",
      "\u001b[34m\u001b[1mwandb\u001b[0m: \tbatch_size: 128\n",
      "\u001b[34m\u001b[1mwandb\u001b[0m: \td_hidden: 3\n",
      "\u001b[34m\u001b[1mwandb\u001b[0m: \tdata_dir: /home/quanhhh/Documents/model/pickle/\n",
      "\u001b[34m\u001b[1mwandb\u001b[0m: \tdropout: 0.19476757067299172\n",
      "\u001b[34m\u001b[1mwandb\u001b[0m: \tkernel_size_1: 82\n",
      "\u001b[34m\u001b[1mwandb\u001b[0m: \tkernel_size_2: 8\n",
      "\u001b[34m\u001b[1mwandb\u001b[0m: \tlr: 0.0006670425085881567\n",
      "\u001b[34m\u001b[1mwandb\u001b[0m: \tmaxpool_1: 5\n",
      "\u001b[34m\u001b[1mwandb\u001b[0m: \tmaxpool_2: 5\n",
      "\u001b[34m\u001b[1mwandb\u001b[0m: \tnum_epoch: 91\n",
      "\u001b[34m\u001b[1mwandb\u001b[0m: \tnum_filters: 24\n",
      "\u001b[34m\u001b[1mwandb\u001b[0m: \tnum_layers: 4\n",
      "\u001b[34m\u001b[1mwandb\u001b[0m: \tresult_dir: /home/quanhhh/Documents/model/result_wandb/\n",
      "\u001b[34m\u001b[1mwandb\u001b[0m: \tstride_1: 5\n",
      "\u001b[34m\u001b[1mwandb\u001b[0m: \tstride_2: 9\n",
      "\u001b[34m\u001b[1mwandb\u001b[0m: \tweight_decay: 0.0001536495658174299\n"
     ]
    },
    {
     "data": {
      "text/html": [
       "Tracking run with wandb version 0.13.4"
      ],
      "text/plain": [
       "<IPython.core.display.HTML object>"
      ]
     },
     "metadata": {},
     "output_type": "display_data"
    },
    {
     "data": {
      "text/html": [
       "Run data is saved locally in <code>/home/quanhhh/Documents/model/wandb/run-20221019_104414-aqv8cefa</code>"
      ],
      "text/plain": [
       "<IPython.core.display.HTML object>"
      ]
     },
     "metadata": {},
     "output_type": "display_data"
    },
    {
     "data": {
      "text/html": [
       "Syncing run <strong><a href=\"https://wandb.ai/maiquanh/quanh/runs/aqv8cefa\" target=\"_blank\">polished-sweep-35</a></strong> to <a href=\"https://wandb.ai/maiquanh/quanh\" target=\"_blank\">Weights & Biases</a> (<a href=\"https://wandb.me/run\" target=\"_blank\">docs</a>)<br/>Sweep page:  <a href=\"https://wandb.ai/maiquanh/quanh/sweeps/8p4zr03y\" target=\"_blank\">https://wandb.ai/maiquanh/quanh/sweeps/8p4zr03y</a>"
      ],
      "text/plain": [
       "<IPython.core.display.HTML object>"
      ]
     },
     "metadata": {},
     "output_type": "display_data"
    },
    {
     "name": "stdout",
     "output_type": "stream",
     "text": [
      "-----START TRAINING CLASSIFICATION-----\n",
      "Epoch: 91\t| Train_loss: 0.005846\t|Train accuracy: 99.089950\t| Test_loss: 0.003353\t|Test accuracy: 93.310463\t|Val accuracy: 92.066666 \n",
      "\n",
      "----COMPLETED TRAINING CLASSIFICATION-----\n",
      "val_acc 92.06666564941406\n",
      "ok\n"
     ]
    },
    {
     "data": {
      "text/html": [
       "Waiting for W&B process to finish... <strong style=\"color:green\">(success).</strong>"
      ],
      "text/plain": [
       "<IPython.core.display.HTML object>"
      ]
     },
     "metadata": {},
     "output_type": "display_data"
    },
    {
     "data": {
      "text/html": [
       "<style>\n",
       "    table.wandb td:nth-child(1) { padding: 0 10px; text-align: left ; width: auto;} td:nth-child(2) {text-align: left ; width: 100%}\n",
       "    .wandb-row { display: flex; flex-direction: row; flex-wrap: wrap; justify-content: flex-start; width: 100% }\n",
       "    .wandb-col { display: flex; flex-direction: column; flex-basis: 100%; flex: 1; padding: 10px; }\n",
       "    </style>\n",
       "<div class=\"wandb-row\"><div class=\"wandb-col\"><h3>Run history:</h3><br/><table class=\"wandb\"><tr><td>test_loss</td><td>█▇▆▅▅▄▄▃▄▃▃▂▂▃▃▂▃▃▃▃▃▃▃▂▁▁▂▁▁▁▃▁▁▂▁▂▂▃▁▁</td></tr><tr><td>train_loss</td><td>█▇▅▄▃▂▂▂▂▂▂▂▂▁▁▁▂▁▁▁▁▁▁▁▁▁▁▁▁▁▁▁▁▁▁▁▁▁▁▁</td></tr><tr><td>val_acc</td><td>▁</td></tr></table><br/></div><div class=\"wandb-col\"><h3>Run summary:</h3><br/><table class=\"wandb\"><tr><td>test_loss</td><td>0.00335</td></tr><tr><td>train_loss</td><td>0.00585</td></tr><tr><td>val_acc</td><td>93.8</td></tr></table><br/></div></div>"
      ],
      "text/plain": [
       "<IPython.core.display.HTML object>"
      ]
     },
     "metadata": {},
     "output_type": "display_data"
    },
    {
     "data": {
      "text/html": [
       "Synced <strong style=\"color:#cdcd00\">polished-sweep-35</strong>: <a href=\"https://wandb.ai/maiquanh/quanh/runs/aqv8cefa\" target=\"_blank\">https://wandb.ai/maiquanh/quanh/runs/aqv8cefa</a><br/>Synced 6 W&B file(s), 0 media file(s), 0 artifact file(s) and 0 other file(s)"
      ],
      "text/plain": [
       "<IPython.core.display.HTML object>"
      ]
     },
     "metadata": {},
     "output_type": "display_data"
    },
    {
     "data": {
      "text/html": [
       "Find logs at: <code>./wandb/run-20221019_104414-aqv8cefa/logs</code>"
      ],
      "text/plain": [
       "<IPython.core.display.HTML object>"
      ]
     },
     "metadata": {},
     "output_type": "display_data"
    },
    {
     "name": "stderr",
     "output_type": "stream",
     "text": [
      "\u001b[34m\u001b[1mwandb\u001b[0m: Agent Starting Run: l19ourei with config:\n",
      "\u001b[34m\u001b[1mwandb\u001b[0m: \tbatch_size: 128\n",
      "\u001b[34m\u001b[1mwandb\u001b[0m: \td_hidden: 3\n",
      "\u001b[34m\u001b[1mwandb\u001b[0m: \tdata_dir: /home/quanhhh/Documents/model/pickle/\n",
      "\u001b[34m\u001b[1mwandb\u001b[0m: \tdropout: 0.18015127105567583\n",
      "\u001b[34m\u001b[1mwandb\u001b[0m: \tkernel_size_1: 50\n",
      "\u001b[34m\u001b[1mwandb\u001b[0m: \tkernel_size_2: 8\n",
      "\u001b[34m\u001b[1mwandb\u001b[0m: \tlr: 0.00023051014074936877\n",
      "\u001b[34m\u001b[1mwandb\u001b[0m: \tmaxpool_1: 3\n",
      "\u001b[34m\u001b[1mwandb\u001b[0m: \tmaxpool_2: 8\n",
      "\u001b[34m\u001b[1mwandb\u001b[0m: \tnum_epoch: 99\n",
      "\u001b[34m\u001b[1mwandb\u001b[0m: \tnum_filters: 55\n",
      "\u001b[34m\u001b[1mwandb\u001b[0m: \tnum_layers: 3\n",
      "\u001b[34m\u001b[1mwandb\u001b[0m: \tresult_dir: /home/quanhhh/Documents/model/result_wandb/\n",
      "\u001b[34m\u001b[1mwandb\u001b[0m: \tstride_1: 6\n",
      "\u001b[34m\u001b[1mwandb\u001b[0m: \tstride_2: 9\n",
      "\u001b[34m\u001b[1mwandb\u001b[0m: \tweight_decay: 0.00022441097686130309\n"
     ]
    },
    {
     "data": {
      "text/html": [
       "Tracking run with wandb version 0.13.4"
      ],
      "text/plain": [
       "<IPython.core.display.HTML object>"
      ]
     },
     "metadata": {},
     "output_type": "display_data"
    },
    {
     "data": {
      "text/html": [
       "Run data is saved locally in <code>/home/quanhhh/Documents/model/wandb/run-20221019_104658-l19ourei</code>"
      ],
      "text/plain": [
       "<IPython.core.display.HTML object>"
      ]
     },
     "metadata": {},
     "output_type": "display_data"
    },
    {
     "data": {
      "text/html": [
       "Syncing run <strong><a href=\"https://wandb.ai/maiquanh/quanh/runs/l19ourei\" target=\"_blank\">jumping-sweep-36</a></strong> to <a href=\"https://wandb.ai/maiquanh/quanh\" target=\"_blank\">Weights & Biases</a> (<a href=\"https://wandb.me/run\" target=\"_blank\">docs</a>)<br/>Sweep page:  <a href=\"https://wandb.ai/maiquanh/quanh/sweeps/8p4zr03y\" target=\"_blank\">https://wandb.ai/maiquanh/quanh/sweeps/8p4zr03y</a>"
      ],
      "text/plain": [
       "<IPython.core.display.HTML object>"
      ]
     },
     "metadata": {},
     "output_type": "display_data"
    },
    {
     "name": "stdout",
     "output_type": "stream",
     "text": [
      "-----START TRAINING CLASSIFICATION-----\n",
      "Epoch: 99\t| Train_loss: 0.005876\t|Train accuracy: 99.432867\t| Test_loss: 0.003289\t|Test accuracy: 96.740995\t|Val accuracy: 84.000000 \n",
      "\n",
      "----COMPLETED TRAINING CLASSIFICATION-----\n",
      "val_acc 84.0\n",
      "ok\n"
     ]
    },
    {
     "data": {
      "text/html": [
       "Waiting for W&B process to finish... <strong style=\"color:green\">(success).</strong>"
      ],
      "text/plain": [
       "<IPython.core.display.HTML object>"
      ]
     },
     "metadata": {},
     "output_type": "display_data"
    },
    {
     "data": {
      "text/html": [
       "<style>\n",
       "    table.wandb td:nth-child(1) { padding: 0 10px; text-align: left ; width: auto;} td:nth-child(2) {text-align: left ; width: 100%}\n",
       "    .wandb-row { display: flex; flex-direction: row; flex-wrap: wrap; justify-content: flex-start; width: 100% }\n",
       "    .wandb-col { display: flex; flex-direction: column; flex-basis: 100%; flex: 1; padding: 10px; }\n",
       "    </style>\n",
       "<div class=\"wandb-row\"><div class=\"wandb-col\"><h3>Run history:</h3><br/><table class=\"wandb\"><tr><td>test_loss</td><td>███▇▆▆▅▅▅▄▄▃▃▄▂▂▂▂▂▂▂▂▂▂▂▁▁▂▂▁▂▁▁▁▁▁▁▁▁▁</td></tr><tr><td>train_loss</td><td>██▇▆▅▅▅▄▄▃▃▃▂▂▂▂▂▂▂▂▂▁▁▁▁▁▁▁▁▁▁▁▁▁▁▁▁▁▁▁</td></tr><tr><td>val_acc</td><td>▁</td></tr></table><br/></div><div class=\"wandb-col\"><h3>Run summary:</h3><br/><table class=\"wandb\"><tr><td>test_loss</td><td>0.00329</td></tr><tr><td>train_loss</td><td>0.00588</td></tr><tr><td>val_acc</td><td>95.16666</td></tr></table><br/></div></div>"
      ],
      "text/plain": [
       "<IPython.core.display.HTML object>"
      ]
     },
     "metadata": {},
     "output_type": "display_data"
    },
    {
     "data": {
      "text/html": [
       "Synced <strong style=\"color:#cdcd00\">jumping-sweep-36</strong>: <a href=\"https://wandb.ai/maiquanh/quanh/runs/l19ourei\" target=\"_blank\">https://wandb.ai/maiquanh/quanh/runs/l19ourei</a><br/>Synced 6 W&B file(s), 0 media file(s), 0 artifact file(s) and 0 other file(s)"
      ],
      "text/plain": [
       "<IPython.core.display.HTML object>"
      ]
     },
     "metadata": {},
     "output_type": "display_data"
    },
    {
     "data": {
      "text/html": [
       "Find logs at: <code>./wandb/run-20221019_104658-l19ourei/logs</code>"
      ],
      "text/plain": [
       "<IPython.core.display.HTML object>"
      ]
     },
     "metadata": {},
     "output_type": "display_data"
    },
    {
     "name": "stderr",
     "output_type": "stream",
     "text": [
      "\u001b[34m\u001b[1mwandb\u001b[0m: Agent Starting Run: l0g502qp with config:\n",
      "\u001b[34m\u001b[1mwandb\u001b[0m: \tbatch_size: 128\n",
      "\u001b[34m\u001b[1mwandb\u001b[0m: \td_hidden: 3\n",
      "\u001b[34m\u001b[1mwandb\u001b[0m: \tdata_dir: /home/quanhhh/Documents/model/pickle/\n",
      "\u001b[34m\u001b[1mwandb\u001b[0m: \tdropout: 0.10712236142094016\n",
      "\u001b[34m\u001b[1mwandb\u001b[0m: \tkernel_size_1: 66\n",
      "\u001b[34m\u001b[1mwandb\u001b[0m: \tkernel_size_2: 7\n",
      "\u001b[34m\u001b[1mwandb\u001b[0m: \tlr: 0.00011899855804645808\n",
      "\u001b[34m\u001b[1mwandb\u001b[0m: \tmaxpool_1: 5\n",
      "\u001b[34m\u001b[1mwandb\u001b[0m: \tmaxpool_2: 6\n",
      "\u001b[34m\u001b[1mwandb\u001b[0m: \tnum_epoch: 85\n",
      "\u001b[34m\u001b[1mwandb\u001b[0m: \tnum_filters: 17\n",
      "\u001b[34m\u001b[1mwandb\u001b[0m: \tnum_layers: 3\n",
      "\u001b[34m\u001b[1mwandb\u001b[0m: \tresult_dir: /home/quanhhh/Documents/model/result_wandb/\n",
      "\u001b[34m\u001b[1mwandb\u001b[0m: \tstride_1: 8\n",
      "\u001b[34m\u001b[1mwandb\u001b[0m: \tstride_2: 6\n",
      "\u001b[34m\u001b[1mwandb\u001b[0m: \tweight_decay: 0.00012019916472909144\n"
     ]
    },
    {
     "data": {
      "text/html": [
       "Tracking run with wandb version 0.13.4"
      ],
      "text/plain": [
       "<IPython.core.display.HTML object>"
      ]
     },
     "metadata": {},
     "output_type": "display_data"
    },
    {
     "data": {
      "text/html": [
       "Run data is saved locally in <code>/home/quanhhh/Documents/model/wandb/run-20221019_105107-l0g502qp</code>"
      ],
      "text/plain": [
       "<IPython.core.display.HTML object>"
      ]
     },
     "metadata": {},
     "output_type": "display_data"
    },
    {
     "data": {
      "text/html": [
       "Syncing run <strong><a href=\"https://wandb.ai/maiquanh/quanh/runs/l0g502qp\" target=\"_blank\">hopeful-sweep-37</a></strong> to <a href=\"https://wandb.ai/maiquanh/quanh\" target=\"_blank\">Weights & Biases</a> (<a href=\"https://wandb.me/run\" target=\"_blank\">docs</a>)<br/>Sweep page:  <a href=\"https://wandb.ai/maiquanh/quanh/sweeps/8p4zr03y\" target=\"_blank\">https://wandb.ai/maiquanh/quanh/sweeps/8p4zr03y</a>"
      ],
      "text/plain": [
       "<IPython.core.display.HTML object>"
      ]
     },
     "metadata": {},
     "output_type": "display_data"
    },
    {
     "name": "stdout",
     "output_type": "stream",
     "text": [
      "-----START TRAINING CLASSIFICATION-----\n",
      "Epoch: 85\t| Train_loss: 0.005962\t|Train accuracy: 98.786600\t| Test_loss: 0.003407\t|Test accuracy: 92.881647\t|Val accuracy: 78.199997 \n",
      "\n",
      "----COMPLETED TRAINING CLASSIFICATION-----\n",
      "val_acc 78.19999694824219\n",
      "ok\n"
     ]
    },
    {
     "data": {
      "text/html": [
       "Waiting for W&B process to finish... <strong style=\"color:green\">(success).</strong>"
      ],
      "text/plain": [
       "<IPython.core.display.HTML object>"
      ]
     },
     "metadata": {},
     "output_type": "display_data"
    },
    {
     "data": {
      "text/html": [
       "<style>\n",
       "    table.wandb td:nth-child(1) { padding: 0 10px; text-align: left ; width: auto;} td:nth-child(2) {text-align: left ; width: 100%}\n",
       "    .wandb-row { display: flex; flex-direction: row; flex-wrap: wrap; justify-content: flex-start; width: 100% }\n",
       "    .wandb-col { display: flex; flex-direction: column; flex-basis: 100%; flex: 1; padding: 10px; }\n",
       "    </style>\n",
       "<div class=\"wandb-row\"><div class=\"wandb-col\"><h3>Run history:</h3><br/><table class=\"wandb\"><tr><td>test_loss</td><td>██████▇▇▇▆▆▆▆▆▆▅▅▅▅▅▅▅▅▅▅▅▄▄▃▃▃▃▃▃▂▂▂▁▁▁</td></tr><tr><td>train_loss</td><td>█████▇▇▆▆▆▆▆▅▅▅▅▅▅▅▄▄▄▄▄▄▄▄▃▃▃▃▂▂▂▂▂▂▁▁▁</td></tr><tr><td>val_acc</td><td>▁</td></tr></table><br/></div><div class=\"wandb-col\"><h3>Run summary:</h3><br/><table class=\"wandb\"><tr><td>test_loss</td><td>0.00341</td></tr><tr><td>train_loss</td><td>0.00596</td></tr><tr><td>val_acc</td><td>79.43333</td></tr></table><br/></div></div>"
      ],
      "text/plain": [
       "<IPython.core.display.HTML object>"
      ]
     },
     "metadata": {},
     "output_type": "display_data"
    },
    {
     "data": {
      "text/html": [
       "Synced <strong style=\"color:#cdcd00\">hopeful-sweep-37</strong>: <a href=\"https://wandb.ai/maiquanh/quanh/runs/l0g502qp\" target=\"_blank\">https://wandb.ai/maiquanh/quanh/runs/l0g502qp</a><br/>Synced 6 W&B file(s), 0 media file(s), 0 artifact file(s) and 0 other file(s)"
      ],
      "text/plain": [
       "<IPython.core.display.HTML object>"
      ]
     },
     "metadata": {},
     "output_type": "display_data"
    },
    {
     "data": {
      "text/html": [
       "Find logs at: <code>./wandb/run-20221019_105107-l0g502qp/logs</code>"
      ],
      "text/plain": [
       "<IPython.core.display.HTML object>"
      ]
     },
     "metadata": {},
     "output_type": "display_data"
    },
    {
     "name": "stderr",
     "output_type": "stream",
     "text": [
      "\u001b[34m\u001b[1mwandb\u001b[0m: Agent Starting Run: sowypfgn with config:\n",
      "\u001b[34m\u001b[1mwandb\u001b[0m: \tbatch_size: 128\n",
      "\u001b[34m\u001b[1mwandb\u001b[0m: \td_hidden: 3\n",
      "\u001b[34m\u001b[1mwandb\u001b[0m: \tdata_dir: /home/quanhhh/Documents/model/pickle/\n",
      "\u001b[34m\u001b[1mwandb\u001b[0m: \tdropout: 0.1869483846374395\n",
      "\u001b[34m\u001b[1mwandb\u001b[0m: \tkernel_size_1: 54\n",
      "\u001b[34m\u001b[1mwandb\u001b[0m: \tkernel_size_2: 10\n",
      "\u001b[34m\u001b[1mwandb\u001b[0m: \tlr: 0.0008960396106596836\n",
      "\u001b[34m\u001b[1mwandb\u001b[0m: \tmaxpool_1: 3\n",
      "\u001b[34m\u001b[1mwandb\u001b[0m: \tmaxpool_2: 4\n",
      "\u001b[34m\u001b[1mwandb\u001b[0m: \tnum_epoch: 96\n",
      "\u001b[34m\u001b[1mwandb\u001b[0m: \tnum_filters: 45\n",
      "\u001b[34m\u001b[1mwandb\u001b[0m: \tnum_layers: 4\n",
      "\u001b[34m\u001b[1mwandb\u001b[0m: \tresult_dir: /home/quanhhh/Documents/model/result_wandb/\n",
      "\u001b[34m\u001b[1mwandb\u001b[0m: \tstride_1: 3\n",
      "\u001b[34m\u001b[1mwandb\u001b[0m: \tstride_2: 9\n",
      "\u001b[34m\u001b[1mwandb\u001b[0m: \tweight_decay: 0.00023009629486112987\n"
     ]
    },
    {
     "data": {
      "text/html": [
       "Tracking run with wandb version 0.13.4"
      ],
      "text/plain": [
       "<IPython.core.display.HTML object>"
      ]
     },
     "metadata": {},
     "output_type": "display_data"
    },
    {
     "data": {
      "text/html": [
       "Run data is saved locally in <code>/home/quanhhh/Documents/model/wandb/run-20221019_105327-sowypfgn</code>"
      ],
      "text/plain": [
       "<IPython.core.display.HTML object>"
      ]
     },
     "metadata": {},
     "output_type": "display_data"
    },
    {
     "data": {
      "text/html": [
       "Syncing run <strong><a href=\"https://wandb.ai/maiquanh/quanh/runs/sowypfgn\" target=\"_blank\">rose-sweep-38</a></strong> to <a href=\"https://wandb.ai/maiquanh/quanh\" target=\"_blank\">Weights & Biases</a> (<a href=\"https://wandb.me/run\" target=\"_blank\">docs</a>)<br/>Sweep page:  <a href=\"https://wandb.ai/maiquanh/quanh/sweeps/8p4zr03y\" target=\"_blank\">https://wandb.ai/maiquanh/quanh/sweeps/8p4zr03y</a>"
      ],
      "text/plain": [
       "<IPython.core.display.HTML object>"
      ]
     },
     "metadata": {},
     "output_type": "display_data"
    },
    {
     "name": "stdout",
     "output_type": "stream",
     "text": [
      "-----START TRAINING CLASSIFICATION-----\n",
      "Epoch: 96\t| Train_loss: 0.005873\t|Train accuracy: 99.195463\t| Test_loss: 0.003270\t|Test accuracy: 96.226415\t|Val accuracy: 88.500000 \n",
      "\n",
      "----COMPLETED TRAINING CLASSIFICATION-----\n",
      "val_acc 88.5\n",
      "ok\n"
     ]
    },
    {
     "data": {
      "text/html": [
       "Waiting for W&B process to finish... <strong style=\"color:green\">(success).</strong>"
      ],
      "text/plain": [
       "<IPython.core.display.HTML object>"
      ]
     },
     "metadata": {},
     "output_type": "display_data"
    },
    {
     "data": {
      "text/html": [
       "<style>\n",
       "    table.wandb td:nth-child(1) { padding: 0 10px; text-align: left ; width: auto;} td:nth-child(2) {text-align: left ; width: 100%}\n",
       "    .wandb-row { display: flex; flex-direction: row; flex-wrap: wrap; justify-content: flex-start; width: 100% }\n",
       "    .wandb-col { display: flex; flex-direction: column; flex-basis: 100%; flex: 1; padding: 10px; }\n",
       "    </style>\n",
       "<div class=\"wandb-row\"><div class=\"wandb-col\"><h3>Run history:</h3><br/><table class=\"wandb\"><tr><td>test_loss</td><td>█▇▆▅▄▄▃▄▃▂▁▂▂▃▃▄▂▃▂▂▂▂▁▁▂▃▂▃▁▂▂▂▂▁▂▂▂▁▂▁</td></tr><tr><td>train_loss</td><td>█▇▅▄▃▂▂▁▁▁▁▁▁▁▁▁▁▁▁▁▁▁▁▁▁▁▁▁▁▁▁▁▁▁▁▁▁▁▁▁</td></tr><tr><td>val_acc</td><td>▁</td></tr></table><br/></div><div class=\"wandb-col\"><h3>Run summary:</h3><br/><table class=\"wandb\"><tr><td>test_loss</td><td>0.00327</td></tr><tr><td>train_loss</td><td>0.00587</td></tr><tr><td>val_acc</td><td>90.33334</td></tr></table><br/></div></div>"
      ],
      "text/plain": [
       "<IPython.core.display.HTML object>"
      ]
     },
     "metadata": {},
     "output_type": "display_data"
    },
    {
     "data": {
      "text/html": [
       "Synced <strong style=\"color:#cdcd00\">rose-sweep-38</strong>: <a href=\"https://wandb.ai/maiquanh/quanh/runs/sowypfgn\" target=\"_blank\">https://wandb.ai/maiquanh/quanh/runs/sowypfgn</a><br/>Synced 6 W&B file(s), 0 media file(s), 0 artifact file(s) and 0 other file(s)"
      ],
      "text/plain": [
       "<IPython.core.display.HTML object>"
      ]
     },
     "metadata": {},
     "output_type": "display_data"
    },
    {
     "data": {
      "text/html": [
       "Find logs at: <code>./wandb/run-20221019_105327-sowypfgn/logs</code>"
      ],
      "text/plain": [
       "<IPython.core.display.HTML object>"
      ]
     },
     "metadata": {},
     "output_type": "display_data"
    },
    {
     "name": "stderr",
     "output_type": "stream",
     "text": [
      "\u001b[34m\u001b[1mwandb\u001b[0m: Sweep Agent: Waiting for job.\n",
      "\u001b[34m\u001b[1mwandb\u001b[0m: Job received.\n",
      "\u001b[34m\u001b[1mwandb\u001b[0m: Agent Starting Run: 16cph55i with config:\n",
      "\u001b[34m\u001b[1mwandb\u001b[0m: \tbatch_size: 128\n",
      "\u001b[34m\u001b[1mwandb\u001b[0m: \td_hidden: 3\n",
      "\u001b[34m\u001b[1mwandb\u001b[0m: \tdata_dir: /home/quanhhh/Documents/model/pickle/\n",
      "\u001b[34m\u001b[1mwandb\u001b[0m: \tdropout: 0.16864389738422458\n",
      "\u001b[34m\u001b[1mwandb\u001b[0m: \tkernel_size_1: 97\n",
      "\u001b[34m\u001b[1mwandb\u001b[0m: \tkernel_size_2: 7\n",
      "\u001b[34m\u001b[1mwandb\u001b[0m: \tlr: 0.0007115941391024022\n",
      "\u001b[34m\u001b[1mwandb\u001b[0m: \tmaxpool_1: 4\n",
      "\u001b[34m\u001b[1mwandb\u001b[0m: \tmaxpool_2: 5\n",
      "\u001b[34m\u001b[1mwandb\u001b[0m: \tnum_epoch: 87\n",
      "\u001b[34m\u001b[1mwandb\u001b[0m: \tnum_filters: 50\n",
      "\u001b[34m\u001b[1mwandb\u001b[0m: \tnum_layers: 2\n",
      "\u001b[34m\u001b[1mwandb\u001b[0m: \tresult_dir: /home/quanhhh/Documents/model/result_wandb/\n",
      "\u001b[34m\u001b[1mwandb\u001b[0m: \tstride_1: 9\n",
      "\u001b[34m\u001b[1mwandb\u001b[0m: \tstride_2: 3\n",
      "\u001b[34m\u001b[1mwandb\u001b[0m: \tweight_decay: 0.00015252037827832748\n"
     ]
    },
    {
     "data": {
      "text/html": [
       "Tracking run with wandb version 0.13.4"
      ],
      "text/plain": [
       "<IPython.core.display.HTML object>"
      ]
     },
     "metadata": {},
     "output_type": "display_data"
    },
    {
     "data": {
      "text/html": [
       "Run data is saved locally in <code>/home/quanhhh/Documents/model/wandb/run-20221019_105956-16cph55i</code>"
      ],
      "text/plain": [
       "<IPython.core.display.HTML object>"
      ]
     },
     "metadata": {},
     "output_type": "display_data"
    },
    {
     "data": {
      "text/html": [
       "Syncing run <strong><a href=\"https://wandb.ai/maiquanh/quanh/runs/16cph55i\" target=\"_blank\">easy-sweep-39</a></strong> to <a href=\"https://wandb.ai/maiquanh/quanh\" target=\"_blank\">Weights & Biases</a> (<a href=\"https://wandb.me/run\" target=\"_blank\">docs</a>)<br/>Sweep page:  <a href=\"https://wandb.ai/maiquanh/quanh/sweeps/8p4zr03y\" target=\"_blank\">https://wandb.ai/maiquanh/quanh/sweeps/8p4zr03y</a>"
      ],
      "text/plain": [
       "<IPython.core.display.HTML object>"
      ]
     },
     "metadata": {},
     "output_type": "display_data"
    },
    {
     "name": "stdout",
     "output_type": "stream",
     "text": [
      "-----START TRAINING CLASSIFICATION-----\n",
      "Epoch: 87\t| Train_loss: 0.006039\t|Train accuracy: 98.061198\t| Test_loss: 0.003257\t|Test accuracy: 94.596913\t|Val accuracy: 76.933334 \n",
      "\n",
      "----COMPLETED TRAINING CLASSIFICATION-----\n",
      "val_acc 76.93333435058594\n",
      "ok\n"
     ]
    },
    {
     "data": {
      "text/html": [
       "Waiting for W&B process to finish... <strong style=\"color:green\">(success).</strong>"
      ],
      "text/plain": [
       "<IPython.core.display.HTML object>"
      ]
     },
     "metadata": {},
     "output_type": "display_data"
    },
    {
     "data": {
      "text/html": [
       "<style>\n",
       "    table.wandb td:nth-child(1) { padding: 0 10px; text-align: left ; width: auto;} td:nth-child(2) {text-align: left ; width: 100%}\n",
       "    .wandb-row { display: flex; flex-direction: row; flex-wrap: wrap; justify-content: flex-start; width: 100% }\n",
       "    .wandb-col { display: flex; flex-direction: column; flex-basis: 100%; flex: 1; padding: 10px; }\n",
       "    </style>\n",
       "<div class=\"wandb-row\"><div class=\"wandb-col\"><h3>Run history:</h3><br/><table class=\"wandb\"><tr><td>test_loss</td><td>█▇▅▅▄▆▄▃▃▃▃▃▃▃▅▅▃▃▄▆▄▃▃▃▃▃▂▄▃▃▄▃▁▂▁▃▁▃▂▁</td></tr><tr><td>train_loss</td><td>█▇▅▄▃▂▂▂▂▂▂▁▁▁▂▂▂▂▂▅▃▁▁▁▁▁▁▂▁▁▂▁▁▁▁▁▁▁▁▁</td></tr><tr><td>val_acc</td><td>▁</td></tr></table><br/></div><div class=\"wandb-col\"><h3>Run summary:</h3><br/><table class=\"wandb\"><tr><td>test_loss</td><td>0.00326</td></tr><tr><td>train_loss</td><td>0.00604</td></tr><tr><td>val_acc</td><td>85.4</td></tr></table><br/></div></div>"
      ],
      "text/plain": [
       "<IPython.core.display.HTML object>"
      ]
     },
     "metadata": {},
     "output_type": "display_data"
    },
    {
     "data": {
      "text/html": [
       "Synced <strong style=\"color:#cdcd00\">easy-sweep-39</strong>: <a href=\"https://wandb.ai/maiquanh/quanh/runs/16cph55i\" target=\"_blank\">https://wandb.ai/maiquanh/quanh/runs/16cph55i</a><br/>Synced 6 W&B file(s), 0 media file(s), 0 artifact file(s) and 0 other file(s)"
      ],
      "text/plain": [
       "<IPython.core.display.HTML object>"
      ]
     },
     "metadata": {},
     "output_type": "display_data"
    },
    {
     "data": {
      "text/html": [
       "Find logs at: <code>./wandb/run-20221019_105956-16cph55i/logs</code>"
      ],
      "text/plain": [
       "<IPython.core.display.HTML object>"
      ]
     },
     "metadata": {},
     "output_type": "display_data"
    },
    {
     "name": "stderr",
     "output_type": "stream",
     "text": [
      "\u001b[34m\u001b[1mwandb\u001b[0m: Agent Starting Run: qpgecehs with config:\n",
      "\u001b[34m\u001b[1mwandb\u001b[0m: \tbatch_size: 128\n",
      "\u001b[34m\u001b[1mwandb\u001b[0m: \td_hidden: 3\n",
      "\u001b[34m\u001b[1mwandb\u001b[0m: \tdata_dir: /home/quanhhh/Documents/model/pickle/\n",
      "\u001b[34m\u001b[1mwandb\u001b[0m: \tdropout: 0.14241054568199457\n",
      "\u001b[34m\u001b[1mwandb\u001b[0m: \tkernel_size_1: 75\n",
      "\u001b[34m\u001b[1mwandb\u001b[0m: \tkernel_size_2: 6\n",
      "\u001b[34m\u001b[1mwandb\u001b[0m: \tlr: 0.0028287509458270067\n",
      "\u001b[34m\u001b[1mwandb\u001b[0m: \tmaxpool_1: 4\n",
      "\u001b[34m\u001b[1mwandb\u001b[0m: \tmaxpool_2: 6\n",
      "\u001b[34m\u001b[1mwandb\u001b[0m: \tnum_epoch: 89\n",
      "\u001b[34m\u001b[1mwandb\u001b[0m: \tnum_filters: 50\n",
      "\u001b[34m\u001b[1mwandb\u001b[0m: \tnum_layers: 3\n",
      "\u001b[34m\u001b[1mwandb\u001b[0m: \tresult_dir: /home/quanhhh/Documents/model/result_wandb/\n",
      "\u001b[34m\u001b[1mwandb\u001b[0m: \tstride_1: 3\n",
      "\u001b[34m\u001b[1mwandb\u001b[0m: \tstride_2: 7\n",
      "\u001b[34m\u001b[1mwandb\u001b[0m: \tweight_decay: 0.00017493341753305468\n"
     ]
    },
    {
     "data": {
      "text/html": [
       "Tracking run with wandb version 0.13.4"
      ],
      "text/plain": [
       "<IPython.core.display.HTML object>"
      ]
     },
     "metadata": {},
     "output_type": "display_data"
    },
    {
     "data": {
      "text/html": [
       "Run data is saved locally in <code>/home/quanhhh/Documents/model/wandb/run-20221019_110301-qpgecehs</code>"
      ],
      "text/plain": [
       "<IPython.core.display.HTML object>"
      ]
     },
     "metadata": {},
     "output_type": "display_data"
    },
    {
     "data": {
      "text/html": [
       "Syncing run <strong><a href=\"https://wandb.ai/maiquanh/quanh/runs/qpgecehs\" target=\"_blank\">likely-sweep-40</a></strong> to <a href=\"https://wandb.ai/maiquanh/quanh\" target=\"_blank\">Weights & Biases</a> (<a href=\"https://wandb.me/run\" target=\"_blank\">docs</a>)<br/>Sweep page:  <a href=\"https://wandb.ai/maiquanh/quanh/sweeps/8p4zr03y\" target=\"_blank\">https://wandb.ai/maiquanh/quanh/sweeps/8p4zr03y</a>"
      ],
      "text/plain": [
       "<IPython.core.display.HTML object>"
      ]
     },
     "metadata": {},
     "output_type": "display_data"
    },
    {
     "name": "stdout",
     "output_type": "stream",
     "text": [
      "-----START TRAINING CLASSIFICATION-----\n",
      "Epoch: 89\t| Train_loss: 0.005811\t|Train accuracy: 94.777104\t| Test_loss: 0.003622\t|Test accuracy: 78.430532\t|Val accuracy: 80.699997 \n",
      "\n",
      "----COMPLETED TRAINING CLASSIFICATION-----\n",
      "val_acc 80.69999694824219\n",
      "ok\n"
     ]
    },
    {
     "data": {
      "text/html": [
       "Waiting for W&B process to finish... <strong style=\"color:green\">(success).</strong>"
      ],
      "text/plain": [
       "<IPython.core.display.HTML object>"
      ]
     },
     "metadata": {},
     "output_type": "display_data"
    },
    {
     "data": {
      "text/html": [
       "<style>\n",
       "    table.wandb td:nth-child(1) { padding: 0 10px; text-align: left ; width: auto;} td:nth-child(2) {text-align: left ; width: 100%}\n",
       "    .wandb-row { display: flex; flex-direction: row; flex-wrap: wrap; justify-content: flex-start; width: 100% }\n",
       "    .wandb-col { display: flex; flex-direction: column; flex-basis: 100%; flex: 1; padding: 10px; }\n",
       "    </style>\n",
       "<div class=\"wandb-row\"><div class=\"wandb-col\"><h3>Run history:</h3><br/><table class=\"wandb\"><tr><td>test_loss</td><td>█▅▄▄▄▂▃▄▃▃▂▃▂▄▄▃▂▃▃▃▂▃▃▂▃▁▃▂▂▂▃▁▂▃▂▃▂▃▃▃</td></tr><tr><td>train_loss</td><td>█▄▃▂▂▂▂▂▂▂▂▂▁▂▂▂▁▁▁▁▁▁▁▁▁▁▁▁▁▁▁▁▁▁▂▂▁▂▁▁</td></tr><tr><td>val_acc</td><td>▁</td></tr></table><br/></div><div class=\"wandb-col\"><h3>Run summary:</h3><br/><table class=\"wandb\"><tr><td>test_loss</td><td>0.00362</td></tr><tr><td>train_loss</td><td>0.00581</td></tr><tr><td>val_acc</td><td>92.23333</td></tr></table><br/></div></div>"
      ],
      "text/plain": [
       "<IPython.core.display.HTML object>"
      ]
     },
     "metadata": {},
     "output_type": "display_data"
    },
    {
     "data": {
      "text/html": [
       "Synced <strong style=\"color:#cdcd00\">likely-sweep-40</strong>: <a href=\"https://wandb.ai/maiquanh/quanh/runs/qpgecehs\" target=\"_blank\">https://wandb.ai/maiquanh/quanh/runs/qpgecehs</a><br/>Synced 6 W&B file(s), 0 media file(s), 0 artifact file(s) and 0 other file(s)"
      ],
      "text/plain": [
       "<IPython.core.display.HTML object>"
      ]
     },
     "metadata": {},
     "output_type": "display_data"
    },
    {
     "data": {
      "text/html": [
       "Find logs at: <code>./wandb/run-20221019_110301-qpgecehs/logs</code>"
      ],
      "text/plain": [
       "<IPython.core.display.HTML object>"
      ]
     },
     "metadata": {},
     "output_type": "display_data"
    },
    {
     "name": "stderr",
     "output_type": "stream",
     "text": [
      "\u001b[34m\u001b[1mwandb\u001b[0m: Agent Starting Run: wozq1wu2 with config:\n",
      "\u001b[34m\u001b[1mwandb\u001b[0m: \tbatch_size: 128\n",
      "\u001b[34m\u001b[1mwandb\u001b[0m: \td_hidden: 3\n",
      "\u001b[34m\u001b[1mwandb\u001b[0m: \tdata_dir: /home/quanhhh/Documents/model/pickle/\n",
      "\u001b[34m\u001b[1mwandb\u001b[0m: \tdropout: 0.11305427007460717\n",
      "\u001b[34m\u001b[1mwandb\u001b[0m: \tkernel_size_1: 61\n",
      "\u001b[34m\u001b[1mwandb\u001b[0m: \tkernel_size_2: 6\n",
      "\u001b[34m\u001b[1mwandb\u001b[0m: \tlr: 0.0023879793643552583\n",
      "\u001b[34m\u001b[1mwandb\u001b[0m: \tmaxpool_1: 4\n",
      "\u001b[34m\u001b[1mwandb\u001b[0m: \tmaxpool_2: 5\n",
      "\u001b[34m\u001b[1mwandb\u001b[0m: \tnum_epoch: 93\n",
      "\u001b[34m\u001b[1mwandb\u001b[0m: \tnum_filters: 19\n",
      "\u001b[34m\u001b[1mwandb\u001b[0m: \tnum_layers: 3\n",
      "\u001b[34m\u001b[1mwandb\u001b[0m: \tresult_dir: /home/quanhhh/Documents/model/result_wandb/\n",
      "\u001b[34m\u001b[1mwandb\u001b[0m: \tstride_1: 4\n",
      "\u001b[34m\u001b[1mwandb\u001b[0m: \tstride_2: 7\n",
      "\u001b[34m\u001b[1mwandb\u001b[0m: \tweight_decay: 0.00020338253802143488\n"
     ]
    },
    {
     "data": {
      "text/html": [
       "Tracking run with wandb version 0.13.4"
      ],
      "text/plain": [
       "<IPython.core.display.HTML object>"
      ]
     },
     "metadata": {},
     "output_type": "display_data"
    },
    {
     "data": {
      "text/html": [
       "Run data is saved locally in <code>/home/quanhhh/Documents/model/wandb/run-20221019_110852-wozq1wu2</code>"
      ],
      "text/plain": [
       "<IPython.core.display.HTML object>"
      ]
     },
     "metadata": {},
     "output_type": "display_data"
    },
    {
     "data": {
      "text/html": [
       "Syncing run <strong><a href=\"https://wandb.ai/maiquanh/quanh/runs/wozq1wu2\" target=\"_blank\">radiant-sweep-41</a></strong> to <a href=\"https://wandb.ai/maiquanh/quanh\" target=\"_blank\">Weights & Biases</a> (<a href=\"https://wandb.me/run\" target=\"_blank\">docs</a>)<br/>Sweep page:  <a href=\"https://wandb.ai/maiquanh/quanh/sweeps/8p4zr03y\" target=\"_blank\">https://wandb.ai/maiquanh/quanh/sweeps/8p4zr03y</a>"
      ],
      "text/plain": [
       "<IPython.core.display.HTML object>"
      ]
     },
     "metadata": {},
     "output_type": "display_data"
    },
    {
     "name": "stdout",
     "output_type": "stream",
     "text": [
      "-----START TRAINING CLASSIFICATION-----\n",
      "Epoch: 93\t| Train_loss: 0.005641\t|Train accuracy: 98.786600\t| Test_loss: 0.003101\t|Test accuracy: 96.440823\t|Val accuracy: 90.500000 \n",
      "\n",
      "----COMPLETED TRAINING CLASSIFICATION-----\n",
      "val_acc 90.5\n",
      "ok\n"
     ]
    },
    {
     "data": {
      "text/html": [
       "Waiting for W&B process to finish... <strong style=\"color:green\">(success).</strong>"
      ],
      "text/plain": [
       "<IPython.core.display.HTML object>"
      ]
     },
     "metadata": {},
     "output_type": "display_data"
    },
    {
     "data": {
      "text/html": [
       "<style>\n",
       "    table.wandb td:nth-child(1) { padding: 0 10px; text-align: left ; width: auto;} td:nth-child(2) {text-align: left ; width: 100%}\n",
       "    .wandb-row { display: flex; flex-direction: row; flex-wrap: wrap; justify-content: flex-start; width: 100% }\n",
       "    .wandb-col { display: flex; flex-direction: column; flex-basis: 100%; flex: 1; padding: 10px; }\n",
       "    </style>\n",
       "<div class=\"wandb-row\"><div class=\"wandb-col\"><h3>Run history:</h3><br/><table class=\"wandb\"><tr><td>test_loss</td><td>█▄▅▃▃▃▃▃▁▃▃▃▁▁▃▃▂▂▂▂▂▂▁▁▁▂▁▃▁▁▂▂▂▁▁▁▁▂▁▁</td></tr><tr><td>train_loss</td><td>█▄▃▂▁▁▁▁▁▁▁▁▁▁▁▁▁▁▁▁▁▁▁▁▁▁▁▁▁▁▁▁▁▁▁▁▁▁▁▁</td></tr><tr><td>val_acc</td><td>▁</td></tr></table><br/></div><div class=\"wandb-col\"><h3>Run summary:</h3><br/><table class=\"wandb\"><tr><td>test_loss</td><td>0.0031</td></tr><tr><td>train_loss</td><td>0.00564</td></tr><tr><td>val_acc</td><td>94.86667</td></tr></table><br/></div></div>"
      ],
      "text/plain": [
       "<IPython.core.display.HTML object>"
      ]
     },
     "metadata": {},
     "output_type": "display_data"
    },
    {
     "data": {
      "text/html": [
       "Synced <strong style=\"color:#cdcd00\">radiant-sweep-41</strong>: <a href=\"https://wandb.ai/maiquanh/quanh/runs/wozq1wu2\" target=\"_blank\">https://wandb.ai/maiquanh/quanh/runs/wozq1wu2</a><br/>Synced 6 W&B file(s), 0 media file(s), 0 artifact file(s) and 0 other file(s)"
      ],
      "text/plain": [
       "<IPython.core.display.HTML object>"
      ]
     },
     "metadata": {},
     "output_type": "display_data"
    },
    {
     "data": {
      "text/html": [
       "Find logs at: <code>./wandb/run-20221019_110852-wozq1wu2/logs</code>"
      ],
      "text/plain": [
       "<IPython.core.display.HTML object>"
      ]
     },
     "metadata": {},
     "output_type": "display_data"
    },
    {
     "name": "stderr",
     "output_type": "stream",
     "text": [
      "\u001b[34m\u001b[1mwandb\u001b[0m: Agent Starting Run: 0nb83km9 with config:\n",
      "\u001b[34m\u001b[1mwandb\u001b[0m: \tbatch_size: 128\n",
      "\u001b[34m\u001b[1mwandb\u001b[0m: \td_hidden: 3\n",
      "\u001b[34m\u001b[1mwandb\u001b[0m: \tdata_dir: /home/quanhhh/Documents/model/pickle/\n",
      "\u001b[34m\u001b[1mwandb\u001b[0m: \tdropout: 0.17332210064808523\n",
      "\u001b[34m\u001b[1mwandb\u001b[0m: \tkernel_size_1: 84\n",
      "\u001b[34m\u001b[1mwandb\u001b[0m: \tkernel_size_2: 7\n",
      "\u001b[34m\u001b[1mwandb\u001b[0m: \tlr: 0.0005395633311716176\n",
      "\u001b[34m\u001b[1mwandb\u001b[0m: \tmaxpool_1: 8\n",
      "\u001b[34m\u001b[1mwandb\u001b[0m: \tmaxpool_2: 7\n",
      "\u001b[34m\u001b[1mwandb\u001b[0m: \tnum_epoch: 98\n",
      "\u001b[34m\u001b[1mwandb\u001b[0m: \tnum_filters: 37\n",
      "\u001b[34m\u001b[1mwandb\u001b[0m: \tnum_layers: 2\n",
      "\u001b[34m\u001b[1mwandb\u001b[0m: \tresult_dir: /home/quanhhh/Documents/model/result_wandb/\n",
      "\u001b[34m\u001b[1mwandb\u001b[0m: \tstride_1: 4\n",
      "\u001b[34m\u001b[1mwandb\u001b[0m: \tstride_2: 6\n",
      "\u001b[34m\u001b[1mwandb\u001b[0m: \tweight_decay: 0.00014567133630508813\n"
     ]
    },
    {
     "data": {
      "text/html": [
       "Tracking run with wandb version 0.13.4"
      ],
      "text/plain": [
       "<IPython.core.display.HTML object>"
      ]
     },
     "metadata": {},
     "output_type": "display_data"
    },
    {
     "data": {
      "text/html": [
       "Run data is saved locally in <code>/home/quanhhh/Documents/model/wandb/run-20221019_111128-0nb83km9</code>"
      ],
      "text/plain": [
       "<IPython.core.display.HTML object>"
      ]
     },
     "metadata": {},
     "output_type": "display_data"
    },
    {
     "data": {
      "text/html": [
       "Syncing run <strong><a href=\"https://wandb.ai/maiquanh/quanh/runs/0nb83km9\" target=\"_blank\">confused-sweep-42</a></strong> to <a href=\"https://wandb.ai/maiquanh/quanh\" target=\"_blank\">Weights & Biases</a> (<a href=\"https://wandb.me/run\" target=\"_blank\">docs</a>)<br/>Sweep page:  <a href=\"https://wandb.ai/maiquanh/quanh/sweeps/8p4zr03y\" target=\"_blank\">https://wandb.ai/maiquanh/quanh/sweeps/8p4zr03y</a>"
      ],
      "text/plain": [
       "<IPython.core.display.HTML object>"
      ]
     },
     "metadata": {},
     "output_type": "display_data"
    },
    {
     "name": "stdout",
     "output_type": "stream",
     "text": [
      "-----START TRAINING CLASSIFICATION-----\n",
      "Epoch: 98\t| Train_loss: 0.005890\t|Train accuracy: 99.564759\t| Test_loss: 0.003273\t|Test accuracy: 93.096055\t|Val accuracy: 80.933334 \n",
      "\n",
      "----COMPLETED TRAINING CLASSIFICATION-----\n",
      "val_acc 80.93333435058594\n",
      "ok\n"
     ]
    },
    {
     "data": {
      "text/html": [
       "Waiting for W&B process to finish... <strong style=\"color:green\">(success).</strong>"
      ],
      "text/plain": [
       "<IPython.core.display.HTML object>"
      ]
     },
     "metadata": {},
     "output_type": "display_data"
    },
    {
     "data": {
      "text/html": [
       "<style>\n",
       "    table.wandb td:nth-child(1) { padding: 0 10px; text-align: left ; width: auto;} td:nth-child(2) {text-align: left ; width: 100%}\n",
       "    .wandb-row { display: flex; flex-direction: row; flex-wrap: wrap; justify-content: flex-start; width: 100% }\n",
       "    .wandb-col { display: flex; flex-direction: column; flex-basis: 100%; flex: 1; padding: 10px; }\n",
       "    </style>\n",
       "<div class=\"wandb-row\"><div class=\"wandb-col\"><h3>Run history:</h3><br/><table class=\"wandb\"><tr><td>test_loss</td><td>█▇▆▆▄▃▄▃▃▃▃▃▂▃▂▂▂▂▁▁▁▁▁▁▃▁▂▁▁▂▁▁▁▁▂▃▁▃▁▁</td></tr><tr><td>train_loss</td><td>█▇▆▅▄▂▂▂▂▂▂▂▁▁▁▁▁▁▁▁▁▁▁▁▁▁▁▁▁▁▁▁▁▁▁▁▁▁▁▁</td></tr><tr><td>val_acc</td><td>▁</td></tr></table><br/></div><div class=\"wandb-col\"><h3>Run summary:</h3><br/><table class=\"wandb\"><tr><td>test_loss</td><td>0.00327</td></tr><tr><td>train_loss</td><td>0.00589</td></tr><tr><td>val_acc</td><td>92.23333</td></tr></table><br/></div></div>"
      ],
      "text/plain": [
       "<IPython.core.display.HTML object>"
      ]
     },
     "metadata": {},
     "output_type": "display_data"
    },
    {
     "data": {
      "text/html": [
       "Synced <strong style=\"color:#cdcd00\">confused-sweep-42</strong>: <a href=\"https://wandb.ai/maiquanh/quanh/runs/0nb83km9\" target=\"_blank\">https://wandb.ai/maiquanh/quanh/runs/0nb83km9</a><br/>Synced 6 W&B file(s), 0 media file(s), 0 artifact file(s) and 0 other file(s)"
      ],
      "text/plain": [
       "<IPython.core.display.HTML object>"
      ]
     },
     "metadata": {},
     "output_type": "display_data"
    },
    {
     "data": {
      "text/html": [
       "Find logs at: <code>./wandb/run-20221019_111128-0nb83km9/logs</code>"
      ],
      "text/plain": [
       "<IPython.core.display.HTML object>"
      ]
     },
     "metadata": {},
     "output_type": "display_data"
    },
    {
     "name": "stderr",
     "output_type": "stream",
     "text": [
      "\u001b[34m\u001b[1mwandb\u001b[0m: Agent Starting Run: h3lq6p3b with config:\n",
      "\u001b[34m\u001b[1mwandb\u001b[0m: \tbatch_size: 128\n",
      "\u001b[34m\u001b[1mwandb\u001b[0m: \td_hidden: 3\n",
      "\u001b[34m\u001b[1mwandb\u001b[0m: \tdata_dir: /home/quanhhh/Documents/model/pickle/\n",
      "\u001b[34m\u001b[1mwandb\u001b[0m: \tdropout: 0.16225713429115413\n",
      "\u001b[34m\u001b[1mwandb\u001b[0m: \tkernel_size_1: 82\n",
      "\u001b[34m\u001b[1mwandb\u001b[0m: \tkernel_size_2: 7\n",
      "\u001b[34m\u001b[1mwandb\u001b[0m: \tlr: 0.0003905099711540075\n",
      "\u001b[34m\u001b[1mwandb\u001b[0m: \tmaxpool_1: 4\n",
      "\u001b[34m\u001b[1mwandb\u001b[0m: \tmaxpool_2: 3\n",
      "\u001b[34m\u001b[1mwandb\u001b[0m: \tnum_epoch: 89\n",
      "\u001b[34m\u001b[1mwandb\u001b[0m: \tnum_filters: 51\n",
      "\u001b[34m\u001b[1mwandb\u001b[0m: \tnum_layers: 2\n",
      "\u001b[34m\u001b[1mwandb\u001b[0m: \tresult_dir: /home/quanhhh/Documents/model/result_wandb/\n",
      "\u001b[34m\u001b[1mwandb\u001b[0m: \tstride_1: 5\n",
      "\u001b[34m\u001b[1mwandb\u001b[0m: \tstride_2: 7\n",
      "\u001b[34m\u001b[1mwandb\u001b[0m: \tweight_decay: 0.00012840137794688987\n"
     ]
    },
    {
     "data": {
      "text/html": [
       "Tracking run with wandb version 0.13.4"
      ],
      "text/plain": [
       "<IPython.core.display.HTML object>"
      ]
     },
     "metadata": {},
     "output_type": "display_data"
    },
    {
     "data": {
      "text/html": [
       "Run data is saved locally in <code>/home/quanhhh/Documents/model/wandb/run-20221019_111557-h3lq6p3b</code>"
      ],
      "text/plain": [
       "<IPython.core.display.HTML object>"
      ]
     },
     "metadata": {},
     "output_type": "display_data"
    },
    {
     "data": {
      "text/html": [
       "Syncing run <strong><a href=\"https://wandb.ai/maiquanh/quanh/runs/h3lq6p3b\" target=\"_blank\">rural-sweep-43</a></strong> to <a href=\"https://wandb.ai/maiquanh/quanh\" target=\"_blank\">Weights & Biases</a> (<a href=\"https://wandb.me/run\" target=\"_blank\">docs</a>)<br/>Sweep page:  <a href=\"https://wandb.ai/maiquanh/quanh/sweeps/8p4zr03y\" target=\"_blank\">https://wandb.ai/maiquanh/quanh/sweeps/8p4zr03y</a>"
      ],
      "text/plain": [
       "<IPython.core.display.HTML object>"
      ]
     },
     "metadata": {},
     "output_type": "display_data"
    },
    {
     "name": "stdout",
     "output_type": "stream",
     "text": [
      "-----START TRAINING CLASSIFICATION-----\n",
      "Epoch: 89\t| Train_loss: 0.006075\t|Train accuracy: 99.749406\t| Test_loss: 0.003479\t|Test accuracy: 94.554031\t|Val accuracy: 92.666664 \n",
      "\n",
      "----COMPLETED TRAINING CLASSIFICATION-----\n",
      "val_acc 92.66666412353516\n",
      "ok\n"
     ]
    },
    {
     "data": {
      "text/html": [
       "Waiting for W&B process to finish... <strong style=\"color:green\">(success).</strong>"
      ],
      "text/plain": [
       "<IPython.core.display.HTML object>"
      ]
     },
     "metadata": {},
     "output_type": "display_data"
    },
    {
     "data": {
      "text/html": [
       "<style>\n",
       "    table.wandb td:nth-child(1) { padding: 0 10px; text-align: left ; width: auto;} td:nth-child(2) {text-align: left ; width: 100%}\n",
       "    .wandb-row { display: flex; flex-direction: row; flex-wrap: wrap; justify-content: flex-start; width: 100% }\n",
       "    .wandb-col { display: flex; flex-direction: column; flex-basis: 100%; flex: 1; padding: 10px; }\n",
       "    </style>\n",
       "<div class=\"wandb-row\"><div class=\"wandb-col\"><h3>Run history:</h3><br/><table class=\"wandb\"><tr><td>test_loss</td><td>██▆▆▅▅▅▄▄▄▃▃▃▃▃▃▃▂▂▂▂▂▂▂▂▂▂▂▂▁▂▂▁▁▁▁▁▁▁▁</td></tr><tr><td>train_loss</td><td>█▇▆▅▄▄▄▃▃▃▃▂▂▂▂▂▂▂▂▂▂▂▂▂▂▁▁▁▁▁▁▁▁▁▁▁▁▁▁▁</td></tr><tr><td>val_acc</td><td>▁</td></tr></table><br/></div><div class=\"wandb-col\"><h3>Run summary:</h3><br/><table class=\"wandb\"><tr><td>test_loss</td><td>0.00348</td></tr><tr><td>train_loss</td><td>0.00608</td></tr><tr><td>val_acc</td><td>94.43333</td></tr></table><br/></div></div>"
      ],
      "text/plain": [
       "<IPython.core.display.HTML object>"
      ]
     },
     "metadata": {},
     "output_type": "display_data"
    },
    {
     "data": {
      "text/html": [
       "Synced <strong style=\"color:#cdcd00\">rural-sweep-43</strong>: <a href=\"https://wandb.ai/maiquanh/quanh/runs/h3lq6p3b\" target=\"_blank\">https://wandb.ai/maiquanh/quanh/runs/h3lq6p3b</a><br/>Synced 6 W&B file(s), 0 media file(s), 0 artifact file(s) and 0 other file(s)"
      ],
      "text/plain": [
       "<IPython.core.display.HTML object>"
      ]
     },
     "metadata": {},
     "output_type": "display_data"
    },
    {
     "data": {
      "text/html": [
       "Find logs at: <code>./wandb/run-20221019_111557-h3lq6p3b/logs</code>"
      ],
      "text/plain": [
       "<IPython.core.display.HTML object>"
      ]
     },
     "metadata": {},
     "output_type": "display_data"
    },
    {
     "name": "stderr",
     "output_type": "stream",
     "text": [
      "\u001b[34m\u001b[1mwandb\u001b[0m: Agent Starting Run: dvyv44h0 with config:\n",
      "\u001b[34m\u001b[1mwandb\u001b[0m: \tbatch_size: 128\n",
      "\u001b[34m\u001b[1mwandb\u001b[0m: \td_hidden: 3\n",
      "\u001b[34m\u001b[1mwandb\u001b[0m: \tdata_dir: /home/quanhhh/Documents/model/pickle/\n",
      "\u001b[34m\u001b[1mwandb\u001b[0m: \tdropout: 0.19128232052965857\n",
      "\u001b[34m\u001b[1mwandb\u001b[0m: \tkernel_size_1: 56\n",
      "\u001b[34m\u001b[1mwandb\u001b[0m: \tkernel_size_2: 9\n",
      "\u001b[34m\u001b[1mwandb\u001b[0m: \tlr: 0.003356447648657138\n",
      "\u001b[34m\u001b[1mwandb\u001b[0m: \tmaxpool_1: 7\n",
      "\u001b[34m\u001b[1mwandb\u001b[0m: \tmaxpool_2: 7\n",
      "\u001b[34m\u001b[1mwandb\u001b[0m: \tnum_epoch: 96\n",
      "\u001b[34m\u001b[1mwandb\u001b[0m: \tnum_filters: 16\n",
      "\u001b[34m\u001b[1mwandb\u001b[0m: \tnum_layers: 3\n",
      "\u001b[34m\u001b[1mwandb\u001b[0m: \tresult_dir: /home/quanhhh/Documents/model/result_wandb/\n",
      "\u001b[34m\u001b[1mwandb\u001b[0m: \tstride_1: 5\n",
      "\u001b[34m\u001b[1mwandb\u001b[0m: \tstride_2: 8\n",
      "\u001b[34m\u001b[1mwandb\u001b[0m: \tweight_decay: 0.00020497489584366265\n"
     ]
    },
    {
     "data": {
      "text/html": [
       "Tracking run with wandb version 0.13.4"
      ],
      "text/plain": [
       "<IPython.core.display.HTML object>"
      ]
     },
     "metadata": {},
     "output_type": "display_data"
    },
    {
     "data": {
      "text/html": [
       "Run data is saved locally in <code>/home/quanhhh/Documents/model/wandb/run-20221019_112005-dvyv44h0</code>"
      ],
      "text/plain": [
       "<IPython.core.display.HTML object>"
      ]
     },
     "metadata": {},
     "output_type": "display_data"
    },
    {
     "data": {
      "text/html": [
       "Syncing run <strong><a href=\"https://wandb.ai/maiquanh/quanh/runs/dvyv44h0\" target=\"_blank\">deep-sweep-44</a></strong> to <a href=\"https://wandb.ai/maiquanh/quanh\" target=\"_blank\">Weights & Biases</a> (<a href=\"https://wandb.me/run\" target=\"_blank\">docs</a>)<br/>Sweep page:  <a href=\"https://wandb.ai/maiquanh/quanh/sweeps/8p4zr03y\" target=\"_blank\">https://wandb.ai/maiquanh/quanh/sweeps/8p4zr03y</a>"
      ],
      "text/plain": [
       "<IPython.core.display.HTML object>"
      ]
     },
     "metadata": {},
     "output_type": "display_data"
    },
    {
     "name": "stdout",
     "output_type": "stream",
     "text": [
      "-----START TRAINING CLASSIFICATION-----\n",
      "Epoch: 96\t| Train_loss: 0.005953\t|Train accuracy: 98.839356\t| Test_loss: 0.003238\t|Test accuracy: 95.626072\t|Val accuracy: 91.333336 \n",
      "\n",
      "----COMPLETED TRAINING CLASSIFICATION-----\n",
      "val_acc 91.33333587646484\n",
      "ok\n"
     ]
    },
    {
     "data": {
      "text/html": [
       "Waiting for W&B process to finish... <strong style=\"color:green\">(success).</strong>"
      ],
      "text/plain": [
       "<IPython.core.display.HTML object>"
      ]
     },
     "metadata": {},
     "output_type": "display_data"
    },
    {
     "data": {
      "text/html": [
       "<style>\n",
       "    table.wandb td:nth-child(1) { padding: 0 10px; text-align: left ; width: auto;} td:nth-child(2) {text-align: left ; width: 100%}\n",
       "    .wandb-row { display: flex; flex-direction: row; flex-wrap: wrap; justify-content: flex-start; width: 100% }\n",
       "    .wandb-col { display: flex; flex-direction: column; flex-basis: 100%; flex: 1; padding: 10px; }\n",
       "    </style>\n",
       "<div class=\"wandb-row\"><div class=\"wandb-col\"><h3>Run history:</h3><br/><table class=\"wandb\"><tr><td>test_loss</td><td>██▅▆▄▄▃▃▂▃▄▄▃▄▃▁▂▃▁▁▄▃▃▁▃▃▁▁▂▄▁▁▁▃▃▁▁▁▁▂</td></tr><tr><td>train_loss</td><td>█▅▃▂▁▁▁▁▂▁▁▁▁▁▁▁▁▁▁▁▁▁▁▁▁▁▁▁▁▁▁▁▁▁▁▁▁▁▁▁</td></tr><tr><td>val_acc</td><td>▁</td></tr></table><br/></div><div class=\"wandb-col\"><h3>Run summary:</h3><br/><table class=\"wandb\"><tr><td>test_loss</td><td>0.00324</td></tr><tr><td>train_loss</td><td>0.00595</td></tr><tr><td>val_acc</td><td>94.0</td></tr></table><br/></div></div>"
      ],
      "text/plain": [
       "<IPython.core.display.HTML object>"
      ]
     },
     "metadata": {},
     "output_type": "display_data"
    },
    {
     "data": {
      "text/html": [
       "Synced <strong style=\"color:#cdcd00\">deep-sweep-44</strong>: <a href=\"https://wandb.ai/maiquanh/quanh/runs/dvyv44h0\" target=\"_blank\">https://wandb.ai/maiquanh/quanh/runs/dvyv44h0</a><br/>Synced 6 W&B file(s), 0 media file(s), 0 artifact file(s) and 0 other file(s)"
      ],
      "text/plain": [
       "<IPython.core.display.HTML object>"
      ]
     },
     "metadata": {},
     "output_type": "display_data"
    },
    {
     "data": {
      "text/html": [
       "Find logs at: <code>./wandb/run-20221019_112005-dvyv44h0/logs</code>"
      ],
      "text/plain": [
       "<IPython.core.display.HTML object>"
      ]
     },
     "metadata": {},
     "output_type": "display_data"
    },
    {
     "name": "stderr",
     "output_type": "stream",
     "text": [
      "\u001b[34m\u001b[1mwandb\u001b[0m: Agent Starting Run: 8oiqzypo with config:\n",
      "\u001b[34m\u001b[1mwandb\u001b[0m: \tbatch_size: 128\n",
      "\u001b[34m\u001b[1mwandb\u001b[0m: \td_hidden: 3\n",
      "\u001b[34m\u001b[1mwandb\u001b[0m: \tdata_dir: /home/quanhhh/Documents/model/pickle/\n",
      "\u001b[34m\u001b[1mwandb\u001b[0m: \tdropout: 0.18805741426840977\n",
      "\u001b[34m\u001b[1mwandb\u001b[0m: \tkernel_size_1: 99\n",
      "\u001b[34m\u001b[1mwandb\u001b[0m: \tkernel_size_2: 5\n",
      "\u001b[34m\u001b[1mwandb\u001b[0m: \tlr: 0.0017064061185820374\n",
      "\u001b[34m\u001b[1mwandb\u001b[0m: \tmaxpool_1: 8\n",
      "\u001b[34m\u001b[1mwandb\u001b[0m: \tmaxpool_2: 4\n",
      "\u001b[34m\u001b[1mwandb\u001b[0m: \tnum_epoch: 99\n",
      "\u001b[34m\u001b[1mwandb\u001b[0m: \tnum_filters: 21\n",
      "\u001b[34m\u001b[1mwandb\u001b[0m: \tnum_layers: 2\n",
      "\u001b[34m\u001b[1mwandb\u001b[0m: \tresult_dir: /home/quanhhh/Documents/model/result_wandb/\n",
      "\u001b[34m\u001b[1mwandb\u001b[0m: \tstride_1: 9\n",
      "\u001b[34m\u001b[1mwandb\u001b[0m: \tstride_2: 4\n",
      "\u001b[34m\u001b[1mwandb\u001b[0m: \tweight_decay: 0.00011923072869341684\n"
     ]
    },
    {
     "data": {
      "text/html": [
       "Tracking run with wandb version 0.13.4"
      ],
      "text/plain": [
       "<IPython.core.display.HTML object>"
      ]
     },
     "metadata": {},
     "output_type": "display_data"
    },
    {
     "data": {
      "text/html": [
       "Run data is saved locally in <code>/home/quanhhh/Documents/model/wandb/run-20221019_112226-8oiqzypo</code>"
      ],
      "text/plain": [
       "<IPython.core.display.HTML object>"
      ]
     },
     "metadata": {},
     "output_type": "display_data"
    },
    {
     "data": {
      "text/html": [
       "Syncing run <strong><a href=\"https://wandb.ai/maiquanh/quanh/runs/8oiqzypo\" target=\"_blank\">dry-sweep-45</a></strong> to <a href=\"https://wandb.ai/maiquanh/quanh\" target=\"_blank\">Weights & Biases</a> (<a href=\"https://wandb.me/run\" target=\"_blank\">docs</a>)<br/>Sweep page:  <a href=\"https://wandb.ai/maiquanh/quanh/sweeps/8p4zr03y\" target=\"_blank\">https://wandb.ai/maiquanh/quanh/sweeps/8p4zr03y</a>"
      ],
      "text/plain": [
       "<IPython.core.display.HTML object>"
      ]
     },
     "metadata": {},
     "output_type": "display_data"
    },
    {
     "name": "stdout",
     "output_type": "stream",
     "text": [
      "-----START TRAINING CLASSIFICATION-----\n",
      "Epoch: 99\t| Train_loss: 0.005638\t|Train accuracy: 97.784226\t| Test_loss: 0.003522\t|Test accuracy: 81.260720\t|Val accuracy: 79.033333 \n",
      "\n",
      "----COMPLETED TRAINING CLASSIFICATION-----\n",
      "val_acc 79.03333282470703\n",
      "ok\n"
     ]
    },
    {
     "data": {
      "text/html": [
       "Waiting for W&B process to finish... <strong style=\"color:green\">(success).</strong>"
      ],
      "text/plain": [
       "<IPython.core.display.HTML object>"
      ]
     },
     "metadata": {},
     "output_type": "display_data"
    },
    {
     "data": {
      "text/html": [
       "<style>\n",
       "    table.wandb td:nth-child(1) { padding: 0 10px; text-align: left ; width: auto;} td:nth-child(2) {text-align: left ; width: 100%}\n",
       "    .wandb-row { display: flex; flex-direction: row; flex-wrap: wrap; justify-content: flex-start; width: 100% }\n",
       "    .wandb-col { display: flex; flex-direction: column; flex-basis: 100%; flex: 1; padding: 10px; }\n",
       "    </style>\n",
       "<div class=\"wandb-row\"><div class=\"wandb-col\"><h3>Run history:</h3><br/><table class=\"wandb\"><tr><td>test_loss</td><td>█▅▃▄▃▃▃▃▂▃▁▁▃▃▁▁▁▂▂▃▃▁▃▂▂▂▁▁▃▁▂▃▁▁▂▂▂▁▂▃</td></tr><tr><td>train_loss</td><td>█▅▂▂▂▁▁▁▁▁▁▁▁▁▁▁▁▁▁▁▁▁▁▁▁▁▁▁▁▁▁▁▁▁▁▁▁▁▁▁</td></tr><tr><td>val_acc</td><td>▁</td></tr></table><br/></div><div class=\"wandb-col\"><h3>Run summary:</h3><br/><table class=\"wandb\"><tr><td>test_loss</td><td>0.00352</td></tr><tr><td>train_loss</td><td>0.00564</td></tr><tr><td>val_acc</td><td>90.66666</td></tr></table><br/></div></div>"
      ],
      "text/plain": [
       "<IPython.core.display.HTML object>"
      ]
     },
     "metadata": {},
     "output_type": "display_data"
    },
    {
     "data": {
      "text/html": [
       "Synced <strong style=\"color:#cdcd00\">dry-sweep-45</strong>: <a href=\"https://wandb.ai/maiquanh/quanh/runs/8oiqzypo\" target=\"_blank\">https://wandb.ai/maiquanh/quanh/runs/8oiqzypo</a><br/>Synced 6 W&B file(s), 0 media file(s), 0 artifact file(s) and 0 other file(s)"
      ],
      "text/plain": [
       "<IPython.core.display.HTML object>"
      ]
     },
     "metadata": {},
     "output_type": "display_data"
    },
    {
     "data": {
      "text/html": [
       "Find logs at: <code>./wandb/run-20221019_112226-8oiqzypo/logs</code>"
      ],
      "text/plain": [
       "<IPython.core.display.HTML object>"
      ]
     },
     "metadata": {},
     "output_type": "display_data"
    },
    {
     "name": "stderr",
     "output_type": "stream",
     "text": [
      "\u001b[34m\u001b[1mwandb\u001b[0m: Sweep Agent: Waiting for job.\n",
      "\u001b[34m\u001b[1mwandb\u001b[0m: Job received.\n",
      "\u001b[34m\u001b[1mwandb\u001b[0m: Agent Starting Run: r2x67jio with config:\n",
      "\u001b[34m\u001b[1mwandb\u001b[0m: \tbatch_size: 128\n",
      "\u001b[34m\u001b[1mwandb\u001b[0m: \td_hidden: 3\n",
      "\u001b[34m\u001b[1mwandb\u001b[0m: \tdata_dir: /home/quanhhh/Documents/model/pickle/\n",
      "\u001b[34m\u001b[1mwandb\u001b[0m: \tdropout: 0.13064466778541006\n",
      "\u001b[34m\u001b[1mwandb\u001b[0m: \tkernel_size_1: 58\n",
      "\u001b[34m\u001b[1mwandb\u001b[0m: \tkernel_size_2: 10\n",
      "\u001b[34m\u001b[1mwandb\u001b[0m: \tlr: 0.00020973658667310753\n",
      "\u001b[34m\u001b[1mwandb\u001b[0m: \tmaxpool_1: 5\n",
      "\u001b[34m\u001b[1mwandb\u001b[0m: \tmaxpool_2: 6\n",
      "\u001b[34m\u001b[1mwandb\u001b[0m: \tnum_epoch: 89\n",
      "\u001b[34m\u001b[1mwandb\u001b[0m: \tnum_filters: 60\n",
      "\u001b[34m\u001b[1mwandb\u001b[0m: \tnum_layers: 3\n",
      "\u001b[34m\u001b[1mwandb\u001b[0m: \tresult_dir: /home/quanhhh/Documents/model/result_wandb/\n",
      "\u001b[34m\u001b[1mwandb\u001b[0m: \tstride_1: 4\n",
      "\u001b[34m\u001b[1mwandb\u001b[0m: \tstride_2: 5\n",
      "\u001b[34m\u001b[1mwandb\u001b[0m: \tweight_decay: 0.000147190578335706\n"
     ]
    },
    {
     "data": {
      "text/html": [
       "Tracking run with wandb version 0.13.4"
      ],
      "text/plain": [
       "<IPython.core.display.HTML object>"
      ]
     },
     "metadata": {},
     "output_type": "display_data"
    },
    {
     "data": {
      "text/html": [
       "Run data is saved locally in <code>/home/quanhhh/Documents/model/wandb/run-20221019_112450-r2x67jio</code>"
      ],
      "text/plain": [
       "<IPython.core.display.HTML object>"
      ]
     },
     "metadata": {},
     "output_type": "display_data"
    },
    {
     "data": {
      "text/html": [
       "Syncing run <strong><a href=\"https://wandb.ai/maiquanh/quanh/runs/r2x67jio\" target=\"_blank\">colorful-sweep-46</a></strong> to <a href=\"https://wandb.ai/maiquanh/quanh\" target=\"_blank\">Weights & Biases</a> (<a href=\"https://wandb.me/run\" target=\"_blank\">docs</a>)<br/>Sweep page:  <a href=\"https://wandb.ai/maiquanh/quanh/sweeps/8p4zr03y\" target=\"_blank\">https://wandb.ai/maiquanh/quanh/sweeps/8p4zr03y</a>"
      ],
      "text/plain": [
       "<IPython.core.display.HTML object>"
      ]
     },
     "metadata": {},
     "output_type": "display_data"
    },
    {
     "name": "stdout",
     "output_type": "stream",
     "text": [
      "-----START TRAINING CLASSIFICATION-----\n",
      "Epoch: 89\t| Train_loss: 0.005615\t|Train accuracy: 99.300976\t| Test_loss: 0.003175\t|Test accuracy: 95.497427\t|Val accuracy: 77.000000 \n",
      "\n",
      "----COMPLETED TRAINING CLASSIFICATION-----\n",
      "val_acc 77.0\n",
      "ok\n"
     ]
    },
    {
     "data": {
      "text/html": [
       "Waiting for W&B process to finish... <strong style=\"color:green\">(success).</strong>"
      ],
      "text/plain": [
       "<IPython.core.display.HTML object>"
      ]
     },
     "metadata": {},
     "output_type": "display_data"
    },
    {
     "data": {
      "text/html": [
       "<style>\n",
       "    table.wandb td:nth-child(1) { padding: 0 10px; text-align: left ; width: auto;} td:nth-child(2) {text-align: left ; width: 100%}\n",
       "    .wandb-row { display: flex; flex-direction: row; flex-wrap: wrap; justify-content: flex-start; width: 100% }\n",
       "    .wandb-col { display: flex; flex-direction: column; flex-basis: 100%; flex: 1; padding: 10px; }\n",
       "    </style>\n",
       "<div class=\"wandb-row\"><div class=\"wandb-col\"><h3>Run history:</h3><br/><table class=\"wandb\"><tr><td>test_loss</td><td>███▇▆▅▅▄▃▄▃▃▂▃▃▃▂▂▂▂▂▂▂▂▂▁▁▁▁▁▁▁▂▁▁▁▁▁▁▁</td></tr><tr><td>train_loss</td><td>███▇▆▅▄▄▃▃▃▃▂▂▂▂▂▂▂▂▂▂▂▁▁▁▁▁▁▁▁▁▁▁▁▁▁▁▁▁</td></tr><tr><td>val_acc</td><td>▁</td></tr></table><br/></div><div class=\"wandb-col\"><h3>Run summary:</h3><br/><table class=\"wandb\"><tr><td>test_loss</td><td>0.00317</td></tr><tr><td>train_loss</td><td>0.00561</td></tr><tr><td>val_acc</td><td>91.5</td></tr></table><br/></div></div>"
      ],
      "text/plain": [
       "<IPython.core.display.HTML object>"
      ]
     },
     "metadata": {},
     "output_type": "display_data"
    },
    {
     "data": {
      "text/html": [
       "Synced <strong style=\"color:#cdcd00\">colorful-sweep-46</strong>: <a href=\"https://wandb.ai/maiquanh/quanh/runs/r2x67jio\" target=\"_blank\">https://wandb.ai/maiquanh/quanh/runs/r2x67jio</a><br/>Synced 6 W&B file(s), 0 media file(s), 0 artifact file(s) and 0 other file(s)"
      ],
      "text/plain": [
       "<IPython.core.display.HTML object>"
      ]
     },
     "metadata": {},
     "output_type": "display_data"
    },
    {
     "data": {
      "text/html": [
       "Find logs at: <code>./wandb/run-20221019_112450-r2x67jio/logs</code>"
      ],
      "text/plain": [
       "<IPython.core.display.HTML object>"
      ]
     },
     "metadata": {},
     "output_type": "display_data"
    },
    {
     "name": "stderr",
     "output_type": "stream",
     "text": [
      "\u001b[34m\u001b[1mwandb\u001b[0m: Agent Starting Run: ezqfepyq with config:\n",
      "\u001b[34m\u001b[1mwandb\u001b[0m: \tbatch_size: 128\n",
      "\u001b[34m\u001b[1mwandb\u001b[0m: \td_hidden: 3\n",
      "\u001b[34m\u001b[1mwandb\u001b[0m: \tdata_dir: /home/quanhhh/Documents/model/pickle/\n",
      "\u001b[34m\u001b[1mwandb\u001b[0m: \tdropout: 0.15021910012132067\n",
      "\u001b[34m\u001b[1mwandb\u001b[0m: \tkernel_size_1: 73\n",
      "\u001b[34m\u001b[1mwandb\u001b[0m: \tkernel_size_2: 5\n",
      "\u001b[34m\u001b[1mwandb\u001b[0m: \tlr: 0.0002106058506608028\n",
      "\u001b[34m\u001b[1mwandb\u001b[0m: \tmaxpool_1: 3\n",
      "\u001b[34m\u001b[1mwandb\u001b[0m: \tmaxpool_2: 3\n",
      "\u001b[34m\u001b[1mwandb\u001b[0m: \tnum_epoch: 94\n",
      "\u001b[34m\u001b[1mwandb\u001b[0m: \tnum_filters: 26\n",
      "\u001b[34m\u001b[1mwandb\u001b[0m: \tnum_layers: 2\n",
      "\u001b[34m\u001b[1mwandb\u001b[0m: \tresult_dir: /home/quanhhh/Documents/model/result_wandb/\n",
      "\u001b[34m\u001b[1mwandb\u001b[0m: \tstride_1: 3\n",
      "\u001b[34m\u001b[1mwandb\u001b[0m: \tstride_2: 5\n",
      "\u001b[34m\u001b[1mwandb\u001b[0m: \tweight_decay: 0.0002380416000410707\n"
     ]
    },
    {
     "data": {
      "text/html": [
       "Tracking run with wandb version 0.13.4"
      ],
      "text/plain": [
       "<IPython.core.display.HTML object>"
      ]
     },
     "metadata": {},
     "output_type": "display_data"
    },
    {
     "data": {
      "text/html": [
       "Run data is saved locally in <code>/home/quanhhh/Documents/model/wandb/run-20221019_113014-ezqfepyq</code>"
      ],
      "text/plain": [
       "<IPython.core.display.HTML object>"
      ]
     },
     "metadata": {},
     "output_type": "display_data"
    },
    {
     "data": {
      "text/html": [
       "Syncing run <strong><a href=\"https://wandb.ai/maiquanh/quanh/runs/ezqfepyq\" target=\"_blank\">lucky-sweep-47</a></strong> to <a href=\"https://wandb.ai/maiquanh/quanh\" target=\"_blank\">Weights & Biases</a> (<a href=\"https://wandb.me/run\" target=\"_blank\">docs</a>)<br/>Sweep page:  <a href=\"https://wandb.ai/maiquanh/quanh/sweeps/8p4zr03y\" target=\"_blank\">https://wandb.ai/maiquanh/quanh/sweeps/8p4zr03y</a>"
      ],
      "text/plain": [
       "<IPython.core.display.HTML object>"
      ]
     },
     "metadata": {},
     "output_type": "display_data"
    },
    {
     "name": "stdout",
     "output_type": "stream",
     "text": [
      "-----START TRAINING CLASSIFICATION-----\n",
      "Epoch: 94\t| Train_loss: 0.005724\t|Train accuracy: 97.256661\t| Test_loss: 0.003290\t|Test accuracy: 91.380789\t|Val accuracy: 89.133331 \n",
      "\n",
      "----COMPLETED TRAINING CLASSIFICATION-----\n",
      "val_acc 89.13333129882812\n",
      "ok\n"
     ]
    },
    {
     "data": {
      "text/html": [
       "Waiting for W&B process to finish... <strong style=\"color:green\">(success).</strong>"
      ],
      "text/plain": [
       "<IPython.core.display.HTML object>"
      ]
     },
     "metadata": {},
     "output_type": "display_data"
    },
    {
     "data": {
      "text/html": [
       "<style>\n",
       "    table.wandb td:nth-child(1) { padding: 0 10px; text-align: left ; width: auto;} td:nth-child(2) {text-align: left ; width: 100%}\n",
       "    .wandb-row { display: flex; flex-direction: row; flex-wrap: wrap; justify-content: flex-start; width: 100% }\n",
       "    .wandb-col { display: flex; flex-direction: column; flex-basis: 100%; flex: 1; padding: 10px; }\n",
       "    </style>\n",
       "<div class=\"wandb-row\"><div class=\"wandb-col\"><h3>Run history:</h3><br/><table class=\"wandb\"><tr><td>test_loss</td><td>███▇▇▆▆▆▅▅▄▃▃▃▃▃▃▃▂▂▂▂▂▂▂▂▂▂▂▂▂▁▁▁▁▁▂▁▁▁</td></tr><tr><td>train_loss</td><td>██▇▇▆▆▅▅▄▄▃▃▃▃▂▂▂▂▂▂▂▂▂▂▁▁▁▁▁▁▁▁▁▁▁▁▁▁▁▁</td></tr><tr><td>val_acc</td><td>▁</td></tr></table><br/></div><div class=\"wandb-col\"><h3>Run summary:</h3><br/><table class=\"wandb\"><tr><td>test_loss</td><td>0.00329</td></tr><tr><td>train_loss</td><td>0.00572</td></tr><tr><td>val_acc</td><td>91.96667</td></tr></table><br/></div></div>"
      ],
      "text/plain": [
       "<IPython.core.display.HTML object>"
      ]
     },
     "metadata": {},
     "output_type": "display_data"
    },
    {
     "data": {
      "text/html": [
       "Synced <strong style=\"color:#cdcd00\">lucky-sweep-47</strong>: <a href=\"https://wandb.ai/maiquanh/quanh/runs/ezqfepyq\" target=\"_blank\">https://wandb.ai/maiquanh/quanh/runs/ezqfepyq</a><br/>Synced 6 W&B file(s), 0 media file(s), 0 artifact file(s) and 0 other file(s)"
      ],
      "text/plain": [
       "<IPython.core.display.HTML object>"
      ]
     },
     "metadata": {},
     "output_type": "display_data"
    },
    {
     "data": {
      "text/html": [
       "Find logs at: <code>./wandb/run-20221019_113014-ezqfepyq/logs</code>"
      ],
      "text/plain": [
       "<IPython.core.display.HTML object>"
      ]
     },
     "metadata": {},
     "output_type": "display_data"
    },
    {
     "name": "stderr",
     "output_type": "stream",
     "text": [
      "\u001b[34m\u001b[1mwandb\u001b[0m: Agent Starting Run: bumgqr5u with config:\n",
      "\u001b[34m\u001b[1mwandb\u001b[0m: \tbatch_size: 128\n",
      "\u001b[34m\u001b[1mwandb\u001b[0m: \td_hidden: 3\n",
      "\u001b[34m\u001b[1mwandb\u001b[0m: \tdata_dir: /home/quanhhh/Documents/model/pickle/\n",
      "\u001b[34m\u001b[1mwandb\u001b[0m: \tdropout: 0.15000079620193318\n",
      "\u001b[34m\u001b[1mwandb\u001b[0m: \tkernel_size_1: 93\n",
      "\u001b[34m\u001b[1mwandb\u001b[0m: \tkernel_size_2: 6\n",
      "\u001b[34m\u001b[1mwandb\u001b[0m: \tlr: 0.00011123416337097804\n",
      "\u001b[34m\u001b[1mwandb\u001b[0m: \tmaxpool_1: 6\n",
      "\u001b[34m\u001b[1mwandb\u001b[0m: \tmaxpool_2: 4\n",
      "\u001b[34m\u001b[1mwandb\u001b[0m: \tnum_epoch: 83\n",
      "\u001b[34m\u001b[1mwandb\u001b[0m: \tnum_filters: 41\n",
      "\u001b[34m\u001b[1mwandb\u001b[0m: \tnum_layers: 3\n",
      "\u001b[34m\u001b[1mwandb\u001b[0m: \tresult_dir: /home/quanhhh/Documents/model/result_wandb/\n",
      "\u001b[34m\u001b[1mwandb\u001b[0m: \tstride_1: 8\n",
      "\u001b[34m\u001b[1mwandb\u001b[0m: \tstride_2: 3\n",
      "\u001b[34m\u001b[1mwandb\u001b[0m: \tweight_decay: 0.00018070249059514188\n"
     ]
    },
    {
     "data": {
      "text/html": [
       "Tracking run with wandb version 0.13.4"
      ],
      "text/plain": [
       "<IPython.core.display.HTML object>"
      ]
     },
     "metadata": {},
     "output_type": "display_data"
    },
    {
     "data": {
      "text/html": [
       "Run data is saved locally in <code>/home/quanhhh/Documents/model/wandb/run-20221019_113420-bumgqr5u</code>"
      ],
      "text/plain": [
       "<IPython.core.display.HTML object>"
      ]
     },
     "metadata": {},
     "output_type": "display_data"
    },
    {
     "data": {
      "text/html": [
       "Syncing run <strong><a href=\"https://wandb.ai/maiquanh/quanh/runs/bumgqr5u\" target=\"_blank\">playful-sweep-48</a></strong> to <a href=\"https://wandb.ai/maiquanh/quanh\" target=\"_blank\">Weights & Biases</a> (<a href=\"https://wandb.me/run\" target=\"_blank\">docs</a>)<br/>Sweep page:  <a href=\"https://wandb.ai/maiquanh/quanh/sweeps/8p4zr03y\" target=\"_blank\">https://wandb.ai/maiquanh/quanh/sweeps/8p4zr03y</a>"
      ],
      "text/plain": [
       "<IPython.core.display.HTML object>"
      ]
     },
     "metadata": {},
     "output_type": "display_data"
    },
    {
     "name": "stdout",
     "output_type": "stream",
     "text": [
      "-----START TRAINING CLASSIFICATION-----\n",
      "Epoch: 83\t| Train_loss: 0.005792\t|Train accuracy: 99.393300\t| Test_loss: 0.003358\t|Test accuracy: 91.080617\t|Val accuracy: 95.266663 \n",
      "\n",
      "----COMPLETED TRAINING CLASSIFICATION-----\n",
      "val_acc 95.26666259765625\n",
      "ok\n"
     ]
    },
    {
     "data": {
      "text/html": [
       "Waiting for W&B process to finish... <strong style=\"color:green\">(success).</strong>"
      ],
      "text/plain": [
       "<IPython.core.display.HTML object>"
      ]
     },
     "metadata": {},
     "output_type": "display_data"
    },
    {
     "data": {
      "text/html": [
       "<style>\n",
       "    table.wandb td:nth-child(1) { padding: 0 10px; text-align: left ; width: auto;} td:nth-child(2) {text-align: left ; width: 100%}\n",
       "    .wandb-row { display: flex; flex-direction: row; flex-wrap: wrap; justify-content: flex-start; width: 100% }\n",
       "    .wandb-col { display: flex; flex-direction: column; flex-basis: 100%; flex: 1; padding: 10px; }\n",
       "    </style>\n",
       "<div class=\"wandb-row\"><div class=\"wandb-col\"><h3>Run history:</h3><br/><table class=\"wandb\"><tr><td>test_loss</td><td>██████▇▇▇▇▆▆▆▆▆▅▅▅▅▄▄▄▃▃▃▂▃▂▃▂▂▂▁▂▁▁▁▁▁▁</td></tr><tr><td>train_loss</td><td>█████▇▇▇▆▆▅▅▅▄▄▄▄▄▄▃▃▃▃▂▂▂▂▂▂▂▂▁▁▁▁▁▁▁▁▁</td></tr><tr><td>val_acc</td><td>▁</td></tr></table><br/></div><div class=\"wandb-col\"><h3>Run summary:</h3><br/><table class=\"wandb\"><tr><td>test_loss</td><td>0.00336</td></tr><tr><td>train_loss</td><td>0.00579</td></tr><tr><td>val_acc</td><td>96.36667</td></tr></table><br/></div></div>"
      ],
      "text/plain": [
       "<IPython.core.display.HTML object>"
      ]
     },
     "metadata": {},
     "output_type": "display_data"
    },
    {
     "data": {
      "text/html": [
       "Synced <strong style=\"color:#cdcd00\">playful-sweep-48</strong>: <a href=\"https://wandb.ai/maiquanh/quanh/runs/bumgqr5u\" target=\"_blank\">https://wandb.ai/maiquanh/quanh/runs/bumgqr5u</a><br/>Synced 6 W&B file(s), 0 media file(s), 0 artifact file(s) and 0 other file(s)"
      ],
      "text/plain": [
       "<IPython.core.display.HTML object>"
      ]
     },
     "metadata": {},
     "output_type": "display_data"
    },
    {
     "data": {
      "text/html": [
       "Find logs at: <code>./wandb/run-20221019_113420-bumgqr5u/logs</code>"
      ],
      "text/plain": [
       "<IPython.core.display.HTML object>"
      ]
     },
     "metadata": {},
     "output_type": "display_data"
    },
    {
     "name": "stderr",
     "output_type": "stream",
     "text": [
      "\u001b[34m\u001b[1mwandb\u001b[0m: Agent Starting Run: mf5shx6f with config:\n",
      "\u001b[34m\u001b[1mwandb\u001b[0m: \tbatch_size: 128\n",
      "\u001b[34m\u001b[1mwandb\u001b[0m: \td_hidden: 3\n",
      "\u001b[34m\u001b[1mwandb\u001b[0m: \tdata_dir: /home/quanhhh/Documents/model/pickle/\n",
      "\u001b[34m\u001b[1mwandb\u001b[0m: \tdropout: 0.15395362154085693\n",
      "\u001b[34m\u001b[1mwandb\u001b[0m: \tkernel_size_1: 99\n",
      "\u001b[34m\u001b[1mwandb\u001b[0m: \tkernel_size_2: 4\n",
      "\u001b[34m\u001b[1mwandb\u001b[0m: \tlr: 0.003716612543066913\n",
      "\u001b[34m\u001b[1mwandb\u001b[0m: \tmaxpool_1: 6\n",
      "\u001b[34m\u001b[1mwandb\u001b[0m: \tmaxpool_2: 3\n",
      "\u001b[34m\u001b[1mwandb\u001b[0m: \tnum_epoch: 86\n",
      "\u001b[34m\u001b[1mwandb\u001b[0m: \tnum_filters: 21\n",
      "\u001b[34m\u001b[1mwandb\u001b[0m: \tnum_layers: 2\n",
      "\u001b[34m\u001b[1mwandb\u001b[0m: \tresult_dir: /home/quanhhh/Documents/model/result_wandb/\n",
      "\u001b[34m\u001b[1mwandb\u001b[0m: \tstride_1: 5\n",
      "\u001b[34m\u001b[1mwandb\u001b[0m: \tstride_2: 4\n",
      "\u001b[34m\u001b[1mwandb\u001b[0m: \tweight_decay: 0.00019144403896828092\n"
     ]
    },
    {
     "data": {
      "text/html": [
       "Tracking run with wandb version 0.13.4"
      ],
      "text/plain": [
       "<IPython.core.display.HTML object>"
      ]
     },
     "metadata": {},
     "output_type": "display_data"
    },
    {
     "data": {
      "text/html": [
       "Run data is saved locally in <code>/home/quanhhh/Documents/model/wandb/run-20221019_113658-mf5shx6f</code>"
      ],
      "text/plain": [
       "<IPython.core.display.HTML object>"
      ]
     },
     "metadata": {},
     "output_type": "display_data"
    },
    {
     "data": {
      "text/html": [
       "Syncing run <strong><a href=\"https://wandb.ai/maiquanh/quanh/runs/mf5shx6f\" target=\"_blank\">zesty-sweep-49</a></strong> to <a href=\"https://wandb.ai/maiquanh/quanh\" target=\"_blank\">Weights & Biases</a> (<a href=\"https://wandb.me/run\" target=\"_blank\">docs</a>)<br/>Sweep page:  <a href=\"https://wandb.ai/maiquanh/quanh/sweeps/8p4zr03y\" target=\"_blank\">https://wandb.ai/maiquanh/quanh/sweeps/8p4zr03y</a>"
      ],
      "text/plain": [
       "<IPython.core.display.HTML object>"
      ]
     },
     "metadata": {},
     "output_type": "display_data"
    },
    {
     "name": "stdout",
     "output_type": "stream",
     "text": [
      "-----START TRAINING CLASSIFICATION-----\n",
      "Epoch: 86\t| Train_loss: 0.005646\t|Train accuracy: 89.290425\t| Test_loss: 0.003381\t|Test accuracy: 82.418525\t|Val accuracy: 79.000000 \n",
      "\n",
      "----COMPLETED TRAINING CLASSIFICATION-----\n",
      "val_acc 79.0\n",
      "ok\n"
     ]
    },
    {
     "data": {
      "text/html": [
       "Waiting for W&B process to finish... <strong style=\"color:green\">(success).</strong>"
      ],
      "text/plain": [
       "<IPython.core.display.HTML object>"
      ]
     },
     "metadata": {},
     "output_type": "display_data"
    },
    {
     "data": {
      "text/html": [
       "<style>\n",
       "    table.wandb td:nth-child(1) { padding: 0 10px; text-align: left ; width: auto;} td:nth-child(2) {text-align: left ; width: 100%}\n",
       "    .wandb-row { display: flex; flex-direction: row; flex-wrap: wrap; justify-content: flex-start; width: 100% }\n",
       "    .wandb-col { display: flex; flex-direction: column; flex-basis: 100%; flex: 1; padding: 10px; }\n",
       "    </style>\n",
       "<div class=\"wandb-row\"><div class=\"wandb-col\"><h3>Run history:</h3><br/><table class=\"wandb\"><tr><td>test_loss</td><td>█▅▅▄▄▃▃▃▄▂▄▄▃▃▂▂▁▁▁▁▁▁▄▃▂▃▂▃▁▂▁▃▃▁▂▅▂▂▂▂</td></tr><tr><td>train_loss</td><td>█▃▂▂▁▁▁▁▁▁▁▁▁▁▁▁▁▁▁▁▁▁▁▁▁▁▁▁▁▁▁▁▁▁▁▁▁▁▁▁</td></tr><tr><td>val_acc</td><td>▁</td></tr></table><br/></div><div class=\"wandb-col\"><h3>Run summary:</h3><br/><table class=\"wandb\"><tr><td>test_loss</td><td>0.00338</td></tr><tr><td>train_loss</td><td>0.00565</td></tr><tr><td>val_acc</td><td>91.96667</td></tr></table><br/></div></div>"
      ],
      "text/plain": [
       "<IPython.core.display.HTML object>"
      ]
     },
     "metadata": {},
     "output_type": "display_data"
    },
    {
     "data": {
      "text/html": [
       "Synced <strong style=\"color:#cdcd00\">zesty-sweep-49</strong>: <a href=\"https://wandb.ai/maiquanh/quanh/runs/mf5shx6f\" target=\"_blank\">https://wandb.ai/maiquanh/quanh/runs/mf5shx6f</a><br/>Synced 6 W&B file(s), 0 media file(s), 0 artifact file(s) and 0 other file(s)"
      ],
      "text/plain": [
       "<IPython.core.display.HTML object>"
      ]
     },
     "metadata": {},
     "output_type": "display_data"
    },
    {
     "data": {
      "text/html": [
       "Find logs at: <code>./wandb/run-20221019_113658-mf5shx6f/logs</code>"
      ],
      "text/plain": [
       "<IPython.core.display.HTML object>"
      ]
     },
     "metadata": {},
     "output_type": "display_data"
    },
    {
     "name": "stderr",
     "output_type": "stream",
     "text": [
      "\u001b[34m\u001b[1mwandb\u001b[0m: Agent Starting Run: m9laa6tz with config:\n",
      "\u001b[34m\u001b[1mwandb\u001b[0m: \tbatch_size: 128\n",
      "\u001b[34m\u001b[1mwandb\u001b[0m: \td_hidden: 3\n",
      "\u001b[34m\u001b[1mwandb\u001b[0m: \tdata_dir: /home/quanhhh/Documents/model/pickle/\n",
      "\u001b[34m\u001b[1mwandb\u001b[0m: \tdropout: 0.1697951609991995\n",
      "\u001b[34m\u001b[1mwandb\u001b[0m: \tkernel_size_1: 54\n",
      "\u001b[34m\u001b[1mwandb\u001b[0m: \tkernel_size_2: 5\n",
      "\u001b[34m\u001b[1mwandb\u001b[0m: \tlr: 0.0005336891367217455\n",
      "\u001b[34m\u001b[1mwandb\u001b[0m: \tmaxpool_1: 3\n",
      "\u001b[34m\u001b[1mwandb\u001b[0m: \tmaxpool_2: 6\n",
      "\u001b[34m\u001b[1mwandb\u001b[0m: \tnum_epoch: 100\n",
      "\u001b[34m\u001b[1mwandb\u001b[0m: \tnum_filters: 27\n",
      "\u001b[34m\u001b[1mwandb\u001b[0m: \tnum_layers: 2\n",
      "\u001b[34m\u001b[1mwandb\u001b[0m: \tresult_dir: /home/quanhhh/Documents/model/result_wandb/\n",
      "\u001b[34m\u001b[1mwandb\u001b[0m: \tstride_1: 7\n",
      "\u001b[34m\u001b[1mwandb\u001b[0m: \tstride_2: 3\n",
      "\u001b[34m\u001b[1mwandb\u001b[0m: \tweight_decay: 0.00021163486952517383\n"
     ]
    },
    {
     "data": {
      "text/html": [
       "Tracking run with wandb version 0.13.4"
      ],
      "text/plain": [
       "<IPython.core.display.HTML object>"
      ]
     },
     "metadata": {},
     "output_type": "display_data"
    },
    {
     "data": {
      "text/html": [
       "Run data is saved locally in <code>/home/quanhhh/Documents/model/wandb/run-20221019_113923-m9laa6tz</code>"
      ],
      "text/plain": [
       "<IPython.core.display.HTML object>"
      ]
     },
     "metadata": {},
     "output_type": "display_data"
    },
    {
     "data": {
      "text/html": [
       "Syncing run <strong><a href=\"https://wandb.ai/maiquanh/quanh/runs/m9laa6tz\" target=\"_blank\">kind-sweep-50</a></strong> to <a href=\"https://wandb.ai/maiquanh/quanh\" target=\"_blank\">Weights & Biases</a> (<a href=\"https://wandb.me/run\" target=\"_blank\">docs</a>)<br/>Sweep page:  <a href=\"https://wandb.ai/maiquanh/quanh/sweeps/8p4zr03y\" target=\"_blank\">https://wandb.ai/maiquanh/quanh/sweeps/8p4zr03y</a>"
      ],
      "text/plain": [
       "<IPython.core.display.HTML object>"
      ]
     },
     "metadata": {},
     "output_type": "display_data"
    },
    {
     "name": "stdout",
     "output_type": "stream",
     "text": [
      "-----START TRAINING CLASSIFICATION-----\n",
      "Epoch: 100\t| Train_loss: 0.005586\t|Train accuracy: 98.773411\t| Test_loss: 0.003111\t|Test accuracy: 96.869640\t|Val accuracy: 88.266663 \n",
      "\n",
      "----COMPLETED TRAINING CLASSIFICATION-----\n",
      "val_acc 88.26666259765625\n",
      "ok\n"
     ]
    },
    {
     "data": {
      "text/html": [
       "Waiting for W&B process to finish... <strong style=\"color:green\">(success).</strong>"
      ],
      "text/plain": [
       "<IPython.core.display.HTML object>"
      ]
     },
     "metadata": {},
     "output_type": "display_data"
    },
    {
     "data": {
      "text/html": [
       "<style>\n",
       "    table.wandb td:nth-child(1) { padding: 0 10px; text-align: left ; width: auto;} td:nth-child(2) {text-align: left ; width: 100%}\n",
       "    .wandb-row { display: flex; flex-direction: row; flex-wrap: wrap; justify-content: flex-start; width: 100% }\n",
       "    .wandb-col { display: flex; flex-direction: column; flex-basis: 100%; flex: 1; padding: 10px; }\n",
       "    </style>\n",
       "<div class=\"wandb-row\"><div class=\"wandb-col\"><h3>Run history:</h3><br/><table class=\"wandb\"><tr><td>test_loss</td><td>█▇▅▄▃▂▂▃▂▂▂▂▁▂▂▁▂▂▂▁▁▂▁▁▁▁▁▁▁▁▁▁▁▁▁▁▁▁▁▁</td></tr><tr><td>train_loss</td><td>█▆▄▃▂▂▂▂▂▂▁▁▁▁▁▁▁▁▁▁▁▁▁▁▁▁▁▁▁▁▁▁▁▁▁▁▁▁▁▁</td></tr><tr><td>val_acc</td><td>▁</td></tr></table><br/></div><div class=\"wandb-col\"><h3>Run summary:</h3><br/><table class=\"wandb\"><tr><td>test_loss</td><td>0.00311</td></tr><tr><td>train_loss</td><td>0.00559</td></tr><tr><td>val_acc</td><td>92.56667</td></tr></table><br/></div></div>"
      ],
      "text/plain": [
       "<IPython.core.display.HTML object>"
      ]
     },
     "metadata": {},
     "output_type": "display_data"
    },
    {
     "data": {
      "text/html": [
       "Synced <strong style=\"color:#cdcd00\">kind-sweep-50</strong>: <a href=\"https://wandb.ai/maiquanh/quanh/runs/m9laa6tz\" target=\"_blank\">https://wandb.ai/maiquanh/quanh/runs/m9laa6tz</a><br/>Synced 6 W&B file(s), 0 media file(s), 0 artifact file(s) and 0 other file(s)"
      ],
      "text/plain": [
       "<IPython.core.display.HTML object>"
      ]
     },
     "metadata": {},
     "output_type": "display_data"
    },
    {
     "data": {
      "text/html": [
       "Find logs at: <code>./wandb/run-20221019_113923-m9laa6tz/logs</code>"
      ],
      "text/plain": [
       "<IPython.core.display.HTML object>"
      ]
     },
     "metadata": {},
     "output_type": "display_data"
    },
    {
     "name": "stderr",
     "output_type": "stream",
     "text": [
      "\u001b[34m\u001b[1mwandb\u001b[0m: Agent Starting Run: oaum75aq with config:\n",
      "\u001b[34m\u001b[1mwandb\u001b[0m: \tbatch_size: 128\n",
      "\u001b[34m\u001b[1mwandb\u001b[0m: \td_hidden: 3\n",
      "\u001b[34m\u001b[1mwandb\u001b[0m: \tdata_dir: /home/quanhhh/Documents/model/pickle/\n",
      "\u001b[34m\u001b[1mwandb\u001b[0m: \tdropout: 0.1514415289750508\n",
      "\u001b[34m\u001b[1mwandb\u001b[0m: \tkernel_size_1: 78\n",
      "\u001b[34m\u001b[1mwandb\u001b[0m: \tkernel_size_2: 10\n",
      "\u001b[34m\u001b[1mwandb\u001b[0m: \tlr: 0.0015657964856875708\n",
      "\u001b[34m\u001b[1mwandb\u001b[0m: \tmaxpool_1: 6\n",
      "\u001b[34m\u001b[1mwandb\u001b[0m: \tmaxpool_2: 8\n",
      "\u001b[34m\u001b[1mwandb\u001b[0m: \tnum_epoch: 82\n",
      "\u001b[34m\u001b[1mwandb\u001b[0m: \tnum_filters: 58\n",
      "\u001b[34m\u001b[1mwandb\u001b[0m: \tnum_layers: 2\n",
      "\u001b[34m\u001b[1mwandb\u001b[0m: \tresult_dir: /home/quanhhh/Documents/model/result_wandb/\n",
      "\u001b[34m\u001b[1mwandb\u001b[0m: \tstride_1: 6\n",
      "\u001b[34m\u001b[1mwandb\u001b[0m: \tstride_2: 8\n",
      "\u001b[34m\u001b[1mwandb\u001b[0m: \tweight_decay: 0.00012366610237773517\n"
     ]
    },
    {
     "data": {
      "text/html": [
       "Tracking run with wandb version 0.13.4"
      ],
      "text/plain": [
       "<IPython.core.display.HTML object>"
      ]
     },
     "metadata": {},
     "output_type": "display_data"
    },
    {
     "data": {
      "text/html": [
       "Run data is saved locally in <code>/home/quanhhh/Documents/model/wandb/run-20221019_114206-oaum75aq</code>"
      ],
      "text/plain": [
       "<IPython.core.display.HTML object>"
      ]
     },
     "metadata": {},
     "output_type": "display_data"
    },
    {
     "data": {
      "text/html": [
       "Syncing run <strong><a href=\"https://wandb.ai/maiquanh/quanh/runs/oaum75aq\" target=\"_blank\">eager-sweep-51</a></strong> to <a href=\"https://wandb.ai/maiquanh/quanh\" target=\"_blank\">Weights & Biases</a> (<a href=\"https://wandb.me/run\" target=\"_blank\">docs</a>)<br/>Sweep page:  <a href=\"https://wandb.ai/maiquanh/quanh/sweeps/8p4zr03y\" target=\"_blank\">https://wandb.ai/maiquanh/quanh/sweeps/8p4zr03y</a>"
      ],
      "text/plain": [
       "<IPython.core.display.HTML object>"
      ]
     },
     "metadata": {},
     "output_type": "display_data"
    },
    {
     "name": "stdout",
     "output_type": "stream",
     "text": [
      "-----START TRAINING CLASSIFICATION-----\n",
      "Epoch: 82\t| Train_loss: 0.005696\t|Train accuracy: 97.678713\t| Test_loss: 0.003344\t|Test accuracy: 88.850772\t|Val accuracy: 71.799995 \n",
      "\n",
      "----COMPLETED TRAINING CLASSIFICATION-----\n",
      "val_acc 71.79999542236328\n",
      "ok\n"
     ]
    },
    {
     "data": {
      "text/html": [
       "Waiting for W&B process to finish... <strong style=\"color:green\">(success).</strong>"
      ],
      "text/plain": [
       "<IPython.core.display.HTML object>"
      ]
     },
     "metadata": {},
     "output_type": "display_data"
    },
    {
     "data": {
      "text/html": [
       "<style>\n",
       "    table.wandb td:nth-child(1) { padding: 0 10px; text-align: left ; width: auto;} td:nth-child(2) {text-align: left ; width: 100%}\n",
       "    .wandb-row { display: flex; flex-direction: row; flex-wrap: wrap; justify-content: flex-start; width: 100% }\n",
       "    .wandb-col { display: flex; flex-direction: column; flex-basis: 100%; flex: 1; padding: 10px; }\n",
       "    </style>\n",
       "<div class=\"wandb-row\"><div class=\"wandb-col\"><h3>Run history:</h3><br/><table class=\"wandb\"><tr><td>test_loss</td><td>█▅▅▄▃▅▄▃▃▂▃▄▂▃▂▂▂▃▂▂▁▂▃▂▁▂▂▂▂▂▂▂▆▅▅▄▄▂▂▁</td></tr><tr><td>train_loss</td><td>█▅▄▃▃▂▂▂▂▂▂▂▂▂▂▂▂▂▂▁▂▁▁▁▁▁▁▁▁▁▁▁▁▃▂▂▂▁▁▁</td></tr><tr><td>val_acc</td><td>▁</td></tr></table><br/></div><div class=\"wandb-col\"><h3>Run summary:</h3><br/><table class=\"wandb\"><tr><td>test_loss</td><td>0.00334</td></tr><tr><td>train_loss</td><td>0.0057</td></tr><tr><td>val_acc</td><td>79.0</td></tr></table><br/></div></div>"
      ],
      "text/plain": [
       "<IPython.core.display.HTML object>"
      ]
     },
     "metadata": {},
     "output_type": "display_data"
    },
    {
     "data": {
      "text/html": [
       "Synced <strong style=\"color:#cdcd00\">eager-sweep-51</strong>: <a href=\"https://wandb.ai/maiquanh/quanh/runs/oaum75aq\" target=\"_blank\">https://wandb.ai/maiquanh/quanh/runs/oaum75aq</a><br/>Synced 6 W&B file(s), 0 media file(s), 0 artifact file(s) and 0 other file(s)"
      ],
      "text/plain": [
       "<IPython.core.display.HTML object>"
      ]
     },
     "metadata": {},
     "output_type": "display_data"
    },
    {
     "data": {
      "text/html": [
       "Find logs at: <code>./wandb/run-20221019_114206-oaum75aq/logs</code>"
      ],
      "text/plain": [
       "<IPython.core.display.HTML object>"
      ]
     },
     "metadata": {},
     "output_type": "display_data"
    },
    {
     "name": "stderr",
     "output_type": "stream",
     "text": [
      "\u001b[34m\u001b[1mwandb\u001b[0m: Sweep Agent: Waiting for job.\n",
      "\u001b[34m\u001b[1mwandb\u001b[0m: Job received.\n",
      "\u001b[34m\u001b[1mwandb\u001b[0m: Agent Starting Run: w5kegjtb with config:\n",
      "\u001b[34m\u001b[1mwandb\u001b[0m: \tbatch_size: 128\n",
      "\u001b[34m\u001b[1mwandb\u001b[0m: \td_hidden: 3\n",
      "\u001b[34m\u001b[1mwandb\u001b[0m: \tdata_dir: /home/quanhhh/Documents/model/pickle/\n",
      "\u001b[34m\u001b[1mwandb\u001b[0m: \tdropout: 0.18351702135408277\n",
      "\u001b[34m\u001b[1mwandb\u001b[0m: \tkernel_size_1: 71\n",
      "\u001b[34m\u001b[1mwandb\u001b[0m: \tkernel_size_2: 10\n",
      "\u001b[34m\u001b[1mwandb\u001b[0m: \tlr: 0.0011842177170818553\n",
      "\u001b[34m\u001b[1mwandb\u001b[0m: \tmaxpool_1: 7\n",
      "\u001b[34m\u001b[1mwandb\u001b[0m: \tmaxpool_2: 3\n",
      "\u001b[34m\u001b[1mwandb\u001b[0m: \tnum_epoch: 84\n",
      "\u001b[34m\u001b[1mwandb\u001b[0m: \tnum_filters: 18\n",
      "\u001b[34m\u001b[1mwandb\u001b[0m: \tnum_layers: 4\n",
      "\u001b[34m\u001b[1mwandb\u001b[0m: \tresult_dir: /home/quanhhh/Documents/model/result_wandb/\n",
      "\u001b[34m\u001b[1mwandb\u001b[0m: \tstride_1: 4\n",
      "\u001b[34m\u001b[1mwandb\u001b[0m: \tstride_2: 7\n",
      "\u001b[34m\u001b[1mwandb\u001b[0m: \tweight_decay: 0.00010025587092205302\n"
     ]
    },
    {
     "data": {
      "text/html": [
       "Tracking run with wandb version 0.13.4"
      ],
      "text/plain": [
       "<IPython.core.display.HTML object>"
      ]
     },
     "metadata": {},
     "output_type": "display_data"
    },
    {
     "data": {
      "text/html": [
       "Run data is saved locally in <code>/home/quanhhh/Documents/model/wandb/run-20221019_114544-w5kegjtb</code>"
      ],
      "text/plain": [
       "<IPython.core.display.HTML object>"
      ]
     },
     "metadata": {},
     "output_type": "display_data"
    },
    {
     "data": {
      "text/html": [
       "Syncing run <strong><a href=\"https://wandb.ai/maiquanh/quanh/runs/w5kegjtb\" target=\"_blank\">efficient-sweep-52</a></strong> to <a href=\"https://wandb.ai/maiquanh/quanh\" target=\"_blank\">Weights & Biases</a> (<a href=\"https://wandb.me/run\" target=\"_blank\">docs</a>)<br/>Sweep page:  <a href=\"https://wandb.ai/maiquanh/quanh/sweeps/8p4zr03y\" target=\"_blank\">https://wandb.ai/maiquanh/quanh/sweeps/8p4zr03y</a>"
      ],
      "text/plain": [
       "<IPython.core.display.HTML object>"
      ]
     },
     "metadata": {},
     "output_type": "display_data"
    },
    {
     "name": "stdout",
     "output_type": "stream",
     "text": [
      "-----START TRAINING CLASSIFICATION-----\n",
      "Epoch: 84\t| Train_loss: 0.005982\t|Train accuracy: 97.850171\t| Test_loss: 0.003302\t|Test accuracy: 91.981132\t|Val accuracy: 85.533333 \n",
      "\n",
      "----COMPLETED TRAINING CLASSIFICATION-----\n",
      "val_acc 85.53333282470703\n",
      "ok\n"
     ]
    },
    {
     "data": {
      "text/html": [
       "Waiting for W&B process to finish... <strong style=\"color:green\">(success).</strong>"
      ],
      "text/plain": [
       "<IPython.core.display.HTML object>"
      ]
     },
     "metadata": {},
     "output_type": "display_data"
    },
    {
     "data": {
      "text/html": [
       "<style>\n",
       "    table.wandb td:nth-child(1) { padding: 0 10px; text-align: left ; width: auto;} td:nth-child(2) {text-align: left ; width: 100%}\n",
       "    .wandb-row { display: flex; flex-direction: row; flex-wrap: wrap; justify-content: flex-start; width: 100% }\n",
       "    .wandb-col { display: flex; flex-direction: column; flex-basis: 100%; flex: 1; padding: 10px; }\n",
       "    </style>\n",
       "<div class=\"wandb-row\"><div class=\"wandb-col\"><h3>Run history:</h3><br/><table class=\"wandb\"><tr><td>test_loss</td><td>█▆▅▅▄▃▃▃▃▂▄▄▂▃▃▂▂▂▂▂▂▃▃▃▂▂▂▁▂▄▁▂▂▂▂▃▁▁▂▁</td></tr><tr><td>train_loss</td><td>█▆▅▄▃▃▂▂▂▁▂▂▁▁▁▁▁▁▁▁▁▂▁▁▁▁▁▁▁▁▁▁▁▁▁▁▁▁▁▁</td></tr><tr><td>val_acc</td><td>▁</td></tr></table><br/></div><div class=\"wandb-col\"><h3>Run summary:</h3><br/><table class=\"wandb\"><tr><td>test_loss</td><td>0.0033</td></tr><tr><td>train_loss</td><td>0.00598</td></tr><tr><td>val_acc</td><td>90.3</td></tr></table><br/></div></div>"
      ],
      "text/plain": [
       "<IPython.core.display.HTML object>"
      ]
     },
     "metadata": {},
     "output_type": "display_data"
    },
    {
     "data": {
      "text/html": [
       "Synced <strong style=\"color:#cdcd00\">efficient-sweep-52</strong>: <a href=\"https://wandb.ai/maiquanh/quanh/runs/w5kegjtb\" target=\"_blank\">https://wandb.ai/maiquanh/quanh/runs/w5kegjtb</a><br/>Synced 6 W&B file(s), 0 media file(s), 0 artifact file(s) and 0 other file(s)"
      ],
      "text/plain": [
       "<IPython.core.display.HTML object>"
      ]
     },
     "metadata": {},
     "output_type": "display_data"
    },
    {
     "data": {
      "text/html": [
       "Find logs at: <code>./wandb/run-20221019_114544-w5kegjtb/logs</code>"
      ],
      "text/plain": [
       "<IPython.core.display.HTML object>"
      ]
     },
     "metadata": {},
     "output_type": "display_data"
    },
    {
     "name": "stderr",
     "output_type": "stream",
     "text": [
      "\u001b[34m\u001b[1mwandb\u001b[0m: Agent Starting Run: 3dxsqijg with config:\n",
      "\u001b[34m\u001b[1mwandb\u001b[0m: \tbatch_size: 128\n",
      "\u001b[34m\u001b[1mwandb\u001b[0m: \td_hidden: 3\n",
      "\u001b[34m\u001b[1mwandb\u001b[0m: \tdata_dir: /home/quanhhh/Documents/model/pickle/\n",
      "\u001b[34m\u001b[1mwandb\u001b[0m: \tdropout: 0.1696507075565653\n",
      "\u001b[34m\u001b[1mwandb\u001b[0m: \tkernel_size_1: 87\n",
      "\u001b[34m\u001b[1mwandb\u001b[0m: \tkernel_size_2: 6\n",
      "\u001b[34m\u001b[1mwandb\u001b[0m: \tlr: 0.0006979018127308065\n",
      "\u001b[34m\u001b[1mwandb\u001b[0m: \tmaxpool_1: 4\n",
      "\u001b[34m\u001b[1mwandb\u001b[0m: \tmaxpool_2: 8\n",
      "\u001b[34m\u001b[1mwandb\u001b[0m: \tnum_epoch: 91\n",
      "\u001b[34m\u001b[1mwandb\u001b[0m: \tnum_filters: 53\n",
      "\u001b[34m\u001b[1mwandb\u001b[0m: \tnum_layers: 3\n",
      "\u001b[34m\u001b[1mwandb\u001b[0m: \tresult_dir: /home/quanhhh/Documents/model/result_wandb/\n",
      "\u001b[34m\u001b[1mwandb\u001b[0m: \tstride_1: 8\n",
      "\u001b[34m\u001b[1mwandb\u001b[0m: \tstride_2: 8\n",
      "\u001b[34m\u001b[1mwandb\u001b[0m: \tweight_decay: 0.00012521666782343155\n"
     ]
    },
    {
     "data": {
      "text/html": [
       "Tracking run with wandb version 0.13.4"
      ],
      "text/plain": [
       "<IPython.core.display.HTML object>"
      ]
     },
     "metadata": {},
     "output_type": "display_data"
    },
    {
     "data": {
      "text/html": [
       "Run data is saved locally in <code>/home/quanhhh/Documents/model/wandb/run-20221019_114816-3dxsqijg</code>"
      ],
      "text/plain": [
       "<IPython.core.display.HTML object>"
      ]
     },
     "metadata": {},
     "output_type": "display_data"
    },
    {
     "data": {
      "text/html": [
       "Syncing run <strong><a href=\"https://wandb.ai/maiquanh/quanh/runs/3dxsqijg\" target=\"_blank\">clear-sweep-53</a></strong> to <a href=\"https://wandb.ai/maiquanh/quanh\" target=\"_blank\">Weights & Biases</a> (<a href=\"https://wandb.me/run\" target=\"_blank\">docs</a>)<br/>Sweep page:  <a href=\"https://wandb.ai/maiquanh/quanh/sweeps/8p4zr03y\" target=\"_blank\">https://wandb.ai/maiquanh/quanh/sweeps/8p4zr03y</a>"
      ],
      "text/plain": [
       "<IPython.core.display.HTML object>"
      ]
     },
     "metadata": {},
     "output_type": "display_data"
    },
    {
     "name": "stdout",
     "output_type": "stream",
     "text": [
      "-----START TRAINING CLASSIFICATION-----\n",
      "Epoch: 91\t| Train_loss: 0.005593\t|Train accuracy: 98.694276\t| Test_loss: 0.003168\t|Test accuracy: 94.253859\t|Val accuracy: 84.099998 \n",
      "\n",
      "----COMPLETED TRAINING CLASSIFICATION-----\n",
      "val_acc 84.0999984741211\n",
      "ok\n"
     ]
    },
    {
     "data": {
      "text/html": [
       "Waiting for W&B process to finish... <strong style=\"color:green\">(success).</strong>"
      ],
      "text/plain": [
       "<IPython.core.display.HTML object>"
      ]
     },
     "metadata": {},
     "output_type": "display_data"
    },
    {
     "data": {
      "text/html": [
       "<style>\n",
       "    table.wandb td:nth-child(1) { padding: 0 10px; text-align: left ; width: auto;} td:nth-child(2) {text-align: left ; width: 100%}\n",
       "    .wandb-row { display: flex; flex-direction: row; flex-wrap: wrap; justify-content: flex-start; width: 100% }\n",
       "    .wandb-col { display: flex; flex-direction: column; flex-basis: 100%; flex: 1; padding: 10px; }\n",
       "    </style>\n",
       "<div class=\"wandb-row\"><div class=\"wandb-col\"><h3>Run history:</h3><br/><table class=\"wandb\"><tr><td>test_loss</td><td>█▆▆▅▄▄▃▃▂▃▂▂▂▃▁▂▂▂▂▂▂▂▂▂▁▂▁▁▁▁▁▃▁▁▂▁▁▁▁▁</td></tr><tr><td>train_loss</td><td>█▆▅▄▃▃▂▂▂▂▂▂▂▂▁▁▁▁▁▁▁▁▁▁▁▁▁▁▁▁▁▁▁▁▁▁▁▁▁▁</td></tr><tr><td>val_acc</td><td>▁</td></tr></table><br/></div><div class=\"wandb-col\"><h3>Run summary:</h3><br/><table class=\"wandb\"><tr><td>test_loss</td><td>0.00317</td></tr><tr><td>train_loss</td><td>0.00559</td></tr><tr><td>val_acc</td><td>90.0</td></tr></table><br/></div></div>"
      ],
      "text/plain": [
       "<IPython.core.display.HTML object>"
      ]
     },
     "metadata": {},
     "output_type": "display_data"
    },
    {
     "data": {
      "text/html": [
       "Synced <strong style=\"color:#cdcd00\">clear-sweep-53</strong>: <a href=\"https://wandb.ai/maiquanh/quanh/runs/3dxsqijg\" target=\"_blank\">https://wandb.ai/maiquanh/quanh/runs/3dxsqijg</a><br/>Synced 6 W&B file(s), 0 media file(s), 0 artifact file(s) and 0 other file(s)"
      ],
      "text/plain": [
       "<IPython.core.display.HTML object>"
      ]
     },
     "metadata": {},
     "output_type": "display_data"
    },
    {
     "data": {
      "text/html": [
       "Find logs at: <code>./wandb/run-20221019_114816-3dxsqijg/logs</code>"
      ],
      "text/plain": [
       "<IPython.core.display.HTML object>"
      ]
     },
     "metadata": {},
     "output_type": "display_data"
    },
    {
     "name": "stderr",
     "output_type": "stream",
     "text": [
      "\u001b[34m\u001b[1mwandb\u001b[0m: Agent Starting Run: 98gwrglc with config:\n",
      "\u001b[34m\u001b[1mwandb\u001b[0m: \tbatch_size: 128\n",
      "\u001b[34m\u001b[1mwandb\u001b[0m: \td_hidden: 3\n",
      "\u001b[34m\u001b[1mwandb\u001b[0m: \tdata_dir: /home/quanhhh/Documents/model/pickle/\n",
      "\u001b[34m\u001b[1mwandb\u001b[0m: \tdropout: 0.1494451538936599\n",
      "\u001b[34m\u001b[1mwandb\u001b[0m: \tkernel_size_1: 57\n",
      "\u001b[34m\u001b[1mwandb\u001b[0m: \tkernel_size_2: 3\n",
      "\u001b[34m\u001b[1mwandb\u001b[0m: \tlr: 0.00010720638017030736\n",
      "\u001b[34m\u001b[1mwandb\u001b[0m: \tmaxpool_1: 4\n",
      "\u001b[34m\u001b[1mwandb\u001b[0m: \tmaxpool_2: 4\n",
      "\u001b[34m\u001b[1mwandb\u001b[0m: \tnum_epoch: 91\n",
      "\u001b[34m\u001b[1mwandb\u001b[0m: \tnum_filters: 38\n",
      "\u001b[34m\u001b[1mwandb\u001b[0m: \tnum_layers: 4\n",
      "\u001b[34m\u001b[1mwandb\u001b[0m: \tresult_dir: /home/quanhhh/Documents/model/result_wandb/\n",
      "\u001b[34m\u001b[1mwandb\u001b[0m: \tstride_1: 3\n",
      "\u001b[34m\u001b[1mwandb\u001b[0m: \tstride_2: 5\n",
      "\u001b[34m\u001b[1mwandb\u001b[0m: \tweight_decay: 0.00018364337673363264\n"
     ]
    },
    {
     "data": {
      "text/html": [
       "Tracking run with wandb version 0.13.4"
      ],
      "text/plain": [
       "<IPython.core.display.HTML object>"
      ]
     },
     "metadata": {},
     "output_type": "display_data"
    },
    {
     "data": {
      "text/html": [
       "Run data is saved locally in <code>/home/quanhhh/Documents/model/wandb/run-20221019_115135-98gwrglc</code>"
      ],
      "text/plain": [
       "<IPython.core.display.HTML object>"
      ]
     },
     "metadata": {},
     "output_type": "display_data"
    },
    {
     "data": {
      "text/html": [
       "Syncing run <strong><a href=\"https://wandb.ai/maiquanh/quanh/runs/98gwrglc\" target=\"_blank\">lively-sweep-54</a></strong> to <a href=\"https://wandb.ai/maiquanh/quanh\" target=\"_blank\">Weights & Biases</a> (<a href=\"https://wandb.me/run\" target=\"_blank\">docs</a>)<br/>Sweep page:  <a href=\"https://wandb.ai/maiquanh/quanh/sweeps/8p4zr03y\" target=\"_blank\">https://wandb.ai/maiquanh/quanh/sweeps/8p4zr03y</a>"
      ],
      "text/plain": [
       "<IPython.core.display.HTML object>"
      ]
     },
     "metadata": {},
     "output_type": "display_data"
    },
    {
     "name": "stdout",
     "output_type": "stream",
     "text": [
      "-----START TRAINING CLASSIFICATION-----\n",
      "Epoch: 91\t| Train_loss: 0.006478\t|Train accuracy: 98.536006\t| Test_loss: 0.003714\t|Test accuracy: 90.823328\t|Val accuracy: 79.933334 \n",
      "\n",
      "----COMPLETED TRAINING CLASSIFICATION-----\n",
      "val_acc 79.93333435058594\n",
      "ok\n"
     ]
    },
    {
     "data": {
      "text/html": [
       "Waiting for W&B process to finish... <strong style=\"color:green\">(success).</strong>"
      ],
      "text/plain": [
       "<IPython.core.display.HTML object>"
      ]
     },
     "metadata": {},
     "output_type": "display_data"
    },
    {
     "data": {
      "text/html": [
       "<style>\n",
       "    table.wandb td:nth-child(1) { padding: 0 10px; text-align: left ; width: auto;} td:nth-child(2) {text-align: left ; width: 100%}\n",
       "    .wandb-row { display: flex; flex-direction: row; flex-wrap: wrap; justify-content: flex-start; width: 100% }\n",
       "    .wandb-col { display: flex; flex-direction: column; flex-basis: 100%; flex: 1; padding: 10px; }\n",
       "    </style>\n",
       "<div class=\"wandb-row\"><div class=\"wandb-col\"><h3>Run history:</h3><br/><table class=\"wandb\"><tr><td>test_loss</td><td>████▇▆▆▅▅▅▅▄▅▄▅▅▄▄▄▅▄▄▄▄▄▄▄▃▃▃▂▂▂▂▂▂▁▁▁▁</td></tr><tr><td>train_loss</td><td>████▇▆▆▅▅▅▅▅▄▄▄▄▄▄▄▄▄▃▃▃▃▃▃▃▃▂▂▂▂▂▁▁▁▁▁▁</td></tr><tr><td>val_acc</td><td>▁</td></tr></table><br/></div><div class=\"wandb-col\"><h3>Run summary:</h3><br/><table class=\"wandb\"><tr><td>test_loss</td><td>0.00371</td></tr><tr><td>train_loss</td><td>0.00648</td></tr><tr><td>val_acc</td><td>84.16666</td></tr></table><br/></div></div>"
      ],
      "text/plain": [
       "<IPython.core.display.HTML object>"
      ]
     },
     "metadata": {},
     "output_type": "display_data"
    },
    {
     "data": {
      "text/html": [
       "Synced <strong style=\"color:#cdcd00\">lively-sweep-54</strong>: <a href=\"https://wandb.ai/maiquanh/quanh/runs/98gwrglc\" target=\"_blank\">https://wandb.ai/maiquanh/quanh/runs/98gwrglc</a><br/>Synced 6 W&B file(s), 0 media file(s), 0 artifact file(s) and 0 other file(s)"
      ],
      "text/plain": [
       "<IPython.core.display.HTML object>"
      ]
     },
     "metadata": {},
     "output_type": "display_data"
    },
    {
     "data": {
      "text/html": [
       "Find logs at: <code>./wandb/run-20221019_115135-98gwrglc/logs</code>"
      ],
      "text/plain": [
       "<IPython.core.display.HTML object>"
      ]
     },
     "metadata": {},
     "output_type": "display_data"
    },
    {
     "name": "stderr",
     "output_type": "stream",
     "text": [
      "\u001b[34m\u001b[1mwandb\u001b[0m: Agent Starting Run: rpncdl41 with config:\n",
      "\u001b[34m\u001b[1mwandb\u001b[0m: \tbatch_size: 128\n",
      "\u001b[34m\u001b[1mwandb\u001b[0m: \td_hidden: 3\n",
      "\u001b[34m\u001b[1mwandb\u001b[0m: \tdata_dir: /home/quanhhh/Documents/model/pickle/\n",
      "\u001b[34m\u001b[1mwandb\u001b[0m: \tdropout: 0.15310244609486573\n",
      "\u001b[34m\u001b[1mwandb\u001b[0m: \tkernel_size_1: 90\n",
      "\u001b[34m\u001b[1mwandb\u001b[0m: \tkernel_size_2: 6\n",
      "\u001b[34m\u001b[1mwandb\u001b[0m: \tlr: 0.0022798570528663165\n",
      "\u001b[34m\u001b[1mwandb\u001b[0m: \tmaxpool_1: 8\n",
      "\u001b[34m\u001b[1mwandb\u001b[0m: \tmaxpool_2: 8\n",
      "\u001b[34m\u001b[1mwandb\u001b[0m: \tnum_epoch: 98\n",
      "\u001b[34m\u001b[1mwandb\u001b[0m: \tnum_filters: 54\n",
      "\u001b[34m\u001b[1mwandb\u001b[0m: \tnum_layers: 2\n",
      "\u001b[34m\u001b[1mwandb\u001b[0m: \tresult_dir: /home/quanhhh/Documents/model/result_wandb/\n",
      "\u001b[34m\u001b[1mwandb\u001b[0m: \tstride_1: 7\n",
      "\u001b[34m\u001b[1mwandb\u001b[0m: \tstride_2: 3\n",
      "\u001b[34m\u001b[1mwandb\u001b[0m: \tweight_decay: 0.0001557476671470122\n"
     ]
    },
    {
     "data": {
      "text/html": [
       "Tracking run with wandb version 0.13.4"
      ],
      "text/plain": [
       "<IPython.core.display.HTML object>"
      ]
     },
     "metadata": {},
     "output_type": "display_data"
    },
    {
     "data": {
      "text/html": [
       "Run data is saved locally in <code>/home/quanhhh/Documents/model/wandb/run-20221019_115636-rpncdl41</code>"
      ],
      "text/plain": [
       "<IPython.core.display.HTML object>"
      ]
     },
     "metadata": {},
     "output_type": "display_data"
    },
    {
     "data": {
      "text/html": [
       "Syncing run <strong><a href=\"https://wandb.ai/maiquanh/quanh/runs/rpncdl41\" target=\"_blank\">sweet-sweep-55</a></strong> to <a href=\"https://wandb.ai/maiquanh/quanh\" target=\"_blank\">Weights & Biases</a> (<a href=\"https://wandb.me/run\" target=\"_blank\">docs</a>)<br/>Sweep page:  <a href=\"https://wandb.ai/maiquanh/quanh/sweeps/8p4zr03y\" target=\"_blank\">https://wandb.ai/maiquanh/quanh/sweeps/8p4zr03y</a>"
      ],
      "text/plain": [
       "<IPython.core.display.HTML object>"
      ]
     },
     "metadata": {},
     "output_type": "display_data"
    },
    {
     "name": "stdout",
     "output_type": "stream",
     "text": [
      "-----START TRAINING CLASSIFICATION-----\n",
      "Epoch: 98\t| Train_loss: 0.005642\t|Train accuracy: 85.927196\t| Test_loss: 0.003641\t|Test accuracy: 78.173242\t|Val accuracy: 74.466667 \n",
      "\n",
      "----COMPLETED TRAINING CLASSIFICATION-----\n",
      "val_acc 74.46666717529297\n",
      "ok\n"
     ]
    },
    {
     "data": {
      "text/html": [
       "Waiting for W&B process to finish... <strong style=\"color:green\">(success).</strong>"
      ],
      "text/plain": [
       "<IPython.core.display.HTML object>"
      ]
     },
     "metadata": {},
     "output_type": "display_data"
    },
    {
     "data": {
      "text/html": [
       "<style>\n",
       "    table.wandb td:nth-child(1) { padding: 0 10px; text-align: left ; width: auto;} td:nth-child(2) {text-align: left ; width: 100%}\n",
       "    .wandb-row { display: flex; flex-direction: row; flex-wrap: wrap; justify-content: flex-start; width: 100% }\n",
       "    .wandb-col { display: flex; flex-direction: column; flex-basis: 100%; flex: 1; padding: 10px; }\n",
       "    </style>\n",
       "<div class=\"wandb-row\"><div class=\"wandb-col\"><h3>Run history:</h3><br/><table class=\"wandb\"><tr><td>test_loss</td><td>█▅▃▃▄▄▃▄▄▃▂▂▁▁▃▃▃▃▂▂▂▃▂▁▂▃▁▁▃▃▃▂▂▂▁▃▂▂▃▄</td></tr><tr><td>train_loss</td><td>█▃▂▂▂▁▁▁▁▁▁▁▁▁▁▁▁▁▁▁▁▁▁▁▁▁▁▁▁▁▁▁▁▁▁▁▁▁▁▁</td></tr><tr><td>val_acc</td><td>▁</td></tr></table><br/></div><div class=\"wandb-col\"><h3>Run summary:</h3><br/><table class=\"wandb\"><tr><td>test_loss</td><td>0.00364</td></tr><tr><td>train_loss</td><td>0.00564</td></tr><tr><td>val_acc</td><td>90.43333</td></tr></table><br/></div></div>"
      ],
      "text/plain": [
       "<IPython.core.display.HTML object>"
      ]
     },
     "metadata": {},
     "output_type": "display_data"
    },
    {
     "data": {
      "text/html": [
       "Synced <strong style=\"color:#cdcd00\">sweet-sweep-55</strong>: <a href=\"https://wandb.ai/maiquanh/quanh/runs/rpncdl41\" target=\"_blank\">https://wandb.ai/maiquanh/quanh/runs/rpncdl41</a><br/>Synced 6 W&B file(s), 0 media file(s), 0 artifact file(s) and 0 other file(s)"
      ],
      "text/plain": [
       "<IPython.core.display.HTML object>"
      ]
     },
     "metadata": {},
     "output_type": "display_data"
    },
    {
     "data": {
      "text/html": [
       "Find logs at: <code>./wandb/run-20221019_115636-rpncdl41/logs</code>"
      ],
      "text/plain": [
       "<IPython.core.display.HTML object>"
      ]
     },
     "metadata": {},
     "output_type": "display_data"
    },
    {
     "name": "stderr",
     "output_type": "stream",
     "text": [
      "\u001b[34m\u001b[1mwandb\u001b[0m: Agent Starting Run: irhyctpc with config:\n",
      "\u001b[34m\u001b[1mwandb\u001b[0m: \tbatch_size: 128\n",
      "\u001b[34m\u001b[1mwandb\u001b[0m: \td_hidden: 3\n",
      "\u001b[34m\u001b[1mwandb\u001b[0m: \tdata_dir: /home/quanhhh/Documents/model/pickle/\n",
      "\u001b[34m\u001b[1mwandb\u001b[0m: \tdropout: 0.12937379200063134\n",
      "\u001b[34m\u001b[1mwandb\u001b[0m: \tkernel_size_1: 56\n",
      "\u001b[34m\u001b[1mwandb\u001b[0m: \tkernel_size_2: 5\n",
      "\u001b[34m\u001b[1mwandb\u001b[0m: \tlr: 0.00011648747227869402\n",
      "\u001b[34m\u001b[1mwandb\u001b[0m: \tmaxpool_1: 7\n",
      "\u001b[34m\u001b[1mwandb\u001b[0m: \tmaxpool_2: 3\n",
      "\u001b[34m\u001b[1mwandb\u001b[0m: \tnum_epoch: 92\n",
      "\u001b[34m\u001b[1mwandb\u001b[0m: \tnum_filters: 24\n",
      "\u001b[34m\u001b[1mwandb\u001b[0m: \tnum_layers: 3\n",
      "\u001b[34m\u001b[1mwandb\u001b[0m: \tresult_dir: /home/quanhhh/Documents/model/result_wandb/\n",
      "\u001b[34m\u001b[1mwandb\u001b[0m: \tstride_1: 3\n",
      "\u001b[34m\u001b[1mwandb\u001b[0m: \tstride_2: 5\n",
      "\u001b[34m\u001b[1mwandb\u001b[0m: \tweight_decay: 0.0001372984960018961\n"
     ]
    },
    {
     "data": {
      "text/html": [
       "Tracking run with wandb version 0.13.4"
      ],
      "text/plain": [
       "<IPython.core.display.HTML object>"
      ]
     },
     "metadata": {},
     "output_type": "display_data"
    },
    {
     "data": {
      "text/html": [
       "Run data is saved locally in <code>/home/quanhhh/Documents/model/wandb/run-20221019_120033-irhyctpc</code>"
      ],
      "text/plain": [
       "<IPython.core.display.HTML object>"
      ]
     },
     "metadata": {},
     "output_type": "display_data"
    },
    {
     "data": {
      "text/html": [
       "Syncing run <strong><a href=\"https://wandb.ai/maiquanh/quanh/runs/irhyctpc\" target=\"_blank\">skilled-sweep-56</a></strong> to <a href=\"https://wandb.ai/maiquanh/quanh\" target=\"_blank\">Weights & Biases</a> (<a href=\"https://wandb.me/run\" target=\"_blank\">docs</a>)<br/>Sweep page:  <a href=\"https://wandb.ai/maiquanh/quanh/sweeps/8p4zr03y\" target=\"_blank\">https://wandb.ai/maiquanh/quanh/sweeps/8p4zr03y</a>"
      ],
      "text/plain": [
       "<IPython.core.display.HTML object>"
      ]
     },
     "metadata": {},
     "output_type": "display_data"
    },
    {
     "name": "stdout",
     "output_type": "stream",
     "text": [
      "-----START TRAINING CLASSIFICATION-----\n",
      "Epoch: 92\t| Train_loss: 0.006626\t|Train accuracy: 98.997626\t| Test_loss: 0.003561\t|Test accuracy: 97.727273\t|Val accuracy: 80.900002 \n",
      "\n",
      "----COMPLETED TRAINING CLASSIFICATION-----\n",
      "val_acc 80.9000015258789\n",
      "ok\n"
     ]
    },
    {
     "data": {
      "text/html": [
       "Waiting for W&B process to finish... <strong style=\"color:green\">(success).</strong>"
      ],
      "text/plain": [
       "<IPython.core.display.HTML object>"
      ]
     },
     "metadata": {},
     "output_type": "display_data"
    },
    {
     "data": {
      "text/html": [
       "<style>\n",
       "    table.wandb td:nth-child(1) { padding: 0 10px; text-align: left ; width: auto;} td:nth-child(2) {text-align: left ; width: 100%}\n",
       "    .wandb-row { display: flex; flex-direction: row; flex-wrap: wrap; justify-content: flex-start; width: 100% }\n",
       "    .wandb-col { display: flex; flex-direction: column; flex-basis: 100%; flex: 1; padding: 10px; }\n",
       "    </style>\n",
       "<div class=\"wandb-row\"><div class=\"wandb-col\"><h3>Run history:</h3><br/><table class=\"wandb\"><tr><td>test_loss</td><td>███████▇▇▇▇▆▆▆▅▅▅▅▄▅▄▄▄▃▃▃▃▃▂▂▂▂▂▁▁▁▁▃▁▁</td></tr><tr><td>train_loss</td><td>██████▇▇▇▆▆▆▆▅▅▅▅▄▄▄▄▃▃▃▃▃▂▂▂▂▂▂▂▂▁▁▁▁▁▁</td></tr><tr><td>val_acc</td><td>▁</td></tr></table><br/></div><div class=\"wandb-col\"><h3>Run summary:</h3><br/><table class=\"wandb\"><tr><td>test_loss</td><td>0.00356</td></tr><tr><td>train_loss</td><td>0.00663</td></tr><tr><td>val_acc</td><td>86.76666</td></tr></table><br/></div></div>"
      ],
      "text/plain": [
       "<IPython.core.display.HTML object>"
      ]
     },
     "metadata": {},
     "output_type": "display_data"
    },
    {
     "data": {
      "text/html": [
       "Synced <strong style=\"color:#cdcd00\">skilled-sweep-56</strong>: <a href=\"https://wandb.ai/maiquanh/quanh/runs/irhyctpc\" target=\"_blank\">https://wandb.ai/maiquanh/quanh/runs/irhyctpc</a><br/>Synced 6 W&B file(s), 0 media file(s), 0 artifact file(s) and 0 other file(s)"
      ],
      "text/plain": [
       "<IPython.core.display.HTML object>"
      ]
     },
     "metadata": {},
     "output_type": "display_data"
    },
    {
     "data": {
      "text/html": [
       "Find logs at: <code>./wandb/run-20221019_120033-irhyctpc/logs</code>"
      ],
      "text/plain": [
       "<IPython.core.display.HTML object>"
      ]
     },
     "metadata": {},
     "output_type": "display_data"
    },
    {
     "name": "stderr",
     "output_type": "stream",
     "text": [
      "\u001b[34m\u001b[1mwandb\u001b[0m: Agent Starting Run: maq7i9wd with config:\n",
      "\u001b[34m\u001b[1mwandb\u001b[0m: \tbatch_size: 128\n",
      "\u001b[34m\u001b[1mwandb\u001b[0m: \td_hidden: 3\n",
      "\u001b[34m\u001b[1mwandb\u001b[0m: \tdata_dir: /home/quanhhh/Documents/model/pickle/\n",
      "\u001b[34m\u001b[1mwandb\u001b[0m: \tdropout: 0.1197966470545258\n",
      "\u001b[34m\u001b[1mwandb\u001b[0m: \tkernel_size_1: 78\n",
      "\u001b[34m\u001b[1mwandb\u001b[0m: \tkernel_size_2: 11\n",
      "\u001b[34m\u001b[1mwandb\u001b[0m: \tlr: 0.0004223963781100458\n",
      "\u001b[34m\u001b[1mwandb\u001b[0m: \tmaxpool_1: 5\n",
      "\u001b[34m\u001b[1mwandb\u001b[0m: \tmaxpool_2: 6\n",
      "\u001b[34m\u001b[1mwandb\u001b[0m: \tnum_epoch: 98\n",
      "\u001b[34m\u001b[1mwandb\u001b[0m: \tnum_filters: 30\n",
      "\u001b[34m\u001b[1mwandb\u001b[0m: \tnum_layers: 2\n",
      "\u001b[34m\u001b[1mwandb\u001b[0m: \tresult_dir: /home/quanhhh/Documents/model/result_wandb/\n",
      "\u001b[34m\u001b[1mwandb\u001b[0m: \tstride_1: 8\n",
      "\u001b[34m\u001b[1mwandb\u001b[0m: \tstride_2: 6\n",
      "\u001b[34m\u001b[1mwandb\u001b[0m: \tweight_decay: 0.00029251272772132686\n"
     ]
    },
    {
     "data": {
      "text/html": [
       "Tracking run with wandb version 0.13.4"
      ],
      "text/plain": [
       "<IPython.core.display.HTML object>"
      ]
     },
     "metadata": {},
     "output_type": "display_data"
    },
    {
     "data": {
      "text/html": [
       "Run data is saved locally in <code>/home/quanhhh/Documents/model/wandb/run-20221019_120348-maq7i9wd</code>"
      ],
      "text/plain": [
       "<IPython.core.display.HTML object>"
      ]
     },
     "metadata": {},
     "output_type": "display_data"
    },
    {
     "data": {
      "text/html": [
       "Syncing run <strong><a href=\"https://wandb.ai/maiquanh/quanh/runs/maq7i9wd\" target=\"_blank\">true-sweep-57</a></strong> to <a href=\"https://wandb.ai/maiquanh/quanh\" target=\"_blank\">Weights & Biases</a> (<a href=\"https://wandb.me/run\" target=\"_blank\">docs</a>)<br/>Sweep page:  <a href=\"https://wandb.ai/maiquanh/quanh/sweeps/8p4zr03y\" target=\"_blank\">https://wandb.ai/maiquanh/quanh/sweeps/8p4zr03y</a>"
      ],
      "text/plain": [
       "<IPython.core.display.HTML object>"
      ]
     },
     "metadata": {},
     "output_type": "display_data"
    },
    {
     "name": "stdout",
     "output_type": "stream",
     "text": [
      "-----START TRAINING CLASSIFICATION-----\n",
      "Epoch: 98\t| Train_loss: 0.005912\t|Train accuracy: 97.586389\t| Test_loss: 0.003649\t|Test accuracy: 80.617496\t|Val accuracy: 76.133331 \n",
      "\n",
      "----COMPLETED TRAINING CLASSIFICATION-----\n",
      "val_acc 76.13333129882812\n",
      "ok\n"
     ]
    },
    {
     "data": {
      "text/html": [
       "Waiting for W&B process to finish... <strong style=\"color:green\">(success).</strong>"
      ],
      "text/plain": [
       "<IPython.core.display.HTML object>"
      ]
     },
     "metadata": {},
     "output_type": "display_data"
    },
    {
     "data": {
      "text/html": [
       "<style>\n",
       "    table.wandb td:nth-child(1) { padding: 0 10px; text-align: left ; width: auto;} td:nth-child(2) {text-align: left ; width: 100%}\n",
       "    .wandb-row { display: flex; flex-direction: row; flex-wrap: wrap; justify-content: flex-start; width: 100% }\n",
       "    .wandb-col { display: flex; flex-direction: column; flex-basis: 100%; flex: 1; padding: 10px; }\n",
       "    </style>\n",
       "<div class=\"wandb-row\"><div class=\"wandb-col\"><h3>Run history:</h3><br/><table class=\"wandb\"><tr><td>test_loss</td><td>█▇▇▆▅▅▅▃▄▃▃▂▂▂▃▂▂▂▃▁▂▂▁▁▂▁▂▁▁▁▁▁▂▁▁▂▁▂▄▃</td></tr><tr><td>train_loss</td><td>█▇▆▅▅▄▃▂▂▂▂▂▁▁▁▁▁▁▁▁▁▁▁▁▁▁▁▁▁▁▁▁▁▁▁▁▁▁▁▁</td></tr><tr><td>val_acc</td><td>▁</td></tr></table><br/></div><div class=\"wandb-col\"><h3>Run summary:</h3><br/><table class=\"wandb\"><tr><td>test_loss</td><td>0.00365</td></tr><tr><td>train_loss</td><td>0.00591</td></tr><tr><td>val_acc</td><td>93.8</td></tr></table><br/></div></div>"
      ],
      "text/plain": [
       "<IPython.core.display.HTML object>"
      ]
     },
     "metadata": {},
     "output_type": "display_data"
    },
    {
     "data": {
      "text/html": [
       "Synced <strong style=\"color:#cdcd00\">true-sweep-57</strong>: <a href=\"https://wandb.ai/maiquanh/quanh/runs/maq7i9wd\" target=\"_blank\">https://wandb.ai/maiquanh/quanh/runs/maq7i9wd</a><br/>Synced 6 W&B file(s), 0 media file(s), 0 artifact file(s) and 0 other file(s)"
      ],
      "text/plain": [
       "<IPython.core.display.HTML object>"
      ]
     },
     "metadata": {},
     "output_type": "display_data"
    },
    {
     "data": {
      "text/html": [
       "Find logs at: <code>./wandb/run-20221019_120348-maq7i9wd/logs</code>"
      ],
      "text/plain": [
       "<IPython.core.display.HTML object>"
      ]
     },
     "metadata": {},
     "output_type": "display_data"
    },
    {
     "name": "stderr",
     "output_type": "stream",
     "text": [
      "\u001b[34m\u001b[1mwandb\u001b[0m: Agent Starting Run: dqgz7gv2 with config:\n",
      "\u001b[34m\u001b[1mwandb\u001b[0m: \tbatch_size: 128\n",
      "\u001b[34m\u001b[1mwandb\u001b[0m: \td_hidden: 3\n",
      "\u001b[34m\u001b[1mwandb\u001b[0m: \tdata_dir: /home/quanhhh/Documents/model/pickle/\n",
      "\u001b[34m\u001b[1mwandb\u001b[0m: \tdropout: 0.12727010553284107\n",
      "\u001b[34m\u001b[1mwandb\u001b[0m: \tkernel_size_1: 50\n",
      "\u001b[34m\u001b[1mwandb\u001b[0m: \tkernel_size_2: 4\n",
      "\u001b[34m\u001b[1mwandb\u001b[0m: \tlr: 0.0004314338858764021\n",
      "\u001b[34m\u001b[1mwandb\u001b[0m: \tmaxpool_1: 7\n",
      "\u001b[34m\u001b[1mwandb\u001b[0m: \tmaxpool_2: 4\n",
      "\u001b[34m\u001b[1mwandb\u001b[0m: \tnum_epoch: 100\n",
      "\u001b[34m\u001b[1mwandb\u001b[0m: \tnum_filters: 30\n",
      "\u001b[34m\u001b[1mwandb\u001b[0m: \tnum_layers: 2\n",
      "\u001b[34m\u001b[1mwandb\u001b[0m: \tresult_dir: /home/quanhhh/Documents/model/result_wandb/\n",
      "\u001b[34m\u001b[1mwandb\u001b[0m: \tstride_1: 8\n",
      "\u001b[34m\u001b[1mwandb\u001b[0m: \tstride_2: 7\n",
      "\u001b[34m\u001b[1mwandb\u001b[0m: \tweight_decay: 0.00013766689899521092\n"
     ]
    },
    {
     "data": {
      "text/html": [
       "Tracking run with wandb version 0.13.4"
      ],
      "text/plain": [
       "<IPython.core.display.HTML object>"
      ]
     },
     "metadata": {},
     "output_type": "display_data"
    },
    {
     "data": {
      "text/html": [
       "Run data is saved locally in <code>/home/quanhhh/Documents/model/wandb/run-20221019_120625-dqgz7gv2</code>"
      ],
      "text/plain": [
       "<IPython.core.display.HTML object>"
      ]
     },
     "metadata": {},
     "output_type": "display_data"
    },
    {
     "data": {
      "text/html": [
       "Syncing run <strong><a href=\"https://wandb.ai/maiquanh/quanh/runs/dqgz7gv2\" target=\"_blank\">apricot-sweep-58</a></strong> to <a href=\"https://wandb.ai/maiquanh/quanh\" target=\"_blank\">Weights & Biases</a> (<a href=\"https://wandb.me/run\" target=\"_blank\">docs</a>)<br/>Sweep page:  <a href=\"https://wandb.ai/maiquanh/quanh/sweeps/8p4zr03y\" target=\"_blank\">https://wandb.ai/maiquanh/quanh/sweeps/8p4zr03y</a>"
      ],
      "text/plain": [
       "<IPython.core.display.HTML object>"
      ]
     },
     "metadata": {},
     "output_type": "display_data"
    },
    {
     "name": "stdout",
     "output_type": "stream",
     "text": [
      "-----START TRAINING CLASSIFICATION-----\n",
      "Epoch: 100\t| Train_loss: 0.005950\t|Train accuracy: 98.799789\t| Test_loss: 0.003161\t|Test accuracy: 97.770154\t|Val accuracy: 75.033333 \n",
      "\n",
      "----COMPLETED TRAINING CLASSIFICATION-----\n",
      "val_acc 75.03333282470703\n",
      "ok\n"
     ]
    },
    {
     "data": {
      "text/html": [
       "Waiting for W&B process to finish... <strong style=\"color:green\">(success).</strong>"
      ],
      "text/plain": [
       "<IPython.core.display.HTML object>"
      ]
     },
     "metadata": {},
     "output_type": "display_data"
    },
    {
     "data": {
      "text/html": [
       "<style>\n",
       "    table.wandb td:nth-child(1) { padding: 0 10px; text-align: left ; width: auto;} td:nth-child(2) {text-align: left ; width: 100%}\n",
       "    .wandb-row { display: flex; flex-direction: row; flex-wrap: wrap; justify-content: flex-start; width: 100% }\n",
       "    .wandb-col { display: flex; flex-direction: column; flex-basis: 100%; flex: 1; padding: 10px; }\n",
       "    </style>\n",
       "<div class=\"wandb-row\"><div class=\"wandb-col\"><h3>Run history:</h3><br/><table class=\"wandb\"><tr><td>test_loss</td><td>█▇▆▅▅▅▄▅▃▃▄▃▃▃▃▂▂▃▃▂▂▂▂▂▃▁▂▃▂▂▃▃▁▂▁▂▂▃▁▁</td></tr><tr><td>train_loss</td><td>█▇▆▅▄▄▃▃▂▂▂▂▂▁▂▂▁▁▁▁▁▁▁▁▁▁▁▁▁▁▁▁▁▁▁▁▁▁▁▁</td></tr><tr><td>val_acc</td><td>▁</td></tr></table><br/></div><div class=\"wandb-col\"><h3>Run summary:</h3><br/><table class=\"wandb\"><tr><td>test_loss</td><td>0.00316</td></tr><tr><td>train_loss</td><td>0.00595</td></tr><tr><td>val_acc</td><td>82.96667</td></tr></table><br/></div></div>"
      ],
      "text/plain": [
       "<IPython.core.display.HTML object>"
      ]
     },
     "metadata": {},
     "output_type": "display_data"
    },
    {
     "data": {
      "text/html": [
       "Synced <strong style=\"color:#cdcd00\">apricot-sweep-58</strong>: <a href=\"https://wandb.ai/maiquanh/quanh/runs/dqgz7gv2\" target=\"_blank\">https://wandb.ai/maiquanh/quanh/runs/dqgz7gv2</a><br/>Synced 6 W&B file(s), 0 media file(s), 0 artifact file(s) and 0 other file(s)"
      ],
      "text/plain": [
       "<IPython.core.display.HTML object>"
      ]
     },
     "metadata": {},
     "output_type": "display_data"
    },
    {
     "data": {
      "text/html": [
       "Find logs at: <code>./wandb/run-20221019_120625-dqgz7gv2/logs</code>"
      ],
      "text/plain": [
       "<IPython.core.display.HTML object>"
      ]
     },
     "metadata": {},
     "output_type": "display_data"
    },
    {
     "name": "stderr",
     "output_type": "stream",
     "text": [
      "\u001b[34m\u001b[1mwandb\u001b[0m: Agent Starting Run: 03wamp7s with config:\n",
      "\u001b[34m\u001b[1mwandb\u001b[0m: \tbatch_size: 128\n",
      "\u001b[34m\u001b[1mwandb\u001b[0m: \td_hidden: 3\n",
      "\u001b[34m\u001b[1mwandb\u001b[0m: \tdata_dir: /home/quanhhh/Documents/model/pickle/\n",
      "\u001b[34m\u001b[1mwandb\u001b[0m: \tdropout: 0.19292252640438545\n",
      "\u001b[34m\u001b[1mwandb\u001b[0m: \tkernel_size_1: 99\n",
      "\u001b[34m\u001b[1mwandb\u001b[0m: \tkernel_size_2: 4\n",
      "\u001b[34m\u001b[1mwandb\u001b[0m: \tlr: 0.0003995813523775101\n",
      "\u001b[34m\u001b[1mwandb\u001b[0m: \tmaxpool_1: 4\n",
      "\u001b[34m\u001b[1mwandb\u001b[0m: \tmaxpool_2: 4\n",
      "\u001b[34m\u001b[1mwandb\u001b[0m: \tnum_epoch: 99\n",
      "\u001b[34m\u001b[1mwandb\u001b[0m: \tnum_filters: 22\n",
      "\u001b[34m\u001b[1mwandb\u001b[0m: \tnum_layers: 2\n",
      "\u001b[34m\u001b[1mwandb\u001b[0m: \tresult_dir: /home/quanhhh/Documents/model/result_wandb/\n",
      "\u001b[34m\u001b[1mwandb\u001b[0m: \tstride_1: 6\n",
      "\u001b[34m\u001b[1mwandb\u001b[0m: \tstride_2: 8\n",
      "\u001b[34m\u001b[1mwandb\u001b[0m: \tweight_decay: 0.00026178831293435404\n"
     ]
    },
    {
     "data": {
      "text/html": [
       "Tracking run with wandb version 0.13.4"
      ],
      "text/plain": [
       "<IPython.core.display.HTML object>"
      ]
     },
     "metadata": {},
     "output_type": "display_data"
    },
    {
     "data": {
      "text/html": [
       "Run data is saved locally in <code>/home/quanhhh/Documents/model/wandb/run-20221019_120856-03wamp7s</code>"
      ],
      "text/plain": [
       "<IPython.core.display.HTML object>"
      ]
     },
     "metadata": {},
     "output_type": "display_data"
    },
    {
     "data": {
      "text/html": [
       "Syncing run <strong><a href=\"https://wandb.ai/maiquanh/quanh/runs/03wamp7s\" target=\"_blank\">wobbly-sweep-59</a></strong> to <a href=\"https://wandb.ai/maiquanh/quanh\" target=\"_blank\">Weights & Biases</a> (<a href=\"https://wandb.me/run\" target=\"_blank\">docs</a>)<br/>Sweep page:  <a href=\"https://wandb.ai/maiquanh/quanh/sweeps/8p4zr03y\" target=\"_blank\">https://wandb.ai/maiquanh/quanh/sweeps/8p4zr03y</a>"
      ],
      "text/plain": [
       "<IPython.core.display.HTML object>"
      ]
     },
     "metadata": {},
     "output_type": "display_data"
    },
    {
     "name": "stdout",
     "output_type": "stream",
     "text": [
      "-----START TRAINING CLASSIFICATION-----\n",
      "Epoch: 99\t| Train_loss: 0.005605\t|Train accuracy: 99.643893\t| Test_loss: 0.003173\t|Test accuracy: 93.825043\t|Val accuracy: 92.500000 \n",
      "\n",
      "----COMPLETED TRAINING CLASSIFICATION-----\n",
      "val_acc 92.5\n",
      "ok\n"
     ]
    },
    {
     "data": {
      "text/html": [
       "Waiting for W&B process to finish... <strong style=\"color:green\">(success).</strong>"
      ],
      "text/plain": [
       "<IPython.core.display.HTML object>"
      ]
     },
     "metadata": {},
     "output_type": "display_data"
    },
    {
     "data": {
      "text/html": [
       "<style>\n",
       "    table.wandb td:nth-child(1) { padding: 0 10px; text-align: left ; width: auto;} td:nth-child(2) {text-align: left ; width: 100%}\n",
       "    .wandb-row { display: flex; flex-direction: row; flex-wrap: wrap; justify-content: flex-start; width: 100% }\n",
       "    .wandb-col { display: flex; flex-direction: column; flex-basis: 100%; flex: 1; padding: 10px; }\n",
       "    </style>\n",
       "<div class=\"wandb-row\"><div class=\"wandb-col\"><h3>Run history:</h3><br/><table class=\"wandb\"><tr><td>test_loss</td><td>██▇▆▄▃▄▄▄▃▂▂▃▃▃▂▃▁▁▂▁▁▁▂▂▁▁▁▁▁▁▂▁▂▁▁▁▁▁▁</td></tr><tr><td>train_loss</td><td>█▇▆▆▄▃▂▂▂▂▂▁▁▁▁▁▁▁▁▁▁▁▁▁▁▁▁▁▁▁▁▁▁▁▁▁▁▁▁▁</td></tr><tr><td>val_acc</td><td>▁</td></tr></table><br/></div><div class=\"wandb-col\"><h3>Run summary:</h3><br/><table class=\"wandb\"><tr><td>test_loss</td><td>0.00317</td></tr><tr><td>train_loss</td><td>0.00561</td></tr><tr><td>val_acc</td><td>92.5</td></tr></table><br/></div></div>"
      ],
      "text/plain": [
       "<IPython.core.display.HTML object>"
      ]
     },
     "metadata": {},
     "output_type": "display_data"
    },
    {
     "data": {
      "text/html": [
       "Synced <strong style=\"color:#cdcd00\">wobbly-sweep-59</strong>: <a href=\"https://wandb.ai/maiquanh/quanh/runs/03wamp7s\" target=\"_blank\">https://wandb.ai/maiquanh/quanh/runs/03wamp7s</a><br/>Synced 6 W&B file(s), 0 media file(s), 0 artifact file(s) and 0 other file(s)"
      ],
      "text/plain": [
       "<IPython.core.display.HTML object>"
      ]
     },
     "metadata": {},
     "output_type": "display_data"
    },
    {
     "data": {
      "text/html": [
       "Find logs at: <code>./wandb/run-20221019_120856-03wamp7s/logs</code>"
      ],
      "text/plain": [
       "<IPython.core.display.HTML object>"
      ]
     },
     "metadata": {},
     "output_type": "display_data"
    },
    {
     "name": "stderr",
     "output_type": "stream",
     "text": [
      "\u001b[34m\u001b[1mwandb\u001b[0m: Agent Starting Run: ciw141vo with config:\n",
      "\u001b[34m\u001b[1mwandb\u001b[0m: \tbatch_size: 128\n",
      "\u001b[34m\u001b[1mwandb\u001b[0m: \td_hidden: 3\n",
      "\u001b[34m\u001b[1mwandb\u001b[0m: \tdata_dir: /home/quanhhh/Documents/model/pickle/\n",
      "\u001b[34m\u001b[1mwandb\u001b[0m: \tdropout: 0.1888216419770087\n",
      "\u001b[34m\u001b[1mwandb\u001b[0m: \tkernel_size_1: 73\n",
      "\u001b[34m\u001b[1mwandb\u001b[0m: \tkernel_size_2: 8\n",
      "\u001b[34m\u001b[1mwandb\u001b[0m: \tlr: 0.001397366050749588\n",
      "\u001b[34m\u001b[1mwandb\u001b[0m: \tmaxpool_1: 8\n",
      "\u001b[34m\u001b[1mwandb\u001b[0m: \tmaxpool_2: 7\n",
      "\u001b[34m\u001b[1mwandb\u001b[0m: \tnum_epoch: 92\n",
      "\u001b[34m\u001b[1mwandb\u001b[0m: \tnum_filters: 40\n",
      "\u001b[34m\u001b[1mwandb\u001b[0m: \tnum_layers: 4\n",
      "\u001b[34m\u001b[1mwandb\u001b[0m: \tresult_dir: /home/quanhhh/Documents/model/result_wandb/\n",
      "\u001b[34m\u001b[1mwandb\u001b[0m: \tstride_1: 7\n",
      "\u001b[34m\u001b[1mwandb\u001b[0m: \tstride_2: 7\n",
      "\u001b[34m\u001b[1mwandb\u001b[0m: \tweight_decay: 0.00019090565451003209\n"
     ]
    },
    {
     "data": {
      "text/html": [
       "Tracking run with wandb version 0.13.4"
      ],
      "text/plain": [
       "<IPython.core.display.HTML object>"
      ]
     },
     "metadata": {},
     "output_type": "display_data"
    },
    {
     "data": {
      "text/html": [
       "Run data is saved locally in <code>/home/quanhhh/Documents/model/wandb/run-20221019_121147-ciw141vo</code>"
      ],
      "text/plain": [
       "<IPython.core.display.HTML object>"
      ]
     },
     "metadata": {},
     "output_type": "display_data"
    },
    {
     "data": {
      "text/html": [
       "Syncing run <strong><a href=\"https://wandb.ai/maiquanh/quanh/runs/ciw141vo\" target=\"_blank\">gallant-sweep-60</a></strong> to <a href=\"https://wandb.ai/maiquanh/quanh\" target=\"_blank\">Weights & Biases</a> (<a href=\"https://wandb.me/run\" target=\"_blank\">docs</a>)<br/>Sweep page:  <a href=\"https://wandb.ai/maiquanh/quanh/sweeps/8p4zr03y\" target=\"_blank\">https://wandb.ai/maiquanh/quanh/sweeps/8p4zr03y</a>"
      ],
      "text/plain": [
       "<IPython.core.display.HTML object>"
      ]
     },
     "metadata": {},
     "output_type": "display_data"
    },
    {
     "name": "stdout",
     "output_type": "stream",
     "text": [
      "-----START TRAINING CLASSIFICATION-----\n",
      "Epoch: 92\t| Train_loss: 0.005740\t|Train accuracy: 97.283039\t| Test_loss: 0.003569\t|Test accuracy: 80.445969\t|Val accuracy: 76.500000 \n",
      "\n",
      "----COMPLETED TRAINING CLASSIFICATION-----\n",
      "val_acc 76.5\n",
      "ok\n"
     ]
    },
    {
     "data": {
      "text/html": [
       "Waiting for W&B process to finish... <strong style=\"color:green\">(success).</strong>"
      ],
      "text/plain": [
       "<IPython.core.display.HTML object>"
      ]
     },
     "metadata": {},
     "output_type": "display_data"
    },
    {
     "data": {
      "text/html": [
       "<style>\n",
       "    table.wandb td:nth-child(1) { padding: 0 10px; text-align: left ; width: auto;} td:nth-child(2) {text-align: left ; width: 100%}\n",
       "    .wandb-row { display: flex; flex-direction: row; flex-wrap: wrap; justify-content: flex-start; width: 100% }\n",
       "    .wandb-col { display: flex; flex-direction: column; flex-basis: 100%; flex: 1; padding: 10px; }\n",
       "    </style>\n",
       "<div class=\"wandb-row\"><div class=\"wandb-col\"><h3>Run history:</h3><br/><table class=\"wandb\"><tr><td>test_loss</td><td>█▃▄▃▂▁▂▁▁▁▂▂▂▃▂▁▁▂▃▂▁▂▂▂▂▁▃▂▂▂▁▁▁▁▁▁▁▄▁▁</td></tr><tr><td>train_loss</td><td>█▄▃▂▂▁▁▁▁▁▁▁▁▂▁▁▁▂▃▂▁▁▁▁▁▁▁▁▁▁▁▁▁▁▁▁▁▁▁▁</td></tr><tr><td>val_acc</td><td>▁</td></tr></table><br/></div><div class=\"wandb-col\"><h3>Run summary:</h3><br/><table class=\"wandb\"><tr><td>test_loss</td><td>0.00357</td></tr><tr><td>train_loss</td><td>0.00574</td></tr><tr><td>val_acc</td><td>77.43333</td></tr></table><br/></div></div>"
      ],
      "text/plain": [
       "<IPython.core.display.HTML object>"
      ]
     },
     "metadata": {},
     "output_type": "display_data"
    },
    {
     "data": {
      "text/html": [
       "Synced <strong style=\"color:#cdcd00\">gallant-sweep-60</strong>: <a href=\"https://wandb.ai/maiquanh/quanh/runs/ciw141vo\" target=\"_blank\">https://wandb.ai/maiquanh/quanh/runs/ciw141vo</a><br/>Synced 6 W&B file(s), 0 media file(s), 0 artifact file(s) and 0 other file(s)"
      ],
      "text/plain": [
       "<IPython.core.display.HTML object>"
      ]
     },
     "metadata": {},
     "output_type": "display_data"
    },
    {
     "data": {
      "text/html": [
       "Find logs at: <code>./wandb/run-20221019_121147-ciw141vo/logs</code>"
      ],
      "text/plain": [
       "<IPython.core.display.HTML object>"
      ]
     },
     "metadata": {},
     "output_type": "display_data"
    },
    {
     "name": "stderr",
     "output_type": "stream",
     "text": [
      "\u001b[34m\u001b[1mwandb\u001b[0m: Agent Starting Run: 2ir13aut with config:\n",
      "\u001b[34m\u001b[1mwandb\u001b[0m: \tbatch_size: 128\n",
      "\u001b[34m\u001b[1mwandb\u001b[0m: \td_hidden: 3\n",
      "\u001b[34m\u001b[1mwandb\u001b[0m: \tdata_dir: /home/quanhhh/Documents/model/pickle/\n",
      "\u001b[34m\u001b[1mwandb\u001b[0m: \tdropout: 0.1497410023694822\n",
      "\u001b[34m\u001b[1mwandb\u001b[0m: \tkernel_size_1: 79\n",
      "\u001b[34m\u001b[1mwandb\u001b[0m: \tkernel_size_2: 11\n",
      "\u001b[34m\u001b[1mwandb\u001b[0m: \tlr: 0.004438506164187326\n",
      "\u001b[34m\u001b[1mwandb\u001b[0m: \tmaxpool_1: 5\n",
      "\u001b[34m\u001b[1mwandb\u001b[0m: \tmaxpool_2: 3\n",
      "\u001b[34m\u001b[1mwandb\u001b[0m: \tnum_epoch: 85\n",
      "\u001b[34m\u001b[1mwandb\u001b[0m: \tnum_filters: 47\n",
      "\u001b[34m\u001b[1mwandb\u001b[0m: \tnum_layers: 3\n",
      "\u001b[34m\u001b[1mwandb\u001b[0m: \tresult_dir: /home/quanhhh/Documents/model/result_wandb/\n",
      "\u001b[34m\u001b[1mwandb\u001b[0m: \tstride_1: 3\n",
      "\u001b[34m\u001b[1mwandb\u001b[0m: \tstride_2: 7\n",
      "\u001b[34m\u001b[1mwandb\u001b[0m: \tweight_decay: 0.0001473679131321847\n"
     ]
    },
    {
     "data": {
      "text/html": [
       "Tracking run with wandb version 0.13.4"
      ],
      "text/plain": [
       "<IPython.core.display.HTML object>"
      ]
     },
     "metadata": {},
     "output_type": "display_data"
    },
    {
     "data": {
      "text/html": [
       "Run data is saved locally in <code>/home/quanhhh/Documents/model/wandb/run-20221019_121451-2ir13aut</code>"
      ],
      "text/plain": [
       "<IPython.core.display.HTML object>"
      ]
     },
     "metadata": {},
     "output_type": "display_data"
    },
    {
     "data": {
      "text/html": [
       "Syncing run <strong><a href=\"https://wandb.ai/maiquanh/quanh/runs/2ir13aut\" target=\"_blank\">lemon-sweep-61</a></strong> to <a href=\"https://wandb.ai/maiquanh/quanh\" target=\"_blank\">Weights & Biases</a> (<a href=\"https://wandb.me/run\" target=\"_blank\">docs</a>)<br/>Sweep page:  <a href=\"https://wandb.ai/maiquanh/quanh/sweeps/8p4zr03y\" target=\"_blank\">https://wandb.ai/maiquanh/quanh/sweeps/8p4zr03y</a>"
      ],
      "text/plain": [
       "<IPython.core.display.HTML object>"
      ]
     },
     "metadata": {},
     "output_type": "display_data"
    },
    {
     "name": "stdout",
     "output_type": "stream",
     "text": [
      "-----START TRAINING CLASSIFICATION-----\n",
      "Epoch: 85\t| Train_loss: 0.005868\t|Train accuracy: 97.217093\t| Test_loss: 0.003469\t|Test accuracy: 89.279588\t|Val accuracy: 90.633331 \n",
      "\n",
      "----COMPLETED TRAINING CLASSIFICATION-----\n",
      "val_acc 90.63333129882812\n",
      "ok\n"
     ]
    },
    {
     "data": {
      "text/html": [
       "Waiting for W&B process to finish... <strong style=\"color:green\">(success).</strong>"
      ],
      "text/plain": [
       "<IPython.core.display.HTML object>"
      ]
     },
     "metadata": {},
     "output_type": "display_data"
    },
    {
     "data": {
      "text/html": [
       "<style>\n",
       "    table.wandb td:nth-child(1) { padding: 0 10px; text-align: left ; width: auto;} td:nth-child(2) {text-align: left ; width: 100%}\n",
       "    .wandb-row { display: flex; flex-direction: row; flex-wrap: wrap; justify-content: flex-start; width: 100% }\n",
       "    .wandb-col { display: flex; flex-direction: column; flex-basis: 100%; flex: 1; padding: 10px; }\n",
       "    </style>\n",
       "<div class=\"wandb-row\"><div class=\"wandb-col\"><h3>Run history:</h3><br/><table class=\"wandb\"><tr><td>test_loss</td><td>█▇▅▄▄▄▄▄▄▂▃▅▃▃▄▂▄▄▄▂▃▂▃▃▃▃▁▂▁▃▂▁▂▃▂▁▂▄▃▂</td></tr><tr><td>train_loss</td><td>█▄▃▂▂▂▂▂▂▂▂▂▂▂▂▂▂▂▂▂▂▂▂▂▂▂▁▁▁▁▁▁▁▁▁▁▁▁▁▁</td></tr><tr><td>val_acc</td><td>▁</td></tr></table><br/></div><div class=\"wandb-col\"><h3>Run summary:</h3><br/><table class=\"wandb\"><tr><td>test_loss</td><td>0.00347</td></tr><tr><td>train_loss</td><td>0.00587</td></tr><tr><td>val_acc</td><td>93.53333</td></tr></table><br/></div></div>"
      ],
      "text/plain": [
       "<IPython.core.display.HTML object>"
      ]
     },
     "metadata": {},
     "output_type": "display_data"
    },
    {
     "data": {
      "text/html": [
       "Synced <strong style=\"color:#cdcd00\">lemon-sweep-61</strong>: <a href=\"https://wandb.ai/maiquanh/quanh/runs/2ir13aut\" target=\"_blank\">https://wandb.ai/maiquanh/quanh/runs/2ir13aut</a><br/>Synced 6 W&B file(s), 0 media file(s), 0 artifact file(s) and 0 other file(s)"
      ],
      "text/plain": [
       "<IPython.core.display.HTML object>"
      ]
     },
     "metadata": {},
     "output_type": "display_data"
    },
    {
     "data": {
      "text/html": [
       "Find logs at: <code>./wandb/run-20221019_121451-2ir13aut/logs</code>"
      ],
      "text/plain": [
       "<IPython.core.display.HTML object>"
      ]
     },
     "metadata": {},
     "output_type": "display_data"
    },
    {
     "name": "stderr",
     "output_type": "stream",
     "text": [
      "\u001b[34m\u001b[1mwandb\u001b[0m: Agent Starting Run: wd00bkt6 with config:\n",
      "\u001b[34m\u001b[1mwandb\u001b[0m: \tbatch_size: 128\n",
      "\u001b[34m\u001b[1mwandb\u001b[0m: \td_hidden: 3\n",
      "\u001b[34m\u001b[1mwandb\u001b[0m: \tdata_dir: /home/quanhhh/Documents/model/pickle/\n",
      "\u001b[34m\u001b[1mwandb\u001b[0m: \tdropout: 0.18846976451248595\n",
      "\u001b[34m\u001b[1mwandb\u001b[0m: \tkernel_size_1: 75\n",
      "\u001b[34m\u001b[1mwandb\u001b[0m: \tkernel_size_2: 10\n",
      "\u001b[34m\u001b[1mwandb\u001b[0m: \tlr: 0.0006431710732156832\n",
      "\u001b[34m\u001b[1mwandb\u001b[0m: \tmaxpool_1: 3\n",
      "\u001b[34m\u001b[1mwandb\u001b[0m: \tmaxpool_2: 8\n",
      "\u001b[34m\u001b[1mwandb\u001b[0m: \tnum_epoch: 80\n",
      "\u001b[34m\u001b[1mwandb\u001b[0m: \tnum_filters: 29\n",
      "\u001b[34m\u001b[1mwandb\u001b[0m: \tnum_layers: 3\n",
      "\u001b[34m\u001b[1mwandb\u001b[0m: \tresult_dir: /home/quanhhh/Documents/model/result_wandb/\n",
      "\u001b[34m\u001b[1mwandb\u001b[0m: \tstride_1: 7\n",
      "\u001b[34m\u001b[1mwandb\u001b[0m: \tstride_2: 8\n",
      "\u001b[34m\u001b[1mwandb\u001b[0m: \tweight_decay: 0.0001015492009750576\n"
     ]
    },
    {
     "data": {
      "text/html": [
       "Tracking run with wandb version 0.13.4"
      ],
      "text/plain": [
       "<IPython.core.display.HTML object>"
      ]
     },
     "metadata": {},
     "output_type": "display_data"
    },
    {
     "data": {
      "text/html": [
       "Run data is saved locally in <code>/home/quanhhh/Documents/model/wandb/run-20221019_122022-wd00bkt6</code>"
      ],
      "text/plain": [
       "<IPython.core.display.HTML object>"
      ]
     },
     "metadata": {},
     "output_type": "display_data"
    },
    {
     "data": {
      "text/html": [
       "Syncing run <strong><a href=\"https://wandb.ai/maiquanh/quanh/runs/wd00bkt6\" target=\"_blank\">spring-sweep-62</a></strong> to <a href=\"https://wandb.ai/maiquanh/quanh\" target=\"_blank\">Weights & Biases</a> (<a href=\"https://wandb.me/run\" target=\"_blank\">docs</a>)<br/>Sweep page:  <a href=\"https://wandb.ai/maiquanh/quanh/sweeps/8p4zr03y\" target=\"_blank\">https://wandb.ai/maiquanh/quanh/sweeps/8p4zr03y</a>"
      ],
      "text/plain": [
       "<IPython.core.display.HTML object>"
      ]
     },
     "metadata": {},
     "output_type": "display_data"
    },
    {
     "name": "stdout",
     "output_type": "stream",
     "text": [
      "-----START TRAINING CLASSIFICATION-----\n",
      "Epoch: 80\t| Train_loss: 0.005829\t|Train accuracy: 98.892113\t| Test_loss: 0.003292\t|Test accuracy: 95.411664\t|Val accuracy: 94.366669 \n",
      "\n",
      "----COMPLETED TRAINING CLASSIFICATION-----\n",
      "val_acc 94.36666870117188\n",
      "ok\n"
     ]
    },
    {
     "data": {
      "text/html": [
       "Waiting for W&B process to finish... <strong style=\"color:green\">(success).</strong>"
      ],
      "text/plain": [
       "<IPython.core.display.HTML object>"
      ]
     },
     "metadata": {},
     "output_type": "display_data"
    },
    {
     "data": {
      "text/html": [
       "<style>\n",
       "    table.wandb td:nth-child(1) { padding: 0 10px; text-align: left ; width: auto;} td:nth-child(2) {text-align: left ; width: 100%}\n",
       "    .wandb-row { display: flex; flex-direction: row; flex-wrap: wrap; justify-content: flex-start; width: 100% }\n",
       "    .wandb-col { display: flex; flex-direction: column; flex-basis: 100%; flex: 1; padding: 10px; }\n",
       "    </style>\n",
       "<div class=\"wandb-row\"><div class=\"wandb-col\"><h3>Run history:</h3><br/><table class=\"wandb\"><tr><td>test_loss</td><td>█▇▆▆▆▅▄▄▃▃▃▃▃▃▃▃▃▂▃▂▃▂▁▁▁▁▂▁▁▂▁▁▂▁▂▂▁▁▁▁</td></tr><tr><td>train_loss</td><td>█▇▆▅▅▄▃▂▂▂▂▁▁▁▁▂▁▁▁▁▁▁▁▁▁▁▁▁▁▁▁▁▁▁▁▁▁▁▁▁</td></tr><tr><td>val_acc</td><td>▁</td></tr></table><br/></div><div class=\"wandb-col\"><h3>Run summary:</h3><br/><table class=\"wandb\"><tr><td>test_loss</td><td>0.00329</td></tr><tr><td>train_loss</td><td>0.00583</td></tr><tr><td>val_acc</td><td>94.36667</td></tr></table><br/></div></div>"
      ],
      "text/plain": [
       "<IPython.core.display.HTML object>"
      ]
     },
     "metadata": {},
     "output_type": "display_data"
    },
    {
     "data": {
      "text/html": [
       "Synced <strong style=\"color:#cdcd00\">spring-sweep-62</strong>: <a href=\"https://wandb.ai/maiquanh/quanh/runs/wd00bkt6\" target=\"_blank\">https://wandb.ai/maiquanh/quanh/runs/wd00bkt6</a><br/>Synced 6 W&B file(s), 0 media file(s), 0 artifact file(s) and 0 other file(s)"
      ],
      "text/plain": [
       "<IPython.core.display.HTML object>"
      ]
     },
     "metadata": {},
     "output_type": "display_data"
    },
    {
     "data": {
      "text/html": [
       "Find logs at: <code>./wandb/run-20221019_122022-wd00bkt6/logs</code>"
      ],
      "text/plain": [
       "<IPython.core.display.HTML object>"
      ]
     },
     "metadata": {},
     "output_type": "display_data"
    },
    {
     "name": "stderr",
     "output_type": "stream",
     "text": [
      "\u001b[34m\u001b[1mwandb\u001b[0m: Agent Starting Run: 8y6j0rcl with config:\n",
      "\u001b[34m\u001b[1mwandb\u001b[0m: \tbatch_size: 128\n",
      "\u001b[34m\u001b[1mwandb\u001b[0m: \td_hidden: 3\n",
      "\u001b[34m\u001b[1mwandb\u001b[0m: \tdata_dir: /home/quanhhh/Documents/model/pickle/\n",
      "\u001b[34m\u001b[1mwandb\u001b[0m: \tdropout: 0.13656205978421193\n",
      "\u001b[34m\u001b[1mwandb\u001b[0m: \tkernel_size_1: 51\n",
      "\u001b[34m\u001b[1mwandb\u001b[0m: \tkernel_size_2: 4\n",
      "\u001b[34m\u001b[1mwandb\u001b[0m: \tlr: 0.00013165984554252918\n",
      "\u001b[34m\u001b[1mwandb\u001b[0m: \tmaxpool_1: 3\n",
      "\u001b[34m\u001b[1mwandb\u001b[0m: \tmaxpool_2: 7\n",
      "\u001b[34m\u001b[1mwandb\u001b[0m: \tnum_epoch: 82\n",
      "\u001b[34m\u001b[1mwandb\u001b[0m: \tnum_filters: 25\n",
      "\u001b[34m\u001b[1mwandb\u001b[0m: \tnum_layers: 2\n",
      "\u001b[34m\u001b[1mwandb\u001b[0m: \tresult_dir: /home/quanhhh/Documents/model/result_wandb/\n",
      "\u001b[34m\u001b[1mwandb\u001b[0m: \tstride_1: 5\n",
      "\u001b[34m\u001b[1mwandb\u001b[0m: \tstride_2: 3\n",
      "\u001b[34m\u001b[1mwandb\u001b[0m: \tweight_decay: 0.00013068310944305028\n"
     ]
    },
    {
     "data": {
      "text/html": [
       "Tracking run with wandb version 0.13.4"
      ],
      "text/plain": [
       "<IPython.core.display.HTML object>"
      ]
     },
     "metadata": {},
     "output_type": "display_data"
    },
    {
     "data": {
      "text/html": [
       "Run data is saved locally in <code>/home/quanhhh/Documents/model/wandb/run-20221019_122243-8y6j0rcl</code>"
      ],
      "text/plain": [
       "<IPython.core.display.HTML object>"
      ]
     },
     "metadata": {},
     "output_type": "display_data"
    },
    {
     "data": {
      "text/html": [
       "Syncing run <strong><a href=\"https://wandb.ai/maiquanh/quanh/runs/8y6j0rcl\" target=\"_blank\">vital-sweep-63</a></strong> to <a href=\"https://wandb.ai/maiquanh/quanh\" target=\"_blank\">Weights & Biases</a> (<a href=\"https://wandb.me/run\" target=\"_blank\">docs</a>)<br/>Sweep page:  <a href=\"https://wandb.ai/maiquanh/quanh/sweeps/8p4zr03y\" target=\"_blank\">https://wandb.ai/maiquanh/quanh/sweeps/8p4zr03y</a>"
      ],
      "text/plain": [
       "<IPython.core.display.HTML object>"
      ]
     },
     "metadata": {},
     "output_type": "display_data"
    },
    {
     "name": "stdout",
     "output_type": "stream",
     "text": [
      "-----START TRAINING CLASSIFICATION-----\n",
      "Epoch: 82\t| Train_loss: 0.006278\t|Train accuracy: 98.826167\t| Test_loss: 0.003655\t|Test accuracy: 90.180103\t|Val accuracy: 87.199997 \n",
      "\n",
      "----COMPLETED TRAINING CLASSIFICATION-----\n",
      "val_acc 87.19999694824219\n",
      "ok\n"
     ]
    },
    {
     "data": {
      "text/html": [
       "Waiting for W&B process to finish... <strong style=\"color:green\">(success).</strong>"
      ],
      "text/plain": [
       "<IPython.core.display.HTML object>"
      ]
     },
     "metadata": {},
     "output_type": "display_data"
    },
    {
     "data": {
      "text/html": [
       "<style>\n",
       "    table.wandb td:nth-child(1) { padding: 0 10px; text-align: left ; width: auto;} td:nth-child(2) {text-align: left ; width: 100%}\n",
       "    .wandb-row { display: flex; flex-direction: row; flex-wrap: wrap; justify-content: flex-start; width: 100% }\n",
       "    .wandb-col { display: flex; flex-direction: column; flex-basis: 100%; flex: 1; padding: 10px; }\n",
       "    </style>\n",
       "<div class=\"wandb-row\"><div class=\"wandb-col\"><h3>Run history:</h3><br/><table class=\"wandb\"><tr><td>test_loss</td><td>██▇▇▇▆▆▆▅▅▅▄▄▄▃▃▃▃▃▃▃▂▂▂▂▂▂▂▂▃▂▁▁▂▂▁▂▂▂▁</td></tr><tr><td>train_loss</td><td>██▇▇▆▆▅▅▅▄▄▄▄▃▃▃▃▃▃▃▂▂▂▂▂▂▂▂▂▂▂▂▁▁▁▁▁▁▁▁</td></tr><tr><td>val_acc</td><td>▁</td></tr></table><br/></div><div class=\"wandb-col\"><h3>Run summary:</h3><br/><table class=\"wandb\"><tr><td>test_loss</td><td>0.00366</td></tr><tr><td>train_loss</td><td>0.00628</td></tr><tr><td>val_acc</td><td>89.36667</td></tr></table><br/></div></div>"
      ],
      "text/plain": [
       "<IPython.core.display.HTML object>"
      ]
     },
     "metadata": {},
     "output_type": "display_data"
    },
    {
     "data": {
      "text/html": [
       "Synced <strong style=\"color:#cdcd00\">vital-sweep-63</strong>: <a href=\"https://wandb.ai/maiquanh/quanh/runs/8y6j0rcl\" target=\"_blank\">https://wandb.ai/maiquanh/quanh/runs/8y6j0rcl</a><br/>Synced 6 W&B file(s), 0 media file(s), 0 artifact file(s) and 0 other file(s)"
      ],
      "text/plain": [
       "<IPython.core.display.HTML object>"
      ]
     },
     "metadata": {},
     "output_type": "display_data"
    },
    {
     "data": {
      "text/html": [
       "Find logs at: <code>./wandb/run-20221019_122243-8y6j0rcl/logs</code>"
      ],
      "text/plain": [
       "<IPython.core.display.HTML object>"
      ]
     },
     "metadata": {},
     "output_type": "display_data"
    },
    {
     "name": "stderr",
     "output_type": "stream",
     "text": [
      "\u001b[34m\u001b[1mwandb\u001b[0m: Agent Starting Run: 1qlo4bjk with config:\n",
      "\u001b[34m\u001b[1mwandb\u001b[0m: \tbatch_size: 128\n",
      "\u001b[34m\u001b[1mwandb\u001b[0m: \td_hidden: 3\n",
      "\u001b[34m\u001b[1mwandb\u001b[0m: \tdata_dir: /home/quanhhh/Documents/model/pickle/\n",
      "\u001b[34m\u001b[1mwandb\u001b[0m: \tdropout: 0.19941806481943627\n",
      "\u001b[34m\u001b[1mwandb\u001b[0m: \tkernel_size_1: 84\n",
      "\u001b[34m\u001b[1mwandb\u001b[0m: \tkernel_size_2: 5\n",
      "\u001b[34m\u001b[1mwandb\u001b[0m: \tlr: 0.0018326120064698864\n",
      "\u001b[34m\u001b[1mwandb\u001b[0m: \tmaxpool_1: 6\n",
      "\u001b[34m\u001b[1mwandb\u001b[0m: \tmaxpool_2: 4\n",
      "\u001b[34m\u001b[1mwandb\u001b[0m: \tnum_epoch: 95\n",
      "\u001b[34m\u001b[1mwandb\u001b[0m: \tnum_filters: 29\n",
      "\u001b[34m\u001b[1mwandb\u001b[0m: \tnum_layers: 4\n",
      "\u001b[34m\u001b[1mwandb\u001b[0m: \tresult_dir: /home/quanhhh/Documents/model/result_wandb/\n",
      "\u001b[34m\u001b[1mwandb\u001b[0m: \tstride_1: 8\n",
      "\u001b[34m\u001b[1mwandb\u001b[0m: \tstride_2: 9\n",
      "\u001b[34m\u001b[1mwandb\u001b[0m: \tweight_decay: 0.00011991634187473384\n"
     ]
    },
    {
     "data": {
      "text/html": [
       "Tracking run with wandb version 0.13.4"
      ],
      "text/plain": [
       "<IPython.core.display.HTML object>"
      ]
     },
     "metadata": {},
     "output_type": "display_data"
    },
    {
     "data": {
      "text/html": [
       "Run data is saved locally in <code>/home/quanhhh/Documents/model/wandb/run-20221019_122509-1qlo4bjk</code>"
      ],
      "text/plain": [
       "<IPython.core.display.HTML object>"
      ]
     },
     "metadata": {},
     "output_type": "display_data"
    },
    {
     "data": {
      "text/html": [
       "Syncing run <strong><a href=\"https://wandb.ai/maiquanh/quanh/runs/1qlo4bjk\" target=\"_blank\">grateful-sweep-64</a></strong> to <a href=\"https://wandb.ai/maiquanh/quanh\" target=\"_blank\">Weights & Biases</a> (<a href=\"https://wandb.me/run\" target=\"_blank\">docs</a>)<br/>Sweep page:  <a href=\"https://wandb.ai/maiquanh/quanh/sweeps/8p4zr03y\" target=\"_blank\">https://wandb.ai/maiquanh/quanh/sweeps/8p4zr03y</a>"
      ],
      "text/plain": [
       "<IPython.core.display.HTML object>"
      ]
     },
     "metadata": {},
     "output_type": "display_data"
    },
    {
     "name": "stdout",
     "output_type": "stream",
     "text": [
      "-----START TRAINING CLASSIFICATION-----\n",
      "Epoch: 95\t| Train_loss: 0.005684\t|Train accuracy: 98.021630\t| Test_loss: 0.003340\t|Test accuracy: 88.807890\t|Val accuracy: 85.466667 \n",
      "\n",
      "----COMPLETED TRAINING CLASSIFICATION-----\n",
      "val_acc 85.46666717529297\n",
      "ok\n"
     ]
    },
    {
     "data": {
      "text/html": [
       "Waiting for W&B process to finish... <strong style=\"color:green\">(success).</strong>"
      ],
      "text/plain": [
       "<IPython.core.display.HTML object>"
      ]
     },
     "metadata": {},
     "output_type": "display_data"
    },
    {
     "data": {
      "text/html": [
       "<style>\n",
       "    table.wandb td:nth-child(1) { padding: 0 10px; text-align: left ; width: auto;} td:nth-child(2) {text-align: left ; width: 100%}\n",
       "    .wandb-row { display: flex; flex-direction: row; flex-wrap: wrap; justify-content: flex-start; width: 100% }\n",
       "    .wandb-col { display: flex; flex-direction: column; flex-basis: 100%; flex: 1; padding: 10px; }\n",
       "    </style>\n",
       "<div class=\"wandb-row\"><div class=\"wandb-col\"><h3>Run history:</h3><br/><table class=\"wandb\"><tr><td>test_loss</td><td>█▆▄▄▃▃▃▆▂▃▃▂▃▃▂▃▃▄▂▃▂▃▂▂▁▄▂▁▃▂▂▂▃▂▂▂▁▂▂▁</td></tr><tr><td>train_loss</td><td>█▅▃▂▂▁▁▂▁▁▁▁▁▁▁▁▁▁▁▁▁▁▁▁▁▁▁▁▁▁▁▁▁▁▁▁▁▁▁▁</td></tr><tr><td>val_acc</td><td>▁</td></tr></table><br/></div><div class=\"wandb-col\"><h3>Run summary:</h3><br/><table class=\"wandb\"><tr><td>test_loss</td><td>0.00334</td></tr><tr><td>train_loss</td><td>0.00568</td></tr><tr><td>val_acc</td><td>90.16666</td></tr></table><br/></div></div>"
      ],
      "text/plain": [
       "<IPython.core.display.HTML object>"
      ]
     },
     "metadata": {},
     "output_type": "display_data"
    },
    {
     "data": {
      "text/html": [
       "Synced <strong style=\"color:#cdcd00\">grateful-sweep-64</strong>: <a href=\"https://wandb.ai/maiquanh/quanh/runs/1qlo4bjk\" target=\"_blank\">https://wandb.ai/maiquanh/quanh/runs/1qlo4bjk</a><br/>Synced 6 W&B file(s), 0 media file(s), 0 artifact file(s) and 0 other file(s)"
      ],
      "text/plain": [
       "<IPython.core.display.HTML object>"
      ]
     },
     "metadata": {},
     "output_type": "display_data"
    },
    {
     "data": {
      "text/html": [
       "Find logs at: <code>./wandb/run-20221019_122509-1qlo4bjk/logs</code>"
      ],
      "text/plain": [
       "<IPython.core.display.HTML object>"
      ]
     },
     "metadata": {},
     "output_type": "display_data"
    },
    {
     "name": "stderr",
     "output_type": "stream",
     "text": [
      "\u001b[34m\u001b[1mwandb\u001b[0m: Agent Starting Run: pioh4mxf with config:\n",
      "\u001b[34m\u001b[1mwandb\u001b[0m: \tbatch_size: 128\n",
      "\u001b[34m\u001b[1mwandb\u001b[0m: \td_hidden: 3\n",
      "\u001b[34m\u001b[1mwandb\u001b[0m: \tdata_dir: /home/quanhhh/Documents/model/pickle/\n",
      "\u001b[34m\u001b[1mwandb\u001b[0m: \tdropout: 0.1156471175095502\n",
      "\u001b[34m\u001b[1mwandb\u001b[0m: \tkernel_size_1: 60\n",
      "\u001b[34m\u001b[1mwandb\u001b[0m: \tkernel_size_2: 9\n",
      "\u001b[34m\u001b[1mwandb\u001b[0m: \tlr: 0.001076473225504648\n",
      "\u001b[34m\u001b[1mwandb\u001b[0m: \tmaxpool_1: 5\n",
      "\u001b[34m\u001b[1mwandb\u001b[0m: \tmaxpool_2: 5\n",
      "\u001b[34m\u001b[1mwandb\u001b[0m: \tnum_epoch: 96\n",
      "\u001b[34m\u001b[1mwandb\u001b[0m: \tnum_filters: 64\n",
      "\u001b[34m\u001b[1mwandb\u001b[0m: \tnum_layers: 2\n",
      "\u001b[34m\u001b[1mwandb\u001b[0m: \tresult_dir: /home/quanhhh/Documents/model/result_wandb/\n",
      "\u001b[34m\u001b[1mwandb\u001b[0m: \tstride_1: 6\n",
      "\u001b[34m\u001b[1mwandb\u001b[0m: \tstride_2: 8\n",
      "\u001b[34m\u001b[1mwandb\u001b[0m: \tweight_decay: 0.000289074489994129\n"
     ]
    },
    {
     "data": {
      "text/html": [
       "Tracking run with wandb version 0.13.4"
      ],
      "text/plain": [
       "<IPython.core.display.HTML object>"
      ]
     },
     "metadata": {},
     "output_type": "display_data"
    },
    {
     "data": {
      "text/html": [
       "Run data is saved locally in <code>/home/quanhhh/Documents/model/wandb/run-20221019_122735-pioh4mxf</code>"
      ],
      "text/plain": [
       "<IPython.core.display.HTML object>"
      ]
     },
     "metadata": {},
     "output_type": "display_data"
    },
    {
     "data": {
      "text/html": [
       "Syncing run <strong><a href=\"https://wandb.ai/maiquanh/quanh/runs/pioh4mxf\" target=\"_blank\">neat-sweep-65</a></strong> to <a href=\"https://wandb.ai/maiquanh/quanh\" target=\"_blank\">Weights & Biases</a> (<a href=\"https://wandb.me/run\" target=\"_blank\">docs</a>)<br/>Sweep page:  <a href=\"https://wandb.ai/maiquanh/quanh/sweeps/8p4zr03y\" target=\"_blank\">https://wandb.ai/maiquanh/quanh/sweeps/8p4zr03y</a>"
      ],
      "text/plain": [
       "<IPython.core.display.HTML object>"
      ]
     },
     "metadata": {},
     "output_type": "display_data"
    },
    {
     "name": "stdout",
     "output_type": "stream",
     "text": [
      "-----START TRAINING CLASSIFICATION-----\n",
      "Epoch: 96\t| Train_loss: 0.005587\t|Train accuracy: 99.749406\t| Test_loss: 0.003218\t|Test accuracy: 93.739280\t|Val accuracy: 90.599998 \n",
      "\n",
      "----COMPLETED TRAINING CLASSIFICATION-----\n",
      "val_acc 90.5999984741211\n",
      "ok\n"
     ]
    },
    {
     "data": {
      "text/html": [
       "Waiting for W&B process to finish... <strong style=\"color:green\">(success).</strong>"
      ],
      "text/plain": [
       "<IPython.core.display.HTML object>"
      ]
     },
     "metadata": {},
     "output_type": "display_data"
    },
    {
     "data": {
      "text/html": [
       "<style>\n",
       "    table.wandb td:nth-child(1) { padding: 0 10px; text-align: left ; width: auto;} td:nth-child(2) {text-align: left ; width: 100%}\n",
       "    .wandb-row { display: flex; flex-direction: row; flex-wrap: wrap; justify-content: flex-start; width: 100% }\n",
       "    .wandb-col { display: flex; flex-direction: column; flex-basis: 100%; flex: 1; padding: 10px; }\n",
       "    </style>\n",
       "<div class=\"wandb-row\"><div class=\"wandb-col\"><h3>Run history:</h3><br/><table class=\"wandb\"><tr><td>test_loss</td><td>█▅▄▄▃▃▂▂▁▁▃▁▁▁▁▃▁▁▁▂▁▁▂▁▁▁▁▂▂▁▁▂▁▁▁▁▂▁▁▃</td></tr><tr><td>train_loss</td><td>█▅▃▂▂▂▂▁▁▁▁▁▁▁▁▁▁▁▁▁▁▁▁▁▁▁▁▁▁▁▁▁▁▁▁▁▁▁▁▁</td></tr><tr><td>val_acc</td><td>▁</td></tr></table><br/></div><div class=\"wandb-col\"><h3>Run summary:</h3><br/><table class=\"wandb\"><tr><td>test_loss</td><td>0.00322</td></tr><tr><td>train_loss</td><td>0.00559</td></tr><tr><td>val_acc</td><td>94.86667</td></tr></table><br/></div></div>"
      ],
      "text/plain": [
       "<IPython.core.display.HTML object>"
      ]
     },
     "metadata": {},
     "output_type": "display_data"
    },
    {
     "data": {
      "text/html": [
       "Synced <strong style=\"color:#cdcd00\">neat-sweep-65</strong>: <a href=\"https://wandb.ai/maiquanh/quanh/runs/pioh4mxf\" target=\"_blank\">https://wandb.ai/maiquanh/quanh/runs/pioh4mxf</a><br/>Synced 6 W&B file(s), 0 media file(s), 0 artifact file(s) and 0 other file(s)"
      ],
      "text/plain": [
       "<IPython.core.display.HTML object>"
      ]
     },
     "metadata": {},
     "output_type": "display_data"
    },
    {
     "data": {
      "text/html": [
       "Find logs at: <code>./wandb/run-20221019_122735-pioh4mxf/logs</code>"
      ],
      "text/plain": [
       "<IPython.core.display.HTML object>"
      ]
     },
     "metadata": {},
     "output_type": "display_data"
    },
    {
     "name": "stderr",
     "output_type": "stream",
     "text": [
      "\u001b[34m\u001b[1mwandb\u001b[0m: Agent Starting Run: snrvi1qn with config:\n",
      "\u001b[34m\u001b[1mwandb\u001b[0m: \tbatch_size: 128\n",
      "\u001b[34m\u001b[1mwandb\u001b[0m: \td_hidden: 3\n",
      "\u001b[34m\u001b[1mwandb\u001b[0m: \tdata_dir: /home/quanhhh/Documents/model/pickle/\n",
      "\u001b[34m\u001b[1mwandb\u001b[0m: \tdropout: 0.15747147777308332\n",
      "\u001b[34m\u001b[1mwandb\u001b[0m: \tkernel_size_1: 91\n",
      "\u001b[34m\u001b[1mwandb\u001b[0m: \tkernel_size_2: 5\n",
      "\u001b[34m\u001b[1mwandb\u001b[0m: \tlr: 0.00193967708211619\n",
      "\u001b[34m\u001b[1mwandb\u001b[0m: \tmaxpool_1: 7\n",
      "\u001b[34m\u001b[1mwandb\u001b[0m: \tmaxpool_2: 6\n",
      "\u001b[34m\u001b[1mwandb\u001b[0m: \tnum_epoch: 84\n",
      "\u001b[34m\u001b[1mwandb\u001b[0m: \tnum_filters: 17\n",
      "\u001b[34m\u001b[1mwandb\u001b[0m: \tnum_layers: 3\n",
      "\u001b[34m\u001b[1mwandb\u001b[0m: \tresult_dir: /home/quanhhh/Documents/model/result_wandb/\n",
      "\u001b[34m\u001b[1mwandb\u001b[0m: \tstride_1: 7\n",
      "\u001b[34m\u001b[1mwandb\u001b[0m: \tstride_2: 7\n",
      "\u001b[34m\u001b[1mwandb\u001b[0m: \tweight_decay: 0.00013656076125852305\n"
     ]
    },
    {
     "data": {
      "text/html": [
       "Tracking run with wandb version 0.13.4"
      ],
      "text/plain": [
       "<IPython.core.display.HTML object>"
      ]
     },
     "metadata": {},
     "output_type": "display_data"
    },
    {
     "data": {
      "text/html": [
       "Run data is saved locally in <code>/home/quanhhh/Documents/model/wandb/run-20221019_123142-snrvi1qn</code>"
      ],
      "text/plain": [
       "<IPython.core.display.HTML object>"
      ]
     },
     "metadata": {},
     "output_type": "display_data"
    },
    {
     "data": {
      "text/html": [
       "Syncing run <strong><a href=\"https://wandb.ai/maiquanh/quanh/runs/snrvi1qn\" target=\"_blank\">smart-sweep-66</a></strong> to <a href=\"https://wandb.ai/maiquanh/quanh\" target=\"_blank\">Weights & Biases</a> (<a href=\"https://wandb.me/run\" target=\"_blank\">docs</a>)<br/>Sweep page:  <a href=\"https://wandb.ai/maiquanh/quanh/sweeps/8p4zr03y\" target=\"_blank\">https://wandb.ai/maiquanh/quanh/sweeps/8p4zr03y</a>"
      ],
      "text/plain": [
       "<IPython.core.display.HTML object>"
      ]
     },
     "metadata": {},
     "output_type": "display_data"
    },
    {
     "name": "stdout",
     "output_type": "stream",
     "text": [
      "-----START TRAINING CLASSIFICATION-----\n",
      "Epoch: 84\t| Train_loss: 0.005634\t|Train accuracy: 98.259035\t| Test_loss: 0.003463\t|Test accuracy: 83.147513\t|Val accuracy: 88.033333 \n",
      "\n",
      "----COMPLETED TRAINING CLASSIFICATION-----\n",
      "val_acc 88.03333282470703\n",
      "ok\n"
     ]
    },
    {
     "data": {
      "text/html": [
       "Waiting for W&B process to finish... <strong style=\"color:green\">(success).</strong>"
      ],
      "text/plain": [
       "<IPython.core.display.HTML object>"
      ]
     },
     "metadata": {},
     "output_type": "display_data"
    },
    {
     "data": {
      "text/html": [
       "<style>\n",
       "    table.wandb td:nth-child(1) { padding: 0 10px; text-align: left ; width: auto;} td:nth-child(2) {text-align: left ; width: 100%}\n",
       "    .wandb-row { display: flex; flex-direction: row; flex-wrap: wrap; justify-content: flex-start; width: 100% }\n",
       "    .wandb-col { display: flex; flex-direction: column; flex-basis: 100%; flex: 1; padding: 10px; }\n",
       "    </style>\n",
       "<div class=\"wandb-row\"><div class=\"wandb-col\"><h3>Run history:</h3><br/><table class=\"wandb\"><tr><td>test_loss</td><td>▇▆▇█▅▆▄▃▃▃▃▃▃▃▃▃▃▃▃▃▃▃▂▂▃▂▃▃▂▃▂▂▂▃▁▁▃▁▁▃</td></tr><tr><td>train_loss</td><td>█▅▅▄▄▄▄▂▁▁▁▁▁▁▁▁▁▁▁▁▁▁▁▁▁▁▁▁▁▁▁▁▁▁▁▁▁▁▁▁</td></tr><tr><td>val_acc</td><td>▁</td></tr></table><br/></div><div class=\"wandb-col\"><h3>Run summary:</h3><br/><table class=\"wandb\"><tr><td>test_loss</td><td>0.00346</td></tr><tr><td>train_loss</td><td>0.00563</td></tr><tr><td>val_acc</td><td>90.9</td></tr></table><br/></div></div>"
      ],
      "text/plain": [
       "<IPython.core.display.HTML object>"
      ]
     },
     "metadata": {},
     "output_type": "display_data"
    },
    {
     "data": {
      "text/html": [
       "Synced <strong style=\"color:#cdcd00\">smart-sweep-66</strong>: <a href=\"https://wandb.ai/maiquanh/quanh/runs/snrvi1qn\" target=\"_blank\">https://wandb.ai/maiquanh/quanh/runs/snrvi1qn</a><br/>Synced 6 W&B file(s), 0 media file(s), 0 artifact file(s) and 0 other file(s)"
      ],
      "text/plain": [
       "<IPython.core.display.HTML object>"
      ]
     },
     "metadata": {},
     "output_type": "display_data"
    },
    {
     "data": {
      "text/html": [
       "Find logs at: <code>./wandb/run-20221019_123142-snrvi1qn/logs</code>"
      ],
      "text/plain": [
       "<IPython.core.display.HTML object>"
      ]
     },
     "metadata": {},
     "output_type": "display_data"
    },
    {
     "name": "stderr",
     "output_type": "stream",
     "text": [
      "\u001b[34m\u001b[1mwandb\u001b[0m: Agent Starting Run: kg3ltycf with config:\n",
      "\u001b[34m\u001b[1mwandb\u001b[0m: \tbatch_size: 128\n",
      "\u001b[34m\u001b[1mwandb\u001b[0m: \td_hidden: 3\n",
      "\u001b[34m\u001b[1mwandb\u001b[0m: \tdata_dir: /home/quanhhh/Documents/model/pickle/\n",
      "\u001b[34m\u001b[1mwandb\u001b[0m: \tdropout: 0.18069729514333505\n",
      "\u001b[34m\u001b[1mwandb\u001b[0m: \tkernel_size_1: 98\n",
      "\u001b[34m\u001b[1mwandb\u001b[0m: \tkernel_size_2: 8\n",
      "\u001b[34m\u001b[1mwandb\u001b[0m: \tlr: 0.0009798652181816144\n",
      "\u001b[34m\u001b[1mwandb\u001b[0m: \tmaxpool_1: 6\n",
      "\u001b[34m\u001b[1mwandb\u001b[0m: \tmaxpool_2: 7\n",
      "\u001b[34m\u001b[1mwandb\u001b[0m: \tnum_epoch: 94\n",
      "\u001b[34m\u001b[1mwandb\u001b[0m: \tnum_filters: 49\n",
      "\u001b[34m\u001b[1mwandb\u001b[0m: \tnum_layers: 4\n",
      "\u001b[34m\u001b[1mwandb\u001b[0m: \tresult_dir: /home/quanhhh/Documents/model/result_wandb/\n",
      "\u001b[34m\u001b[1mwandb\u001b[0m: \tstride_1: 6\n",
      "\u001b[34m\u001b[1mwandb\u001b[0m: \tstride_2: 8\n",
      "\u001b[34m\u001b[1mwandb\u001b[0m: \tweight_decay: 0.00018793032204810788\n"
     ]
    },
    {
     "data": {
      "text/html": [
       "Tracking run with wandb version 0.13.4"
      ],
      "text/plain": [
       "<IPython.core.display.HTML object>"
      ]
     },
     "metadata": {},
     "output_type": "display_data"
    },
    {
     "data": {
      "text/html": [
       "Run data is saved locally in <code>/home/quanhhh/Documents/model/wandb/run-20221019_123351-kg3ltycf</code>"
      ],
      "text/plain": [
       "<IPython.core.display.HTML object>"
      ]
     },
     "metadata": {},
     "output_type": "display_data"
    },
    {
     "data": {
      "text/html": [
       "Syncing run <strong><a href=\"https://wandb.ai/maiquanh/quanh/runs/kg3ltycf\" target=\"_blank\">comfy-sweep-67</a></strong> to <a href=\"https://wandb.ai/maiquanh/quanh\" target=\"_blank\">Weights & Biases</a> (<a href=\"https://wandb.me/run\" target=\"_blank\">docs</a>)<br/>Sweep page:  <a href=\"https://wandb.ai/maiquanh/quanh/sweeps/8p4zr03y\" target=\"_blank\">https://wandb.ai/maiquanh/quanh/sweeps/8p4zr03y</a>"
      ],
      "text/plain": [
       "<IPython.core.display.HTML object>"
      ]
     },
     "metadata": {},
     "output_type": "display_data"
    },
    {
     "name": "stdout",
     "output_type": "stream",
     "text": [
      "-----START TRAINING CLASSIFICATION-----\n",
      "Epoch: 94\t| Train_loss: 0.005922\t|Train accuracy: 98.799789\t| Test_loss: 0.003280\t|Test accuracy: 93.567753\t|Val accuracy: 92.400002 \n",
      "\n",
      "----COMPLETED TRAINING CLASSIFICATION-----\n",
      "val_acc 92.4000015258789\n",
      "ok\n"
     ]
    },
    {
     "data": {
      "text/html": [
       "Waiting for W&B process to finish... <strong style=\"color:green\">(success).</strong>"
      ],
      "text/plain": [
       "<IPython.core.display.HTML object>"
      ]
     },
     "metadata": {},
     "output_type": "display_data"
    },
    {
     "data": {
      "text/html": [
       "<style>\n",
       "    table.wandb td:nth-child(1) { padding: 0 10px; text-align: left ; width: auto;} td:nth-child(2) {text-align: left ; width: 100%}\n",
       "    .wandb-row { display: flex; flex-direction: row; flex-wrap: wrap; justify-content: flex-start; width: 100% }\n",
       "    .wandb-col { display: flex; flex-direction: column; flex-basis: 100%; flex: 1; padding: 10px; }\n",
       "    </style>\n",
       "<div class=\"wandb-row\"><div class=\"wandb-col\"><h3>Run history:</h3><br/><table class=\"wandb\"><tr><td>test_loss</td><td>█▇▆▅▃▃▂▃▃▁▂▂▁▂▂▃▄▁▂▁▂▁▂▁▃▁▁▂▁▁▁▂▃▂▁▂▂▂▃▁</td></tr><tr><td>train_loss</td><td>█▇▅▅▄▂▂▁▁▁▁▂▁▁▁▁▁▁▁▁▁▁▁▁▁▁▁▁▁▁▁▁▁▁▁▁▁▁▁▁</td></tr><tr><td>val_acc</td><td>▁</td></tr></table><br/></div><div class=\"wandb-col\"><h3>Run summary:</h3><br/><table class=\"wandb\"><tr><td>test_loss</td><td>0.00328</td></tr><tr><td>train_loss</td><td>0.00592</td></tr><tr><td>val_acc</td><td>92.4</td></tr></table><br/></div></div>"
      ],
      "text/plain": [
       "<IPython.core.display.HTML object>"
      ]
     },
     "metadata": {},
     "output_type": "display_data"
    },
    {
     "data": {
      "text/html": [
       "Synced <strong style=\"color:#cdcd00\">comfy-sweep-67</strong>: <a href=\"https://wandb.ai/maiquanh/quanh/runs/kg3ltycf\" target=\"_blank\">https://wandb.ai/maiquanh/quanh/runs/kg3ltycf</a><br/>Synced 6 W&B file(s), 0 media file(s), 0 artifact file(s) and 0 other file(s)"
      ],
      "text/plain": [
       "<IPython.core.display.HTML object>"
      ]
     },
     "metadata": {},
     "output_type": "display_data"
    },
    {
     "data": {
      "text/html": [
       "Find logs at: <code>./wandb/run-20221019_123351-kg3ltycf/logs</code>"
      ],
      "text/plain": [
       "<IPython.core.display.HTML object>"
      ]
     },
     "metadata": {},
     "output_type": "display_data"
    },
    {
     "name": "stderr",
     "output_type": "stream",
     "text": [
      "\u001b[34m\u001b[1mwandb\u001b[0m: Agent Starting Run: je47o5ya with config:\n",
      "\u001b[34m\u001b[1mwandb\u001b[0m: \tbatch_size: 128\n",
      "\u001b[34m\u001b[1mwandb\u001b[0m: \td_hidden: 3\n",
      "\u001b[34m\u001b[1mwandb\u001b[0m: \tdata_dir: /home/quanhhh/Documents/model/pickle/\n",
      "\u001b[34m\u001b[1mwandb\u001b[0m: \tdropout: 0.1895475519595896\n",
      "\u001b[34m\u001b[1mwandb\u001b[0m: \tkernel_size_1: 64\n",
      "\u001b[34m\u001b[1mwandb\u001b[0m: \tkernel_size_2: 5\n",
      "\u001b[34m\u001b[1mwandb\u001b[0m: \tlr: 0.00012683107504534347\n",
      "\u001b[34m\u001b[1mwandb\u001b[0m: \tmaxpool_1: 8\n",
      "\u001b[34m\u001b[1mwandb\u001b[0m: \tmaxpool_2: 3\n",
      "\u001b[34m\u001b[1mwandb\u001b[0m: \tnum_epoch: 95\n",
      "\u001b[34m\u001b[1mwandb\u001b[0m: \tnum_filters: 58\n",
      "\u001b[34m\u001b[1mwandb\u001b[0m: \tnum_layers: 4\n",
      "\u001b[34m\u001b[1mwandb\u001b[0m: \tresult_dir: /home/quanhhh/Documents/model/result_wandb/\n",
      "\u001b[34m\u001b[1mwandb\u001b[0m: \tstride_1: 3\n",
      "\u001b[34m\u001b[1mwandb\u001b[0m: \tstride_2: 4\n",
      "\u001b[34m\u001b[1mwandb\u001b[0m: \tweight_decay: 0.0002093239556673627\n"
     ]
    },
    {
     "data": {
      "text/html": [
       "Tracking run with wandb version 0.13.4"
      ],
      "text/plain": [
       "<IPython.core.display.HTML object>"
      ]
     },
     "metadata": {},
     "output_type": "display_data"
    },
    {
     "data": {
      "text/html": [
       "Run data is saved locally in <code>/home/quanhhh/Documents/model/wandb/run-20221019_123742-je47o5ya</code>"
      ],
      "text/plain": [
       "<IPython.core.display.HTML object>"
      ]
     },
     "metadata": {},
     "output_type": "display_data"
    },
    {
     "data": {
      "text/html": [
       "Syncing run <strong><a href=\"https://wandb.ai/maiquanh/quanh/runs/je47o5ya\" target=\"_blank\">twilight-sweep-68</a></strong> to <a href=\"https://wandb.ai/maiquanh/quanh\" target=\"_blank\">Weights & Biases</a> (<a href=\"https://wandb.me/run\" target=\"_blank\">docs</a>)<br/>Sweep page:  <a href=\"https://wandb.ai/maiquanh/quanh/sweeps/8p4zr03y\" target=\"_blank\">https://wandb.ai/maiquanh/quanh/sweeps/8p4zr03y</a>"
      ],
      "text/plain": [
       "<IPython.core.display.HTML object>"
      ]
     },
     "metadata": {},
     "output_type": "display_data"
    },
    {
     "name": "stdout",
     "output_type": "stream",
     "text": [
      "-----START TRAINING CLASSIFICATION-----\n",
      "Epoch: 95\t| Train_loss: 0.005714\t|Train accuracy: 99.459246\t| Test_loss: 0.003130\t|Test accuracy: 97.084048\t|Val accuracy: 89.133331 \n",
      "\n",
      "----COMPLETED TRAINING CLASSIFICATION-----\n",
      "val_acc 89.13333129882812\n",
      "ok\n"
     ]
    },
    {
     "data": {
      "text/html": [
       "Waiting for W&B process to finish... <strong style=\"color:green\">(success).</strong>"
      ],
      "text/plain": [
       "<IPython.core.display.HTML object>"
      ]
     },
     "metadata": {},
     "output_type": "display_data"
    },
    {
     "data": {
      "text/html": [
       "<style>\n",
       "    table.wandb td:nth-child(1) { padding: 0 10px; text-align: left ; width: auto;} td:nth-child(2) {text-align: left ; width: 100%}\n",
       "    .wandb-row { display: flex; flex-direction: row; flex-wrap: wrap; justify-content: flex-start; width: 100% }\n",
       "    .wandb-col { display: flex; flex-direction: column; flex-basis: 100%; flex: 1; padding: 10px; }\n",
       "    </style>\n",
       "<div class=\"wandb-row\"><div class=\"wandb-col\"><h3>Run history:</h3><br/><table class=\"wandb\"><tr><td>test_loss</td><td>███▇▇▆▆▆▅▅▅▅▅▄▄▃▄▃▂▂▃▂▂▂▂▁▁▂▂▂▁▁▁▁▁▁▁▁▁▁</td></tr><tr><td>train_loss</td><td>███▇▇▆▆▆▅▅▅▅▅▄▄▃▃▃▂▂▂▂▂▂▂▁▁▁▁▁▁▁▁▁▁▁▁▁▁▁</td></tr><tr><td>val_acc</td><td>▁</td></tr></table><br/></div><div class=\"wandb-col\"><h3>Run summary:</h3><br/><table class=\"wandb\"><tr><td>test_loss</td><td>0.00313</td></tr><tr><td>train_loss</td><td>0.00571</td></tr><tr><td>val_acc</td><td>93.46667</td></tr></table><br/></div></div>"
      ],
      "text/plain": [
       "<IPython.core.display.HTML object>"
      ]
     },
     "metadata": {},
     "output_type": "display_data"
    },
    {
     "data": {
      "text/html": [
       "Synced <strong style=\"color:#cdcd00\">twilight-sweep-68</strong>: <a href=\"https://wandb.ai/maiquanh/quanh/runs/je47o5ya\" target=\"_blank\">https://wandb.ai/maiquanh/quanh/runs/je47o5ya</a><br/>Synced 6 W&B file(s), 0 media file(s), 0 artifact file(s) and 0 other file(s)"
      ],
      "text/plain": [
       "<IPython.core.display.HTML object>"
      ]
     },
     "metadata": {},
     "output_type": "display_data"
    },
    {
     "data": {
      "text/html": [
       "Find logs at: <code>./wandb/run-20221019_123742-je47o5ya/logs</code>"
      ],
      "text/plain": [
       "<IPython.core.display.HTML object>"
      ]
     },
     "metadata": {},
     "output_type": "display_data"
    },
    {
     "name": "stderr",
     "output_type": "stream",
     "text": [
      "\u001b[34m\u001b[1mwandb\u001b[0m: Agent Starting Run: 3r9oxzf3 with config:\n",
      "\u001b[34m\u001b[1mwandb\u001b[0m: \tbatch_size: 128\n",
      "\u001b[34m\u001b[1mwandb\u001b[0m: \td_hidden: 3\n",
      "\u001b[34m\u001b[1mwandb\u001b[0m: \tdata_dir: /home/quanhhh/Documents/model/pickle/\n",
      "\u001b[34m\u001b[1mwandb\u001b[0m: \tdropout: 0.10017546684826216\n",
      "\u001b[34m\u001b[1mwandb\u001b[0m: \tkernel_size_1: 89\n",
      "\u001b[34m\u001b[1mwandb\u001b[0m: \tkernel_size_2: 9\n",
      "\u001b[34m\u001b[1mwandb\u001b[0m: \tlr: 0.0007723370318503634\n",
      "\u001b[34m\u001b[1mwandb\u001b[0m: \tmaxpool_1: 6\n",
      "\u001b[34m\u001b[1mwandb\u001b[0m: \tmaxpool_2: 5\n",
      "\u001b[34m\u001b[1mwandb\u001b[0m: \tnum_epoch: 94\n",
      "\u001b[34m\u001b[1mwandb\u001b[0m: \tnum_filters: 35\n",
      "\u001b[34m\u001b[1mwandb\u001b[0m: \tnum_layers: 3\n",
      "\u001b[34m\u001b[1mwandb\u001b[0m: \tresult_dir: /home/quanhhh/Documents/model/result_wandb/\n",
      "\u001b[34m\u001b[1mwandb\u001b[0m: \tstride_1: 5\n",
      "\u001b[34m\u001b[1mwandb\u001b[0m: \tstride_2: 5\n",
      "\u001b[34m\u001b[1mwandb\u001b[0m: \tweight_decay: 0.0002717460246021657\n"
     ]
    },
    {
     "data": {
      "text/html": [
       "Tracking run with wandb version 0.13.4"
      ],
      "text/plain": [
       "<IPython.core.display.HTML object>"
      ]
     },
     "metadata": {},
     "output_type": "display_data"
    },
    {
     "data": {
      "text/html": [
       "Run data is saved locally in <code>/home/quanhhh/Documents/model/wandb/run-20221019_124542-3r9oxzf3</code>"
      ],
      "text/plain": [
       "<IPython.core.display.HTML object>"
      ]
     },
     "metadata": {},
     "output_type": "display_data"
    },
    {
     "data": {
      "text/html": [
       "Syncing run <strong><a href=\"https://wandb.ai/maiquanh/quanh/runs/3r9oxzf3\" target=\"_blank\">resilient-sweep-69</a></strong> to <a href=\"https://wandb.ai/maiquanh/quanh\" target=\"_blank\">Weights & Biases</a> (<a href=\"https://wandb.me/run\" target=\"_blank\">docs</a>)<br/>Sweep page:  <a href=\"https://wandb.ai/maiquanh/quanh/sweeps/8p4zr03y\" target=\"_blank\">https://wandb.ai/maiquanh/quanh/sweeps/8p4zr03y</a>"
      ],
      "text/plain": [
       "<IPython.core.display.HTML object>"
      ]
     },
     "metadata": {},
     "output_type": "display_data"
    },
    {
     "name": "stdout",
     "output_type": "stream",
     "text": [
      "-----START TRAINING CLASSIFICATION-----\n",
      "Epoch: 94\t| Train_loss: 0.005651\t|Train accuracy: 94.605645\t| Test_loss: 0.003257\t|Test accuracy: 91.938250\t|Val accuracy: 86.000000 \n",
      "\n",
      "----COMPLETED TRAINING CLASSIFICATION-----\n",
      "val_acc 86.0\n",
      "ok\n"
     ]
    },
    {
     "data": {
      "text/html": [
       "Waiting for W&B process to finish... <strong style=\"color:green\">(success).</strong>"
      ],
      "text/plain": [
       "<IPython.core.display.HTML object>"
      ]
     },
     "metadata": {},
     "output_type": "display_data"
    },
    {
     "data": {
      "text/html": [
       "<style>\n",
       "    table.wandb td:nth-child(1) { padding: 0 10px; text-align: left ; width: auto;} td:nth-child(2) {text-align: left ; width: 100%}\n",
       "    .wandb-row { display: flex; flex-direction: row; flex-wrap: wrap; justify-content: flex-start; width: 100% }\n",
       "    .wandb-col { display: flex; flex-direction: column; flex-basis: 100%; flex: 1; padding: 10px; }\n",
       "    </style>\n",
       "<div class=\"wandb-row\"><div class=\"wandb-col\"><h3>Run history:</h3><br/><table class=\"wandb\"><tr><td>test_loss</td><td>█▇▆▅▄▄▅▅▄▃▃▃▃▂▂▃▂▂▂▂▂▂▂▂▂▂▂▂▂▂▂▂▂▂▃▃▃▁▁▁</td></tr><tr><td>train_loss</td><td>█▆▅▃▃▃▂▃▂▂▂▂▂▂▂▂▂▂▂▂▂▂▂▂▂▂▂▂▂▂▂▂▂▂▂▂▂▁▁▁</td></tr><tr><td>val_acc</td><td>▁</td></tr></table><br/></div><div class=\"wandb-col\"><h3>Run summary:</h3><br/><table class=\"wandb\"><tr><td>test_loss</td><td>0.00326</td></tr><tr><td>train_loss</td><td>0.00565</td></tr><tr><td>val_acc</td><td>92.13333</td></tr></table><br/></div></div>"
      ],
      "text/plain": [
       "<IPython.core.display.HTML object>"
      ]
     },
     "metadata": {},
     "output_type": "display_data"
    },
    {
     "data": {
      "text/html": [
       "Synced <strong style=\"color:#cdcd00\">resilient-sweep-69</strong>: <a href=\"https://wandb.ai/maiquanh/quanh/runs/3r9oxzf3\" target=\"_blank\">https://wandb.ai/maiquanh/quanh/runs/3r9oxzf3</a><br/>Synced 6 W&B file(s), 0 media file(s), 0 artifact file(s) and 0 other file(s)"
      ],
      "text/plain": [
       "<IPython.core.display.HTML object>"
      ]
     },
     "metadata": {},
     "output_type": "display_data"
    },
    {
     "data": {
      "text/html": [
       "Find logs at: <code>./wandb/run-20221019_124542-3r9oxzf3/logs</code>"
      ],
      "text/plain": [
       "<IPython.core.display.HTML object>"
      ]
     },
     "metadata": {},
     "output_type": "display_data"
    },
    {
     "name": "stderr",
     "output_type": "stream",
     "text": [
      "\u001b[34m\u001b[1mwandb\u001b[0m: Agent Starting Run: 10md3av3 with config:\n",
      "\u001b[34m\u001b[1mwandb\u001b[0m: \tbatch_size: 128\n",
      "\u001b[34m\u001b[1mwandb\u001b[0m: \td_hidden: 3\n",
      "\u001b[34m\u001b[1mwandb\u001b[0m: \tdata_dir: /home/quanhhh/Documents/model/pickle/\n",
      "\u001b[34m\u001b[1mwandb\u001b[0m: \tdropout: 0.11510738840400604\n",
      "\u001b[34m\u001b[1mwandb\u001b[0m: \tkernel_size_1: 57\n",
      "\u001b[34m\u001b[1mwandb\u001b[0m: \tkernel_size_2: 5\n",
      "\u001b[34m\u001b[1mwandb\u001b[0m: \tlr: 0.00030611506666325514\n",
      "\u001b[34m\u001b[1mwandb\u001b[0m: \tmaxpool_1: 7\n",
      "\u001b[34m\u001b[1mwandb\u001b[0m: \tmaxpool_2: 7\n",
      "\u001b[34m\u001b[1mwandb\u001b[0m: \tnum_epoch: 92\n",
      "\u001b[34m\u001b[1mwandb\u001b[0m: \tnum_filters: 62\n",
      "\u001b[34m\u001b[1mwandb\u001b[0m: \tnum_layers: 2\n",
      "\u001b[34m\u001b[1mwandb\u001b[0m: \tresult_dir: /home/quanhhh/Documents/model/result_wandb/\n",
      "\u001b[34m\u001b[1mwandb\u001b[0m: \tstride_1: 5\n",
      "\u001b[34m\u001b[1mwandb\u001b[0m: \tstride_2: 4\n",
      "\u001b[34m\u001b[1mwandb\u001b[0m: \tweight_decay: 0.00014162803349791406\n"
     ]
    },
    {
     "data": {
      "text/html": [
       "Tracking run with wandb version 0.13.4"
      ],
      "text/plain": [
       "<IPython.core.display.HTML object>"
      ]
     },
     "metadata": {},
     "output_type": "display_data"
    },
    {
     "data": {
      "text/html": [
       "Run data is saved locally in <code>/home/quanhhh/Documents/model/wandb/run-20221019_124931-10md3av3</code>"
      ],
      "text/plain": [
       "<IPython.core.display.HTML object>"
      ]
     },
     "metadata": {},
     "output_type": "display_data"
    },
    {
     "data": {
      "text/html": [
       "Syncing run <strong><a href=\"https://wandb.ai/maiquanh/quanh/runs/10md3av3\" target=\"_blank\">light-sweep-70</a></strong> to <a href=\"https://wandb.ai/maiquanh/quanh\" target=\"_blank\">Weights & Biases</a> (<a href=\"https://wandb.me/run\" target=\"_blank\">docs</a>)<br/>Sweep page:  <a href=\"https://wandb.ai/maiquanh/quanh/sweeps/8p4zr03y\" target=\"_blank\">https://wandb.ai/maiquanh/quanh/sweeps/8p4zr03y</a>"
      ],
      "text/plain": [
       "<IPython.core.display.HTML object>"
      ]
     },
     "metadata": {},
     "output_type": "display_data"
    },
    {
     "name": "stdout",
     "output_type": "stream",
     "text": [
      "-----START TRAINING CLASSIFICATION-----\n",
      "Epoch: 92\t| Train_loss: 0.005612\t|Train accuracy: 99.485624\t| Test_loss: 0.003145\t|Test accuracy: 95.325901\t|Val accuracy: 92.433334 \n",
      "\n",
      "----COMPLETED TRAINING CLASSIFICATION-----\n",
      "val_acc 92.43333435058594\n",
      "ok\n"
     ]
    },
    {
     "data": {
      "text/html": [
       "Waiting for W&B process to finish... <strong style=\"color:green\">(success).</strong>"
      ],
      "text/plain": [
       "<IPython.core.display.HTML object>"
      ]
     },
     "metadata": {},
     "output_type": "display_data"
    },
    {
     "data": {
      "text/html": [
       "<style>\n",
       "    table.wandb td:nth-child(1) { padding: 0 10px; text-align: left ; width: auto;} td:nth-child(2) {text-align: left ; width: 100%}\n",
       "    .wandb-row { display: flex; flex-direction: row; flex-wrap: wrap; justify-content: flex-start; width: 100% }\n",
       "    .wandb-col { display: flex; flex-direction: column; flex-basis: 100%; flex: 1; padding: 10px; }\n",
       "    </style>\n",
       "<div class=\"wandb-row\"><div class=\"wandb-col\"><h3>Run history:</h3><br/><table class=\"wandb\"><tr><td>test_loss</td><td>██▇▆▄▅▃▃▄▄▄▄▃▂▃▃▂▂▁▂▁▁▂▁▂▂▁▂▂▁▃▁▂▁▁▁▁▁▁▁</td></tr><tr><td>train_loss</td><td>██▇▆▄▄▃▃▂▂▂▂▂▂▂▂▁▁▁▁▁▁▁▁▁▁▁▁▁▁▁▁▁▁▁▁▁▁▁▁</td></tr><tr><td>val_acc</td><td>▁</td></tr></table><br/></div><div class=\"wandb-col\"><h3>Run summary:</h3><br/><table class=\"wandb\"><tr><td>test_loss</td><td>0.00315</td></tr><tr><td>train_loss</td><td>0.00561</td></tr><tr><td>val_acc</td><td>94.3</td></tr></table><br/></div></div>"
      ],
      "text/plain": [
       "<IPython.core.display.HTML object>"
      ]
     },
     "metadata": {},
     "output_type": "display_data"
    },
    {
     "data": {
      "text/html": [
       "Synced <strong style=\"color:#cdcd00\">light-sweep-70</strong>: <a href=\"https://wandb.ai/maiquanh/quanh/runs/10md3av3\" target=\"_blank\">https://wandb.ai/maiquanh/quanh/runs/10md3av3</a><br/>Synced 6 W&B file(s), 0 media file(s), 0 artifact file(s) and 0 other file(s)"
      ],
      "text/plain": [
       "<IPython.core.display.HTML object>"
      ]
     },
     "metadata": {},
     "output_type": "display_data"
    },
    {
     "data": {
      "text/html": [
       "Find logs at: <code>./wandb/run-20221019_124931-10md3av3/logs</code>"
      ],
      "text/plain": [
       "<IPython.core.display.HTML object>"
      ]
     },
     "metadata": {},
     "output_type": "display_data"
    },
    {
     "name": "stderr",
     "output_type": "stream",
     "text": [
      "\u001b[34m\u001b[1mwandb\u001b[0m: Agent Starting Run: 3z03zcvg with config:\n",
      "\u001b[34m\u001b[1mwandb\u001b[0m: \tbatch_size: 128\n",
      "\u001b[34m\u001b[1mwandb\u001b[0m: \td_hidden: 3\n",
      "\u001b[34m\u001b[1mwandb\u001b[0m: \tdata_dir: /home/quanhhh/Documents/model/pickle/\n",
      "\u001b[34m\u001b[1mwandb\u001b[0m: \tdropout: 0.17656363182944262\n",
      "\u001b[34m\u001b[1mwandb\u001b[0m: \tkernel_size_1: 54\n",
      "\u001b[34m\u001b[1mwandb\u001b[0m: \tkernel_size_2: 3\n",
      "\u001b[34m\u001b[1mwandb\u001b[0m: \tlr: 0.0006100527577638669\n",
      "\u001b[34m\u001b[1mwandb\u001b[0m: \tmaxpool_1: 6\n",
      "\u001b[34m\u001b[1mwandb\u001b[0m: \tmaxpool_2: 3\n",
      "\u001b[34m\u001b[1mwandb\u001b[0m: \tnum_epoch: 100\n",
      "\u001b[34m\u001b[1mwandb\u001b[0m: \tnum_filters: 16\n",
      "\u001b[34m\u001b[1mwandb\u001b[0m: \tnum_layers: 3\n",
      "\u001b[34m\u001b[1mwandb\u001b[0m: \tresult_dir: /home/quanhhh/Documents/model/result_wandb/\n",
      "\u001b[34m\u001b[1mwandb\u001b[0m: \tstride_1: 7\n",
      "\u001b[34m\u001b[1mwandb\u001b[0m: \tstride_2: 3\n",
      "\u001b[34m\u001b[1mwandb\u001b[0m: \tweight_decay: 0.0002374568504064266\n"
     ]
    },
    {
     "data": {
      "text/html": [
       "Tracking run with wandb version 0.13.4"
      ],
      "text/plain": [
       "<IPython.core.display.HTML object>"
      ]
     },
     "metadata": {},
     "output_type": "display_data"
    },
    {
     "data": {
      "text/html": [
       "Run data is saved locally in <code>/home/quanhhh/Documents/model/wandb/run-20221019_125344-3z03zcvg</code>"
      ],
      "text/plain": [
       "<IPython.core.display.HTML object>"
      ]
     },
     "metadata": {},
     "output_type": "display_data"
    },
    {
     "data": {
      "text/html": [
       "Syncing run <strong><a href=\"https://wandb.ai/maiquanh/quanh/runs/3z03zcvg\" target=\"_blank\">wobbly-sweep-71</a></strong> to <a href=\"https://wandb.ai/maiquanh/quanh\" target=\"_blank\">Weights & Biases</a> (<a href=\"https://wandb.me/run\" target=\"_blank\">docs</a>)<br/>Sweep page:  <a href=\"https://wandb.ai/maiquanh/quanh/sweeps/8p4zr03y\" target=\"_blank\">https://wandb.ai/maiquanh/quanh/sweeps/8p4zr03y</a>"
      ],
      "text/plain": [
       "<IPython.core.display.HTML object>"
      ]
     },
     "metadata": {},
     "output_type": "display_data"
    },
    {
     "name": "stdout",
     "output_type": "stream",
     "text": [
      "-----START TRAINING CLASSIFICATION-----\n",
      "Epoch: 100\t| Train_loss: 0.005670\t|Train accuracy: 98.127143\t| Test_loss: 0.003252\t|Test accuracy: 90.909091\t|Val accuracy: 74.566666 \n",
      "\n",
      "----COMPLETED TRAINING CLASSIFICATION-----\n",
      "val_acc 74.56666564941406\n",
      "ok\n"
     ]
    },
    {
     "data": {
      "text/html": [
       "Waiting for W&B process to finish... <strong style=\"color:green\">(success).</strong>"
      ],
      "text/plain": [
       "<IPython.core.display.HTML object>"
      ]
     },
     "metadata": {},
     "output_type": "display_data"
    },
    {
     "data": {
      "text/html": [
       "<style>\n",
       "    table.wandb td:nth-child(1) { padding: 0 10px; text-align: left ; width: auto;} td:nth-child(2) {text-align: left ; width: 100%}\n",
       "    .wandb-row { display: flex; flex-direction: row; flex-wrap: wrap; justify-content: flex-start; width: 100% }\n",
       "    .wandb-col { display: flex; flex-direction: column; flex-basis: 100%; flex: 1; padding: 10px; }\n",
       "    </style>\n",
       "<div class=\"wandb-row\"><div class=\"wandb-col\"><h3>Run history:</h3><br/><table class=\"wandb\"><tr><td>test_loss</td><td>█▆▄▃▃▂▃▂▃▂▃▃▂▃▃▅▂▃▃▃▃▁▁▃▂▁▂▂▂▃▂▂▂▂▁▁▁▁▁▂</td></tr><tr><td>train_loss</td><td>█▆▄▃▂▂▂▂▂▁▁▁▁▁▁▁▁▁▁▁▁▁▁▁▁▁▁▁▁▁▁▁▁▁▁▁▁▁▁▁</td></tr><tr><td>val_acc</td><td>▁</td></tr></table><br/></div><div class=\"wandb-col\"><h3>Run summary:</h3><br/><table class=\"wandb\"><tr><td>test_loss</td><td>0.00325</td></tr><tr><td>train_loss</td><td>0.00567</td></tr><tr><td>val_acc</td><td>94.6</td></tr></table><br/></div></div>"
      ],
      "text/plain": [
       "<IPython.core.display.HTML object>"
      ]
     },
     "metadata": {},
     "output_type": "display_data"
    },
    {
     "data": {
      "text/html": [
       "Synced <strong style=\"color:#cdcd00\">wobbly-sweep-71</strong>: <a href=\"https://wandb.ai/maiquanh/quanh/runs/3z03zcvg\" target=\"_blank\">https://wandb.ai/maiquanh/quanh/runs/3z03zcvg</a><br/>Synced 6 W&B file(s), 0 media file(s), 0 artifact file(s) and 0 other file(s)"
      ],
      "text/plain": [
       "<IPython.core.display.HTML object>"
      ]
     },
     "metadata": {},
     "output_type": "display_data"
    },
    {
     "data": {
      "text/html": [
       "Find logs at: <code>./wandb/run-20221019_125344-3z03zcvg/logs</code>"
      ],
      "text/plain": [
       "<IPython.core.display.HTML object>"
      ]
     },
     "metadata": {},
     "output_type": "display_data"
    },
    {
     "name": "stderr",
     "output_type": "stream",
     "text": [
      "\u001b[34m\u001b[1mwandb\u001b[0m: Agent Starting Run: onowb9g1 with config:\n",
      "\u001b[34m\u001b[1mwandb\u001b[0m: \tbatch_size: 128\n",
      "\u001b[34m\u001b[1mwandb\u001b[0m: \td_hidden: 3\n",
      "\u001b[34m\u001b[1mwandb\u001b[0m: \tdata_dir: /home/quanhhh/Documents/model/pickle/\n",
      "\u001b[34m\u001b[1mwandb\u001b[0m: \tdropout: 0.12654538836087664\n",
      "\u001b[34m\u001b[1mwandb\u001b[0m: \tkernel_size_1: 85\n",
      "\u001b[34m\u001b[1mwandb\u001b[0m: \tkernel_size_2: 11\n",
      "\u001b[34m\u001b[1mwandb\u001b[0m: \tlr: 0.002094363142286045\n",
      "\u001b[34m\u001b[1mwandb\u001b[0m: \tmaxpool_1: 5\n",
      "\u001b[34m\u001b[1mwandb\u001b[0m: \tmaxpool_2: 6\n",
      "\u001b[34m\u001b[1mwandb\u001b[0m: \tnum_epoch: 90\n",
      "\u001b[34m\u001b[1mwandb\u001b[0m: \tnum_filters: 28\n",
      "\u001b[34m\u001b[1mwandb\u001b[0m: \tnum_layers: 2\n",
      "\u001b[34m\u001b[1mwandb\u001b[0m: \tresult_dir: /home/quanhhh/Documents/model/result_wandb/\n",
      "\u001b[34m\u001b[1mwandb\u001b[0m: \tstride_1: 7\n",
      "\u001b[34m\u001b[1mwandb\u001b[0m: \tstride_2: 6\n",
      "\u001b[34m\u001b[1mwandb\u001b[0m: \tweight_decay: 0.0002938328967461633\n"
     ]
    },
    {
     "data": {
      "text/html": [
       "Tracking run with wandb version 0.13.4"
      ],
      "text/plain": [
       "<IPython.core.display.HTML object>"
      ]
     },
     "metadata": {},
     "output_type": "display_data"
    },
    {
     "data": {
      "text/html": [
       "Run data is saved locally in <code>/home/quanhhh/Documents/model/wandb/run-20221019_125558-onowb9g1</code>"
      ],
      "text/plain": [
       "<IPython.core.display.HTML object>"
      ]
     },
     "metadata": {},
     "output_type": "display_data"
    },
    {
     "data": {
      "text/html": [
       "Syncing run <strong><a href=\"https://wandb.ai/maiquanh/quanh/runs/onowb9g1\" target=\"_blank\">rich-sweep-72</a></strong> to <a href=\"https://wandb.ai/maiquanh/quanh\" target=\"_blank\">Weights & Biases</a> (<a href=\"https://wandb.me/run\" target=\"_blank\">docs</a>)<br/>Sweep page:  <a href=\"https://wandb.ai/maiquanh/quanh/sweeps/8p4zr03y\" target=\"_blank\">https://wandb.ai/maiquanh/quanh/sweeps/8p4zr03y</a>"
      ],
      "text/plain": [
       "<IPython.core.display.HTML object>"
      ]
     },
     "metadata": {},
     "output_type": "display_data"
    },
    {
     "name": "stdout",
     "output_type": "stream",
     "text": [
      "-----START TRAINING CLASSIFICATION-----\n",
      "Epoch: 90\t| Train_loss: 0.005602\t|Train accuracy: 99.182274\t| Test_loss: 0.003102\t|Test accuracy: 97.212693\t|Val accuracy: 90.766663 \n",
      "\n",
      "----COMPLETED TRAINING CLASSIFICATION-----\n",
      "val_acc 90.76666259765625\n",
      "ok\n"
     ]
    },
    {
     "data": {
      "text/html": [
       "Waiting for W&B process to finish... <strong style=\"color:green\">(success).</strong>"
      ],
      "text/plain": [
       "<IPython.core.display.HTML object>"
      ]
     },
     "metadata": {},
     "output_type": "display_data"
    },
    {
     "data": {
      "text/html": [
       "<style>\n",
       "    table.wandb td:nth-child(1) { padding: 0 10px; text-align: left ; width: auto;} td:nth-child(2) {text-align: left ; width: 100%}\n",
       "    .wandb-row { display: flex; flex-direction: row; flex-wrap: wrap; justify-content: flex-start; width: 100% }\n",
       "    .wandb-col { display: flex; flex-direction: column; flex-basis: 100%; flex: 1; padding: 10px; }\n",
       "    </style>\n",
       "<div class=\"wandb-row\"><div class=\"wandb-col\"><h3>Run history:</h3><br/><table class=\"wandb\"><tr><td>test_loss</td><td>█▅▅▂▂▅▃▄▄▂▂▄▂▂▁▂▂▃▂▂▂▂▂▂▃▂▂▁▂▁▃▂▃▂▃▂▄▂▅▁</td></tr><tr><td>train_loss</td><td>█▄▂▂▂▂▁▂▁▁▁▁▁▁▁▁▁▁▁▁▁▁▁▁▁▁▁▁▁▁▁▁▁▁▁▁▁▁▁▁</td></tr><tr><td>val_acc</td><td>▁</td></tr></table><br/></div><div class=\"wandb-col\"><h3>Run summary:</h3><br/><table class=\"wandb\"><tr><td>test_loss</td><td>0.0031</td></tr><tr><td>train_loss</td><td>0.0056</td></tr><tr><td>val_acc</td><td>93.26666</td></tr></table><br/></div></div>"
      ],
      "text/plain": [
       "<IPython.core.display.HTML object>"
      ]
     },
     "metadata": {},
     "output_type": "display_data"
    },
    {
     "data": {
      "text/html": [
       "Synced <strong style=\"color:#cdcd00\">rich-sweep-72</strong>: <a href=\"https://wandb.ai/maiquanh/quanh/runs/onowb9g1\" target=\"_blank\">https://wandb.ai/maiquanh/quanh/runs/onowb9g1</a><br/>Synced 6 W&B file(s), 0 media file(s), 0 artifact file(s) and 0 other file(s)"
      ],
      "text/plain": [
       "<IPython.core.display.HTML object>"
      ]
     },
     "metadata": {},
     "output_type": "display_data"
    },
    {
     "data": {
      "text/html": [
       "Find logs at: <code>./wandb/run-20221019_125558-onowb9g1/logs</code>"
      ],
      "text/plain": [
       "<IPython.core.display.HTML object>"
      ]
     },
     "metadata": {},
     "output_type": "display_data"
    },
    {
     "name": "stderr",
     "output_type": "stream",
     "text": [
      "\u001b[34m\u001b[1mwandb\u001b[0m: Agent Starting Run: qpy6w9fb with config:\n",
      "\u001b[34m\u001b[1mwandb\u001b[0m: \tbatch_size: 128\n",
      "\u001b[34m\u001b[1mwandb\u001b[0m: \td_hidden: 3\n",
      "\u001b[34m\u001b[1mwandb\u001b[0m: \tdata_dir: /home/quanhhh/Documents/model/pickle/\n",
      "\u001b[34m\u001b[1mwandb\u001b[0m: \tdropout: 0.13823629232714427\n",
      "\u001b[34m\u001b[1mwandb\u001b[0m: \tkernel_size_1: 88\n",
      "\u001b[34m\u001b[1mwandb\u001b[0m: \tkernel_size_2: 3\n",
      "\u001b[34m\u001b[1mwandb\u001b[0m: \tlr: 0.0009474821682427578\n",
      "\u001b[34m\u001b[1mwandb\u001b[0m: \tmaxpool_1: 3\n",
      "\u001b[34m\u001b[1mwandb\u001b[0m: \tmaxpool_2: 5\n",
      "\u001b[34m\u001b[1mwandb\u001b[0m: \tnum_epoch: 93\n",
      "\u001b[34m\u001b[1mwandb\u001b[0m: \tnum_filters: 58\n",
      "\u001b[34m\u001b[1mwandb\u001b[0m: \tnum_layers: 3\n",
      "\u001b[34m\u001b[1mwandb\u001b[0m: \tresult_dir: /home/quanhhh/Documents/model/result_wandb/\n",
      "\u001b[34m\u001b[1mwandb\u001b[0m: \tstride_1: 3\n",
      "\u001b[34m\u001b[1mwandb\u001b[0m: \tstride_2: 6\n",
      "\u001b[34m\u001b[1mwandb\u001b[0m: \tweight_decay: 0.00013462105031973717\n"
     ]
    },
    {
     "data": {
      "text/html": [
       "Tracking run with wandb version 0.13.4"
      ],
      "text/plain": [
       "<IPython.core.display.HTML object>"
      ]
     },
     "metadata": {},
     "output_type": "display_data"
    },
    {
     "data": {
      "text/html": [
       "Run data is saved locally in <code>/home/quanhhh/Documents/model/wandb/run-20221019_125830-qpy6w9fb</code>"
      ],
      "text/plain": [
       "<IPython.core.display.HTML object>"
      ]
     },
     "metadata": {},
     "output_type": "display_data"
    },
    {
     "data": {
      "text/html": [
       "Syncing run <strong><a href=\"https://wandb.ai/maiquanh/quanh/runs/qpy6w9fb\" target=\"_blank\">unique-sweep-73</a></strong> to <a href=\"https://wandb.ai/maiquanh/quanh\" target=\"_blank\">Weights & Biases</a> (<a href=\"https://wandb.me/run\" target=\"_blank\">docs</a>)<br/>Sweep page:  <a href=\"https://wandb.ai/maiquanh/quanh/sweeps/8p4zr03y\" target=\"_blank\">https://wandb.ai/maiquanh/quanh/sweeps/8p4zr03y</a>"
      ],
      "text/plain": [
       "<IPython.core.display.HTML object>"
      ]
     },
     "metadata": {},
     "output_type": "display_data"
    },
    {
     "name": "stdout",
     "output_type": "stream",
     "text": [
      "-----START TRAINING CLASSIFICATION-----\n",
      "Epoch: 93\t| Train_loss: 0.005921\t|Train accuracy: 97.863361\t| Test_loss: 0.003291\t|Test accuracy: 95.497427\t|Val accuracy: 87.699997 \n",
      "\n",
      "----COMPLETED TRAINING CLASSIFICATION-----\n",
      "val_acc 87.69999694824219\n",
      "ok\n"
     ]
    },
    {
     "data": {
      "text/html": [
       "Waiting for W&B process to finish... <strong style=\"color:green\">(success).</strong>"
      ],
      "text/plain": [
       "<IPython.core.display.HTML object>"
      ]
     },
     "metadata": {},
     "output_type": "display_data"
    },
    {
     "data": {
      "text/html": [
       "<style>\n",
       "    table.wandb td:nth-child(1) { padding: 0 10px; text-align: left ; width: auto;} td:nth-child(2) {text-align: left ; width: 100%}\n",
       "    .wandb-row { display: flex; flex-direction: row; flex-wrap: wrap; justify-content: flex-start; width: 100% }\n",
       "    .wandb-col { display: flex; flex-direction: column; flex-basis: 100%; flex: 1; padding: 10px; }\n",
       "    </style>\n",
       "<div class=\"wandb-row\"><div class=\"wandb-col\"><h3>Run history:</h3><br/><table class=\"wandb\"><tr><td>test_loss</td><td>█▇▅▄▄▄▂▂▂▂▃▂▂▃▂▅▂▂▁▃▃▂▃▁▁▂▂▁▁▁▃▂▁▃▃▃▃▁▁▁</td></tr><tr><td>train_loss</td><td>█▇▅▃▂▂▂▁▁▁▁▁▁▁▁▂▁▁▁▁▁▁▁▁▁▁▁▁▁▁▁▁▁▁▁▁▁▁▁▁</td></tr><tr><td>val_acc</td><td>▁</td></tr></table><br/></div><div class=\"wandb-col\"><h3>Run summary:</h3><br/><table class=\"wandb\"><tr><td>test_loss</td><td>0.00329</td></tr><tr><td>train_loss</td><td>0.00592</td></tr><tr><td>val_acc</td><td>90.0</td></tr></table><br/></div></div>"
      ],
      "text/plain": [
       "<IPython.core.display.HTML object>"
      ]
     },
     "metadata": {},
     "output_type": "display_data"
    },
    {
     "data": {
      "text/html": [
       "Synced <strong style=\"color:#cdcd00\">unique-sweep-73</strong>: <a href=\"https://wandb.ai/maiquanh/quanh/runs/qpy6w9fb\" target=\"_blank\">https://wandb.ai/maiquanh/quanh/runs/qpy6w9fb</a><br/>Synced 6 W&B file(s), 0 media file(s), 0 artifact file(s) and 0 other file(s)"
      ],
      "text/plain": [
       "<IPython.core.display.HTML object>"
      ]
     },
     "metadata": {},
     "output_type": "display_data"
    },
    {
     "data": {
      "text/html": [
       "Find logs at: <code>./wandb/run-20221019_125830-qpy6w9fb/logs</code>"
      ],
      "text/plain": [
       "<IPython.core.display.HTML object>"
      ]
     },
     "metadata": {},
     "output_type": "display_data"
    },
    {
     "name": "stderr",
     "output_type": "stream",
     "text": [
      "\u001b[34m\u001b[1mwandb\u001b[0m: Agent Starting Run: rpg7jylg with config:\n",
      "\u001b[34m\u001b[1mwandb\u001b[0m: \tbatch_size: 128\n",
      "\u001b[34m\u001b[1mwandb\u001b[0m: \td_hidden: 3\n",
      "\u001b[34m\u001b[1mwandb\u001b[0m: \tdata_dir: /home/quanhhh/Documents/model/pickle/\n",
      "\u001b[34m\u001b[1mwandb\u001b[0m: \tdropout: 0.1385888108583921\n",
      "\u001b[34m\u001b[1mwandb\u001b[0m: \tkernel_size_1: 57\n",
      "\u001b[34m\u001b[1mwandb\u001b[0m: \tkernel_size_2: 6\n",
      "\u001b[34m\u001b[1mwandb\u001b[0m: \tlr: 0.00020387304023547113\n",
      "\u001b[34m\u001b[1mwandb\u001b[0m: \tmaxpool_1: 6\n",
      "\u001b[34m\u001b[1mwandb\u001b[0m: \tmaxpool_2: 6\n",
      "\u001b[34m\u001b[1mwandb\u001b[0m: \tnum_epoch: 95\n",
      "\u001b[34m\u001b[1mwandb\u001b[0m: \tnum_filters: 62\n",
      "\u001b[34m\u001b[1mwandb\u001b[0m: \tnum_layers: 4\n",
      "\u001b[34m\u001b[1mwandb\u001b[0m: \tresult_dir: /home/quanhhh/Documents/model/result_wandb/\n",
      "\u001b[34m\u001b[1mwandb\u001b[0m: \tstride_1: 3\n",
      "\u001b[34m\u001b[1mwandb\u001b[0m: \tstride_2: 7\n",
      "\u001b[34m\u001b[1mwandb\u001b[0m: \tweight_decay: 0.00010292128688460044\n"
     ]
    },
    {
     "data": {
      "text/html": [
       "Tracking run with wandb version 0.13.4"
      ],
      "text/plain": [
       "<IPython.core.display.HTML object>"
      ]
     },
     "metadata": {},
     "output_type": "display_data"
    },
    {
     "data": {
      "text/html": [
       "Run data is saved locally in <code>/home/quanhhh/Documents/model/wandb/run-20221019_130608-rpg7jylg</code>"
      ],
      "text/plain": [
       "<IPython.core.display.HTML object>"
      ]
     },
     "metadata": {},
     "output_type": "display_data"
    },
    {
     "data": {
      "text/html": [
       "Syncing run <strong><a href=\"https://wandb.ai/maiquanh/quanh/runs/rpg7jylg\" target=\"_blank\">resilient-sweep-74</a></strong> to <a href=\"https://wandb.ai/maiquanh/quanh\" target=\"_blank\">Weights & Biases</a> (<a href=\"https://wandb.me/run\" target=\"_blank\">docs</a>)<br/>Sweep page:  <a href=\"https://wandb.ai/maiquanh/quanh/sweeps/8p4zr03y\" target=\"_blank\">https://wandb.ai/maiquanh/quanh/sweeps/8p4zr03y</a>"
      ],
      "text/plain": [
       "<IPython.core.display.HTML object>"
      ]
     },
     "metadata": {},
     "output_type": "display_data"
    },
    {
     "name": "stdout",
     "output_type": "stream",
     "text": [
      "-----START TRAINING CLASSIFICATION-----\n",
      "Epoch: 95\t| Train_loss: 0.005975\t|Train accuracy: 97.335795\t| Test_loss: 0.003338\t|Test accuracy: 93.653516\t|Val accuracy: 78.133331 \n",
      "\n",
      "----COMPLETED TRAINING CLASSIFICATION-----\n",
      "val_acc 78.13333129882812\n",
      "ok\n"
     ]
    },
    {
     "data": {
      "text/html": [
       "Waiting for W&B process to finish... <strong style=\"color:green\">(success).</strong>"
      ],
      "text/plain": [
       "<IPython.core.display.HTML object>"
      ]
     },
     "metadata": {},
     "output_type": "display_data"
    },
    {
     "data": {
      "text/html": [
       "<style>\n",
       "    table.wandb td:nth-child(1) { padding: 0 10px; text-align: left ; width: auto;} td:nth-child(2) {text-align: left ; width: 100%}\n",
       "    .wandb-row { display: flex; flex-direction: row; flex-wrap: wrap; justify-content: flex-start; width: 100% }\n",
       "    .wandb-col { display: flex; flex-direction: column; flex-basis: 100%; flex: 1; padding: 10px; }\n",
       "    </style>\n",
       "<div class=\"wandb-row\"><div class=\"wandb-col\"><h3>Run history:</h3><br/><table class=\"wandb\"><tr><td>test_loss</td><td>███▇▆▄▄▄▃▄▂▂▂▂▂▂▂▂▂▃▂▂▁▁▃▃▁▁▁▁▁▁▁▁▁▁▁▂▁▁</td></tr><tr><td>train_loss</td><td>███▇▆▄▄▄▃▃▂▂▂▂▂▂▂▁▂▂▁▁▁▁▁▁▁▁▁▁▁▁▁▁▁▁▁▁▁▁</td></tr><tr><td>val_acc</td><td>▁</td></tr></table><br/></div><div class=\"wandb-col\"><h3>Run summary:</h3><br/><table class=\"wandb\"><tr><td>test_loss</td><td>0.00334</td></tr><tr><td>train_loss</td><td>0.00598</td></tr><tr><td>val_acc</td><td>93.5</td></tr></table><br/></div></div>"
      ],
      "text/plain": [
       "<IPython.core.display.HTML object>"
      ]
     },
     "metadata": {},
     "output_type": "display_data"
    },
    {
     "data": {
      "text/html": [
       "Synced <strong style=\"color:#cdcd00\">resilient-sweep-74</strong>: <a href=\"https://wandb.ai/maiquanh/quanh/runs/rpg7jylg\" target=\"_blank\">https://wandb.ai/maiquanh/quanh/runs/rpg7jylg</a><br/>Synced 6 W&B file(s), 0 media file(s), 0 artifact file(s) and 0 other file(s)"
      ],
      "text/plain": [
       "<IPython.core.display.HTML object>"
      ]
     },
     "metadata": {},
     "output_type": "display_data"
    },
    {
     "data": {
      "text/html": [
       "Find logs at: <code>./wandb/run-20221019_130608-rpg7jylg/logs</code>"
      ],
      "text/plain": [
       "<IPython.core.display.HTML object>"
      ]
     },
     "metadata": {},
     "output_type": "display_data"
    },
    {
     "name": "stderr",
     "output_type": "stream",
     "text": [
      "\u001b[34m\u001b[1mwandb\u001b[0m: Agent Starting Run: 2kcs0m7c with config:\n",
      "\u001b[34m\u001b[1mwandb\u001b[0m: \tbatch_size: 128\n",
      "\u001b[34m\u001b[1mwandb\u001b[0m: \td_hidden: 3\n",
      "\u001b[34m\u001b[1mwandb\u001b[0m: \tdata_dir: /home/quanhhh/Documents/model/pickle/\n",
      "\u001b[34m\u001b[1mwandb\u001b[0m: \tdropout: 0.117503836865074\n",
      "\u001b[34m\u001b[1mwandb\u001b[0m: \tkernel_size_1: 94\n",
      "\u001b[34m\u001b[1mwandb\u001b[0m: \tkernel_size_2: 8\n",
      "\u001b[34m\u001b[1mwandb\u001b[0m: \tlr: 0.0008907832578833524\n",
      "\u001b[34m\u001b[1mwandb\u001b[0m: \tmaxpool_1: 6\n",
      "\u001b[34m\u001b[1mwandb\u001b[0m: \tmaxpool_2: 8\n",
      "\u001b[34m\u001b[1mwandb\u001b[0m: \tnum_epoch: 94\n",
      "\u001b[34m\u001b[1mwandb\u001b[0m: \tnum_filters: 60\n",
      "\u001b[34m\u001b[1mwandb\u001b[0m: \tnum_layers: 3\n",
      "\u001b[34m\u001b[1mwandb\u001b[0m: \tresult_dir: /home/quanhhh/Documents/model/result_wandb/\n",
      "\u001b[34m\u001b[1mwandb\u001b[0m: \tstride_1: 4\n",
      "\u001b[34m\u001b[1mwandb\u001b[0m: \tstride_2: 4\n",
      "\u001b[34m\u001b[1mwandb\u001b[0m: \tweight_decay: 0.0002434578262912597\n"
     ]
    },
    {
     "data": {
      "text/html": [
       "Tracking run with wandb version 0.13.4"
      ],
      "text/plain": [
       "<IPython.core.display.HTML object>"
      ]
     },
     "metadata": {},
     "output_type": "display_data"
    },
    {
     "data": {
      "text/html": [
       "Run data is saved locally in <code>/home/quanhhh/Documents/model/wandb/run-20221019_131251-2kcs0m7c</code>"
      ],
      "text/plain": [
       "<IPython.core.display.HTML object>"
      ]
     },
     "metadata": {},
     "output_type": "display_data"
    },
    {
     "data": {
      "text/html": [
       "Syncing run <strong><a href=\"https://wandb.ai/maiquanh/quanh/runs/2kcs0m7c\" target=\"_blank\">honest-sweep-75</a></strong> to <a href=\"https://wandb.ai/maiquanh/quanh\" target=\"_blank\">Weights & Biases</a> (<a href=\"https://wandb.me/run\" target=\"_blank\">docs</a>)<br/>Sweep page:  <a href=\"https://wandb.ai/maiquanh/quanh/sweeps/8p4zr03y\" target=\"_blank\">https://wandb.ai/maiquanh/quanh/sweeps/8p4zr03y</a>"
      ],
      "text/plain": [
       "<IPython.core.display.HTML object>"
      ]
     },
     "metadata": {},
     "output_type": "display_data"
    },
    {
     "name": "stdout",
     "output_type": "stream",
     "text": [
      "-----START TRAINING CLASSIFICATION-----\n",
      "Epoch: 94\t| Train_loss: 0.005634\t|Train accuracy: 98.826167\t| Test_loss: 0.003163\t|Test accuracy: 94.082333\t|Val accuracy: 82.433334 \n",
      "\n",
      "----COMPLETED TRAINING CLASSIFICATION-----\n",
      "val_acc 82.43333435058594\n",
      "ok\n"
     ]
    },
    {
     "data": {
      "text/html": [
       "Waiting for W&B process to finish... <strong style=\"color:green\">(success).</strong>"
      ],
      "text/plain": [
       "<IPython.core.display.HTML object>"
      ]
     },
     "metadata": {},
     "output_type": "display_data"
    },
    {
     "data": {
      "text/html": [
       "<style>\n",
       "    table.wandb td:nth-child(1) { padding: 0 10px; text-align: left ; width: auto;} td:nth-child(2) {text-align: left ; width: 100%}\n",
       "    .wandb-row { display: flex; flex-direction: row; flex-wrap: wrap; justify-content: flex-start; width: 100% }\n",
       "    .wandb-col { display: flex; flex-direction: column; flex-basis: 100%; flex: 1; padding: 10px; }\n",
       "    </style>\n",
       "<div class=\"wandb-row\"><div class=\"wandb-col\"><h3>Run history:</h3><br/><table class=\"wandb\"><tr><td>test_loss</td><td>█▇▆▄▃▃▃▆▂▃▃▃▃▃▂▃▃▃▃▃▃▂▁▂▁▁▁▃▁▃▁▂▂▁▁▂▂▄▁▁</td></tr><tr><td>train_loss</td><td>█▇▆▃▂▂▂▁▁▁▂▁▁▁▁▁▁▁▁▁▁▁▁▁▁▁▁▁▁▂▁▁▁▁▁▁▁▁▁▁</td></tr><tr><td>val_acc</td><td>▁</td></tr></table><br/></div><div class=\"wandb-col\"><h3>Run summary:</h3><br/><table class=\"wandb\"><tr><td>test_loss</td><td>0.00316</td></tr><tr><td>train_loss</td><td>0.00563</td></tr><tr><td>val_acc</td><td>93.26666</td></tr></table><br/></div></div>"
      ],
      "text/plain": [
       "<IPython.core.display.HTML object>"
      ]
     },
     "metadata": {},
     "output_type": "display_data"
    },
    {
     "data": {
      "text/html": [
       "Synced <strong style=\"color:#cdcd00\">honest-sweep-75</strong>: <a href=\"https://wandb.ai/maiquanh/quanh/runs/2kcs0m7c\" target=\"_blank\">https://wandb.ai/maiquanh/quanh/runs/2kcs0m7c</a><br/>Synced 6 W&B file(s), 0 media file(s), 0 artifact file(s) and 0 other file(s)"
      ],
      "text/plain": [
       "<IPython.core.display.HTML object>"
      ]
     },
     "metadata": {},
     "output_type": "display_data"
    },
    {
     "data": {
      "text/html": [
       "Find logs at: <code>./wandb/run-20221019_131251-2kcs0m7c/logs</code>"
      ],
      "text/plain": [
       "<IPython.core.display.HTML object>"
      ]
     },
     "metadata": {},
     "output_type": "display_data"
    },
    {
     "name": "stderr",
     "output_type": "stream",
     "text": [
      "\u001b[34m\u001b[1mwandb\u001b[0m: Sweep Agent: Waiting for job.\n",
      "\u001b[34m\u001b[1mwandb\u001b[0m: Job received.\n",
      "\u001b[34m\u001b[1mwandb\u001b[0m: Agent Starting Run: ipnmznwk with config:\n",
      "\u001b[34m\u001b[1mwandb\u001b[0m: \tbatch_size: 128\n",
      "\u001b[34m\u001b[1mwandb\u001b[0m: \td_hidden: 3\n",
      "\u001b[34m\u001b[1mwandb\u001b[0m: \tdata_dir: /home/quanhhh/Documents/model/pickle/\n",
      "\u001b[34m\u001b[1mwandb\u001b[0m: \tdropout: 0.12314534258202343\n",
      "\u001b[34m\u001b[1mwandb\u001b[0m: \tkernel_size_1: 80\n",
      "\u001b[34m\u001b[1mwandb\u001b[0m: \tkernel_size_2: 8\n",
      "\u001b[34m\u001b[1mwandb\u001b[0m: \tlr: 0.004630037868358896\n",
      "\u001b[34m\u001b[1mwandb\u001b[0m: \tmaxpool_1: 5\n",
      "\u001b[34m\u001b[1mwandb\u001b[0m: \tmaxpool_2: 8\n",
      "\u001b[34m\u001b[1mwandb\u001b[0m: \tnum_epoch: 99\n",
      "\u001b[34m\u001b[1mwandb\u001b[0m: \tnum_filters: 40\n",
      "\u001b[34m\u001b[1mwandb\u001b[0m: \tnum_layers: 2\n",
      "\u001b[34m\u001b[1mwandb\u001b[0m: \tresult_dir: /home/quanhhh/Documents/model/result_wandb/\n",
      "\u001b[34m\u001b[1mwandb\u001b[0m: \tstride_1: 7\n",
      "\u001b[34m\u001b[1mwandb\u001b[0m: \tstride_2: 6\n",
      "\u001b[34m\u001b[1mwandb\u001b[0m: \tweight_decay: 0.0002964201282586029\n"
     ]
    },
    {
     "data": {
      "text/html": [
       "Tracking run with wandb version 0.13.4"
      ],
      "text/plain": [
       "<IPython.core.display.HTML object>"
      ]
     },
     "metadata": {},
     "output_type": "display_data"
    },
    {
     "data": {
      "text/html": [
       "Run data is saved locally in <code>/home/quanhhh/Documents/model/wandb/run-20221019_131912-ipnmznwk</code>"
      ],
      "text/plain": [
       "<IPython.core.display.HTML object>"
      ]
     },
     "metadata": {},
     "output_type": "display_data"
    },
    {
     "data": {
      "text/html": [
       "Syncing run <strong><a href=\"https://wandb.ai/maiquanh/quanh/runs/ipnmznwk\" target=\"_blank\">expert-sweep-76</a></strong> to <a href=\"https://wandb.ai/maiquanh/quanh\" target=\"_blank\">Weights & Biases</a> (<a href=\"https://wandb.me/run\" target=\"_blank\">docs</a>)<br/>Sweep page:  <a href=\"https://wandb.ai/maiquanh/quanh/sweeps/8p4zr03y\" target=\"_blank\">https://wandb.ai/maiquanh/quanh/sweeps/8p4zr03y</a>"
      ],
      "text/plain": [
       "<IPython.core.display.HTML object>"
      ]
     },
     "metadata": {},
     "output_type": "display_data"
    },
    {
     "name": "stdout",
     "output_type": "stream",
     "text": [
      "-----START TRAINING CLASSIFICATION-----\n",
      "Epoch: 99\t| Train_loss: 0.005633\t|Train accuracy: 98.799789\t| Test_loss: 0.003151\t|Test accuracy: 94.939966\t|Val accuracy: 90.633331 \n",
      "\n",
      "----COMPLETED TRAINING CLASSIFICATION-----\n",
      "val_acc 90.63333129882812\n",
      "ok\n"
     ]
    },
    {
     "data": {
      "text/html": [
       "Waiting for W&B process to finish... <strong style=\"color:green\">(success).</strong>"
      ],
      "text/plain": [
       "<IPython.core.display.HTML object>"
      ]
     },
     "metadata": {},
     "output_type": "display_data"
    },
    {
     "data": {
      "text/html": [
       "<style>\n",
       "    table.wandb td:nth-child(1) { padding: 0 10px; text-align: left ; width: auto;} td:nth-child(2) {text-align: left ; width: 100%}\n",
       "    .wandb-row { display: flex; flex-direction: row; flex-wrap: wrap; justify-content: flex-start; width: 100% }\n",
       "    .wandb-col { display: flex; flex-direction: column; flex-basis: 100%; flex: 1; padding: 10px; }\n",
       "    </style>\n",
       "<div class=\"wandb-row\"><div class=\"wandb-col\"><h3>Run history:</h3><br/><table class=\"wandb\"><tr><td>test_loss</td><td>█▄▄▄▄▄▄▃▂▃▃▃▇▂▂▃▁▁▁▂▂▃▃▃▃▁▂▂▃▂▃▂▂▃▃▂▁▃▁▁</td></tr><tr><td>train_loss</td><td>█▂▂▂▁▁▁▁▁▁▁▁▁▁▁▁▁▁▁▁▁▁▁▁▁▁▁▁▁▁▁▁▁▁▁▁▁▁▁▁</td></tr><tr><td>val_acc</td><td>▁</td></tr></table><br/></div><div class=\"wandb-col\"><h3>Run summary:</h3><br/><table class=\"wandb\"><tr><td>test_loss</td><td>0.00315</td></tr><tr><td>train_loss</td><td>0.00563</td></tr><tr><td>val_acc</td><td>94.16666</td></tr></table><br/></div></div>"
      ],
      "text/plain": [
       "<IPython.core.display.HTML object>"
      ]
     },
     "metadata": {},
     "output_type": "display_data"
    },
    {
     "data": {
      "text/html": [
       "Synced <strong style=\"color:#cdcd00\">expert-sweep-76</strong>: <a href=\"https://wandb.ai/maiquanh/quanh/runs/ipnmznwk\" target=\"_blank\">https://wandb.ai/maiquanh/quanh/runs/ipnmznwk</a><br/>Synced 6 W&B file(s), 0 media file(s), 0 artifact file(s) and 0 other file(s)"
      ],
      "text/plain": [
       "<IPython.core.display.HTML object>"
      ]
     },
     "metadata": {},
     "output_type": "display_data"
    },
    {
     "data": {
      "text/html": [
       "Find logs at: <code>./wandb/run-20221019_131912-ipnmznwk/logs</code>"
      ],
      "text/plain": [
       "<IPython.core.display.HTML object>"
      ]
     },
     "metadata": {},
     "output_type": "display_data"
    },
    {
     "name": "stderr",
     "output_type": "stream",
     "text": [
      "\u001b[34m\u001b[1mwandb\u001b[0m: Sweep Agent: Waiting for job.\n",
      "\u001b[34m\u001b[1mwandb\u001b[0m: Job received.\n",
      "\u001b[34m\u001b[1mwandb\u001b[0m: Agent Starting Run: u0huosp9 with config:\n",
      "\u001b[34m\u001b[1mwandb\u001b[0m: \tbatch_size: 128\n",
      "\u001b[34m\u001b[1mwandb\u001b[0m: \td_hidden: 3\n",
      "\u001b[34m\u001b[1mwandb\u001b[0m: \tdata_dir: /home/quanhhh/Documents/model/pickle/\n",
      "\u001b[34m\u001b[1mwandb\u001b[0m: \tdropout: 0.10333053696902592\n",
      "\u001b[34m\u001b[1mwandb\u001b[0m: \tkernel_size_1: 81\n",
      "\u001b[34m\u001b[1mwandb\u001b[0m: \tkernel_size_2: 8\n",
      "\u001b[34m\u001b[1mwandb\u001b[0m: \tlr: 0.0001746207468720802\n",
      "\u001b[34m\u001b[1mwandb\u001b[0m: \tmaxpool_1: 3\n",
      "\u001b[34m\u001b[1mwandb\u001b[0m: \tmaxpool_2: 8\n",
      "\u001b[34m\u001b[1mwandb\u001b[0m: \tnum_epoch: 90\n",
      "\u001b[34m\u001b[1mwandb\u001b[0m: \tnum_filters: 38\n",
      "\u001b[34m\u001b[1mwandb\u001b[0m: \tnum_layers: 4\n",
      "\u001b[34m\u001b[1mwandb\u001b[0m: \tresult_dir: /home/quanhhh/Documents/model/result_wandb/\n",
      "\u001b[34m\u001b[1mwandb\u001b[0m: \tstride_1: 4\n",
      "\u001b[34m\u001b[1mwandb\u001b[0m: \tstride_2: 9\n",
      "\u001b[34m\u001b[1mwandb\u001b[0m: \tweight_decay: 0.00025416483400661537\n"
     ]
    },
    {
     "data": {
      "text/html": [
       "Tracking run with wandb version 0.13.4"
      ],
      "text/plain": [
       "<IPython.core.display.HTML object>"
      ]
     },
     "metadata": {},
     "output_type": "display_data"
    },
    {
     "data": {
      "text/html": [
       "Run data is saved locally in <code>/home/quanhhh/Documents/model/wandb/run-20221019_132236-u0huosp9</code>"
      ],
      "text/plain": [
       "<IPython.core.display.HTML object>"
      ]
     },
     "metadata": {},
     "output_type": "display_data"
    },
    {
     "data": {
      "text/html": [
       "Syncing run <strong><a href=\"https://wandb.ai/maiquanh/quanh/runs/u0huosp9\" target=\"_blank\">different-sweep-77</a></strong> to <a href=\"https://wandb.ai/maiquanh/quanh\" target=\"_blank\">Weights & Biases</a> (<a href=\"https://wandb.me/run\" target=\"_blank\">docs</a>)<br/>Sweep page:  <a href=\"https://wandb.ai/maiquanh/quanh/sweeps/8p4zr03y\" target=\"_blank\">https://wandb.ai/maiquanh/quanh/sweeps/8p4zr03y</a>"
      ],
      "text/plain": [
       "<IPython.core.display.HTML object>"
      ]
     },
     "metadata": {},
     "output_type": "display_data"
    },
    {
     "name": "stdout",
     "output_type": "stream",
     "text": [
      "-----START TRAINING CLASSIFICATION-----\n",
      "Epoch: 90\t| Train_loss: 0.007229\t|Train accuracy: 70.733316\t| Test_loss: 0.004154\t|Test accuracy: 58.876501\t|Val accuracy: 62.700001 \n",
      "\n",
      "----COMPLETED TRAINING CLASSIFICATION-----\n",
      "val_acc 62.70000076293945\n",
      "ok\n"
     ]
    },
    {
     "data": {
      "text/html": [
       "Waiting for W&B process to finish... <strong style=\"color:green\">(success).</strong>"
      ],
      "text/plain": [
       "<IPython.core.display.HTML object>"
      ]
     },
     "metadata": {},
     "output_type": "display_data"
    },
    {
     "data": {
      "text/html": [
       "<style>\n",
       "    table.wandb td:nth-child(1) { padding: 0 10px; text-align: left ; width: auto;} td:nth-child(2) {text-align: left ; width: 100%}\n",
       "    .wandb-row { display: flex; flex-direction: row; flex-wrap: wrap; justify-content: flex-start; width: 100% }\n",
       "    .wandb-col { display: flex; flex-direction: column; flex-basis: 100%; flex: 1; padding: 10px; }\n",
       "    </style>\n",
       "<div class=\"wandb-row\"><div class=\"wandb-col\"><h3>Run history:</h3><br/><table class=\"wandb\"><tr><td>test_loss</td><td>███████▇▆▅▇▄▃▃▃▂▁▃▃▂▁▂▂▁▂▁▂▁▂▂▂▁▁▁▁▁▂▂▂▂</td></tr><tr><td>train_loss</td><td>███████▇▆▅▅▄▄▃▃▃▃▃▃▂▂▂▂▂▂▂▂▂▂▂▁▁▁▁▁▁▁▁▁▁</td></tr><tr><td>val_acc</td><td>▁</td></tr></table><br/></div><div class=\"wandb-col\"><h3>Run summary:</h3><br/><table class=\"wandb\"><tr><td>test_loss</td><td>0.00415</td></tr><tr><td>train_loss</td><td>0.00723</td></tr><tr><td>val_acc</td><td>66.6</td></tr></table><br/></div></div>"
      ],
      "text/plain": [
       "<IPython.core.display.HTML object>"
      ]
     },
     "metadata": {},
     "output_type": "display_data"
    },
    {
     "data": {
      "text/html": [
       "Synced <strong style=\"color:#cdcd00\">different-sweep-77</strong>: <a href=\"https://wandb.ai/maiquanh/quanh/runs/u0huosp9\" target=\"_blank\">https://wandb.ai/maiquanh/quanh/runs/u0huosp9</a><br/>Synced 6 W&B file(s), 0 media file(s), 0 artifact file(s) and 0 other file(s)"
      ],
      "text/plain": [
       "<IPython.core.display.HTML object>"
      ]
     },
     "metadata": {},
     "output_type": "display_data"
    },
    {
     "data": {
      "text/html": [
       "Find logs at: <code>./wandb/run-20221019_132236-u0huosp9/logs</code>"
      ],
      "text/plain": [
       "<IPython.core.display.HTML object>"
      ]
     },
     "metadata": {},
     "output_type": "display_data"
    },
    {
     "name": "stderr",
     "output_type": "stream",
     "text": [
      "\u001b[34m\u001b[1mwandb\u001b[0m: Sweep Agent: Waiting for job.\n",
      "\u001b[34m\u001b[1mwandb\u001b[0m: Job received.\n",
      "\u001b[34m\u001b[1mwandb\u001b[0m: Agent Starting Run: 43x6lbfw with config:\n",
      "\u001b[34m\u001b[1mwandb\u001b[0m: \tbatch_size: 128\n",
      "\u001b[34m\u001b[1mwandb\u001b[0m: \td_hidden: 3\n",
      "\u001b[34m\u001b[1mwandb\u001b[0m: \tdata_dir: /home/quanhhh/Documents/model/pickle/\n",
      "\u001b[34m\u001b[1mwandb\u001b[0m: \tdropout: 0.1022702572856596\n",
      "\u001b[34m\u001b[1mwandb\u001b[0m: \tkernel_size_1: 95\n",
      "\u001b[34m\u001b[1mwandb\u001b[0m: \tkernel_size_2: 4\n",
      "\u001b[34m\u001b[1mwandb\u001b[0m: \tlr: 0.004285372022067235\n",
      "\u001b[34m\u001b[1mwandb\u001b[0m: \tmaxpool_1: 4\n",
      "\u001b[34m\u001b[1mwandb\u001b[0m: \tmaxpool_2: 3\n",
      "\u001b[34m\u001b[1mwandb\u001b[0m: \tnum_epoch: 90\n",
      "\u001b[34m\u001b[1mwandb\u001b[0m: \tnum_filters: 29\n",
      "\u001b[34m\u001b[1mwandb\u001b[0m: \tnum_layers: 2\n",
      "\u001b[34m\u001b[1mwandb\u001b[0m: \tresult_dir: /home/quanhhh/Documents/model/result_wandb/\n",
      "\u001b[34m\u001b[1mwandb\u001b[0m: \tstride_1: 9\n",
      "\u001b[34m\u001b[1mwandb\u001b[0m: \tstride_2: 3\n",
      "\u001b[34m\u001b[1mwandb\u001b[0m: \tweight_decay: 0.00018214051768275825\n"
     ]
    },
    {
     "data": {
      "text/html": [
       "Tracking run with wandb version 0.13.4"
      ],
      "text/plain": [
       "<IPython.core.display.HTML object>"
      ]
     },
     "metadata": {},
     "output_type": "display_data"
    },
    {
     "data": {
      "text/html": [
       "Run data is saved locally in <code>/home/quanhhh/Documents/model/wandb/run-20221019_132711-43x6lbfw</code>"
      ],
      "text/plain": [
       "<IPython.core.display.HTML object>"
      ]
     },
     "metadata": {},
     "output_type": "display_data"
    },
    {
     "data": {
      "text/html": [
       "Syncing run <strong><a href=\"https://wandb.ai/maiquanh/quanh/runs/43x6lbfw\" target=\"_blank\">fragrant-sweep-78</a></strong> to <a href=\"https://wandb.ai/maiquanh/quanh\" target=\"_blank\">Weights & Biases</a> (<a href=\"https://wandb.me/run\" target=\"_blank\">docs</a>)<br/>Sweep page:  <a href=\"https://wandb.ai/maiquanh/quanh/sweeps/8p4zr03y\" target=\"_blank\">https://wandb.ai/maiquanh/quanh/sweeps/8p4zr03y</a>"
      ],
      "text/plain": [
       "<IPython.core.display.HTML object>"
      ]
     },
     "metadata": {},
     "output_type": "display_data"
    },
    {
     "name": "stdout",
     "output_type": "stream",
     "text": [
      "-----START TRAINING CLASSIFICATION-----\n",
      "Epoch: 90\t| Train_loss: 0.005686\t|Train accuracy: 96.346610\t| Test_loss: 0.003600\t|Test accuracy: 78.387650\t|Val accuracy: 73.433334 \n",
      "\n",
      "----COMPLETED TRAINING CLASSIFICATION-----\n",
      "val_acc 73.43333435058594\n",
      "ok\n"
     ]
    },
    {
     "data": {
      "text/html": [
       "Waiting for W&B process to finish... <strong style=\"color:green\">(success).</strong>"
      ],
      "text/plain": [
       "<IPython.core.display.HTML object>"
      ]
     },
     "metadata": {},
     "output_type": "display_data"
    },
    {
     "data": {
      "text/html": [
       "<style>\n",
       "    table.wandb td:nth-child(1) { padding: 0 10px; text-align: left ; width: auto;} td:nth-child(2) {text-align: left ; width: 100%}\n",
       "    .wandb-row { display: flex; flex-direction: row; flex-wrap: wrap; justify-content: flex-start; width: 100% }\n",
       "    .wandb-col { display: flex; flex-direction: column; flex-basis: 100%; flex: 1; padding: 10px; }\n",
       "    </style>\n",
       "<div class=\"wandb-row\"><div class=\"wandb-col\"><h3>Run history:</h3><br/><table class=\"wandb\"><tr><td>test_loss</td><td>█▅▃▄▃▄▃▃▃▅▃▃▃▂▃▂▃▂▂▁▁▂▃▂▂▁▁▁▂▃▃▃▁▁▁▁▂▂▁▃</td></tr><tr><td>train_loss</td><td>█▄▂▂▁▁▁▁▁▁▁▁▁▁▁▁▁▁▁▁▁▁▁▁▁▁▁▁▁▁▁▁▁▁▁▁▁▁▁▁</td></tr><tr><td>val_acc</td><td>▁</td></tr></table><br/></div><div class=\"wandb-col\"><h3>Run summary:</h3><br/><table class=\"wandb\"><tr><td>test_loss</td><td>0.0036</td></tr><tr><td>train_loss</td><td>0.00569</td></tr><tr><td>val_acc</td><td>91.1</td></tr></table><br/></div></div>"
      ],
      "text/plain": [
       "<IPython.core.display.HTML object>"
      ]
     },
     "metadata": {},
     "output_type": "display_data"
    },
    {
     "data": {
      "text/html": [
       "Synced <strong style=\"color:#cdcd00\">fragrant-sweep-78</strong>: <a href=\"https://wandb.ai/maiquanh/quanh/runs/43x6lbfw\" target=\"_blank\">https://wandb.ai/maiquanh/quanh/runs/43x6lbfw</a><br/>Synced 6 W&B file(s), 0 media file(s), 0 artifact file(s) and 0 other file(s)"
      ],
      "text/plain": [
       "<IPython.core.display.HTML object>"
      ]
     },
     "metadata": {},
     "output_type": "display_data"
    },
    {
     "data": {
      "text/html": [
       "Find logs at: <code>./wandb/run-20221019_132711-43x6lbfw/logs</code>"
      ],
      "text/plain": [
       "<IPython.core.display.HTML object>"
      ]
     },
     "metadata": {},
     "output_type": "display_data"
    },
    {
     "name": "stderr",
     "output_type": "stream",
     "text": [
      "\u001b[34m\u001b[1mwandb\u001b[0m: Agent Starting Run: bv6ovyrk with config:\n",
      "\u001b[34m\u001b[1mwandb\u001b[0m: \tbatch_size: 128\n",
      "\u001b[34m\u001b[1mwandb\u001b[0m: \td_hidden: 3\n",
      "\u001b[34m\u001b[1mwandb\u001b[0m: \tdata_dir: /home/quanhhh/Documents/model/pickle/\n",
      "\u001b[34m\u001b[1mwandb\u001b[0m: \tdropout: 0.1717448515713223\n",
      "\u001b[34m\u001b[1mwandb\u001b[0m: \tkernel_size_1: 75\n",
      "\u001b[34m\u001b[1mwandb\u001b[0m: \tkernel_size_2: 4\n",
      "\u001b[34m\u001b[1mwandb\u001b[0m: \tlr: 0.0001775553962126162\n",
      "\u001b[34m\u001b[1mwandb\u001b[0m: \tmaxpool_1: 6\n",
      "\u001b[34m\u001b[1mwandb\u001b[0m: \tmaxpool_2: 6\n",
      "\u001b[34m\u001b[1mwandb\u001b[0m: \tnum_epoch: 99\n",
      "\u001b[34m\u001b[1mwandb\u001b[0m: \tnum_filters: 50\n",
      "\u001b[34m\u001b[1mwandb\u001b[0m: \tnum_layers: 2\n",
      "\u001b[34m\u001b[1mwandb\u001b[0m: \tresult_dir: /home/quanhhh/Documents/model/result_wandb/\n",
      "\u001b[34m\u001b[1mwandb\u001b[0m: \tstride_1: 3\n",
      "\u001b[34m\u001b[1mwandb\u001b[0m: \tstride_2: 7\n",
      "\u001b[34m\u001b[1mwandb\u001b[0m: \tweight_decay: 0.0001760707575880081\n"
     ]
    },
    {
     "data": {
      "text/html": [
       "Tracking run with wandb version 0.13.4"
      ],
      "text/plain": [
       "<IPython.core.display.HTML object>"
      ]
     },
     "metadata": {},
     "output_type": "display_data"
    },
    {
     "data": {
      "text/html": [
       "Run data is saved locally in <code>/home/quanhhh/Documents/model/wandb/run-20221019_132932-bv6ovyrk</code>"
      ],
      "text/plain": [
       "<IPython.core.display.HTML object>"
      ]
     },
     "metadata": {},
     "output_type": "display_data"
    },
    {
     "data": {
      "text/html": [
       "Syncing run <strong><a href=\"https://wandb.ai/maiquanh/quanh/runs/bv6ovyrk\" target=\"_blank\">grateful-sweep-79</a></strong> to <a href=\"https://wandb.ai/maiquanh/quanh\" target=\"_blank\">Weights & Biases</a> (<a href=\"https://wandb.me/run\" target=\"_blank\">docs</a>)<br/>Sweep page:  <a href=\"https://wandb.ai/maiquanh/quanh/sweeps/8p4zr03y\" target=\"_blank\">https://wandb.ai/maiquanh/quanh/sweeps/8p4zr03y</a>"
      ],
      "text/plain": [
       "<IPython.core.display.HTML object>"
      ]
     },
     "metadata": {},
     "output_type": "display_data"
    },
    {
     "name": "stdout",
     "output_type": "stream",
     "text": [
      "-----START TRAINING CLASSIFICATION-----\n",
      "Epoch: 99\t| Train_loss: 0.005658\t|Train accuracy: 99.485624\t| Test_loss: 0.003167\t|Test accuracy: 96.054889\t|Val accuracy: 92.966667 \n",
      "\n",
      "----COMPLETED TRAINING CLASSIFICATION-----\n",
      "val_acc 92.96666717529297\n",
      "ok\n"
     ]
    },
    {
     "data": {
      "text/html": [
       "Waiting for W&B process to finish... <strong style=\"color:green\">(success).</strong>"
      ],
      "text/plain": [
       "<IPython.core.display.HTML object>"
      ]
     },
     "metadata": {},
     "output_type": "display_data"
    },
    {
     "data": {
      "text/html": [
       "<style>\n",
       "    table.wandb td:nth-child(1) { padding: 0 10px; text-align: left ; width: auto;} td:nth-child(2) {text-align: left ; width: 100%}\n",
       "    .wandb-row { display: flex; flex-direction: row; flex-wrap: wrap; justify-content: flex-start; width: 100% }\n",
       "    .wandb-col { display: flex; flex-direction: column; flex-basis: 100%; flex: 1; padding: 10px; }\n",
       "    </style>\n",
       "<div class=\"wandb-row\"><div class=\"wandb-col\"><h3>Run history:</h3><br/><table class=\"wandb\"><tr><td>test_loss</td><td>███▇▇▆▆▆▅▄▄▃▃▃▄▃▃▂▂▃▂▃▂▂▂▁▁▁▁▁▂▁▁▁▁▁▁▁▁▁</td></tr><tr><td>train_loss</td><td>███▇▇▆▆▅▄▄▃▃▃▃▃▂▂▂▂▂▂▂▂▂▁▁▁▁▁▁▁▁▁▁▁▁▁▁▁▁</td></tr><tr><td>val_acc</td><td>▁</td></tr></table><br/></div><div class=\"wandb-col\"><h3>Run summary:</h3><br/><table class=\"wandb\"><tr><td>test_loss</td><td>0.00317</td></tr><tr><td>train_loss</td><td>0.00566</td></tr><tr><td>val_acc</td><td>95.43333</td></tr></table><br/></div></div>"
      ],
      "text/plain": [
       "<IPython.core.display.HTML object>"
      ]
     },
     "metadata": {},
     "output_type": "display_data"
    },
    {
     "data": {
      "text/html": [
       "Synced <strong style=\"color:#cdcd00\">grateful-sweep-79</strong>: <a href=\"https://wandb.ai/maiquanh/quanh/runs/bv6ovyrk\" target=\"_blank\">https://wandb.ai/maiquanh/quanh/runs/bv6ovyrk</a><br/>Synced 6 W&B file(s), 0 media file(s), 0 artifact file(s) and 0 other file(s)"
      ],
      "text/plain": [
       "<IPython.core.display.HTML object>"
      ]
     },
     "metadata": {},
     "output_type": "display_data"
    },
    {
     "data": {
      "text/html": [
       "Find logs at: <code>./wandb/run-20221019_132932-bv6ovyrk/logs</code>"
      ],
      "text/plain": [
       "<IPython.core.display.HTML object>"
      ]
     },
     "metadata": {},
     "output_type": "display_data"
    },
    {
     "name": "stderr",
     "output_type": "stream",
     "text": [
      "\u001b[34m\u001b[1mwandb\u001b[0m: Agent Starting Run: rnzmb9ub with config:\n",
      "\u001b[34m\u001b[1mwandb\u001b[0m: \tbatch_size: 128\n",
      "\u001b[34m\u001b[1mwandb\u001b[0m: \td_hidden: 3\n",
      "\u001b[34m\u001b[1mwandb\u001b[0m: \tdata_dir: /home/quanhhh/Documents/model/pickle/\n",
      "\u001b[34m\u001b[1mwandb\u001b[0m: \tdropout: 0.12098965792113196\n",
      "\u001b[34m\u001b[1mwandb\u001b[0m: \tkernel_size_1: 96\n",
      "\u001b[34m\u001b[1mwandb\u001b[0m: \tkernel_size_2: 4\n",
      "\u001b[34m\u001b[1mwandb\u001b[0m: \tlr: 0.0001643525771567175\n",
      "\u001b[34m\u001b[1mwandb\u001b[0m: \tmaxpool_1: 5\n",
      "\u001b[34m\u001b[1mwandb\u001b[0m: \tmaxpool_2: 7\n",
      "\u001b[34m\u001b[1mwandb\u001b[0m: \tnum_epoch: 89\n",
      "\u001b[34m\u001b[1mwandb\u001b[0m: \tnum_filters: 42\n",
      "\u001b[34m\u001b[1mwandb\u001b[0m: \tnum_layers: 4\n",
      "\u001b[34m\u001b[1mwandb\u001b[0m: \tresult_dir: /home/quanhhh/Documents/model/result_wandb/\n",
      "\u001b[34m\u001b[1mwandb\u001b[0m: \tstride_1: 4\n",
      "\u001b[34m\u001b[1mwandb\u001b[0m: \tstride_2: 4\n",
      "\u001b[34m\u001b[1mwandb\u001b[0m: \tweight_decay: 0.00014587512503154995\n"
     ]
    },
    {
     "data": {
      "text/html": [
       "Tracking run with wandb version 0.13.4"
      ],
      "text/plain": [
       "<IPython.core.display.HTML object>"
      ]
     },
     "metadata": {},
     "output_type": "display_data"
    },
    {
     "data": {
      "text/html": [
       "Run data is saved locally in <code>/home/quanhhh/Documents/model/wandb/run-20221019_133545-rnzmb9ub</code>"
      ],
      "text/plain": [
       "<IPython.core.display.HTML object>"
      ]
     },
     "metadata": {},
     "output_type": "display_data"
    },
    {
     "data": {
      "text/html": [
       "Syncing run <strong><a href=\"https://wandb.ai/maiquanh/quanh/runs/rnzmb9ub\" target=\"_blank\">fallen-sweep-80</a></strong> to <a href=\"https://wandb.ai/maiquanh/quanh\" target=\"_blank\">Weights & Biases</a> (<a href=\"https://wandb.me/run\" target=\"_blank\">docs</a>)<br/>Sweep page:  <a href=\"https://wandb.ai/maiquanh/quanh/sweeps/8p4zr03y\" target=\"_blank\">https://wandb.ai/maiquanh/quanh/sweeps/8p4zr03y</a>"
      ],
      "text/plain": [
       "<IPython.core.display.HTML object>"
      ]
     },
     "metadata": {},
     "output_type": "display_data"
    },
    {
     "name": "stdout",
     "output_type": "stream",
     "text": [
      "-----START TRAINING CLASSIFICATION-----\n",
      "Epoch: 89\t| Train_loss: 0.006032\t|Train accuracy: 98.166711\t| Test_loss: 0.003362\t|Test accuracy: 95.197256\t|Val accuracy: 91.533333 \n",
      "\n",
      "----COMPLETED TRAINING CLASSIFICATION-----\n",
      "val_acc 91.53333282470703\n",
      "ok\n"
     ]
    },
    {
     "data": {
      "text/html": [
       "Waiting for W&B process to finish... <strong style=\"color:green\">(success).</strong>"
      ],
      "text/plain": [
       "<IPython.core.display.HTML object>"
      ]
     },
     "metadata": {},
     "output_type": "display_data"
    },
    {
     "data": {
      "text/html": [
       "<style>\n",
       "    table.wandb td:nth-child(1) { padding: 0 10px; text-align: left ; width: auto;} td:nth-child(2) {text-align: left ; width: 100%}\n",
       "    .wandb-row { display: flex; flex-direction: row; flex-wrap: wrap; justify-content: flex-start; width: 100% }\n",
       "    .wandb-col { display: flex; flex-direction: column; flex-basis: 100%; flex: 1; padding: 10px; }\n",
       "    </style>\n",
       "<div class=\"wandb-row\"><div class=\"wandb-col\"><h3>Run history:</h3><br/><table class=\"wandb\"><tr><td>test_loss</td><td>████▇▇▇▇▆▆▆▆▆▆▅▅▄▄▃▃▂▂▂▂▂▂▂▂▂▁▂▁▁▂▁▁▁▂▁▁</td></tr><tr><td>train_loss</td><td>████▇▇▇▆▆▆▆▆▅▅▅▅▄▄▃▃▂▂▂▂▂▂▂▁▁▁▁▁▁▁▁▁▁▁▁▁</td></tr><tr><td>val_acc</td><td>▁</td></tr></table><br/></div><div class=\"wandb-col\"><h3>Run summary:</h3><br/><table class=\"wandb\"><tr><td>test_loss</td><td>0.00336</td></tr><tr><td>train_loss</td><td>0.00603</td></tr><tr><td>val_acc</td><td>94.0</td></tr></table><br/></div></div>"
      ],
      "text/plain": [
       "<IPython.core.display.HTML object>"
      ]
     },
     "metadata": {},
     "output_type": "display_data"
    },
    {
     "data": {
      "text/html": [
       "Synced <strong style=\"color:#cdcd00\">fallen-sweep-80</strong>: <a href=\"https://wandb.ai/maiquanh/quanh/runs/rnzmb9ub\" target=\"_blank\">https://wandb.ai/maiquanh/quanh/runs/rnzmb9ub</a><br/>Synced 6 W&B file(s), 0 media file(s), 0 artifact file(s) and 0 other file(s)"
      ],
      "text/plain": [
       "<IPython.core.display.HTML object>"
      ]
     },
     "metadata": {},
     "output_type": "display_data"
    },
    {
     "data": {
      "text/html": [
       "Find logs at: <code>./wandb/run-20221019_133545-rnzmb9ub/logs</code>"
      ],
      "text/plain": [
       "<IPython.core.display.HTML object>"
      ]
     },
     "metadata": {},
     "output_type": "display_data"
    },
    {
     "name": "stderr",
     "output_type": "stream",
     "text": [
      "\u001b[34m\u001b[1mwandb\u001b[0m: Agent Starting Run: 5i8sc4mn with config:\n",
      "\u001b[34m\u001b[1mwandb\u001b[0m: \tbatch_size: 128\n",
      "\u001b[34m\u001b[1mwandb\u001b[0m: \td_hidden: 3\n",
      "\u001b[34m\u001b[1mwandb\u001b[0m: \tdata_dir: /home/quanhhh/Documents/model/pickle/\n",
      "\u001b[34m\u001b[1mwandb\u001b[0m: \tdropout: 0.179047069491181\n",
      "\u001b[34m\u001b[1mwandb\u001b[0m: \tkernel_size_1: 87\n",
      "\u001b[34m\u001b[1mwandb\u001b[0m: \tkernel_size_2: 6\n",
      "\u001b[34m\u001b[1mwandb\u001b[0m: \tlr: 0.001516543007112515\n",
      "\u001b[34m\u001b[1mwandb\u001b[0m: \tmaxpool_1: 4\n",
      "\u001b[34m\u001b[1mwandb\u001b[0m: \tmaxpool_2: 6\n",
      "\u001b[34m\u001b[1mwandb\u001b[0m: \tnum_epoch: 86\n",
      "\u001b[34m\u001b[1mwandb\u001b[0m: \tnum_filters: 21\n",
      "\u001b[34m\u001b[1mwandb\u001b[0m: \tnum_layers: 4\n",
      "\u001b[34m\u001b[1mwandb\u001b[0m: \tresult_dir: /home/quanhhh/Documents/model/result_wandb/\n",
      "\u001b[34m\u001b[1mwandb\u001b[0m: \tstride_1: 3\n",
      "\u001b[34m\u001b[1mwandb\u001b[0m: \tstride_2: 5\n",
      "\u001b[34m\u001b[1mwandb\u001b[0m: \tweight_decay: 0.00012114547129637732\n"
     ]
    },
    {
     "data": {
      "text/html": [
       "Tracking run with wandb version 0.13.4"
      ],
      "text/plain": [
       "<IPython.core.display.HTML object>"
      ]
     },
     "metadata": {},
     "output_type": "display_data"
    },
    {
     "data": {
      "text/html": [
       "Run data is saved locally in <code>/home/quanhhh/Documents/model/wandb/run-20221019_134009-5i8sc4mn</code>"
      ],
      "text/plain": [
       "<IPython.core.display.HTML object>"
      ]
     },
     "metadata": {},
     "output_type": "display_data"
    },
    {
     "data": {
      "text/html": [
       "Syncing run <strong><a href=\"https://wandb.ai/maiquanh/quanh/runs/5i8sc4mn\" target=\"_blank\">happy-sweep-81</a></strong> to <a href=\"https://wandb.ai/maiquanh/quanh\" target=\"_blank\">Weights & Biases</a> (<a href=\"https://wandb.me/run\" target=\"_blank\">docs</a>)<br/>Sweep page:  <a href=\"https://wandb.ai/maiquanh/quanh/sweeps/8p4zr03y\" target=\"_blank\">https://wandb.ai/maiquanh/quanh/sweeps/8p4zr03y</a>"
      ],
      "text/plain": [
       "<IPython.core.display.HTML object>"
      ]
     },
     "metadata": {},
     "output_type": "display_data"
    },
    {
     "name": "stdout",
     "output_type": "stream",
     "text": [
      "-----START TRAINING CLASSIFICATION-----\n",
      "Epoch: 86\t| Train_loss: 0.005689\t|Train accuracy: 93.959377\t| Test_loss: 0.003788\t|Test accuracy: 70.111492\t|Val accuracy: 72.366669 \n",
      "\n",
      "----COMPLETED TRAINING CLASSIFICATION-----\n",
      "val_acc 72.36666870117188\n",
      "ok\n"
     ]
    },
    {
     "data": {
      "text/html": [
       "Waiting for W&B process to finish... <strong style=\"color:green\">(success).</strong>"
      ],
      "text/plain": [
       "<IPython.core.display.HTML object>"
      ]
     },
     "metadata": {},
     "output_type": "display_data"
    },
    {
     "data": {
      "text/html": [
       "<style>\n",
       "    table.wandb td:nth-child(1) { padding: 0 10px; text-align: left ; width: auto;} td:nth-child(2) {text-align: left ; width: 100%}\n",
       "    .wandb-row { display: flex; flex-direction: row; flex-wrap: wrap; justify-content: flex-start; width: 100% }\n",
       "    .wandb-col { display: flex; flex-direction: column; flex-basis: 100%; flex: 1; padding: 10px; }\n",
       "    </style>\n",
       "<div class=\"wandb-row\"><div class=\"wandb-col\"><h3>Run history:</h3><br/><table class=\"wandb\"><tr><td>test_loss</td><td>█▆▄▃▃▃▃▄▃▃▃▃▂▂▁▃▂▃▂▃▃▂▂▃▂▃▂▃▂▂▃▂▂▂▁▂▂▃▂▂</td></tr><tr><td>train_loss</td><td>█▆▃▃▂▂▂▂▂▂▂▂▁▁▁▁▁▁▁▁▁▁▁▁▁▁▁▁▁▁▁▁▁▁▁▁▁▁▁▁</td></tr><tr><td>val_acc</td><td>▁</td></tr></table><br/></div><div class=\"wandb-col\"><h3>Run summary:</h3><br/><table class=\"wandb\"><tr><td>test_loss</td><td>0.00379</td></tr><tr><td>train_loss</td><td>0.00569</td></tr><tr><td>val_acc</td><td>89.36667</td></tr></table><br/></div></div>"
      ],
      "text/plain": [
       "<IPython.core.display.HTML object>"
      ]
     },
     "metadata": {},
     "output_type": "display_data"
    },
    {
     "data": {
      "text/html": [
       "Synced <strong style=\"color:#cdcd00\">happy-sweep-81</strong>: <a href=\"https://wandb.ai/maiquanh/quanh/runs/5i8sc4mn\" target=\"_blank\">https://wandb.ai/maiquanh/quanh/runs/5i8sc4mn</a><br/>Synced 6 W&B file(s), 0 media file(s), 0 artifact file(s) and 0 other file(s)"
      ],
      "text/plain": [
       "<IPython.core.display.HTML object>"
      ]
     },
     "metadata": {},
     "output_type": "display_data"
    },
    {
     "data": {
      "text/html": [
       "Find logs at: <code>./wandb/run-20221019_134009-5i8sc4mn/logs</code>"
      ],
      "text/plain": [
       "<IPython.core.display.HTML object>"
      ]
     },
     "metadata": {},
     "output_type": "display_data"
    },
    {
     "name": "stderr",
     "output_type": "stream",
     "text": [
      "\u001b[34m\u001b[1mwandb\u001b[0m: Agent Starting Run: flnlzdvn with config:\n",
      "\u001b[34m\u001b[1mwandb\u001b[0m: \tbatch_size: 128\n",
      "\u001b[34m\u001b[1mwandb\u001b[0m: \td_hidden: 3\n",
      "\u001b[34m\u001b[1mwandb\u001b[0m: \tdata_dir: /home/quanhhh/Documents/model/pickle/\n",
      "\u001b[34m\u001b[1mwandb\u001b[0m: \tdropout: 0.1618163220819417\n",
      "\u001b[34m\u001b[1mwandb\u001b[0m: \tkernel_size_1: 54\n",
      "\u001b[34m\u001b[1mwandb\u001b[0m: \tkernel_size_2: 10\n",
      "\u001b[34m\u001b[1mwandb\u001b[0m: \tlr: 0.00012578461687087\n",
      "\u001b[34m\u001b[1mwandb\u001b[0m: \tmaxpool_1: 3\n",
      "\u001b[34m\u001b[1mwandb\u001b[0m: \tmaxpool_2: 5\n",
      "\u001b[34m\u001b[1mwandb\u001b[0m: \tnum_epoch: 91\n",
      "\u001b[34m\u001b[1mwandb\u001b[0m: \tnum_filters: 31\n",
      "\u001b[34m\u001b[1mwandb\u001b[0m: \tnum_layers: 2\n",
      "\u001b[34m\u001b[1mwandb\u001b[0m: \tresult_dir: /home/quanhhh/Documents/model/result_wandb/\n",
      "\u001b[34m\u001b[1mwandb\u001b[0m: \tstride_1: 8\n",
      "\u001b[34m\u001b[1mwandb\u001b[0m: \tstride_2: 5\n",
      "\u001b[34m\u001b[1mwandb\u001b[0m: \tweight_decay: 0.0002616387242344836\n"
     ]
    },
    {
     "data": {
      "text/html": [
       "Tracking run with wandb version 0.13.4"
      ],
      "text/plain": [
       "<IPython.core.display.HTML object>"
      ]
     },
     "metadata": {},
     "output_type": "display_data"
    },
    {
     "data": {
      "text/html": [
       "Run data is saved locally in <code>/home/quanhhh/Documents/model/wandb/run-20221019_134329-flnlzdvn</code>"
      ],
      "text/plain": [
       "<IPython.core.display.HTML object>"
      ]
     },
     "metadata": {},
     "output_type": "display_data"
    },
    {
     "data": {
      "text/html": [
       "Syncing run <strong><a href=\"https://wandb.ai/maiquanh/quanh/runs/flnlzdvn\" target=\"_blank\">neat-sweep-82</a></strong> to <a href=\"https://wandb.ai/maiquanh/quanh\" target=\"_blank\">Weights & Biases</a> (<a href=\"https://wandb.me/run\" target=\"_blank\">docs</a>)<br/>Sweep page:  <a href=\"https://wandb.ai/maiquanh/quanh/sweeps/8p4zr03y\" target=\"_blank\">https://wandb.ai/maiquanh/quanh/sweeps/8p4zr03y</a>"
      ],
      "text/plain": [
       "<IPython.core.display.HTML object>"
      ]
     },
     "metadata": {},
     "output_type": "display_data"
    },
    {
     "name": "stdout",
     "output_type": "stream",
     "text": [
      "-----START TRAINING CLASSIFICATION-----\n",
      "Epoch: 91\t| Train_loss: 0.006120\t|Train accuracy: 98.931680\t| Test_loss: 0.003514\t|Test accuracy: 92.238422\t|Val accuracy: 83.133331 \n",
      "\n",
      "----COMPLETED TRAINING CLASSIFICATION-----\n",
      "val_acc 83.13333129882812\n",
      "ok\n"
     ]
    },
    {
     "data": {
      "text/html": [
       "Waiting for W&B process to finish... <strong style=\"color:green\">(success).</strong>"
      ],
      "text/plain": [
       "<IPython.core.display.HTML object>"
      ]
     },
     "metadata": {},
     "output_type": "display_data"
    },
    {
     "data": {
      "text/html": [
       "<style>\n",
       "    table.wandb td:nth-child(1) { padding: 0 10px; text-align: left ; width: auto;} td:nth-child(2) {text-align: left ; width: 100%}\n",
       "    .wandb-row { display: flex; flex-direction: row; flex-wrap: wrap; justify-content: flex-start; width: 100% }\n",
       "    .wandb-col { display: flex; flex-direction: column; flex-basis: 100%; flex: 1; padding: 10px; }\n",
       "    </style>\n",
       "<div class=\"wandb-row\"><div class=\"wandb-col\"><h3>Run history:</h3><br/><table class=\"wandb\"><tr><td>test_loss</td><td>██▇▇▇▆▆▆▆▅▅▄▄▃▃▃▃▂▃▂▃▃▂▃▂▂▂▂▂▁▂▂▁▁▁▁▁▂▁▁</td></tr><tr><td>train_loss</td><td>██▇▇▆▆▆▆▆▅▅▅▄▄▃▃▃▃▃▂▂▂▂▂▂▂▁▁▁▁▁▁▁▁▁▁▁▁▁▁</td></tr><tr><td>val_acc</td><td>▁</td></tr></table><br/></div><div class=\"wandb-col\"><h3>Run summary:</h3><br/><table class=\"wandb\"><tr><td>test_loss</td><td>0.00351</td></tr><tr><td>train_loss</td><td>0.00612</td></tr><tr><td>val_acc</td><td>93.7</td></tr></table><br/></div></div>"
      ],
      "text/plain": [
       "<IPython.core.display.HTML object>"
      ]
     },
     "metadata": {},
     "output_type": "display_data"
    },
    {
     "data": {
      "text/html": [
       "Synced <strong style=\"color:#cdcd00\">neat-sweep-82</strong>: <a href=\"https://wandb.ai/maiquanh/quanh/runs/flnlzdvn\" target=\"_blank\">https://wandb.ai/maiquanh/quanh/runs/flnlzdvn</a><br/>Synced 6 W&B file(s), 0 media file(s), 0 artifact file(s) and 0 other file(s)"
      ],
      "text/plain": [
       "<IPython.core.display.HTML object>"
      ]
     },
     "metadata": {},
     "output_type": "display_data"
    },
    {
     "data": {
      "text/html": [
       "Find logs at: <code>./wandb/run-20221019_134329-flnlzdvn/logs</code>"
      ],
      "text/plain": [
       "<IPython.core.display.HTML object>"
      ]
     },
     "metadata": {},
     "output_type": "display_data"
    },
    {
     "name": "stderr",
     "output_type": "stream",
     "text": [
      "\u001b[34m\u001b[1mwandb\u001b[0m: Agent Starting Run: s1iyxkyj with config:\n",
      "\u001b[34m\u001b[1mwandb\u001b[0m: \tbatch_size: 128\n",
      "\u001b[34m\u001b[1mwandb\u001b[0m: \td_hidden: 3\n",
      "\u001b[34m\u001b[1mwandb\u001b[0m: \tdata_dir: /home/quanhhh/Documents/model/pickle/\n",
      "\u001b[34m\u001b[1mwandb\u001b[0m: \tdropout: 0.14717015003504413\n",
      "\u001b[34m\u001b[1mwandb\u001b[0m: \tkernel_size_1: 82\n",
      "\u001b[34m\u001b[1mwandb\u001b[0m: \tkernel_size_2: 8\n",
      "\u001b[34m\u001b[1mwandb\u001b[0m: \tlr: 0.00025701260551435224\n",
      "\u001b[34m\u001b[1mwandb\u001b[0m: \tmaxpool_1: 5\n",
      "\u001b[34m\u001b[1mwandb\u001b[0m: \tmaxpool_2: 3\n",
      "\u001b[34m\u001b[1mwandb\u001b[0m: \tnum_epoch: 100\n",
      "\u001b[34m\u001b[1mwandb\u001b[0m: \tnum_filters: 49\n",
      "\u001b[34m\u001b[1mwandb\u001b[0m: \tnum_layers: 3\n",
      "\u001b[34m\u001b[1mwandb\u001b[0m: \tresult_dir: /home/quanhhh/Documents/model/result_wandb/\n",
      "\u001b[34m\u001b[1mwandb\u001b[0m: \tstride_1: 3\n",
      "\u001b[34m\u001b[1mwandb\u001b[0m: \tstride_2: 4\n",
      "\u001b[34m\u001b[1mwandb\u001b[0m: \tweight_decay: 0.00016629257398816273\n"
     ]
    },
    {
     "data": {
      "text/html": [
       "Tracking run with wandb version 0.13.4"
      ],
      "text/plain": [
       "<IPython.core.display.HTML object>"
      ]
     },
     "metadata": {},
     "output_type": "display_data"
    },
    {
     "data": {
      "text/html": [
       "Run data is saved locally in <code>/home/quanhhh/Documents/model/wandb/run-20221019_134605-s1iyxkyj</code>"
      ],
      "text/plain": [
       "<IPython.core.display.HTML object>"
      ]
     },
     "metadata": {},
     "output_type": "display_data"
    },
    {
     "data": {
      "text/html": [
       "Syncing run <strong><a href=\"https://wandb.ai/maiquanh/quanh/runs/s1iyxkyj\" target=\"_blank\">devoted-sweep-83</a></strong> to <a href=\"https://wandb.ai/maiquanh/quanh\" target=\"_blank\">Weights & Biases</a> (<a href=\"https://wandb.me/run\" target=\"_blank\">docs</a>)<br/>Sweep page:  <a href=\"https://wandb.ai/maiquanh/quanh/sweeps/8p4zr03y\" target=\"_blank\">https://wandb.ai/maiquanh/quanh/sweeps/8p4zr03y</a>"
      ],
      "text/plain": [
       "<IPython.core.display.HTML object>"
      ]
     },
     "metadata": {},
     "output_type": "display_data"
    },
    {
     "name": "stdout",
     "output_type": "stream",
     "text": [
      "-----START TRAINING CLASSIFICATION-----\n",
      "Epoch: 100\t| Train_loss: 0.005670\t|Train accuracy: 98.865735\t| Test_loss: 0.003193\t|Test accuracy: 94.596913\t|Val accuracy: 92.466667 \n",
      "\n",
      "----COMPLETED TRAINING CLASSIFICATION-----\n",
      "val_acc 92.46666717529297\n",
      "ok\n"
     ]
    },
    {
     "data": {
      "text/html": [
       "Waiting for W&B process to finish... <strong style=\"color:green\">(success).</strong>"
      ],
      "text/plain": [
       "<IPython.core.display.HTML object>"
      ]
     },
     "metadata": {},
     "output_type": "display_data"
    },
    {
     "data": {
      "text/html": [
       "<style>\n",
       "    table.wandb td:nth-child(1) { padding: 0 10px; text-align: left ; width: auto;} td:nth-child(2) {text-align: left ; width: 100%}\n",
       "    .wandb-row { display: flex; flex-direction: row; flex-wrap: wrap; justify-content: flex-start; width: 100% }\n",
       "    .wandb-col { display: flex; flex-direction: column; flex-basis: 100%; flex: 1; padding: 10px; }\n",
       "    </style>\n",
       "<div class=\"wandb-row\"><div class=\"wandb-col\"><h3>Run history:</h3><br/><table class=\"wandb\"><tr><td>test_loss</td><td>██▇▇▆▆▆▆▅▄▃▃▃▄▃▃▄▃▂▃▃▂▂▂▂▁▂▂▁▂▃▃▁▂▂▁▁▃▁▁</td></tr><tr><td>train_loss</td><td>██▇▆▅▅▅▄▄▃▃▃▂▂▂▂▂▂▂▂▂▂▁▁▂▁▁▁▁▁▁▁▁▁▁▁▁▁▁▁</td></tr><tr><td>val_acc</td><td>▁</td></tr></table><br/></div><div class=\"wandb-col\"><h3>Run summary:</h3><br/><table class=\"wandb\"><tr><td>test_loss</td><td>0.00319</td></tr><tr><td>train_loss</td><td>0.00567</td></tr><tr><td>val_acc</td><td>94.06667</td></tr></table><br/></div></div>"
      ],
      "text/plain": [
       "<IPython.core.display.HTML object>"
      ]
     },
     "metadata": {},
     "output_type": "display_data"
    },
    {
     "data": {
      "text/html": [
       "Synced <strong style=\"color:#cdcd00\">devoted-sweep-83</strong>: <a href=\"https://wandb.ai/maiquanh/quanh/runs/s1iyxkyj\" target=\"_blank\">https://wandb.ai/maiquanh/quanh/runs/s1iyxkyj</a><br/>Synced 6 W&B file(s), 0 media file(s), 0 artifact file(s) and 0 other file(s)"
      ],
      "text/plain": [
       "<IPython.core.display.HTML object>"
      ]
     },
     "metadata": {},
     "output_type": "display_data"
    },
    {
     "data": {
      "text/html": [
       "Find logs at: <code>./wandb/run-20221019_134605-s1iyxkyj/logs</code>"
      ],
      "text/plain": [
       "<IPython.core.display.HTML object>"
      ]
     },
     "metadata": {},
     "output_type": "display_data"
    },
    {
     "name": "stderr",
     "output_type": "stream",
     "text": [
      "\u001b[34m\u001b[1mwandb\u001b[0m: Agent Starting Run: hcu7necs with config:\n",
      "\u001b[34m\u001b[1mwandb\u001b[0m: \tbatch_size: 128\n",
      "\u001b[34m\u001b[1mwandb\u001b[0m: \td_hidden: 3\n",
      "\u001b[34m\u001b[1mwandb\u001b[0m: \tdata_dir: /home/quanhhh/Documents/model/pickle/\n",
      "\u001b[34m\u001b[1mwandb\u001b[0m: \tdropout: 0.1830031445943479\n",
      "\u001b[34m\u001b[1mwandb\u001b[0m: \tkernel_size_1: 100\n",
      "\u001b[34m\u001b[1mwandb\u001b[0m: \tkernel_size_2: 9\n",
      "\u001b[34m\u001b[1mwandb\u001b[0m: \tlr: 0.00011329118701239882\n",
      "\u001b[34m\u001b[1mwandb\u001b[0m: \tmaxpool_1: 4\n",
      "\u001b[34m\u001b[1mwandb\u001b[0m: \tmaxpool_2: 7\n",
      "\u001b[34m\u001b[1mwandb\u001b[0m: \tnum_epoch: 86\n",
      "\u001b[34m\u001b[1mwandb\u001b[0m: \tnum_filters: 20\n",
      "\u001b[34m\u001b[1mwandb\u001b[0m: \tnum_layers: 2\n",
      "\u001b[34m\u001b[1mwandb\u001b[0m: \tresult_dir: /home/quanhhh/Documents/model/result_wandb/\n",
      "\u001b[34m\u001b[1mwandb\u001b[0m: \tstride_1: 5\n",
      "\u001b[34m\u001b[1mwandb\u001b[0m: \tstride_2: 8\n",
      "\u001b[34m\u001b[1mwandb\u001b[0m: \tweight_decay: 0.00016315591412867557\n"
     ]
    },
    {
     "data": {
      "text/html": [
       "Tracking run with wandb version 0.13.4"
      ],
      "text/plain": [
       "<IPython.core.display.HTML object>"
      ]
     },
     "metadata": {},
     "output_type": "display_data"
    },
    {
     "data": {
      "text/html": [
       "Run data is saved locally in <code>/home/quanhhh/Documents/model/wandb/run-20221019_135327-hcu7necs</code>"
      ],
      "text/plain": [
       "<IPython.core.display.HTML object>"
      ]
     },
     "metadata": {},
     "output_type": "display_data"
    },
    {
     "data": {
      "text/html": [
       "Syncing run <strong><a href=\"https://wandb.ai/maiquanh/quanh/runs/hcu7necs\" target=\"_blank\">upbeat-sweep-84</a></strong> to <a href=\"https://wandb.ai/maiquanh/quanh\" target=\"_blank\">Weights & Biases</a> (<a href=\"https://wandb.me/run\" target=\"_blank\">docs</a>)<br/>Sweep page:  <a href=\"https://wandb.ai/maiquanh/quanh/sweeps/8p4zr03y\" target=\"_blank\">https://wandb.ai/maiquanh/quanh/sweeps/8p4zr03y</a>"
      ],
      "text/plain": [
       "<IPython.core.display.HTML object>"
      ]
     },
     "metadata": {},
     "output_type": "display_data"
    },
    {
     "name": "stdout",
     "output_type": "stream",
     "text": [
      "-----START TRAINING CLASSIFICATION-----\n",
      "Epoch: 86\t| Train_loss: 0.006068\t|Train accuracy: 97.731469\t| Test_loss: 0.003551\t|Test accuracy: 88.765009\t|Val accuracy: 75.766663 \n",
      "\n",
      "----COMPLETED TRAINING CLASSIFICATION-----\n",
      "val_acc 75.76666259765625\n",
      "ok\n"
     ]
    },
    {
     "data": {
      "text/html": [
       "Waiting for W&B process to finish... <strong style=\"color:green\">(success).</strong>"
      ],
      "text/plain": [
       "<IPython.core.display.HTML object>"
      ]
     },
     "metadata": {},
     "output_type": "display_data"
    },
    {
     "data": {
      "text/html": [
       "<style>\n",
       "    table.wandb td:nth-child(1) { padding: 0 10px; text-align: left ; width: auto;} td:nth-child(2) {text-align: left ; width: 100%}\n",
       "    .wandb-row { display: flex; flex-direction: row; flex-wrap: wrap; justify-content: flex-start; width: 100% }\n",
       "    .wandb-col { display: flex; flex-direction: column; flex-basis: 100%; flex: 1; padding: 10px; }\n",
       "    </style>\n",
       "<div class=\"wandb-row\"><div class=\"wandb-col\"><h3>Run history:</h3><br/><table class=\"wandb\"><tr><td>test_loss</td><td>███▇▇▆▆▆▆▆▅▅▅▅▅▅▄▄▄▄▄▃▃▃▂▃▂▂▂▂▂▃▁▂▁▂▁▁▃▁</td></tr><tr><td>train_loss</td><td>██▇▇▇▆▆▆▆▆▆▅▅▅▅▅▅▄▄▄▃▃▃▂▂▂▂▂▂▂▂▁▁▁▁▁▁▁▁▁</td></tr><tr><td>val_acc</td><td>▁</td></tr></table><br/></div><div class=\"wandb-col\"><h3>Run summary:</h3><br/><table class=\"wandb\"><tr><td>test_loss</td><td>0.00355</td></tr><tr><td>train_loss</td><td>0.00607</td></tr><tr><td>val_acc</td><td>87.66666</td></tr></table><br/></div></div>"
      ],
      "text/plain": [
       "<IPython.core.display.HTML object>"
      ]
     },
     "metadata": {},
     "output_type": "display_data"
    },
    {
     "data": {
      "text/html": [
       "Synced <strong style=\"color:#cdcd00\">upbeat-sweep-84</strong>: <a href=\"https://wandb.ai/maiquanh/quanh/runs/hcu7necs\" target=\"_blank\">https://wandb.ai/maiquanh/quanh/runs/hcu7necs</a><br/>Synced 6 W&B file(s), 0 media file(s), 0 artifact file(s) and 0 other file(s)"
      ],
      "text/plain": [
       "<IPython.core.display.HTML object>"
      ]
     },
     "metadata": {},
     "output_type": "display_data"
    },
    {
     "data": {
      "text/html": [
       "Find logs at: <code>./wandb/run-20221019_135327-hcu7necs/logs</code>"
      ],
      "text/plain": [
       "<IPython.core.display.HTML object>"
      ]
     },
     "metadata": {},
     "output_type": "display_data"
    },
    {
     "name": "stderr",
     "output_type": "stream",
     "text": [
      "\u001b[34m\u001b[1mwandb\u001b[0m: Agent Starting Run: ov1tshvh with config:\n",
      "\u001b[34m\u001b[1mwandb\u001b[0m: \tbatch_size: 128\n",
      "\u001b[34m\u001b[1mwandb\u001b[0m: \td_hidden: 3\n",
      "\u001b[34m\u001b[1mwandb\u001b[0m: \tdata_dir: /home/quanhhh/Documents/model/pickle/\n",
      "\u001b[34m\u001b[1mwandb\u001b[0m: \tdropout: 0.17483803776321938\n",
      "\u001b[34m\u001b[1mwandb\u001b[0m: \tkernel_size_1: 96\n",
      "\u001b[34m\u001b[1mwandb\u001b[0m: \tkernel_size_2: 10\n",
      "\u001b[34m\u001b[1mwandb\u001b[0m: \tlr: 0.0004587475839003533\n",
      "\u001b[34m\u001b[1mwandb\u001b[0m: \tmaxpool_1: 7\n",
      "\u001b[34m\u001b[1mwandb\u001b[0m: \tmaxpool_2: 6\n",
      "\u001b[34m\u001b[1mwandb\u001b[0m: \tnum_epoch: 85\n",
      "\u001b[34m\u001b[1mwandb\u001b[0m: \tnum_filters: 46\n",
      "\u001b[34m\u001b[1mwandb\u001b[0m: \tnum_layers: 2\n",
      "\u001b[34m\u001b[1mwandb\u001b[0m: \tresult_dir: /home/quanhhh/Documents/model/result_wandb/\n",
      "\u001b[34m\u001b[1mwandb\u001b[0m: \tstride_1: 6\n",
      "\u001b[34m\u001b[1mwandb\u001b[0m: \tstride_2: 3\n",
      "\u001b[34m\u001b[1mwandb\u001b[0m: \tweight_decay: 0.00018648482508184817\n"
     ]
    },
    {
     "data": {
      "text/html": [
       "Tracking run with wandb version 0.13.4"
      ],
      "text/plain": [
       "<IPython.core.display.HTML object>"
      ]
     },
     "metadata": {},
     "output_type": "display_data"
    },
    {
     "data": {
      "text/html": [
       "Run data is saved locally in <code>/home/quanhhh/Documents/model/wandb/run-20221019_135554-ov1tshvh</code>"
      ],
      "text/plain": [
       "<IPython.core.display.HTML object>"
      ]
     },
     "metadata": {},
     "output_type": "display_data"
    },
    {
     "data": {
      "text/html": [
       "Syncing run <strong><a href=\"https://wandb.ai/maiquanh/quanh/runs/ov1tshvh\" target=\"_blank\">copper-sweep-85</a></strong> to <a href=\"https://wandb.ai/maiquanh/quanh\" target=\"_blank\">Weights & Biases</a> (<a href=\"https://wandb.me/run\" target=\"_blank\">docs</a>)<br/>Sweep page:  <a href=\"https://wandb.ai/maiquanh/quanh/sweeps/8p4zr03y\" target=\"_blank\">https://wandb.ai/maiquanh/quanh/sweeps/8p4zr03y</a>"
      ],
      "text/plain": [
       "<IPython.core.display.HTML object>"
      ]
     },
     "metadata": {},
     "output_type": "display_data"
    },
    {
     "name": "stdout",
     "output_type": "stream",
     "text": [
      "-----START TRAINING CLASSIFICATION-----\n",
      "Epoch: 85\t| Train_loss: 0.005604\t|Train accuracy: 99.155896\t| Test_loss: 0.003207\t|Test accuracy: 92.710120\t|Val accuracy: 89.666664 \n",
      "\n",
      "----COMPLETED TRAINING CLASSIFICATION-----\n",
      "val_acc 89.66666412353516\n",
      "ok\n"
     ]
    },
    {
     "data": {
      "text/html": [
       "Waiting for W&B process to finish... <strong style=\"color:green\">(success).</strong>"
      ],
      "text/plain": [
       "<IPython.core.display.HTML object>"
      ]
     },
     "metadata": {},
     "output_type": "display_data"
    },
    {
     "data": {
      "text/html": [
       "<style>\n",
       "    table.wandb td:nth-child(1) { padding: 0 10px; text-align: left ; width: auto;} td:nth-child(2) {text-align: left ; width: 100%}\n",
       "    .wandb-row { display: flex; flex-direction: row; flex-wrap: wrap; justify-content: flex-start; width: 100% }\n",
       "    .wandb-col { display: flex; flex-direction: column; flex-basis: 100%; flex: 1; padding: 10px; }\n",
       "    </style>\n",
       "<div class=\"wandb-row\"><div class=\"wandb-col\"><h3>Run history:</h3><br/><table class=\"wandb\"><tr><td>test_loss</td><td>██▇▆▅▄▄▃▃▃▃▂▂▃▂▂▂▂▁▁▃▁▂▁▂▁▂▃▃▃▂▁▃▁▁▁▁▁▁▂</td></tr><tr><td>train_loss</td><td>█▇▆▅▅▄▃▂▂▂▂▂▂▁▁▁▁▁▁▁▁▁▁▁▁▁▁▁▁▁▁▁▁▁▁▁▁▁▁▁</td></tr><tr><td>val_acc</td><td>▁</td></tr></table><br/></div><div class=\"wandb-col\"><h3>Run summary:</h3><br/><table class=\"wandb\"><tr><td>test_loss</td><td>0.00321</td></tr><tr><td>train_loss</td><td>0.0056</td></tr><tr><td>val_acc</td><td>94.5</td></tr></table><br/></div></div>"
      ],
      "text/plain": [
       "<IPython.core.display.HTML object>"
      ]
     },
     "metadata": {},
     "output_type": "display_data"
    },
    {
     "data": {
      "text/html": [
       "Synced <strong style=\"color:#cdcd00\">copper-sweep-85</strong>: <a href=\"https://wandb.ai/maiquanh/quanh/runs/ov1tshvh\" target=\"_blank\">https://wandb.ai/maiquanh/quanh/runs/ov1tshvh</a><br/>Synced 6 W&B file(s), 0 media file(s), 0 artifact file(s) and 0 other file(s)"
      ],
      "text/plain": [
       "<IPython.core.display.HTML object>"
      ]
     },
     "metadata": {},
     "output_type": "display_data"
    },
    {
     "data": {
      "text/html": [
       "Find logs at: <code>./wandb/run-20221019_135554-ov1tshvh/logs</code>"
      ],
      "text/plain": [
       "<IPython.core.display.HTML object>"
      ]
     },
     "metadata": {},
     "output_type": "display_data"
    },
    {
     "name": "stderr",
     "output_type": "stream",
     "text": [
      "\u001b[34m\u001b[1mwandb\u001b[0m: Sweep Agent: Waiting for job.\n",
      "\u001b[34m\u001b[1mwandb\u001b[0m: Job received.\n",
      "\u001b[34m\u001b[1mwandb\u001b[0m: Agent Starting Run: 86wi41w9 with config:\n",
      "\u001b[34m\u001b[1mwandb\u001b[0m: \tbatch_size: 128\n",
      "\u001b[34m\u001b[1mwandb\u001b[0m: \td_hidden: 3\n",
      "\u001b[34m\u001b[1mwandb\u001b[0m: \tdata_dir: /home/quanhhh/Documents/model/pickle/\n",
      "\u001b[34m\u001b[1mwandb\u001b[0m: \tdropout: 0.11310490825178848\n",
      "\u001b[34m\u001b[1mwandb\u001b[0m: \tkernel_size_1: 74\n",
      "\u001b[34m\u001b[1mwandb\u001b[0m: \tkernel_size_2: 10\n",
      "\u001b[34m\u001b[1mwandb\u001b[0m: \tlr: 0.0004537204719216462\n",
      "\u001b[34m\u001b[1mwandb\u001b[0m: \tmaxpool_1: 6\n",
      "\u001b[34m\u001b[1mwandb\u001b[0m: \tmaxpool_2: 5\n",
      "\u001b[34m\u001b[1mwandb\u001b[0m: \tnum_epoch: 82\n",
      "\u001b[34m\u001b[1mwandb\u001b[0m: \tnum_filters: 59\n",
      "\u001b[34m\u001b[1mwandb\u001b[0m: \tnum_layers: 2\n",
      "\u001b[34m\u001b[1mwandb\u001b[0m: \tresult_dir: /home/quanhhh/Documents/model/result_wandb/\n",
      "\u001b[34m\u001b[1mwandb\u001b[0m: \tstride_1: 6\n",
      "\u001b[34m\u001b[1mwandb\u001b[0m: \tstride_2: 5\n",
      "\u001b[34m\u001b[1mwandb\u001b[0m: \tweight_decay: 0.00014646546681829217\n"
     ]
    },
    {
     "data": {
      "text/html": [
       "Tracking run with wandb version 0.13.4"
      ],
      "text/plain": [
       "<IPython.core.display.HTML object>"
      ]
     },
     "metadata": {},
     "output_type": "display_data"
    },
    {
     "data": {
      "text/html": [
       "Run data is saved locally in <code>/home/quanhhh/Documents/model/wandb/run-20221019_135918-86wi41w9</code>"
      ],
      "text/plain": [
       "<IPython.core.display.HTML object>"
      ]
     },
     "metadata": {},
     "output_type": "display_data"
    },
    {
     "data": {
      "text/html": [
       "Syncing run <strong><a href=\"https://wandb.ai/maiquanh/quanh/runs/86wi41w9\" target=\"_blank\">likely-sweep-86</a></strong> to <a href=\"https://wandb.ai/maiquanh/quanh\" target=\"_blank\">Weights & Biases</a> (<a href=\"https://wandb.me/run\" target=\"_blank\">docs</a>)<br/>Sweep page:  <a href=\"https://wandb.ai/maiquanh/quanh/sweeps/8p4zr03y\" target=\"_blank\">https://wandb.ai/maiquanh/quanh/sweeps/8p4zr03y</a>"
      ],
      "text/plain": [
       "<IPython.core.display.HTML object>"
      ]
     },
     "metadata": {},
     "output_type": "display_data"
    },
    {
     "name": "stdout",
     "output_type": "stream",
     "text": [
      "-----START TRAINING CLASSIFICATION-----\n",
      "Epoch: 82\t| Train_loss: 0.005640\t|Train accuracy: 99.287787\t| Test_loss: 0.003131\t|Test accuracy: 96.397942\t|Val accuracy: 85.599998 \n",
      "\n",
      "----COMPLETED TRAINING CLASSIFICATION-----\n",
      "val_acc 85.5999984741211\n",
      "ok\n"
     ]
    },
    {
     "data": {
      "text/html": [
       "Waiting for W&B process to finish... <strong style=\"color:green\">(success).</strong>"
      ],
      "text/plain": [
       "<IPython.core.display.HTML object>"
      ]
     },
     "metadata": {},
     "output_type": "display_data"
    },
    {
     "data": {
      "text/html": [
       "<style>\n",
       "    table.wandb td:nth-child(1) { padding: 0 10px; text-align: left ; width: auto;} td:nth-child(2) {text-align: left ; width: 100%}\n",
       "    .wandb-row { display: flex; flex-direction: row; flex-wrap: wrap; justify-content: flex-start; width: 100% }\n",
       "    .wandb-col { display: flex; flex-direction: column; flex-basis: 100%; flex: 1; padding: 10px; }\n",
       "    </style>\n",
       "<div class=\"wandb-row\"><div class=\"wandb-col\"><h3>Run history:</h3><br/><table class=\"wandb\"><tr><td>test_loss</td><td>█▇▆▆▅▅▅▄▄▃▄▃▃▄▂▃▂▃▁▃▂▂▂▁▂▁▂▂▁▂▁▁▁▁▁▁▁▁▁▁</td></tr><tr><td>train_loss</td><td>█▇▆▅▄▄▃▃▃▂▂▂▂▂▂▂▂▁▁▁▁▁▁▁▁▁▁▁▁▁▁▁▁▁▁▁▁▁▁▁</td></tr><tr><td>val_acc</td><td>▁</td></tr></table><br/></div><div class=\"wandb-col\"><h3>Run summary:</h3><br/><table class=\"wandb\"><tr><td>test_loss</td><td>0.00313</td></tr><tr><td>train_loss</td><td>0.00564</td></tr><tr><td>val_acc</td><td>90.8</td></tr></table><br/></div></div>"
      ],
      "text/plain": [
       "<IPython.core.display.HTML object>"
      ]
     },
     "metadata": {},
     "output_type": "display_data"
    },
    {
     "data": {
      "text/html": [
       "Synced <strong style=\"color:#cdcd00\">likely-sweep-86</strong>: <a href=\"https://wandb.ai/maiquanh/quanh/runs/86wi41w9\" target=\"_blank\">https://wandb.ai/maiquanh/quanh/runs/86wi41w9</a><br/>Synced 6 W&B file(s), 0 media file(s), 0 artifact file(s) and 0 other file(s)"
      ],
      "text/plain": [
       "<IPython.core.display.HTML object>"
      ]
     },
     "metadata": {},
     "output_type": "display_data"
    },
    {
     "data": {
      "text/html": [
       "Find logs at: <code>./wandb/run-20221019_135918-86wi41w9/logs</code>"
      ],
      "text/plain": [
       "<IPython.core.display.HTML object>"
      ]
     },
     "metadata": {},
     "output_type": "display_data"
    },
    {
     "name": "stderr",
     "output_type": "stream",
     "text": [
      "\u001b[34m\u001b[1mwandb\u001b[0m: Sweep Agent: Waiting for job.\n",
      "\u001b[34m\u001b[1mwandb\u001b[0m: Job received.\n",
      "\u001b[34m\u001b[1mwandb\u001b[0m: Agent Starting Run: hjf98dth with config:\n",
      "\u001b[34m\u001b[1mwandb\u001b[0m: \tbatch_size: 128\n",
      "\u001b[34m\u001b[1mwandb\u001b[0m: \td_hidden: 3\n",
      "\u001b[34m\u001b[1mwandb\u001b[0m: \tdata_dir: /home/quanhhh/Documents/model/pickle/\n",
      "\u001b[34m\u001b[1mwandb\u001b[0m: \tdropout: 0.10602012113966576\n",
      "\u001b[34m\u001b[1mwandb\u001b[0m: \tkernel_size_1: 70\n",
      "\u001b[34m\u001b[1mwandb\u001b[0m: \tkernel_size_2: 10\n",
      "\u001b[34m\u001b[1mwandb\u001b[0m: \tlr: 0.0025344343333677665\n",
      "\u001b[34m\u001b[1mwandb\u001b[0m: \tmaxpool_1: 3\n",
      "\u001b[34m\u001b[1mwandb\u001b[0m: \tmaxpool_2: 8\n",
      "\u001b[34m\u001b[1mwandb\u001b[0m: \tnum_epoch: 92\n",
      "\u001b[34m\u001b[1mwandb\u001b[0m: \tnum_filters: 25\n",
      "\u001b[34m\u001b[1mwandb\u001b[0m: \tnum_layers: 3\n",
      "\u001b[34m\u001b[1mwandb\u001b[0m: \tresult_dir: /home/quanhhh/Documents/model/result_wandb/\n",
      "\u001b[34m\u001b[1mwandb\u001b[0m: \tstride_1: 3\n",
      "\u001b[34m\u001b[1mwandb\u001b[0m: \tstride_2: 6\n",
      "\u001b[34m\u001b[1mwandb\u001b[0m: \tweight_decay: 0.0002527840496648207\n"
     ]
    },
    {
     "data": {
      "text/html": [
       "Tracking run with wandb version 0.13.4"
      ],
      "text/plain": [
       "<IPython.core.display.HTML object>"
      ]
     },
     "metadata": {},
     "output_type": "display_data"
    },
    {
     "data": {
      "text/html": [
       "Run data is saved locally in <code>/home/quanhhh/Documents/model/wandb/run-20221019_140310-hjf98dth</code>"
      ],
      "text/plain": [
       "<IPython.core.display.HTML object>"
      ]
     },
     "metadata": {},
     "output_type": "display_data"
    },
    {
     "data": {
      "text/html": [
       "Syncing run <strong><a href=\"https://wandb.ai/maiquanh/quanh/runs/hjf98dth\" target=\"_blank\">cerulean-sweep-87</a></strong> to <a href=\"https://wandb.ai/maiquanh/quanh\" target=\"_blank\">Weights & Biases</a> (<a href=\"https://wandb.me/run\" target=\"_blank\">docs</a>)<br/>Sweep page:  <a href=\"https://wandb.ai/maiquanh/quanh/sweeps/8p4zr03y\" target=\"_blank\">https://wandb.ai/maiquanh/quanh/sweeps/8p4zr03y</a>"
      ],
      "text/plain": [
       "<IPython.core.display.HTML object>"
      ]
     },
     "metadata": {},
     "output_type": "display_data"
    },
    {
     "name": "stdout",
     "output_type": "stream",
     "text": [
      "-----START TRAINING CLASSIFICATION-----\n",
      "Epoch: 92\t| Train_loss: 0.005681\t|Train accuracy: 96.926932\t| Test_loss: 0.003703\t|Test accuracy: 75.514580\t|Val accuracy: 71.599998 \n",
      "\n",
      "----COMPLETED TRAINING CLASSIFICATION-----\n",
      "val_acc 71.5999984741211\n",
      "ok\n"
     ]
    },
    {
     "data": {
      "text/html": [
       "Waiting for W&B process to finish... <strong style=\"color:green\">(success).</strong>"
      ],
      "text/plain": [
       "<IPython.core.display.HTML object>"
      ]
     },
     "metadata": {},
     "output_type": "display_data"
    },
    {
     "data": {
      "text/html": [
       "<style>\n",
       "    table.wandb td:nth-child(1) { padding: 0 10px; text-align: left ; width: auto;} td:nth-child(2) {text-align: left ; width: 100%}\n",
       "    .wandb-row { display: flex; flex-direction: row; flex-wrap: wrap; justify-content: flex-start; width: 100% }\n",
       "    .wandb-col { display: flex; flex-direction: column; flex-basis: 100%; flex: 1; padding: 10px; }\n",
       "    </style>\n",
       "<div class=\"wandb-row\"><div class=\"wandb-col\"><h3>Run history:</h3><br/><table class=\"wandb\"><tr><td>test_loss</td><td>█▅▃▄▃▃▃▃▃▁▂▃▂▃▃▂▃▁▂▁▂▂▃▁▂▂▃▁▃▂▂▂▁▂▂▃▂▃▃▄</td></tr><tr><td>train_loss</td><td>█▄▂▂▁▁▁▁▁▁▁▁▁▁▁▁▁▁▁▁▁▁▁▁▁▁▁▁▁▁▁▁▁▁▁▁▁▁▁▁</td></tr><tr><td>val_acc</td><td>▁</td></tr></table><br/></div><div class=\"wandb-col\"><h3>Run summary:</h3><br/><table class=\"wandb\"><tr><td>test_loss</td><td>0.0037</td></tr><tr><td>train_loss</td><td>0.00568</td></tr><tr><td>val_acc</td><td>94.1</td></tr></table><br/></div></div>"
      ],
      "text/plain": [
       "<IPython.core.display.HTML object>"
      ]
     },
     "metadata": {},
     "output_type": "display_data"
    },
    {
     "data": {
      "text/html": [
       "Synced <strong style=\"color:#cdcd00\">cerulean-sweep-87</strong>: <a href=\"https://wandb.ai/maiquanh/quanh/runs/hjf98dth\" target=\"_blank\">https://wandb.ai/maiquanh/quanh/runs/hjf98dth</a><br/>Synced 6 W&B file(s), 0 media file(s), 0 artifact file(s) and 0 other file(s)"
      ],
      "text/plain": [
       "<IPython.core.display.HTML object>"
      ]
     },
     "metadata": {},
     "output_type": "display_data"
    },
    {
     "data": {
      "text/html": [
       "Find logs at: <code>./wandb/run-20221019_140310-hjf98dth/logs</code>"
      ],
      "text/plain": [
       "<IPython.core.display.HTML object>"
      ]
     },
     "metadata": {},
     "output_type": "display_data"
    },
    {
     "name": "stderr",
     "output_type": "stream",
     "text": [
      "\u001b[34m\u001b[1mwandb\u001b[0m: Agent Starting Run: z7akf00p with config:\n",
      "\u001b[34m\u001b[1mwandb\u001b[0m: \tbatch_size: 128\n",
      "\u001b[34m\u001b[1mwandb\u001b[0m: \td_hidden: 3\n",
      "\u001b[34m\u001b[1mwandb\u001b[0m: \tdata_dir: /home/quanhhh/Documents/model/pickle/\n",
      "\u001b[34m\u001b[1mwandb\u001b[0m: \tdropout: 0.10555298928886846\n",
      "\u001b[34m\u001b[1mwandb\u001b[0m: \tkernel_size_1: 93\n",
      "\u001b[34m\u001b[1mwandb\u001b[0m: \tkernel_size_2: 6\n",
      "\u001b[34m\u001b[1mwandb\u001b[0m: \tlr: 0.0005384951147194976\n",
      "\u001b[34m\u001b[1mwandb\u001b[0m: \tmaxpool_1: 5\n",
      "\u001b[34m\u001b[1mwandb\u001b[0m: \tmaxpool_2: 6\n",
      "\u001b[34m\u001b[1mwandb\u001b[0m: \tnum_epoch: 90\n",
      "\u001b[34m\u001b[1mwandb\u001b[0m: \tnum_filters: 53\n",
      "\u001b[34m\u001b[1mwandb\u001b[0m: \tnum_layers: 2\n",
      "\u001b[34m\u001b[1mwandb\u001b[0m: \tresult_dir: /home/quanhhh/Documents/model/result_wandb/\n",
      "\u001b[34m\u001b[1mwandb\u001b[0m: \tstride_1: 8\n",
      "\u001b[34m\u001b[1mwandb\u001b[0m: \tstride_2: 6\n",
      "\u001b[34m\u001b[1mwandb\u001b[0m: \tweight_decay: 0.00022183040936624545\n"
     ]
    },
    {
     "data": {
      "text/html": [
       "Tracking run with wandb version 0.13.4"
      ],
      "text/plain": [
       "<IPython.core.display.HTML object>"
      ]
     },
     "metadata": {},
     "output_type": "display_data"
    },
    {
     "data": {
      "text/html": [
       "Run data is saved locally in <code>/home/quanhhh/Documents/model/wandb/run-20221019_140709-z7akf00p</code>"
      ],
      "text/plain": [
       "<IPython.core.display.HTML object>"
      ]
     },
     "metadata": {},
     "output_type": "display_data"
    },
    {
     "data": {
      "text/html": [
       "Syncing run <strong><a href=\"https://wandb.ai/maiquanh/quanh/runs/z7akf00p\" target=\"_blank\">sweepy-sweep-88</a></strong> to <a href=\"https://wandb.ai/maiquanh/quanh\" target=\"_blank\">Weights & Biases</a> (<a href=\"https://wandb.me/run\" target=\"_blank\">docs</a>)<br/>Sweep page:  <a href=\"https://wandb.ai/maiquanh/quanh/sweeps/8p4zr03y\" target=\"_blank\">https://wandb.ai/maiquanh/quanh/sweeps/8p4zr03y</a>"
      ],
      "text/plain": [
       "<IPython.core.display.HTML object>"
      ]
     },
     "metadata": {},
     "output_type": "display_data"
    },
    {
     "name": "stdout",
     "output_type": "stream",
     "text": [
      "-----START TRAINING CLASSIFICATION-----\n",
      "Epoch: 90\t| Train_loss: 0.005908\t|Train accuracy: 99.749406\t| Test_loss: 0.003254\t|Test accuracy: 94.296741\t|Val accuracy: 89.233330 \n",
      "\n",
      "----COMPLETED TRAINING CLASSIFICATION-----\n",
      "val_acc 89.23332977294922\n",
      "ok\n"
     ]
    },
    {
     "data": {
      "text/html": [
       "Waiting for W&B process to finish... <strong style=\"color:green\">(success).</strong>"
      ],
      "text/plain": [
       "<IPython.core.display.HTML object>"
      ]
     },
     "metadata": {},
     "output_type": "display_data"
    },
    {
     "data": {
      "text/html": [
       "<style>\n",
       "    table.wandb td:nth-child(1) { padding: 0 10px; text-align: left ; width: auto;} td:nth-child(2) {text-align: left ; width: 100%}\n",
       "    .wandb-row { display: flex; flex-direction: row; flex-wrap: wrap; justify-content: flex-start; width: 100% }\n",
       "    .wandb-col { display: flex; flex-direction: column; flex-basis: 100%; flex: 1; padding: 10px; }\n",
       "    </style>\n",
       "<div class=\"wandb-row\"><div class=\"wandb-col\"><h3>Run history:</h3><br/><table class=\"wandb\"><tr><td>test_loss</td><td>█▆▆▆▄▅▄▂▃▂▂▂▁▂▁▂▁▂▁▂▂▁▁▂▁▂▂▁▁▁▂▁▁▁▃▁▁▁▁▁</td></tr><tr><td>train_loss</td><td>█▇▆▅▃▃▂▂▂▂▂▂▂▂▁▁▁▁▁▁▁▁▁▁▁▁▁▁▁▁▁▁▁▁▁▁▁▁▁▁</td></tr><tr><td>val_acc</td><td>▁</td></tr></table><br/></div><div class=\"wandb-col\"><h3>Run summary:</h3><br/><table class=\"wandb\"><tr><td>test_loss</td><td>0.00325</td></tr><tr><td>train_loss</td><td>0.00591</td></tr><tr><td>val_acc</td><td>95.1</td></tr></table><br/></div></div>"
      ],
      "text/plain": [
       "<IPython.core.display.HTML object>"
      ]
     },
     "metadata": {},
     "output_type": "display_data"
    },
    {
     "data": {
      "text/html": [
       "Synced <strong style=\"color:#cdcd00\">sweepy-sweep-88</strong>: <a href=\"https://wandb.ai/maiquanh/quanh/runs/z7akf00p\" target=\"_blank\">https://wandb.ai/maiquanh/quanh/runs/z7akf00p</a><br/>Synced 6 W&B file(s), 0 media file(s), 0 artifact file(s) and 0 other file(s)"
      ],
      "text/plain": [
       "<IPython.core.display.HTML object>"
      ]
     },
     "metadata": {},
     "output_type": "display_data"
    },
    {
     "data": {
      "text/html": [
       "Find logs at: <code>./wandb/run-20221019_140709-z7akf00p/logs</code>"
      ],
      "text/plain": [
       "<IPython.core.display.HTML object>"
      ]
     },
     "metadata": {},
     "output_type": "display_data"
    },
    {
     "name": "stderr",
     "output_type": "stream",
     "text": [
      "\u001b[34m\u001b[1mwandb\u001b[0m: Agent Starting Run: r5bexghj with config:\n",
      "\u001b[34m\u001b[1mwandb\u001b[0m: \tbatch_size: 128\n",
      "\u001b[34m\u001b[1mwandb\u001b[0m: \td_hidden: 3\n",
      "\u001b[34m\u001b[1mwandb\u001b[0m: \tdata_dir: /home/quanhhh/Documents/model/pickle/\n",
      "\u001b[34m\u001b[1mwandb\u001b[0m: \tdropout: 0.1831832433591716\n",
      "\u001b[34m\u001b[1mwandb\u001b[0m: \tkernel_size_1: 72\n",
      "\u001b[34m\u001b[1mwandb\u001b[0m: \tkernel_size_2: 9\n",
      "\u001b[34m\u001b[1mwandb\u001b[0m: \tlr: 0.00010003106188543856\n",
      "\u001b[34m\u001b[1mwandb\u001b[0m: \tmaxpool_1: 8\n",
      "\u001b[34m\u001b[1mwandb\u001b[0m: \tmaxpool_2: 5\n",
      "\u001b[34m\u001b[1mwandb\u001b[0m: \tnum_epoch: 100\n",
      "\u001b[34m\u001b[1mwandb\u001b[0m: \tnum_filters: 43\n",
      "\u001b[34m\u001b[1mwandb\u001b[0m: \tnum_layers: 3\n",
      "\u001b[34m\u001b[1mwandb\u001b[0m: \tresult_dir: /home/quanhhh/Documents/model/result_wandb/\n",
      "\u001b[34m\u001b[1mwandb\u001b[0m: \tstride_1: 4\n",
      "\u001b[34m\u001b[1mwandb\u001b[0m: \tstride_2: 6\n",
      "\u001b[34m\u001b[1mwandb\u001b[0m: \tweight_decay: 0.00013860194406352695\n"
     ]
    },
    {
     "data": {
      "text/html": [
       "Tracking run with wandb version 0.13.4"
      ],
      "text/plain": [
       "<IPython.core.display.HTML object>"
      ]
     },
     "metadata": {},
     "output_type": "display_data"
    },
    {
     "data": {
      "text/html": [
       "Run data is saved locally in <code>/home/quanhhh/Documents/model/wandb/run-20221019_141028-r5bexghj</code>"
      ],
      "text/plain": [
       "<IPython.core.display.HTML object>"
      ]
     },
     "metadata": {},
     "output_type": "display_data"
    },
    {
     "data": {
      "text/html": [
       "Syncing run <strong><a href=\"https://wandb.ai/maiquanh/quanh/runs/r5bexghj\" target=\"_blank\">vital-sweep-89</a></strong> to <a href=\"https://wandb.ai/maiquanh/quanh\" target=\"_blank\">Weights & Biases</a> (<a href=\"https://wandb.me/run\" target=\"_blank\">docs</a>)<br/>Sweep page:  <a href=\"https://wandb.ai/maiquanh/quanh/sweeps/8p4zr03y\" target=\"_blank\">https://wandb.ai/maiquanh/quanh/sweeps/8p4zr03y</a>"
      ],
      "text/plain": [
       "<IPython.core.display.HTML object>"
      ]
     },
     "metadata": {},
     "output_type": "display_data"
    },
    {
     "name": "stdout",
     "output_type": "stream",
     "text": [
      "-----START TRAINING CLASSIFICATION-----\n",
      "Epoch: 100\t| Train_loss: 0.006287\t|Train accuracy: 99.854920\t| Test_loss: 0.003328\t|Test accuracy: 97.298456\t|Val accuracy: 92.400002 \n",
      "\n",
      "----COMPLETED TRAINING CLASSIFICATION-----\n",
      "val_acc 92.4000015258789\n",
      "ok\n"
     ]
    },
    {
     "data": {
      "text/html": [
       "Waiting for W&B process to finish... <strong style=\"color:green\">(success).</strong>"
      ],
      "text/plain": [
       "<IPython.core.display.HTML object>"
      ]
     },
     "metadata": {},
     "output_type": "display_data"
    },
    {
     "data": {
      "text/html": [
       "<style>\n",
       "    table.wandb td:nth-child(1) { padding: 0 10px; text-align: left ; width: auto;} td:nth-child(2) {text-align: left ; width: 100%}\n",
       "    .wandb-row { display: flex; flex-direction: row; flex-wrap: wrap; justify-content: flex-start; width: 100% }\n",
       "    .wandb-col { display: flex; flex-direction: column; flex-basis: 100%; flex: 1; padding: 10px; }\n",
       "    </style>\n",
       "<div class=\"wandb-row\"><div class=\"wandb-col\"><h3>Run history:</h3><br/><table class=\"wandb\"><tr><td>test_loss</td><td>██████▇▇▇▆▆▅▅▅▅▅▄▄▄▄▄▄▄▃▃▂▂▂▂▂▂▂▂▁▁▁▁▁▂▁</td></tr><tr><td>train_loss</td><td>██████▇▇▇▆▆▆▅▅▅▅▅▅▅▅▅▄▄▄▃▃▃▃▂▂▂▂▂▂▂▁▁▁▁▁</td></tr><tr><td>val_acc</td><td>▁</td></tr></table><br/></div><div class=\"wandb-col\"><h3>Run summary:</h3><br/><table class=\"wandb\"><tr><td>test_loss</td><td>0.00333</td></tr><tr><td>train_loss</td><td>0.00629</td></tr><tr><td>val_acc</td><td>93.46667</td></tr></table><br/></div></div>"
      ],
      "text/plain": [
       "<IPython.core.display.HTML object>"
      ]
     },
     "metadata": {},
     "output_type": "display_data"
    },
    {
     "data": {
      "text/html": [
       "Synced <strong style=\"color:#cdcd00\">vital-sweep-89</strong>: <a href=\"https://wandb.ai/maiquanh/quanh/runs/r5bexghj\" target=\"_blank\">https://wandb.ai/maiquanh/quanh/runs/r5bexghj</a><br/>Synced 6 W&B file(s), 0 media file(s), 0 artifact file(s) and 0 other file(s)"
      ],
      "text/plain": [
       "<IPython.core.display.HTML object>"
      ]
     },
     "metadata": {},
     "output_type": "display_data"
    },
    {
     "data": {
      "text/html": [
       "Find logs at: <code>./wandb/run-20221019_141028-r5bexghj/logs</code>"
      ],
      "text/plain": [
       "<IPython.core.display.HTML object>"
      ]
     },
     "metadata": {},
     "output_type": "display_data"
    },
    {
     "name": "stderr",
     "output_type": "stream",
     "text": [
      "\u001b[34m\u001b[1mwandb\u001b[0m: Agent Starting Run: dbjnvyyp with config:\n",
      "\u001b[34m\u001b[1mwandb\u001b[0m: \tbatch_size: 128\n",
      "\u001b[34m\u001b[1mwandb\u001b[0m: \td_hidden: 3\n",
      "\u001b[34m\u001b[1mwandb\u001b[0m: \tdata_dir: /home/quanhhh/Documents/model/pickle/\n",
      "\u001b[34m\u001b[1mwandb\u001b[0m: \tdropout: 0.18291892941826204\n",
      "\u001b[34m\u001b[1mwandb\u001b[0m: \tkernel_size_1: 87\n",
      "\u001b[34m\u001b[1mwandb\u001b[0m: \tkernel_size_2: 9\n",
      "\u001b[34m\u001b[1mwandb\u001b[0m: \tlr: 0.000958859115385782\n",
      "\u001b[34m\u001b[1mwandb\u001b[0m: \tmaxpool_1: 5\n",
      "\u001b[34m\u001b[1mwandb\u001b[0m: \tmaxpool_2: 5\n",
      "\u001b[34m\u001b[1mwandb\u001b[0m: \tnum_epoch: 100\n",
      "\u001b[34m\u001b[1mwandb\u001b[0m: \tnum_filters: 31\n",
      "\u001b[34m\u001b[1mwandb\u001b[0m: \tnum_layers: 2\n",
      "\u001b[34m\u001b[1mwandb\u001b[0m: \tresult_dir: /home/quanhhh/Documents/model/result_wandb/\n",
      "\u001b[34m\u001b[1mwandb\u001b[0m: \tstride_1: 9\n",
      "\u001b[34m\u001b[1mwandb\u001b[0m: \tstride_2: 8\n",
      "\u001b[34m\u001b[1mwandb\u001b[0m: \tweight_decay: 0.00027556577580734054\n"
     ]
    },
    {
     "data": {
      "text/html": [
       "Tracking run with wandb version 0.13.4"
      ],
      "text/plain": [
       "<IPython.core.display.HTML object>"
      ]
     },
     "metadata": {},
     "output_type": "display_data"
    },
    {
     "data": {
      "text/html": [
       "Run data is saved locally in <code>/home/quanhhh/Documents/model/wandb/run-20221019_141514-dbjnvyyp</code>"
      ],
      "text/plain": [
       "<IPython.core.display.HTML object>"
      ]
     },
     "metadata": {},
     "output_type": "display_data"
    },
    {
     "data": {
      "text/html": [
       "Syncing run <strong><a href=\"https://wandb.ai/maiquanh/quanh/runs/dbjnvyyp\" target=\"_blank\">fluent-sweep-90</a></strong> to <a href=\"https://wandb.ai/maiquanh/quanh\" target=\"_blank\">Weights & Biases</a> (<a href=\"https://wandb.me/run\" target=\"_blank\">docs</a>)<br/>Sweep page:  <a href=\"https://wandb.ai/maiquanh/quanh/sweeps/8p4zr03y\" target=\"_blank\">https://wandb.ai/maiquanh/quanh/sweeps/8p4zr03y</a>"
      ],
      "text/plain": [
       "<IPython.core.display.HTML object>"
      ]
     },
     "metadata": {},
     "output_type": "display_data"
    },
    {
     "name": "stdout",
     "output_type": "stream",
     "text": [
      "-----START TRAINING CLASSIFICATION-----\n",
      "Epoch: 100\t| Train_loss: 0.005611\t|Train accuracy: 97.375363\t| Test_loss: 0.003144\t|Test accuracy: 95.454545\t|Val accuracy: 90.500000 \n",
      "\n",
      "----COMPLETED TRAINING CLASSIFICATION-----\n",
      "val_acc 90.5\n",
      "ok\n"
     ]
    },
    {
     "data": {
      "text/html": [
       "Waiting for W&B process to finish... <strong style=\"color:green\">(success).</strong>"
      ],
      "text/plain": [
       "<IPython.core.display.HTML object>"
      ]
     },
     "metadata": {},
     "output_type": "display_data"
    },
    {
     "data": {
      "text/html": [
       "<style>\n",
       "    table.wandb td:nth-child(1) { padding: 0 10px; text-align: left ; width: auto;} td:nth-child(2) {text-align: left ; width: 100%}\n",
       "    .wandb-row { display: flex; flex-direction: row; flex-wrap: wrap; justify-content: flex-start; width: 100% }\n",
       "    .wandb-col { display: flex; flex-direction: column; flex-basis: 100%; flex: 1; padding: 10px; }\n",
       "    </style>\n",
       "<div class=\"wandb-row\"><div class=\"wandb-col\"><h3>Run history:</h3><br/><table class=\"wandb\"><tr><td>test_loss</td><td>█▇▅▅▄▄▃▃▄▂▃▄▁▄▅▃▄▂▂▃▄▂▃▂▃▁▁▁▁▁▁▂▃▃▃▄▂▃▃▁</td></tr><tr><td>train_loss</td><td>█▆▄▃▃▂▂▂▂▁▁▁▁▁▂▁▁▁▁▁▁▁▁▁▁▁▁▁▁▁▁▁▁▁▁▁▁▁▁▁</td></tr><tr><td>val_acc</td><td>▁</td></tr></table><br/></div><div class=\"wandb-col\"><h3>Run summary:</h3><br/><table class=\"wandb\"><tr><td>test_loss</td><td>0.00314</td></tr><tr><td>train_loss</td><td>0.00561</td></tr><tr><td>val_acc</td><td>94.5</td></tr></table><br/></div></div>"
      ],
      "text/plain": [
       "<IPython.core.display.HTML object>"
      ]
     },
     "metadata": {},
     "output_type": "display_data"
    },
    {
     "data": {
      "text/html": [
       "Synced <strong style=\"color:#cdcd00\">fluent-sweep-90</strong>: <a href=\"https://wandb.ai/maiquanh/quanh/runs/dbjnvyyp\" target=\"_blank\">https://wandb.ai/maiquanh/quanh/runs/dbjnvyyp</a><br/>Synced 6 W&B file(s), 0 media file(s), 0 artifact file(s) and 0 other file(s)"
      ],
      "text/plain": [
       "<IPython.core.display.HTML object>"
      ]
     },
     "metadata": {},
     "output_type": "display_data"
    },
    {
     "data": {
      "text/html": [
       "Find logs at: <code>./wandb/run-20221019_141514-dbjnvyyp/logs</code>"
      ],
      "text/plain": [
       "<IPython.core.display.HTML object>"
      ]
     },
     "metadata": {},
     "output_type": "display_data"
    },
    {
     "name": "stderr",
     "output_type": "stream",
     "text": [
      "\u001b[34m\u001b[1mwandb\u001b[0m: Sweep Agent: Waiting for job.\n",
      "\u001b[34m\u001b[1mwandb\u001b[0m: Job received.\n",
      "\u001b[34m\u001b[1mwandb\u001b[0m: Agent Starting Run: 6w9e782o with config:\n",
      "\u001b[34m\u001b[1mwandb\u001b[0m: \tbatch_size: 128\n",
      "\u001b[34m\u001b[1mwandb\u001b[0m: \td_hidden: 3\n",
      "\u001b[34m\u001b[1mwandb\u001b[0m: \tdata_dir: /home/quanhhh/Documents/model/pickle/\n",
      "\u001b[34m\u001b[1mwandb\u001b[0m: \tdropout: 0.11629328968652136\n",
      "\u001b[34m\u001b[1mwandb\u001b[0m: \tkernel_size_1: 53\n",
      "\u001b[34m\u001b[1mwandb\u001b[0m: \tkernel_size_2: 10\n",
      "\u001b[34m\u001b[1mwandb\u001b[0m: \tlr: 0.0002519868624644757\n",
      "\u001b[34m\u001b[1mwandb\u001b[0m: \tmaxpool_1: 8\n",
      "\u001b[34m\u001b[1mwandb\u001b[0m: \tmaxpool_2: 4\n",
      "\u001b[34m\u001b[1mwandb\u001b[0m: \tnum_epoch: 90\n",
      "\u001b[34m\u001b[1mwandb\u001b[0m: \tnum_filters: 20\n",
      "\u001b[34m\u001b[1mwandb\u001b[0m: \tnum_layers: 3\n",
      "\u001b[34m\u001b[1mwandb\u001b[0m: \tresult_dir: /home/quanhhh/Documents/model/result_wandb/\n",
      "\u001b[34m\u001b[1mwandb\u001b[0m: \tstride_1: 9\n",
      "\u001b[34m\u001b[1mwandb\u001b[0m: \tstride_2: 8\n",
      "\u001b[34m\u001b[1mwandb\u001b[0m: \tweight_decay: 0.00010335536594696522\n"
     ]
    },
    {
     "data": {
      "text/html": [
       "Tracking run with wandb version 0.13.4"
      ],
      "text/plain": [
       "<IPython.core.display.HTML object>"
      ]
     },
     "metadata": {},
     "output_type": "display_data"
    },
    {
     "data": {
      "text/html": [
       "Run data is saved locally in <code>/home/quanhhh/Documents/model/wandb/run-20221019_141756-6w9e782o</code>"
      ],
      "text/plain": [
       "<IPython.core.display.HTML object>"
      ]
     },
     "metadata": {},
     "output_type": "display_data"
    },
    {
     "data": {
      "text/html": [
       "Syncing run <strong><a href=\"https://wandb.ai/maiquanh/quanh/runs/6w9e782o\" target=\"_blank\">polished-sweep-91</a></strong> to <a href=\"https://wandb.ai/maiquanh/quanh\" target=\"_blank\">Weights & Biases</a> (<a href=\"https://wandb.me/run\" target=\"_blank\">docs</a>)<br/>Sweep page:  <a href=\"https://wandb.ai/maiquanh/quanh/sweeps/8p4zr03y\" target=\"_blank\">https://wandb.ai/maiquanh/quanh/sweeps/8p4zr03y</a>"
      ],
      "text/plain": [
       "<IPython.core.display.HTML object>"
      ]
     },
     "metadata": {},
     "output_type": "display_data"
    },
    {
     "name": "stdout",
     "output_type": "stream",
     "text": [
      "-----START TRAINING CLASSIFICATION-----\n",
      "Epoch: 90\t| Train_loss: 0.005661\t|Train accuracy: 99.050382\t| Test_loss: 0.003156\t|Test accuracy: 95.497427\t|Val accuracy: 75.933334 \n",
      "\n",
      "----COMPLETED TRAINING CLASSIFICATION-----\n",
      "val_acc 75.93333435058594\n",
      "ok\n"
     ]
    },
    {
     "data": {
      "text/html": [
       "Waiting for W&B process to finish... <strong style=\"color:green\">(success).</strong>"
      ],
      "text/plain": [
       "<IPython.core.display.HTML object>"
      ]
     },
     "metadata": {},
     "output_type": "display_data"
    },
    {
     "data": {
      "text/html": [
       "<style>\n",
       "    table.wandb td:nth-child(1) { padding: 0 10px; text-align: left ; width: auto;} td:nth-child(2) {text-align: left ; width: 100%}\n",
       "    .wandb-row { display: flex; flex-direction: row; flex-wrap: wrap; justify-content: flex-start; width: 100% }\n",
       "    .wandb-col { display: flex; flex-direction: column; flex-basis: 100%; flex: 1; padding: 10px; }\n",
       "    </style>\n",
       "<div class=\"wandb-row\"><div class=\"wandb-col\"><h3>Run history:</h3><br/><table class=\"wandb\"><tr><td>test_loss</td><td>█▇▆▆▆▆▅▅▄▄▄▄▃▃▂▃▃▂▃▂▂▂▁▂▂▁▁▁▁▁▂▁▁▁▃▁▁▃▂▁</td></tr><tr><td>train_loss</td><td>█▇▇▆▅▅▅▅▄▃▃▃▃▂▂▂▂▂▂▂▁▁▁▁▁▁▁▁▁▁▁▁▁▁▁▁▁▁▁▁</td></tr><tr><td>val_acc</td><td>▁</td></tr></table><br/></div><div class=\"wandb-col\"><h3>Run summary:</h3><br/><table class=\"wandb\"><tr><td>test_loss</td><td>0.00316</td></tr><tr><td>train_loss</td><td>0.00566</td></tr><tr><td>val_acc</td><td>89.8</td></tr></table><br/></div></div>"
      ],
      "text/plain": [
       "<IPython.core.display.HTML object>"
      ]
     },
     "metadata": {},
     "output_type": "display_data"
    },
    {
     "data": {
      "text/html": [
       "Synced <strong style=\"color:#cdcd00\">polished-sweep-91</strong>: <a href=\"https://wandb.ai/maiquanh/quanh/runs/6w9e782o\" target=\"_blank\">https://wandb.ai/maiquanh/quanh/runs/6w9e782o</a><br/>Synced 6 W&B file(s), 0 media file(s), 0 artifact file(s) and 0 other file(s)"
      ],
      "text/plain": [
       "<IPython.core.display.HTML object>"
      ]
     },
     "metadata": {},
     "output_type": "display_data"
    },
    {
     "data": {
      "text/html": [
       "Find logs at: <code>./wandb/run-20221019_141756-6w9e782o/logs</code>"
      ],
      "text/plain": [
       "<IPython.core.display.HTML object>"
      ]
     },
     "metadata": {},
     "output_type": "display_data"
    },
    {
     "name": "stderr",
     "output_type": "stream",
     "text": [
      "\u001b[34m\u001b[1mwandb\u001b[0m: Agent Starting Run: rmkexlyh with config:\n",
      "\u001b[34m\u001b[1mwandb\u001b[0m: \tbatch_size: 128\n",
      "\u001b[34m\u001b[1mwandb\u001b[0m: \td_hidden: 3\n",
      "\u001b[34m\u001b[1mwandb\u001b[0m: \tdata_dir: /home/quanhhh/Documents/model/pickle/\n",
      "\u001b[34m\u001b[1mwandb\u001b[0m: \tdropout: 0.11756485923782577\n",
      "\u001b[34m\u001b[1mwandb\u001b[0m: \tkernel_size_1: 55\n",
      "\u001b[34m\u001b[1mwandb\u001b[0m: \tkernel_size_2: 11\n",
      "\u001b[34m\u001b[1mwandb\u001b[0m: \tlr: 0.0009410877807816524\n",
      "\u001b[34m\u001b[1mwandb\u001b[0m: \tmaxpool_1: 5\n",
      "\u001b[34m\u001b[1mwandb\u001b[0m: \tmaxpool_2: 8\n",
      "\u001b[34m\u001b[1mwandb\u001b[0m: \tnum_epoch: 93\n",
      "\u001b[34m\u001b[1mwandb\u001b[0m: \tnum_filters: 37\n",
      "\u001b[34m\u001b[1mwandb\u001b[0m: \tnum_layers: 2\n",
      "\u001b[34m\u001b[1mwandb\u001b[0m: \tresult_dir: /home/quanhhh/Documents/model/result_wandb/\n",
      "\u001b[34m\u001b[1mwandb\u001b[0m: \tstride_1: 6\n",
      "\u001b[34m\u001b[1mwandb\u001b[0m: \tstride_2: 7\n",
      "\u001b[34m\u001b[1mwandb\u001b[0m: \tweight_decay: 0.0001253615487969026\n"
     ]
    },
    {
     "data": {
      "text/html": [
       "Tracking run with wandb version 0.13.4"
      ],
      "text/plain": [
       "<IPython.core.display.HTML object>"
      ]
     },
     "metadata": {},
     "output_type": "display_data"
    },
    {
     "data": {
      "text/html": [
       "Run data is saved locally in <code>/home/quanhhh/Documents/model/wandb/run-20221019_141955-rmkexlyh</code>"
      ],
      "text/plain": [
       "<IPython.core.display.HTML object>"
      ]
     },
     "metadata": {},
     "output_type": "display_data"
    },
    {
     "data": {
      "text/html": [
       "Syncing run <strong><a href=\"https://wandb.ai/maiquanh/quanh/runs/rmkexlyh\" target=\"_blank\">vibrant-sweep-92</a></strong> to <a href=\"https://wandb.ai/maiquanh/quanh\" target=\"_blank\">Weights & Biases</a> (<a href=\"https://wandb.me/run\" target=\"_blank\">docs</a>)<br/>Sweep page:  <a href=\"https://wandb.ai/maiquanh/quanh/sweeps/8p4zr03y\" target=\"_blank\">https://wandb.ai/maiquanh/quanh/sweeps/8p4zr03y</a>"
      ],
      "text/plain": [
       "<IPython.core.display.HTML object>"
      ]
     },
     "metadata": {},
     "output_type": "display_data"
    },
    {
     "name": "stdout",
     "output_type": "stream",
     "text": [
      "-----START TRAINING CLASSIFICATION-----\n",
      "Epoch: 93\t| Train_loss: 0.005897\t|Train accuracy: 99.485624\t| Test_loss: 0.003151\t|Test accuracy: 97.898799\t|Val accuracy: 75.099998 \n",
      "\n",
      "----COMPLETED TRAINING CLASSIFICATION-----\n",
      "val_acc 75.0999984741211\n",
      "ok\n"
     ]
    },
    {
     "data": {
      "text/html": [
       "Waiting for W&B process to finish... <strong style=\"color:green\">(success).</strong>"
      ],
      "text/plain": [
       "<IPython.core.display.HTML object>"
      ]
     },
     "metadata": {},
     "output_type": "display_data"
    },
    {
     "data": {
      "text/html": [
       "<style>\n",
       "    table.wandb td:nth-child(1) { padding: 0 10px; text-align: left ; width: auto;} td:nth-child(2) {text-align: left ; width: 100%}\n",
       "    .wandb-row { display: flex; flex-direction: row; flex-wrap: wrap; justify-content: flex-start; width: 100% }\n",
       "    .wandb-col { display: flex; flex-direction: column; flex-basis: 100%; flex: 1; padding: 10px; }\n",
       "    </style>\n",
       "<div class=\"wandb-row\"><div class=\"wandb-col\"><h3>Run history:</h3><br/><table class=\"wandb\"><tr><td>test_loss</td><td>█▆▅▄▄▃▃▂▃▂▂▃▂▂▁▃▂▁▂▃▃▁▁▁▁▁▁▂▂▂▁▂▁▁▁▂▁▁▂▁</td></tr><tr><td>train_loss</td><td>█▅▃▃▂▂▂▂▂▂▁▁▁▁▁▁▁▁▁▁▁▁▁▁▁▁▁▁▁▁▁▁▁▁▁▁▁▁▁▁</td></tr><tr><td>val_acc</td><td>▁</td></tr></table><br/></div><div class=\"wandb-col\"><h3>Run summary:</h3><br/><table class=\"wandb\"><tr><td>test_loss</td><td>0.00315</td></tr><tr><td>train_loss</td><td>0.0059</td></tr><tr><td>val_acc</td><td>88.63333</td></tr></table><br/></div></div>"
      ],
      "text/plain": [
       "<IPython.core.display.HTML object>"
      ]
     },
     "metadata": {},
     "output_type": "display_data"
    },
    {
     "data": {
      "text/html": [
       "Synced <strong style=\"color:#cdcd00\">vibrant-sweep-92</strong>: <a href=\"https://wandb.ai/maiquanh/quanh/runs/rmkexlyh\" target=\"_blank\">https://wandb.ai/maiquanh/quanh/runs/rmkexlyh</a><br/>Synced 6 W&B file(s), 0 media file(s), 0 artifact file(s) and 0 other file(s)"
      ],
      "text/plain": [
       "<IPython.core.display.HTML object>"
      ]
     },
     "metadata": {},
     "output_type": "display_data"
    },
    {
     "data": {
      "text/html": [
       "Find logs at: <code>./wandb/run-20221019_141955-rmkexlyh/logs</code>"
      ],
      "text/plain": [
       "<IPython.core.display.HTML object>"
      ]
     },
     "metadata": {},
     "output_type": "display_data"
    },
    {
     "name": "stderr",
     "output_type": "stream",
     "text": [
      "\u001b[34m\u001b[1mwandb\u001b[0m: Agent Starting Run: 6u5hvz2h with config:\n",
      "\u001b[34m\u001b[1mwandb\u001b[0m: \tbatch_size: 128\n",
      "\u001b[34m\u001b[1mwandb\u001b[0m: \td_hidden: 3\n",
      "\u001b[34m\u001b[1mwandb\u001b[0m: \tdata_dir: /home/quanhhh/Documents/model/pickle/\n",
      "\u001b[34m\u001b[1mwandb\u001b[0m: \tdropout: 0.19154713575338608\n",
      "\u001b[34m\u001b[1mwandb\u001b[0m: \tkernel_size_1: 57\n",
      "\u001b[34m\u001b[1mwandb\u001b[0m: \tkernel_size_2: 5\n",
      "\u001b[34m\u001b[1mwandb\u001b[0m: \tlr: 0.0007762919724752991\n",
      "\u001b[34m\u001b[1mwandb\u001b[0m: \tmaxpool_1: 7\n",
      "\u001b[34m\u001b[1mwandb\u001b[0m: \tmaxpool_2: 7\n",
      "\u001b[34m\u001b[1mwandb\u001b[0m: \tnum_epoch: 92\n",
      "\u001b[34m\u001b[1mwandb\u001b[0m: \tnum_filters: 39\n",
      "\u001b[34m\u001b[1mwandb\u001b[0m: \tnum_layers: 2\n",
      "\u001b[34m\u001b[1mwandb\u001b[0m: \tresult_dir: /home/quanhhh/Documents/model/result_wandb/\n",
      "\u001b[34m\u001b[1mwandb\u001b[0m: \tstride_1: 9\n",
      "\u001b[34m\u001b[1mwandb\u001b[0m: \tstride_2: 6\n",
      "\u001b[34m\u001b[1mwandb\u001b[0m: \tweight_decay: 0.00027805063722251326\n"
     ]
    },
    {
     "data": {
      "text/html": [
       "Tracking run with wandb version 0.13.4"
      ],
      "text/plain": [
       "<IPython.core.display.HTML object>"
      ]
     },
     "metadata": {},
     "output_type": "display_data"
    },
    {
     "data": {
      "text/html": [
       "Run data is saved locally in <code>/home/quanhhh/Documents/model/wandb/run-20221019_142259-6u5hvz2h</code>"
      ],
      "text/plain": [
       "<IPython.core.display.HTML object>"
      ]
     },
     "metadata": {},
     "output_type": "display_data"
    },
    {
     "data": {
      "text/html": [
       "Syncing run <strong><a href=\"https://wandb.ai/maiquanh/quanh/runs/6u5hvz2h\" target=\"_blank\">valiant-sweep-93</a></strong> to <a href=\"https://wandb.ai/maiquanh/quanh\" target=\"_blank\">Weights & Biases</a> (<a href=\"https://wandb.me/run\" target=\"_blank\">docs</a>)<br/>Sweep page:  <a href=\"https://wandb.ai/maiquanh/quanh/sweeps/8p4zr03y\" target=\"_blank\">https://wandb.ai/maiquanh/quanh/sweeps/8p4zr03y</a>"
      ],
      "text/plain": [
       "<IPython.core.display.HTML object>"
      ]
     },
     "metadata": {},
     "output_type": "display_data"
    },
    {
     "name": "stdout",
     "output_type": "stream",
     "text": [
      "-----START TRAINING CLASSIFICATION-----\n",
      "Epoch: 92\t| Train_loss: 0.005945\t|Train accuracy: 98.707465\t| Test_loss: 0.003269\t|Test accuracy: 93.096055\t|Val accuracy: 87.500000 \n",
      "\n",
      "----COMPLETED TRAINING CLASSIFICATION-----\n",
      "val_acc 87.5\n",
      "ok\n"
     ]
    },
    {
     "data": {
      "text/html": [
       "Waiting for W&B process to finish... <strong style=\"color:green\">(success).</strong>"
      ],
      "text/plain": [
       "<IPython.core.display.HTML object>"
      ]
     },
     "metadata": {},
     "output_type": "display_data"
    },
    {
     "data": {
      "text/html": [
       "<style>\n",
       "    table.wandb td:nth-child(1) { padding: 0 10px; text-align: left ; width: auto;} td:nth-child(2) {text-align: left ; width: 100%}\n",
       "    .wandb-row { display: flex; flex-direction: row; flex-wrap: wrap; justify-content: flex-start; width: 100% }\n",
       "    .wandb-col { display: flex; flex-direction: column; flex-basis: 100%; flex: 1; padding: 10px; }\n",
       "    </style>\n",
       "<div class=\"wandb-row\"><div class=\"wandb-col\"><h3>Run history:</h3><br/><table class=\"wandb\"><tr><td>test_loss</td><td>█▇▇▅▄▄▄▄▄▂▃▃▃▂▃▃▂▂▃▂▃▃▄▁▁▁▃▁▁▁▁▁▁▁▁▂▁▃▁▁</td></tr><tr><td>train_loss</td><td>█▇▆▅▄▃▃▂▂▂▂▂▂▂▂▁▁▁▁▁▁▁▁▁▁▁▁▁▁▁▁▁▁▁▁▁▁▁▁▁</td></tr><tr><td>val_acc</td><td>▁</td></tr></table><br/></div><div class=\"wandb-col\"><h3>Run summary:</h3><br/><table class=\"wandb\"><tr><td>test_loss</td><td>0.00327</td></tr><tr><td>train_loss</td><td>0.00595</td></tr><tr><td>val_acc</td><td>92.5</td></tr></table><br/></div></div>"
      ],
      "text/plain": [
       "<IPython.core.display.HTML object>"
      ]
     },
     "metadata": {},
     "output_type": "display_data"
    },
    {
     "data": {
      "text/html": [
       "Synced <strong style=\"color:#cdcd00\">valiant-sweep-93</strong>: <a href=\"https://wandb.ai/maiquanh/quanh/runs/6u5hvz2h\" target=\"_blank\">https://wandb.ai/maiquanh/quanh/runs/6u5hvz2h</a><br/>Synced 6 W&B file(s), 0 media file(s), 0 artifact file(s) and 0 other file(s)"
      ],
      "text/plain": [
       "<IPython.core.display.HTML object>"
      ]
     },
     "metadata": {},
     "output_type": "display_data"
    },
    {
     "data": {
      "text/html": [
       "Find logs at: <code>./wandb/run-20221019_142259-6u5hvz2h/logs</code>"
      ],
      "text/plain": [
       "<IPython.core.display.HTML object>"
      ]
     },
     "metadata": {},
     "output_type": "display_data"
    },
    {
     "name": "stderr",
     "output_type": "stream",
     "text": [
      "\u001b[34m\u001b[1mwandb\u001b[0m: Agent Starting Run: l4u8r8aq with config:\n",
      "\u001b[34m\u001b[1mwandb\u001b[0m: \tbatch_size: 128\n",
      "\u001b[34m\u001b[1mwandb\u001b[0m: \td_hidden: 3\n",
      "\u001b[34m\u001b[1mwandb\u001b[0m: \tdata_dir: /home/quanhhh/Documents/model/pickle/\n",
      "\u001b[34m\u001b[1mwandb\u001b[0m: \tdropout: 0.1690153742369343\n",
      "\u001b[34m\u001b[1mwandb\u001b[0m: \tkernel_size_1: 61\n",
      "\u001b[34m\u001b[1mwandb\u001b[0m: \tkernel_size_2: 3\n",
      "\u001b[34m\u001b[1mwandb\u001b[0m: \tlr: 0.00011969491250013602\n",
      "\u001b[34m\u001b[1mwandb\u001b[0m: \tmaxpool_1: 5\n",
      "\u001b[34m\u001b[1mwandb\u001b[0m: \tmaxpool_2: 4\n",
      "\u001b[34m\u001b[1mwandb\u001b[0m: \tnum_epoch: 96\n",
      "\u001b[34m\u001b[1mwandb\u001b[0m: \tnum_filters: 61\n",
      "\u001b[34m\u001b[1mwandb\u001b[0m: \tnum_layers: 4\n",
      "\u001b[34m\u001b[1mwandb\u001b[0m: \tresult_dir: /home/quanhhh/Documents/model/result_wandb/\n",
      "\u001b[34m\u001b[1mwandb\u001b[0m: \tstride_1: 6\n",
      "\u001b[34m\u001b[1mwandb\u001b[0m: \tstride_2: 4\n",
      "\u001b[34m\u001b[1mwandb\u001b[0m: \tweight_decay: 0.0001263704686185345\n"
     ]
    },
    {
     "data": {
      "text/html": [
       "Tracking run with wandb version 0.13.4"
      ],
      "text/plain": [
       "<IPython.core.display.HTML object>"
      ]
     },
     "metadata": {},
     "output_type": "display_data"
    },
    {
     "data": {
      "text/html": [
       "Run data is saved locally in <code>/home/quanhhh/Documents/model/wandb/run-20221019_142526-l4u8r8aq</code>"
      ],
      "text/plain": [
       "<IPython.core.display.HTML object>"
      ]
     },
     "metadata": {},
     "output_type": "display_data"
    },
    {
     "data": {
      "text/html": [
       "Syncing run <strong><a href=\"https://wandb.ai/maiquanh/quanh/runs/l4u8r8aq\" target=\"_blank\">absurd-sweep-94</a></strong> to <a href=\"https://wandb.ai/maiquanh/quanh\" target=\"_blank\">Weights & Biases</a> (<a href=\"https://wandb.me/run\" target=\"_blank\">docs</a>)<br/>Sweep page:  <a href=\"https://wandb.ai/maiquanh/quanh/sweeps/8p4zr03y\" target=\"_blank\">https://wandb.ai/maiquanh/quanh/sweeps/8p4zr03y</a>"
      ],
      "text/plain": [
       "<IPython.core.display.HTML object>"
      ]
     },
     "metadata": {},
     "output_type": "display_data"
    },
    {
     "name": "stdout",
     "output_type": "stream",
     "text": [
      "-----START TRAINING CLASSIFICATION-----\n",
      "Epoch: 96\t| Train_loss: 0.006247\t|Train accuracy: 97.335795\t| Test_loss: 0.003684\t|Test accuracy: 82.118353\t|Val accuracy: 72.466667 \n",
      "\n",
      "----COMPLETED TRAINING CLASSIFICATION-----\n",
      "val_acc 72.46666717529297\n",
      "ok\n"
     ]
    },
    {
     "data": {
      "text/html": [
       "Waiting for W&B process to finish... <strong style=\"color:green\">(success).</strong>"
      ],
      "text/plain": [
       "<IPython.core.display.HTML object>"
      ]
     },
     "metadata": {},
     "output_type": "display_data"
    },
    {
     "data": {
      "text/html": [
       "<style>\n",
       "    table.wandb td:nth-child(1) { padding: 0 10px; text-align: left ; width: auto;} td:nth-child(2) {text-align: left ; width: 100%}\n",
       "    .wandb-row { display: flex; flex-direction: row; flex-wrap: wrap; justify-content: flex-start; width: 100% }\n",
       "    .wandb-col { display: flex; flex-direction: column; flex-basis: 100%; flex: 1; padding: 10px; }\n",
       "    </style>\n",
       "<div class=\"wandb-row\"><div class=\"wandb-col\"><h3>Run history:</h3><br/><table class=\"wandb\"><tr><td>test_loss</td><td>███████▇▇▇▆▆▅▅▅▄▄▄▄▄▃▃▃▂▂▂▃▂▂▂▂▁▂▁▁▂▃▁▁▃</td></tr><tr><td>train_loss</td><td>███████▇▇▆▆▅▅▅▄▄▄▃▃▃▃▂▂▂▂▂▂▂▂▁▁▁▁▁▁▁▁▁▁▁</td></tr><tr><td>val_acc</td><td>▁</td></tr></table><br/></div><div class=\"wandb-col\"><h3>Run summary:</h3><br/><table class=\"wandb\"><tr><td>test_loss</td><td>0.00368</td></tr><tr><td>train_loss</td><td>0.00625</td></tr><tr><td>val_acc</td><td>93.13333</td></tr></table><br/></div></div>"
      ],
      "text/plain": [
       "<IPython.core.display.HTML object>"
      ]
     },
     "metadata": {},
     "output_type": "display_data"
    },
    {
     "data": {
      "text/html": [
       "Synced <strong style=\"color:#cdcd00\">absurd-sweep-94</strong>: <a href=\"https://wandb.ai/maiquanh/quanh/runs/l4u8r8aq\" target=\"_blank\">https://wandb.ai/maiquanh/quanh/runs/l4u8r8aq</a><br/>Synced 6 W&B file(s), 0 media file(s), 0 artifact file(s) and 0 other file(s)"
      ],
      "text/plain": [
       "<IPython.core.display.HTML object>"
      ]
     },
     "metadata": {},
     "output_type": "display_data"
    },
    {
     "data": {
      "text/html": [
       "Find logs at: <code>./wandb/run-20221019_142526-l4u8r8aq/logs</code>"
      ],
      "text/plain": [
       "<IPython.core.display.HTML object>"
      ]
     },
     "metadata": {},
     "output_type": "display_data"
    },
    {
     "name": "stderr",
     "output_type": "stream",
     "text": [
      "\u001b[34m\u001b[1mwandb\u001b[0m: Agent Starting Run: och1w19a with config:\n",
      "\u001b[34m\u001b[1mwandb\u001b[0m: \tbatch_size: 128\n",
      "\u001b[34m\u001b[1mwandb\u001b[0m: \td_hidden: 3\n",
      "\u001b[34m\u001b[1mwandb\u001b[0m: \tdata_dir: /home/quanhhh/Documents/model/pickle/\n",
      "\u001b[34m\u001b[1mwandb\u001b[0m: \tdropout: 0.184624972568976\n",
      "\u001b[34m\u001b[1mwandb\u001b[0m: \tkernel_size_1: 79\n",
      "\u001b[34m\u001b[1mwandb\u001b[0m: \tkernel_size_2: 6\n",
      "\u001b[34m\u001b[1mwandb\u001b[0m: \tlr: 0.0033672006950399413\n",
      "\u001b[34m\u001b[1mwandb\u001b[0m: \tmaxpool_1: 3\n",
      "\u001b[34m\u001b[1mwandb\u001b[0m: \tmaxpool_2: 7\n",
      "\u001b[34m\u001b[1mwandb\u001b[0m: \tnum_epoch: 89\n",
      "\u001b[34m\u001b[1mwandb\u001b[0m: \tnum_filters: 30\n",
      "\u001b[34m\u001b[1mwandb\u001b[0m: \tnum_layers: 2\n",
      "\u001b[34m\u001b[1mwandb\u001b[0m: \tresult_dir: /home/quanhhh/Documents/model/result_wandb/\n",
      "\u001b[34m\u001b[1mwandb\u001b[0m: \tstride_1: 9\n",
      "\u001b[34m\u001b[1mwandb\u001b[0m: \tstride_2: 3\n",
      "\u001b[34m\u001b[1mwandb\u001b[0m: \tweight_decay: 0.00028943340646086824\n"
     ]
    },
    {
     "data": {
      "text/html": [
       "Tracking run with wandb version 0.13.4"
      ],
      "text/plain": [
       "<IPython.core.display.HTML object>"
      ]
     },
     "metadata": {},
     "output_type": "display_data"
    },
    {
     "data": {
      "text/html": [
       "Run data is saved locally in <code>/home/quanhhh/Documents/model/wandb/run-20221019_142935-och1w19a</code>"
      ],
      "text/plain": [
       "<IPython.core.display.HTML object>"
      ]
     },
     "metadata": {},
     "output_type": "display_data"
    },
    {
     "data": {
      "text/html": [
       "Syncing run <strong><a href=\"https://wandb.ai/maiquanh/quanh/runs/och1w19a\" target=\"_blank\">driven-sweep-95</a></strong> to <a href=\"https://wandb.ai/maiquanh/quanh\" target=\"_blank\">Weights & Biases</a> (<a href=\"https://wandb.me/run\" target=\"_blank\">docs</a>)<br/>Sweep page:  <a href=\"https://wandb.ai/maiquanh/quanh/sweeps/8p4zr03y\" target=\"_blank\">https://wandb.ai/maiquanh/quanh/sweeps/8p4zr03y</a>"
      ],
      "text/plain": [
       "<IPython.core.display.HTML object>"
      ]
     },
     "metadata": {},
     "output_type": "display_data"
    },
    {
     "name": "stdout",
     "output_type": "stream",
     "text": [
      "-----START TRAINING CLASSIFICATION-----\n",
      "Epoch: 89\t| Train_loss: 0.005645\t|Train accuracy: 95.726721\t| Test_loss: 0.003217\t|Test accuracy: 92.753002\t|Val accuracy: 85.866669 \n",
      "\n",
      "----COMPLETED TRAINING CLASSIFICATION-----\n",
      "val_acc 85.86666870117188\n",
      "ok\n"
     ]
    },
    {
     "data": {
      "text/html": [
       "Waiting for W&B process to finish... <strong style=\"color:green\">(success).</strong>"
      ],
      "text/plain": [
       "<IPython.core.display.HTML object>"
      ]
     },
     "metadata": {},
     "output_type": "display_data"
    },
    {
     "data": {
      "text/html": [
       "<style>\n",
       "    table.wandb td:nth-child(1) { padding: 0 10px; text-align: left ; width: auto;} td:nth-child(2) {text-align: left ; width: 100%}\n",
       "    .wandb-row { display: flex; flex-direction: row; flex-wrap: wrap; justify-content: flex-start; width: 100% }\n",
       "    .wandb-col { display: flex; flex-direction: column; flex-basis: 100%; flex: 1; padding: 10px; }\n",
       "    </style>\n",
       "<div class=\"wandb-row\"><div class=\"wandb-col\"><h3>Run history:</h3><br/><table class=\"wandb\"><tr><td>test_loss</td><td>█▃▄▃▂▂▂▁▂▂▁▁▃▃▂▃▂▁▁▃▁▁▃▂▂▁▂▁▂▁▁▁▁▁▁▂▃▁▂▂</td></tr><tr><td>train_loss</td><td>█▃▂▁▁▁▁▁▁▁▁▁▁▁▁▁▁▁▁▁▁▁▁▁▁▁▁▁▁▁▁▁▁▁▁▁▁▁▁▁</td></tr><tr><td>val_acc</td><td>▁</td></tr></table><br/></div><div class=\"wandb-col\"><h3>Run summary:</h3><br/><table class=\"wandb\"><tr><td>test_loss</td><td>0.00322</td></tr><tr><td>train_loss</td><td>0.00565</td></tr><tr><td>val_acc</td><td>91.8</td></tr></table><br/></div></div>"
      ],
      "text/plain": [
       "<IPython.core.display.HTML object>"
      ]
     },
     "metadata": {},
     "output_type": "display_data"
    },
    {
     "data": {
      "text/html": [
       "Synced <strong style=\"color:#cdcd00\">driven-sweep-95</strong>: <a href=\"https://wandb.ai/maiquanh/quanh/runs/och1w19a\" target=\"_blank\">https://wandb.ai/maiquanh/quanh/runs/och1w19a</a><br/>Synced 6 W&B file(s), 0 media file(s), 0 artifact file(s) and 0 other file(s)"
      ],
      "text/plain": [
       "<IPython.core.display.HTML object>"
      ]
     },
     "metadata": {},
     "output_type": "display_data"
    },
    {
     "data": {
      "text/html": [
       "Find logs at: <code>./wandb/run-20221019_142935-och1w19a/logs</code>"
      ],
      "text/plain": [
       "<IPython.core.display.HTML object>"
      ]
     },
     "metadata": {},
     "output_type": "display_data"
    },
    {
     "name": "stderr",
     "output_type": "stream",
     "text": [
      "\u001b[34m\u001b[1mwandb\u001b[0m: Sweep Agent: Waiting for job.\n",
      "\u001b[34m\u001b[1mwandb\u001b[0m: Job received.\n",
      "\u001b[34m\u001b[1mwandb\u001b[0m: Agent Starting Run: kks3th8h with config:\n",
      "\u001b[34m\u001b[1mwandb\u001b[0m: \tbatch_size: 128\n",
      "\u001b[34m\u001b[1mwandb\u001b[0m: \td_hidden: 3\n",
      "\u001b[34m\u001b[1mwandb\u001b[0m: \tdata_dir: /home/quanhhh/Documents/model/pickle/\n",
      "\u001b[34m\u001b[1mwandb\u001b[0m: \tdropout: 0.17281862411045815\n",
      "\u001b[34m\u001b[1mwandb\u001b[0m: \tkernel_size_1: 78\n",
      "\u001b[34m\u001b[1mwandb\u001b[0m: \tkernel_size_2: 7\n",
      "\u001b[34m\u001b[1mwandb\u001b[0m: \tlr: 0.0042630666865893325\n",
      "\u001b[34m\u001b[1mwandb\u001b[0m: \tmaxpool_1: 6\n",
      "\u001b[34m\u001b[1mwandb\u001b[0m: \tmaxpool_2: 3\n",
      "\u001b[34m\u001b[1mwandb\u001b[0m: \tnum_epoch: 81\n",
      "\u001b[34m\u001b[1mwandb\u001b[0m: \tnum_filters: 21\n",
      "\u001b[34m\u001b[1mwandb\u001b[0m: \tnum_layers: 2\n",
      "\u001b[34m\u001b[1mwandb\u001b[0m: \tresult_dir: /home/quanhhh/Documents/model/result_wandb/\n",
      "\u001b[34m\u001b[1mwandb\u001b[0m: \tstride_1: 5\n",
      "\u001b[34m\u001b[1mwandb\u001b[0m: \tstride_2: 8\n",
      "\u001b[34m\u001b[1mwandb\u001b[0m: \tweight_decay: 0.00011307313461947446\n"
     ]
    },
    {
     "data": {
      "text/html": [
       "Tracking run with wandb version 0.13.4"
      ],
      "text/plain": [
       "<IPython.core.display.HTML object>"
      ]
     },
     "metadata": {},
     "output_type": "display_data"
    },
    {
     "data": {
      "text/html": [
       "Run data is saved locally in <code>/home/quanhhh/Documents/model/wandb/run-20221019_143212-kks3th8h</code>"
      ],
      "text/plain": [
       "<IPython.core.display.HTML object>"
      ]
     },
     "metadata": {},
     "output_type": "display_data"
    },
    {
     "data": {
      "text/html": [
       "Syncing run <strong><a href=\"https://wandb.ai/maiquanh/quanh/runs/kks3th8h\" target=\"_blank\">giddy-sweep-96</a></strong> to <a href=\"https://wandb.ai/maiquanh/quanh\" target=\"_blank\">Weights & Biases</a> (<a href=\"https://wandb.me/run\" target=\"_blank\">docs</a>)<br/>Sweep page:  <a href=\"https://wandb.ai/maiquanh/quanh/sweeps/8p4zr03y\" target=\"_blank\">https://wandb.ai/maiquanh/quanh/sweeps/8p4zr03y</a>"
      ],
      "text/plain": [
       "<IPython.core.display.HTML object>"
      ]
     },
     "metadata": {},
     "output_type": "display_data"
    },
    {
     "name": "stdout",
     "output_type": "stream",
     "text": [
      "-----START TRAINING CLASSIFICATION-----\n",
      "Epoch: 81\t| Train_loss: 0.005645\t|Train accuracy: 98.377737\t| Test_loss: 0.003424\t|Test accuracy: 86.149228\t|Val accuracy: 86.900002 \n",
      "\n",
      "----COMPLETED TRAINING CLASSIFICATION-----\n",
      "val_acc 86.9000015258789\n",
      "ok\n"
     ]
    },
    {
     "data": {
      "text/html": [
       "Waiting for W&B process to finish... <strong style=\"color:green\">(success).</strong>"
      ],
      "text/plain": [
       "<IPython.core.display.HTML object>"
      ]
     },
     "metadata": {},
     "output_type": "display_data"
    },
    {
     "data": {
      "text/html": [
       "<style>\n",
       "    table.wandb td:nth-child(1) { padding: 0 10px; text-align: left ; width: auto;} td:nth-child(2) {text-align: left ; width: 100%}\n",
       "    .wandb-row { display: flex; flex-direction: row; flex-wrap: wrap; justify-content: flex-start; width: 100% }\n",
       "    .wandb-col { display: flex; flex-direction: column; flex-basis: 100%; flex: 1; padding: 10px; }\n",
       "    </style>\n",
       "<div class=\"wandb-row\"><div class=\"wandb-col\"><h3>Run history:</h3><br/><table class=\"wandb\"><tr><td>test_loss</td><td>█▅▄▄▄▄▃▃▃▆▃▃▄▄▄▄▃▄▃▃▃▅▄▄▅▄▃▂▃▃▃▂▃▃▄▄▂▂▁▂</td></tr><tr><td>train_loss</td><td>█▂▂▁▁▂▁▁▁▁▁▁▁▁▁▁▁▁▁▁▁▁▁▁▁▁▁▁▁▁▁▁▁▁▁▁▁▁▁▁</td></tr><tr><td>val_acc</td><td>▁</td></tr></table><br/></div><div class=\"wandb-col\"><h3>Run summary:</h3><br/><table class=\"wandb\"><tr><td>test_loss</td><td>0.00342</td></tr><tr><td>train_loss</td><td>0.00564</td></tr><tr><td>val_acc</td><td>92.3</td></tr></table><br/></div></div>"
      ],
      "text/plain": [
       "<IPython.core.display.HTML object>"
      ]
     },
     "metadata": {},
     "output_type": "display_data"
    },
    {
     "data": {
      "text/html": [
       "Synced <strong style=\"color:#cdcd00\">giddy-sweep-96</strong>: <a href=\"https://wandb.ai/maiquanh/quanh/runs/kks3th8h\" target=\"_blank\">https://wandb.ai/maiquanh/quanh/runs/kks3th8h</a><br/>Synced 6 W&B file(s), 0 media file(s), 0 artifact file(s) and 0 other file(s)"
      ],
      "text/plain": [
       "<IPython.core.display.HTML object>"
      ]
     },
     "metadata": {},
     "output_type": "display_data"
    },
    {
     "data": {
      "text/html": [
       "Find logs at: <code>./wandb/run-20221019_143212-kks3th8h/logs</code>"
      ],
      "text/plain": [
       "<IPython.core.display.HTML object>"
      ]
     },
     "metadata": {},
     "output_type": "display_data"
    },
    {
     "name": "stderr",
     "output_type": "stream",
     "text": [
      "\u001b[34m\u001b[1mwandb\u001b[0m: Agent Starting Run: myyybjdw with config:\n",
      "\u001b[34m\u001b[1mwandb\u001b[0m: \tbatch_size: 128\n",
      "\u001b[34m\u001b[1mwandb\u001b[0m: \td_hidden: 3\n",
      "\u001b[34m\u001b[1mwandb\u001b[0m: \tdata_dir: /home/quanhhh/Documents/model/pickle/\n",
      "\u001b[34m\u001b[1mwandb\u001b[0m: \tdropout: 0.1829570401181236\n",
      "\u001b[34m\u001b[1mwandb\u001b[0m: \tkernel_size_1: 91\n",
      "\u001b[34m\u001b[1mwandb\u001b[0m: \tkernel_size_2: 6\n",
      "\u001b[34m\u001b[1mwandb\u001b[0m: \tlr: 0.0012869771277574228\n",
      "\u001b[34m\u001b[1mwandb\u001b[0m: \tmaxpool_1: 8\n",
      "\u001b[34m\u001b[1mwandb\u001b[0m: \tmaxpool_2: 4\n",
      "\u001b[34m\u001b[1mwandb\u001b[0m: \tnum_epoch: 80\n",
      "\u001b[34m\u001b[1mwandb\u001b[0m: \tnum_filters: 59\n",
      "\u001b[34m\u001b[1mwandb\u001b[0m: \tnum_layers: 2\n",
      "\u001b[34m\u001b[1mwandb\u001b[0m: \tresult_dir: /home/quanhhh/Documents/model/result_wandb/\n",
      "\u001b[34m\u001b[1mwandb\u001b[0m: \tstride_1: 7\n",
      "\u001b[34m\u001b[1mwandb\u001b[0m: \tstride_2: 9\n",
      "\u001b[34m\u001b[1mwandb\u001b[0m: \tweight_decay: 0.00019781283867259308\n"
     ]
    },
    {
     "data": {
      "text/html": [
       "Tracking run with wandb version 0.13.4"
      ],
      "text/plain": [
       "<IPython.core.display.HTML object>"
      ]
     },
     "metadata": {},
     "output_type": "display_data"
    },
    {
     "data": {
      "text/html": [
       "Run data is saved locally in <code>/home/quanhhh/Documents/model/wandb/run-20221019_143429-myyybjdw</code>"
      ],
      "text/plain": [
       "<IPython.core.display.HTML object>"
      ]
     },
     "metadata": {},
     "output_type": "display_data"
    },
    {
     "data": {
      "text/html": [
       "Syncing run <strong><a href=\"https://wandb.ai/maiquanh/quanh/runs/myyybjdw\" target=\"_blank\">morning-sweep-97</a></strong> to <a href=\"https://wandb.ai/maiquanh/quanh\" target=\"_blank\">Weights & Biases</a> (<a href=\"https://wandb.me/run\" target=\"_blank\">docs</a>)<br/>Sweep page:  <a href=\"https://wandb.ai/maiquanh/quanh/sweeps/8p4zr03y\" target=\"_blank\">https://wandb.ai/maiquanh/quanh/sweeps/8p4zr03y</a>"
      ],
      "text/plain": [
       "<IPython.core.display.HTML object>"
      ]
     },
     "metadata": {},
     "output_type": "display_data"
    },
    {
     "name": "stdout",
     "output_type": "stream",
     "text": [
      "-----START TRAINING CLASSIFICATION-----\n",
      "Epoch: 80\t| Train_loss: 0.005632\t|Train accuracy: 98.404115\t| Test_loss: 0.003205\t|Test accuracy: 93.224700\t|Val accuracy: 67.800003 \n",
      "\n",
      "----COMPLETED TRAINING CLASSIFICATION-----\n",
      "val_acc 67.80000305175781\n",
      "ok\n"
     ]
    },
    {
     "data": {
      "text/html": [
       "Waiting for W&B process to finish... <strong style=\"color:green\">(success).</strong>"
      ],
      "text/plain": [
       "<IPython.core.display.HTML object>"
      ]
     },
     "metadata": {},
     "output_type": "display_data"
    },
    {
     "data": {
      "text/html": [
       "<style>\n",
       "    table.wandb td:nth-child(1) { padding: 0 10px; text-align: left ; width: auto;} td:nth-child(2) {text-align: left ; width: 100%}\n",
       "    .wandb-row { display: flex; flex-direction: row; flex-wrap: wrap; justify-content: flex-start; width: 100% }\n",
       "    .wandb-col { display: flex; flex-direction: column; flex-basis: 100%; flex: 1; padding: 10px; }\n",
       "    </style>\n",
       "<div class=\"wandb-row\"><div class=\"wandb-col\"><h3>Run history:</h3><br/><table class=\"wandb\"><tr><td>test_loss</td><td>█▇▄▄▃▄▄▃▂▃▃▃▃▂▃▂▂▂▁▃▁▁▁▂▂▃▃▁▁▂▃▁▄▃▃▂▁▁▁▁</td></tr><tr><td>train_loss</td><td>█▄▂▂▂▂▂▂▁▁▁▁▁▁▁▁▁▁▁▁▁▁▁▁▁▁▁▁▁▁▁▁▁▁▁▁▁▁▁▁</td></tr><tr><td>val_acc</td><td>▁</td></tr></table><br/></div><div class=\"wandb-col\"><h3>Run summary:</h3><br/><table class=\"wandb\"><tr><td>test_loss</td><td>0.00321</td></tr><tr><td>train_loss</td><td>0.00563</td></tr><tr><td>val_acc</td><td>82.23333</td></tr></table><br/></div></div>"
      ],
      "text/plain": [
       "<IPython.core.display.HTML object>"
      ]
     },
     "metadata": {},
     "output_type": "display_data"
    },
    {
     "data": {
      "text/html": [
       "Synced <strong style=\"color:#cdcd00\">morning-sweep-97</strong>: <a href=\"https://wandb.ai/maiquanh/quanh/runs/myyybjdw\" target=\"_blank\">https://wandb.ai/maiquanh/quanh/runs/myyybjdw</a><br/>Synced 6 W&B file(s), 0 media file(s), 0 artifact file(s) and 0 other file(s)"
      ],
      "text/plain": [
       "<IPython.core.display.HTML object>"
      ]
     },
     "metadata": {},
     "output_type": "display_data"
    },
    {
     "data": {
      "text/html": [
       "Find logs at: <code>./wandb/run-20221019_143429-myyybjdw/logs</code>"
      ],
      "text/plain": [
       "<IPython.core.display.HTML object>"
      ]
     },
     "metadata": {},
     "output_type": "display_data"
    },
    {
     "name": "stderr",
     "output_type": "stream",
     "text": [
      "\u001b[34m\u001b[1mwandb\u001b[0m: Agent Starting Run: 3wcq7vkw with config:\n",
      "\u001b[34m\u001b[1mwandb\u001b[0m: \tbatch_size: 128\n",
      "\u001b[34m\u001b[1mwandb\u001b[0m: \td_hidden: 3\n",
      "\u001b[34m\u001b[1mwandb\u001b[0m: \tdata_dir: /home/quanhhh/Documents/model/pickle/\n",
      "\u001b[34m\u001b[1mwandb\u001b[0m: \tdropout: 0.13117350413905113\n",
      "\u001b[34m\u001b[1mwandb\u001b[0m: \tkernel_size_1: 87\n",
      "\u001b[34m\u001b[1mwandb\u001b[0m: \tkernel_size_2: 11\n",
      "\u001b[34m\u001b[1mwandb\u001b[0m: \tlr: 0.00029645153787939596\n",
      "\u001b[34m\u001b[1mwandb\u001b[0m: \tmaxpool_1: 7\n",
      "\u001b[34m\u001b[1mwandb\u001b[0m: \tmaxpool_2: 4\n",
      "\u001b[34m\u001b[1mwandb\u001b[0m: \tnum_epoch: 99\n",
      "\u001b[34m\u001b[1mwandb\u001b[0m: \tnum_filters: 42\n",
      "\u001b[34m\u001b[1mwandb\u001b[0m: \tnum_layers: 2\n",
      "\u001b[34m\u001b[1mwandb\u001b[0m: \tresult_dir: /home/quanhhh/Documents/model/result_wandb/\n",
      "\u001b[34m\u001b[1mwandb\u001b[0m: \tstride_1: 3\n",
      "\u001b[34m\u001b[1mwandb\u001b[0m: \tstride_2: 4\n",
      "\u001b[34m\u001b[1mwandb\u001b[0m: \tweight_decay: 0.00017466690262011274\n"
     ]
    },
    {
     "data": {
      "text/html": [
       "Tracking run with wandb version 0.13.4"
      ],
      "text/plain": [
       "<IPython.core.display.HTML object>"
      ]
     },
     "metadata": {},
     "output_type": "display_data"
    },
    {
     "data": {
      "text/html": [
       "Run data is saved locally in <code>/home/quanhhh/Documents/model/wandb/run-20221019_143738-3wcq7vkw</code>"
      ],
      "text/plain": [
       "<IPython.core.display.HTML object>"
      ]
     },
     "metadata": {},
     "output_type": "display_data"
    },
    {
     "data": {
      "text/html": [
       "Syncing run <strong><a href=\"https://wandb.ai/maiquanh/quanh/runs/3wcq7vkw\" target=\"_blank\">stellar-sweep-98</a></strong> to <a href=\"https://wandb.ai/maiquanh/quanh\" target=\"_blank\">Weights & Biases</a> (<a href=\"https://wandb.me/run\" target=\"_blank\">docs</a>)<br/>Sweep page:  <a href=\"https://wandb.ai/maiquanh/quanh/sweeps/8p4zr03y\" target=\"_blank\">https://wandb.ai/maiquanh/quanh/sweeps/8p4zr03y</a>"
      ],
      "text/plain": [
       "<IPython.core.display.HTML object>"
      ]
     },
     "metadata": {},
     "output_type": "display_data"
    },
    {
     "name": "stdout",
     "output_type": "stream",
     "text": [
      "-----START TRAINING CLASSIFICATION-----\n",
      "Epoch: 99\t| Train_loss: 0.005881\t|Train accuracy: 97.942495\t| Test_loss: 0.003501\t|Test accuracy: 86.878216\t|Val accuracy: 91.033333 \n",
      "\n",
      "----COMPLETED TRAINING CLASSIFICATION-----\n",
      "val_acc 91.03333282470703\n",
      "ok\n"
     ]
    },
    {
     "data": {
      "text/html": [
       "Waiting for W&B process to finish... <strong style=\"color:green\">(success).</strong>"
      ],
      "text/plain": [
       "<IPython.core.display.HTML object>"
      ]
     },
     "metadata": {},
     "output_type": "display_data"
    },
    {
     "data": {
      "text/html": [
       "<style>\n",
       "    table.wandb td:nth-child(1) { padding: 0 10px; text-align: left ; width: auto;} td:nth-child(2) {text-align: left ; width: 100%}\n",
       "    .wandb-row { display: flex; flex-direction: row; flex-wrap: wrap; justify-content: flex-start; width: 100% }\n",
       "    .wandb-col { display: flex; flex-direction: column; flex-basis: 100%; flex: 1; padding: 10px; }\n",
       "    </style>\n",
       "<div class=\"wandb-row\"><div class=\"wandb-col\"><h3>Run history:</h3><br/><table class=\"wandb\"><tr><td>test_loss</td><td>█▇▆▆▄▃▄▄▃▄▃▃▃▂▂▂▃▃▂▂▂▂▂▂▂▂▂▁▁▁▂▂▂▂▂▁▁▁▁▂</td></tr><tr><td>train_loss</td><td>█▇▆▅▄▄▃▃▃▃▂▂▂▂▂▂▂▂▂▂▂▂▂▂▁▁▁▁▁▁▁▁▁▁▁▁▁▁▁▁</td></tr><tr><td>val_acc</td><td>▁</td></tr></table><br/></div><div class=\"wandb-col\"><h3>Run summary:</h3><br/><table class=\"wandb\"><tr><td>test_loss</td><td>0.0035</td></tr><tr><td>train_loss</td><td>0.00588</td></tr><tr><td>val_acc</td><td>94.56667</td></tr></table><br/></div></div>"
      ],
      "text/plain": [
       "<IPython.core.display.HTML object>"
      ]
     },
     "metadata": {},
     "output_type": "display_data"
    },
    {
     "data": {
      "text/html": [
       "Synced <strong style=\"color:#cdcd00\">stellar-sweep-98</strong>: <a href=\"https://wandb.ai/maiquanh/quanh/runs/3wcq7vkw\" target=\"_blank\">https://wandb.ai/maiquanh/quanh/runs/3wcq7vkw</a><br/>Synced 6 W&B file(s), 0 media file(s), 0 artifact file(s) and 0 other file(s)"
      ],
      "text/plain": [
       "<IPython.core.display.HTML object>"
      ]
     },
     "metadata": {},
     "output_type": "display_data"
    },
    {
     "data": {
      "text/html": [
       "Find logs at: <code>./wandb/run-20221019_143738-3wcq7vkw/logs</code>"
      ],
      "text/plain": [
       "<IPython.core.display.HTML object>"
      ]
     },
     "metadata": {},
     "output_type": "display_data"
    },
    {
     "name": "stderr",
     "output_type": "stream",
     "text": [
      "\u001b[34m\u001b[1mwandb\u001b[0m: Agent Starting Run: u8e3f7qw with config:\n",
      "\u001b[34m\u001b[1mwandb\u001b[0m: \tbatch_size: 128\n",
      "\u001b[34m\u001b[1mwandb\u001b[0m: \td_hidden: 3\n",
      "\u001b[34m\u001b[1mwandb\u001b[0m: \tdata_dir: /home/quanhhh/Documents/model/pickle/\n",
      "\u001b[34m\u001b[1mwandb\u001b[0m: \tdropout: 0.13879135443475657\n",
      "\u001b[34m\u001b[1mwandb\u001b[0m: \tkernel_size_1: 63\n",
      "\u001b[34m\u001b[1mwandb\u001b[0m: \tkernel_size_2: 5\n",
      "\u001b[34m\u001b[1mwandb\u001b[0m: \tlr: 0.00013852141400288697\n",
      "\u001b[34m\u001b[1mwandb\u001b[0m: \tmaxpool_1: 5\n",
      "\u001b[34m\u001b[1mwandb\u001b[0m: \tmaxpool_2: 7\n",
      "\u001b[34m\u001b[1mwandb\u001b[0m: \tnum_epoch: 81\n",
      "\u001b[34m\u001b[1mwandb\u001b[0m: \tnum_filters: 49\n",
      "\u001b[34m\u001b[1mwandb\u001b[0m: \tnum_layers: 4\n",
      "\u001b[34m\u001b[1mwandb\u001b[0m: \tresult_dir: /home/quanhhh/Documents/model/result_wandb/\n",
      "\u001b[34m\u001b[1mwandb\u001b[0m: \tstride_1: 6\n",
      "\u001b[34m\u001b[1mwandb\u001b[0m: \tstride_2: 9\n",
      "\u001b[34m\u001b[1mwandb\u001b[0m: \tweight_decay: 0.0001166194047525553\n"
     ]
    },
    {
     "data": {
      "text/html": [
       "Tracking run with wandb version 0.13.4"
      ],
      "text/plain": [
       "<IPython.core.display.HTML object>"
      ]
     },
     "metadata": {},
     "output_type": "display_data"
    },
    {
     "data": {
      "text/html": [
       "Run data is saved locally in <code>/home/quanhhh/Documents/model/wandb/run-20221019_144355-u8e3f7qw</code>"
      ],
      "text/plain": [
       "<IPython.core.display.HTML object>"
      ]
     },
     "metadata": {},
     "output_type": "display_data"
    },
    {
     "data": {
      "text/html": [
       "Syncing run <strong><a href=\"https://wandb.ai/maiquanh/quanh/runs/u8e3f7qw\" target=\"_blank\">silver-sweep-99</a></strong> to <a href=\"https://wandb.ai/maiquanh/quanh\" target=\"_blank\">Weights & Biases</a> (<a href=\"https://wandb.me/run\" target=\"_blank\">docs</a>)<br/>Sweep page:  <a href=\"https://wandb.ai/maiquanh/quanh/sweeps/8p4zr03y\" target=\"_blank\">https://wandb.ai/maiquanh/quanh/sweeps/8p4zr03y</a>"
      ],
      "text/plain": [
       "<IPython.core.display.HTML object>"
      ]
     },
     "metadata": {},
     "output_type": "display_data"
    },
    {
     "name": "stdout",
     "output_type": "stream",
     "text": [
      "-----START TRAINING CLASSIFICATION-----\n",
      "Epoch: 81\t| Train_loss: 0.006053\t|Train accuracy: 97.256661\t| Test_loss: 0.003458\t|Test accuracy: 91.295026\t|Val accuracy: 75.233330 \n",
      "\n",
      "----COMPLETED TRAINING CLASSIFICATION-----\n",
      "val_acc 75.23332977294922\n",
      "ok\n"
     ]
    },
    {
     "data": {
      "text/html": [
       "Waiting for W&B process to finish... <strong style=\"color:green\">(success).</strong>"
      ],
      "text/plain": [
       "<IPython.core.display.HTML object>"
      ]
     },
     "metadata": {},
     "output_type": "display_data"
    },
    {
     "data": {
      "text/html": [
       "<style>\n",
       "    table.wandb td:nth-child(1) { padding: 0 10px; text-align: left ; width: auto;} td:nth-child(2) {text-align: left ; width: 100%}\n",
       "    .wandb-row { display: flex; flex-direction: row; flex-wrap: wrap; justify-content: flex-start; width: 100% }\n",
       "    .wandb-col { display: flex; flex-direction: column; flex-basis: 100%; flex: 1; padding: 10px; }\n",
       "    </style>\n",
       "<div class=\"wandb-row\"><div class=\"wandb-col\"><h3>Run history:</h3><br/><table class=\"wandb\"><tr><td>test_loss</td><td>████▇▆▆▆▅▅▆▅▅▆▅▄▅▅▄▄▃▃▂▂▂▂▂▃▂▂▂▁▁▁▂▁▁▂▁▁</td></tr><tr><td>train_loss</td><td>████▇▇▆▆▅▅▅▅▅▅▄▄▄▃▃▃▃▂▂▂▂▂▂▂▂▂▂▁▁▁▁▁▁▁▁▁</td></tr><tr><td>val_acc</td><td>▁</td></tr></table><br/></div><div class=\"wandb-col\"><h3>Run summary:</h3><br/><table class=\"wandb\"><tr><td>test_loss</td><td>0.00346</td></tr><tr><td>train_loss</td><td>0.00605</td></tr><tr><td>val_acc</td><td>94.63333</td></tr></table><br/></div></div>"
      ],
      "text/plain": [
       "<IPython.core.display.HTML object>"
      ]
     },
     "metadata": {},
     "output_type": "display_data"
    },
    {
     "data": {
      "text/html": [
       "Synced <strong style=\"color:#cdcd00\">silver-sweep-99</strong>: <a href=\"https://wandb.ai/maiquanh/quanh/runs/u8e3f7qw\" target=\"_blank\">https://wandb.ai/maiquanh/quanh/runs/u8e3f7qw</a><br/>Synced 6 W&B file(s), 0 media file(s), 0 artifact file(s) and 0 other file(s)"
      ],
      "text/plain": [
       "<IPython.core.display.HTML object>"
      ]
     },
     "metadata": {},
     "output_type": "display_data"
    },
    {
     "data": {
      "text/html": [
       "Find logs at: <code>./wandb/run-20221019_144355-u8e3f7qw/logs</code>"
      ],
      "text/plain": [
       "<IPython.core.display.HTML object>"
      ]
     },
     "metadata": {},
     "output_type": "display_data"
    },
    {
     "name": "stderr",
     "output_type": "stream",
     "text": [
      "\u001b[34m\u001b[1mwandb\u001b[0m: Agent Starting Run: kzfei5j7 with config:\n",
      "\u001b[34m\u001b[1mwandb\u001b[0m: \tbatch_size: 128\n",
      "\u001b[34m\u001b[1mwandb\u001b[0m: \td_hidden: 3\n",
      "\u001b[34m\u001b[1mwandb\u001b[0m: \tdata_dir: /home/quanhhh/Documents/model/pickle/\n",
      "\u001b[34m\u001b[1mwandb\u001b[0m: \tdropout: 0.11973019309184375\n",
      "\u001b[34m\u001b[1mwandb\u001b[0m: \tkernel_size_1: 66\n",
      "\u001b[34m\u001b[1mwandb\u001b[0m: \tkernel_size_2: 10\n",
      "\u001b[34m\u001b[1mwandb\u001b[0m: \tlr: 0.002611611796919272\n",
      "\u001b[34m\u001b[1mwandb\u001b[0m: \tmaxpool_1: 7\n",
      "\u001b[34m\u001b[1mwandb\u001b[0m: \tmaxpool_2: 3\n",
      "\u001b[34m\u001b[1mwandb\u001b[0m: \tnum_epoch: 84\n",
      "\u001b[34m\u001b[1mwandb\u001b[0m: \tnum_filters: 24\n",
      "\u001b[34m\u001b[1mwandb\u001b[0m: \tnum_layers: 3\n",
      "\u001b[34m\u001b[1mwandb\u001b[0m: \tresult_dir: /home/quanhhh/Documents/model/result_wandb/\n",
      "\u001b[34m\u001b[1mwandb\u001b[0m: \tstride_1: 9\n",
      "\u001b[34m\u001b[1mwandb\u001b[0m: \tstride_2: 4\n",
      "\u001b[34m\u001b[1mwandb\u001b[0m: \tweight_decay: 0.00017814956429957674\n"
     ]
    },
    {
     "data": {
      "text/html": [
       "Tracking run with wandb version 0.13.4"
      ],
      "text/plain": [
       "<IPython.core.display.HTML object>"
      ]
     },
     "metadata": {},
     "output_type": "display_data"
    },
    {
     "data": {
      "text/html": [
       "Run data is saved locally in <code>/home/quanhhh/Documents/model/wandb/run-20221019_144659-kzfei5j7</code>"
      ],
      "text/plain": [
       "<IPython.core.display.HTML object>"
      ]
     },
     "metadata": {},
     "output_type": "display_data"
    },
    {
     "data": {
      "text/html": [
       "Syncing run <strong><a href=\"https://wandb.ai/maiquanh/quanh/runs/kzfei5j7\" target=\"_blank\">hardy-sweep-100</a></strong> to <a href=\"https://wandb.ai/maiquanh/quanh\" target=\"_blank\">Weights & Biases</a> (<a href=\"https://wandb.me/run\" target=\"_blank\">docs</a>)<br/>Sweep page:  <a href=\"https://wandb.ai/maiquanh/quanh/sweeps/8p4zr03y\" target=\"_blank\">https://wandb.ai/maiquanh/quanh/sweeps/8p4zr03y</a>"
      ],
      "text/plain": [
       "<IPython.core.display.HTML object>"
      ]
     },
     "metadata": {},
     "output_type": "display_data"
    },
    {
     "name": "stdout",
     "output_type": "stream",
     "text": [
      "-----START TRAINING CLASSIFICATION-----\n",
      "Epoch: 84\t| Train_loss: 0.005718\t|Train accuracy: 97.098391\t| Test_loss: 0.003694\t|Test accuracy: 76.972556\t|Val accuracy: 82.299995 \n",
      "\n",
      "----COMPLETED TRAINING CLASSIFICATION-----\n",
      "val_acc 82.29999542236328\n",
      "ok\n"
     ]
    },
    {
     "data": {
      "text/html": [
       "Waiting for W&B process to finish... <strong style=\"color:green\">(success).</strong>"
      ],
      "text/plain": [
       "<IPython.core.display.HTML object>"
      ]
     },
     "metadata": {},
     "output_type": "display_data"
    },
    {
     "data": {
      "text/html": [
       "<style>\n",
       "    table.wandb td:nth-child(1) { padding: 0 10px; text-align: left ; width: auto;} td:nth-child(2) {text-align: left ; width: 100%}\n",
       "    .wandb-row { display: flex; flex-direction: row; flex-wrap: wrap; justify-content: flex-start; width: 100% }\n",
       "    .wandb-col { display: flex; flex-direction: column; flex-basis: 100%; flex: 1; padding: 10px; }\n",
       "    </style>\n",
       "<div class=\"wandb-row\"><div class=\"wandb-col\"><h3>Run history:</h3><br/><table class=\"wandb\"><tr><td>test_loss</td><td>█▄▄▃▃▂▂▅▃▄▁▄▃▂▄▆▃▁▃▄▃▁▃▂▃▅▂▃▃▃▁▂▄▂▃▂▄▃▃▄</td></tr><tr><td>train_loss</td><td>█▃▂▁▁▁▁▁▁▁▁▁▁▁▁▁▁▁▁▁▁▁▁▁▁▁▁▁▁▁▁▁▁▁▁▁▁▁▁▁</td></tr><tr><td>val_acc</td><td>▁</td></tr></table><br/></div><div class=\"wandb-col\"><h3>Run summary:</h3><br/><table class=\"wandb\"><tr><td>test_loss</td><td>0.00369</td></tr><tr><td>train_loss</td><td>0.00572</td></tr><tr><td>val_acc</td><td>87.73333</td></tr></table><br/></div></div>"
      ],
      "text/plain": [
       "<IPython.core.display.HTML object>"
      ]
     },
     "metadata": {},
     "output_type": "display_data"
    },
    {
     "data": {
      "text/html": [
       "Synced <strong style=\"color:#cdcd00\">hardy-sweep-100</strong>: <a href=\"https://wandb.ai/maiquanh/quanh/runs/kzfei5j7\" target=\"_blank\">https://wandb.ai/maiquanh/quanh/runs/kzfei5j7</a><br/>Synced 6 W&B file(s), 0 media file(s), 0 artifact file(s) and 0 other file(s)"
      ],
      "text/plain": [
       "<IPython.core.display.HTML object>"
      ]
     },
     "metadata": {},
     "output_type": "display_data"
    },
    {
     "data": {
      "text/html": [
       "Find logs at: <code>./wandb/run-20221019_144659-kzfei5j7/logs</code>"
      ],
      "text/plain": [
       "<IPython.core.display.HTML object>"
      ]
     },
     "metadata": {},
     "output_type": "display_data"
    },
    {
     "name": "stderr",
     "output_type": "stream",
     "text": [
      "\u001b[34m\u001b[1mwandb\u001b[0m: Sweep Agent: Waiting for job.\n",
      "\u001b[34m\u001b[1mwandb\u001b[0m: Job received.\n",
      "\u001b[34m\u001b[1mwandb\u001b[0m: Agent Starting Run: jszl0m2v with config:\n",
      "\u001b[34m\u001b[1mwandb\u001b[0m: \tbatch_size: 128\n",
      "\u001b[34m\u001b[1mwandb\u001b[0m: \td_hidden: 3\n",
      "\u001b[34m\u001b[1mwandb\u001b[0m: \tdata_dir: /home/quanhhh/Documents/model/pickle/\n",
      "\u001b[34m\u001b[1mwandb\u001b[0m: \tdropout: 0.14520198884547786\n",
      "\u001b[34m\u001b[1mwandb\u001b[0m: \tkernel_size_1: 78\n",
      "\u001b[34m\u001b[1mwandb\u001b[0m: \tkernel_size_2: 8\n",
      "\u001b[34m\u001b[1mwandb\u001b[0m: \tlr: 0.0008820329741041123\n",
      "\u001b[34m\u001b[1mwandb\u001b[0m: \tmaxpool_1: 8\n",
      "\u001b[34m\u001b[1mwandb\u001b[0m: \tmaxpool_2: 8\n",
      "\u001b[34m\u001b[1mwandb\u001b[0m: \tnum_epoch: 83\n",
      "\u001b[34m\u001b[1mwandb\u001b[0m: \tnum_filters: 53\n",
      "\u001b[34m\u001b[1mwandb\u001b[0m: \tnum_layers: 4\n",
      "\u001b[34m\u001b[1mwandb\u001b[0m: \tresult_dir: /home/quanhhh/Documents/model/result_wandb/\n",
      "\u001b[34m\u001b[1mwandb\u001b[0m: \tstride_1: 8\n",
      "\u001b[34m\u001b[1mwandb\u001b[0m: \tstride_2: 7\n",
      "\u001b[34m\u001b[1mwandb\u001b[0m: \tweight_decay: 0.00011986881527923488\n"
     ]
    },
    {
     "data": {
      "text/html": [
       "Tracking run with wandb version 0.13.4"
      ],
      "text/plain": [
       "<IPython.core.display.HTML object>"
      ]
     },
     "metadata": {},
     "output_type": "display_data"
    },
    {
     "data": {
      "text/html": [
       "Run data is saved locally in <code>/home/quanhhh/Documents/model/wandb/run-20221019_144928-jszl0m2v</code>"
      ],
      "text/plain": [
       "<IPython.core.display.HTML object>"
      ]
     },
     "metadata": {},
     "output_type": "display_data"
    },
    {
     "data": {
      "text/html": [
       "Syncing run <strong><a href=\"https://wandb.ai/maiquanh/quanh/runs/jszl0m2v\" target=\"_blank\">vague-sweep-101</a></strong> to <a href=\"https://wandb.ai/maiquanh/quanh\" target=\"_blank\">Weights & Biases</a> (<a href=\"https://wandb.me/run\" target=\"_blank\">docs</a>)<br/>Sweep page:  <a href=\"https://wandb.ai/maiquanh/quanh/sweeps/8p4zr03y\" target=\"_blank\">https://wandb.ai/maiquanh/quanh/sweeps/8p4zr03y</a>"
      ],
      "text/plain": [
       "<IPython.core.display.HTML object>"
      ]
     },
     "metadata": {},
     "output_type": "display_data"
    },
    {
     "name": "stdout",
     "output_type": "stream",
     "text": [
      "-----START TRAINING CLASSIFICATION-----\n",
      "Epoch: 83\t| Train_loss: 0.005863\t|Train accuracy: 97.283039\t| Test_loss: 0.003677\t|Test accuracy: 80.789022\t|Val accuracy: 87.666664 \n",
      "\n",
      "----COMPLETED TRAINING CLASSIFICATION-----\n",
      "val_acc 87.66666412353516\n",
      "ok\n"
     ]
    },
    {
     "data": {
      "text/html": [
       "Waiting for W&B process to finish... <strong style=\"color:green\">(success).</strong>"
      ],
      "text/plain": [
       "<IPython.core.display.HTML object>"
      ]
     },
     "metadata": {},
     "output_type": "display_data"
    },
    {
     "data": {
      "text/html": [
       "<style>\n",
       "    table.wandb td:nth-child(1) { padding: 0 10px; text-align: left ; width: auto;} td:nth-child(2) {text-align: left ; width: 100%}\n",
       "    .wandb-row { display: flex; flex-direction: row; flex-wrap: wrap; justify-content: flex-start; width: 100% }\n",
       "    .wandb-col { display: flex; flex-direction: column; flex-basis: 100%; flex: 1; padding: 10px; }\n",
       "    </style>\n",
       "<div class=\"wandb-row\"><div class=\"wandb-col\"><h3>Run history:</h3><br/><table class=\"wandb\"><tr><td>test_loss</td><td>██▇▆▆▅▅▄▃▃▃▃▃▄▂▁▁▁▁▃▁▁▁▃▂▃▂▂▁▁▁▁▁▁▂▃▄▃▂▃</td></tr><tr><td>train_loss</td><td>██▇▅▄▄▄▂▂▂▂▂▂▁▁▁▁▁▁▁▁▁▁▁▁▁▁▁▁▁▁▁▁▁▁▁▁▁▁▁</td></tr><tr><td>val_acc</td><td>▁</td></tr></table><br/></div><div class=\"wandb-col\"><h3>Run summary:</h3><br/><table class=\"wandb\"><tr><td>test_loss</td><td>0.00368</td></tr><tr><td>train_loss</td><td>0.00586</td></tr><tr><td>val_acc</td><td>91.93333</td></tr></table><br/></div></div>"
      ],
      "text/plain": [
       "<IPython.core.display.HTML object>"
      ]
     },
     "metadata": {},
     "output_type": "display_data"
    },
    {
     "data": {
      "text/html": [
       "Synced <strong style=\"color:#cdcd00\">vague-sweep-101</strong>: <a href=\"https://wandb.ai/maiquanh/quanh/runs/jszl0m2v\" target=\"_blank\">https://wandb.ai/maiquanh/quanh/runs/jszl0m2v</a><br/>Synced 6 W&B file(s), 0 media file(s), 0 artifact file(s) and 0 other file(s)"
      ],
      "text/plain": [
       "<IPython.core.display.HTML object>"
      ]
     },
     "metadata": {},
     "output_type": "display_data"
    },
    {
     "data": {
      "text/html": [
       "Find logs at: <code>./wandb/run-20221019_144928-jszl0m2v/logs</code>"
      ],
      "text/plain": [
       "<IPython.core.display.HTML object>"
      ]
     },
     "metadata": {},
     "output_type": "display_data"
    },
    {
     "name": "stderr",
     "output_type": "stream",
     "text": [
      "\u001b[34m\u001b[1mwandb\u001b[0m: Sweep Agent: Waiting for job.\n",
      "\u001b[34m\u001b[1mwandb\u001b[0m: Job received.\n",
      "\u001b[34m\u001b[1mwandb\u001b[0m: Agent Starting Run: czlzx8y5 with config:\n",
      "\u001b[34m\u001b[1mwandb\u001b[0m: \tbatch_size: 128\n",
      "\u001b[34m\u001b[1mwandb\u001b[0m: \td_hidden: 3\n",
      "\u001b[34m\u001b[1mwandb\u001b[0m: \tdata_dir: /home/quanhhh/Documents/model/pickle/\n",
      "\u001b[34m\u001b[1mwandb\u001b[0m: \tdropout: 0.12423156195050188\n",
      "\u001b[34m\u001b[1mwandb\u001b[0m: \tkernel_size_1: 96\n",
      "\u001b[34m\u001b[1mwandb\u001b[0m: \tkernel_size_2: 7\n",
      "\u001b[34m\u001b[1mwandb\u001b[0m: \tlr: 0.0014302399870205788\n",
      "\u001b[34m\u001b[1mwandb\u001b[0m: \tmaxpool_1: 4\n",
      "\u001b[34m\u001b[1mwandb\u001b[0m: \tmaxpool_2: 3\n",
      "\u001b[34m\u001b[1mwandb\u001b[0m: \tnum_epoch: 89\n",
      "\u001b[34m\u001b[1mwandb\u001b[0m: \tnum_filters: 33\n",
      "\u001b[34m\u001b[1mwandb\u001b[0m: \tnum_layers: 3\n",
      "\u001b[34m\u001b[1mwandb\u001b[0m: \tresult_dir: /home/quanhhh/Documents/model/result_wandb/\n",
      "\u001b[34m\u001b[1mwandb\u001b[0m: \tstride_1: 9\n",
      "\u001b[34m\u001b[1mwandb\u001b[0m: \tstride_2: 6\n",
      "\u001b[34m\u001b[1mwandb\u001b[0m: \tweight_decay: 0.00012281508463200222\n"
     ]
    },
    {
     "data": {
      "text/html": [
       "Tracking run with wandb version 0.13.4"
      ],
      "text/plain": [
       "<IPython.core.display.HTML object>"
      ]
     },
     "metadata": {},
     "output_type": "display_data"
    },
    {
     "data": {
      "text/html": [
       "Run data is saved locally in <code>/home/quanhhh/Documents/model/wandb/run-20221019_145233-czlzx8y5</code>"
      ],
      "text/plain": [
       "<IPython.core.display.HTML object>"
      ]
     },
     "metadata": {},
     "output_type": "display_data"
    },
    {
     "data": {
      "text/html": [
       "Syncing run <strong><a href=\"https://wandb.ai/maiquanh/quanh/runs/czlzx8y5\" target=\"_blank\">cerulean-sweep-102</a></strong> to <a href=\"https://wandb.ai/maiquanh/quanh\" target=\"_blank\">Weights & Biases</a> (<a href=\"https://wandb.me/run\" target=\"_blank\">docs</a>)<br/>Sweep page:  <a href=\"https://wandb.ai/maiquanh/quanh/sweeps/8p4zr03y\" target=\"_blank\">https://wandb.ai/maiquanh/quanh/sweeps/8p4zr03y</a>"
      ],
      "text/plain": [
       "<IPython.core.display.HTML object>"
      ]
     },
     "metadata": {},
     "output_type": "display_data"
    },
    {
     "name": "stdout",
     "output_type": "stream",
     "text": [
      "-----START TRAINING CLASSIFICATION-----\n",
      "Epoch: 89\t| Train_loss: 0.005656\t|Train accuracy: 98.470061\t| Test_loss: 0.003264\t|Test accuracy: 95.025729\t|Val accuracy: 83.266663 \n",
      "\n",
      "----COMPLETED TRAINING CLASSIFICATION-----\n",
      "val_acc 83.26666259765625\n",
      "ok\n"
     ]
    },
    {
     "data": {
      "text/html": [
       "Waiting for W&B process to finish... <strong style=\"color:green\">(success).</strong>"
      ],
      "text/plain": [
       "<IPython.core.display.HTML object>"
      ]
     },
     "metadata": {},
     "output_type": "display_data"
    },
    {
     "data": {
      "text/html": [
       "<style>\n",
       "    table.wandb td:nth-child(1) { padding: 0 10px; text-align: left ; width: auto;} td:nth-child(2) {text-align: left ; width: 100%}\n",
       "    .wandb-row { display: flex; flex-direction: row; flex-wrap: wrap; justify-content: flex-start; width: 100% }\n",
       "    .wandb-col { display: flex; flex-direction: column; flex-basis: 100%; flex: 1; padding: 10px; }\n",
       "    </style>\n",
       "<div class=\"wandb-row\"><div class=\"wandb-col\"><h3>Run history:</h3><br/><table class=\"wandb\"><tr><td>test_loss</td><td>█▄▄▃▂▃▃▄▂▂▂▂▃▃▂▂▁▁▂▁▁▃▂▂▁▁▂▁▂▁▂▂▂▂▁▂▁▂▂▁</td></tr><tr><td>train_loss</td><td>█▄▃▂▂▂▂▂▁▂▁▁▂▁▁▁▁▁▁▁▁▁▁▁▁▁▁▁▁▁▁▁▁▁▁▁▁▁▂▁</td></tr><tr><td>val_acc</td><td>▁</td></tr></table><br/></div><div class=\"wandb-col\"><h3>Run summary:</h3><br/><table class=\"wandb\"><tr><td>test_loss</td><td>0.00326</td></tr><tr><td>train_loss</td><td>0.00566</td></tr><tr><td>val_acc</td><td>88.26666</td></tr></table><br/></div></div>"
      ],
      "text/plain": [
       "<IPython.core.display.HTML object>"
      ]
     },
     "metadata": {},
     "output_type": "display_data"
    },
    {
     "data": {
      "text/html": [
       "Synced <strong style=\"color:#cdcd00\">cerulean-sweep-102</strong>: <a href=\"https://wandb.ai/maiquanh/quanh/runs/czlzx8y5\" target=\"_blank\">https://wandb.ai/maiquanh/quanh/runs/czlzx8y5</a><br/>Synced 6 W&B file(s), 0 media file(s), 0 artifact file(s) and 0 other file(s)"
      ],
      "text/plain": [
       "<IPython.core.display.HTML object>"
      ]
     },
     "metadata": {},
     "output_type": "display_data"
    },
    {
     "data": {
      "text/html": [
       "Find logs at: <code>./wandb/run-20221019_145233-czlzx8y5/logs</code>"
      ],
      "text/plain": [
       "<IPython.core.display.HTML object>"
      ]
     },
     "metadata": {},
     "output_type": "display_data"
    },
    {
     "name": "stderr",
     "output_type": "stream",
     "text": [
      "\u001b[34m\u001b[1mwandb\u001b[0m: Sweep Agent: Waiting for job.\n",
      "\u001b[34m\u001b[1mwandb\u001b[0m: Job received.\n",
      "\u001b[34m\u001b[1mwandb\u001b[0m: Agent Starting Run: 8u2y9n7t with config:\n",
      "\u001b[34m\u001b[1mwandb\u001b[0m: \tbatch_size: 128\n",
      "\u001b[34m\u001b[1mwandb\u001b[0m: \td_hidden: 3\n",
      "\u001b[34m\u001b[1mwandb\u001b[0m: \tdata_dir: /home/quanhhh/Documents/model/pickle/\n",
      "\u001b[34m\u001b[1mwandb\u001b[0m: \tdropout: 0.11371927392521204\n",
      "\u001b[34m\u001b[1mwandb\u001b[0m: \tkernel_size_1: 91\n",
      "\u001b[34m\u001b[1mwandb\u001b[0m: \tkernel_size_2: 9\n",
      "\u001b[34m\u001b[1mwandb\u001b[0m: \tlr: 0.00014034271415917232\n",
      "\u001b[34m\u001b[1mwandb\u001b[0m: \tmaxpool_1: 3\n",
      "\u001b[34m\u001b[1mwandb\u001b[0m: \tmaxpool_2: 5\n",
      "\u001b[34m\u001b[1mwandb\u001b[0m: \tnum_epoch: 80\n",
      "\u001b[34m\u001b[1mwandb\u001b[0m: \tnum_filters: 29\n",
      "\u001b[34m\u001b[1mwandb\u001b[0m: \tnum_layers: 3\n",
      "\u001b[34m\u001b[1mwandb\u001b[0m: \tresult_dir: /home/quanhhh/Documents/model/result_wandb/\n",
      "\u001b[34m\u001b[1mwandb\u001b[0m: \tstride_1: 8\n",
      "\u001b[34m\u001b[1mwandb\u001b[0m: \tstride_2: 3\n",
      "\u001b[34m\u001b[1mwandb\u001b[0m: \tweight_decay: 0.00012923537687504585\n"
     ]
    },
    {
     "data": {
      "text/html": [
       "Tracking run with wandb version 0.13.4"
      ],
      "text/plain": [
       "<IPython.core.display.HTML object>"
      ]
     },
     "metadata": {},
     "output_type": "display_data"
    },
    {
     "data": {
      "text/html": [
       "Run data is saved locally in <code>/home/quanhhh/Documents/model/wandb/run-20221019_145519-8u2y9n7t</code>"
      ],
      "text/plain": [
       "<IPython.core.display.HTML object>"
      ]
     },
     "metadata": {},
     "output_type": "display_data"
    },
    {
     "data": {
      "text/html": [
       "Syncing run <strong><a href=\"https://wandb.ai/maiquanh/quanh/runs/8u2y9n7t\" target=\"_blank\">brisk-sweep-103</a></strong> to <a href=\"https://wandb.ai/maiquanh/quanh\" target=\"_blank\">Weights & Biases</a> (<a href=\"https://wandb.me/run\" target=\"_blank\">docs</a>)<br/>Sweep page:  <a href=\"https://wandb.ai/maiquanh/quanh/sweeps/8p4zr03y\" target=\"_blank\">https://wandb.ai/maiquanh/quanh/sweeps/8p4zr03y</a>"
      ],
      "text/plain": [
       "<IPython.core.display.HTML object>"
      ]
     },
     "metadata": {},
     "output_type": "display_data"
    },
    {
     "name": "stdout",
     "output_type": "stream",
     "text": [
      "-----START TRAINING CLASSIFICATION-----\n",
      "Epoch: 80\t| Train_loss: 0.005779\t|Train accuracy: 98.878924\t| Test_loss: 0.003237\t|Test accuracy: 94.725557\t|Val accuracy: 79.066666 \n",
      "\n",
      "----COMPLETED TRAINING CLASSIFICATION-----\n",
      "val_acc 79.06666564941406\n",
      "ok\n"
     ]
    },
    {
     "data": {
      "text/html": [
       "Waiting for W&B process to finish... <strong style=\"color:green\">(success).</strong>"
      ],
      "text/plain": [
       "<IPython.core.display.HTML object>"
      ]
     },
     "metadata": {},
     "output_type": "display_data"
    },
    {
     "data": {
      "text/html": [
       "<style>\n",
       "    table.wandb td:nth-child(1) { padding: 0 10px; text-align: left ; width: auto;} td:nth-child(2) {text-align: left ; width: 100%}\n",
       "    .wandb-row { display: flex; flex-direction: row; flex-wrap: wrap; justify-content: flex-start; width: 100% }\n",
       "    .wandb-col { display: flex; flex-direction: column; flex-basis: 100%; flex: 1; padding: 10px; }\n",
       "    </style>\n",
       "<div class=\"wandb-row\"><div class=\"wandb-col\"><h3>Run history:</h3><br/><table class=\"wandb\"><tr><td>test_loss</td><td>████▇▇▇▆▆▆▆▆▅▅▅▅▅▄▄▄▄▄▃▃▃▃▃▃▂▂▂▂▂▁▁▂▁▁▁▁</td></tr><tr><td>train_loss</td><td>████▇▆▆▆▅▅▅▅▅▄▄▄▄▄▃▃▃▃▃▃▃▂▂▂▂▂▂▁▁▁▁▁▁▁▁▁</td></tr><tr><td>val_acc</td><td>▁</td></tr></table><br/></div><div class=\"wandb-col\"><h3>Run summary:</h3><br/><table class=\"wandb\"><tr><td>test_loss</td><td>0.00324</td></tr><tr><td>train_loss</td><td>0.00578</td></tr><tr><td>val_acc</td><td>95.53333</td></tr></table><br/></div></div>"
      ],
      "text/plain": [
       "<IPython.core.display.HTML object>"
      ]
     },
     "metadata": {},
     "output_type": "display_data"
    },
    {
     "data": {
      "text/html": [
       "Synced <strong style=\"color:#cdcd00\">brisk-sweep-103</strong>: <a href=\"https://wandb.ai/maiquanh/quanh/runs/8u2y9n7t\" target=\"_blank\">https://wandb.ai/maiquanh/quanh/runs/8u2y9n7t</a><br/>Synced 6 W&B file(s), 0 media file(s), 0 artifact file(s) and 0 other file(s)"
      ],
      "text/plain": [
       "<IPython.core.display.HTML object>"
      ]
     },
     "metadata": {},
     "output_type": "display_data"
    },
    {
     "data": {
      "text/html": [
       "Find logs at: <code>./wandb/run-20221019_145519-8u2y9n7t/logs</code>"
      ],
      "text/plain": [
       "<IPython.core.display.HTML object>"
      ]
     },
     "metadata": {},
     "output_type": "display_data"
    },
    {
     "name": "stderr",
     "output_type": "stream",
     "text": [
      "\u001b[34m\u001b[1mwandb\u001b[0m: Sweep Agent: Waiting for job.\n",
      "\u001b[34m\u001b[1mwandb\u001b[0m: Job received.\n",
      "\u001b[34m\u001b[1mwandb\u001b[0m: Agent Starting Run: i2i3l4qh with config:\n",
      "\u001b[34m\u001b[1mwandb\u001b[0m: \tbatch_size: 128\n",
      "\u001b[34m\u001b[1mwandb\u001b[0m: \td_hidden: 3\n",
      "\u001b[34m\u001b[1mwandb\u001b[0m: \tdata_dir: /home/quanhhh/Documents/model/pickle/\n",
      "\u001b[34m\u001b[1mwandb\u001b[0m: \tdropout: 0.12861688999033835\n",
      "\u001b[34m\u001b[1mwandb\u001b[0m: \tkernel_size_1: 65\n",
      "\u001b[34m\u001b[1mwandb\u001b[0m: \tkernel_size_2: 8\n",
      "\u001b[34m\u001b[1mwandb\u001b[0m: \tlr: 0.0014779749839099422\n",
      "\u001b[34m\u001b[1mwandb\u001b[0m: \tmaxpool_1: 3\n",
      "\u001b[34m\u001b[1mwandb\u001b[0m: \tmaxpool_2: 5\n",
      "\u001b[34m\u001b[1mwandb\u001b[0m: \tnum_epoch: 94\n",
      "\u001b[34m\u001b[1mwandb\u001b[0m: \tnum_filters: 40\n",
      "\u001b[34m\u001b[1mwandb\u001b[0m: \tnum_layers: 4\n",
      "\u001b[34m\u001b[1mwandb\u001b[0m: \tresult_dir: /home/quanhhh/Documents/model/result_wandb/\n",
      "\u001b[34m\u001b[1mwandb\u001b[0m: \tstride_1: 7\n",
      "\u001b[34m\u001b[1mwandb\u001b[0m: \tstride_2: 9\n",
      "\u001b[34m\u001b[1mwandb\u001b[0m: \tweight_decay: 0.0002094047865013641\n"
     ]
    },
    {
     "data": {
      "text/html": [
       "Tracking run with wandb version 0.13.4"
      ],
      "text/plain": [
       "<IPython.core.display.HTML object>"
      ]
     },
     "metadata": {},
     "output_type": "display_data"
    },
    {
     "data": {
      "text/html": [
       "Run data is saved locally in <code>/home/quanhhh/Documents/model/wandb/run-20221019_145756-i2i3l4qh</code>"
      ],
      "text/plain": [
       "<IPython.core.display.HTML object>"
      ]
     },
     "metadata": {},
     "output_type": "display_data"
    },
    {
     "data": {
      "text/html": [
       "Syncing run <strong><a href=\"https://wandb.ai/maiquanh/quanh/runs/i2i3l4qh\" target=\"_blank\">pretty-sweep-104</a></strong> to <a href=\"https://wandb.ai/maiquanh/quanh\" target=\"_blank\">Weights & Biases</a> (<a href=\"https://wandb.me/run\" target=\"_blank\">docs</a>)<br/>Sweep page:  <a href=\"https://wandb.ai/maiquanh/quanh/sweeps/8p4zr03y\" target=\"_blank\">https://wandb.ai/maiquanh/quanh/sweeps/8p4zr03y</a>"
      ],
      "text/plain": [
       "<IPython.core.display.HTML object>"
      ]
     },
     "metadata": {},
     "output_type": "display_data"
    },
    {
     "name": "stdout",
     "output_type": "stream",
     "text": [
      "-----START TRAINING CLASSIFICATION-----\n",
      "Epoch: 94\t| Train_loss: 0.006078\t|Train accuracy: 96.148773\t| Test_loss: 0.003566\t|Test accuracy: 82.847341\t|Val accuracy: 84.599998 \n",
      "\n",
      "----COMPLETED TRAINING CLASSIFICATION-----\n",
      "val_acc 84.5999984741211\n",
      "ok\n"
     ]
    },
    {
     "data": {
      "text/html": [
       "Waiting for W&B process to finish... <strong style=\"color:green\">(success).</strong>"
      ],
      "text/plain": [
       "<IPython.core.display.HTML object>"
      ]
     },
     "metadata": {},
     "output_type": "display_data"
    },
    {
     "data": {
      "text/html": [
       "<style>\n",
       "    table.wandb td:nth-child(1) { padding: 0 10px; text-align: left ; width: auto;} td:nth-child(2) {text-align: left ; width: 100%}\n",
       "    .wandb-row { display: flex; flex-direction: row; flex-wrap: wrap; justify-content: flex-start; width: 100% }\n",
       "    .wandb-col { display: flex; flex-direction: column; flex-basis: 100%; flex: 1; padding: 10px; }\n",
       "    </style>\n",
       "<div class=\"wandb-row\"><div class=\"wandb-col\"><h3>Run history:</h3><br/><table class=\"wandb\"><tr><td>test_loss</td><td>█▇▄▄▃▃▃▂▃▅▃▃▃▃▅▃▃▄▄▂▃▂▂▃▃▃▃▂▃▂▃▁▃▃▃▃▃▃▃▃</td></tr><tr><td>train_loss</td><td>█▆▃▂▂▁▁▁▁▁▁▁▁▁▁▁▁▁▁▁▁▁▁▁▁▁▁▁▁▁▁▁▁▁▁▁▁▁▁▁</td></tr><tr><td>val_acc</td><td>▁</td></tr></table><br/></div><div class=\"wandb-col\"><h3>Run summary:</h3><br/><table class=\"wandb\"><tr><td>test_loss</td><td>0.00357</td></tr><tr><td>train_loss</td><td>0.00608</td></tr><tr><td>val_acc</td><td>84.6</td></tr></table><br/></div></div>"
      ],
      "text/plain": [
       "<IPython.core.display.HTML object>"
      ]
     },
     "metadata": {},
     "output_type": "display_data"
    },
    {
     "data": {
      "text/html": [
       "Synced <strong style=\"color:#cdcd00\">pretty-sweep-104</strong>: <a href=\"https://wandb.ai/maiquanh/quanh/runs/i2i3l4qh\" target=\"_blank\">https://wandb.ai/maiquanh/quanh/runs/i2i3l4qh</a><br/>Synced 6 W&B file(s), 0 media file(s), 0 artifact file(s) and 0 other file(s)"
      ],
      "text/plain": [
       "<IPython.core.display.HTML object>"
      ]
     },
     "metadata": {},
     "output_type": "display_data"
    },
    {
     "data": {
      "text/html": [
       "Find logs at: <code>./wandb/run-20221019_145756-i2i3l4qh/logs</code>"
      ],
      "text/plain": [
       "<IPython.core.display.HTML object>"
      ]
     },
     "metadata": {},
     "output_type": "display_data"
    },
    {
     "name": "stderr",
     "output_type": "stream",
     "text": [
      "\u001b[34m\u001b[1mwandb\u001b[0m: Agent Starting Run: badikezu with config:\n",
      "\u001b[34m\u001b[1mwandb\u001b[0m: \tbatch_size: 128\n",
      "\u001b[34m\u001b[1mwandb\u001b[0m: \td_hidden: 3\n",
      "\u001b[34m\u001b[1mwandb\u001b[0m: \tdata_dir: /home/quanhhh/Documents/model/pickle/\n",
      "\u001b[34m\u001b[1mwandb\u001b[0m: \tdropout: 0.17635509002964558\n",
      "\u001b[34m\u001b[1mwandb\u001b[0m: \tkernel_size_1: 65\n",
      "\u001b[34m\u001b[1mwandb\u001b[0m: \tkernel_size_2: 4\n",
      "\u001b[34m\u001b[1mwandb\u001b[0m: \tlr: 0.0004365655249495251\n",
      "\u001b[34m\u001b[1mwandb\u001b[0m: \tmaxpool_1: 5\n",
      "\u001b[34m\u001b[1mwandb\u001b[0m: \tmaxpool_2: 8\n",
      "\u001b[34m\u001b[1mwandb\u001b[0m: \tnum_epoch: 81\n",
      "\u001b[34m\u001b[1mwandb\u001b[0m: \tnum_filters: 16\n",
      "\u001b[34m\u001b[1mwandb\u001b[0m: \tnum_layers: 3\n",
      "\u001b[34m\u001b[1mwandb\u001b[0m: \tresult_dir: /home/quanhhh/Documents/model/result_wandb/\n",
      "\u001b[34m\u001b[1mwandb\u001b[0m: \tstride_1: 8\n",
      "\u001b[34m\u001b[1mwandb\u001b[0m: \tstride_2: 4\n",
      "\u001b[34m\u001b[1mwandb\u001b[0m: \tweight_decay: 0.0001917110493244355\n"
     ]
    },
    {
     "data": {
      "text/html": [
       "Tracking run with wandb version 0.13.4"
      ],
      "text/plain": [
       "<IPython.core.display.HTML object>"
      ]
     },
     "metadata": {},
     "output_type": "display_data"
    },
    {
     "data": {
      "text/html": [
       "Run data is saved locally in <code>/home/quanhhh/Documents/model/wandb/run-20221019_150151-badikezu</code>"
      ],
      "text/plain": [
       "<IPython.core.display.HTML object>"
      ]
     },
     "metadata": {},
     "output_type": "display_data"
    },
    {
     "data": {
      "text/html": [
       "Syncing run <strong><a href=\"https://wandb.ai/maiquanh/quanh/runs/badikezu\" target=\"_blank\">silver-sweep-105</a></strong> to <a href=\"https://wandb.ai/maiquanh/quanh\" target=\"_blank\">Weights & Biases</a> (<a href=\"https://wandb.me/run\" target=\"_blank\">docs</a>)<br/>Sweep page:  <a href=\"https://wandb.ai/maiquanh/quanh/sweeps/8p4zr03y\" target=\"_blank\">https://wandb.ai/maiquanh/quanh/sweeps/8p4zr03y</a>"
      ],
      "text/plain": [
       "<IPython.core.display.HTML object>"
      ]
     },
     "metadata": {},
     "output_type": "display_data"
    },
    {
     "name": "stdout",
     "output_type": "stream",
     "text": [
      "-----START TRAINING CLASSIFICATION-----\n",
      "Epoch: 81\t| Train_loss: 0.006159\t|Train accuracy: 97.810604\t| Test_loss: 0.003534\t|Test accuracy: 91.080617\t|Val accuracy: 81.466667 \n",
      "\n",
      "----COMPLETED TRAINING CLASSIFICATION-----\n",
      "val_acc 81.46666717529297\n",
      "ok\n"
     ]
    },
    {
     "data": {
      "text/html": [
       "Waiting for W&B process to finish... <strong style=\"color:green\">(success).</strong>"
      ],
      "text/plain": [
       "<IPython.core.display.HTML object>"
      ]
     },
     "metadata": {},
     "output_type": "display_data"
    },
    {
     "data": {
      "text/html": [
       "<style>\n",
       "    table.wandb td:nth-child(1) { padding: 0 10px; text-align: left ; width: auto;} td:nth-child(2) {text-align: left ; width: 100%}\n",
       "    .wandb-row { display: flex; flex-direction: row; flex-wrap: wrap; justify-content: flex-start; width: 100% }\n",
       "    .wandb-col { display: flex; flex-direction: column; flex-basis: 100%; flex: 1; padding: 10px; }\n",
       "    </style>\n",
       "<div class=\"wandb-row\"><div class=\"wandb-col\"><h3>Run history:</h3><br/><table class=\"wandb\"><tr><td>test_loss</td><td>█▇▆▆▅▅▅▅▆▅▅▅▅▅▆▅▅▅▅▄▄▄▃▄▂▂▂▂▂▂▁▁▁▁▂▁▁▁▁▂</td></tr><tr><td>train_loss</td><td>█▇▆▅▄▄▄▄▄▄▄▄▄▄▄▄▄▄▃▃▃▃▂▂▂▂▂▁▁▁▁▁▁▁▁▁▁▁▁▁</td></tr><tr><td>val_acc</td><td>▁</td></tr></table><br/></div><div class=\"wandb-col\"><h3>Run summary:</h3><br/><table class=\"wandb\"><tr><td>test_loss</td><td>0.00353</td></tr><tr><td>train_loss</td><td>0.00616</td></tr><tr><td>val_acc</td><td>89.13333</td></tr></table><br/></div></div>"
      ],
      "text/plain": [
       "<IPython.core.display.HTML object>"
      ]
     },
     "metadata": {},
     "output_type": "display_data"
    },
    {
     "data": {
      "text/html": [
       "Synced <strong style=\"color:#cdcd00\">silver-sweep-105</strong>: <a href=\"https://wandb.ai/maiquanh/quanh/runs/badikezu\" target=\"_blank\">https://wandb.ai/maiquanh/quanh/runs/badikezu</a><br/>Synced 6 W&B file(s), 0 media file(s), 0 artifact file(s) and 0 other file(s)"
      ],
      "text/plain": [
       "<IPython.core.display.HTML object>"
      ]
     },
     "metadata": {},
     "output_type": "display_data"
    },
    {
     "data": {
      "text/html": [
       "Find logs at: <code>./wandb/run-20221019_150151-badikezu/logs</code>"
      ],
      "text/plain": [
       "<IPython.core.display.HTML object>"
      ]
     },
     "metadata": {},
     "output_type": "display_data"
    },
    {
     "name": "stderr",
     "output_type": "stream",
     "text": [
      "\u001b[34m\u001b[1mwandb\u001b[0m: Agent Starting Run: n576d2x2 with config:\n",
      "\u001b[34m\u001b[1mwandb\u001b[0m: \tbatch_size: 128\n",
      "\u001b[34m\u001b[1mwandb\u001b[0m: \td_hidden: 3\n",
      "\u001b[34m\u001b[1mwandb\u001b[0m: \tdata_dir: /home/quanhhh/Documents/model/pickle/\n",
      "\u001b[34m\u001b[1mwandb\u001b[0m: \tdropout: 0.17892361672897236\n",
      "\u001b[34m\u001b[1mwandb\u001b[0m: \tkernel_size_1: 60\n",
      "\u001b[34m\u001b[1mwandb\u001b[0m: \tkernel_size_2: 6\n",
      "\u001b[34m\u001b[1mwandb\u001b[0m: \tlr: 0.0006472715681701575\n",
      "\u001b[34m\u001b[1mwandb\u001b[0m: \tmaxpool_1: 3\n",
      "\u001b[34m\u001b[1mwandb\u001b[0m: \tmaxpool_2: 8\n",
      "\u001b[34m\u001b[1mwandb\u001b[0m: \tnum_epoch: 91\n",
      "\u001b[34m\u001b[1mwandb\u001b[0m: \tnum_filters: 34\n",
      "\u001b[34m\u001b[1mwandb\u001b[0m: \tnum_layers: 4\n",
      "\u001b[34m\u001b[1mwandb\u001b[0m: \tresult_dir: /home/quanhhh/Documents/model/result_wandb/\n",
      "\u001b[34m\u001b[1mwandb\u001b[0m: \tstride_1: 8\n",
      "\u001b[34m\u001b[1mwandb\u001b[0m: \tstride_2: 7\n",
      "\u001b[34m\u001b[1mwandb\u001b[0m: \tweight_decay: 0.0002042589085070867\n"
     ]
    },
    {
     "data": {
      "text/html": [
       "Tracking run with wandb version 0.13.4"
      ],
      "text/plain": [
       "<IPython.core.display.HTML object>"
      ]
     },
     "metadata": {},
     "output_type": "display_data"
    },
    {
     "data": {
      "text/html": [
       "Run data is saved locally in <code>/home/quanhhh/Documents/model/wandb/run-20221019_150411-n576d2x2</code>"
      ],
      "text/plain": [
       "<IPython.core.display.HTML object>"
      ]
     },
     "metadata": {},
     "output_type": "display_data"
    },
    {
     "data": {
      "text/html": [
       "Syncing run <strong><a href=\"https://wandb.ai/maiquanh/quanh/runs/n576d2x2\" target=\"_blank\">grateful-sweep-106</a></strong> to <a href=\"https://wandb.ai/maiquanh/quanh\" target=\"_blank\">Weights & Biases</a> (<a href=\"https://wandb.me/run\" target=\"_blank\">docs</a>)<br/>Sweep page:  <a href=\"https://wandb.ai/maiquanh/quanh/sweeps/8p4zr03y\" target=\"_blank\">https://wandb.ai/maiquanh/quanh/sweeps/8p4zr03y</a>"
      ],
      "text/plain": [
       "<IPython.core.display.HTML object>"
      ]
     },
     "metadata": {},
     "output_type": "display_data"
    },
    {
     "name": "stdout",
     "output_type": "stream",
     "text": [
      "-----START TRAINING CLASSIFICATION-----\n",
      "Epoch: 91\t| Train_loss: 0.005810\t|Train accuracy: 96.860987\t| Test_loss: 0.003248\t|Test accuracy: 92.024014\t|Val accuracy: 80.599998 \n",
      "\n",
      "----COMPLETED TRAINING CLASSIFICATION-----\n",
      "val_acc 80.5999984741211\n",
      "ok\n"
     ]
    },
    {
     "data": {
      "text/html": [
       "Waiting for W&B process to finish... <strong style=\"color:green\">(success).</strong>"
      ],
      "text/plain": [
       "<IPython.core.display.HTML object>"
      ]
     },
     "metadata": {},
     "output_type": "display_data"
    },
    {
     "data": {
      "text/html": [
       "<style>\n",
       "    table.wandb td:nth-child(1) { padding: 0 10px; text-align: left ; width: auto;} td:nth-child(2) {text-align: left ; width: 100%}\n",
       "    .wandb-row { display: flex; flex-direction: row; flex-wrap: wrap; justify-content: flex-start; width: 100% }\n",
       "    .wandb-col { display: flex; flex-direction: column; flex-basis: 100%; flex: 1; padding: 10px; }\n",
       "    </style>\n",
       "<div class=\"wandb-row\"><div class=\"wandb-col\"><h3>Run history:</h3><br/><table class=\"wandb\"><tr><td>test_loss</td><td>██▆▆▄▇▆▆▅▅▆▄▃▂▁▂▂▃▂▃▃▂▃▃▁▂▃▁▂▁▂▃▂▂▂▂▃▁▂▃</td></tr><tr><td>train_loss</td><td>██▆▅▃▅▅▄▄▄▄▄▃▂▁▁▁▁▁▁▁▁▁▁▁▁▁▁▁▁▁▁▁▁▁▁▁▁▃▁</td></tr><tr><td>val_acc</td><td>▁</td></tr></table><br/></div><div class=\"wandb-col\"><h3>Run summary:</h3><br/><table class=\"wandb\"><tr><td>test_loss</td><td>0.00325</td></tr><tr><td>train_loss</td><td>0.00581</td></tr><tr><td>val_acc</td><td>91.96667</td></tr></table><br/></div></div>"
      ],
      "text/plain": [
       "<IPython.core.display.HTML object>"
      ]
     },
     "metadata": {},
     "output_type": "display_data"
    },
    {
     "data": {
      "text/html": [
       "Synced <strong style=\"color:#cdcd00\">grateful-sweep-106</strong>: <a href=\"https://wandb.ai/maiquanh/quanh/runs/n576d2x2\" target=\"_blank\">https://wandb.ai/maiquanh/quanh/runs/n576d2x2</a><br/>Synced 6 W&B file(s), 0 media file(s), 0 artifact file(s) and 0 other file(s)"
      ],
      "text/plain": [
       "<IPython.core.display.HTML object>"
      ]
     },
     "metadata": {},
     "output_type": "display_data"
    },
    {
     "data": {
      "text/html": [
       "Find logs at: <code>./wandb/run-20221019_150411-n576d2x2/logs</code>"
      ],
      "text/plain": [
       "<IPython.core.display.HTML object>"
      ]
     },
     "metadata": {},
     "output_type": "display_data"
    },
    {
     "name": "stderr",
     "output_type": "stream",
     "text": [
      "\u001b[34m\u001b[1mwandb\u001b[0m: Agent Starting Run: thmlz2d7 with config:\n",
      "\u001b[34m\u001b[1mwandb\u001b[0m: \tbatch_size: 128\n",
      "\u001b[34m\u001b[1mwandb\u001b[0m: \td_hidden: 3\n",
      "\u001b[34m\u001b[1mwandb\u001b[0m: \tdata_dir: /home/quanhhh/Documents/model/pickle/\n",
      "\u001b[34m\u001b[1mwandb\u001b[0m: \tdropout: 0.19753689268108288\n",
      "\u001b[34m\u001b[1mwandb\u001b[0m: \tkernel_size_1: 82\n",
      "\u001b[34m\u001b[1mwandb\u001b[0m: \tkernel_size_2: 6\n",
      "\u001b[34m\u001b[1mwandb\u001b[0m: \tlr: 0.0027669189761401593\n",
      "\u001b[34m\u001b[1mwandb\u001b[0m: \tmaxpool_1: 3\n",
      "\u001b[34m\u001b[1mwandb\u001b[0m: \tmaxpool_2: 3\n",
      "\u001b[34m\u001b[1mwandb\u001b[0m: \tnum_epoch: 100\n",
      "\u001b[34m\u001b[1mwandb\u001b[0m: \tnum_filters: 57\n",
      "\u001b[34m\u001b[1mwandb\u001b[0m: \tnum_layers: 4\n",
      "\u001b[34m\u001b[1mwandb\u001b[0m: \tresult_dir: /home/quanhhh/Documents/model/result_wandb/\n",
      "\u001b[34m\u001b[1mwandb\u001b[0m: \tstride_1: 4\n",
      "\u001b[34m\u001b[1mwandb\u001b[0m: \tstride_2: 9\n",
      "\u001b[34m\u001b[1mwandb\u001b[0m: \tweight_decay: 0.00011420839416463954\n"
     ]
    },
    {
     "data": {
      "text/html": [
       "Tracking run with wandb version 0.13.4"
      ],
      "text/plain": [
       "<IPython.core.display.HTML object>"
      ]
     },
     "metadata": {},
     "output_type": "display_data"
    },
    {
     "data": {
      "text/html": [
       "Run data is saved locally in <code>/home/quanhhh/Documents/model/wandb/run-20221019_150652-thmlz2d7</code>"
      ],
      "text/plain": [
       "<IPython.core.display.HTML object>"
      ]
     },
     "metadata": {},
     "output_type": "display_data"
    },
    {
     "data": {
      "text/html": [
       "Syncing run <strong><a href=\"https://wandb.ai/maiquanh/quanh/runs/thmlz2d7\" target=\"_blank\">ancient-sweep-107</a></strong> to <a href=\"https://wandb.ai/maiquanh/quanh\" target=\"_blank\">Weights & Biases</a> (<a href=\"https://wandb.me/run\" target=\"_blank\">docs</a>)<br/>Sweep page:  <a href=\"https://wandb.ai/maiquanh/quanh/sweeps/8p4zr03y\" target=\"_blank\">https://wandb.ai/maiquanh/quanh/sweeps/8p4zr03y</a>"
      ],
      "text/plain": [
       "<IPython.core.display.HTML object>"
      ]
     },
     "metadata": {},
     "output_type": "display_data"
    },
    {
     "name": "stdout",
     "output_type": "stream",
     "text": [
      "-----START TRAINING CLASSIFICATION-----\n",
      "Epoch: 100\t| Train_loss: 0.005912\t|Train accuracy: 97.441308\t| Test_loss: 0.003751\t|Test accuracy: 77.444254\t|Val accuracy: 78.533333 \n",
      "\n",
      "----COMPLETED TRAINING CLASSIFICATION-----\n",
      "val_acc 78.53333282470703\n",
      "ok\n"
     ]
    },
    {
     "data": {
      "text/html": [
       "Waiting for W&B process to finish... <strong style=\"color:green\">(success).</strong>"
      ],
      "text/plain": [
       "<IPython.core.display.HTML object>"
      ]
     },
     "metadata": {},
     "output_type": "display_data"
    },
    {
     "data": {
      "text/html": [
       "<style>\n",
       "    table.wandb td:nth-child(1) { padding: 0 10px; text-align: left ; width: auto;} td:nth-child(2) {text-align: left ; width: 100%}\n",
       "    .wandb-row { display: flex; flex-direction: row; flex-wrap: wrap; justify-content: flex-start; width: 100% }\n",
       "    .wandb-col { display: flex; flex-direction: column; flex-basis: 100%; flex: 1; padding: 10px; }\n",
       "    </style>\n",
       "<div class=\"wandb-row\"><div class=\"wandb-col\"><h3>Run history:</h3><br/><table class=\"wandb\"><tr><td>test_loss</td><td>█▅▃▃▃▃▃▃▃▃▃▃▃▃▁▃▂▃▃▃▃▃▁▂▂▃▃▃▁▂▁▃▃▁▁▃▁▃▃▃</td></tr><tr><td>train_loss</td><td>█▄▂▁▁▁▁▁▁▁▁▁▁▁▁▁▁▂▁▁▁▁▁▁▁▁▁▁▁▁▁▁▁▁▁▁▁▁▁▁</td></tr><tr><td>val_acc</td><td>▁</td></tr></table><br/></div><div class=\"wandb-col\"><h3>Run summary:</h3><br/><table class=\"wandb\"><tr><td>test_loss</td><td>0.00375</td></tr><tr><td>train_loss</td><td>0.00591</td></tr><tr><td>val_acc</td><td>89.26666</td></tr></table><br/></div></div>"
      ],
      "text/plain": [
       "<IPython.core.display.HTML object>"
      ]
     },
     "metadata": {},
     "output_type": "display_data"
    },
    {
     "data": {
      "text/html": [
       "Synced <strong style=\"color:#cdcd00\">ancient-sweep-107</strong>: <a href=\"https://wandb.ai/maiquanh/quanh/runs/thmlz2d7\" target=\"_blank\">https://wandb.ai/maiquanh/quanh/runs/thmlz2d7</a><br/>Synced 6 W&B file(s), 0 media file(s), 0 artifact file(s) and 0 other file(s)"
      ],
      "text/plain": [
       "<IPython.core.display.HTML object>"
      ]
     },
     "metadata": {},
     "output_type": "display_data"
    },
    {
     "data": {
      "text/html": [
       "Find logs at: <code>./wandb/run-20221019_150652-thmlz2d7/logs</code>"
      ],
      "text/plain": [
       "<IPython.core.display.HTML object>"
      ]
     },
     "metadata": {},
     "output_type": "display_data"
    },
    {
     "name": "stderr",
     "output_type": "stream",
     "text": [
      "\u001b[34m\u001b[1mwandb\u001b[0m: Agent Starting Run: nd3t8ial with config:\n",
      "\u001b[34m\u001b[1mwandb\u001b[0m: \tbatch_size: 128\n",
      "\u001b[34m\u001b[1mwandb\u001b[0m: \td_hidden: 3\n",
      "\u001b[34m\u001b[1mwandb\u001b[0m: \tdata_dir: /home/quanhhh/Documents/model/pickle/\n",
      "\u001b[34m\u001b[1mwandb\u001b[0m: \tdropout: 0.1909715542646602\n",
      "\u001b[34m\u001b[1mwandb\u001b[0m: \tkernel_size_1: 94\n",
      "\u001b[34m\u001b[1mwandb\u001b[0m: \tkernel_size_2: 11\n",
      "\u001b[34m\u001b[1mwandb\u001b[0m: \tlr: 0.0001750575983869638\n",
      "\u001b[34m\u001b[1mwandb\u001b[0m: \tmaxpool_1: 6\n",
      "\u001b[34m\u001b[1mwandb\u001b[0m: \tmaxpool_2: 6\n",
      "\u001b[34m\u001b[1mwandb\u001b[0m: \tnum_epoch: 85\n",
      "\u001b[34m\u001b[1mwandb\u001b[0m: \tnum_filters: 46\n",
      "\u001b[34m\u001b[1mwandb\u001b[0m: \tnum_layers: 3\n",
      "\u001b[34m\u001b[1mwandb\u001b[0m: \tresult_dir: /home/quanhhh/Documents/model/result_wandb/\n",
      "\u001b[34m\u001b[1mwandb\u001b[0m: \tstride_1: 3\n",
      "\u001b[34m\u001b[1mwandb\u001b[0m: \tstride_2: 8\n",
      "\u001b[34m\u001b[1mwandb\u001b[0m: \tweight_decay: 0.00016748586131594246\n"
     ]
    },
    {
     "data": {
      "text/html": [
       "Tracking run with wandb version 0.13.4"
      ],
      "text/plain": [
       "<IPython.core.display.HTML object>"
      ]
     },
     "metadata": {},
     "output_type": "display_data"
    },
    {
     "data": {
      "text/html": [
       "Run data is saved locally in <code>/home/quanhhh/Documents/model/wandb/run-20221019_151319-nd3t8ial</code>"
      ],
      "text/plain": [
       "<IPython.core.display.HTML object>"
      ]
     },
     "metadata": {},
     "output_type": "display_data"
    },
    {
     "data": {
      "text/html": [
       "Syncing run <strong><a href=\"https://wandb.ai/maiquanh/quanh/runs/nd3t8ial\" target=\"_blank\">rose-sweep-108</a></strong> to <a href=\"https://wandb.ai/maiquanh/quanh\" target=\"_blank\">Weights & Biases</a> (<a href=\"https://wandb.me/run\" target=\"_blank\">docs</a>)<br/>Sweep page:  <a href=\"https://wandb.ai/maiquanh/quanh/sweeps/8p4zr03y\" target=\"_blank\">https://wandb.ai/maiquanh/quanh/sweeps/8p4zr03y</a>"
      ],
      "text/plain": [
       "<IPython.core.display.HTML object>"
      ]
     },
     "metadata": {},
     "output_type": "display_data"
    },
    {
     "name": "stdout",
     "output_type": "stream",
     "text": [
      "-----START TRAINING CLASSIFICATION-----\n",
      "Epoch: 85\t| Train_loss: 0.006177\t|Train accuracy: 98.971248\t| Test_loss: 0.003365\t|Test accuracy: 94.639794\t|Val accuracy: 89.199997 \n",
      "\n",
      "----COMPLETED TRAINING CLASSIFICATION-----\n",
      "val_acc 89.19999694824219\n",
      "ok\n"
     ]
    },
    {
     "data": {
      "text/html": [
       "Waiting for W&B process to finish... <strong style=\"color:green\">(success).</strong>"
      ],
      "text/plain": [
       "<IPython.core.display.HTML object>"
      ]
     },
     "metadata": {},
     "output_type": "display_data"
    },
    {
     "data": {
      "text/html": [
       "<style>\n",
       "    table.wandb td:nth-child(1) { padding: 0 10px; text-align: left ; width: auto;} td:nth-child(2) {text-align: left ; width: 100%}\n",
       "    .wandb-row { display: flex; flex-direction: row; flex-wrap: wrap; justify-content: flex-start; width: 100% }\n",
       "    .wandb-col { display: flex; flex-direction: column; flex-basis: 100%; flex: 1; padding: 10px; }\n",
       "    </style>\n",
       "<div class=\"wandb-row\"><div class=\"wandb-col\"><h3>Run history:</h3><br/><table class=\"wandb\"><tr><td>test_loss</td><td>███▇▇▆▆▆▅▅▅▆▅▅▅▄▄▄▄▄▃▄▃▂▃▃▄▃▂▃▂▂▂▁▁▂▂▁▁▁</td></tr><tr><td>train_loss</td><td>██▇▇▇▆▆▅▅▅▅▄▄▄▄▃▃▃▃▃▃▃▂▂▂▂▂▂▂▂▂▁▂▁▁▁▁▁▁▁</td></tr><tr><td>val_acc</td><td>▁</td></tr></table><br/></div><div class=\"wandb-col\"><h3>Run summary:</h3><br/><table class=\"wandb\"><tr><td>test_loss</td><td>0.00337</td></tr><tr><td>train_loss</td><td>0.00618</td></tr><tr><td>val_acc</td><td>93.06667</td></tr></table><br/></div></div>"
      ],
      "text/plain": [
       "<IPython.core.display.HTML object>"
      ]
     },
     "metadata": {},
     "output_type": "display_data"
    },
    {
     "data": {
      "text/html": [
       "Synced <strong style=\"color:#cdcd00\">rose-sweep-108</strong>: <a href=\"https://wandb.ai/maiquanh/quanh/runs/nd3t8ial\" target=\"_blank\">https://wandb.ai/maiquanh/quanh/runs/nd3t8ial</a><br/>Synced 6 W&B file(s), 0 media file(s), 0 artifact file(s) and 0 other file(s)"
      ],
      "text/plain": [
       "<IPython.core.display.HTML object>"
      ]
     },
     "metadata": {},
     "output_type": "display_data"
    },
    {
     "data": {
      "text/html": [
       "Find logs at: <code>./wandb/run-20221019_151319-nd3t8ial/logs</code>"
      ],
      "text/plain": [
       "<IPython.core.display.HTML object>"
      ]
     },
     "metadata": {},
     "output_type": "display_data"
    },
    {
     "name": "stderr",
     "output_type": "stream",
     "text": [
      "\u001b[34m\u001b[1mwandb\u001b[0m: Agent Starting Run: yfn3nu42 with config:\n",
      "\u001b[34m\u001b[1mwandb\u001b[0m: \tbatch_size: 128\n",
      "\u001b[34m\u001b[1mwandb\u001b[0m: \td_hidden: 3\n",
      "\u001b[34m\u001b[1mwandb\u001b[0m: \tdata_dir: /home/quanhhh/Documents/model/pickle/\n",
      "\u001b[34m\u001b[1mwandb\u001b[0m: \tdropout: 0.14240316811755527\n",
      "\u001b[34m\u001b[1mwandb\u001b[0m: \tkernel_size_1: 67\n",
      "\u001b[34m\u001b[1mwandb\u001b[0m: \tkernel_size_2: 4\n",
      "\u001b[34m\u001b[1mwandb\u001b[0m: \tlr: 0.004424115504968812\n",
      "\u001b[34m\u001b[1mwandb\u001b[0m: \tmaxpool_1: 8\n",
      "\u001b[34m\u001b[1mwandb\u001b[0m: \tmaxpool_2: 8\n",
      "\u001b[34m\u001b[1mwandb\u001b[0m: \tnum_epoch: 80\n",
      "\u001b[34m\u001b[1mwandb\u001b[0m: \tnum_filters: 59\n",
      "\u001b[34m\u001b[1mwandb\u001b[0m: \tnum_layers: 2\n",
      "\u001b[34m\u001b[1mwandb\u001b[0m: \tresult_dir: /home/quanhhh/Documents/model/result_wandb/\n",
      "\u001b[34m\u001b[1mwandb\u001b[0m: \tstride_1: 9\n",
      "\u001b[34m\u001b[1mwandb\u001b[0m: \tstride_2: 6\n",
      "\u001b[34m\u001b[1mwandb\u001b[0m: \tweight_decay: 0.00020548599224277952\n"
     ]
    },
    {
     "data": {
      "text/html": [
       "Tracking run with wandb version 0.13.4"
      ],
      "text/plain": [
       "<IPython.core.display.HTML object>"
      ]
     },
     "metadata": {},
     "output_type": "display_data"
    },
    {
     "data": {
      "text/html": [
       "Run data is saved locally in <code>/home/quanhhh/Documents/model/wandb/run-20221019_151849-yfn3nu42</code>"
      ],
      "text/plain": [
       "<IPython.core.display.HTML object>"
      ]
     },
     "metadata": {},
     "output_type": "display_data"
    },
    {
     "data": {
      "text/html": [
       "Syncing run <strong><a href=\"https://wandb.ai/maiquanh/quanh/runs/yfn3nu42\" target=\"_blank\">faithful-sweep-109</a></strong> to <a href=\"https://wandb.ai/maiquanh/quanh\" target=\"_blank\">Weights & Biases</a> (<a href=\"https://wandb.me/run\" target=\"_blank\">docs</a>)<br/>Sweep page:  <a href=\"https://wandb.ai/maiquanh/quanh/sweeps/8p4zr03y\" target=\"_blank\">https://wandb.ai/maiquanh/quanh/sweeps/8p4zr03y</a>"
      ],
      "text/plain": [
       "<IPython.core.display.HTML object>"
      ]
     },
     "metadata": {},
     "output_type": "display_data"
    },
    {
     "name": "stdout",
     "output_type": "stream",
     "text": [
      "-----START TRAINING CLASSIFICATION-----\n",
      "Epoch: 80\t| Train_loss: 0.005668\t|Train accuracy: 97.520443\t| Test_loss: 0.003303\t|Test accuracy: 90.866209\t|Val accuracy: 72.766663 \n",
      "\n",
      "----COMPLETED TRAINING CLASSIFICATION-----\n",
      "val_acc 72.76666259765625\n",
      "ok\n"
     ]
    },
    {
     "data": {
      "text/html": [
       "Waiting for W&B process to finish... <strong style=\"color:green\">(success).</strong>"
      ],
      "text/plain": [
       "<IPython.core.display.HTML object>"
      ]
     },
     "metadata": {},
     "output_type": "display_data"
    },
    {
     "data": {
      "text/html": [
       "<style>\n",
       "    table.wandb td:nth-child(1) { padding: 0 10px; text-align: left ; width: auto;} td:nth-child(2) {text-align: left ; width: 100%}\n",
       "    .wandb-row { display: flex; flex-direction: row; flex-wrap: wrap; justify-content: flex-start; width: 100% }\n",
       "    .wandb-col { display: flex; flex-direction: column; flex-basis: 100%; flex: 1; padding: 10px; }\n",
       "    </style>\n",
       "<div class=\"wandb-row\"><div class=\"wandb-col\"><h3>Run history:</h3><br/><table class=\"wandb\"><tr><td>test_loss</td><td>█▅▄▃▃▃▃▃▃▄▄▃▃▃▃▃▄▃▄▃▃▃▃▃▃▃▄▂▃▃▁▁▃▁▃▃▃▂▄▂</td></tr><tr><td>train_loss</td><td>█▃▂▂▂▁▁▂▁▁▁▁▁▁▁▁▁▁▁▁▁▁▁▁▁▁▁▁▁▁▁▁▁▁▁▁▁▁▁▁</td></tr><tr><td>val_acc</td><td>▁</td></tr></table><br/></div><div class=\"wandb-col\"><h3>Run summary:</h3><br/><table class=\"wandb\"><tr><td>test_loss</td><td>0.0033</td></tr><tr><td>train_loss</td><td>0.00567</td></tr><tr><td>val_acc</td><td>88.76666</td></tr></table><br/></div></div>"
      ],
      "text/plain": [
       "<IPython.core.display.HTML object>"
      ]
     },
     "metadata": {},
     "output_type": "display_data"
    },
    {
     "data": {
      "text/html": [
       "Synced <strong style=\"color:#cdcd00\">faithful-sweep-109</strong>: <a href=\"https://wandb.ai/maiquanh/quanh/runs/yfn3nu42\" target=\"_blank\">https://wandb.ai/maiquanh/quanh/runs/yfn3nu42</a><br/>Synced 6 W&B file(s), 0 media file(s), 0 artifact file(s) and 0 other file(s)"
      ],
      "text/plain": [
       "<IPython.core.display.HTML object>"
      ]
     },
     "metadata": {},
     "output_type": "display_data"
    },
    {
     "data": {
      "text/html": [
       "Find logs at: <code>./wandb/run-20221019_151849-yfn3nu42/logs</code>"
      ],
      "text/plain": [
       "<IPython.core.display.HTML object>"
      ]
     },
     "metadata": {},
     "output_type": "display_data"
    },
    {
     "name": "stderr",
     "output_type": "stream",
     "text": [
      "\u001b[34m\u001b[1mwandb\u001b[0m: Agent Starting Run: 0agyqmrf with config:\n",
      "\u001b[34m\u001b[1mwandb\u001b[0m: \tbatch_size: 128\n",
      "\u001b[34m\u001b[1mwandb\u001b[0m: \td_hidden: 3\n",
      "\u001b[34m\u001b[1mwandb\u001b[0m: \tdata_dir: /home/quanhhh/Documents/model/pickle/\n",
      "\u001b[34m\u001b[1mwandb\u001b[0m: \tdropout: 0.16434750465732137\n",
      "\u001b[34m\u001b[1mwandb\u001b[0m: \tkernel_size_1: 82\n",
      "\u001b[34m\u001b[1mwandb\u001b[0m: \tkernel_size_2: 8\n",
      "\u001b[34m\u001b[1mwandb\u001b[0m: \tlr: 0.00021872987144306812\n",
      "\u001b[34m\u001b[1mwandb\u001b[0m: \tmaxpool_1: 7\n",
      "\u001b[34m\u001b[1mwandb\u001b[0m: \tmaxpool_2: 3\n",
      "\u001b[34m\u001b[1mwandb\u001b[0m: \tnum_epoch: 94\n",
      "\u001b[34m\u001b[1mwandb\u001b[0m: \tnum_filters: 39\n",
      "\u001b[34m\u001b[1mwandb\u001b[0m: \tnum_layers: 2\n",
      "\u001b[34m\u001b[1mwandb\u001b[0m: \tresult_dir: /home/quanhhh/Documents/model/result_wandb/\n",
      "\u001b[34m\u001b[1mwandb\u001b[0m: \tstride_1: 5\n",
      "\u001b[34m\u001b[1mwandb\u001b[0m: \tstride_2: 4\n",
      "\u001b[34m\u001b[1mwandb\u001b[0m: \tweight_decay: 0.00023182346157668625\n"
     ]
    },
    {
     "data": {
      "text/html": [
       "Tracking run with wandb version 0.13.4"
      ],
      "text/plain": [
       "<IPython.core.display.HTML object>"
      ]
     },
     "metadata": {},
     "output_type": "display_data"
    },
    {
     "data": {
      "text/html": [
       "Run data is saved locally in <code>/home/quanhhh/Documents/model/wandb/run-20221019_152158-0agyqmrf</code>"
      ],
      "text/plain": [
       "<IPython.core.display.HTML object>"
      ]
     },
     "metadata": {},
     "output_type": "display_data"
    },
    {
     "data": {
      "text/html": [
       "Syncing run <strong><a href=\"https://wandb.ai/maiquanh/quanh/runs/0agyqmrf\" target=\"_blank\">dauntless-sweep-110</a></strong> to <a href=\"https://wandb.ai/maiquanh/quanh\" target=\"_blank\">Weights & Biases</a> (<a href=\"https://wandb.me/run\" target=\"_blank\">docs</a>)<br/>Sweep page:  <a href=\"https://wandb.ai/maiquanh/quanh/sweeps/8p4zr03y\" target=\"_blank\">https://wandb.ai/maiquanh/quanh/sweeps/8p4zr03y</a>"
      ],
      "text/plain": [
       "<IPython.core.display.HTML object>"
      ]
     },
     "metadata": {},
     "output_type": "display_data"
    },
    {
     "name": "stdout",
     "output_type": "stream",
     "text": [
      "-----START TRAINING CLASSIFICATION-----\n",
      "Epoch: 94\t| Train_loss: 0.005628\t|Train accuracy: 99.828541\t| Test_loss: 0.003196\t|Test accuracy: 93.996569\t|Val accuracy: 93.166664 \n",
      "\n",
      "----COMPLETED TRAINING CLASSIFICATION-----\n",
      "val_acc 93.16666412353516\n",
      "ok\n"
     ]
    },
    {
     "data": {
      "text/html": [
       "Waiting for W&B process to finish... <strong style=\"color:green\">(success).</strong>"
      ],
      "text/plain": [
       "<IPython.core.display.HTML object>"
      ]
     },
     "metadata": {},
     "output_type": "display_data"
    },
    {
     "data": {
      "text/html": [
       "<style>\n",
       "    table.wandb td:nth-child(1) { padding: 0 10px; text-align: left ; width: auto;} td:nth-child(2) {text-align: left ; width: 100%}\n",
       "    .wandb-row { display: flex; flex-direction: row; flex-wrap: wrap; justify-content: flex-start; width: 100% }\n",
       "    .wandb-col { display: flex; flex-direction: column; flex-basis: 100%; flex: 1; padding: 10px; }\n",
       "    </style>\n",
       "<div class=\"wandb-row\"><div class=\"wandb-col\"><h3>Run history:</h3><br/><table class=\"wandb\"><tr><td>test_loss</td><td>████▇▆▆▅▅▅▄▄▃▃▃▂▂▃▂▂▂▁▂▂▁▁▁▂▁▁▁▁▁▁▁▁▁▁▁▁</td></tr><tr><td>train_loss</td><td>██▇▇▇▆▆▅▄▄▄▃▃▃▂▂▂▂▂▂▂▁▁▁▁▁▁▁▁▁▁▁▁▁▁▁▁▁▁▁</td></tr><tr><td>val_acc</td><td>▁</td></tr></table><br/></div><div class=\"wandb-col\"><h3>Run summary:</h3><br/><table class=\"wandb\"><tr><td>test_loss</td><td>0.0032</td></tr><tr><td>train_loss</td><td>0.00563</td></tr><tr><td>val_acc</td><td>94.46667</td></tr></table><br/></div></div>"
      ],
      "text/plain": [
       "<IPython.core.display.HTML object>"
      ]
     },
     "metadata": {},
     "output_type": "display_data"
    },
    {
     "data": {
      "text/html": [
       "Synced <strong style=\"color:#cdcd00\">dauntless-sweep-110</strong>: <a href=\"https://wandb.ai/maiquanh/quanh/runs/0agyqmrf\" target=\"_blank\">https://wandb.ai/maiquanh/quanh/runs/0agyqmrf</a><br/>Synced 6 W&B file(s), 0 media file(s), 0 artifact file(s) and 0 other file(s)"
      ],
      "text/plain": [
       "<IPython.core.display.HTML object>"
      ]
     },
     "metadata": {},
     "output_type": "display_data"
    },
    {
     "data": {
      "text/html": [
       "Find logs at: <code>./wandb/run-20221019_152158-0agyqmrf/logs</code>"
      ],
      "text/plain": [
       "<IPython.core.display.HTML object>"
      ]
     },
     "metadata": {},
     "output_type": "display_data"
    },
    {
     "name": "stderr",
     "output_type": "stream",
     "text": [
      "\u001b[34m\u001b[1mwandb\u001b[0m: Agent Starting Run: c3ye42bf with config:\n",
      "\u001b[34m\u001b[1mwandb\u001b[0m: \tbatch_size: 128\n",
      "\u001b[34m\u001b[1mwandb\u001b[0m: \td_hidden: 3\n",
      "\u001b[34m\u001b[1mwandb\u001b[0m: \tdata_dir: /home/quanhhh/Documents/model/pickle/\n",
      "\u001b[34m\u001b[1mwandb\u001b[0m: \tdropout: 0.12909038308461973\n",
      "\u001b[34m\u001b[1mwandb\u001b[0m: \tkernel_size_1: 63\n",
      "\u001b[34m\u001b[1mwandb\u001b[0m: \tkernel_size_2: 8\n",
      "\u001b[34m\u001b[1mwandb\u001b[0m: \tlr: 0.00011476717018388992\n",
      "\u001b[34m\u001b[1mwandb\u001b[0m: \tmaxpool_1: 4\n",
      "\u001b[34m\u001b[1mwandb\u001b[0m: \tmaxpool_2: 7\n",
      "\u001b[34m\u001b[1mwandb\u001b[0m: \tnum_epoch: 98\n",
      "\u001b[34m\u001b[1mwandb\u001b[0m: \tnum_filters: 29\n",
      "\u001b[34m\u001b[1mwandb\u001b[0m: \tnum_layers: 4\n",
      "\u001b[34m\u001b[1mwandb\u001b[0m: \tresult_dir: /home/quanhhh/Documents/model/result_wandb/\n",
      "\u001b[34m\u001b[1mwandb\u001b[0m: \tstride_1: 3\n",
      "\u001b[34m\u001b[1mwandb\u001b[0m: \tstride_2: 7\n",
      "\u001b[34m\u001b[1mwandb\u001b[0m: \tweight_decay: 0.00020174545495718504\n"
     ]
    },
    {
     "data": {
      "text/html": [
       "Tracking run with wandb version 0.13.4"
      ],
      "text/plain": [
       "<IPython.core.display.HTML object>"
      ]
     },
     "metadata": {},
     "output_type": "display_data"
    },
    {
     "data": {
      "text/html": [
       "Run data is saved locally in <code>/home/quanhhh/Documents/model/wandb/run-20221019_152544-c3ye42bf</code>"
      ],
      "text/plain": [
       "<IPython.core.display.HTML object>"
      ]
     },
     "metadata": {},
     "output_type": "display_data"
    },
    {
     "data": {
      "text/html": [
       "Syncing run <strong><a href=\"https://wandb.ai/maiquanh/quanh/runs/c3ye42bf\" target=\"_blank\">bumbling-sweep-111</a></strong> to <a href=\"https://wandb.ai/maiquanh/quanh\" target=\"_blank\">Weights & Biases</a> (<a href=\"https://wandb.me/run\" target=\"_blank\">docs</a>)<br/>Sweep page:  <a href=\"https://wandb.ai/maiquanh/quanh/sweeps/8p4zr03y\" target=\"_blank\">https://wandb.ai/maiquanh/quanh/sweeps/8p4zr03y</a>"
      ],
      "text/plain": [
       "<IPython.core.display.HTML object>"
      ]
     },
     "metadata": {},
     "output_type": "display_data"
    },
    {
     "name": "stdout",
     "output_type": "stream",
     "text": [
      "-----START TRAINING CLASSIFICATION-----\n",
      "Epoch: 98\t| Train_loss: 0.006593\t|Train accuracy: 98.628330\t| Test_loss: 0.003809\t|Test accuracy: 92.924528\t|Val accuracy: 76.066666 \n",
      "\n",
      "----COMPLETED TRAINING CLASSIFICATION-----\n",
      "val_acc 76.06666564941406\n",
      "ok\n"
     ]
    },
    {
     "data": {
      "text/html": [
       "Waiting for W&B process to finish... <strong style=\"color:green\">(success).</strong>"
      ],
      "text/plain": [
       "<IPython.core.display.HTML object>"
      ]
     },
     "metadata": {},
     "output_type": "display_data"
    },
    {
     "data": {
      "text/html": [
       "<style>\n",
       "    table.wandb td:nth-child(1) { padding: 0 10px; text-align: left ; width: auto;} td:nth-child(2) {text-align: left ; width: 100%}\n",
       "    .wandb-row { display: flex; flex-direction: row; flex-wrap: wrap; justify-content: flex-start; width: 100% }\n",
       "    .wandb-col { display: flex; flex-direction: column; flex-basis: 100%; flex: 1; padding: 10px; }\n",
       "    </style>\n",
       "<div class=\"wandb-row\"><div class=\"wandb-col\"><h3>Run history:</h3><br/><table class=\"wandb\"><tr><td>test_loss</td><td>█████▆▅▅▅▅▅▄▄▄▄▄▄▄▄▄▄▄▄▃▃▃▃▃▃▂▂▂▂▂▂▁▂▁▁▁</td></tr><tr><td>train_loss</td><td>████▇▆▅▅▅▄▄▄▄▄▄▄▄▄▃▃▃▃▃▃▃▃▂▂▂▂▂▂▂▂▂▁▁▁▁▁</td></tr><tr><td>val_acc</td><td>▁</td></tr></table><br/></div><div class=\"wandb-col\"><h3>Run summary:</h3><br/><table class=\"wandb\"><tr><td>test_loss</td><td>0.00381</td></tr><tr><td>train_loss</td><td>0.00659</td></tr><tr><td>val_acc</td><td>86.76666</td></tr></table><br/></div></div>"
      ],
      "text/plain": [
       "<IPython.core.display.HTML object>"
      ]
     },
     "metadata": {},
     "output_type": "display_data"
    },
    {
     "data": {
      "text/html": [
       "Synced <strong style=\"color:#cdcd00\">bumbling-sweep-111</strong>: <a href=\"https://wandb.ai/maiquanh/quanh/runs/c3ye42bf\" target=\"_blank\">https://wandb.ai/maiquanh/quanh/runs/c3ye42bf</a><br/>Synced 6 W&B file(s), 0 media file(s), 0 artifact file(s) and 0 other file(s)"
      ],
      "text/plain": [
       "<IPython.core.display.HTML object>"
      ]
     },
     "metadata": {},
     "output_type": "display_data"
    },
    {
     "data": {
      "text/html": [
       "Find logs at: <code>./wandb/run-20221019_152544-c3ye42bf/logs</code>"
      ],
      "text/plain": [
       "<IPython.core.display.HTML object>"
      ]
     },
     "metadata": {},
     "output_type": "display_data"
    },
    {
     "name": "stderr",
     "output_type": "stream",
     "text": [
      "\u001b[34m\u001b[1mwandb\u001b[0m: Agent Starting Run: 6p2bmbft with config:\n",
      "\u001b[34m\u001b[1mwandb\u001b[0m: \tbatch_size: 128\n",
      "\u001b[34m\u001b[1mwandb\u001b[0m: \td_hidden: 3\n",
      "\u001b[34m\u001b[1mwandb\u001b[0m: \tdata_dir: /home/quanhhh/Documents/model/pickle/\n",
      "\u001b[34m\u001b[1mwandb\u001b[0m: \tdropout: 0.1040338519477199\n",
      "\u001b[34m\u001b[1mwandb\u001b[0m: \tkernel_size_1: 95\n",
      "\u001b[34m\u001b[1mwandb\u001b[0m: \tkernel_size_2: 3\n",
      "\u001b[34m\u001b[1mwandb\u001b[0m: \tlr: 0.00014891157182999291\n",
      "\u001b[34m\u001b[1mwandb\u001b[0m: \tmaxpool_1: 3\n",
      "\u001b[34m\u001b[1mwandb\u001b[0m: \tmaxpool_2: 8\n",
      "\u001b[34m\u001b[1mwandb\u001b[0m: \tnum_epoch: 91\n",
      "\u001b[34m\u001b[1mwandb\u001b[0m: \tnum_filters: 59\n",
      "\u001b[34m\u001b[1mwandb\u001b[0m: \tnum_layers: 3\n",
      "\u001b[34m\u001b[1mwandb\u001b[0m: \tresult_dir: /home/quanhhh/Documents/model/result_wandb/\n",
      "\u001b[34m\u001b[1mwandb\u001b[0m: \tstride_1: 5\n",
      "\u001b[34m\u001b[1mwandb\u001b[0m: \tstride_2: 4\n",
      "\u001b[34m\u001b[1mwandb\u001b[0m: \tweight_decay: 0.00012086777456767844\n"
     ]
    },
    {
     "data": {
      "text/html": [
       "Tracking run with wandb version 0.13.4"
      ],
      "text/plain": [
       "<IPython.core.display.HTML object>"
      ]
     },
     "metadata": {},
     "output_type": "display_data"
    },
    {
     "data": {
      "text/html": [
       "Run data is saved locally in <code>/home/quanhhh/Documents/model/wandb/run-20221019_152950-6p2bmbft</code>"
      ],
      "text/plain": [
       "<IPython.core.display.HTML object>"
      ]
     },
     "metadata": {},
     "output_type": "display_data"
    },
    {
     "data": {
      "text/html": [
       "Syncing run <strong><a href=\"https://wandb.ai/maiquanh/quanh/runs/6p2bmbft\" target=\"_blank\">vibrant-sweep-112</a></strong> to <a href=\"https://wandb.ai/maiquanh/quanh\" target=\"_blank\">Weights & Biases</a> (<a href=\"https://wandb.me/run\" target=\"_blank\">docs</a>)<br/>Sweep page:  <a href=\"https://wandb.ai/maiquanh/quanh/sweeps/8p4zr03y\" target=\"_blank\">https://wandb.ai/maiquanh/quanh/sweeps/8p4zr03y</a>"
      ],
      "text/plain": [
       "<IPython.core.display.HTML object>"
      ]
     },
     "metadata": {},
     "output_type": "display_data"
    },
    {
     "name": "stdout",
     "output_type": "stream",
     "text": [
      "-----START TRAINING CLASSIFICATION-----\n",
      "Epoch: 91\t| Train_loss: 0.006082\t|Train accuracy: 99.472435\t| Test_loss: 0.003407\t|Test accuracy: 96.183533\t|Val accuracy: 91.566666 \n",
      "\n",
      "----COMPLETED TRAINING CLASSIFICATION-----\n",
      "val_acc 91.56666564941406\n",
      "ok\n"
     ]
    },
    {
     "data": {
      "text/html": [
       "Waiting for W&B process to finish... <strong style=\"color:green\">(success).</strong>"
      ],
      "text/plain": [
       "<IPython.core.display.HTML object>"
      ]
     },
     "metadata": {},
     "output_type": "display_data"
    },
    {
     "data": {
      "text/html": [
       "<style>\n",
       "    table.wandb td:nth-child(1) { padding: 0 10px; text-align: left ; width: auto;} td:nth-child(2) {text-align: left ; width: 100%}\n",
       "    .wandb-row { display: flex; flex-direction: row; flex-wrap: wrap; justify-content: flex-start; width: 100% }\n",
       "    .wandb-col { display: flex; flex-direction: column; flex-basis: 100%; flex: 1; padding: 10px; }\n",
       "    </style>\n",
       "<div class=\"wandb-row\"><div class=\"wandb-col\"><h3>Run history:</h3><br/><table class=\"wandb\"><tr><td>test_loss</td><td>████▇▇▆▆▆▆▆▅▅▆▅▄▄▃▄▄▃▄▃▄▃▃▂▂▂▂▂▂▂▃▂▂▁▁▁▁</td></tr><tr><td>train_loss</td><td>███▇▇▆▆▅▅▅▅▄▄▄▄▃▃▃▃▃▂▂▂▂▂▂▂▂▂▂▂▂▁▁▁▁▁▁▁▁</td></tr><tr><td>val_acc</td><td>▁</td></tr></table><br/></div><div class=\"wandb-col\"><h3>Run summary:</h3><br/><table class=\"wandb\"><tr><td>test_loss</td><td>0.00341</td></tr><tr><td>train_loss</td><td>0.00608</td></tr><tr><td>val_acc</td><td>91.63333</td></tr></table><br/></div></div>"
      ],
      "text/plain": [
       "<IPython.core.display.HTML object>"
      ]
     },
     "metadata": {},
     "output_type": "display_data"
    },
    {
     "data": {
      "text/html": [
       "Synced <strong style=\"color:#cdcd00\">vibrant-sweep-112</strong>: <a href=\"https://wandb.ai/maiquanh/quanh/runs/6p2bmbft\" target=\"_blank\">https://wandb.ai/maiquanh/quanh/runs/6p2bmbft</a><br/>Synced 6 W&B file(s), 0 media file(s), 0 artifact file(s) and 0 other file(s)"
      ],
      "text/plain": [
       "<IPython.core.display.HTML object>"
      ]
     },
     "metadata": {},
     "output_type": "display_data"
    },
    {
     "data": {
      "text/html": [
       "Find logs at: <code>./wandb/run-20221019_152950-6p2bmbft/logs</code>"
      ],
      "text/plain": [
       "<IPython.core.display.HTML object>"
      ]
     },
     "metadata": {},
     "output_type": "display_data"
    },
    {
     "name": "stderr",
     "output_type": "stream",
     "text": [
      "\u001b[34m\u001b[1mwandb\u001b[0m: Agent Starting Run: rn7t3shy with config:\n",
      "\u001b[34m\u001b[1mwandb\u001b[0m: \tbatch_size: 128\n",
      "\u001b[34m\u001b[1mwandb\u001b[0m: \td_hidden: 3\n",
      "\u001b[34m\u001b[1mwandb\u001b[0m: \tdata_dir: /home/quanhhh/Documents/model/pickle/\n",
      "\u001b[34m\u001b[1mwandb\u001b[0m: \tdropout: 0.19586120551875463\n",
      "\u001b[34m\u001b[1mwandb\u001b[0m: \tkernel_size_1: 90\n",
      "\u001b[34m\u001b[1mwandb\u001b[0m: \tkernel_size_2: 5\n",
      "\u001b[34m\u001b[1mwandb\u001b[0m: \tlr: 0.00038423632020355577\n",
      "\u001b[34m\u001b[1mwandb\u001b[0m: \tmaxpool_1: 3\n",
      "\u001b[34m\u001b[1mwandb\u001b[0m: \tmaxpool_2: 5\n",
      "\u001b[34m\u001b[1mwandb\u001b[0m: \tnum_epoch: 91\n",
      "\u001b[34m\u001b[1mwandb\u001b[0m: \tnum_filters: 20\n",
      "\u001b[34m\u001b[1mwandb\u001b[0m: \tnum_layers: 4\n",
      "\u001b[34m\u001b[1mwandb\u001b[0m: \tresult_dir: /home/quanhhh/Documents/model/result_wandb/\n",
      "\u001b[34m\u001b[1mwandb\u001b[0m: \tstride_1: 4\n",
      "\u001b[34m\u001b[1mwandb\u001b[0m: \tstride_2: 6\n",
      "\u001b[34m\u001b[1mwandb\u001b[0m: \tweight_decay: 0.0002687121438702694\n"
     ]
    },
    {
     "data": {
      "text/html": [
       "Tracking run with wandb version 0.13.4"
      ],
      "text/plain": [
       "<IPython.core.display.HTML object>"
      ]
     },
     "metadata": {},
     "output_type": "display_data"
    },
    {
     "data": {
      "text/html": [
       "Run data is saved locally in <code>/home/quanhhh/Documents/model/wandb/run-20221019_153505-rn7t3shy</code>"
      ],
      "text/plain": [
       "<IPython.core.display.HTML object>"
      ]
     },
     "metadata": {},
     "output_type": "display_data"
    },
    {
     "data": {
      "text/html": [
       "Syncing run <strong><a href=\"https://wandb.ai/maiquanh/quanh/runs/rn7t3shy\" target=\"_blank\">gallant-sweep-113</a></strong> to <a href=\"https://wandb.ai/maiquanh/quanh\" target=\"_blank\">Weights & Biases</a> (<a href=\"https://wandb.me/run\" target=\"_blank\">docs</a>)<br/>Sweep page:  <a href=\"https://wandb.ai/maiquanh/quanh/sweeps/8p4zr03y\" target=\"_blank\">https://wandb.ai/maiquanh/quanh/sweeps/8p4zr03y</a>"
      ],
      "text/plain": [
       "<IPython.core.display.HTML object>"
      ]
     },
     "metadata": {},
     "output_type": "display_data"
    },
    {
     "name": "stdout",
     "output_type": "stream",
     "text": [
      "-----START TRAINING CLASSIFICATION-----\n",
      "Epoch: 91\t| Train_loss: 0.005847\t|Train accuracy: 99.498813\t| Test_loss: 0.003300\t|Test accuracy: 95.068611\t|Val accuracy: 89.500000 \n",
      "\n",
      "----COMPLETED TRAINING CLASSIFICATION-----\n",
      "val_acc 89.5\n",
      "ok\n"
     ]
    },
    {
     "data": {
      "text/html": [
       "Waiting for W&B process to finish... <strong style=\"color:green\">(success).</strong>"
      ],
      "text/plain": [
       "<IPython.core.display.HTML object>"
      ]
     },
     "metadata": {},
     "output_type": "display_data"
    },
    {
     "data": {
      "text/html": [
       "<style>\n",
       "    table.wandb td:nth-child(1) { padding: 0 10px; text-align: left ; width: auto;} td:nth-child(2) {text-align: left ; width: 100%}\n",
       "    .wandb-row { display: flex; flex-direction: row; flex-wrap: wrap; justify-content: flex-start; width: 100% }\n",
       "    .wandb-col { display: flex; flex-direction: column; flex-basis: 100%; flex: 1; padding: 10px; }\n",
       "    </style>\n",
       "<div class=\"wandb-row\"><div class=\"wandb-col\"><h3>Run history:</h3><br/><table class=\"wandb\"><tr><td>test_loss</td><td>██▆▆▅▅▅▅▄▃▃▃▂▃▂▂▃▂▂▂▂▁▂▁▂▁▁▂▂▃▁▁▁▁▁▁▁▁▁▁</td></tr><tr><td>train_loss</td><td>██▆▅▅▄▄▄▃▃▂▂▂▂▂▂▁▁▁▁▁▁▁▁▁▁▁▁▁▁▁▁▁▁▁▁▁▁▁▁</td></tr><tr><td>val_acc</td><td>▁</td></tr></table><br/></div><div class=\"wandb-col\"><h3>Run summary:</h3><br/><table class=\"wandb\"><tr><td>test_loss</td><td>0.0033</td></tr><tr><td>train_loss</td><td>0.00585</td></tr><tr><td>val_acc</td><td>92.7</td></tr></table><br/></div></div>"
      ],
      "text/plain": [
       "<IPython.core.display.HTML object>"
      ]
     },
     "metadata": {},
     "output_type": "display_data"
    },
    {
     "data": {
      "text/html": [
       "Synced <strong style=\"color:#cdcd00\">gallant-sweep-113</strong>: <a href=\"https://wandb.ai/maiquanh/quanh/runs/rn7t3shy\" target=\"_blank\">https://wandb.ai/maiquanh/quanh/runs/rn7t3shy</a><br/>Synced 6 W&B file(s), 0 media file(s), 0 artifact file(s) and 0 other file(s)"
      ],
      "text/plain": [
       "<IPython.core.display.HTML object>"
      ]
     },
     "metadata": {},
     "output_type": "display_data"
    },
    {
     "data": {
      "text/html": [
       "Find logs at: <code>./wandb/run-20221019_153505-rn7t3shy/logs</code>"
      ],
      "text/plain": [
       "<IPython.core.display.HTML object>"
      ]
     },
     "metadata": {},
     "output_type": "display_data"
    },
    {
     "name": "stderr",
     "output_type": "stream",
     "text": [
      "\u001b[34m\u001b[1mwandb\u001b[0m: Agent Starting Run: yfgztkip with config:\n",
      "\u001b[34m\u001b[1mwandb\u001b[0m: \tbatch_size: 128\n",
      "\u001b[34m\u001b[1mwandb\u001b[0m: \td_hidden: 3\n",
      "\u001b[34m\u001b[1mwandb\u001b[0m: \tdata_dir: /home/quanhhh/Documents/model/pickle/\n",
      "\u001b[34m\u001b[1mwandb\u001b[0m: \tdropout: 0.1854886193243507\n",
      "\u001b[34m\u001b[1mwandb\u001b[0m: \tkernel_size_1: 80\n",
      "\u001b[34m\u001b[1mwandb\u001b[0m: \tkernel_size_2: 7\n",
      "\u001b[34m\u001b[1mwandb\u001b[0m: \tlr: 0.0014426748927819403\n",
      "\u001b[34m\u001b[1mwandb\u001b[0m: \tmaxpool_1: 8\n",
      "\u001b[34m\u001b[1mwandb\u001b[0m: \tmaxpool_2: 3\n",
      "\u001b[34m\u001b[1mwandb\u001b[0m: \tnum_epoch: 92\n",
      "\u001b[34m\u001b[1mwandb\u001b[0m: \tnum_filters: 50\n",
      "\u001b[34m\u001b[1mwandb\u001b[0m: \tnum_layers: 3\n",
      "\u001b[34m\u001b[1mwandb\u001b[0m: \tresult_dir: /home/quanhhh/Documents/model/result_wandb/\n",
      "\u001b[34m\u001b[1mwandb\u001b[0m: \tstride_1: 6\n",
      "\u001b[34m\u001b[1mwandb\u001b[0m: \tstride_2: 5\n",
      "\u001b[34m\u001b[1mwandb\u001b[0m: \tweight_decay: 0.00010961399873424684\n"
     ]
    },
    {
     "data": {
      "text/html": [
       "Tracking run with wandb version 0.13.4"
      ],
      "text/plain": [
       "<IPython.core.display.HTML object>"
      ]
     },
     "metadata": {},
     "output_type": "display_data"
    },
    {
     "data": {
      "text/html": [
       "Run data is saved locally in <code>/home/quanhhh/Documents/model/wandb/run-20221019_153813-yfgztkip</code>"
      ],
      "text/plain": [
       "<IPython.core.display.HTML object>"
      ]
     },
     "metadata": {},
     "output_type": "display_data"
    },
    {
     "data": {
      "text/html": [
       "Syncing run <strong><a href=\"https://wandb.ai/maiquanh/quanh/runs/yfgztkip\" target=\"_blank\">unique-sweep-114</a></strong> to <a href=\"https://wandb.ai/maiquanh/quanh\" target=\"_blank\">Weights & Biases</a> (<a href=\"https://wandb.me/run\" target=\"_blank\">docs</a>)<br/>Sweep page:  <a href=\"https://wandb.ai/maiquanh/quanh/sweeps/8p4zr03y\" target=\"_blank\">https://wandb.ai/maiquanh/quanh/sweeps/8p4zr03y</a>"
      ],
      "text/plain": [
       "<IPython.core.display.HTML object>"
      ]
     },
     "metadata": {},
     "output_type": "display_data"
    },
    {
     "name": "stdout",
     "output_type": "stream",
     "text": [
      "-----START TRAINING CLASSIFICATION-----\n",
      "Epoch: 92\t| Train_loss: 0.005704\t|Train accuracy: 97.863361\t| Test_loss: 0.003230\t|Test accuracy: 91.552316\t|Val accuracy: 88.000000 \n",
      "\n",
      "----COMPLETED TRAINING CLASSIFICATION-----\n",
      "val_acc 88.0\n",
      "ok\n"
     ]
    },
    {
     "data": {
      "text/html": [
       "Waiting for W&B process to finish... <strong style=\"color:green\">(success).</strong>"
      ],
      "text/plain": [
       "<IPython.core.display.HTML object>"
      ]
     },
     "metadata": {},
     "output_type": "display_data"
    },
    {
     "data": {
      "text/html": [
       "<style>\n",
       "    table.wandb td:nth-child(1) { padding: 0 10px; text-align: left ; width: auto;} td:nth-child(2) {text-align: left ; width: 100%}\n",
       "    .wandb-row { display: flex; flex-direction: row; flex-wrap: wrap; justify-content: flex-start; width: 100% }\n",
       "    .wandb-col { display: flex; flex-direction: column; flex-basis: 100%; flex: 1; padding: 10px; }\n",
       "    </style>\n",
       "<div class=\"wandb-row\"><div class=\"wandb-col\"><h3>Run history:</h3><br/><table class=\"wandb\"><tr><td>test_loss</td><td>█▆▅▃▃▃▃▅▃▃▃▂▃▃▂▃▂▃▁▂▃▁▃▃▃▃▃▂▃▂▁▂▂▃▁▁▂▁▁▁</td></tr><tr><td>train_loss</td><td>█▅▃▂▁▁▁▂▁▁▁▁▁▁▁▁▁▁▁▁▁▁▁▁▁▁▁▁▁▁▁▁▁▁▁▁▁▁▁▁</td></tr><tr><td>val_acc</td><td>▁</td></tr></table><br/></div><div class=\"wandb-col\"><h3>Run summary:</h3><br/><table class=\"wandb\"><tr><td>test_loss</td><td>0.00323</td></tr><tr><td>train_loss</td><td>0.0057</td></tr><tr><td>val_acc</td><td>94.06667</td></tr></table><br/></div></div>"
      ],
      "text/plain": [
       "<IPython.core.display.HTML object>"
      ]
     },
     "metadata": {},
     "output_type": "display_data"
    },
    {
     "data": {
      "text/html": [
       "Synced <strong style=\"color:#cdcd00\">unique-sweep-114</strong>: <a href=\"https://wandb.ai/maiquanh/quanh/runs/yfgztkip\" target=\"_blank\">https://wandb.ai/maiquanh/quanh/runs/yfgztkip</a><br/>Synced 6 W&B file(s), 0 media file(s), 0 artifact file(s) and 0 other file(s)"
      ],
      "text/plain": [
       "<IPython.core.display.HTML object>"
      ]
     },
     "metadata": {},
     "output_type": "display_data"
    },
    {
     "data": {
      "text/html": [
       "Find logs at: <code>./wandb/run-20221019_153813-yfgztkip/logs</code>"
      ],
      "text/plain": [
       "<IPython.core.display.HTML object>"
      ]
     },
     "metadata": {},
     "output_type": "display_data"
    },
    {
     "name": "stderr",
     "output_type": "stream",
     "text": [
      "\u001b[34m\u001b[1mwandb\u001b[0m: Agent Starting Run: 49vf9wug with config:\n",
      "\u001b[34m\u001b[1mwandb\u001b[0m: \tbatch_size: 128\n",
      "\u001b[34m\u001b[1mwandb\u001b[0m: \td_hidden: 3\n",
      "\u001b[34m\u001b[1mwandb\u001b[0m: \tdata_dir: /home/quanhhh/Documents/model/pickle/\n",
      "\u001b[34m\u001b[1mwandb\u001b[0m: \tdropout: 0.17348838761139546\n",
      "\u001b[34m\u001b[1mwandb\u001b[0m: \tkernel_size_1: 56\n",
      "\u001b[34m\u001b[1mwandb\u001b[0m: \tkernel_size_2: 8\n",
      "\u001b[34m\u001b[1mwandb\u001b[0m: \tlr: 0.0020070915060684067\n",
      "\u001b[34m\u001b[1mwandb\u001b[0m: \tmaxpool_1: 6\n",
      "\u001b[34m\u001b[1mwandb\u001b[0m: \tmaxpool_2: 8\n",
      "\u001b[34m\u001b[1mwandb\u001b[0m: \tnum_epoch: 81\n",
      "\u001b[34m\u001b[1mwandb\u001b[0m: \tnum_filters: 35\n",
      "\u001b[34m\u001b[1mwandb\u001b[0m: \tnum_layers: 2\n",
      "\u001b[34m\u001b[1mwandb\u001b[0m: \tresult_dir: /home/quanhhh/Documents/model/result_wandb/\n",
      "\u001b[34m\u001b[1mwandb\u001b[0m: \tstride_1: 7\n",
      "\u001b[34m\u001b[1mwandb\u001b[0m: \tstride_2: 7\n",
      "\u001b[34m\u001b[1mwandb\u001b[0m: \tweight_decay: 0.00018746374220582015\n"
     ]
    },
    {
     "data": {
      "text/html": [
       "Tracking run with wandb version 0.13.4"
      ],
      "text/plain": [
       "<IPython.core.display.HTML object>"
      ]
     },
     "metadata": {},
     "output_type": "display_data"
    },
    {
     "data": {
      "text/html": [
       "Run data is saved locally in <code>/home/quanhhh/Documents/model/wandb/run-20221019_154147-49vf9wug</code>"
      ],
      "text/plain": [
       "<IPython.core.display.HTML object>"
      ]
     },
     "metadata": {},
     "output_type": "display_data"
    },
    {
     "data": {
      "text/html": [
       "Syncing run <strong><a href=\"https://wandb.ai/maiquanh/quanh/runs/49vf9wug\" target=\"_blank\">trim-sweep-115</a></strong> to <a href=\"https://wandb.ai/maiquanh/quanh\" target=\"_blank\">Weights & Biases</a> (<a href=\"https://wandb.me/run\" target=\"_blank\">docs</a>)<br/>Sweep page:  <a href=\"https://wandb.ai/maiquanh/quanh/sweeps/8p4zr03y\" target=\"_blank\">https://wandb.ai/maiquanh/quanh/sweeps/8p4zr03y</a>"
      ],
      "text/plain": [
       "<IPython.core.display.HTML object>"
      ]
     },
     "metadata": {},
     "output_type": "display_data"
    },
    {
     "name": "stdout",
     "output_type": "stream",
     "text": [
      "-----START TRAINING CLASSIFICATION-----\n",
      "Epoch: 81\t| Train_loss: 0.005651\t|Train accuracy: 98.140332\t| Test_loss: 0.003526\t|Test accuracy: 82.204117\t|Val accuracy: 86.366669 \n",
      "\n",
      "----COMPLETED TRAINING CLASSIFICATION-----\n",
      "val_acc 86.36666870117188\n",
      "ok\n"
     ]
    },
    {
     "data": {
      "text/html": [
       "Waiting for W&B process to finish... <strong style=\"color:green\">(success).</strong>"
      ],
      "text/plain": [
       "<IPython.core.display.HTML object>"
      ]
     },
     "metadata": {},
     "output_type": "display_data"
    },
    {
     "data": {
      "text/html": [
       "<style>\n",
       "    table.wandb td:nth-child(1) { padding: 0 10px; text-align: left ; width: auto;} td:nth-child(2) {text-align: left ; width: 100%}\n",
       "    .wandb-row { display: flex; flex-direction: row; flex-wrap: wrap; justify-content: flex-start; width: 100% }\n",
       "    .wandb-col { display: flex; flex-direction: column; flex-basis: 100%; flex: 1; padding: 10px; }\n",
       "    </style>\n",
       "<div class=\"wandb-row\"><div class=\"wandb-col\"><h3>Run history:</h3><br/><table class=\"wandb\"><tr><td>test_loss</td><td>█▃▃▄▄▂▂▃▂▃▃▃▃▄▂▃▁▁▃▂▃▃▃▄▃▃▃▃▃▂▂▃▃▃▃▃▃▂▃▃</td></tr><tr><td>train_loss</td><td>█▄▃▂▂▂▁▁▁▁▁▁▁▁▁▁▁▁▁▁▁▁▁▁▁▁▁▁▁▁▁▁▁▁▁▁▁▁▁▁</td></tr><tr><td>val_acc</td><td>▁</td></tr></table><br/></div><div class=\"wandb-col\"><h3>Run summary:</h3><br/><table class=\"wandb\"><tr><td>test_loss</td><td>0.00353</td></tr><tr><td>train_loss</td><td>0.00565</td></tr><tr><td>val_acc</td><td>91.06667</td></tr></table><br/></div></div>"
      ],
      "text/plain": [
       "<IPython.core.display.HTML object>"
      ]
     },
     "metadata": {},
     "output_type": "display_data"
    },
    {
     "data": {
      "text/html": [
       "Synced <strong style=\"color:#cdcd00\">trim-sweep-115</strong>: <a href=\"https://wandb.ai/maiquanh/quanh/runs/49vf9wug\" target=\"_blank\">https://wandb.ai/maiquanh/quanh/runs/49vf9wug</a><br/>Synced 6 W&B file(s), 0 media file(s), 0 artifact file(s) and 0 other file(s)"
      ],
      "text/plain": [
       "<IPython.core.display.HTML object>"
      ]
     },
     "metadata": {},
     "output_type": "display_data"
    },
    {
     "data": {
      "text/html": [
       "Find logs at: <code>./wandb/run-20221019_154147-49vf9wug/logs</code>"
      ],
      "text/plain": [
       "<IPython.core.display.HTML object>"
      ]
     },
     "metadata": {},
     "output_type": "display_data"
    },
    {
     "name": "stderr",
     "output_type": "stream",
     "text": [
      "\u001b[34m\u001b[1mwandb\u001b[0m: Sweep Agent: Waiting for job.\n",
      "\u001b[34m\u001b[1mwandb\u001b[0m: Job received.\n",
      "\u001b[34m\u001b[1mwandb\u001b[0m: Agent Starting Run: ft471hw8 with config:\n",
      "\u001b[34m\u001b[1mwandb\u001b[0m: \tbatch_size: 128\n",
      "\u001b[34m\u001b[1mwandb\u001b[0m: \td_hidden: 3\n",
      "\u001b[34m\u001b[1mwandb\u001b[0m: \tdata_dir: /home/quanhhh/Documents/model/pickle/\n",
      "\u001b[34m\u001b[1mwandb\u001b[0m: \tdropout: 0.10783804483575672\n",
      "\u001b[34m\u001b[1mwandb\u001b[0m: \tkernel_size_1: 89\n",
      "\u001b[34m\u001b[1mwandb\u001b[0m: \tkernel_size_2: 8\n",
      "\u001b[34m\u001b[1mwandb\u001b[0m: \tlr: 0.00028545643061484447\n",
      "\u001b[34m\u001b[1mwandb\u001b[0m: \tmaxpool_1: 3\n",
      "\u001b[34m\u001b[1mwandb\u001b[0m: \tmaxpool_2: 4\n",
      "\u001b[34m\u001b[1mwandb\u001b[0m: \tnum_epoch: 90\n",
      "\u001b[34m\u001b[1mwandb\u001b[0m: \tnum_filters: 20\n",
      "\u001b[34m\u001b[1mwandb\u001b[0m: \tnum_layers: 3\n",
      "\u001b[34m\u001b[1mwandb\u001b[0m: \tresult_dir: /home/quanhhh/Documents/model/result_wandb/\n",
      "\u001b[34m\u001b[1mwandb\u001b[0m: \tstride_1: 5\n",
      "\u001b[34m\u001b[1mwandb\u001b[0m: \tstride_2: 3\n",
      "\u001b[34m\u001b[1mwandb\u001b[0m: \tweight_decay: 0.0001221704155237247\n"
     ]
    },
    {
     "data": {
      "text/html": [
       "Tracking run with wandb version 0.13.4"
      ],
      "text/plain": [
       "<IPython.core.display.HTML object>"
      ]
     },
     "metadata": {},
     "output_type": "display_data"
    },
    {
     "data": {
      "text/html": [
       "Run data is saved locally in <code>/home/quanhhh/Documents/model/wandb/run-20221019_154417-ft471hw8</code>"
      ],
      "text/plain": [
       "<IPython.core.display.HTML object>"
      ]
     },
     "metadata": {},
     "output_type": "display_data"
    },
    {
     "data": {
      "text/html": [
       "Syncing run <strong><a href=\"https://wandb.ai/maiquanh/quanh/runs/ft471hw8\" target=\"_blank\">chocolate-sweep-116</a></strong> to <a href=\"https://wandb.ai/maiquanh/quanh\" target=\"_blank\">Weights & Biases</a> (<a href=\"https://wandb.me/run\" target=\"_blank\">docs</a>)<br/>Sweep page:  <a href=\"https://wandb.ai/maiquanh/quanh/sweeps/8p4zr03y\" target=\"_blank\">https://wandb.ai/maiquanh/quanh/sweeps/8p4zr03y</a>"
      ],
      "text/plain": [
       "<IPython.core.display.HTML object>"
      ]
     },
     "metadata": {},
     "output_type": "display_data"
    },
    {
     "name": "stdout",
     "output_type": "stream",
     "text": [
      "-----START TRAINING CLASSIFICATION-----\n",
      "Epoch: 90\t| Train_loss: 0.005845\t|Train accuracy: 99.116328\t| Test_loss: 0.003387\t|Test accuracy: 92.538593\t|Val accuracy: 87.133331 \n",
      "\n",
      "----COMPLETED TRAINING CLASSIFICATION-----\n",
      "val_acc 87.13333129882812\n",
      "ok\n"
     ]
    },
    {
     "data": {
      "text/html": [
       "Waiting for W&B process to finish... <strong style=\"color:green\">(success).</strong>"
      ],
      "text/plain": [
       "<IPython.core.display.HTML object>"
      ]
     },
     "metadata": {},
     "output_type": "display_data"
    },
    {
     "data": {
      "text/html": [
       "<style>\n",
       "    table.wandb td:nth-child(1) { padding: 0 10px; text-align: left ; width: auto;} td:nth-child(2) {text-align: left ; width: 100%}\n",
       "    .wandb-row { display: flex; flex-direction: row; flex-wrap: wrap; justify-content: flex-start; width: 100% }\n",
       "    .wandb-col { display: flex; flex-direction: column; flex-basis: 100%; flex: 1; padding: 10px; }\n",
       "    </style>\n",
       "<div class=\"wandb-row\"><div class=\"wandb-col\"><h3>Run history:</h3><br/><table class=\"wandb\"><tr><td>test_loss</td><td>███▇▆▆▆▆▆▅▆▅▅▅▄▃▃▃▃▂▂▂▃▂▃▂▂▁▁▂▁▂▂▁▁▁▁▁▁▁</td></tr><tr><td>train_loss</td><td>███▇▆▅▅▅▄▄▄▄▄▄▃▂▂▂▂▂▂▂▁▁▁▁▁▁▁▁▁▁▁▁▁▁▁▁▁▁</td></tr><tr><td>val_acc</td><td>▁</td></tr></table><br/></div><div class=\"wandb-col\"><h3>Run summary:</h3><br/><table class=\"wandb\"><tr><td>test_loss</td><td>0.00339</td></tr><tr><td>train_loss</td><td>0.00584</td></tr><tr><td>val_acc</td><td>93.33334</td></tr></table><br/></div></div>"
      ],
      "text/plain": [
       "<IPython.core.display.HTML object>"
      ]
     },
     "metadata": {},
     "output_type": "display_data"
    },
    {
     "data": {
      "text/html": [
       "Synced <strong style=\"color:#cdcd00\">chocolate-sweep-116</strong>: <a href=\"https://wandb.ai/maiquanh/quanh/runs/ft471hw8\" target=\"_blank\">https://wandb.ai/maiquanh/quanh/runs/ft471hw8</a><br/>Synced 6 W&B file(s), 0 media file(s), 0 artifact file(s) and 0 other file(s)"
      ],
      "text/plain": [
       "<IPython.core.display.HTML object>"
      ]
     },
     "metadata": {},
     "output_type": "display_data"
    },
    {
     "data": {
      "text/html": [
       "Find logs at: <code>./wandb/run-20221019_154417-ft471hw8/logs</code>"
      ],
      "text/plain": [
       "<IPython.core.display.HTML object>"
      ]
     },
     "metadata": {},
     "output_type": "display_data"
    },
    {
     "name": "stderr",
     "output_type": "stream",
     "text": [
      "\u001b[34m\u001b[1mwandb\u001b[0m: Agent Starting Run: bjwtc73i with config:\n",
      "\u001b[34m\u001b[1mwandb\u001b[0m: \tbatch_size: 128\n",
      "\u001b[34m\u001b[1mwandb\u001b[0m: \td_hidden: 3\n",
      "\u001b[34m\u001b[1mwandb\u001b[0m: \tdata_dir: /home/quanhhh/Documents/model/pickle/\n",
      "\u001b[34m\u001b[1mwandb\u001b[0m: \tdropout: 0.10956378882294587\n",
      "\u001b[34m\u001b[1mwandb\u001b[0m: \tkernel_size_1: 71\n",
      "\u001b[34m\u001b[1mwandb\u001b[0m: \tkernel_size_2: 4\n",
      "\u001b[34m\u001b[1mwandb\u001b[0m: \tlr: 0.0009121742753756368\n",
      "\u001b[34m\u001b[1mwandb\u001b[0m: \tmaxpool_1: 6\n",
      "\u001b[34m\u001b[1mwandb\u001b[0m: \tmaxpool_2: 5\n",
      "\u001b[34m\u001b[1mwandb\u001b[0m: \tnum_epoch: 100\n",
      "\u001b[34m\u001b[1mwandb\u001b[0m: \tnum_filters: 28\n",
      "\u001b[34m\u001b[1mwandb\u001b[0m: \tnum_layers: 4\n",
      "\u001b[34m\u001b[1mwandb\u001b[0m: \tresult_dir: /home/quanhhh/Documents/model/result_wandb/\n",
      "\u001b[34m\u001b[1mwandb\u001b[0m: \tstride_1: 3\n",
      "\u001b[34m\u001b[1mwandb\u001b[0m: \tstride_2: 9\n",
      "\u001b[34m\u001b[1mwandb\u001b[0m: \tweight_decay: 0.0001231820992798437\n"
     ]
    },
    {
     "data": {
      "text/html": [
       "Tracking run with wandb version 0.13.4"
      ],
      "text/plain": [
       "<IPython.core.display.HTML object>"
      ]
     },
     "metadata": {},
     "output_type": "display_data"
    },
    {
     "data": {
      "text/html": [
       "Run data is saved locally in <code>/home/quanhhh/Documents/model/wandb/run-20221019_154707-bjwtc73i</code>"
      ],
      "text/plain": [
       "<IPython.core.display.HTML object>"
      ]
     },
     "metadata": {},
     "output_type": "display_data"
    },
    {
     "data": {
      "text/html": [
       "Syncing run <strong><a href=\"https://wandb.ai/maiquanh/quanh/runs/bjwtc73i\" target=\"_blank\">valiant-sweep-117</a></strong> to <a href=\"https://wandb.ai/maiquanh/quanh\" target=\"_blank\">Weights & Biases</a> (<a href=\"https://wandb.me/run\" target=\"_blank\">docs</a>)<br/>Sweep page:  <a href=\"https://wandb.ai/maiquanh/quanh/sweeps/8p4zr03y\" target=\"_blank\">https://wandb.ai/maiquanh/quanh/sweeps/8p4zr03y</a>"
      ],
      "text/plain": [
       "<IPython.core.display.HTML object>"
      ]
     },
     "metadata": {},
     "output_type": "display_data"
    },
    {
     "name": "stdout",
     "output_type": "stream",
     "text": [
      "-----START TRAINING CLASSIFICATION-----\n",
      "Epoch: 100\t| Train_loss: 0.005579\t|Train accuracy: 99.525191\t| Test_loss: 0.003224\t|Test accuracy: 93.867925\t|Val accuracy: 92.133331 \n",
      "\n",
      "----COMPLETED TRAINING CLASSIFICATION-----\n",
      "val_acc 92.13333129882812\n",
      "ok\n"
     ]
    },
    {
     "data": {
      "text/html": [
       "Waiting for W&B process to finish... <strong style=\"color:green\">(success).</strong>"
      ],
      "text/plain": [
       "<IPython.core.display.HTML object>"
      ]
     },
     "metadata": {},
     "output_type": "display_data"
    },
    {
     "data": {
      "text/html": [
       "<style>\n",
       "    table.wandb td:nth-child(1) { padding: 0 10px; text-align: left ; width: auto;} td:nth-child(2) {text-align: left ; width: 100%}\n",
       "    .wandb-row { display: flex; flex-direction: row; flex-wrap: wrap; justify-content: flex-start; width: 100% }\n",
       "    .wandb-col { display: flex; flex-direction: column; flex-basis: 100%; flex: 1; padding: 10px; }\n",
       "    </style>\n",
       "<div class=\"wandb-row\"><div class=\"wandb-col\"><h3>Run history:</h3><br/><table class=\"wandb\"><tr><td>test_loss</td><td>█▆▄▃▃▂▃▂▃▂▂▁▂▁▁▁▂▂▁▃▂▁▂▂▁▁▁▁▁▁▁▃▁▁▁▁▁▁▁▁</td></tr><tr><td>train_loss</td><td>█▆▃▂▂▂▂▂▁▁▁▁▁▁▁▁▁▁▁▁▁▁▂▁▁▁▁▁▁▁▁▁▁▁▁▁▁▁▁▁</td></tr><tr><td>val_acc</td><td>▁</td></tr></table><br/></div><div class=\"wandb-col\"><h3>Run summary:</h3><br/><table class=\"wandb\"><tr><td>test_loss</td><td>0.00322</td></tr><tr><td>train_loss</td><td>0.00558</td></tr><tr><td>val_acc</td><td>96.03333</td></tr></table><br/></div></div>"
      ],
      "text/plain": [
       "<IPython.core.display.HTML object>"
      ]
     },
     "metadata": {},
     "output_type": "display_data"
    },
    {
     "data": {
      "text/html": [
       "Synced <strong style=\"color:#cdcd00\">valiant-sweep-117</strong>: <a href=\"https://wandb.ai/maiquanh/quanh/runs/bjwtc73i\" target=\"_blank\">https://wandb.ai/maiquanh/quanh/runs/bjwtc73i</a><br/>Synced 6 W&B file(s), 0 media file(s), 0 artifact file(s) and 0 other file(s)"
      ],
      "text/plain": [
       "<IPython.core.display.HTML object>"
      ]
     },
     "metadata": {},
     "output_type": "display_data"
    },
    {
     "data": {
      "text/html": [
       "Find logs at: <code>./wandb/run-20221019_154707-bjwtc73i/logs</code>"
      ],
      "text/plain": [
       "<IPython.core.display.HTML object>"
      ]
     },
     "metadata": {},
     "output_type": "display_data"
    },
    {
     "name": "stderr",
     "output_type": "stream",
     "text": [
      "\u001b[34m\u001b[1mwandb\u001b[0m: Agent Starting Run: 49kajkre with config:\n",
      "\u001b[34m\u001b[1mwandb\u001b[0m: \tbatch_size: 128\n",
      "\u001b[34m\u001b[1mwandb\u001b[0m: \td_hidden: 3\n",
      "\u001b[34m\u001b[1mwandb\u001b[0m: \tdata_dir: /home/quanhhh/Documents/model/pickle/\n",
      "\u001b[34m\u001b[1mwandb\u001b[0m: \tdropout: 0.1271250054965402\n",
      "\u001b[34m\u001b[1mwandb\u001b[0m: \tkernel_size_1: 65\n",
      "\u001b[34m\u001b[1mwandb\u001b[0m: \tkernel_size_2: 7\n",
      "\u001b[34m\u001b[1mwandb\u001b[0m: \tlr: 0.0002479931099661219\n",
      "\u001b[34m\u001b[1mwandb\u001b[0m: \tmaxpool_1: 8\n",
      "\u001b[34m\u001b[1mwandb\u001b[0m: \tmaxpool_2: 8\n",
      "\u001b[34m\u001b[1mwandb\u001b[0m: \tnum_epoch: 82\n",
      "\u001b[34m\u001b[1mwandb\u001b[0m: \tnum_filters: 53\n",
      "\u001b[34m\u001b[1mwandb\u001b[0m: \tnum_layers: 4\n",
      "\u001b[34m\u001b[1mwandb\u001b[0m: \tresult_dir: /home/quanhhh/Documents/model/result_wandb/\n",
      "\u001b[34m\u001b[1mwandb\u001b[0m: \tstride_1: 5\n",
      "\u001b[34m\u001b[1mwandb\u001b[0m: \tstride_2: 6\n",
      "\u001b[34m\u001b[1mwandb\u001b[0m: \tweight_decay: 0.00028023529592681017\n"
     ]
    },
    {
     "data": {
      "text/html": [
       "Tracking run with wandb version 0.13.4"
      ],
      "text/plain": [
       "<IPython.core.display.HTML object>"
      ]
     },
     "metadata": {},
     "output_type": "display_data"
    },
    {
     "data": {
      "text/html": [
       "Run data is saved locally in <code>/home/quanhhh/Documents/model/wandb/run-20221019_155115-49kajkre</code>"
      ],
      "text/plain": [
       "<IPython.core.display.HTML object>"
      ]
     },
     "metadata": {},
     "output_type": "display_data"
    },
    {
     "data": {
      "text/html": [
       "Syncing run <strong><a href=\"https://wandb.ai/maiquanh/quanh/runs/49kajkre\" target=\"_blank\">swift-sweep-118</a></strong> to <a href=\"https://wandb.ai/maiquanh/quanh\" target=\"_blank\">Weights & Biases</a> (<a href=\"https://wandb.me/run\" target=\"_blank\">docs</a>)<br/>Sweep page:  <a href=\"https://wandb.ai/maiquanh/quanh/sweeps/8p4zr03y\" target=\"_blank\">https://wandb.ai/maiquanh/quanh/sweeps/8p4zr03y</a>"
      ],
      "text/plain": [
       "<IPython.core.display.HTML object>"
      ]
     },
     "metadata": {},
     "output_type": "display_data"
    },
    {
     "name": "stdout",
     "output_type": "stream",
     "text": [
      "-----START TRAINING CLASSIFICATION-----\n",
      "Epoch: 82\t| Train_loss: 0.005818\t|Train accuracy: 97.375363\t| Test_loss: 0.003652\t|Test accuracy: 78.687822\t|Val accuracy: 80.133331 \n",
      "\n",
      "----COMPLETED TRAINING CLASSIFICATION-----\n",
      "val_acc 80.13333129882812\n",
      "ok\n"
     ]
    },
    {
     "data": {
      "text/html": [
       "Waiting for W&B process to finish... <strong style=\"color:green\">(success).</strong>"
      ],
      "text/plain": [
       "<IPython.core.display.HTML object>"
      ]
     },
     "metadata": {},
     "output_type": "display_data"
    },
    {
     "data": {
      "text/html": [
       "<style>\n",
       "    table.wandb td:nth-child(1) { padding: 0 10px; text-align: left ; width: auto;} td:nth-child(2) {text-align: left ; width: 100%}\n",
       "    .wandb-row { display: flex; flex-direction: row; flex-wrap: wrap; justify-content: flex-start; width: 100% }\n",
       "    .wandb-col { display: flex; flex-direction: column; flex-basis: 100%; flex: 1; padding: 10px; }\n",
       "    </style>\n",
       "<div class=\"wandb-row\"><div class=\"wandb-col\"><h3>Run history:</h3><br/><table class=\"wandb\"><tr><td>test_loss</td><td>██▇▇▇▆▆▆▆▆▆▆▇▆▅▅▆▆▅▅▄▄▃▃▃▃▂▃▂▃▃▃▂▂▃▂▂▁▂▃</td></tr><tr><td>train_loss</td><td>██▇▇▆▆▆▆▅▅▅▅▅▄▄▄▄▄▄▃▃▂▂▂▂▂▁▁▁▁▁▁▁▁▁▁▁▁▁▁</td></tr><tr><td>val_acc</td><td>▁</td></tr></table><br/></div><div class=\"wandb-col\"><h3>Run summary:</h3><br/><table class=\"wandb\"><tr><td>test_loss</td><td>0.00365</td></tr><tr><td>train_loss</td><td>0.00582</td></tr><tr><td>val_acc</td><td>83.83334</td></tr></table><br/></div></div>"
      ],
      "text/plain": [
       "<IPython.core.display.HTML object>"
      ]
     },
     "metadata": {},
     "output_type": "display_data"
    },
    {
     "data": {
      "text/html": [
       "Synced <strong style=\"color:#cdcd00\">swift-sweep-118</strong>: <a href=\"https://wandb.ai/maiquanh/quanh/runs/49kajkre\" target=\"_blank\">https://wandb.ai/maiquanh/quanh/runs/49kajkre</a><br/>Synced 6 W&B file(s), 0 media file(s), 0 artifact file(s) and 0 other file(s)"
      ],
      "text/plain": [
       "<IPython.core.display.HTML object>"
      ]
     },
     "metadata": {},
     "output_type": "display_data"
    },
    {
     "data": {
      "text/html": [
       "Find logs at: <code>./wandb/run-20221019_155115-49kajkre/logs</code>"
      ],
      "text/plain": [
       "<IPython.core.display.HTML object>"
      ]
     },
     "metadata": {},
     "output_type": "display_data"
    },
    {
     "name": "stderr",
     "output_type": "stream",
     "text": [
      "\u001b[34m\u001b[1mwandb\u001b[0m: Sweep Agent: Waiting for job.\n",
      "\u001b[34m\u001b[1mwandb\u001b[0m: Job received.\n",
      "\u001b[34m\u001b[1mwandb\u001b[0m: Agent Starting Run: n5bpwfml with config:\n",
      "\u001b[34m\u001b[1mwandb\u001b[0m: \tbatch_size: 128\n",
      "\u001b[34m\u001b[1mwandb\u001b[0m: \td_hidden: 3\n",
      "\u001b[34m\u001b[1mwandb\u001b[0m: \tdata_dir: /home/quanhhh/Documents/model/pickle/\n",
      "\u001b[34m\u001b[1mwandb\u001b[0m: \tdropout: 0.16211782287787213\n",
      "\u001b[34m\u001b[1mwandb\u001b[0m: \tkernel_size_1: 84\n",
      "\u001b[34m\u001b[1mwandb\u001b[0m: \tkernel_size_2: 4\n",
      "\u001b[34m\u001b[1mwandb\u001b[0m: \tlr: 0.0001311569540858072\n",
      "\u001b[34m\u001b[1mwandb\u001b[0m: \tmaxpool_1: 7\n",
      "\u001b[34m\u001b[1mwandb\u001b[0m: \tmaxpool_2: 6\n",
      "\u001b[34m\u001b[1mwandb\u001b[0m: \tnum_epoch: 100\n",
      "\u001b[34m\u001b[1mwandb\u001b[0m: \tnum_filters: 50\n",
      "\u001b[34m\u001b[1mwandb\u001b[0m: \tnum_layers: 2\n",
      "\u001b[34m\u001b[1mwandb\u001b[0m: \tresult_dir: /home/quanhhh/Documents/model/result_wandb/\n",
      "\u001b[34m\u001b[1mwandb\u001b[0m: \tstride_1: 5\n",
      "\u001b[34m\u001b[1mwandb\u001b[0m: \tstride_2: 5\n",
      "\u001b[34m\u001b[1mwandb\u001b[0m: \tweight_decay: 0.00018570662143401896\n"
     ]
    },
    {
     "data": {
      "text/html": [
       "Tracking run with wandb version 0.13.4"
      ],
      "text/plain": [
       "<IPython.core.display.HTML object>"
      ]
     },
     "metadata": {},
     "output_type": "display_data"
    },
    {
     "data": {
      "text/html": [
       "Run data is saved locally in <code>/home/quanhhh/Documents/model/wandb/run-20221019_155615-n5bpwfml</code>"
      ],
      "text/plain": [
       "<IPython.core.display.HTML object>"
      ]
     },
     "metadata": {},
     "output_type": "display_data"
    },
    {
     "data": {
      "text/html": [
       "Syncing run <strong><a href=\"https://wandb.ai/maiquanh/quanh/runs/n5bpwfml\" target=\"_blank\">honest-sweep-119</a></strong> to <a href=\"https://wandb.ai/maiquanh/quanh\" target=\"_blank\">Weights & Biases</a> (<a href=\"https://wandb.me/run\" target=\"_blank\">docs</a>)<br/>Sweep page:  <a href=\"https://wandb.ai/maiquanh/quanh/sweeps/8p4zr03y\" target=\"_blank\">https://wandb.ai/maiquanh/quanh/sweeps/8p4zr03y</a>"
      ],
      "text/plain": [
       "<IPython.core.display.HTML object>"
      ]
     },
     "metadata": {},
     "output_type": "display_data"
    },
    {
     "name": "stdout",
     "output_type": "stream",
     "text": [
      "-----START TRAINING CLASSIFICATION-----\n",
      "Epoch: 100\t| Train_loss: 0.006466\t|Train accuracy: 97.507254\t| Test_loss: 0.003844\t|Test accuracy: 91.595197\t|Val accuracy: 92.299995 \n",
      "\n",
      "----COMPLETED TRAINING CLASSIFICATION-----\n",
      "val_acc 92.29999542236328\n",
      "ok\n"
     ]
    },
    {
     "data": {
      "text/html": [
       "Waiting for W&B process to finish... <strong style=\"color:green\">(success).</strong>"
      ],
      "text/plain": [
       "<IPython.core.display.HTML object>"
      ]
     },
     "metadata": {},
     "output_type": "display_data"
    },
    {
     "data": {
      "text/html": [
       "<style>\n",
       "    table.wandb td:nth-child(1) { padding: 0 10px; text-align: left ; width: auto;} td:nth-child(2) {text-align: left ; width: 100%}\n",
       "    .wandb-row { display: flex; flex-direction: row; flex-wrap: wrap; justify-content: flex-start; width: 100% }\n",
       "    .wandb-col { display: flex; flex-direction: column; flex-basis: 100%; flex: 1; padding: 10px; }\n",
       "    </style>\n",
       "<div class=\"wandb-row\"><div class=\"wandb-col\"><h3>Run history:</h3><br/><table class=\"wandb\"><tr><td>test_loss</td><td>██▇▇▆▆▅▅▅▅▄▄▄▄▄▄▃▄▃▃▃▃▂▃▂▂▂▂▂▂▂▂▁▃▂▂▂▁▁▂</td></tr><tr><td>train_loss</td><td>██▆▅▄▄▄▄▄▃▃▃▃▂▂▂▂▂▂▂▂▂▂▂▁▁▁▁▁▁▁▁▁▂▁▁▁▁▁▁</td></tr><tr><td>val_acc</td><td>▁</td></tr></table><br/></div><div class=\"wandb-col\"><h3>Run summary:</h3><br/><table class=\"wandb\"><tr><td>test_loss</td><td>0.00384</td></tr><tr><td>train_loss</td><td>0.00647</td></tr><tr><td>val_acc</td><td>92.3</td></tr></table><br/></div></div>"
      ],
      "text/plain": [
       "<IPython.core.display.HTML object>"
      ]
     },
     "metadata": {},
     "output_type": "display_data"
    },
    {
     "data": {
      "text/html": [
       "Synced <strong style=\"color:#cdcd00\">honest-sweep-119</strong>: <a href=\"https://wandb.ai/maiquanh/quanh/runs/n5bpwfml\" target=\"_blank\">https://wandb.ai/maiquanh/quanh/runs/n5bpwfml</a><br/>Synced 6 W&B file(s), 0 media file(s), 0 artifact file(s) and 0 other file(s)"
      ],
      "text/plain": [
       "<IPython.core.display.HTML object>"
      ]
     },
     "metadata": {},
     "output_type": "display_data"
    },
    {
     "data": {
      "text/html": [
       "Find logs at: <code>./wandb/run-20221019_155615-n5bpwfml/logs</code>"
      ],
      "text/plain": [
       "<IPython.core.display.HTML object>"
      ]
     },
     "metadata": {},
     "output_type": "display_data"
    },
    {
     "name": "stderr",
     "output_type": "stream",
     "text": [
      "\u001b[34m\u001b[1mwandb\u001b[0m: Agent Starting Run: q3zqol0z with config:\n",
      "\u001b[34m\u001b[1mwandb\u001b[0m: \tbatch_size: 128\n",
      "\u001b[34m\u001b[1mwandb\u001b[0m: \td_hidden: 3\n",
      "\u001b[34m\u001b[1mwandb\u001b[0m: \tdata_dir: /home/quanhhh/Documents/model/pickle/\n",
      "\u001b[34m\u001b[1mwandb\u001b[0m: \tdropout: 0.17229618848099731\n",
      "\u001b[34m\u001b[1mwandb\u001b[0m: \tkernel_size_1: 79\n",
      "\u001b[34m\u001b[1mwandb\u001b[0m: \tkernel_size_2: 11\n",
      "\u001b[34m\u001b[1mwandb\u001b[0m: \tlr: 0.0005561454370223429\n",
      "\u001b[34m\u001b[1mwandb\u001b[0m: \tmaxpool_1: 7\n",
      "\u001b[34m\u001b[1mwandb\u001b[0m: \tmaxpool_2: 4\n",
      "\u001b[34m\u001b[1mwandb\u001b[0m: \tnum_epoch: 92\n",
      "\u001b[34m\u001b[1mwandb\u001b[0m: \tnum_filters: 50\n",
      "\u001b[34m\u001b[1mwandb\u001b[0m: \tnum_layers: 3\n",
      "\u001b[34m\u001b[1mwandb\u001b[0m: \tresult_dir: /home/quanhhh/Documents/model/result_wandb/\n",
      "\u001b[34m\u001b[1mwandb\u001b[0m: \tstride_1: 6\n",
      "\u001b[34m\u001b[1mwandb\u001b[0m: \tstride_2: 4\n",
      "\u001b[34m\u001b[1mwandb\u001b[0m: \tweight_decay: 0.0002027294376383676\n"
     ]
    },
    {
     "data": {
      "text/html": [
       "Tracking run with wandb version 0.13.4"
      ],
      "text/plain": [
       "<IPython.core.display.HTML object>"
      ]
     },
     "metadata": {},
     "output_type": "display_data"
    },
    {
     "data": {
      "text/html": [
       "Run data is saved locally in <code>/home/quanhhh/Documents/model/wandb/run-20221019_160041-q3zqol0z</code>"
      ],
      "text/plain": [
       "<IPython.core.display.HTML object>"
      ]
     },
     "metadata": {},
     "output_type": "display_data"
    },
    {
     "data": {
      "text/html": [
       "Syncing run <strong><a href=\"https://wandb.ai/maiquanh/quanh/runs/q3zqol0z\" target=\"_blank\">whole-sweep-120</a></strong> to <a href=\"https://wandb.ai/maiquanh/quanh\" target=\"_blank\">Weights & Biases</a> (<a href=\"https://wandb.me/run\" target=\"_blank\">docs</a>)<br/>Sweep page:  <a href=\"https://wandb.ai/maiquanh/quanh/sweeps/8p4zr03y\" target=\"_blank\">https://wandb.ai/maiquanh/quanh/sweeps/8p4zr03y</a>"
      ],
      "text/plain": [
       "<IPython.core.display.HTML object>"
      ]
     },
     "metadata": {},
     "output_type": "display_data"
    },
    {
     "name": "stdout",
     "output_type": "stream",
     "text": [
      "-----START TRAINING CLASSIFICATION-----\n",
      "Epoch: 92\t| Train_loss: 0.005920\t|Train accuracy: 99.287787\t| Test_loss: 0.003291\t|Test accuracy: 92.753002\t|Val accuracy: 89.366669 \n",
      "\n",
      "----COMPLETED TRAINING CLASSIFICATION-----\n",
      "val_acc 89.36666870117188\n",
      "ok\n"
     ]
    },
    {
     "data": {
      "text/html": [
       "Waiting for W&B process to finish... <strong style=\"color:green\">(success).</strong>"
      ],
      "text/plain": [
       "<IPython.core.display.HTML object>"
      ]
     },
     "metadata": {},
     "output_type": "display_data"
    },
    {
     "data": {
      "text/html": [
       "<style>\n",
       "    table.wandb td:nth-child(1) { padding: 0 10px; text-align: left ; width: auto;} td:nth-child(2) {text-align: left ; width: 100%}\n",
       "    .wandb-row { display: flex; flex-direction: row; flex-wrap: wrap; justify-content: flex-start; width: 100% }\n",
       "    .wandb-col { display: flex; flex-direction: column; flex-basis: 100%; flex: 1; padding: 10px; }\n",
       "    </style>\n",
       "<div class=\"wandb-row\"><div class=\"wandb-col\"><h3>Run history:</h3><br/><table class=\"wandb\"><tr><td>test_loss</td><td>█▇▆▄▃▃▂▆▃▃▂▁▃▂▁▂▁▃▁▂▃▁▂▁▁▂▂▁▂▂▁▁▂▁▁▁▂▁▃▂</td></tr><tr><td>train_loss</td><td>█▇▅▄▃▃▂▂▂▂▂▁▁▁▁▁▁▁▁▁▁▁▁▁▁▁▁▁▁▁▁▁▁▁▁▁▁▁▁▁</td></tr><tr><td>val_acc</td><td>▁</td></tr></table><br/></div><div class=\"wandb-col\"><h3>Run summary:</h3><br/><table class=\"wandb\"><tr><td>test_loss</td><td>0.00329</td></tr><tr><td>train_loss</td><td>0.00592</td></tr><tr><td>val_acc</td><td>93.46667</td></tr></table><br/></div></div>"
      ],
      "text/plain": [
       "<IPython.core.display.HTML object>"
      ]
     },
     "metadata": {},
     "output_type": "display_data"
    },
    {
     "data": {
      "text/html": [
       "Synced <strong style=\"color:#cdcd00\">whole-sweep-120</strong>: <a href=\"https://wandb.ai/maiquanh/quanh/runs/q3zqol0z\" target=\"_blank\">https://wandb.ai/maiquanh/quanh/runs/q3zqol0z</a><br/>Synced 6 W&B file(s), 0 media file(s), 0 artifact file(s) and 0 other file(s)"
      ],
      "text/plain": [
       "<IPython.core.display.HTML object>"
      ]
     },
     "metadata": {},
     "output_type": "display_data"
    },
    {
     "data": {
      "text/html": [
       "Find logs at: <code>./wandb/run-20221019_160041-q3zqol0z/logs</code>"
      ],
      "text/plain": [
       "<IPython.core.display.HTML object>"
      ]
     },
     "metadata": {},
     "output_type": "display_data"
    },
    {
     "name": "stderr",
     "output_type": "stream",
     "text": [
      "\u001b[34m\u001b[1mwandb\u001b[0m: Agent Starting Run: yefagf2y with config:\n",
      "\u001b[34m\u001b[1mwandb\u001b[0m: \tbatch_size: 128\n",
      "\u001b[34m\u001b[1mwandb\u001b[0m: \td_hidden: 3\n",
      "\u001b[34m\u001b[1mwandb\u001b[0m: \tdata_dir: /home/quanhhh/Documents/model/pickle/\n",
      "\u001b[34m\u001b[1mwandb\u001b[0m: \tdropout: 0.10703887881986046\n",
      "\u001b[34m\u001b[1mwandb\u001b[0m: \tkernel_size_1: 56\n",
      "\u001b[34m\u001b[1mwandb\u001b[0m: \tkernel_size_2: 10\n",
      "\u001b[34m\u001b[1mwandb\u001b[0m: \tlr: 0.0006099368266772774\n",
      "\u001b[34m\u001b[1mwandb\u001b[0m: \tmaxpool_1: 5\n",
      "\u001b[34m\u001b[1mwandb\u001b[0m: \tmaxpool_2: 7\n",
      "\u001b[34m\u001b[1mwandb\u001b[0m: \tnum_epoch: 98\n",
      "\u001b[34m\u001b[1mwandb\u001b[0m: \tnum_filters: 62\n",
      "\u001b[34m\u001b[1mwandb\u001b[0m: \tnum_layers: 2\n",
      "\u001b[34m\u001b[1mwandb\u001b[0m: \tresult_dir: /home/quanhhh/Documents/model/result_wandb/\n",
      "\u001b[34m\u001b[1mwandb\u001b[0m: \tstride_1: 8\n",
      "\u001b[34m\u001b[1mwandb\u001b[0m: \tstride_2: 8\n",
      "\u001b[34m\u001b[1mwandb\u001b[0m: \tweight_decay: 0.0002590688653716114\n"
     ]
    },
    {
     "data": {
      "text/html": [
       "Tracking run with wandb version 0.13.4"
      ],
      "text/plain": [
       "<IPython.core.display.HTML object>"
      ]
     },
     "metadata": {},
     "output_type": "display_data"
    },
    {
     "data": {
      "text/html": [
       "Run data is saved locally in <code>/home/quanhhh/Documents/model/wandb/run-20221019_160422-yefagf2y</code>"
      ],
      "text/plain": [
       "<IPython.core.display.HTML object>"
      ]
     },
     "metadata": {},
     "output_type": "display_data"
    },
    {
     "data": {
      "text/html": [
       "Syncing run <strong><a href=\"https://wandb.ai/maiquanh/quanh/runs/yefagf2y\" target=\"_blank\">worldly-sweep-121</a></strong> to <a href=\"https://wandb.ai/maiquanh/quanh\" target=\"_blank\">Weights & Biases</a> (<a href=\"https://wandb.me/run\" target=\"_blank\">docs</a>)<br/>Sweep page:  <a href=\"https://wandb.ai/maiquanh/quanh/sweeps/8p4zr03y\" target=\"_blank\">https://wandb.ai/maiquanh/quanh/sweeps/8p4zr03y</a>"
      ],
      "text/plain": [
       "<IPython.core.display.HTML object>"
      ]
     },
     "metadata": {},
     "output_type": "display_data"
    },
    {
     "name": "stdout",
     "output_type": "stream",
     "text": [
      "-----START TRAINING CLASSIFICATION-----\n",
      "Epoch: 98\t| Train_loss: 0.005619\t|Train accuracy: 99.393300\t| Test_loss: 0.003159\t|Test accuracy: 94.897084\t|Val accuracy: 92.733330 \n",
      "\n",
      "----COMPLETED TRAINING CLASSIFICATION-----\n",
      "val_acc 92.73332977294922\n",
      "ok\n"
     ]
    },
    {
     "data": {
      "text/html": [
       "Waiting for W&B process to finish... <strong style=\"color:green\">(success).</strong>"
      ],
      "text/plain": [
       "<IPython.core.display.HTML object>"
      ]
     },
     "metadata": {},
     "output_type": "display_data"
    },
    {
     "data": {
      "text/html": [
       "<style>\n",
       "    table.wandb td:nth-child(1) { padding: 0 10px; text-align: left ; width: auto;} td:nth-child(2) {text-align: left ; width: 100%}\n",
       "    .wandb-row { display: flex; flex-direction: row; flex-wrap: wrap; justify-content: flex-start; width: 100% }\n",
       "    .wandb-col { display: flex; flex-direction: column; flex-basis: 100%; flex: 1; padding: 10px; }\n",
       "    </style>\n",
       "<div class=\"wandb-row\"><div class=\"wandb-col\"><h3>Run history:</h3><br/><table class=\"wandb\"><tr><td>test_loss</td><td>█▇▆▅▄▄▄▂▂▂▃▁▃▁▂▁▁▂▁▂▂▁▁▂▁▂▂▁▁▁▁▂▂▁▁▁▁▂▁▁</td></tr><tr><td>train_loss</td><td>█▇▅▃▂▂▂▂▂▁▁▁▁▁▁▁▁▁▁▁▁▁▁▁▁▁▁▁▁▁▁▁▁▁▁▁▁▁▁▁</td></tr><tr><td>val_acc</td><td>▁</td></tr></table><br/></div><div class=\"wandb-col\"><h3>Run summary:</h3><br/><table class=\"wandb\"><tr><td>test_loss</td><td>0.00316</td></tr><tr><td>train_loss</td><td>0.00562</td></tr><tr><td>val_acc</td><td>94.03333</td></tr></table><br/></div></div>"
      ],
      "text/plain": [
       "<IPython.core.display.HTML object>"
      ]
     },
     "metadata": {},
     "output_type": "display_data"
    },
    {
     "data": {
      "text/html": [
       "Synced <strong style=\"color:#cdcd00\">worldly-sweep-121</strong>: <a href=\"https://wandb.ai/maiquanh/quanh/runs/yefagf2y\" target=\"_blank\">https://wandb.ai/maiquanh/quanh/runs/yefagf2y</a><br/>Synced 6 W&B file(s), 0 media file(s), 0 artifact file(s) and 0 other file(s)"
      ],
      "text/plain": [
       "<IPython.core.display.HTML object>"
      ]
     },
     "metadata": {},
     "output_type": "display_data"
    },
    {
     "data": {
      "text/html": [
       "Find logs at: <code>./wandb/run-20221019_160422-yefagf2y/logs</code>"
      ],
      "text/plain": [
       "<IPython.core.display.HTML object>"
      ]
     },
     "metadata": {},
     "output_type": "display_data"
    },
    {
     "name": "stderr",
     "output_type": "stream",
     "text": [
      "\u001b[34m\u001b[1mwandb\u001b[0m: Agent Starting Run: vleet37v with config:\n",
      "\u001b[34m\u001b[1mwandb\u001b[0m: \tbatch_size: 128\n",
      "\u001b[34m\u001b[1mwandb\u001b[0m: \td_hidden: 3\n",
      "\u001b[34m\u001b[1mwandb\u001b[0m: \tdata_dir: /home/quanhhh/Documents/model/pickle/\n",
      "\u001b[34m\u001b[1mwandb\u001b[0m: \tdropout: 0.19551789016649423\n",
      "\u001b[34m\u001b[1mwandb\u001b[0m: \tkernel_size_1: 93\n",
      "\u001b[34m\u001b[1mwandb\u001b[0m: \tkernel_size_2: 4\n",
      "\u001b[34m\u001b[1mwandb\u001b[0m: \tlr: 0.0005018953212687399\n",
      "\u001b[34m\u001b[1mwandb\u001b[0m: \tmaxpool_1: 3\n",
      "\u001b[34m\u001b[1mwandb\u001b[0m: \tmaxpool_2: 7\n",
      "\u001b[34m\u001b[1mwandb\u001b[0m: \tnum_epoch: 100\n",
      "\u001b[34m\u001b[1mwandb\u001b[0m: \tnum_filters: 23\n",
      "\u001b[34m\u001b[1mwandb\u001b[0m: \tnum_layers: 4\n",
      "\u001b[34m\u001b[1mwandb\u001b[0m: \tresult_dir: /home/quanhhh/Documents/model/result_wandb/\n",
      "\u001b[34m\u001b[1mwandb\u001b[0m: \tstride_1: 9\n",
      "\u001b[34m\u001b[1mwandb\u001b[0m: \tstride_2: 8\n",
      "\u001b[34m\u001b[1mwandb\u001b[0m: \tweight_decay: 0.00011949072747315608\n"
     ]
    },
    {
     "data": {
      "text/html": [
       "Tracking run with wandb version 0.13.4"
      ],
      "text/plain": [
       "<IPython.core.display.HTML object>"
      ]
     },
     "metadata": {},
     "output_type": "display_data"
    },
    {
     "data": {
      "text/html": [
       "Run data is saved locally in <code>/home/quanhhh/Documents/model/wandb/run-20221019_160741-vleet37v</code>"
      ],
      "text/plain": [
       "<IPython.core.display.HTML object>"
      ]
     },
     "metadata": {},
     "output_type": "display_data"
    },
    {
     "data": {
      "text/html": [
       "Syncing run <strong><a href=\"https://wandb.ai/maiquanh/quanh/runs/vleet37v\" target=\"_blank\">royal-sweep-122</a></strong> to <a href=\"https://wandb.ai/maiquanh/quanh\" target=\"_blank\">Weights & Biases</a> (<a href=\"https://wandb.me/run\" target=\"_blank\">docs</a>)<br/>Sweep page:  <a href=\"https://wandb.ai/maiquanh/quanh/sweeps/8p4zr03y\" target=\"_blank\">https://wandb.ai/maiquanh/quanh/sweeps/8p4zr03y</a>"
      ],
      "text/plain": [
       "<IPython.core.display.HTML object>"
      ]
     },
     "metadata": {},
     "output_type": "display_data"
    },
    {
     "name": "stdout",
     "output_type": "stream",
     "text": [
      "-----START TRAINING CLASSIFICATION-----\n",
      "Epoch: 100\t| Train_loss: 0.005903\t|Train accuracy: 98.232656\t| Test_loss: 0.003452\t|Test accuracy: 88.550600\t|Val accuracy: 85.066666 \n",
      "\n",
      "----COMPLETED TRAINING CLASSIFICATION-----\n",
      "val_acc 85.06666564941406\n",
      "ok\n"
     ]
    },
    {
     "data": {
      "text/html": [
       "Waiting for W&B process to finish... <strong style=\"color:green\">(success).</strong>"
      ],
      "text/plain": [
       "<IPython.core.display.HTML object>"
      ]
     },
     "metadata": {},
     "output_type": "display_data"
    },
    {
     "data": {
      "text/html": [
       "<style>\n",
       "    table.wandb td:nth-child(1) { padding: 0 10px; text-align: left ; width: auto;} td:nth-child(2) {text-align: left ; width: 100%}\n",
       "    .wandb-row { display: flex; flex-direction: row; flex-wrap: wrap; justify-content: flex-start; width: 100% }\n",
       "    .wandb-col { display: flex; flex-direction: column; flex-basis: 100%; flex: 1; padding: 10px; }\n",
       "    </style>\n",
       "<div class=\"wandb-row\"><div class=\"wandb-col\"><h3>Run history:</h3><br/><table class=\"wandb\"><tr><td>test_loss</td><td>██▆▆▅▅▅▄▄▃▃▃▃▂▂▃▂▂▂▂▂▂▂▂▂▂▂▂▂▂▂▁▂▂▂▂▁▁▁▁</td></tr><tr><td>train_loss</td><td>██▆▅▅▅▄▄▃▂▂▂▂▂▂▂▂▂▂▁▁▁▁▁▁▁▁▁▁▁▁▁▁▁▁▁▁▁▁▁</td></tr><tr><td>val_acc</td><td>▁</td></tr></table><br/></div><div class=\"wandb-col\"><h3>Run summary:</h3><br/><table class=\"wandb\"><tr><td>test_loss</td><td>0.00345</td></tr><tr><td>train_loss</td><td>0.0059</td></tr><tr><td>val_acc</td><td>86.86667</td></tr></table><br/></div></div>"
      ],
      "text/plain": [
       "<IPython.core.display.HTML object>"
      ]
     },
     "metadata": {},
     "output_type": "display_data"
    },
    {
     "data": {
      "text/html": [
       "Synced <strong style=\"color:#cdcd00\">royal-sweep-122</strong>: <a href=\"https://wandb.ai/maiquanh/quanh/runs/vleet37v\" target=\"_blank\">https://wandb.ai/maiquanh/quanh/runs/vleet37v</a><br/>Synced 6 W&B file(s), 0 media file(s), 0 artifact file(s) and 0 other file(s)"
      ],
      "text/plain": [
       "<IPython.core.display.HTML object>"
      ]
     },
     "metadata": {},
     "output_type": "display_data"
    },
    {
     "data": {
      "text/html": [
       "Find logs at: <code>./wandb/run-20221019_160741-vleet37v/logs</code>"
      ],
      "text/plain": [
       "<IPython.core.display.HTML object>"
      ]
     },
     "metadata": {},
     "output_type": "display_data"
    },
    {
     "name": "stderr",
     "output_type": "stream",
     "text": [
      "\u001b[34m\u001b[1mwandb\u001b[0m: Sweep Agent: Waiting for job.\n",
      "\u001b[34m\u001b[1mwandb\u001b[0m: Job received.\n",
      "\u001b[34m\u001b[1mwandb\u001b[0m: Agent Starting Run: 4xys928i with config:\n",
      "\u001b[34m\u001b[1mwandb\u001b[0m: \tbatch_size: 128\n",
      "\u001b[34m\u001b[1mwandb\u001b[0m: \td_hidden: 3\n",
      "\u001b[34m\u001b[1mwandb\u001b[0m: \tdata_dir: /home/quanhhh/Documents/model/pickle/\n",
      "\u001b[34m\u001b[1mwandb\u001b[0m: \tdropout: 0.1506497686878104\n",
      "\u001b[34m\u001b[1mwandb\u001b[0m: \tkernel_size_1: 87\n",
      "\u001b[34m\u001b[1mwandb\u001b[0m: \tkernel_size_2: 9\n",
      "\u001b[34m\u001b[1mwandb\u001b[0m: \tlr: 0.00021915234799361737\n",
      "\u001b[34m\u001b[1mwandb\u001b[0m: \tmaxpool_1: 6\n",
      "\u001b[34m\u001b[1mwandb\u001b[0m: \tmaxpool_2: 4\n",
      "\u001b[34m\u001b[1mwandb\u001b[0m: \tnum_epoch: 99\n",
      "\u001b[34m\u001b[1mwandb\u001b[0m: \tnum_filters: 47\n",
      "\u001b[34m\u001b[1mwandb\u001b[0m: \tnum_layers: 2\n",
      "\u001b[34m\u001b[1mwandb\u001b[0m: \tresult_dir: /home/quanhhh/Documents/model/result_wandb/\n",
      "\u001b[34m\u001b[1mwandb\u001b[0m: \tstride_1: 5\n",
      "\u001b[34m\u001b[1mwandb\u001b[0m: \tstride_2: 4\n",
      "\u001b[34m\u001b[1mwandb\u001b[0m: \tweight_decay: 0.000255936059471998\n"
     ]
    },
    {
     "data": {
      "text/html": [
       "Tracking run with wandb version 0.13.4"
      ],
      "text/plain": [
       "<IPython.core.display.HTML object>"
      ]
     },
     "metadata": {},
     "output_type": "display_data"
    },
    {
     "data": {
      "text/html": [
       "Run data is saved locally in <code>/home/quanhhh/Documents/model/wandb/run-20221019_161016-4xys928i</code>"
      ],
      "text/plain": [
       "<IPython.core.display.HTML object>"
      ]
     },
     "metadata": {},
     "output_type": "display_data"
    },
    {
     "data": {
      "text/html": [
       "Syncing run <strong><a href=\"https://wandb.ai/maiquanh/quanh/runs/4xys928i\" target=\"_blank\">dashing-sweep-123</a></strong> to <a href=\"https://wandb.ai/maiquanh/quanh\" target=\"_blank\">Weights & Biases</a> (<a href=\"https://wandb.me/run\" target=\"_blank\">docs</a>)<br/>Sweep page:  <a href=\"https://wandb.ai/maiquanh/quanh/sweeps/8p4zr03y\" target=\"_blank\">https://wandb.ai/maiquanh/quanh/sweeps/8p4zr03y</a>"
      ],
      "text/plain": [
       "<IPython.core.display.HTML object>"
      ]
     },
     "metadata": {},
     "output_type": "display_data"
    },
    {
     "name": "stdout",
     "output_type": "stream",
     "text": [
      "-----START TRAINING CLASSIFICATION-----\n",
      "Epoch: 99\t| Train_loss: 0.005667\t|Train accuracy: 99.525191\t| Test_loss: 0.003243\t|Test accuracy: 92.452830\t|Val accuracy: 81.366669 \n",
      "\n",
      "----COMPLETED TRAINING CLASSIFICATION-----\n",
      "val_acc 81.36666870117188\n",
      "ok\n"
     ]
    },
    {
     "data": {
      "text/html": [
       "Waiting for W&B process to finish... <strong style=\"color:green\">(success).</strong>"
      ],
      "text/plain": [
       "<IPython.core.display.HTML object>"
      ]
     },
     "metadata": {},
     "output_type": "display_data"
    },
    {
     "data": {
      "text/html": [
       "<style>\n",
       "    table.wandb td:nth-child(1) { padding: 0 10px; text-align: left ; width: auto;} td:nth-child(2) {text-align: left ; width: 100%}\n",
       "    .wandb-row { display: flex; flex-direction: row; flex-wrap: wrap; justify-content: flex-start; width: 100% }\n",
       "    .wandb-col { display: flex; flex-direction: column; flex-basis: 100%; flex: 1; padding: 10px; }\n",
       "    </style>\n",
       "<div class=\"wandb-row\"><div class=\"wandb-col\"><h3>Run history:</h3><br/><table class=\"wandb\"><tr><td>test_loss</td><td>███▇▇▇▆▆▅▅▅▄▄▄▃▃▂▃▃▂▂▃▂▂▃▁▃▂▁▁▁▁▃▁▂▁▂▁▁▁</td></tr><tr><td>train_loss</td><td>██▇▇▆▆▅▅▄▄▄▃▃▃▃▂▂▂▂▂▂▂▂▂▂▂▁▁▁▁▁▁▁▁▁▁▁▁▁▁</td></tr><tr><td>val_acc</td><td>▁</td></tr></table><br/></div><div class=\"wandb-col\"><h3>Run summary:</h3><br/><table class=\"wandb\"><tr><td>test_loss</td><td>0.00324</td></tr><tr><td>train_loss</td><td>0.00567</td></tr><tr><td>val_acc</td><td>92.13333</td></tr></table><br/></div></div>"
      ],
      "text/plain": [
       "<IPython.core.display.HTML object>"
      ]
     },
     "metadata": {},
     "output_type": "display_data"
    },
    {
     "data": {
      "text/html": [
       "Synced <strong style=\"color:#cdcd00\">dashing-sweep-123</strong>: <a href=\"https://wandb.ai/maiquanh/quanh/runs/4xys928i\" target=\"_blank\">https://wandb.ai/maiquanh/quanh/runs/4xys928i</a><br/>Synced 6 W&B file(s), 0 media file(s), 0 artifact file(s) and 0 other file(s)"
      ],
      "text/plain": [
       "<IPython.core.display.HTML object>"
      ]
     },
     "metadata": {},
     "output_type": "display_data"
    },
    {
     "data": {
      "text/html": [
       "Find logs at: <code>./wandb/run-20221019_161016-4xys928i/logs</code>"
      ],
      "text/plain": [
       "<IPython.core.display.HTML object>"
      ]
     },
     "metadata": {},
     "output_type": "display_data"
    },
    {
     "name": "stderr",
     "output_type": "stream",
     "text": [
      "\u001b[34m\u001b[1mwandb\u001b[0m: Agent Starting Run: pf75hlng with config:\n",
      "\u001b[34m\u001b[1mwandb\u001b[0m: \tbatch_size: 128\n",
      "\u001b[34m\u001b[1mwandb\u001b[0m: \td_hidden: 3\n",
      "\u001b[34m\u001b[1mwandb\u001b[0m: \tdata_dir: /home/quanhhh/Documents/model/pickle/\n",
      "\u001b[34m\u001b[1mwandb\u001b[0m: \tdropout: 0.12314615449756404\n",
      "\u001b[34m\u001b[1mwandb\u001b[0m: \tkernel_size_1: 91\n",
      "\u001b[34m\u001b[1mwandb\u001b[0m: \tkernel_size_2: 4\n",
      "\u001b[34m\u001b[1mwandb\u001b[0m: \tlr: 0.0003052793072476686\n",
      "\u001b[34m\u001b[1mwandb\u001b[0m: \tmaxpool_1: 4\n",
      "\u001b[34m\u001b[1mwandb\u001b[0m: \tmaxpool_2: 6\n",
      "\u001b[34m\u001b[1mwandb\u001b[0m: \tnum_epoch: 91\n",
      "\u001b[34m\u001b[1mwandb\u001b[0m: \tnum_filters: 49\n",
      "\u001b[34m\u001b[1mwandb\u001b[0m: \tnum_layers: 4\n",
      "\u001b[34m\u001b[1mwandb\u001b[0m: \tresult_dir: /home/quanhhh/Documents/model/result_wandb/\n",
      "\u001b[34m\u001b[1mwandb\u001b[0m: \tstride_1: 3\n",
      "\u001b[34m\u001b[1mwandb\u001b[0m: \tstride_2: 8\n",
      "\u001b[34m\u001b[1mwandb\u001b[0m: \tweight_decay: 0.00025125252903499906\n"
     ]
    },
    {
     "data": {
      "text/html": [
       "Tracking run with wandb version 0.13.4"
      ],
      "text/plain": [
       "<IPython.core.display.HTML object>"
      ]
     },
     "metadata": {},
     "output_type": "display_data"
    },
    {
     "data": {
      "text/html": [
       "Run data is saved locally in <code>/home/quanhhh/Documents/model/wandb/run-20221019_161441-pf75hlng</code>"
      ],
      "text/plain": [
       "<IPython.core.display.HTML object>"
      ]
     },
     "metadata": {},
     "output_type": "display_data"
    },
    {
     "data": {
      "text/html": [
       "Syncing run <strong><a href=\"https://wandb.ai/maiquanh/quanh/runs/pf75hlng\" target=\"_blank\">apricot-sweep-124</a></strong> to <a href=\"https://wandb.ai/maiquanh/quanh\" target=\"_blank\">Weights & Biases</a> (<a href=\"https://wandb.me/run\" target=\"_blank\">docs</a>)<br/>Sweep page:  <a href=\"https://wandb.ai/maiquanh/quanh/sweeps/8p4zr03y\" target=\"_blank\">https://wandb.ai/maiquanh/quanh/sweeps/8p4zr03y</a>"
      ],
      "text/plain": [
       "<IPython.core.display.HTML object>"
      ]
     },
     "metadata": {},
     "output_type": "display_data"
    },
    {
     "name": "stdout",
     "output_type": "stream",
     "text": [
      "-----START TRAINING CLASSIFICATION-----\n",
      "Epoch: 91\t| Train_loss: 0.005640\t|Train accuracy: 98.958059\t| Test_loss: 0.003163\t|Test accuracy: 94.768439\t|Val accuracy: 90.900002 \n",
      "\n",
      "----COMPLETED TRAINING CLASSIFICATION-----\n",
      "val_acc 90.9000015258789\n",
      "ok\n"
     ]
    },
    {
     "data": {
      "text/html": [
       "Waiting for W&B process to finish... <strong style=\"color:green\">(success).</strong>"
      ],
      "text/plain": [
       "<IPython.core.display.HTML object>"
      ]
     },
     "metadata": {},
     "output_type": "display_data"
    },
    {
     "data": {
      "text/html": [
       "<style>\n",
       "    table.wandb td:nth-child(1) { padding: 0 10px; text-align: left ; width: auto;} td:nth-child(2) {text-align: left ; width: 100%}\n",
       "    .wandb-row { display: flex; flex-direction: row; flex-wrap: wrap; justify-content: flex-start; width: 100% }\n",
       "    .wandb-col { display: flex; flex-direction: column; flex-basis: 100%; flex: 1; padding: 10px; }\n",
       "    </style>\n",
       "<div class=\"wandb-row\"><div class=\"wandb-col\"><h3>Run history:</h3><br/><table class=\"wandb\"><tr><td>test_loss</td><td>████▆▆▆▅▅▅▅▆▄▅▃▃▃▃▃▄▃▃▃▃▃▄▂▂▂▂▁▁▂▂▁▁▁▁▁▁</td></tr><tr><td>train_loss</td><td>████▇▆▆▅▅▅▅▄▃▃▃▃▃▃▃▃▃▂▂▂▂▂▂▂▁▁▁▁▁▁▁▁▁▁▁▁</td></tr><tr><td>val_acc</td><td>▁</td></tr></table><br/></div><div class=\"wandb-col\"><h3>Run summary:</h3><br/><table class=\"wandb\"><tr><td>test_loss</td><td>0.00316</td></tr><tr><td>train_loss</td><td>0.00564</td></tr><tr><td>val_acc</td><td>92.26666</td></tr></table><br/></div></div>"
      ],
      "text/plain": [
       "<IPython.core.display.HTML object>"
      ]
     },
     "metadata": {},
     "output_type": "display_data"
    },
    {
     "data": {
      "text/html": [
       "Synced <strong style=\"color:#cdcd00\">apricot-sweep-124</strong>: <a href=\"https://wandb.ai/maiquanh/quanh/runs/pf75hlng\" target=\"_blank\">https://wandb.ai/maiquanh/quanh/runs/pf75hlng</a><br/>Synced 6 W&B file(s), 0 media file(s), 0 artifact file(s) and 0 other file(s)"
      ],
      "text/plain": [
       "<IPython.core.display.HTML object>"
      ]
     },
     "metadata": {},
     "output_type": "display_data"
    },
    {
     "data": {
      "text/html": [
       "Find logs at: <code>./wandb/run-20221019_161441-pf75hlng/logs</code>"
      ],
      "text/plain": [
       "<IPython.core.display.HTML object>"
      ]
     },
     "metadata": {},
     "output_type": "display_data"
    },
    {
     "name": "stderr",
     "output_type": "stream",
     "text": [
      "\u001b[34m\u001b[1mwandb\u001b[0m: Sweep Agent: Waiting for job.\n",
      "\u001b[34m\u001b[1mwandb\u001b[0m: Job received.\n",
      "\u001b[34m\u001b[1mwandb\u001b[0m: Agent Starting Run: ufjcj5e1 with config:\n",
      "\u001b[34m\u001b[1mwandb\u001b[0m: \tbatch_size: 128\n",
      "\u001b[34m\u001b[1mwandb\u001b[0m: \td_hidden: 3\n",
      "\u001b[34m\u001b[1mwandb\u001b[0m: \tdata_dir: /home/quanhhh/Documents/model/pickle/\n",
      "\u001b[34m\u001b[1mwandb\u001b[0m: \tdropout: 0.10881121616315664\n",
      "\u001b[34m\u001b[1mwandb\u001b[0m: \tkernel_size_1: 80\n",
      "\u001b[34m\u001b[1mwandb\u001b[0m: \tkernel_size_2: 11\n",
      "\u001b[34m\u001b[1mwandb\u001b[0m: \tlr: 0.0005962144897598489\n",
      "\u001b[34m\u001b[1mwandb\u001b[0m: \tmaxpool_1: 7\n",
      "\u001b[34m\u001b[1mwandb\u001b[0m: \tmaxpool_2: 7\n",
      "\u001b[34m\u001b[1mwandb\u001b[0m: \tnum_epoch: 86\n",
      "\u001b[34m\u001b[1mwandb\u001b[0m: \tnum_filters: 27\n",
      "\u001b[34m\u001b[1mwandb\u001b[0m: \tnum_layers: 4\n",
      "\u001b[34m\u001b[1mwandb\u001b[0m: \tresult_dir: /home/quanhhh/Documents/model/result_wandb/\n",
      "\u001b[34m\u001b[1mwandb\u001b[0m: \tstride_1: 7\n",
      "\u001b[34m\u001b[1mwandb\u001b[0m: \tstride_2: 8\n",
      "\u001b[34m\u001b[1mwandb\u001b[0m: \tweight_decay: 0.00014086468757820548\n"
     ]
    },
    {
     "data": {
      "text/html": [
       "Tracking run with wandb version 0.13.4"
      ],
      "text/plain": [
       "<IPython.core.display.HTML object>"
      ]
     },
     "metadata": {},
     "output_type": "display_data"
    },
    {
     "data": {
      "text/html": [
       "Run data is saved locally in <code>/home/quanhhh/Documents/model/wandb/run-20221019_162050-ufjcj5e1</code>"
      ],
      "text/plain": [
       "<IPython.core.display.HTML object>"
      ]
     },
     "metadata": {},
     "output_type": "display_data"
    },
    {
     "data": {
      "text/html": [
       "Syncing run <strong><a href=\"https://wandb.ai/maiquanh/quanh/runs/ufjcj5e1\" target=\"_blank\">gentle-sweep-125</a></strong> to <a href=\"https://wandb.ai/maiquanh/quanh\" target=\"_blank\">Weights & Biases</a> (<a href=\"https://wandb.me/run\" target=\"_blank\">docs</a>)<br/>Sweep page:  <a href=\"https://wandb.ai/maiquanh/quanh/sweeps/8p4zr03y\" target=\"_blank\">https://wandb.ai/maiquanh/quanh/sweeps/8p4zr03y</a>"
      ],
      "text/plain": [
       "<IPython.core.display.HTML object>"
      ]
     },
     "metadata": {},
     "output_type": "display_data"
    },
    {
     "name": "stdout",
     "output_type": "stream",
     "text": [
      "-----START TRAINING CLASSIFICATION-----\n",
      "Epoch: 86\t| Train_loss: 0.005591\t|Train accuracy: 99.116328\t| Test_loss: 0.003315\t|Test accuracy: 88.979417\t|Val accuracy: 71.199997 \n",
      "\n",
      "----COMPLETED TRAINING CLASSIFICATION-----\n",
      "val_acc 71.19999694824219\n",
      "ok\n"
     ]
    },
    {
     "data": {
      "text/html": [
       "Waiting for W&B process to finish... <strong style=\"color:green\">(success).</strong>"
      ],
      "text/plain": [
       "<IPython.core.display.HTML object>"
      ]
     },
     "metadata": {},
     "output_type": "display_data"
    },
    {
     "data": {
      "text/html": [
       "<style>\n",
       "    table.wandb td:nth-child(1) { padding: 0 10px; text-align: left ; width: auto;} td:nth-child(2) {text-align: left ; width: 100%}\n",
       "    .wandb-row { display: flex; flex-direction: row; flex-wrap: wrap; justify-content: flex-start; width: 100% }\n",
       "    .wandb-col { display: flex; flex-direction: column; flex-basis: 100%; flex: 1; padding: 10px; }\n",
       "    </style>\n",
       "<div class=\"wandb-row\"><div class=\"wandb-col\"><h3>Run history:</h3><br/><table class=\"wandb\"><tr><td>test_loss</td><td>█▇▆▄▄▃▃▃▃▂▂▂▃▂▂▂▁▁▁▁▂▂▁▁▁▂▁▂▁▂▂▂▁▁▂▁▃▂▂▁</td></tr><tr><td>train_loss</td><td>█▇▅▄▃▂▂▂▂▁▁▁▁▁▁▁▁▁▁▁▁▁▁▁▁▁▁▁▁▁▁▁▁▁▁▁▁▁▁▁</td></tr><tr><td>val_acc</td><td>▁</td></tr></table><br/></div><div class=\"wandb-col\"><h3>Run summary:</h3><br/><table class=\"wandb\"><tr><td>test_loss</td><td>0.00331</td></tr><tr><td>train_loss</td><td>0.00559</td></tr><tr><td>val_acc</td><td>88.26666</td></tr></table><br/></div></div>"
      ],
      "text/plain": [
       "<IPython.core.display.HTML object>"
      ]
     },
     "metadata": {},
     "output_type": "display_data"
    },
    {
     "data": {
      "text/html": [
       "Synced <strong style=\"color:#cdcd00\">gentle-sweep-125</strong>: <a href=\"https://wandb.ai/maiquanh/quanh/runs/ufjcj5e1\" target=\"_blank\">https://wandb.ai/maiquanh/quanh/runs/ufjcj5e1</a><br/>Synced 6 W&B file(s), 0 media file(s), 0 artifact file(s) and 0 other file(s)"
      ],
      "text/plain": [
       "<IPython.core.display.HTML object>"
      ]
     },
     "metadata": {},
     "output_type": "display_data"
    },
    {
     "data": {
      "text/html": [
       "Find logs at: <code>./wandb/run-20221019_162050-ufjcj5e1/logs</code>"
      ],
      "text/plain": [
       "<IPython.core.display.HTML object>"
      ]
     },
     "metadata": {},
     "output_type": "display_data"
    },
    {
     "name": "stderr",
     "output_type": "stream",
     "text": [
      "\u001b[34m\u001b[1mwandb\u001b[0m: Agent Starting Run: e5hwkf35 with config:\n",
      "\u001b[34m\u001b[1mwandb\u001b[0m: \tbatch_size: 128\n",
      "\u001b[34m\u001b[1mwandb\u001b[0m: \td_hidden: 3\n",
      "\u001b[34m\u001b[1mwandb\u001b[0m: \tdata_dir: /home/quanhhh/Documents/model/pickle/\n",
      "\u001b[34m\u001b[1mwandb\u001b[0m: \tdropout: 0.17712678797071482\n",
      "\u001b[34m\u001b[1mwandb\u001b[0m: \tkernel_size_1: 86\n",
      "\u001b[34m\u001b[1mwandb\u001b[0m: \tkernel_size_2: 7\n",
      "\u001b[34m\u001b[1mwandb\u001b[0m: \tlr: 0.0001700600672003786\n",
      "\u001b[34m\u001b[1mwandb\u001b[0m: \tmaxpool_1: 8\n",
      "\u001b[34m\u001b[1mwandb\u001b[0m: \tmaxpool_2: 4\n",
      "\u001b[34m\u001b[1mwandb\u001b[0m: \tnum_epoch: 88\n",
      "\u001b[34m\u001b[1mwandb\u001b[0m: \tnum_filters: 40\n",
      "\u001b[34m\u001b[1mwandb\u001b[0m: \tnum_layers: 3\n",
      "\u001b[34m\u001b[1mwandb\u001b[0m: \tresult_dir: /home/quanhhh/Documents/model/result_wandb/\n",
      "\u001b[34m\u001b[1mwandb\u001b[0m: \tstride_1: 5\n",
      "\u001b[34m\u001b[1mwandb\u001b[0m: \tstride_2: 5\n",
      "\u001b[34m\u001b[1mwandb\u001b[0m: \tweight_decay: 0.00022048413890099537\n"
     ]
    },
    {
     "data": {
      "text/html": [
       "Tracking run with wandb version 0.13.4"
      ],
      "text/plain": [
       "<IPython.core.display.HTML object>"
      ]
     },
     "metadata": {},
     "output_type": "display_data"
    },
    {
     "data": {
      "text/html": [
       "Run data is saved locally in <code>/home/quanhhh/Documents/model/wandb/run-20221019_162311-e5hwkf35</code>"
      ],
      "text/plain": [
       "<IPython.core.display.HTML object>"
      ]
     },
     "metadata": {},
     "output_type": "display_data"
    },
    {
     "data": {
      "text/html": [
       "Syncing run <strong><a href=\"https://wandb.ai/maiquanh/quanh/runs/e5hwkf35\" target=\"_blank\">azure-sweep-126</a></strong> to <a href=\"https://wandb.ai/maiquanh/quanh\" target=\"_blank\">Weights & Biases</a> (<a href=\"https://wandb.me/run\" target=\"_blank\">docs</a>)<br/>Sweep page:  <a href=\"https://wandb.ai/maiquanh/quanh/sweeps/8p4zr03y\" target=\"_blank\">https://wandb.ai/maiquanh/quanh/sweeps/8p4zr03y</a>"
      ],
      "text/plain": [
       "<IPython.core.display.HTML object>"
      ]
     },
     "metadata": {},
     "output_type": "display_data"
    },
    {
     "name": "stdout",
     "output_type": "stream",
     "text": [
      "-----START TRAINING CLASSIFICATION-----\n",
      "Epoch: 88\t| Train_loss: 0.006054\t|Train accuracy: 99.802163\t| Test_loss: 0.003315\t|Test accuracy: 94.554031\t|Val accuracy: 78.866669 \n",
      "\n",
      "----COMPLETED TRAINING CLASSIFICATION-----\n",
      "val_acc 78.86666870117188\n",
      "ok\n"
     ]
    },
    {
     "data": {
      "text/html": [
       "Waiting for W&B process to finish... <strong style=\"color:green\">(success).</strong>"
      ],
      "text/plain": [
       "<IPython.core.display.HTML object>"
      ]
     },
     "metadata": {},
     "output_type": "display_data"
    },
    {
     "data": {
      "text/html": [
       "<style>\n",
       "    table.wandb td:nth-child(1) { padding: 0 10px; text-align: left ; width: auto;} td:nth-child(2) {text-align: left ; width: 100%}\n",
       "    .wandb-row { display: flex; flex-direction: row; flex-wrap: wrap; justify-content: flex-start; width: 100% }\n",
       "    .wandb-col { display: flex; flex-direction: column; flex-basis: 100%; flex: 1; padding: 10px; }\n",
       "    </style>\n",
       "<div class=\"wandb-row\"><div class=\"wandb-col\"><h3>Run history:</h3><br/><table class=\"wandb\"><tr><td>test_loss</td><td>████▇▇▇▆▆▆▅▅▄▄▃▄▂▂▃▂▂▂▂▂▂▂▂▂▂▁▁▁▁▁▁▁▃▁▁▁</td></tr><tr><td>train_loss</td><td>████▇▇▇▆▆▅▅▅▄▄▃▃▃▃▂▂▂▂▂▂▂▂▂▂▂▁▁▁▁▁▁▁▁▁▁▁</td></tr><tr><td>val_acc</td><td>▁</td></tr></table><br/></div><div class=\"wandb-col\"><h3>Run summary:</h3><br/><table class=\"wandb\"><tr><td>test_loss</td><td>0.00331</td></tr><tr><td>train_loss</td><td>0.00605</td></tr><tr><td>val_acc</td><td>82.56667</td></tr></table><br/></div></div>"
      ],
      "text/plain": [
       "<IPython.core.display.HTML object>"
      ]
     },
     "metadata": {},
     "output_type": "display_data"
    },
    {
     "data": {
      "text/html": [
       "Synced <strong style=\"color:#cdcd00\">azure-sweep-126</strong>: <a href=\"https://wandb.ai/maiquanh/quanh/runs/e5hwkf35\" target=\"_blank\">https://wandb.ai/maiquanh/quanh/runs/e5hwkf35</a><br/>Synced 6 W&B file(s), 0 media file(s), 0 artifact file(s) and 0 other file(s)"
      ],
      "text/plain": [
       "<IPython.core.display.HTML object>"
      ]
     },
     "metadata": {},
     "output_type": "display_data"
    },
    {
     "data": {
      "text/html": [
       "Find logs at: <code>./wandb/run-20221019_162311-e5hwkf35/logs</code>"
      ],
      "text/plain": [
       "<IPython.core.display.HTML object>"
      ]
     },
     "metadata": {},
     "output_type": "display_data"
    },
    {
     "name": "stderr",
     "output_type": "stream",
     "text": [
      "\u001b[34m\u001b[1mwandb\u001b[0m: Sweep Agent: Waiting for job.\n",
      "\u001b[34m\u001b[1mwandb\u001b[0m: Job received.\n",
      "\u001b[34m\u001b[1mwandb\u001b[0m: Agent Starting Run: 1mjbk47u with config:\n",
      "\u001b[34m\u001b[1mwandb\u001b[0m: \tbatch_size: 128\n",
      "\u001b[34m\u001b[1mwandb\u001b[0m: \td_hidden: 3\n",
      "\u001b[34m\u001b[1mwandb\u001b[0m: \tdata_dir: /home/quanhhh/Documents/model/pickle/\n",
      "\u001b[34m\u001b[1mwandb\u001b[0m: \tdropout: 0.19441145365765583\n",
      "\u001b[34m\u001b[1mwandb\u001b[0m: \tkernel_size_1: 91\n",
      "\u001b[34m\u001b[1mwandb\u001b[0m: \tkernel_size_2: 4\n",
      "\u001b[34m\u001b[1mwandb\u001b[0m: \tlr: 0.0020606138489389\n",
      "\u001b[34m\u001b[1mwandb\u001b[0m: \tmaxpool_1: 5\n",
      "\u001b[34m\u001b[1mwandb\u001b[0m: \tmaxpool_2: 6\n",
      "\u001b[34m\u001b[1mwandb\u001b[0m: \tnum_epoch: 89\n",
      "\u001b[34m\u001b[1mwandb\u001b[0m: \tnum_filters: 42\n",
      "\u001b[34m\u001b[1mwandb\u001b[0m: \tnum_layers: 4\n",
      "\u001b[34m\u001b[1mwandb\u001b[0m: \tresult_dir: /home/quanhhh/Documents/model/result_wandb/\n",
      "\u001b[34m\u001b[1mwandb\u001b[0m: \tstride_1: 3\n",
      "\u001b[34m\u001b[1mwandb\u001b[0m: \tstride_2: 6\n",
      "\u001b[34m\u001b[1mwandb\u001b[0m: \tweight_decay: 0.00023631635616909344\n"
     ]
    },
    {
     "data": {
      "text/html": [
       "Tracking run with wandb version 0.13.4"
      ],
      "text/plain": [
       "<IPython.core.display.HTML object>"
      ]
     },
     "metadata": {},
     "output_type": "display_data"
    },
    {
     "data": {
      "text/html": [
       "Run data is saved locally in <code>/home/quanhhh/Documents/model/wandb/run-20221019_162656-1mjbk47u</code>"
      ],
      "text/plain": [
       "<IPython.core.display.HTML object>"
      ]
     },
     "metadata": {},
     "output_type": "display_data"
    },
    {
     "data": {
      "text/html": [
       "Syncing run <strong><a href=\"https://wandb.ai/maiquanh/quanh/runs/1mjbk47u\" target=\"_blank\">vibrant-sweep-127</a></strong> to <a href=\"https://wandb.ai/maiquanh/quanh\" target=\"_blank\">Weights & Biases</a> (<a href=\"https://wandb.me/run\" target=\"_blank\">docs</a>)<br/>Sweep page:  <a href=\"https://wandb.ai/maiquanh/quanh/sweeps/8p4zr03y\" target=\"_blank\">https://wandb.ai/maiquanh/quanh/sweeps/8p4zr03y</a>"
      ],
      "text/plain": [
       "<IPython.core.display.HTML object>"
      ]
     },
     "metadata": {},
     "output_type": "display_data"
    },
    {
     "name": "stdout",
     "output_type": "stream",
     "text": [
      "-----START TRAINING CLASSIFICATION-----\n",
      "Epoch: 89\t| Train_loss: 0.005718\t|Train accuracy: 97.032445\t| Test_loss: 0.003562\t|Test accuracy: 81.260720\t|Val accuracy: 85.333336 \n",
      "\n",
      "----COMPLETED TRAINING CLASSIFICATION-----\n",
      "val_acc 85.33333587646484\n",
      "ok\n"
     ]
    },
    {
     "data": {
      "text/html": [
       "Waiting for W&B process to finish... <strong style=\"color:green\">(success).</strong>"
      ],
      "text/plain": [
       "<IPython.core.display.HTML object>"
      ]
     },
     "metadata": {},
     "output_type": "display_data"
    },
    {
     "data": {
      "text/html": [
       "<style>\n",
       "    table.wandb td:nth-child(1) { padding: 0 10px; text-align: left ; width: auto;} td:nth-child(2) {text-align: left ; width: 100%}\n",
       "    .wandb-row { display: flex; flex-direction: row; flex-wrap: wrap; justify-content: flex-start; width: 100% }\n",
       "    .wandb-col { display: flex; flex-direction: column; flex-basis: 100%; flex: 1; padding: 10px; }\n",
       "    </style>\n",
       "<div class=\"wandb-row\"><div class=\"wandb-col\"><h3>Run history:</h3><br/><table class=\"wandb\"><tr><td>test_loss</td><td>▇▆▃▃▃▂▃▃▂█▃▁▂▂▂▂▂▂▃▁▁▂▁▂▂▂▁▁▁▁▂▁▁▁▂▂▂▁▁▂</td></tr><tr><td>train_loss</td><td>█▅▃▃▂▂▂▂▁▁▁▁▁▁▁▁▁▁▁▁▁▁▁▁▁▁▁▁▁▁▁▁▁▁▁▁▁▁▁▁</td></tr><tr><td>val_acc</td><td>▁</td></tr></table><br/></div><div class=\"wandb-col\"><h3>Run summary:</h3><br/><table class=\"wandb\"><tr><td>test_loss</td><td>0.00356</td></tr><tr><td>train_loss</td><td>0.00572</td></tr><tr><td>val_acc</td><td>91.53333</td></tr></table><br/></div></div>"
      ],
      "text/plain": [
       "<IPython.core.display.HTML object>"
      ]
     },
     "metadata": {},
     "output_type": "display_data"
    },
    {
     "data": {
      "text/html": [
       "Synced <strong style=\"color:#cdcd00\">vibrant-sweep-127</strong>: <a href=\"https://wandb.ai/maiquanh/quanh/runs/1mjbk47u\" target=\"_blank\">https://wandb.ai/maiquanh/quanh/runs/1mjbk47u</a><br/>Synced 6 W&B file(s), 0 media file(s), 0 artifact file(s) and 0 other file(s)"
      ],
      "text/plain": [
       "<IPython.core.display.HTML object>"
      ]
     },
     "metadata": {},
     "output_type": "display_data"
    },
    {
     "data": {
      "text/html": [
       "Find logs at: <code>./wandb/run-20221019_162656-1mjbk47u/logs</code>"
      ],
      "text/plain": [
       "<IPython.core.display.HTML object>"
      ]
     },
     "metadata": {},
     "output_type": "display_data"
    },
    {
     "name": "stderr",
     "output_type": "stream",
     "text": [
      "\u001b[34m\u001b[1mwandb\u001b[0m: Agent Starting Run: h173u3ad with config:\n",
      "\u001b[34m\u001b[1mwandb\u001b[0m: \tbatch_size: 128\n",
      "\u001b[34m\u001b[1mwandb\u001b[0m: \td_hidden: 3\n",
      "\u001b[34m\u001b[1mwandb\u001b[0m: \tdata_dir: /home/quanhhh/Documents/model/pickle/\n",
      "\u001b[34m\u001b[1mwandb\u001b[0m: \tdropout: 0.11857312106371398\n",
      "\u001b[34m\u001b[1mwandb\u001b[0m: \tkernel_size_1: 58\n",
      "\u001b[34m\u001b[1mwandb\u001b[0m: \tkernel_size_2: 7\n",
      "\u001b[34m\u001b[1mwandb\u001b[0m: \tlr: 0.0016804303032124828\n",
      "\u001b[34m\u001b[1mwandb\u001b[0m: \tmaxpool_1: 5\n",
      "\u001b[34m\u001b[1mwandb\u001b[0m: \tmaxpool_2: 6\n",
      "\u001b[34m\u001b[1mwandb\u001b[0m: \tnum_epoch: 91\n",
      "\u001b[34m\u001b[1mwandb\u001b[0m: \tnum_filters: 20\n",
      "\u001b[34m\u001b[1mwandb\u001b[0m: \tnum_layers: 3\n",
      "\u001b[34m\u001b[1mwandb\u001b[0m: \tresult_dir: /home/quanhhh/Documents/model/result_wandb/\n",
      "\u001b[34m\u001b[1mwandb\u001b[0m: \tstride_1: 5\n",
      "\u001b[34m\u001b[1mwandb\u001b[0m: \tstride_2: 7\n",
      "\u001b[34m\u001b[1mwandb\u001b[0m: \tweight_decay: 0.0002198419716406308\n"
     ]
    },
    {
     "data": {
      "text/html": [
       "Tracking run with wandb version 0.13.4"
      ],
      "text/plain": [
       "<IPython.core.display.HTML object>"
      ]
     },
     "metadata": {},
     "output_type": "display_data"
    },
    {
     "data": {
      "text/html": [
       "Run data is saved locally in <code>/home/quanhhh/Documents/model/wandb/run-20221019_163219-h173u3ad</code>"
      ],
      "text/plain": [
       "<IPython.core.display.HTML object>"
      ]
     },
     "metadata": {},
     "output_type": "display_data"
    },
    {
     "data": {
      "text/html": [
       "Syncing run <strong><a href=\"https://wandb.ai/maiquanh/quanh/runs/h173u3ad\" target=\"_blank\">firm-sweep-128</a></strong> to <a href=\"https://wandb.ai/maiquanh/quanh\" target=\"_blank\">Weights & Biases</a> (<a href=\"https://wandb.me/run\" target=\"_blank\">docs</a>)<br/>Sweep page:  <a href=\"https://wandb.ai/maiquanh/quanh/sweeps/8p4zr03y\" target=\"_blank\">https://wandb.ai/maiquanh/quanh/sweeps/8p4zr03y</a>"
      ],
      "text/plain": [
       "<IPython.core.display.HTML object>"
      ]
     },
     "metadata": {},
     "output_type": "display_data"
    },
    {
     "name": "stdout",
     "output_type": "stream",
     "text": [
      "-----START TRAINING CLASSIFICATION-----\n",
      "Epoch: 91\t| Train_loss: 0.005663\t|Train accuracy: 96.940121\t| Test_loss: 0.003557\t|Test accuracy: 80.488851\t|Val accuracy: 81.099998 \n",
      "\n",
      "----COMPLETED TRAINING CLASSIFICATION-----\n",
      "val_acc 81.0999984741211\n",
      "ok\n"
     ]
    },
    {
     "data": {
      "text/html": [
       "Waiting for W&B process to finish... <strong style=\"color:green\">(success).</strong>"
      ],
      "text/plain": [
       "<IPython.core.display.HTML object>"
      ]
     },
     "metadata": {},
     "output_type": "display_data"
    },
    {
     "data": {
      "text/html": [
       "<style>\n",
       "    table.wandb td:nth-child(1) { padding: 0 10px; text-align: left ; width: auto;} td:nth-child(2) {text-align: left ; width: 100%}\n",
       "    .wandb-row { display: flex; flex-direction: row; flex-wrap: wrap; justify-content: flex-start; width: 100% }\n",
       "    .wandb-col { display: flex; flex-direction: column; flex-basis: 100%; flex: 1; padding: 10px; }\n",
       "    </style>\n",
       "<div class=\"wandb-row\"><div class=\"wandb-col\"><h3>Run history:</h3><br/><table class=\"wandb\"><tr><td>test_loss</td><td>█▆▅▄▃▃▃▃▁▂▃▂▃▃▃▂▃▃▃▁▃▃▃▃▁▂▁▃▂▃▁▁▃▃▁▁▂▂▁▂</td></tr><tr><td>train_loss</td><td>█▅▂▂▁▁▁▁▁▁▁▁▁▁▁▁▁▁▁▁▁▁▁▁▁▁▁▁▁▁▁▁▁▁▁▁▁▁▁▁</td></tr><tr><td>val_acc</td><td>▁</td></tr></table><br/></div><div class=\"wandb-col\"><h3>Run summary:</h3><br/><table class=\"wandb\"><tr><td>test_loss</td><td>0.00356</td></tr><tr><td>train_loss</td><td>0.00566</td></tr><tr><td>val_acc</td><td>93.03333</td></tr></table><br/></div></div>"
      ],
      "text/plain": [
       "<IPython.core.display.HTML object>"
      ]
     },
     "metadata": {},
     "output_type": "display_data"
    },
    {
     "data": {
      "text/html": [
       "Synced <strong style=\"color:#cdcd00\">firm-sweep-128</strong>: <a href=\"https://wandb.ai/maiquanh/quanh/runs/h173u3ad\" target=\"_blank\">https://wandb.ai/maiquanh/quanh/runs/h173u3ad</a><br/>Synced 6 W&B file(s), 0 media file(s), 0 artifact file(s) and 0 other file(s)"
      ],
      "text/plain": [
       "<IPython.core.display.HTML object>"
      ]
     },
     "metadata": {},
     "output_type": "display_data"
    },
    {
     "data": {
      "text/html": [
       "Find logs at: <code>./wandb/run-20221019_163219-h173u3ad/logs</code>"
      ],
      "text/plain": [
       "<IPython.core.display.HTML object>"
      ]
     },
     "metadata": {},
     "output_type": "display_data"
    },
    {
     "name": "stderr",
     "output_type": "stream",
     "text": [
      "\u001b[34m\u001b[1mwandb\u001b[0m: Sweep Agent: Waiting for job.\n",
      "\u001b[34m\u001b[1mwandb\u001b[0m: Job received.\n",
      "\u001b[34m\u001b[1mwandb\u001b[0m: Agent Starting Run: c3vegf9h with config:\n",
      "\u001b[34m\u001b[1mwandb\u001b[0m: \tbatch_size: 128\n",
      "\u001b[34m\u001b[1mwandb\u001b[0m: \td_hidden: 3\n",
      "\u001b[34m\u001b[1mwandb\u001b[0m: \tdata_dir: /home/quanhhh/Documents/model/pickle/\n",
      "\u001b[34m\u001b[1mwandb\u001b[0m: \tdropout: 0.16000284007113663\n",
      "\u001b[34m\u001b[1mwandb\u001b[0m: \tkernel_size_1: 89\n",
      "\u001b[34m\u001b[1mwandb\u001b[0m: \tkernel_size_2: 9\n",
      "\u001b[34m\u001b[1mwandb\u001b[0m: \tlr: 0.00024341381930826183\n",
      "\u001b[34m\u001b[1mwandb\u001b[0m: \tmaxpool_1: 8\n",
      "\u001b[34m\u001b[1mwandb\u001b[0m: \tmaxpool_2: 5\n",
      "\u001b[34m\u001b[1mwandb\u001b[0m: \tnum_epoch: 99\n",
      "\u001b[34m\u001b[1mwandb\u001b[0m: \tnum_filters: 38\n",
      "\u001b[34m\u001b[1mwandb\u001b[0m: \tnum_layers: 3\n",
      "\u001b[34m\u001b[1mwandb\u001b[0m: \tresult_dir: /home/quanhhh/Documents/model/result_wandb/\n",
      "\u001b[34m\u001b[1mwandb\u001b[0m: \tstride_1: 6\n",
      "\u001b[34m\u001b[1mwandb\u001b[0m: \tstride_2: 6\n",
      "\u001b[34m\u001b[1mwandb\u001b[0m: \tweight_decay: 0.0001822531090577088\n"
     ]
    },
    {
     "data": {
      "text/html": [
       "Tracking run with wandb version 0.13.4"
      ],
      "text/plain": [
       "<IPython.core.display.HTML object>"
      ]
     },
     "metadata": {},
     "output_type": "display_data"
    },
    {
     "data": {
      "text/html": [
       "Run data is saved locally in <code>/home/quanhhh/Documents/model/wandb/run-20221019_163506-c3vegf9h</code>"
      ],
      "text/plain": [
       "<IPython.core.display.HTML object>"
      ]
     },
     "metadata": {},
     "output_type": "display_data"
    },
    {
     "data": {
      "text/html": [
       "Syncing run <strong><a href=\"https://wandb.ai/maiquanh/quanh/runs/c3vegf9h\" target=\"_blank\">fluent-sweep-129</a></strong> to <a href=\"https://wandb.ai/maiquanh/quanh\" target=\"_blank\">Weights & Biases</a> (<a href=\"https://wandb.me/run\" target=\"_blank\">docs</a>)<br/>Sweep page:  <a href=\"https://wandb.ai/maiquanh/quanh/sweeps/8p4zr03y\" target=\"_blank\">https://wandb.ai/maiquanh/quanh/sweeps/8p4zr03y</a>"
      ],
      "text/plain": [
       "<IPython.core.display.HTML object>"
      ]
     },
     "metadata": {},
     "output_type": "display_data"
    },
    {
     "name": "stdout",
     "output_type": "stream",
     "text": [
      "-----START TRAINING CLASSIFICATION-----\n",
      "Epoch: 99\t| Train_loss: 0.005822\t|Train accuracy: 97.085202\t| Test_loss: 0.003459\t|Test accuracy: 84.777015\t|Val accuracy: 83.933334 \n",
      "\n",
      "----COMPLETED TRAINING CLASSIFICATION-----\n",
      "val_acc 83.93333435058594\n",
      "ok\n"
     ]
    },
    {
     "data": {
      "text/html": [
       "Waiting for W&B process to finish... <strong style=\"color:green\">(success).</strong>"
      ],
      "text/plain": [
       "<IPython.core.display.HTML object>"
      ]
     },
     "metadata": {},
     "output_type": "display_data"
    },
    {
     "data": {
      "text/html": [
       "<style>\n",
       "    table.wandb td:nth-child(1) { padding: 0 10px; text-align: left ; width: auto;} td:nth-child(2) {text-align: left ; width: 100%}\n",
       "    .wandb-row { display: flex; flex-direction: row; flex-wrap: wrap; justify-content: flex-start; width: 100% }\n",
       "    .wandb-col { display: flex; flex-direction: column; flex-basis: 100%; flex: 1; padding: 10px; }\n",
       "    </style>\n",
       "<div class=\"wandb-row\"><div class=\"wandb-col\"><h3>Run history:</h3><br/><table class=\"wandb\"><tr><td>test_loss</td><td>███▆▆▅▅▅▆▅▅▄▃▃▄▃▃▃▃▃▃▃▂▁▃▂▂▁▁▁▂▂▂▂▂▂▂▁▂▁</td></tr><tr><td>train_loss</td><td>██▇▇▆▆▆▅▅▄▄▃▃▃▃▃▃▃▂▂▂▂▂▂▂▂▂▂▂▂▂▂▁▂▁▁▁▁▁▁</td></tr><tr><td>val_acc</td><td>▁</td></tr></table><br/></div><div class=\"wandb-col\"><h3>Run summary:</h3><br/><table class=\"wandb\"><tr><td>test_loss</td><td>0.00346</td></tr><tr><td>train_loss</td><td>0.00582</td></tr><tr><td>val_acc</td><td>89.8</td></tr></table><br/></div></div>"
      ],
      "text/plain": [
       "<IPython.core.display.HTML object>"
      ]
     },
     "metadata": {},
     "output_type": "display_data"
    },
    {
     "data": {
      "text/html": [
       "Synced <strong style=\"color:#cdcd00\">fluent-sweep-129</strong>: <a href=\"https://wandb.ai/maiquanh/quanh/runs/c3vegf9h\" target=\"_blank\">https://wandb.ai/maiquanh/quanh/runs/c3vegf9h</a><br/>Synced 6 W&B file(s), 0 media file(s), 0 artifact file(s) and 0 other file(s)"
      ],
      "text/plain": [
       "<IPython.core.display.HTML object>"
      ]
     },
     "metadata": {},
     "output_type": "display_data"
    },
    {
     "data": {
      "text/html": [
       "Find logs at: <code>./wandb/run-20221019_163506-c3vegf9h/logs</code>"
      ],
      "text/plain": [
       "<IPython.core.display.HTML object>"
      ]
     },
     "metadata": {},
     "output_type": "display_data"
    },
    {
     "name": "stderr",
     "output_type": "stream",
     "text": [
      "\u001b[34m\u001b[1mwandb\u001b[0m: Agent Starting Run: h4uzaye7 with config:\n",
      "\u001b[34m\u001b[1mwandb\u001b[0m: \tbatch_size: 128\n",
      "\u001b[34m\u001b[1mwandb\u001b[0m: \td_hidden: 3\n",
      "\u001b[34m\u001b[1mwandb\u001b[0m: \tdata_dir: /home/quanhhh/Documents/model/pickle/\n",
      "\u001b[34m\u001b[1mwandb\u001b[0m: \tdropout: 0.1527364962199838\n",
      "\u001b[34m\u001b[1mwandb\u001b[0m: \tkernel_size_1: 98\n",
      "\u001b[34m\u001b[1mwandb\u001b[0m: \tkernel_size_2: 11\n",
      "\u001b[34m\u001b[1mwandb\u001b[0m: \tlr: 0.0008403326781556533\n",
      "\u001b[34m\u001b[1mwandb\u001b[0m: \tmaxpool_1: 8\n",
      "\u001b[34m\u001b[1mwandb\u001b[0m: \tmaxpool_2: 8\n",
      "\u001b[34m\u001b[1mwandb\u001b[0m: \tnum_epoch: 88\n",
      "\u001b[34m\u001b[1mwandb\u001b[0m: \tnum_filters: 26\n",
      "\u001b[34m\u001b[1mwandb\u001b[0m: \tnum_layers: 3\n",
      "\u001b[34m\u001b[1mwandb\u001b[0m: \tresult_dir: /home/quanhhh/Documents/model/result_wandb/\n",
      "\u001b[34m\u001b[1mwandb\u001b[0m: \tstride_1: 3\n",
      "\u001b[34m\u001b[1mwandb\u001b[0m: \tstride_2: 4\n",
      "\u001b[34m\u001b[1mwandb\u001b[0m: \tweight_decay: 0.00010633825826629256\n"
     ]
    },
    {
     "data": {
      "text/html": [
       "Tracking run with wandb version 0.13.4"
      ],
      "text/plain": [
       "<IPython.core.display.HTML object>"
      ]
     },
     "metadata": {},
     "output_type": "display_data"
    },
    {
     "data": {
      "text/html": [
       "Run data is saved locally in <code>/home/quanhhh/Documents/model/wandb/run-20221019_163847-h4uzaye7</code>"
      ],
      "text/plain": [
       "<IPython.core.display.HTML object>"
      ]
     },
     "metadata": {},
     "output_type": "display_data"
    },
    {
     "data": {
      "text/html": [
       "Syncing run <strong><a href=\"https://wandb.ai/maiquanh/quanh/runs/h4uzaye7\" target=\"_blank\">deft-sweep-130</a></strong> to <a href=\"https://wandb.ai/maiquanh/quanh\" target=\"_blank\">Weights & Biases</a> (<a href=\"https://wandb.me/run\" target=\"_blank\">docs</a>)<br/>Sweep page:  <a href=\"https://wandb.ai/maiquanh/quanh/sweeps/8p4zr03y\" target=\"_blank\">https://wandb.ai/maiquanh/quanh/sweeps/8p4zr03y</a>"
      ],
      "text/plain": [
       "<IPython.core.display.HTML object>"
      ]
     },
     "metadata": {},
     "output_type": "display_data"
    },
    {
     "name": "stdout",
     "output_type": "stream",
     "text": [
      "-----START TRAINING CLASSIFICATION-----\n",
      "Epoch: 88\t| Train_loss: 0.005653\t|Train accuracy: 98.562385\t| Test_loss: 0.003136\t|Test accuracy: 95.154374\t|Val accuracy: 94.666664 \n",
      "\n",
      "----COMPLETED TRAINING CLASSIFICATION-----\n",
      "val_acc 94.66666412353516\n",
      "ok\n"
     ]
    },
    {
     "data": {
      "text/html": [
       "Waiting for W&B process to finish... <strong style=\"color:green\">(success).</strong>"
      ],
      "text/plain": [
       "<IPython.core.display.HTML object>"
      ]
     },
     "metadata": {},
     "output_type": "display_data"
    },
    {
     "data": {
      "text/html": [
       "<style>\n",
       "    table.wandb td:nth-child(1) { padding: 0 10px; text-align: left ; width: auto;} td:nth-child(2) {text-align: left ; width: 100%}\n",
       "    .wandb-row { display: flex; flex-direction: row; flex-wrap: wrap; justify-content: flex-start; width: 100% }\n",
       "    .wandb-col { display: flex; flex-direction: column; flex-basis: 100%; flex: 1; padding: 10px; }\n",
       "    </style>\n",
       "<div class=\"wandb-row\"><div class=\"wandb-col\"><h3>Run history:</h3><br/><table class=\"wandb\"><tr><td>test_loss</td><td>█▇▆▅▅▄▃▃▂▂▃▃▂▁▁▂▂▁▂▂▁▃▂▁▁▁▁▁▁▂▁▁▁▂▂▁▁▁▂▁</td></tr><tr><td>train_loss</td><td>█▆▅▅▄▃▂▂▁▁▁▁▁▁▁▁▁▁▁▁▁▁▁▁▁▁▁▁▁▁▁▁▁▁▁▁▁▁▁▁</td></tr><tr><td>val_acc</td><td>▁</td></tr></table><br/></div><div class=\"wandb-col\"><h3>Run summary:</h3><br/><table class=\"wandb\"><tr><td>test_loss</td><td>0.00314</td></tr><tr><td>train_loss</td><td>0.00565</td></tr><tr><td>val_acc</td><td>95.16666</td></tr></table><br/></div></div>"
      ],
      "text/plain": [
       "<IPython.core.display.HTML object>"
      ]
     },
     "metadata": {},
     "output_type": "display_data"
    },
    {
     "data": {
      "text/html": [
       "Synced <strong style=\"color:#cdcd00\">deft-sweep-130</strong>: <a href=\"https://wandb.ai/maiquanh/quanh/runs/h4uzaye7\" target=\"_blank\">https://wandb.ai/maiquanh/quanh/runs/h4uzaye7</a><br/>Synced 6 W&B file(s), 0 media file(s), 0 artifact file(s) and 0 other file(s)"
      ],
      "text/plain": [
       "<IPython.core.display.HTML object>"
      ]
     },
     "metadata": {},
     "output_type": "display_data"
    },
    {
     "data": {
      "text/html": [
       "Find logs at: <code>./wandb/run-20221019_163847-h4uzaye7/logs</code>"
      ],
      "text/plain": [
       "<IPython.core.display.HTML object>"
      ]
     },
     "metadata": {},
     "output_type": "display_data"
    },
    {
     "name": "stderr",
     "output_type": "stream",
     "text": [
      "\u001b[34m\u001b[1mwandb\u001b[0m: Agent Starting Run: 8k3wqmiz with config:\n",
      "\u001b[34m\u001b[1mwandb\u001b[0m: \tbatch_size: 128\n",
      "\u001b[34m\u001b[1mwandb\u001b[0m: \td_hidden: 3\n",
      "\u001b[34m\u001b[1mwandb\u001b[0m: \tdata_dir: /home/quanhhh/Documents/model/pickle/\n",
      "\u001b[34m\u001b[1mwandb\u001b[0m: \tdropout: 0.16787850369649154\n",
      "\u001b[34m\u001b[1mwandb\u001b[0m: \tkernel_size_1: 60\n",
      "\u001b[34m\u001b[1mwandb\u001b[0m: \tkernel_size_2: 11\n",
      "\u001b[34m\u001b[1mwandb\u001b[0m: \tlr: 0.0010787279715131375\n",
      "\u001b[34m\u001b[1mwandb\u001b[0m: \tmaxpool_1: 5\n",
      "\u001b[34m\u001b[1mwandb\u001b[0m: \tmaxpool_2: 6\n",
      "\u001b[34m\u001b[1mwandb\u001b[0m: \tnum_epoch: 93\n",
      "\u001b[34m\u001b[1mwandb\u001b[0m: \tnum_filters: 45\n",
      "\u001b[34m\u001b[1mwandb\u001b[0m: \tnum_layers: 2\n",
      "\u001b[34m\u001b[1mwandb\u001b[0m: \tresult_dir: /home/quanhhh/Documents/model/result_wandb/\n",
      "\u001b[34m\u001b[1mwandb\u001b[0m: \tstride_1: 6\n",
      "\u001b[34m\u001b[1mwandb\u001b[0m: \tstride_2: 7\n",
      "\u001b[34m\u001b[1mwandb\u001b[0m: \tweight_decay: 0.0002151819982980875\n"
     ]
    },
    {
     "data": {
      "text/html": [
       "Tracking run with wandb version 0.13.4"
      ],
      "text/plain": [
       "<IPython.core.display.HTML object>"
      ]
     },
     "metadata": {},
     "output_type": "display_data"
    },
    {
     "data": {
      "text/html": [
       "Run data is saved locally in <code>/home/quanhhh/Documents/model/wandb/run-20221019_164233-8k3wqmiz</code>"
      ],
      "text/plain": [
       "<IPython.core.display.HTML object>"
      ]
     },
     "metadata": {},
     "output_type": "display_data"
    },
    {
     "data": {
      "text/html": [
       "Syncing run <strong><a href=\"https://wandb.ai/maiquanh/quanh/runs/8k3wqmiz\" target=\"_blank\">glowing-sweep-131</a></strong> to <a href=\"https://wandb.ai/maiquanh/quanh\" target=\"_blank\">Weights & Biases</a> (<a href=\"https://wandb.me/run\" target=\"_blank\">docs</a>)<br/>Sweep page:  <a href=\"https://wandb.ai/maiquanh/quanh/sweeps/8p4zr03y\" target=\"_blank\">https://wandb.ai/maiquanh/quanh/sweeps/8p4zr03y</a>"
      ],
      "text/plain": [
       "<IPython.core.display.HTML object>"
      ]
     },
     "metadata": {},
     "output_type": "display_data"
    },
    {
     "name": "stdout",
     "output_type": "stream",
     "text": [
      "-----START TRAINING CLASSIFICATION-----\n",
      "Epoch: 93\t| Train_loss: 0.005608\t|Train accuracy: 99.248219\t| Test_loss: 0.003184\t|Test accuracy: 94.897084\t|Val accuracy: 92.066666 \n",
      "\n",
      "----COMPLETED TRAINING CLASSIFICATION-----\n",
      "val_acc 92.06666564941406\n",
      "ok\n"
     ]
    },
    {
     "data": {
      "text/html": [
       "Waiting for W&B process to finish... <strong style=\"color:green\">(success).</strong>"
      ],
      "text/plain": [
       "<IPython.core.display.HTML object>"
      ]
     },
     "metadata": {},
     "output_type": "display_data"
    },
    {
     "data": {
      "text/html": [
       "<style>\n",
       "    table.wandb td:nth-child(1) { padding: 0 10px; text-align: left ; width: auto;} td:nth-child(2) {text-align: left ; width: 100%}\n",
       "    .wandb-row { display: flex; flex-direction: row; flex-wrap: wrap; justify-content: flex-start; width: 100% }\n",
       "    .wandb-col { display: flex; flex-direction: column; flex-basis: 100%; flex: 1; padding: 10px; }\n",
       "    </style>\n",
       "<div class=\"wandb-row\"><div class=\"wandb-col\"><h3>Run history:</h3><br/><table class=\"wandb\"><tr><td>test_loss</td><td>█▆▅▄▅▄▃▄▃▃▃▁▃▂▂▂▂▃▂▁▁▁▂▃▄▂▂▁▁▁▂▁▁▂▂▂▂▁▂▁</td></tr><tr><td>train_loss</td><td>█▆▄▃▂▂▂▂▁▁▁▁▁▁▁▁▁▁▁▁▁▁▁▁▁▁▁▁▁▁▁▁▁▁▁▁▁▁▁▁</td></tr><tr><td>val_acc</td><td>▁</td></tr></table><br/></div><div class=\"wandb-col\"><h3>Run summary:</h3><br/><table class=\"wandb\"><tr><td>test_loss</td><td>0.00318</td></tr><tr><td>train_loss</td><td>0.00561</td></tr><tr><td>val_acc</td><td>94.36667</td></tr></table><br/></div></div>"
      ],
      "text/plain": [
       "<IPython.core.display.HTML object>"
      ]
     },
     "metadata": {},
     "output_type": "display_data"
    },
    {
     "data": {
      "text/html": [
       "Synced <strong style=\"color:#cdcd00\">glowing-sweep-131</strong>: <a href=\"https://wandb.ai/maiquanh/quanh/runs/8k3wqmiz\" target=\"_blank\">https://wandb.ai/maiquanh/quanh/runs/8k3wqmiz</a><br/>Synced 6 W&B file(s), 0 media file(s), 0 artifact file(s) and 0 other file(s)"
      ],
      "text/plain": [
       "<IPython.core.display.HTML object>"
      ]
     },
     "metadata": {},
     "output_type": "display_data"
    },
    {
     "data": {
      "text/html": [
       "Find logs at: <code>./wandb/run-20221019_164233-8k3wqmiz/logs</code>"
      ],
      "text/plain": [
       "<IPython.core.display.HTML object>"
      ]
     },
     "metadata": {},
     "output_type": "display_data"
    },
    {
     "name": "stderr",
     "output_type": "stream",
     "text": [
      "\u001b[34m\u001b[1mwandb\u001b[0m: Sweep Agent: Waiting for job.\n",
      "\u001b[34m\u001b[1mwandb\u001b[0m: Job received.\n",
      "\u001b[34m\u001b[1mwandb\u001b[0m: Agent Starting Run: yv6klu77 with config:\n",
      "\u001b[34m\u001b[1mwandb\u001b[0m: \tbatch_size: 128\n",
      "\u001b[34m\u001b[1mwandb\u001b[0m: \td_hidden: 3\n",
      "\u001b[34m\u001b[1mwandb\u001b[0m: \tdata_dir: /home/quanhhh/Documents/model/pickle/\n",
      "\u001b[34m\u001b[1mwandb\u001b[0m: \tdropout: 0.1803175663681562\n",
      "\u001b[34m\u001b[1mwandb\u001b[0m: \tkernel_size_1: 89\n",
      "\u001b[34m\u001b[1mwandb\u001b[0m: \tkernel_size_2: 10\n",
      "\u001b[34m\u001b[1mwandb\u001b[0m: \tlr: 0.0003050349410015009\n",
      "\u001b[34m\u001b[1mwandb\u001b[0m: \tmaxpool_1: 8\n",
      "\u001b[34m\u001b[1mwandb\u001b[0m: \tmaxpool_2: 4\n",
      "\u001b[34m\u001b[1mwandb\u001b[0m: \tnum_epoch: 84\n",
      "\u001b[34m\u001b[1mwandb\u001b[0m: \tnum_filters: 44\n",
      "\u001b[34m\u001b[1mwandb\u001b[0m: \tnum_layers: 3\n",
      "\u001b[34m\u001b[1mwandb\u001b[0m: \tresult_dir: /home/quanhhh/Documents/model/result_wandb/\n",
      "\u001b[34m\u001b[1mwandb\u001b[0m: \tstride_1: 7\n",
      "\u001b[34m\u001b[1mwandb\u001b[0m: \tstride_2: 5\n",
      "\u001b[34m\u001b[1mwandb\u001b[0m: \tweight_decay: 0.0002327059549435971\n"
     ]
    },
    {
     "data": {
      "text/html": [
       "Tracking run with wandb version 0.13.4"
      ],
      "text/plain": [
       "<IPython.core.display.HTML object>"
      ]
     },
     "metadata": {},
     "output_type": "display_data"
    },
    {
     "data": {
      "text/html": [
       "Run data is saved locally in <code>/home/quanhhh/Documents/model/wandb/run-20221019_164602-yv6klu77</code>"
      ],
      "text/plain": [
       "<IPython.core.display.HTML object>"
      ]
     },
     "metadata": {},
     "output_type": "display_data"
    },
    {
     "data": {
      "text/html": [
       "Syncing run <strong><a href=\"https://wandb.ai/maiquanh/quanh/runs/yv6klu77\" target=\"_blank\">flowing-sweep-132</a></strong> to <a href=\"https://wandb.ai/maiquanh/quanh\" target=\"_blank\">Weights & Biases</a> (<a href=\"https://wandb.me/run\" target=\"_blank\">docs</a>)<br/>Sweep page:  <a href=\"https://wandb.ai/maiquanh/quanh/sweeps/8p4zr03y\" target=\"_blank\">https://wandb.ai/maiquanh/quanh/sweeps/8p4zr03y</a>"
      ],
      "text/plain": [
       "<IPython.core.display.HTML object>"
      ]
     },
     "metadata": {},
     "output_type": "display_data"
    },
    {
     "name": "stdout",
     "output_type": "stream",
     "text": [
      "-----START TRAINING CLASSIFICATION-----\n",
      "Epoch: 84\t| Train_loss: 0.005661\t|Train accuracy: 98.931680\t| Test_loss: 0.003207\t|Test accuracy: 95.283019\t|Val accuracy: 84.500000 \n",
      "\n",
      "----COMPLETED TRAINING CLASSIFICATION-----\n",
      "val_acc 84.5\n",
      "ok\n"
     ]
    },
    {
     "data": {
      "text/html": [
       "Waiting for W&B process to finish... <strong style=\"color:green\">(success).</strong>"
      ],
      "text/plain": [
       "<IPython.core.display.HTML object>"
      ]
     },
     "metadata": {},
     "output_type": "display_data"
    },
    {
     "data": {
      "text/html": [
       "<style>\n",
       "    table.wandb td:nth-child(1) { padding: 0 10px; text-align: left ; width: auto;} td:nth-child(2) {text-align: left ; width: 100%}\n",
       "    .wandb-row { display: flex; flex-direction: row; flex-wrap: wrap; justify-content: flex-start; width: 100% }\n",
       "    .wandb-col { display: flex; flex-direction: column; flex-basis: 100%; flex: 1; padding: 10px; }\n",
       "    </style>\n",
       "<div class=\"wandb-row\"><div class=\"wandb-col\"><h3>Run history:</h3><br/><table class=\"wandb\"><tr><td>test_loss</td><td>██▇▆▆▆▅▅▅▄▅▃▃▃▃▃▃▂▃▂▃▂▅▃▂▂▃▁▄▃▂▁▁▁▁▁▂▁▁▁</td></tr><tr><td>train_loss</td><td>██▇▆▆▅▅▅▅▄▄▃▃▂▂▂▂▂▂▂▂▁▁▂▁▁▁▁▁▁▁▁▁▁▁▁▁▁▁▁</td></tr><tr><td>val_acc</td><td>▁</td></tr></table><br/></div><div class=\"wandb-col\"><h3>Run summary:</h3><br/><table class=\"wandb\"><tr><td>test_loss</td><td>0.00321</td></tr><tr><td>train_loss</td><td>0.00566</td></tr><tr><td>val_acc</td><td>93.76666</td></tr></table><br/></div></div>"
      ],
      "text/plain": [
       "<IPython.core.display.HTML object>"
      ]
     },
     "metadata": {},
     "output_type": "display_data"
    },
    {
     "data": {
      "text/html": [
       "Synced <strong style=\"color:#cdcd00\">flowing-sweep-132</strong>: <a href=\"https://wandb.ai/maiquanh/quanh/runs/yv6klu77\" target=\"_blank\">https://wandb.ai/maiquanh/quanh/runs/yv6klu77</a><br/>Synced 6 W&B file(s), 0 media file(s), 0 artifact file(s) and 0 other file(s)"
      ],
      "text/plain": [
       "<IPython.core.display.HTML object>"
      ]
     },
     "metadata": {},
     "output_type": "display_data"
    },
    {
     "data": {
      "text/html": [
       "Find logs at: <code>./wandb/run-20221019_164602-yv6klu77/logs</code>"
      ],
      "text/plain": [
       "<IPython.core.display.HTML object>"
      ]
     },
     "metadata": {},
     "output_type": "display_data"
    },
    {
     "name": "stderr",
     "output_type": "stream",
     "text": [
      "\u001b[34m\u001b[1mwandb\u001b[0m: Agent Starting Run: 191noc85 with config:\n",
      "\u001b[34m\u001b[1mwandb\u001b[0m: \tbatch_size: 128\n",
      "\u001b[34m\u001b[1mwandb\u001b[0m: \td_hidden: 3\n",
      "\u001b[34m\u001b[1mwandb\u001b[0m: \tdata_dir: /home/quanhhh/Documents/model/pickle/\n",
      "\u001b[34m\u001b[1mwandb\u001b[0m: \tdropout: 0.1504667118819048\n",
      "\u001b[34m\u001b[1mwandb\u001b[0m: \tkernel_size_1: 86\n",
      "\u001b[34m\u001b[1mwandb\u001b[0m: \tkernel_size_2: 10\n",
      "\u001b[34m\u001b[1mwandb\u001b[0m: \tlr: 0.0003650327075865867\n",
      "\u001b[34m\u001b[1mwandb\u001b[0m: \tmaxpool_1: 8\n",
      "\u001b[34m\u001b[1mwandb\u001b[0m: \tmaxpool_2: 4\n",
      "\u001b[34m\u001b[1mwandb\u001b[0m: \tnum_epoch: 99\n",
      "\u001b[34m\u001b[1mwandb\u001b[0m: \tnum_filters: 49\n",
      "\u001b[34m\u001b[1mwandb\u001b[0m: \tnum_layers: 3\n",
      "\u001b[34m\u001b[1mwandb\u001b[0m: \tresult_dir: /home/quanhhh/Documents/model/result_wandb/\n",
      "\u001b[34m\u001b[1mwandb\u001b[0m: \tstride_1: 3\n",
      "\u001b[34m\u001b[1mwandb\u001b[0m: \tstride_2: 3\n",
      "\u001b[34m\u001b[1mwandb\u001b[0m: \tweight_decay: 0.0002276592128066813\n"
     ]
    },
    {
     "data": {
      "text/html": [
       "Tracking run with wandb version 0.13.4"
      ],
      "text/plain": [
       "<IPython.core.display.HTML object>"
      ]
     },
     "metadata": {},
     "output_type": "display_data"
    },
    {
     "data": {
      "text/html": [
       "Run data is saved locally in <code>/home/quanhhh/Documents/model/wandb/run-20221019_164855-191noc85</code>"
      ],
      "text/plain": [
       "<IPython.core.display.HTML object>"
      ]
     },
     "metadata": {},
     "output_type": "display_data"
    },
    {
     "data": {
      "text/html": [
       "Syncing run <strong><a href=\"https://wandb.ai/maiquanh/quanh/runs/191noc85\" target=\"_blank\">true-sweep-133</a></strong> to <a href=\"https://wandb.ai/maiquanh/quanh\" target=\"_blank\">Weights & Biases</a> (<a href=\"https://wandb.me/run\" target=\"_blank\">docs</a>)<br/>Sweep page:  <a href=\"https://wandb.ai/maiquanh/quanh/sweeps/8p4zr03y\" target=\"_blank\">https://wandb.ai/maiquanh/quanh/sweeps/8p4zr03y</a>"
      ],
      "text/plain": [
       "<IPython.core.display.HTML object>"
      ]
     },
     "metadata": {},
     "output_type": "display_data"
    },
    {
     "name": "stdout",
     "output_type": "stream",
     "text": [
      "-----START TRAINING CLASSIFICATION-----\n",
      "Epoch: 99\t| Train_loss: 0.005872\t|Train accuracy: 88.301240\t| Test_loss: 0.003880\t|Test accuracy: 74.228130\t|Val accuracy: 85.566666 \n",
      "\n",
      "----COMPLETED TRAINING CLASSIFICATION-----\n",
      "val_acc 85.56666564941406\n",
      "ok\n"
     ]
    },
    {
     "data": {
      "text/html": [
       "Waiting for W&B process to finish... <strong style=\"color:green\">(success).</strong>"
      ],
      "text/plain": [
       "<IPython.core.display.HTML object>"
      ]
     },
     "metadata": {},
     "output_type": "display_data"
    },
    {
     "data": {
      "text/html": [
       "<style>\n",
       "    table.wandb td:nth-child(1) { padding: 0 10px; text-align: left ; width: auto;} td:nth-child(2) {text-align: left ; width: 100%}\n",
       "    .wandb-row { display: flex; flex-direction: row; flex-wrap: wrap; justify-content: flex-start; width: 100% }\n",
       "    .wandb-col { display: flex; flex-direction: column; flex-basis: 100%; flex: 1; padding: 10px; }\n",
       "    </style>\n",
       "<div class=\"wandb-row\"><div class=\"wandb-col\"><h3>Run history:</h3><br/><table class=\"wandb\"><tr><td>test_loss</td><td>██▇▆▅▅▅▅▅▄▅▄▄▃▃▂▂▂▂▂▁▂▂▁▃▁▁▁▁▁▁▁▁▁▁▁▁▂▁▄</td></tr><tr><td>train_loss</td><td>██▆▆▅▄▄▄▄▄▃▃▃▃▂▂▂▁▁▂▁▁▁▁▁▁▁▁▁▁▁▁▁▁▁▁▁▁▁▁</td></tr><tr><td>val_acc</td><td>▁</td></tr></table><br/></div><div class=\"wandb-col\"><h3>Run summary:</h3><br/><table class=\"wandb\"><tr><td>test_loss</td><td>0.00388</td></tr><tr><td>train_loss</td><td>0.00587</td></tr><tr><td>val_acc</td><td>96.26666</td></tr></table><br/></div></div>"
      ],
      "text/plain": [
       "<IPython.core.display.HTML object>"
      ]
     },
     "metadata": {},
     "output_type": "display_data"
    },
    {
     "data": {
      "text/html": [
       "Synced <strong style=\"color:#cdcd00\">true-sweep-133</strong>: <a href=\"https://wandb.ai/maiquanh/quanh/runs/191noc85\" target=\"_blank\">https://wandb.ai/maiquanh/quanh/runs/191noc85</a><br/>Synced 6 W&B file(s), 0 media file(s), 0 artifact file(s) and 0 other file(s)"
      ],
      "text/plain": [
       "<IPython.core.display.HTML object>"
      ]
     },
     "metadata": {},
     "output_type": "display_data"
    },
    {
     "data": {
      "text/html": [
       "Find logs at: <code>./wandb/run-20221019_164855-191noc85/logs</code>"
      ],
      "text/plain": [
       "<IPython.core.display.HTML object>"
      ]
     },
     "metadata": {},
     "output_type": "display_data"
    },
    {
     "name": "stderr",
     "output_type": "stream",
     "text": [
      "\u001b[34m\u001b[1mwandb\u001b[0m: Agent Starting Run: hdff717y with config:\n",
      "\u001b[34m\u001b[1mwandb\u001b[0m: \tbatch_size: 128\n",
      "\u001b[34m\u001b[1mwandb\u001b[0m: \td_hidden: 3\n",
      "\u001b[34m\u001b[1mwandb\u001b[0m: \tdata_dir: /home/quanhhh/Documents/model/pickle/\n",
      "\u001b[34m\u001b[1mwandb\u001b[0m: \tdropout: 0.1647682081841993\n",
      "\u001b[34m\u001b[1mwandb\u001b[0m: \tkernel_size_1: 81\n",
      "\u001b[34m\u001b[1mwandb\u001b[0m: \tkernel_size_2: 7\n",
      "\u001b[34m\u001b[1mwandb\u001b[0m: \tlr: 0.0003541196588349586\n",
      "\u001b[34m\u001b[1mwandb\u001b[0m: \tmaxpool_1: 5\n",
      "\u001b[34m\u001b[1mwandb\u001b[0m: \tmaxpool_2: 5\n",
      "\u001b[34m\u001b[1mwandb\u001b[0m: \tnum_epoch: 90\n",
      "\u001b[34m\u001b[1mwandb\u001b[0m: \tnum_filters: 57\n",
      "\u001b[34m\u001b[1mwandb\u001b[0m: \tnum_layers: 3\n",
      "\u001b[34m\u001b[1mwandb\u001b[0m: \tresult_dir: /home/quanhhh/Documents/model/result_wandb/\n",
      "\u001b[34m\u001b[1mwandb\u001b[0m: \tstride_1: 6\n",
      "\u001b[34m\u001b[1mwandb\u001b[0m: \tstride_2: 7\n",
      "\u001b[34m\u001b[1mwandb\u001b[0m: \tweight_decay: 0.00016109075997227133\n"
     ]
    },
    {
     "data": {
      "text/html": [
       "Tracking run with wandb version 0.13.4"
      ],
      "text/plain": [
       "<IPython.core.display.HTML object>"
      ]
     },
     "metadata": {},
     "output_type": "display_data"
    },
    {
     "data": {
      "text/html": [
       "Run data is saved locally in <code>/home/quanhhh/Documents/model/wandb/run-20221019_165605-hdff717y</code>"
      ],
      "text/plain": [
       "<IPython.core.display.HTML object>"
      ]
     },
     "metadata": {},
     "output_type": "display_data"
    },
    {
     "data": {
      "text/html": [
       "Syncing run <strong><a href=\"https://wandb.ai/maiquanh/quanh/runs/hdff717y\" target=\"_blank\">legendary-sweep-134</a></strong> to <a href=\"https://wandb.ai/maiquanh/quanh\" target=\"_blank\">Weights & Biases</a> (<a href=\"https://wandb.me/run\" target=\"_blank\">docs</a>)<br/>Sweep page:  <a href=\"https://wandb.ai/maiquanh/quanh/sweeps/8p4zr03y\" target=\"_blank\">https://wandb.ai/maiquanh/quanh/sweeps/8p4zr03y</a>"
      ],
      "text/plain": [
       "<IPython.core.display.HTML object>"
      ]
     },
     "metadata": {},
     "output_type": "display_data"
    },
    {
     "name": "stdout",
     "output_type": "stream",
     "text": [
      "-----START TRAINING CLASSIFICATION-----\n",
      "Epoch: 16\t| Train_loss: 0.006628\t|Train accuracy: 87.641783\t| Test_loss: 0.003996\t|Test accuracy: 71.183533\t|Val accuracy: 65.599998 \r"
     ]
    }
   ],
   "source": [
    "wandb.agent(sweep_id, trainwandb, count=1000)"
   ]
  },
  {
   "cell_type": "code",
   "execution_count": null,
   "id": "fc780f9d",
   "metadata": {},
   "outputs": [],
   "source": []
  }
 ],
 "metadata": {
  "kernelspec": {
   "display_name": "Python 3 (ipykernel)",
   "language": "python",
   "name": "python3"
  },
  "language_info": {
   "codemirror_mode": {
    "name": "ipython",
    "version": 3
   },
   "file_extension": ".py",
   "mimetype": "text/x-python",
   "name": "python",
   "nbconvert_exporter": "python",
   "pygments_lexer": "ipython3",
   "version": "3.10.4"
  }
 },
 "nbformat": 4,
 "nbformat_minor": 5
}
